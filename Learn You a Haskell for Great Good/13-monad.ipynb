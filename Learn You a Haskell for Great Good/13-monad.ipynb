{
 "cells": [
  {
   "cell_type": "markdown",
   "id": "7c59b596-e8ec-4a90-914f-f3c245198061",
   "metadata": {},
   "source": [
    "# Monad\n",
    "\n",
    "Functor => Applicative => Monad"
   ]
  },
  {
   "cell_type": "code",
   "execution_count": 3,
   "id": "c8cfee87-ecd0-4060-8daf-df48fa80d236",
   "metadata": {},
   "outputs": [
    {
     "data": {
      "text/plain": [
       "Just 16"
      ]
     },
     "metadata": {},
     "output_type": "display_data"
    },
    {
     "data": {
      "text/plain": [
       "Nothing"
      ]
     },
     "metadata": {},
     "output_type": "display_data"
    },
    {
     "data": {
      "text/plain": [
       "[2,1,0,3,2,1]"
      ]
     },
     "metadata": {},
     "output_type": "display_data"
    }
   ],
   "source": [
    "(*) <$> Just 2 <*> Just 8\n",
    "(++) <$> Just \"klingon\" <*> Nothing\n",
    "(-) <$> [3,4] <*> [1,2,3]  "
   ]
  },
  {
   "cell_type": "code",
   "execution_count": null,
   "id": "94bd8863-ce4b-4d95-8e32-aededeb7ec9f",
   "metadata": {},
   "outputs": [],
   "source": [
    "(>>=) :: (Monad m) => m a -> (a -> m b) -> m b\n",
    "-- m a (m이라는 컨텍스트로 싸인 a 값에)\n",
    "-- (a -> m b) (함수를 적용하고 싶다면)\n",
    "\n",
    "-- m 컨텍스트는 모나드여야한다"
   ]
  },
  {
   "cell_type": "markdown",
   "id": "a357db94-137e-444e-bd66-f9fd4de4a7c9",
   "metadata": {},
   "source": [
    "1) 컨텍스트로 꾸며진 값과 \n",
    "2) 일반적인 값을 전달받아서 반환하는 함수가 있을 때\n",
    "\n",
    "**그 함수에 꾸며진 값을 어떻게 전달할까? (어떻게 컨텍스트를 벗겨서 전달할까?)**"
   ]
  },
  {
   "cell_type": "markdown",
   "id": "9c5bfc12-f475-41f1-a70e-7119406aac31",
   "metadata": {},
   "source": [
    "다만, 모나드는 단지 >>= 를 지원하는 Applicative Functor 일 뿐이다.\n",
    "\n",
    "`>>=` 함수는 bind라고 불린다"
   ]
  },
  {
   "cell_type": "markdown",
   "id": "35e66740-3209-4987-b66a-af27ad71c501",
   "metadata": {},
   "source": [
    "## With Maybe\n",
    "\n",
    "Maybe는 모나드이다"
   ]
  },
  {
   "cell_type": "code",
   "execution_count": 5,
   "id": "f7f611d4-8adb-4feb-920d-28d7018ecbc2",
   "metadata": {},
   "outputs": [
    {
     "data": {
      "text/plain": [
       "Just \"wisdom!\""
      ]
     },
     "metadata": {},
     "output_type": "display_data"
    },
    {
     "data": {
      "text/plain": [
       "Nothing"
      ]
     },
     "metadata": {},
     "output_type": "display_data"
    }
   ],
   "source": [
    "fmap (++\"!\") (Just \"wisdom\")  \n",
    "fmap (++\"!\") Nothing  \n",
    "\n",
    "-- Nothing에는 함수가 매핑되지 않는다. 왜냐하면 매핑될 것이 없기 때문이다"
   ]
  },
  {
   "cell_type": "code",
   "execution_count": 7,
   "id": "3618e915-ba69-4563-ada2-bc7f9108f30a",
   "metadata": {},
   "outputs": [
    {
     "data": {
      "text/plain": [
       "Just 6"
      ]
     },
     "metadata": {},
     "output_type": "display_data"
    },
    {
     "data": {
      "text/plain": [
       "Nothing"
      ]
     },
     "metadata": {},
     "output_type": "display_data"
    },
    {
     "ename": "",
     "evalue": "",
     "header": "MessageHeader {mhIdentifiers = [\"5b82dbe1-0d0f-4d9a-b947-8e32bd47ce19\"], mhParentHeader = Just (MessageHeader {mhIdentifiers = [\"5b82dbe1-0d0f-4d9a-b947-8e32bd47ce19\"], mhParentHeader = Nothing, mhMetadata = Metadata (fromList [(\"recordTiming\",Bool False),(\"deletedCells\",Array []),(\"cellId\",String \"3618e915-ba69-4563-ada2-bc7f9108f30a\")]), mhMessageId = UUID {uuidToString = \"ff22ed69-17ef-41c2-85eb-adff9d89d1be\"}, mhSessionId = UUID {uuidToString = \"5b82dbe1-0d0f-4d9a-b947-8e32bd47ce19\"}, mhUsername = \"\", mhMsgType = ExecuteRequestMessage, mhBuffers = []}), mhMetadata = Metadata (fromList []), mhMessageId = UUID {uuidToString = \"4750d243-f67c-419a-9f08-79181ae54224\"}, mhSessionId = UUID {uuidToString = \"5b82dbe1-0d0f-4d9a-b947-8e32bd47ce19\"}, mhUsername = \"\", mhMsgType = ExecuteErrorMessage, mhBuffers = []}",
     "output_type": "error",
     "traceback": [
      "<interactive>:1:6: error:\n    • Variable not in scope: ord :: a0 -> b\n    • Perhaps you meant one of these: ‘or’ (imported from Prelude), ‘odd’ (imported from Prelude)"
     ]
    }
   ],
   "source": [
    "Just (+3) <*> Just 3  \n",
    "Nothing <*> Just \"greed\"  \n",
    "Just ord <*> Nothing"
   ]
  },
  {
   "cell_type": "code",
   "execution_count": 8,
   "id": "33357109-0ea8-4c07-9c11-69a666267179",
   "metadata": {},
   "outputs": [
    {
     "data": {
      "text/plain": [
       "Just 6"
      ]
     },
     "metadata": {},
     "output_type": "display_data"
    },
    {
     "data": {
      "text/plain": [
       "Nothing"
      ]
     },
     "metadata": {},
     "output_type": "display_data"
    }
   ],
   "source": [
    "-- Maybe는 또한 어플리커티브 펑터로써, 함수를 적용할수 없을 때 실패함을 알려야한다.\n",
    "max <$> Just 3 <*> Just 6  \n",
    "max <$> Just 3 <*> Nothing  "
   ]
  },
  {
   "cell_type": "code",
   "execution_count": 15,
   "id": "e1ba805e-a321-4b49-84ab-92f2145e5a03",
   "metadata": {},
   "outputs": [
    {
     "data": {
      "text/plain": [
       "Just 2"
      ]
     },
     "metadata": {},
     "output_type": "display_data"
    },
    {
     "data": {
      "text/plain": [
       "Just 101"
      ]
     },
     "metadata": {},
     "output_type": "display_data"
    }
   ],
   "source": [
    "(\\x -> Just (x+1)) 1\n",
    "(\\x -> Just (x+1)) 100\n",
    "-- (a -> m b) 타입 함수"
   ]
  },
  {
   "cell_type": "code",
   "execution_count": 16,
   "id": "2c304bd1-5416-414b-a583-942f3fed842f",
   "metadata": {},
   "outputs": [],
   "source": [
    "applyMaybe :: Maybe a -> (a -> Maybe b) -> Maybe b\n",
    "-- 타입자체는 모나드의 bind와 같다\n",
    "applyMaybe Nothing f = Nothing\n",
    "applyMaybe (Just x) f = f x"
   ]
  },
  {
   "cell_type": "code",
   "execution_count": 21,
   "id": "1835b73d-a527-42b6-8251-dfffd64fef46",
   "metadata": {},
   "outputs": [
    {
     "data": {
      "text/plain": [
       "Just 4"
      ]
     },
     "metadata": {},
     "output_type": "display_data"
    },
    {
     "data": {
      "text/plain": [
       "Just \"smile :)\""
      ]
     },
     "metadata": {},
     "output_type": "display_data"
    },
    {
     "data": {
      "text/plain": [
       "Nothing"
      ]
     },
     "metadata": {},
     "output_type": "display_data"
    },
    {
     "data": {
      "text/plain": [
       "Nothing"
      ]
     },
     "metadata": {},
     "output_type": "display_data"
    }
   ],
   "source": [
    "Just 3 `applyMaybe` \\x -> Just (x+1)\n",
    "Just \"smile\" `applyMaybe` \\x -> Just (x ++ \" :)\")\n",
    "Nothing `applyMaybe` \\x -> Just (x+1)\n",
    "Nothing `applyMaybe` \\x -> Just (x++ \" :)\")"
   ]
  },
  {
   "cell_type": "code",
   "execution_count": 22,
   "id": "38ddef2e-c39f-4d2a-9427-5e57be1b9d57",
   "metadata": {},
   "outputs": [
    {
     "data": {
      "text/plain": [
       "Just 3"
      ]
     },
     "metadata": {},
     "output_type": "display_data"
    },
    {
     "data": {
      "text/plain": [
       "Nothing"
      ]
     },
     "metadata": {},
     "output_type": "display_data"
    }
   ],
   "source": [
    "Just 3 `applyMaybe` \\x -> if x > 2 then Just x else Nothing\n",
    "Just 1 `applyMaybe` \\x -> if x > 2 then Just x else Nothing"
   ]
  },
  {
   "cell_type": "markdown",
   "id": "71bbaeae-3a8a-4546-b9be-38a9815aaf17",
   "metadata": {},
   "source": [
    "## 모나드 타입 클래스"
   ]
  },
  {
   "cell_type": "code",
   "execution_count": null,
   "id": "a51a30ae-4f28-4eea-a24c-d8f645d5d0e4",
   "metadata": {},
   "outputs": [],
   "source": [
    "class Monad m where  \n",
    "-- 타입 클래스 제약이 없지만, 모두가 모든 모나드는 어플리커티브 펑터임을 지키고 있다\n",
    "    return :: a -> m a  \n",
    "    -- Applicative Functor의 pure와 같다 (컨텍스트로 래핑하는 함수)\n",
    "    -- IO 컨텍스트를 다루기 위해 사용했던 그 return 함수 맞다\n",
    "    (>>=) :: m a -> (a -> m b) -> m b  \n",
    "    -- 모나드 값과 일반값을 받아 모노이드 값을 반환하는 함수를 받아 모노이드 값을 반환\n",
    "    (>>) :: m a -> m b -> m b  \n",
    "    x >> y = x >>= \\_ -> y  \n",
    "    -- 디폴트 구현체가 있다\n",
    "    -- 인스턴스에서 구현할 필요가 거의 없는 함수\n",
    "  \n",
    "    fail :: String -> m a  \n",
    "    fail msg = error msg  \n",
    "    -- 반환형은 모나드 값\n",
    "    -- 코드에서는 명시적으로 사용하지 않음\n",
    "    -- 모나드를 위한 특별 구문 구조의 실패를 가능하기 위해 하스켈에 의해 사용된다"
   ]
  },
  {
   "cell_type": "code",
   "execution_count": null,
   "id": "cf5fd6b7-8a15-4cc7-b298-5f263eeaff78",
   "metadata": {},
   "outputs": [],
   "source": [
    "instance Monad Maybe where  \n",
    "    return x = Just x  \n",
    "    -- 컨텍스트로 감싸기\n",
    "    Nothing >>= f = Nothing  \n",
    "    Just x >>= f  = f x \n",
    "    -- 바인드 연산\n",
    "    fail _ = Nothing  \n",
    "    -- fail 시에는 Nothing 컨텍스트 반환"
   ]
  },
  {
   "cell_type": "code",
   "execution_count": 28,
   "id": "b8843eb3-30b0-4e54-85b1-e38bd18aafb6",
   "metadata": {},
   "outputs": [
    {
     "data": {
      "text/plain": [
       "Just \"WHAT\""
      ]
     },
     "metadata": {},
     "output_type": "display_data"
    },
    {
     "data": {
      "text/plain": [
       "Just 90"
      ]
     },
     "metadata": {},
     "output_type": "display_data"
    },
    {
     "data": {
      "text/plain": [
       "Nothing"
      ]
     },
     "metadata": {},
     "output_type": "display_data"
    }
   ],
   "source": [
    "return \"WHAT\" :: Maybe String\n",
    "Just 9 >>= \\x -> return (x * 10)\n",
    "Nothing >>= \\x -> return (x * 10)"
   ]
  },
  {
   "cell_type": "markdown",
   "id": "37337ac4-806f-48e1-a908-eb61498d558f",
   "metadata": {},
   "source": [
    "## 반복적인 >>= 사용"
   ]
  },
  {
   "cell_type": "code",
   "execution_count": 13,
   "id": "ee5fd939-4513-466c-81e3-a7bf5201552d",
   "metadata": {},
   "outputs": [],
   "source": [
    "type Birds = Int\n",
    "type Pole = (Birds, Birds)"
   ]
  },
  {
   "cell_type": "code",
   "execution_count": 14,
   "id": "59cd481a-cef0-4e51-9d5c-ab2296960388",
   "metadata": {},
   "outputs": [],
   "source": [
    "landLeft :: Birds -> Pole -> Pole\n",
    "landLeft n (left, right) = (left + n, right)\n",
    "\n",
    "landRight :: Birds -> Pole -> Pole\n",
    "landRight n (left, right) = (left, right + n)"
   ]
  },
  {
   "cell_type": "code",
   "execution_count": 32,
   "id": "3bea6fed-fd21-45f2-8905-e0a0b03baaed",
   "metadata": {},
   "outputs": [
    {
     "data": {
      "text/plain": [
       "(2,0)"
      ]
     },
     "metadata": {},
     "output_type": "display_data"
    },
    {
     "data": {
      "text/plain": [
       "(1,3)"
      ]
     },
     "metadata": {},
     "output_type": "display_data"
    },
    {
     "data": {
      "text/plain": [
       "(1,1)"
      ]
     },
     "metadata": {},
     "output_type": "display_data"
    }
   ],
   "source": [
    "landLeft 2 (0, 0)\n",
    "landRight 1 (1, 2)\n",
    "landRight (-1) (1, 2)"
   ]
  },
  {
   "cell_type": "code",
   "execution_count": 33,
   "id": "88e76598-c1ff-4e6c-b7e3-ddde3adbaf98",
   "metadata": {},
   "outputs": [
    {
     "data": {
      "text/plain": [
       "(3,1)"
      ]
     },
     "metadata": {},
     "output_type": "display_data"
    }
   ],
   "source": [
    "landLeft 2 (landRight 1 (landLeft 1 (0,0)))"
   ]
  },
  {
   "cell_type": "code",
   "execution_count": 8,
   "id": "2a3f72f0-0272-4b4e-8bd8-c96d76680c90",
   "metadata": {},
   "outputs": [],
   "source": [
    "x |> f = f x"
   ]
  },
  {
   "cell_type": "code",
   "execution_count": 37,
   "id": "9d390170-1c24-498e-aafd-c1cbe800e3f1",
   "metadata": {},
   "outputs": [
    {
     "data": {
      "text/plain": [
       "300"
      ]
     },
     "metadata": {},
     "output_type": "display_data"
    }
   ],
   "source": [
    "100 |> (*3)"
   ]
  },
  {
   "cell_type": "code",
   "execution_count": 39,
   "id": "a6c6c7f1-04b7-4804-a304-5b1993c99507",
   "metadata": {},
   "outputs": [
    {
     "data": {
      "text/plain": [
       "False"
      ]
     },
     "metadata": {},
     "output_type": "display_data"
    }
   ],
   "source": [
    "True |> not"
   ]
  },
  {
   "cell_type": "code",
   "execution_count": 40,
   "id": "5eb1119a-e907-4c45-ac3d-e8b74d4eb322",
   "metadata": {},
   "outputs": [
    {
     "data": {
      "text/plain": [
       "(2,0)"
      ]
     },
     "metadata": {},
     "output_type": "display_data"
    }
   ],
   "source": [
    "(0, 0) |> landLeft 2"
   ]
  },
  {
   "cell_type": "code",
   "execution_count": 42,
   "id": "ef3a1f1d-c52c-4232-bfe0-e086c36db435",
   "metadata": {},
   "outputs": [
    {
     "data": {
      "text/plain": [
       "(3,1)"
      ]
     },
     "metadata": {},
     "output_type": "display_data"
    }
   ],
   "source": [
    "(0, 0) |> landLeft 1 |> landRight 1 |> landLeft 2"
   ]
  },
  {
   "cell_type": "code",
   "execution_count": 44,
   "id": "6b304572-b4f5-43d5-9e56-7b078f8e5a7a",
   "metadata": {},
   "outputs": [
    {
     "data": {
      "text/plain": [
       "(10,3)"
      ]
     },
     "metadata": {},
     "output_type": "display_data"
    }
   ],
   "source": [
    "(0, 3) |> landLeft 10 "
   ]
  },
  {
   "cell_type": "code",
   "execution_count": 45,
   "id": "73103c01-e8e0-4eaa-9264-33a8910435cf",
   "metadata": {},
   "outputs": [
    {
     "data": {
      "text/plain": [
       "(0,2)"
      ]
     },
     "metadata": {},
     "output_type": "display_data"
    }
   ],
   "source": [
    "(0, 0) |> landLeft 1 |> landRight 4 |> landLeft (-1) |> landRight (-2)\n",
    "-- 3번째 함수에서 에러가 발생해야함"
   ]
  },
  {
   "cell_type": "code",
   "execution_count": 16,
   "id": "2d534cb1-e1f3-4f3f-a015-bea3b99f4c51",
   "metadata": {},
   "outputs": [],
   "source": [
    "landLeft :: Birds -> Pole -> Maybe Pole\n",
    "landLeft n (left, right)\n",
    "    | abs ((left + n) - right) < 4 = Just (left + n, right)\n",
    "    | otherwise = Nothing\n",
    "\n",
    "landRight n (left, right)\n",
    "    | abs ((right + n) - left) < 4 = Just (left, right + n)\n",
    "    | otherwise = Nothing"
   ]
  },
  {
   "cell_type": "code",
   "execution_count": 51,
   "id": "b2fb7b39-5e8a-420d-9e03-b2a24d0c117f",
   "metadata": {},
   "outputs": [
    {
     "data": {
      "text/plain": [
       "Just (2,0)"
      ]
     },
     "metadata": {},
     "output_type": "display_data"
    },
    {
     "data": {
      "text/plain": [
       "Nothing"
      ]
     },
     "metadata": {},
     "output_type": "display_data"
    }
   ],
   "source": [
    "landLeft 2 (0, 0)\n",
    "landLeft 10 (0, 3)\n",
    "-- 연산마다 에러 체크"
   ]
  },
  {
   "cell_type": "code",
   "execution_count": 58,
   "id": "5e29fba5-4078-46f9-80ac-1cd8eca3726b",
   "metadata": {},
   "outputs": [
    {
     "data": {
      "text/html": [
       "<style>/* Styles used for the Hoogle display in the pager */\n",
       ".hoogle-doc {\n",
       "display: block;\n",
       "padding-bottom: 1.3em;\n",
       "padding-left: 0.4em;\n",
       "}\n",
       ".hoogle-code {\n",
       "display: block;\n",
       "font-family: monospace;\n",
       "white-space: pre;\n",
       "}\n",
       ".hoogle-text {\n",
       "display: block;\n",
       "}\n",
       ".hoogle-name {\n",
       "color: green;\n",
       "font-weight: bold;\n",
       "}\n",
       ".hoogle-head {\n",
       "font-weight: bold;\n",
       "}\n",
       ".hoogle-sub {\n",
       "display: block;\n",
       "margin-left: 0.4em;\n",
       "}\n",
       ".hoogle-package {\n",
       "font-weight: bold;\n",
       "font-style: italic;\n",
       "}\n",
       ".hoogle-module {\n",
       "font-weight: bold;\n",
       "}\n",
       ".hoogle-class {\n",
       "font-weight: bold;\n",
       "}\n",
       ".get-type {\n",
       "color: green;\n",
       "font-weight: bold;\n",
       "font-family: monospace;\n",
       "display: block;\n",
       "white-space: pre-wrap;\n",
       "}\n",
       ".show-type {\n",
       "color: green;\n",
       "font-weight: bold;\n",
       "font-family: monospace;\n",
       "margin-left: 1em;\n",
       "}\n",
       ".mono {\n",
       "font-family: monospace;\n",
       "display: block;\n",
       "}\n",
       ".err-msg {\n",
       "color: red;\n",
       "font-style: italic;\n",
       "font-family: monospace;\n",
       "white-space: pre;\n",
       "display: block;\n",
       "}\n",
       "#unshowable {\n",
       "color: red;\n",
       "font-weight: bold;\n",
       "}\n",
       ".err-msg.in.collapse {\n",
       "padding-top: 0.7em;\n",
       "}\n",
       ".highlight-code {\n",
       "white-space: pre;\n",
       "font-family: monospace;\n",
       "}\n",
       ".suggestion-warning { \n",
       "font-weight: bold;\n",
       "color: rgb(200, 130, 0);\n",
       "}\n",
       ".suggestion-error { \n",
       "font-weight: bold;\n",
       "color: red;\n",
       "}\n",
       ".suggestion-name {\n",
       "font-weight: bold;\n",
       "}\n",
       "</style><div class=\"suggestion-name\" style=\"clear:both;\">Evaluate</div><div class=\"suggestion-row\" style=\"float: left;\"><div class=\"suggestion-warning\">Found:</div><div class=\"highlight-code\" id=\"haskell\">Nothing >>= landLeft 2</div></div><div class=\"suggestion-row\" style=\"float: left;\"><div class=\"suggestion-warning\">Why Not:</div><div class=\"highlight-code\" id=\"haskell\">Nothing</div></div>"
      ],
      "text/plain": [
       "Line 8: Evaluate\n",
       "Found:\n",
       "Nothing >>= landLeft 2\n",
       "Why not:\n",
       "Nothing"
      ]
     },
     "metadata": {},
     "output_type": "display_data"
    },
    {
     "data": {
      "text/plain": [
       "Just (2,1)"
      ]
     },
     "metadata": {},
     "output_type": "display_data"
    },
    {
     "data": {
      "text/plain": [
       "Nothing"
      ]
     },
     "metadata": {},
     "output_type": "display_data"
    }
   ],
   "source": [
    "-- 컨텍스트 없이 값을 받은후, 컨텍스트 값을 반환하는 함수를 활용하기 위해\n",
    "-- >>= 바인드 사용\n",
    "(0, 0) |> landRight 1 >>= landLeft 2\n",
    "-- (>>=) :: m a -> (a -> m b) -> m b  이므로\n",
    "-- >>= 의 왼편이 m a == (0, 0) |> landRight 1\n",
    "-- >>= 의 오른편이 (a -> mb) landLeft 2\n",
    "\n",
    "Nothing >>= landLeft 2"
   ]
  },
  {
   "cell_type": "code",
   "execution_count": 59,
   "id": "47647bfc-9629-4eec-bb6f-0e4d0e9f4c97",
   "metadata": {},
   "outputs": [
    {
     "data": {
      "text/html": [
       "<style>/* Styles used for the Hoogle display in the pager */\n",
       ".hoogle-doc {\n",
       "display: block;\n",
       "padding-bottom: 1.3em;\n",
       "padding-left: 0.4em;\n",
       "}\n",
       ".hoogle-code {\n",
       "display: block;\n",
       "font-family: monospace;\n",
       "white-space: pre;\n",
       "}\n",
       ".hoogle-text {\n",
       "display: block;\n",
       "}\n",
       ".hoogle-name {\n",
       "color: green;\n",
       "font-weight: bold;\n",
       "}\n",
       ".hoogle-head {\n",
       "font-weight: bold;\n",
       "}\n",
       ".hoogle-sub {\n",
       "display: block;\n",
       "margin-left: 0.4em;\n",
       "}\n",
       ".hoogle-package {\n",
       "font-weight: bold;\n",
       "font-style: italic;\n",
       "}\n",
       ".hoogle-module {\n",
       "font-weight: bold;\n",
       "}\n",
       ".hoogle-class {\n",
       "font-weight: bold;\n",
       "}\n",
       ".get-type {\n",
       "color: green;\n",
       "font-weight: bold;\n",
       "font-family: monospace;\n",
       "display: block;\n",
       "white-space: pre-wrap;\n",
       "}\n",
       ".show-type {\n",
       "color: green;\n",
       "font-weight: bold;\n",
       "font-family: monospace;\n",
       "margin-left: 1em;\n",
       "}\n",
       ".mono {\n",
       "font-family: monospace;\n",
       "display: block;\n",
       "}\n",
       ".err-msg {\n",
       "color: red;\n",
       "font-style: italic;\n",
       "font-family: monospace;\n",
       "white-space: pre;\n",
       "display: block;\n",
       "}\n",
       "#unshowable {\n",
       "color: red;\n",
       "font-weight: bold;\n",
       "}\n",
       ".err-msg.in.collapse {\n",
       "padding-top: 0.7em;\n",
       "}\n",
       ".highlight-code {\n",
       "white-space: pre;\n",
       "font-family: monospace;\n",
       "}\n",
       ".suggestion-warning { \n",
       "font-weight: bold;\n",
       "color: rgb(200, 130, 0);\n",
       "}\n",
       ".suggestion-error { \n",
       "font-weight: bold;\n",
       "color: red;\n",
       "}\n",
       ".suggestion-name {\n",
       "font-weight: bold;\n",
       "}\n",
       "</style><div class=\"suggestion-name\" style=\"clear:both;\">Monad law, left identity</div><div class=\"suggestion-row\" style=\"float: left;\"><div class=\"suggestion-warning\">Found:</div><div class=\"highlight-code\" id=\"haskell\">return (0, 0) >>= landRight 2</div></div><div class=\"suggestion-row\" style=\"float: left;\"><div class=\"suggestion-warning\">Why Not:</div><div class=\"highlight-code\" id=\"haskell\">landRight 2 (0, 0)</div></div>"
      ],
      "text/plain": [
       "Line 1: Monad law, left identity\n",
       "Found:\n",
       "return (0, 0) >>= landRight 2\n",
       "Why not:\n",
       "landRight 2 (0, 0)"
      ]
     },
     "metadata": {},
     "output_type": "display_data"
    },
    {
     "data": {
      "text/plain": [
       "Just (2,4)"
      ]
     },
     "metadata": {},
     "output_type": "display_data"
    }
   ],
   "source": [
    "return (0, 0) >>= landRight 2 >>= landLeft 2 >>= landRight 2"
   ]
  },
  {
   "cell_type": "code",
   "execution_count": 61,
   "id": "c192e8b3-16ca-4863-8fe5-489937aae414",
   "metadata": {},
   "outputs": [
    {
     "data": {
      "text/html": [
       "<style>/* Styles used for the Hoogle display in the pager */\n",
       ".hoogle-doc {\n",
       "display: block;\n",
       "padding-bottom: 1.3em;\n",
       "padding-left: 0.4em;\n",
       "}\n",
       ".hoogle-code {\n",
       "display: block;\n",
       "font-family: monospace;\n",
       "white-space: pre;\n",
       "}\n",
       ".hoogle-text {\n",
       "display: block;\n",
       "}\n",
       ".hoogle-name {\n",
       "color: green;\n",
       "font-weight: bold;\n",
       "}\n",
       ".hoogle-head {\n",
       "font-weight: bold;\n",
       "}\n",
       ".hoogle-sub {\n",
       "display: block;\n",
       "margin-left: 0.4em;\n",
       "}\n",
       ".hoogle-package {\n",
       "font-weight: bold;\n",
       "font-style: italic;\n",
       "}\n",
       ".hoogle-module {\n",
       "font-weight: bold;\n",
       "}\n",
       ".hoogle-class {\n",
       "font-weight: bold;\n",
       "}\n",
       ".get-type {\n",
       "color: green;\n",
       "font-weight: bold;\n",
       "font-family: monospace;\n",
       "display: block;\n",
       "white-space: pre-wrap;\n",
       "}\n",
       ".show-type {\n",
       "color: green;\n",
       "font-weight: bold;\n",
       "font-family: monospace;\n",
       "margin-left: 1em;\n",
       "}\n",
       ".mono {\n",
       "font-family: monospace;\n",
       "display: block;\n",
       "}\n",
       ".err-msg {\n",
       "color: red;\n",
       "font-style: italic;\n",
       "font-family: monospace;\n",
       "white-space: pre;\n",
       "display: block;\n",
       "}\n",
       "#unshowable {\n",
       "color: red;\n",
       "font-weight: bold;\n",
       "}\n",
       ".err-msg.in.collapse {\n",
       "padding-top: 0.7em;\n",
       "}\n",
       ".highlight-code {\n",
       "white-space: pre;\n",
       "font-family: monospace;\n",
       "}\n",
       ".suggestion-warning { \n",
       "font-weight: bold;\n",
       "color: rgb(200, 130, 0);\n",
       "}\n",
       ".suggestion-error { \n",
       "font-weight: bold;\n",
       "color: red;\n",
       "}\n",
       ".suggestion-name {\n",
       "font-weight: bold;\n",
       "}\n",
       "</style><div class=\"suggestion-name\" style=\"clear:both;\">Monad law, left identity</div><div class=\"suggestion-row\" style=\"float: left;\"><div class=\"suggestion-warning\">Found:</div><div class=\"highlight-code\" id=\"haskell\">return (0, 0) >>= landLeft 1</div></div><div class=\"suggestion-row\" style=\"float: left;\"><div class=\"suggestion-warning\">Why Not:</div><div class=\"highlight-code\" id=\"haskell\">landLeft 1 (0, 0)</div></div>"
      ],
      "text/plain": [
       "Line 1: Monad law, left identity\n",
       "Found:\n",
       "return (0, 0) >>= landLeft 1\n",
       "Why not:\n",
       "landLeft 1 (0, 0)"
      ]
     },
     "metadata": {},
     "output_type": "display_data"
    },
    {
     "data": {
      "text/plain": [
       "Nothing"
      ]
     },
     "metadata": {},
     "output_type": "display_data"
    }
   ],
   "source": [
    "return (0, 0) >>= landLeft 1 >>= landRight 4 >>= landLeft (-1) >>= landRight (-2)\n",
    "-- 3번째 land 시점에서 Nothing이 되고\n",
    "-- 4번째 land에서는 Nothing에 적용하므로 Nothing이 된다."
   ]
  },
  {
   "cell_type": "code",
   "execution_count": 62,
   "id": "f4cc1a22-74cf-4a64-998e-3f0d9baa5e4c",
   "metadata": {},
   "outputs": [],
   "source": [
    "banana :: Pole -> Maybe Pole\n",
    "banana _ = Nothing"
   ]
  },
  {
   "cell_type": "code",
   "execution_count": 63,
   "id": "fae0f36c-28bb-4e98-92d2-6df114c39d94",
   "metadata": {},
   "outputs": [
    {
     "data": {
      "text/html": [
       "<style>/* Styles used for the Hoogle display in the pager */\n",
       ".hoogle-doc {\n",
       "display: block;\n",
       "padding-bottom: 1.3em;\n",
       "padding-left: 0.4em;\n",
       "}\n",
       ".hoogle-code {\n",
       "display: block;\n",
       "font-family: monospace;\n",
       "white-space: pre;\n",
       "}\n",
       ".hoogle-text {\n",
       "display: block;\n",
       "}\n",
       ".hoogle-name {\n",
       "color: green;\n",
       "font-weight: bold;\n",
       "}\n",
       ".hoogle-head {\n",
       "font-weight: bold;\n",
       "}\n",
       ".hoogle-sub {\n",
       "display: block;\n",
       "margin-left: 0.4em;\n",
       "}\n",
       ".hoogle-package {\n",
       "font-weight: bold;\n",
       "font-style: italic;\n",
       "}\n",
       ".hoogle-module {\n",
       "font-weight: bold;\n",
       "}\n",
       ".hoogle-class {\n",
       "font-weight: bold;\n",
       "}\n",
       ".get-type {\n",
       "color: green;\n",
       "font-weight: bold;\n",
       "font-family: monospace;\n",
       "display: block;\n",
       "white-space: pre-wrap;\n",
       "}\n",
       ".show-type {\n",
       "color: green;\n",
       "font-weight: bold;\n",
       "font-family: monospace;\n",
       "margin-left: 1em;\n",
       "}\n",
       ".mono {\n",
       "font-family: monospace;\n",
       "display: block;\n",
       "}\n",
       ".err-msg {\n",
       "color: red;\n",
       "font-style: italic;\n",
       "font-family: monospace;\n",
       "white-space: pre;\n",
       "display: block;\n",
       "}\n",
       "#unshowable {\n",
       "color: red;\n",
       "font-weight: bold;\n",
       "}\n",
       ".err-msg.in.collapse {\n",
       "padding-top: 0.7em;\n",
       "}\n",
       ".highlight-code {\n",
       "white-space: pre;\n",
       "font-family: monospace;\n",
       "}\n",
       ".suggestion-warning { \n",
       "font-weight: bold;\n",
       "color: rgb(200, 130, 0);\n",
       "}\n",
       ".suggestion-error { \n",
       "font-weight: bold;\n",
       "color: red;\n",
       "}\n",
       ".suggestion-name {\n",
       "font-weight: bold;\n",
       "}\n",
       "</style><div class=\"suggestion-name\" style=\"clear:both;\">Monad law, left identity</div><div class=\"suggestion-row\" style=\"float: left;\"><div class=\"suggestion-warning\">Found:</div><div class=\"highlight-code\" id=\"haskell\">return (0, 0) >>= landLeft 1</div></div><div class=\"suggestion-row\" style=\"float: left;\"><div class=\"suggestion-warning\">Why Not:</div><div class=\"highlight-code\" id=\"haskell\">landLeft 1 (0, 0)</div></div>"
      ],
      "text/plain": [
       "Line 1: Monad law, left identity\n",
       "Found:\n",
       "return (0, 0) >>= landLeft 1\n",
       "Why not:\n",
       "landLeft 1 (0, 0)"
      ]
     },
     "metadata": {},
     "output_type": "display_data"
    },
    {
     "data": {
      "text/plain": [
       "Nothing"
      ]
     },
     "metadata": {},
     "output_type": "display_data"
    }
   ],
   "source": [
    "return (0, 0) >>= landLeft 1 >>= banana >>= landRight 1"
   ]
  },
  {
   "cell_type": "code",
   "execution_count": null,
   "id": "c4be0757-7279-4bf0-b636-98db8ac139c9",
   "metadata": {},
   "outputs": [],
   "source": [
    "(>>) :: m a -> m b -> m b  \n",
    "x >> y = x >>= \\_ -> y  \n",
    "-- 디폴트 구현체가 있다\n",
    "-- 인스턴스에서 구현할 필요가 거의 없는 함수\n",
    "\n",
    "-- 컨텍스트 값 두개를 받아서 컨텍스트 값을 만드는 함수\n",
    "\n",
    "-- 앞 컨텍스트값을 m a로 뒤 컨텍스트 값을 함수 반환값으로 변환시켜\n",
    "-- 바인드>>= 시키는 함수"
   ]
  },
  {
   "cell_type": "code",
   "execution_count": 65,
   "id": "9d280e2a-be92-475a-b99b-226cd970af86",
   "metadata": {},
   "outputs": [
    {
     "data": {
      "text/plain": [
       "Nothing"
      ]
     },
     "metadata": {},
     "output_type": "display_data"
    },
    {
     "data": {
      "text/plain": [
       "Just 4"
      ]
     },
     "metadata": {},
     "output_type": "display_data"
    },
    {
     "data": {
      "text/plain": [
       "Nothing"
      ]
     },
     "metadata": {},
     "output_type": "display_data"
    }
   ],
   "source": [
    "Nothing >> Just 3 -- 앞 컨텍스트 값이 Nothing\n",
    "Just 3 >> Just 4\n",
    "Just 3 >> Nothing"
   ]
  },
  {
   "cell_type": "code",
   "execution_count": 66,
   "id": "f135296b-c714-4783-b3bf-1fac6d0a7e1b",
   "metadata": {},
   "outputs": [
    {
     "data": {
      "text/html": [
       "<style>/* Styles used for the Hoogle display in the pager */\n",
       ".hoogle-doc {\n",
       "display: block;\n",
       "padding-bottom: 1.3em;\n",
       "padding-left: 0.4em;\n",
       "}\n",
       ".hoogle-code {\n",
       "display: block;\n",
       "font-family: monospace;\n",
       "white-space: pre;\n",
       "}\n",
       ".hoogle-text {\n",
       "display: block;\n",
       "}\n",
       ".hoogle-name {\n",
       "color: green;\n",
       "font-weight: bold;\n",
       "}\n",
       ".hoogle-head {\n",
       "font-weight: bold;\n",
       "}\n",
       ".hoogle-sub {\n",
       "display: block;\n",
       "margin-left: 0.4em;\n",
       "}\n",
       ".hoogle-package {\n",
       "font-weight: bold;\n",
       "font-style: italic;\n",
       "}\n",
       ".hoogle-module {\n",
       "font-weight: bold;\n",
       "}\n",
       ".hoogle-class {\n",
       "font-weight: bold;\n",
       "}\n",
       ".get-type {\n",
       "color: green;\n",
       "font-weight: bold;\n",
       "font-family: monospace;\n",
       "display: block;\n",
       "white-space: pre-wrap;\n",
       "}\n",
       ".show-type {\n",
       "color: green;\n",
       "font-weight: bold;\n",
       "font-family: monospace;\n",
       "margin-left: 1em;\n",
       "}\n",
       ".mono {\n",
       "font-family: monospace;\n",
       "display: block;\n",
       "}\n",
       ".err-msg {\n",
       "color: red;\n",
       "font-style: italic;\n",
       "font-family: monospace;\n",
       "white-space: pre;\n",
       "display: block;\n",
       "}\n",
       "#unshowable {\n",
       "color: red;\n",
       "font-weight: bold;\n",
       "}\n",
       ".err-msg.in.collapse {\n",
       "padding-top: 0.7em;\n",
       "}\n",
       ".highlight-code {\n",
       "white-space: pre;\n",
       "font-family: monospace;\n",
       "}\n",
       ".suggestion-warning { \n",
       "font-weight: bold;\n",
       "color: rgb(200, 130, 0);\n",
       "}\n",
       ".suggestion-error { \n",
       "font-weight: bold;\n",
       "color: red;\n",
       "}\n",
       ".suggestion-name {\n",
       "font-weight: bold;\n",
       "}\n",
       "</style><div class=\"suggestion-name\" style=\"clear:both;\">Monad law, left identity</div><div class=\"suggestion-row\" style=\"float: left;\"><div class=\"suggestion-warning\">Found:</div><div class=\"highlight-code\" id=\"haskell\">return (0, 0) >>= landLeft 1</div></div><div class=\"suggestion-row\" style=\"float: left;\"><div class=\"suggestion-warning\">Why Not:</div><div class=\"highlight-code\" id=\"haskell\">landLeft 1 (0, 0)</div></div>"
      ],
      "text/plain": [
       "Line 1: Monad law, left identity\n",
       "Found:\n",
       "return (0, 0) >>= landLeft 1\n",
       "Why not:\n",
       "landLeft 1 (0, 0)"
      ]
     },
     "metadata": {},
     "output_type": "display_data"
    },
    {
     "data": {
      "text/plain": [
       "Nothing"
      ]
     },
     "metadata": {},
     "output_type": "display_data"
    }
   ],
   "source": [
    "return (0,0) >>= landLeft 1 >> Nothing >>= landRight 1"
   ]
  },
  {
   "cell_type": "markdown",
   "id": "cb3ac60f-9f0e-4236-b279-5a33923d786b",
   "metadata": {},
   "source": [
    "## do 표기법\n",
    "\n",
    "모나드만을 위한 하스켈의 특별한 구문"
   ]
  },
  {
   "cell_type": "code",
   "execution_count": 68,
   "id": "864ee79b-b8e0-40dc-a71f-2a9a54362523",
   "metadata": {},
   "outputs": [
    {
     "data": {
      "text/plain": [
       "Just \"3!\""
      ]
     },
     "metadata": {},
     "output_type": "display_data"
    }
   ],
   "source": [
    "Just 3 >>= (\\x -> Just (show x ++ \"!\"))"
   ]
  },
  {
   "cell_type": "code",
   "execution_count": 71,
   "id": "b2756038-0530-4c93-97af-7b9ab11828d5",
   "metadata": {},
   "outputs": [
    {
     "data": {
      "text/plain": [
       "Just \"3!\""
      ]
     },
     "metadata": {},
     "output_type": "display_data"
    },
    {
     "data": {
      "text/plain": [
       "\"3!\""
      ]
     },
     "metadata": {},
     "output_type": "display_data"
    }
   ],
   "source": [
    "Just 3 >>= (\\x -> Just \"!\" >>= (\\y -> Just (show x ++ y)))\n",
    "let x = 3; y = \"!\" in show x ++ y"
   ]
  },
  {
   "cell_type": "code",
   "execution_count": 78,
   "id": "6493fcec-423d-4517-91eb-d44b1d074b43",
   "metadata": {},
   "outputs": [
    {
     "data": {
      "text/html": [
       "<style>/* Styles used for the Hoogle display in the pager */\n",
       ".hoogle-doc {\n",
       "display: block;\n",
       "padding-bottom: 1.3em;\n",
       "padding-left: 0.4em;\n",
       "}\n",
       ".hoogle-code {\n",
       "display: block;\n",
       "font-family: monospace;\n",
       "white-space: pre;\n",
       "}\n",
       ".hoogle-text {\n",
       "display: block;\n",
       "}\n",
       ".hoogle-name {\n",
       "color: green;\n",
       "font-weight: bold;\n",
       "}\n",
       ".hoogle-head {\n",
       "font-weight: bold;\n",
       "}\n",
       ".hoogle-sub {\n",
       "display: block;\n",
       "margin-left: 0.4em;\n",
       "}\n",
       ".hoogle-package {\n",
       "font-weight: bold;\n",
       "font-style: italic;\n",
       "}\n",
       ".hoogle-module {\n",
       "font-weight: bold;\n",
       "}\n",
       ".hoogle-class {\n",
       "font-weight: bold;\n",
       "}\n",
       ".get-type {\n",
       "color: green;\n",
       "font-weight: bold;\n",
       "font-family: monospace;\n",
       "display: block;\n",
       "white-space: pre-wrap;\n",
       "}\n",
       ".show-type {\n",
       "color: green;\n",
       "font-weight: bold;\n",
       "font-family: monospace;\n",
       "margin-left: 1em;\n",
       "}\n",
       ".mono {\n",
       "font-family: monospace;\n",
       "display: block;\n",
       "}\n",
       ".err-msg {\n",
       "color: red;\n",
       "font-style: italic;\n",
       "font-family: monospace;\n",
       "white-space: pre;\n",
       "display: block;\n",
       "}\n",
       "#unshowable {\n",
       "color: red;\n",
       "font-weight: bold;\n",
       "}\n",
       ".err-msg.in.collapse {\n",
       "padding-top: 0.7em;\n",
       "}\n",
       ".highlight-code {\n",
       "white-space: pre;\n",
       "font-family: monospace;\n",
       "}\n",
       ".suggestion-warning { \n",
       "font-weight: bold;\n",
       "color: rgb(200, 130, 0);\n",
       "}\n",
       ".suggestion-error { \n",
       "font-weight: bold;\n",
       "color: red;\n",
       "}\n",
       ".suggestion-name {\n",
       "font-weight: bold;\n",
       "}\n",
       "</style><div class=\"suggestion-name\" style=\"clear:both;\">Evaluate</div><div class=\"suggestion-row\" style=\"float: left;\"><div class=\"suggestion-warning\">Found:</div><div class=\"highlight-code\" id=\"haskell\">Nothing >>= (\\ x -> Just \"!\" >>= (\\ y -> Just (show x ++ y)))</div></div><div class=\"suggestion-row\" style=\"float: left;\"><div class=\"suggestion-warning\">Why Not:</div><div class=\"highlight-code\" id=\"haskell\">Nothing</div></div><div class=\"suggestion-name\" style=\"clear:both;\">Evaluate</div><div class=\"suggestion-row\" style=\"float: left;\"><div class=\"suggestion-warning\">Found:</div><div class=\"highlight-code\" id=\"haskell\">Nothing >>= (\\ y -> Just (show x ++ y))</div></div><div class=\"suggestion-row\" style=\"float: left;\"><div class=\"suggestion-warning\">Why Not:</div><div class=\"highlight-code\" id=\"haskell\">Nothing</div></div><div class=\"suggestion-name\" style=\"clear:both;\">Use const</div><div class=\"suggestion-row\" style=\"float: left;\"><div class=\"suggestion-warning\">Found:</div><div class=\"highlight-code\" id=\"haskell\">\\ y -> Nothing</div></div><div class=\"suggestion-row\" style=\"float: left;\"><div class=\"suggestion-warning\">Why Not:</div><div class=\"highlight-code\" id=\"haskell\">const Nothing</div></div><div class=\"suggestion-name\" style=\"clear:both;\">Evaluate</div><div class=\"suggestion-row\" style=\"float: left;\"><div class=\"suggestion-warning\">Found:</div><div class=\"highlight-code\" id=\"haskell\">Nothing >>= (\\ y -> Just 3)</div></div><div class=\"suggestion-row\" style=\"float: left;\"><div class=\"suggestion-warning\">Why Not:</div><div class=\"highlight-code\" id=\"haskell\">Nothing</div></div>"
      ],
      "text/plain": [
       "Line 1: Evaluate\n",
       "Found:\n",
       "Nothing >>= (\\ x -> Just \"!\" >>= (\\ y -> Just (show x ++ y)))\n",
       "Why not:\n",
       "NothingLine 2: Evaluate\n",
       "Found:\n",
       "Nothing >>= (\\ y -> Just (show x ++ y))\n",
       "Why not:\n",
       "NothingLine 4: Use const\n",
       "Found:\n",
       "\\ y -> Nothing\n",
       "Why not:\n",
       "const NothingLine 7: Evaluate\n",
       "Found:\n",
       "Nothing >>= (\\ y -> Just 3)\n",
       "Why not:\n",
       "Nothing"
      ]
     },
     "metadata": {},
     "output_type": "display_data"
    },
    {
     "data": {
      "text/plain": [
       "Nothing"
      ]
     },
     "metadata": {},
     "output_type": "display_data"
    },
    {
     "data": {
      "text/plain": [
       "Nothing"
      ]
     },
     "metadata": {},
     "output_type": "display_data"
    },
    {
     "data": {
      "text/plain": [
       "Nothing"
      ]
     },
     "metadata": {},
     "output_type": "display_data"
    },
    {
     "data": {
      "text/plain": [
       "Nothing"
      ]
     },
     "metadata": {},
     "output_type": "display_data"
    }
   ],
   "source": [
    "Nothing >>= (\\x -> Just \"!\" >>= (\\y -> Just (show x ++ y)))\n",
    "Just 3 >>= (\\x -> Nothing >>= (\\y -> Just (show x ++ y)))\n",
    "-- x, y 같은 값이 하나라도 실패 컨텍스트가 되면 실패 컨텍스트로 처리됨\n",
    "Just 3 >>= (\\x -> Just \"!\" >>= (\\y -> Nothing))\n",
    "-- 실패 컨텍스트가 반환값이라 실패 컨텍스트가 됨\n",
    "\n",
    "Just 3 >>= (\\x -> Nothing >>= (\\y -> Just 3))"
   ]
  },
  {
   "cell_type": "code",
   "execution_count": 76,
   "id": "c484aab7-19bb-44e7-9664-3bc98076be9d",
   "metadata": {},
   "outputs": [
    {
     "data": {
      "text/plain": [
       "Just \"3!\""
      ]
     },
     "metadata": {},
     "output_type": "display_data"
    }
   ],
   "source": [
    "foo :: Maybe String\n",
    "foo = Just 3 >>= (\\x ->\n",
    "      Just \"!\" >>= (\\y ->\n",
    "      Just (show x ++ y)))\n",
    "foo"
   ]
  },
  {
   "cell_type": "code",
   "execution_count": 80,
   "id": "f9f6d406-e6d6-4d58-b36d-c31963baafc1",
   "metadata": {},
   "outputs": [
    {
     "data": {
      "text/plain": [
       "Just \"3!\""
      ]
     },
     "metadata": {},
     "output_type": "display_data"
    }
   ],
   "source": [
    "foo :: Maybe String\n",
    "foo = do\n",
    "    x <- Just 3\n",
    "    y <- Just \"!\"\n",
    "    Just (show x ++ y)\n",
    "foo"
   ]
  },
  {
   "cell_type": "code",
   "execution_count": 84,
   "id": "24c9e080-87bd-4f07-9046-352f72ea4fbc",
   "metadata": {},
   "outputs": [
    {
     "data": {
      "text/plain": [
       "Nothing"
      ]
     },
     "metadata": {},
     "output_type": "display_data"
    }
   ],
   "source": [
    "boo = do\n",
    "    x <- Just 3\n",
    "    y <- Just \"!\"\n",
    "    z <- Nothing\n",
    "    Just (show x ++ y)\n",
    "boo\n",
    "-- 계속 안쪽 람다로 이어붙인것과 같다\n",
    "-- 연산에 상관없는 z가 Nothing이지만, 반환값은 Nothing이 됨\n",
    "-- 즉, do 표현식은 모나드 값들을 연결하는 다른 구문일 뿐이다."
   ]
  },
  {
   "cell_type": "code",
   "execution_count": 92,
   "id": "f3016cc5-e4ad-4dc7-9155-dd307c926417",
   "metadata": {},
   "outputs": [
    {
     "data": {
      "text/plain": [
       "Just True"
      ]
     },
     "metadata": {},
     "output_type": "display_data"
    },
    {
     "data": {
      "text/plain": [
       "Just True"
      ]
     },
     "metadata": {},
     "output_type": "display_data"
    }
   ],
   "source": [
    "-- do 표현식에서 let 줄이 아닌 모든 줄은 모나드 값\n",
    "-- 결과를 알아보기 위해 <- 를 사용\n",
    "-- do 표현식의 마지막 모나드 값은 결과값에 <-가 사용될 수 없다\n",
    "-- >>= 연결 코드로의 변환이 되지 않기 때문\n",
    "\n",
    "Just 9 >>= (\\x -> Just (x > 8))\n",
    "\n",
    "do\n",
    "    x <- Just 9\n",
    "    Just (x > 8)"
   ]
  },
  {
   "cell_type": "code",
   "execution_count": 94,
   "id": "8e109151-a81b-4882-82b7-3137bc4cc97a",
   "metadata": {},
   "outputs": [
    {
     "data": {
      "text/html": [
       "<style>/* Styles used for the Hoogle display in the pager */\n",
       ".hoogle-doc {\n",
       "display: block;\n",
       "padding-bottom: 1.3em;\n",
       "padding-left: 0.4em;\n",
       "}\n",
       ".hoogle-code {\n",
       "display: block;\n",
       "font-family: monospace;\n",
       "white-space: pre;\n",
       "}\n",
       ".hoogle-text {\n",
       "display: block;\n",
       "}\n",
       ".hoogle-name {\n",
       "color: green;\n",
       "font-weight: bold;\n",
       "}\n",
       ".hoogle-head {\n",
       "font-weight: bold;\n",
       "}\n",
       ".hoogle-sub {\n",
       "display: block;\n",
       "margin-left: 0.4em;\n",
       "}\n",
       ".hoogle-package {\n",
       "font-weight: bold;\n",
       "font-style: italic;\n",
       "}\n",
       ".hoogle-module {\n",
       "font-weight: bold;\n",
       "}\n",
       ".hoogle-class {\n",
       "font-weight: bold;\n",
       "}\n",
       ".get-type {\n",
       "color: green;\n",
       "font-weight: bold;\n",
       "font-family: monospace;\n",
       "display: block;\n",
       "white-space: pre-wrap;\n",
       "}\n",
       ".show-type {\n",
       "color: green;\n",
       "font-weight: bold;\n",
       "font-family: monospace;\n",
       "margin-left: 1em;\n",
       "}\n",
       ".mono {\n",
       "font-family: monospace;\n",
       "display: block;\n",
       "}\n",
       ".err-msg {\n",
       "color: red;\n",
       "font-style: italic;\n",
       "font-family: monospace;\n",
       "white-space: pre;\n",
       "display: block;\n",
       "}\n",
       "#unshowable {\n",
       "color: red;\n",
       "font-weight: bold;\n",
       "}\n",
       ".err-msg.in.collapse {\n",
       "padding-top: 0.7em;\n",
       "}\n",
       ".highlight-code {\n",
       "white-space: pre;\n",
       "font-family: monospace;\n",
       "}\n",
       ".suggestion-warning { \n",
       "font-weight: bold;\n",
       "color: rgb(200, 130, 0);\n",
       "}\n",
       ".suggestion-error { \n",
       "font-weight: bold;\n",
       "color: red;\n",
       "}\n",
       ".suggestion-name {\n",
       "font-weight: bold;\n",
       "}\n",
       "</style><div class=\"suggestion-name\" style=\"clear:both;\">Use let</div><div class=\"suggestion-row\" style=\"float: left;\"><div class=\"suggestion-warning\">Found:</div><div class=\"highlight-code\" id=\"haskell\">start <- return (0, 0)</div></div><div class=\"suggestion-row\" style=\"float: left;\"><div class=\"suggestion-warning\">Why Not:</div><div class=\"highlight-code\" id=\"haskell\">let start = (0, 0)</div></div>"
      ],
      "text/plain": [
       "Line 3: Use let\n",
       "Found:\n",
       "start <- return (0, 0)\n",
       "Why not:\n",
       "let start = (0, 0)"
      ]
     },
     "metadata": {},
     "output_type": "display_data"
    },
    {
     "data": {
      "text/plain": [
       "Just (3,2)"
      ]
     },
     "metadata": {},
     "output_type": "display_data"
    }
   ],
   "source": [
    "routine :: Maybe Pole\n",
    "routine = do\n",
    "    start <- return (0, 0)\n",
    "    first <- landLeft 2 start\n",
    "    second <- landRight 2 first\n",
    "    landLeft 1 second\n",
    "routine\n",
    "\n",
    "-- do 표현식을 사용하면, 각각의 코드줄은 모나드 값이어야한다.\n",
    "-- 명령형 코드처럼 보이지만, 각각의 줄에 있는 각각의 값들은\n",
    "-- 각각의 컨텍스트를 가진 이전 값들의 결과에 의존하는 순차적인 나열일뿐이다."
   ]
  },
  {
   "cell_type": "code",
   "execution_count": 96,
   "id": "d79e0d96-be43-44b6-bdd0-d30df40d454e",
   "metadata": {},
   "outputs": [],
   "source": [
    "-- 모나드의 특징을 사용하지 않았을 때의 결과\n",
    "routine :: Maybe Pole  \n",
    "routine =   \n",
    "    case Just (0,0) of   \n",
    "        Nothing -> Nothing  \n",
    "        Just start -> case landLeft 2 start of  \n",
    "            Nothing -> Nothing  \n",
    "            Just first -> case landRight 2 first of  \n",
    "                Nothing -> Nothing  \n",
    "                Just second -> landLeft 1 second  "
   ]
  },
  {
   "cell_type": "code",
   "execution_count": 101,
   "id": "b0185349-2ae9-4c11-b46a-230738607112",
   "metadata": {},
   "outputs": [
    {
     "data": {
      "text/html": [
       "<style>/* Styles used for the Hoogle display in the pager */\n",
       ".hoogle-doc {\n",
       "display: block;\n",
       "padding-bottom: 1.3em;\n",
       "padding-left: 0.4em;\n",
       "}\n",
       ".hoogle-code {\n",
       "display: block;\n",
       "font-family: monospace;\n",
       "white-space: pre;\n",
       "}\n",
       ".hoogle-text {\n",
       "display: block;\n",
       "}\n",
       ".hoogle-name {\n",
       "color: green;\n",
       "font-weight: bold;\n",
       "}\n",
       ".hoogle-head {\n",
       "font-weight: bold;\n",
       "}\n",
       ".hoogle-sub {\n",
       "display: block;\n",
       "margin-left: 0.4em;\n",
       "}\n",
       ".hoogle-package {\n",
       "font-weight: bold;\n",
       "font-style: italic;\n",
       "}\n",
       ".hoogle-module {\n",
       "font-weight: bold;\n",
       "}\n",
       ".hoogle-class {\n",
       "font-weight: bold;\n",
       "}\n",
       ".get-type {\n",
       "color: green;\n",
       "font-weight: bold;\n",
       "font-family: monospace;\n",
       "display: block;\n",
       "white-space: pre-wrap;\n",
       "}\n",
       ".show-type {\n",
       "color: green;\n",
       "font-weight: bold;\n",
       "font-family: monospace;\n",
       "margin-left: 1em;\n",
       "}\n",
       ".mono {\n",
       "font-family: monospace;\n",
       "display: block;\n",
       "}\n",
       ".err-msg {\n",
       "color: red;\n",
       "font-style: italic;\n",
       "font-family: monospace;\n",
       "white-space: pre;\n",
       "display: block;\n",
       "}\n",
       "#unshowable {\n",
       "color: red;\n",
       "font-weight: bold;\n",
       "}\n",
       ".err-msg.in.collapse {\n",
       "padding-top: 0.7em;\n",
       "}\n",
       ".highlight-code {\n",
       "white-space: pre;\n",
       "font-family: monospace;\n",
       "}\n",
       ".suggestion-warning { \n",
       "font-weight: bold;\n",
       "color: rgb(200, 130, 0);\n",
       "}\n",
       ".suggestion-error { \n",
       "font-weight: bold;\n",
       "color: red;\n",
       "}\n",
       ".suggestion-name {\n",
       "font-weight: bold;\n",
       "}\n",
       "</style><div class=\"suggestion-name\" style=\"clear:both;\">Use let</div><div class=\"suggestion-row\" style=\"float: left;\"><div class=\"suggestion-warning\">Found:</div><div class=\"highlight-code\" id=\"haskell\">start <- return (0, 0)</div></div><div class=\"suggestion-row\" style=\"float: left;\"><div class=\"suggestion-warning\">Why Not:</div><div class=\"highlight-code\" id=\"haskell\">let start = (0, 0)</div></div><div class=\"suggestion-name\" style=\"clear:both;\">Use let</div><div class=\"suggestion-row\" style=\"float: left;\"><div class=\"suggestion-warning\">Found:</div><div class=\"highlight-code\" id=\"haskell\">start <- return (0, 0)</div></div><div class=\"suggestion-row\" style=\"float: left;\"><div class=\"suggestion-warning\">Why Not:</div><div class=\"highlight-code\" id=\"haskell\">let start = (0, 0)</div></div><div class=\"suggestion-name\" style=\"clear:both;\">Redundant return</div><div class=\"suggestion-row\" style=\"float: left;\"><div class=\"suggestion-warning\">Found:</div><div class=\"highlight-code\" id=\"haskell\">return (100, 100)</div></div><div class=\"suggestion-row\" style=\"float: left;\"><div class=\"suggestion-warning\">Why Not:</div><div class=\"highlight-code\" id=\"haskell\"></div></div>"
      ],
      "text/plain": [
       "Line 3: Use let\n",
       "Found:\n",
       "start <- return (0, 0)\n",
       "Why not:\n",
       "let start = (0, 0)Line 16: Use let\n",
       "Found:\n",
       "start <- return (0, 0)\n",
       "Why not:\n",
       "let start = (0, 0)Line 18: Redundant return\n",
       "Found:\n",
       "return (100, 100)\n",
       "Why not:"
      ]
     },
     "metadata": {},
     "output_type": "display_data"
    },
    {
     "data": {
      "text/plain": [
       "Nothing"
      ]
     },
     "metadata": {},
     "output_type": "display_data"
    },
    {
     "data": {
      "text/plain": [
       "Just (3,2)"
      ]
     },
     "metadata": {},
     "output_type": "display_data"
    }
   ],
   "source": [
    "routine :: Maybe Pole  \n",
    "routine = do  \n",
    "    start <- return (0,0)  \n",
    "    first <- landLeft 2 start  \n",
    "    Nothing  \n",
    "    -- 모나드 값을 <-에 바인딩하지 않고 작성\n",
    "    -- 무시하고자하는 결과를 가진 모나드 값 다음에 >>를 두는 것과 같음\n",
    "    -- 즉슨, Nothing >> second <- land.... 와 같은 표현식이되어\n",
    "    -- Nothing 결과 값이 된것임\n",
    "    second <- landRight 2 first  \n",
    "    landLeft 1 second  \n",
    "routine\n",
    "\n",
    "routine2 :: Maybe Pole  \n",
    "routine2 = do  \n",
    "    start <- return (0,0)  \n",
    "    first <- landLeft 2 start  \n",
    "    return (100,100)\n",
    "    -- 성공 컨텍스트라서 그냥 무시됨\n",
    "    second <- landRight 2 first  \n",
    "    landLeft 1 second  \n",
    "routine2"
   ]
  },
  {
   "cell_type": "markdown",
   "id": "d6e9a9f1-b842-48c2-ba79-00ccbba4f0a1",
   "metadata": {},
   "source": [
    "## do 표현식의 패턴 매칭과 실패"
   ]
  },
  {
   "cell_type": "code",
   "execution_count": 102,
   "id": "756059bd-b00e-4c81-9cbd-7c553aa34be6",
   "metadata": {},
   "outputs": [
    {
     "data": {
      "text/plain": [
       "Just 'h'"
      ]
     },
     "metadata": {},
     "output_type": "display_data"
    }
   ],
   "source": [
    "do\n",
    "    (x:xs) <- Just \"hello\"\n",
    "    return x"
   ]
  },
  {
   "cell_type": "code",
   "execution_count": 103,
   "id": "4c28dc12-9386-4181-b89a-b9b4736134a7",
   "metadata": {},
   "outputs": [],
   "source": [
    "-- 패턴매칭에 실패하면, 다음 패턴이 매칭된다.\n",
    "-- 모든 패턴 매칭이 실패하면, 에러가 발생하면, 프로그램은 충돌\n",
    "-- 하지만, let 표현식의 패턴 매칭이 실패하면, 그 즉시 에러 발생\n",
    "-- 패턴 매칭이 실패할 경우 다음 패턴으로 넘어가는 메커니즘은 let 표현식에 존재하지 않기 때문"
   ]
  },
  {
   "cell_type": "code",
   "execution_count": 104,
   "id": "ea7bd08d-14bb-4c71-815b-dc0f53843183",
   "metadata": {},
   "outputs": [],
   "source": [
    "-- do 표현식의 패턴 매칭이 실패할 경우 프로그램의 충돌 없이 \n",
    "-- Manad 타입 클래스에 속해있는 fail 함수가 현재 모나드 컨텍스트에\n",
    "-- 실패에 대한 결과를 갖게할 수 있다\n",
    "\n",
    "fail :: (Monad m) => String -> m a  \n",
    "fail msg = error msg  \n",
    "-- fail에 대한 디폴트 구현체\n",
    "-- 기본적으로 충돌한다"
   ]
  },
  {
   "cell_type": "code",
   "execution_count": 105,
   "id": "8769dead-89c8-4b35-a53d-ac227900f1e2",
   "metadata": {},
   "outputs": [
    {
     "data": {},
     "metadata": {},
     "output_type": "display_data"
    },
    {
     "data": {
      "text/html": [
       "<div style='background: rgb(247, 247, 247);'><form><textarea id='code'>type Maybe :: * -> *\n",
       "data Maybe a = Nothing | Just a\n",
       "  \t-- Defined in ‘GHC.Maybe’\n",
       "instance Functor Maybe -- Defined in ‘GHC.Base’\n",
       "instance Show a => Show (Maybe a) -- Defined in ‘GHC.Show’\n",
       "instance Eq a => Eq (Maybe a) -- Defined in ‘GHC.Maybe’\n",
       "instance Semigroup a => Monoid (Maybe a) -- Defined in ‘GHC.Base’\n",
       "instance Ord a => Ord (Maybe a) -- Defined in ‘GHC.Maybe’\n",
       "instance Semigroup a => Semigroup (Maybe a) -- Defined in ‘GHC.Base’\n",
       "instance Read a => Read (Maybe a) -- Defined in ‘GHC.Read’\n",
       "instance Applicative Maybe -- Defined in ‘GHC.Base’\n",
       "instance Foldable Maybe -- Defined in ‘Data.Foldable’\n",
       "instance Monad Maybe -- Defined in ‘GHC.Base’\n",
       "instance MonadFail Maybe -- Defined in ‘Control.Monad.Fail’\n",
       "instance Traversable Maybe -- Defined in ‘Data.Traversable’\n",
       "</textarea></form></div><script>CodeMirror.fromTextArea(document.getElementById('code'), {mode: 'haskell', readOnly: 'nocursor'});</script>"
      ],
      "text/plain": [
       "type Maybe :: * -> *\n",
       "data Maybe a = Nothing | Just a\n",
       "  \t-- Defined in ‘GHC.Maybe’\n",
       "instance Functor Maybe -- Defined in ‘GHC.Base’\n",
       "instance Show a => Show (Maybe a) -- Defined in ‘GHC.Show’\n",
       "instance Eq a => Eq (Maybe a) -- Defined in ‘GHC.Maybe’\n",
       "instance Semigroup a => Monoid (Maybe a) -- Defined in ‘GHC.Base’\n",
       "instance Ord a => Ord (Maybe a) -- Defined in ‘GHC.Maybe’\n",
       "instance Semigroup a => Semigroup (Maybe a) -- Defined in ‘GHC.Base’\n",
       "instance Read a => Read (Maybe a) -- Defined in ‘GHC.Read’\n",
       "instance Applicative Maybe -- Defined in ‘GHC.Base’\n",
       "instance Foldable Maybe -- Defined in ‘Data.Foldable’\n",
       "instance Monad Maybe -- Defined in ‘GHC.Base’\n",
       "instance MonadFail Maybe -- Defined in ‘Control.Monad.Fail’\n",
       "instance Traversable Maybe -- Defined in ‘Data.Traversable’"
      ]
     },
     "metadata": {},
     "output_type": "display_data"
    }
   ],
   "source": [
    ":info Maybe\n",
    "fail _ = Nothing \n",
    "-- Maybe 모나드의 fail 구현체는 Nothing 이다."
   ]
  },
  {
   "cell_type": "code",
   "execution_count": 109,
   "id": "4bfa317d-ac80-4ba3-9297-7076d7f2d8f3",
   "metadata": {},
   "outputs": [
    {
     "data": {
      "text/html": [
       "<style>/* Styles used for the Hoogle display in the pager */\n",
       ".hoogle-doc {\n",
       "display: block;\n",
       "padding-bottom: 1.3em;\n",
       "padding-left: 0.4em;\n",
       "}\n",
       ".hoogle-code {\n",
       "display: block;\n",
       "font-family: monospace;\n",
       "white-space: pre;\n",
       "}\n",
       ".hoogle-text {\n",
       "display: block;\n",
       "}\n",
       ".hoogle-name {\n",
       "color: green;\n",
       "font-weight: bold;\n",
       "}\n",
       ".hoogle-head {\n",
       "font-weight: bold;\n",
       "}\n",
       ".hoogle-sub {\n",
       "display: block;\n",
       "margin-left: 0.4em;\n",
       "}\n",
       ".hoogle-package {\n",
       "font-weight: bold;\n",
       "font-style: italic;\n",
       "}\n",
       ".hoogle-module {\n",
       "font-weight: bold;\n",
       "}\n",
       ".hoogle-class {\n",
       "font-weight: bold;\n",
       "}\n",
       ".get-type {\n",
       "color: green;\n",
       "font-weight: bold;\n",
       "font-family: monospace;\n",
       "display: block;\n",
       "white-space: pre-wrap;\n",
       "}\n",
       ".show-type {\n",
       "color: green;\n",
       "font-weight: bold;\n",
       "font-family: monospace;\n",
       "margin-left: 1em;\n",
       "}\n",
       ".mono {\n",
       "font-family: monospace;\n",
       "display: block;\n",
       "}\n",
       ".err-msg {\n",
       "color: red;\n",
       "font-style: italic;\n",
       "font-family: monospace;\n",
       "white-space: pre;\n",
       "display: block;\n",
       "}\n",
       "#unshowable {\n",
       "color: red;\n",
       "font-weight: bold;\n",
       "}\n",
       ".err-msg.in.collapse {\n",
       "padding-top: 0.7em;\n",
       "}\n",
       ".highlight-code {\n",
       "white-space: pre;\n",
       "font-family: monospace;\n",
       "}\n",
       ".suggestion-warning { \n",
       "font-weight: bold;\n",
       "color: rgb(200, 130, 0);\n",
       "}\n",
       ".suggestion-error { \n",
       "font-weight: bold;\n",
       "color: red;\n",
       "}\n",
       ".suggestion-name {\n",
       "font-weight: bold;\n",
       "}\n",
       "</style><div class=\"suggestion-name\" style=\"clear:both;\">Redundant bracket</div><div class=\"suggestion-row\" style=\"float: left;\"><div class=\"suggestion-warning\">Found:</div><div class=\"highlight-code\" id=\"haskell\">(\"\")</div></div><div class=\"suggestion-row\" style=\"float: left;\"><div class=\"suggestion-warning\">Why Not:</div><div class=\"highlight-code\" id=\"haskell\">\"\"</div></div><div class=\"suggestion-name\" style=\"clear:both;\">Redundant bracket</div><div class=\"suggestion-row\" style=\"float: left;\"><div class=\"suggestion-warning\">Found:</div><div class=\"highlight-code\" id=\"haskell\">(\"asd\")</div></div><div class=\"suggestion-row\" style=\"float: left;\"><div class=\"suggestion-warning\">Why Not:</div><div class=\"highlight-code\" id=\"haskell\">\"asd\"</div></div>"
      ],
      "text/plain": [
       "Line 2: Redundant bracket\n",
       "Found:\n",
       "(\"\")\n",
       "Why not:\n",
       "\"\"Line 3: Redundant bracket\n",
       "Found:\n",
       "(\"asd\")\n",
       "Why not:\n",
       "\"asd\""
      ]
     },
     "metadata": {},
     "output_type": "display_data"
    },
    {
     "data": {
      "text/plain": [
       "Nothing"
      ]
     },
     "metadata": {},
     "output_type": "display_data"
    }
   ],
   "source": [
    "do \n",
    "    (x:xs) <- Just (\"\")\n",
    "    (y:ys) <- Just (\"asd\")\n",
    "    return y\n",
    "-- 패턴 매칭이 실패하면, 전체 컨텍스트가 실패한듯한 효과를 낸다\n",
    "-- do 표현식이 실패하는 것"
   ]
  },
  {
   "cell_type": "markdown",
   "id": "9f281b28-aa1a-44d3-91f1-cafe3ef093f4",
   "metadata": {},
   "source": [
    "## 리스트 모나드"
   ]
  },
  {
   "cell_type": "code",
   "execution_count": 113,
   "id": "9170ea7d-5310-4538-bfa5-f27d5f0aba6c",
   "metadata": {},
   "outputs": [
    {
     "data": {
      "text/plain": [
       "[10,100,1000,20,200,2000,30,300,3000]"
      ]
     },
     "metadata": {},
     "output_type": "display_data"
    }
   ],
   "source": [
    "(*) <$> [1,2,3] <*> [10,100,1000]  \n",
    "-- 리스트는 비결정형 값\n",
    "-- 인풋, 아웃풋이 모두 비결정형 값"
   ]
  },
  {
   "cell_type": "code",
   "execution_count": null,
   "id": "42ad9609-c2a2-40e5-bb3b-182063a8ef8c",
   "metadata": {},
   "outputs": [],
   "source": [
    "-- 리스트에 대한 모나드 선언\n",
    "instance Monad [] where  \n",
    "    return x = [x]  \n",
    "    -- pure와 같은 작업\n",
    "    xs >>= f = concat (map f xs)  \n",
    "    -- 컨텍스트 값과 일반값 처리 함수 받음\n",
    "    -- concat 함수를 통해 map 결과물을 flatten 함으로 이해\n",
    "    fail _ = []  \n",
    "    -- 실패 컨텍스트는 에러가 아닌 []이다"
   ]
  },
  {
   "cell_type": "code",
   "execution_count": 114,
   "id": "04766126-2e32-4047-905f-d9c62c29c691",
   "metadata": {},
   "outputs": [
    {
     "data": {
      "text/html": [
       "<style>/* Styles used for the Hoogle display in the pager */\n",
       ".hoogle-doc {\n",
       "display: block;\n",
       "padding-bottom: 1.3em;\n",
       "padding-left: 0.4em;\n",
       "}\n",
       ".hoogle-code {\n",
       "display: block;\n",
       "font-family: monospace;\n",
       "white-space: pre;\n",
       "}\n",
       ".hoogle-text {\n",
       "display: block;\n",
       "}\n",
       ".hoogle-name {\n",
       "color: green;\n",
       "font-weight: bold;\n",
       "}\n",
       ".hoogle-head {\n",
       "font-weight: bold;\n",
       "}\n",
       ".hoogle-sub {\n",
       "display: block;\n",
       "margin-left: 0.4em;\n",
       "}\n",
       ".hoogle-package {\n",
       "font-weight: bold;\n",
       "font-style: italic;\n",
       "}\n",
       ".hoogle-module {\n",
       "font-weight: bold;\n",
       "}\n",
       ".hoogle-class {\n",
       "font-weight: bold;\n",
       "}\n",
       ".get-type {\n",
       "color: green;\n",
       "font-weight: bold;\n",
       "font-family: monospace;\n",
       "display: block;\n",
       "white-space: pre-wrap;\n",
       "}\n",
       ".show-type {\n",
       "color: green;\n",
       "font-weight: bold;\n",
       "font-family: monospace;\n",
       "margin-left: 1em;\n",
       "}\n",
       ".mono {\n",
       "font-family: monospace;\n",
       "display: block;\n",
       "}\n",
       ".err-msg {\n",
       "color: red;\n",
       "font-style: italic;\n",
       "font-family: monospace;\n",
       "white-space: pre;\n",
       "display: block;\n",
       "}\n",
       "#unshowable {\n",
       "color: red;\n",
       "font-weight: bold;\n",
       "}\n",
       ".err-msg.in.collapse {\n",
       "padding-top: 0.7em;\n",
       "}\n",
       ".highlight-code {\n",
       "white-space: pre;\n",
       "font-family: monospace;\n",
       "}\n",
       ".suggestion-warning { \n",
       "font-weight: bold;\n",
       "color: rgb(200, 130, 0);\n",
       "}\n",
       ".suggestion-error { \n",
       "font-weight: bold;\n",
       "color: red;\n",
       "}\n",
       ".suggestion-name {\n",
       "font-weight: bold;\n",
       "}\n",
       "</style><span class='get-type'>concat :: forall (t :: * -> *) a. Foldable t => t [a] -> [a]</span>"
      ],
      "text/plain": [
       "concat :: forall (t :: * -> *) a. Foldable t => t [a] -> [a]"
      ]
     },
     "metadata": {},
     "output_type": "display_data"
    }
   ],
   "source": [
    ":t concat"
   ]
  },
  {
   "cell_type": "code",
   "execution_count": 118,
   "id": "15764bac-c35f-4885-af05-d3425b84be74",
   "metadata": {},
   "outputs": [
    {
     "data": {
      "text/plain": [
       "[3,-3,4,-4,5,-5]"
      ]
     },
     "metadata": {},
     "output_type": "display_data"
    }
   ],
   "source": [
    "[3,4,5] >>= \\x -> [x, -x]\n",
    "-- Maybe의 컨텍스트는 성공 or 실패 였으나\n",
    "-- 리스트의 컨텍스트는 비결정성이다.\n",
    "-- 이때 x는 컨텍스트 안의 비결정형 값 중 하나"
   ]
  },
  {
   "cell_type": "code",
   "execution_count": 120,
   "id": "87022336-4605-4d15-a72c-e75988e1ac70",
   "metadata": {},
   "outputs": [
    {
     "data": {
      "text/html": [
       "<style>/* Styles used for the Hoogle display in the pager */\n",
       ".hoogle-doc {\n",
       "display: block;\n",
       "padding-bottom: 1.3em;\n",
       "padding-left: 0.4em;\n",
       "}\n",
       ".hoogle-code {\n",
       "display: block;\n",
       "font-family: monospace;\n",
       "white-space: pre;\n",
       "}\n",
       ".hoogle-text {\n",
       "display: block;\n",
       "}\n",
       ".hoogle-name {\n",
       "color: green;\n",
       "font-weight: bold;\n",
       "}\n",
       ".hoogle-head {\n",
       "font-weight: bold;\n",
       "}\n",
       ".hoogle-sub {\n",
       "display: block;\n",
       "margin-left: 0.4em;\n",
       "}\n",
       ".hoogle-package {\n",
       "font-weight: bold;\n",
       "font-style: italic;\n",
       "}\n",
       ".hoogle-module {\n",
       "font-weight: bold;\n",
       "}\n",
       ".hoogle-class {\n",
       "font-weight: bold;\n",
       "}\n",
       ".get-type {\n",
       "color: green;\n",
       "font-weight: bold;\n",
       "font-family: monospace;\n",
       "display: block;\n",
       "white-space: pre-wrap;\n",
       "}\n",
       ".show-type {\n",
       "color: green;\n",
       "font-weight: bold;\n",
       "font-family: monospace;\n",
       "margin-left: 1em;\n",
       "}\n",
       ".mono {\n",
       "font-family: monospace;\n",
       "display: block;\n",
       "}\n",
       ".err-msg {\n",
       "color: red;\n",
       "font-style: italic;\n",
       "font-family: monospace;\n",
       "white-space: pre;\n",
       "display: block;\n",
       "}\n",
       "#unshowable {\n",
       "color: red;\n",
       "font-weight: bold;\n",
       "}\n",
       ".err-msg.in.collapse {\n",
       "padding-top: 0.7em;\n",
       "}\n",
       ".highlight-code {\n",
       "white-space: pre;\n",
       "font-family: monospace;\n",
       "}\n",
       ".suggestion-warning { \n",
       "font-weight: bold;\n",
       "color: rgb(200, 130, 0);\n",
       "}\n",
       ".suggestion-error { \n",
       "font-weight: bold;\n",
       "color: red;\n",
       "}\n",
       ".suggestion-name {\n",
       "font-weight: bold;\n",
       "}\n",
       "</style><div class=\"suggestion-name\" style=\"clear:both;\">Use const</div><div class=\"suggestion-row\" style=\"float: left;\"><div class=\"suggestion-warning\">Found:</div><div class=\"highlight-code\" id=\"haskell\">\\ x -> [\"bad\", \"mad\", \"rad\"]</div></div><div class=\"suggestion-row\" style=\"float: left;\"><div class=\"suggestion-warning\">Why Not:</div><div class=\"highlight-code\" id=\"haskell\">const [\"bad\", \"mad\", \"rad\"]</div></div><div class=\"suggestion-name\" style=\"clear:both;\">Use const</div><div class=\"suggestion-row\" style=\"float: left;\"><div class=\"suggestion-warning\">Found:</div><div class=\"highlight-code\" id=\"haskell\">\\ x -> []</div></div><div class=\"suggestion-row\" style=\"float: left;\"><div class=\"suggestion-warning\">Why Not:</div><div class=\"highlight-code\" id=\"haskell\">const []</div></div>"
      ],
      "text/plain": [
       "Line 3: Use const\n",
       "Found:\n",
       "\\ x -> [\"bad\", \"mad\", \"rad\"]\n",
       "Why not:\n",
       "const [\"bad\", \"mad\", \"rad\"]Line 4: Use const\n",
       "Found:\n",
       "\\ x -> []\n",
       "Why not:\n",
       "const []"
      ]
     },
     "metadata": {},
     "output_type": "display_data"
    },
    {
     "data": {
      "text/plain": [
       "[]"
      ]
     },
     "metadata": {},
     "output_type": "display_data"
    },
    {
     "data": {
      "text/plain": [
       "[]"
      ]
     },
     "metadata": {},
     "output_type": "display_data"
    }
   ],
   "source": [
    "--비결정형 역시 실패 컨텍스트를 가지고 있다\n",
    "-- []는 Nothing과 매우 유사하다. 결과가 없음을 의미하기 때문\n",
    "[] >>= \\x -> [\"bad\", \"mad\", \"rad\"]\n",
    "[1,2,3] >>= \\x -> []"
   ]
  },
  {
   "cell_type": "code",
   "execution_count": 129,
   "id": "47ae10fc-6fe5-4022-b671-437321221fda",
   "metadata": {},
   "outputs": [
    {
     "data": {
      "text/plain": [
       "[(1,'a'),(1,'b'),(2,'a'),(2,'b')]"
      ]
     },
     "metadata": {},
     "output_type": "display_data"
    },
    {
     "data": {
      "text/plain": [
       "[(1,'a'),(1,'b'),(2,'a'),(2,'b')]"
      ]
     },
     "metadata": {},
     "output_type": "display_data"
    },
    {
     "data": {
      "text/plain": [
       "[(1,'a'),(1,'b'),(2,'a'),(2,'b')]"
      ]
     },
     "metadata": {},
     "output_type": "display_data"
    }
   ],
   "source": [
    "[1,2] >>= \\n -> ['a', 'b'] >>= \\ch -> return (n, ch)\n",
    "\n",
    "do \n",
    "    n <- [1,2]\n",
    "    ch <- ['a', 'b']\n",
    "    return (n, ch)\n",
    "    \n",
    "[(n, ch) | n <- [1,2], ch <- ['a', 'b']]"
   ]
  },
  {
   "cell_type": "code",
   "execution_count": 130,
   "id": "55ecabf5-b5dc-49ca-8910-c2e79278ff9d",
   "metadata": {},
   "outputs": [],
   "source": [
    "-- 해설편\n",
    "-- xs >>= f = concat (map f xs)\n",
    "\n",
    "-- 1에 대해서\n",
    "-- 1, \"ab\" => [(1, 'a'), (1, 'b')]\n",
    "-- 2에 대해서\n",
    "-- 2, \"ab\" => [(2, 'a'), (2, 'b')]"
   ]
  },
  {
   "cell_type": "markdown",
   "id": "b15c821f-aa53-472d-b086-b75aa9b4658b",
   "metadata": {},
   "source": [
    "## MonadPlus & guard 함수"
   ]
  },
  {
   "cell_type": "code",
   "execution_count": 135,
   "id": "69584a2f-9aed-4822-a61a-2ac9860d08f0",
   "metadata": {},
   "outputs": [
    {
     "data": {
      "text/plain": [
       "[7,17,27,37,47]"
      ]
     },
     "metadata": {},
     "output_type": "display_data"
    }
   ],
   "source": [
    "[x | x <- [1..50], '7' `elem` show x]"
   ]
  },
  {
   "cell_type": "code",
   "execution_count": 134,
   "id": "860a52fd-5ece-4bbb-819e-2b2a77f48263",
   "metadata": {},
   "outputs": [
    {
     "data": {},
     "metadata": {},
     "output_type": "display_data"
    },
    {
     "data": {
      "text/html": [
       "<div style='background: rgb(247, 247, 247);'><form><textarea id='code'>type Monad.MonadPlus :: (* -> *) -> Constraint\n",
       "class (GHC.Base.Alternative m, Monad m) => Monad.MonadPlus m where\n",
       "  Monad.mzero :: m a\n",
       "  Monad.mplus :: m a -> m a -> m a\n",
       "  \t-- Defined in ‘GHC.Base’\n",
       "instance Monad.MonadPlus [] -- Defined in ‘GHC.Base’\n",
       "instance Monad.MonadPlus Maybe -- Defined in ‘GHC.Base’\n",
       "instance Monad.MonadPlus IO -- Defined in ‘GHC.Base’\n",
       "instance [safe] Control.Monad.Trans.Error.Error e => Monad.MonadPlus (Either e) -- Defined in ‘Control.Monad.Trans.Error’\n",
       "</textarea></form></div><script>CodeMirror.fromTextArea(document.getElementById('code'), {mode: 'haskell', readOnly: 'nocursor'});</script>"
      ],
      "text/plain": [
       "type Monad.MonadPlus :: (* -> *) -> Constraint\n",
       "class (GHC.Base.Alternative m, Monad m) => Monad.MonadPlus m where\n",
       "  Monad.mzero :: m a\n",
       "  Monad.mplus :: m a -> m a -> m a\n",
       "  \t-- Defined in ‘GHC.Base’\n",
       "instance Monad.MonadPlus [] -- Defined in ‘GHC.Base’\n",
       "instance Monad.MonadPlus Maybe -- Defined in ‘GHC.Base’\n",
       "instance Monad.MonadPlus IO -- Defined in ‘GHC.Base’\n",
       "instance [safe] Control.Monad.Trans.Error.Error e => Monad.MonadPlus (Either e) -- Defined in ‘Control.Monad.Trans.Error’"
      ]
     },
     "metadata": {},
     "output_type": "display_data"
    }
   ],
   "source": [
    "import qualified Control.Monad as Monad\n",
    ":info Monad.MonadPlus\n",
    "\n",
    "class (GHC.Base.Alternative m, Monad m) => Monad.MonadPlus m where\n",
    "  Monad.mzero :: m a\n",
    "  -- Monoid의 mempty와 비슷 (항등원)\n",
    "  -- 즉슨, 다형성 상수라는 이야기\n",
    "  Monad.mplus :: m a -> m a -> m a\n",
    "  -- Monoid의 mappend와 비슷\n",
    "  -- 동일한 타입 두개를 받아 또 다른 값을 반환\n",
    "  -- 어떤 방법으로 두 가지를 이용하여 연산하는 것을 의미"
   ]
  },
  {
   "cell_type": "code",
   "execution_count": 136,
   "id": "1c5f8673-0f4b-4bf6-b050-f15f099a7433",
   "metadata": {},
   "outputs": [
    {
     "data": {},
     "metadata": {},
     "output_type": "display_data"
    },
    {
     "data": {
      "text/html": [
       "<div style='background: rgb(247, 247, 247);'><form><textarea id='code'>type [] :: * -> *\n",
       "data [] a = [] | a : [a]\n",
       "  \t-- Defined in ‘GHC.Types’\n",
       "instance IHaskellDisplay a => IHaskellDisplay [a] -- Defined in ‘IHaskell.Types’\n",
       "instance Functor [] -- Defined in ‘GHC.Base’\n",
       "instance Show a => Show [a] -- Defined in ‘GHC.Show’\n",
       "instance Eq a => Eq [a] -- Defined in ‘GHC.Classes’\n",
       "instance Monoid [a] -- Defined in ‘GHC.Base’\n",
       "instance Ord a => Ord [a] -- Defined in ‘GHC.Classes’\n",
       "instance Semigroup [a] -- Defined in ‘GHC.Base’\n",
       "instance Read a => Read [a] -- Defined in ‘GHC.Read’\n",
       "instance Applicative [] -- Defined in ‘GHC.Base’\n",
       "instance Foldable [] -- Defined in ‘Data.Foldable’\n",
       "instance Monad [] -- Defined in ‘GHC.Base’\n",
       "instance MonadFail [] -- Defined in ‘Control.Monad.Fail’\n",
       "instance Monad.MonadPlus [] -- Defined in ‘GHC.Base’\n",
       "instance Traversable [] -- Defined in ‘Data.Traversable’\n",
       "</textarea></form></div><script>CodeMirror.fromTextArea(document.getElementById('code'), {mode: 'haskell', readOnly: 'nocursor'});</script>"
      ],
      "text/plain": [
       "type [] :: * -> *\n",
       "data [] a = [] | a : [a]\n",
       "  \t-- Defined in ‘GHC.Types’\n",
       "instance IHaskellDisplay a => IHaskellDisplay [a] -- Defined in ‘IHaskell.Types’\n",
       "instance Functor [] -- Defined in ‘GHC.Base’\n",
       "instance Show a => Show [a] -- Defined in ‘GHC.Show’\n",
       "instance Eq a => Eq [a] -- Defined in ‘GHC.Classes’\n",
       "instance Monoid [a] -- Defined in ‘GHC.Base’\n",
       "instance Ord a => Ord [a] -- Defined in ‘GHC.Classes’\n",
       "instance Semigroup [a] -- Defined in ‘GHC.Base’\n",
       "instance Read a => Read [a] -- Defined in ‘GHC.Read’\n",
       "instance Applicative [] -- Defined in ‘GHC.Base’\n",
       "instance Foldable [] -- Defined in ‘Data.Foldable’\n",
       "instance Monad [] -- Defined in ‘GHC.Base’\n",
       "instance MonadFail [] -- Defined in ‘Control.Monad.Fail’\n",
       "instance Monad.MonadPlus [] -- Defined in ‘GHC.Base’\n",
       "instance Traversable [] -- Defined in ‘Data.Traversable’"
      ]
     },
     "metadata": {},
     "output_type": "display_data"
    }
   ],
   "source": [
    "-- 리스트는 모나드일뿐만 아니라 모노이드이기도 하기 때문에 \n",
    "-- MonadPlus 타입 클래스의 인스턴스를 만들 수 있다.\n",
    "\n",
    ":info []\n",
    "-- instance Monad.MonadPlus [] -- Defined in ‘GHC.Base’\n",
    "instance MonadPlus [] where  \n",
    "    mzero = []  \n",
    "    -- 항등원\n",
    "    -- 계산이 실패한 비결정형 계산\n",
    "    mplus = (++)  \n",
    "    -- mappend\n",
    "    -- 비결정형 값을 합침"
   ]
  },
  {
   "cell_type": "code",
   "execution_count": 141,
   "id": "8f3e9225-593f-487e-a24c-d927f0b6067b",
   "metadata": {},
   "outputs": [
    {
     "data": {
      "text/html": [
       "<style>/* Styles used for the Hoogle display in the pager */\n",
       ".hoogle-doc {\n",
       "display: block;\n",
       "padding-bottom: 1.3em;\n",
       "padding-left: 0.4em;\n",
       "}\n",
       ".hoogle-code {\n",
       "display: block;\n",
       "font-family: monospace;\n",
       "white-space: pre;\n",
       "}\n",
       ".hoogle-text {\n",
       "display: block;\n",
       "}\n",
       ".hoogle-name {\n",
       "color: green;\n",
       "font-weight: bold;\n",
       "}\n",
       ".hoogle-head {\n",
       "font-weight: bold;\n",
       "}\n",
       ".hoogle-sub {\n",
       "display: block;\n",
       "margin-left: 0.4em;\n",
       "}\n",
       ".hoogle-package {\n",
       "font-weight: bold;\n",
       "font-style: italic;\n",
       "}\n",
       ".hoogle-module {\n",
       "font-weight: bold;\n",
       "}\n",
       ".hoogle-class {\n",
       "font-weight: bold;\n",
       "}\n",
       ".get-type {\n",
       "color: green;\n",
       "font-weight: bold;\n",
       "font-family: monospace;\n",
       "display: block;\n",
       "white-space: pre-wrap;\n",
       "}\n",
       ".show-type {\n",
       "color: green;\n",
       "font-weight: bold;\n",
       "font-family: monospace;\n",
       "margin-left: 1em;\n",
       "}\n",
       ".mono {\n",
       "font-family: monospace;\n",
       "display: block;\n",
       "}\n",
       ".err-msg {\n",
       "color: red;\n",
       "font-style: italic;\n",
       "font-family: monospace;\n",
       "white-space: pre;\n",
       "display: block;\n",
       "}\n",
       "#unshowable {\n",
       "color: red;\n",
       "font-weight: bold;\n",
       "}\n",
       ".err-msg.in.collapse {\n",
       "padding-top: 0.7em;\n",
       "}\n",
       ".highlight-code {\n",
       "white-space: pre;\n",
       "font-family: monospace;\n",
       "}\n",
       ".suggestion-warning { \n",
       "font-weight: bold;\n",
       "color: rgb(200, 130, 0);\n",
       "}\n",
       ".suggestion-error { \n",
       "font-weight: bold;\n",
       "color: red;\n",
       "}\n",
       ".suggestion-name {\n",
       "font-weight: bold;\n",
       "}\n",
       "</style><span class='get-type'>Monad.guard :: forall (f :: * -> *). Alternative f => Bool -> f ()</span>"
      ],
      "text/plain": [
       "Monad.guard :: forall (f :: * -> *). Alternative f => Bool -> f ()"
      ]
     },
     "metadata": {},
     "output_type": "display_data"
    }
   ],
   "source": [
    "import qualified Control.Monad as Monad\n",
    "\n",
    ":t Monad.guard\n",
    "\n",
    "guard :: (MonadPlus m) => Bool -> m ()  \n",
    "\n",
    "guard True = return ()  \n",
    "-- True 일 경우 비실행 컨텍스트 내부에 ()\n",
    "guard False = mzero  \n",
    "-- False 일 경우 실패 컨텍스트"
   ]
  },
  {
   "cell_type": "code",
   "execution_count": 142,
   "id": "9593f294-967b-4bdf-867c-e612ed7d5852",
   "metadata": {},
   "outputs": [
    {
     "data": {
      "text/plain": [
       "Just ()"
      ]
     },
     "metadata": {},
     "output_type": "display_data"
    },
    {
     "data": {
      "text/plain": [
       "Nothing"
      ]
     },
     "metadata": {},
     "output_type": "display_data"
    },
    {
     "data": {
      "text/plain": [
       "[()]"
      ]
     },
     "metadata": {},
     "output_type": "display_data"
    },
    {
     "data": {
      "text/plain": [
       "[]"
      ]
     },
     "metadata": {},
     "output_type": "display_data"
    }
   ],
   "source": [
    "import qualified Control.Monad as Monad\n",
    "\n",
    "Monad.guard (5 > 2) :: Maybe () -- true \n",
    "Monad.guard (1 > 2) :: Maybe () -- false\n",
    "Monad.guard (5 > 2) :: [()] -- true\n",
    "Monad.guard (1 > 2) :: [()] -- false\n",
    "-- 어떤 곳에 사용하는 것일까?"
   ]
  },
  {
   "cell_type": "code",
   "execution_count": 147,
   "id": "89882820-8ded-420b-ba10-4d2845a4ad37",
   "metadata": {},
   "outputs": [
    {
     "data": {
      "text/plain": [
       "[7,17,27,37,47]"
      ]
     },
     "metadata": {},
     "output_type": "display_data"
    }
   ],
   "source": [
    "import qualified Control.Monad as Monad\n",
    "\n",
    "-- 리스트 모나드에서 비결정형 계산을 필터링하기 위해 이것을 사용한다.\n",
    "[1..50] >>= (\\x -> Monad.guard ('7' `elem` show x) >> return x)\n",
    "-- >> 왼편은 실패 혹은 성공 컨텍스트를 반환하고\n",
    "-- >> 오른편은 >> 함수에 의해 실패 혹은 x에 성공 컨텍스트를 씌운 값을 반환한다.\n",
    "-- 내부의 값보다는(물론 필요하긴 하지만) 성공, 실패 컨텍스트가 중요\n",
    "-- >> 는 좌항이 성공컨텍스트면 우항의 값을, 실패컨텍스트면 실패를 반환한다\n",
    "\n",
    "-- 결국 7이 들어가는 element만 map 으로 걸른다음 return 하여 컨텍스트를 씌운후\n",
    "-- [[],[],[], ..., [7], ... ] 이런 형태\n",
    "-- concat한 것 (flatten)"
   ]
  },
  {
   "cell_type": "code",
   "execution_count": 153,
   "id": "459428d3-9a07-4386-bdb3-b4b4b1a2c272",
   "metadata": {},
   "outputs": [
    {
     "data": {
      "text/plain": [
       "[7,17,27,37,47]"
      ]
     },
     "metadata": {},
     "output_type": "display_data"
    },
    {
     "data": {
      "text/plain": [
       "[7,17,27,37,47]"
      ]
     },
     "metadata": {},
     "output_type": "display_data"
    }
   ],
   "source": [
    "import qualified Control.Monad as Monad\n",
    "\n",
    "-- 아래와 동등하다\n",
    "-- do notation version\n",
    "do \n",
    "    x <- [1..50]\n",
    "    Monad.guard ('7' `elem` show x)\n",
    "    -- 이부분이 >> 연산자로 연결되는 부분이다\n",
    "    return x\n",
    "    \n",
    "-- list comprehension version\n",
    "[x | x <- [1..50], '7' `elem` show x]\n",
    "-- 따라서, list comprehension에서의 필터링은 guard를 이용하는 것과 동일하다"
   ]
  },
  {
   "cell_type": "code",
   "execution_count": 150,
   "id": "3f9be163-5827-4d26-baf5-3a3e73ea6017",
   "metadata": {},
   "outputs": [
    {
     "data": {
      "text/plain": [
       "[\"cool\"]"
      ]
     },
     "metadata": {},
     "output_type": "display_data"
    },
    {
     "data": {
      "text/plain": [
       "[]"
      ]
     },
     "metadata": {},
     "output_type": "display_data"
    }
   ],
   "source": [
    "import qualified Control.Monad as Monad\n",
    "\n",
    "Monad.guard (5 > 2) >> return \"cool\" :: [String]\n",
    "Monad.guard (1 > 2) >> return \"cool\" :: [String]\n",
    "\n",
    "-- guard 자체만으로는 반환 컨텍스트 내부에 들어갈 값을 유지할수는 없다.\n",
    "-- guard 밖에서 Scope를 유지해야할 것"
   ]
  },
  {
   "cell_type": "markdown",
   "id": "0f127032-15b9-44d3-9d44-63726439b6c8",
   "metadata": {},
   "source": [
    "## 기사의 의무"
   ]
  },
  {
   "cell_type": "code",
   "execution_count": 177,
   "id": "f61d4fbf-de50-474f-8379-1e0abf16a14c",
   "metadata": {},
   "outputs": [],
   "source": [
    "type KnightPos = (Int, Int)"
   ]
  },
  {
   "cell_type": "code",
   "execution_count": 176,
   "id": "0957c0de-e2bf-4e9b-bb75-0323ddb89098",
   "metadata": {},
   "outputs": [],
   "source": [
    "import qualified Control.Monad as Monad\n",
    "\n",
    "moveKnight :: KnightPos -> [KnightPos]\n",
    "moveKnight (c,r) = do  \n",
    "    (c',r') <- [(c+2,r-1),(c+2,r+1),(c-2,r-1),(c-2,r+1)  \n",
    "               ,(c+1,r-2),(c+1,r+2),(c-1,r-2),(c-1,r+2)  \n",
    "               ]  \n",
    "    -- knight가 이동할 수 있는 모든 방위\n",
    "    Monad.guard (c' `elem` [1..8] && r' `elem` [1..8])  \n",
    "    -- 보드 위에 있는지 필터링\n",
    "    return (c',r')\n",
    "    -- 반환"
   ]
  },
  {
   "cell_type": "code",
   "execution_count": 158,
   "id": "64641950-45f1-4bf7-8c98-45b6ec16ff92",
   "metadata": {},
   "outputs": [],
   "source": [
    "--굳이 Monad를 사용하지 않아도 된다.\n",
    "--하지만 이게 Monad를 사용하지 않는것일까?\n",
    "moveKnight :: KnightPos -> [KnightPos]  \n",
    "moveKnight (c,r) = filter onBoard  \n",
    "    [(c+2,r-1),(c+2,r+1),(c-2,r-1),(c-2,r+1)  \n",
    "    ,(c+1,r-2),(c+1,r+2),(c-1,r-2),(c-1,r+2)  \n",
    "    ]  \n",
    "    where onBoard (c, r) = c `elem` [1..8] && r `elem` [1..8]"
   ]
  },
  {
   "cell_type": "code",
   "execution_count": 160,
   "id": "dc3db68f-9759-473e-a2d5-9bc53e6dc86a",
   "metadata": {},
   "outputs": [
    {
     "data": {
      "text/plain": [
       "[(8,1),(8,3),(4,1),(4,3),(7,4),(5,4)]"
      ]
     },
     "metadata": {},
     "output_type": "display_data"
    },
    {
     "data": {
      "text/plain": [
       "[(6,2),(7,3)]"
      ]
     },
     "metadata": {},
     "output_type": "display_data"
    }
   ],
   "source": [
    "moveKnight (6,2)\n",
    "moveKnight (8,1)"
   ]
  },
  {
   "cell_type": "code",
   "execution_count": 178,
   "id": "727940f1-2f86-48ea-9e9d-335ac665e640",
   "metadata": {},
   "outputs": [],
   "source": [
    "in3 :: KnightPos -> [KnightPos]\n",
    "in3 start = do\n",
    "    first <- moveKnight start\n",
    "    second <- moveKnight first\n",
    "    moveKnight second"
   ]
  },
  {
   "cell_type": "code",
   "execution_count": 207,
   "id": "dc4749c3-9f4d-48ce-9076-412b90ed14d3",
   "metadata": {},
   "outputs": [
    {
     "data": {
      "text/html": [
       "<style>/* Styles used for the Hoogle display in the pager */\n",
       ".hoogle-doc {\n",
       "display: block;\n",
       "padding-bottom: 1.3em;\n",
       "padding-left: 0.4em;\n",
       "}\n",
       ".hoogle-code {\n",
       "display: block;\n",
       "font-family: monospace;\n",
       "white-space: pre;\n",
       "}\n",
       ".hoogle-text {\n",
       "display: block;\n",
       "}\n",
       ".hoogle-name {\n",
       "color: green;\n",
       "font-weight: bold;\n",
       "}\n",
       ".hoogle-head {\n",
       "font-weight: bold;\n",
       "}\n",
       ".hoogle-sub {\n",
       "display: block;\n",
       "margin-left: 0.4em;\n",
       "}\n",
       ".hoogle-package {\n",
       "font-weight: bold;\n",
       "font-style: italic;\n",
       "}\n",
       ".hoogle-module {\n",
       "font-weight: bold;\n",
       "}\n",
       ".hoogle-class {\n",
       "font-weight: bold;\n",
       "}\n",
       ".get-type {\n",
       "color: green;\n",
       "font-weight: bold;\n",
       "font-family: monospace;\n",
       "display: block;\n",
       "white-space: pre-wrap;\n",
       "}\n",
       ".show-type {\n",
       "color: green;\n",
       "font-weight: bold;\n",
       "font-family: monospace;\n",
       "margin-left: 1em;\n",
       "}\n",
       ".mono {\n",
       "font-family: monospace;\n",
       "display: block;\n",
       "}\n",
       ".err-msg {\n",
       "color: red;\n",
       "font-style: italic;\n",
       "font-family: monospace;\n",
       "white-space: pre;\n",
       "display: block;\n",
       "}\n",
       "#unshowable {\n",
       "color: red;\n",
       "font-weight: bold;\n",
       "}\n",
       ".err-msg.in.collapse {\n",
       "padding-top: 0.7em;\n",
       "}\n",
       ".highlight-code {\n",
       "white-space: pre;\n",
       "font-family: monospace;\n",
       "}\n",
       ".suggestion-warning { \n",
       "font-weight: bold;\n",
       "color: rgb(200, 130, 0);\n",
       "}\n",
       ".suggestion-error { \n",
       "font-weight: bold;\n",
       "color: red;\n",
       "}\n",
       ".suggestion-name {\n",
       "font-weight: bold;\n",
       "}\n",
       "</style><div class=\"suggestion-name\" style=\"clear:both;\">Monad law, left identity</div><div class=\"suggestion-row\" style=\"float: left;\"><div class=\"suggestion-warning\">Found:</div><div class=\"highlight-code\" id=\"haskell\">return start >>= moveKnight</div></div><div class=\"suggestion-row\" style=\"float: left;\"><div class=\"suggestion-warning\">Why Not:</div><div class=\"highlight-code\" id=\"haskell\">moveKnight start</div></div>"
      ],
      "text/plain": [
       "Line 3: Monad law, left identity\n",
       "Found:\n",
       "return start >>= moveKnight\n",
       "Why not:\n",
       "moveKnight start"
      ]
     },
     "metadata": {},
     "output_type": "display_data"
    }
   ],
   "source": [
    "-- bind 표기법으로는 아래와 같다\n",
    "-- 이 상황에는 이번 표기법이 제일 좋은것 같다\n",
    "in3' start = return start >>= moveKnight >>= moveKnight >>= moveKnight"
   ]
  },
  {
   "cell_type": "code",
   "execution_count": 208,
   "id": "b92239f5-4d25-41eb-ade4-55e71e1d4ce6",
   "metadata": {},
   "outputs": [],
   "source": [
    "in3'' :: KnightPos -> [KnightPos]\n",
    "in3'' start = [third | \n",
    "    first <- moveKnight start,\n",
    "    second <- moveKnight first,\n",
    "    third <- moveKnight second]"
   ]
  },
  {
   "cell_type": "code",
   "execution_count": 209,
   "id": "195e72ef-e11f-4c6e-b3bb-2975f37c0c68",
   "metadata": {},
   "outputs": [
    {
     "data": {
      "text/plain": [
       "[(5,2),(8,3),(6,3),(5,2),(5,4),(8,1),(8,5),(6,1),(6,5),(5,2),(1,2),(4,3),(2,3),(5,2),(5,4),(1,2),(1,4),(4,1),(4,5),(2,1),(2,5),(8,3),(8,5),(4,3),(4,5),(7,2),(7,6),(5,2),(5,6),(6,3),(6,5),(2,3),(2,5),(5,2),(5,6),(3,2),(3,6),(5,2),(1,2),(4,3),(2,3),(5,2),(5,4),(1,2),(1,4),(4,1),(4,5),(2,1),(2,5),(4,3),(4,5),(3,2),(3,6),(1,2),(1,6),(8,1),(8,3),(4,1),(4,3),(7,4),(5,4),(8,3),(8,5),(4,3),(4,5),(7,2),(7,6),(5,2),(5,6),(4,1),(4,3),(3,4),(1,4),(4,3),(4,5),(3,2),(3,6),(1,2),(1,6),(7,2),(3,2),(6,3),(4,3),(7,4),(7,6),(3,4),(3,6),(6,3),(6,7),(4,3),(4,7),(5,2),(1,2),(4,3),(2,3),(5,4),(5,6),(1,4),(1,6),(4,3),(4,7),(2,3),(2,7),(6,1),(6,3),(2,1),(2,3),(5,4),(3,4),(6,3),(6,5),(2,3),(2,5),(5,2),(5,6),(3,2),(3,6),(5,2),(1,2),(4,3),(2,3),(5,4),(5,6),(1,4),(1,6),(4,3),(4,7),(2,3),(2,7),(3,2),(2,3),(3,4),(3,6),(2,3),(2,7)]"
      ]
     },
     "metadata": {},
     "output_type": "display_data"
    },
    {
     "data": {
      "text/plain": [
       "[(5,2),(8,3),(6,3),(5,2),(5,4),(8,1),(8,5),(6,1),(6,5),(5,2),(1,2),(4,3),(2,3),(5,2),(5,4),(1,2),(1,4),(4,1),(4,5),(2,1),(2,5),(8,3),(8,5),(4,3),(4,5),(7,2),(7,6),(5,2),(5,6),(6,3),(6,5),(2,3),(2,5),(5,2),(5,6),(3,2),(3,6),(5,2),(1,2),(4,3),(2,3),(5,2),(5,4),(1,2),(1,4),(4,1),(4,5),(2,1),(2,5),(4,3),(4,5),(3,2),(3,6),(1,2),(1,6),(8,1),(8,3),(4,1),(4,3),(7,4),(5,4),(8,3),(8,5),(4,3),(4,5),(7,2),(7,6),(5,2),(5,6),(4,1),(4,3),(3,4),(1,4),(4,3),(4,5),(3,2),(3,6),(1,2),(1,6),(7,2),(3,2),(6,3),(4,3),(7,4),(7,6),(3,4),(3,6),(6,3),(6,7),(4,3),(4,7),(5,2),(1,2),(4,3),(2,3),(5,4),(5,6),(1,4),(1,6),(4,3),(4,7),(2,3),(2,7),(6,1),(6,3),(2,1),(2,3),(5,4),(3,4),(6,3),(6,5),(2,3),(2,5),(5,2),(5,6),(3,2),(3,6),(5,2),(1,2),(4,3),(2,3),(5,4),(5,6),(1,4),(1,6),(4,3),(4,7),(2,3),(2,7),(3,2),(2,3),(3,4),(3,6),(2,3),(2,7)]"
      ]
     },
     "metadata": {},
     "output_type": "display_data"
    },
    {
     "data": {
      "text/plain": [
       "[(5,2),(8,3),(6,3),(5,2),(5,4),(8,1),(8,5),(6,1),(6,5),(5,2),(1,2),(4,3),(2,3),(5,2),(5,4),(1,2),(1,4),(4,1),(4,5),(2,1),(2,5),(8,3),(8,5),(4,3),(4,5),(7,2),(7,6),(5,2),(5,6),(6,3),(6,5),(2,3),(2,5),(5,2),(5,6),(3,2),(3,6),(5,2),(1,2),(4,3),(2,3),(5,2),(5,4),(1,2),(1,4),(4,1),(4,5),(2,1),(2,5),(4,3),(4,5),(3,2),(3,6),(1,2),(1,6),(8,1),(8,3),(4,1),(4,3),(7,4),(5,4),(8,3),(8,5),(4,3),(4,5),(7,2),(7,6),(5,2),(5,6),(4,1),(4,3),(3,4),(1,4),(4,3),(4,5),(3,2),(3,6),(1,2),(1,6),(7,2),(3,2),(6,3),(4,3),(7,4),(7,6),(3,4),(3,6),(6,3),(6,7),(4,3),(4,7),(5,2),(1,2),(4,3),(2,3),(5,4),(5,6),(1,4),(1,6),(4,3),(4,7),(2,3),(2,7),(6,1),(6,3),(2,1),(2,3),(5,4),(3,4),(6,3),(6,5),(2,3),(2,5),(5,2),(5,6),(3,2),(3,6),(5,2),(1,2),(4,3),(2,3),(5,4),(5,6),(1,4),(1,6),(4,3),(4,7),(2,3),(2,7),(3,2),(2,3),(3,4),(3,6),(2,3),(2,7)]"
      ]
     },
     "metadata": {},
     "output_type": "display_data"
    }
   ],
   "source": [
    "in3 (3,1)\n",
    "in3' (3,1)\n",
    "in3'' (3,1)"
   ]
  },
  {
   "cell_type": "code",
   "execution_count": 210,
   "id": "70a81f7e-c47d-42dc-a0a4-f3a4ff8c5ed9",
   "metadata": {},
   "outputs": [],
   "source": [
    "-- 처음과 끝을 받아 세번만에 갈수 있는가를 판단하는 함수\n",
    "canReachIn3 :: KnightPos -> KnightPos -> Bool\n",
    "canReachIn3 start end = end `elem` in3 start"
   ]
  },
  {
   "cell_type": "code",
   "execution_count": 213,
   "id": "200e38f5-1405-46dd-bcdb-9a96873eed86",
   "metadata": {},
   "outputs": [
    {
     "data": {
      "text/plain": [
       "True"
      ]
     },
     "metadata": {},
     "output_type": "display_data"
    },
    {
     "data": {
      "text/plain": [
       "False"
      ]
     },
     "metadata": {},
     "output_type": "display_data"
    }
   ],
   "source": [
    "(6,2) `canReachIn3` (6,1)\n",
    "(6,2) `canReachIn3` (7,3)"
   ]
  },
  {
   "cell_type": "markdown",
   "id": "e4a995a3-8ca0-4e6e-8206-1c50144d09c5",
   "metadata": {},
   "source": [
    "## 모나드 규칙"
   ]
  },
  {
   "cell_type": "markdown",
   "id": "954bde39-de27-4ee5-8664-c17b337e19a9",
   "metadata": {},
   "source": [
    "### 1. 좌항등원\n",
    "\n",
    "`return x >>= f` = `f x`"
   ]
  },
  {
   "cell_type": "code",
   "execution_count": 4,
   "id": "cc97dec7-27be-4708-a0b0-a3240ab63738",
   "metadata": {},
   "outputs": [
    {
     "data": {
      "text/html": [
       "<style>/* Styles used for the Hoogle display in the pager */\n",
       ".hoogle-doc {\n",
       "display: block;\n",
       "padding-bottom: 1.3em;\n",
       "padding-left: 0.4em;\n",
       "}\n",
       ".hoogle-code {\n",
       "display: block;\n",
       "font-family: monospace;\n",
       "white-space: pre;\n",
       "}\n",
       ".hoogle-text {\n",
       "display: block;\n",
       "}\n",
       ".hoogle-name {\n",
       "color: green;\n",
       "font-weight: bold;\n",
       "}\n",
       ".hoogle-head {\n",
       "font-weight: bold;\n",
       "}\n",
       ".hoogle-sub {\n",
       "display: block;\n",
       "margin-left: 0.4em;\n",
       "}\n",
       ".hoogle-package {\n",
       "font-weight: bold;\n",
       "font-style: italic;\n",
       "}\n",
       ".hoogle-module {\n",
       "font-weight: bold;\n",
       "}\n",
       ".hoogle-class {\n",
       "font-weight: bold;\n",
       "}\n",
       ".get-type {\n",
       "color: green;\n",
       "font-weight: bold;\n",
       "font-family: monospace;\n",
       "display: block;\n",
       "white-space: pre-wrap;\n",
       "}\n",
       ".show-type {\n",
       "color: green;\n",
       "font-weight: bold;\n",
       "font-family: monospace;\n",
       "margin-left: 1em;\n",
       "}\n",
       ".mono {\n",
       "font-family: monospace;\n",
       "display: block;\n",
       "}\n",
       ".err-msg {\n",
       "color: red;\n",
       "font-style: italic;\n",
       "font-family: monospace;\n",
       "white-space: pre;\n",
       "display: block;\n",
       "}\n",
       "#unshowable {\n",
       "color: red;\n",
       "font-weight: bold;\n",
       "}\n",
       ".err-msg.in.collapse {\n",
       "padding-top: 0.7em;\n",
       "}\n",
       ".highlight-code {\n",
       "white-space: pre;\n",
       "font-family: monospace;\n",
       "}\n",
       ".suggestion-warning { \n",
       "font-weight: bold;\n",
       "color: rgb(200, 130, 0);\n",
       "}\n",
       ".suggestion-error { \n",
       "font-weight: bold;\n",
       "color: red;\n",
       "}\n",
       ".suggestion-name {\n",
       "font-weight: bold;\n",
       "}\n",
       "</style><div class=\"suggestion-name\" style=\"clear:both;\">Monad law, left identity</div><div class=\"suggestion-row\" style=\"float: left;\"><div class=\"suggestion-warning\">Found:</div><div class=\"highlight-code\" id=\"haskell\">return 3 >>= (\\ x -> Just (x + 100000))</div></div><div class=\"suggestion-row\" style=\"float: left;\"><div class=\"suggestion-warning\">Why Not:</div><div class=\"highlight-code\" id=\"haskell\">(\\ x -> Just (x + 100000)) 3</div></div>"
      ],
      "text/plain": [
       "Line 3: Monad law, left identity\n",
       "Found:\n",
       "return 3 >>= (\\ x -> Just (x + 100000))\n",
       "Why not:\n",
       "(\\ x -> Just (x + 100000)) 3"
      ]
     },
     "metadata": {},
     "output_type": "display_data"
    },
    {
     "data": {
      "text/plain": [
       "Just 100003"
      ]
     },
     "metadata": {},
     "output_type": "display_data"
    },
    {
     "data": {
      "text/plain": [
       "Just 100003"
      ]
     },
     "metadata": {},
     "output_type": "display_data"
    }
   ],
   "source": [
    "-- Maybe의 최소 컨텍스트(return)이 Just 이므로 이해하기 쉽다\n",
    "\n",
    "return 3 >>= (\\x -> Just (x+100000))\n",
    "(\\x -> Just (x+100000)) 3"
   ]
  },
  {
   "cell_type": "code",
   "execution_count": 9,
   "id": "b4ac2333-43b7-4753-b43f-8bd6d56e7e57",
   "metadata": {},
   "outputs": [
    {
     "data": {
      "text/html": [
       "<style>/* Styles used for the Hoogle display in the pager */\n",
       ".hoogle-doc {\n",
       "display: block;\n",
       "padding-bottom: 1.3em;\n",
       "padding-left: 0.4em;\n",
       "}\n",
       ".hoogle-code {\n",
       "display: block;\n",
       "font-family: monospace;\n",
       "white-space: pre;\n",
       "}\n",
       ".hoogle-text {\n",
       "display: block;\n",
       "}\n",
       ".hoogle-name {\n",
       "color: green;\n",
       "font-weight: bold;\n",
       "}\n",
       ".hoogle-head {\n",
       "font-weight: bold;\n",
       "}\n",
       ".hoogle-sub {\n",
       "display: block;\n",
       "margin-left: 0.4em;\n",
       "}\n",
       ".hoogle-package {\n",
       "font-weight: bold;\n",
       "font-style: italic;\n",
       "}\n",
       ".hoogle-module {\n",
       "font-weight: bold;\n",
       "}\n",
       ".hoogle-class {\n",
       "font-weight: bold;\n",
       "}\n",
       ".get-type {\n",
       "color: green;\n",
       "font-weight: bold;\n",
       "font-family: monospace;\n",
       "display: block;\n",
       "white-space: pre-wrap;\n",
       "}\n",
       ".show-type {\n",
       "color: green;\n",
       "font-weight: bold;\n",
       "font-family: monospace;\n",
       "margin-left: 1em;\n",
       "}\n",
       ".mono {\n",
       "font-family: monospace;\n",
       "display: block;\n",
       "}\n",
       ".err-msg {\n",
       "color: red;\n",
       "font-style: italic;\n",
       "font-family: monospace;\n",
       "white-space: pre;\n",
       "display: block;\n",
       "}\n",
       "#unshowable {\n",
       "color: red;\n",
       "font-weight: bold;\n",
       "}\n",
       ".err-msg.in.collapse {\n",
       "padding-top: 0.7em;\n",
       "}\n",
       ".highlight-code {\n",
       "white-space: pre;\n",
       "font-family: monospace;\n",
       "}\n",
       ".suggestion-warning { \n",
       "font-weight: bold;\n",
       "color: rgb(200, 130, 0);\n",
       "}\n",
       ".suggestion-error { \n",
       "font-weight: bold;\n",
       "color: red;\n",
       "}\n",
       ".suggestion-name {\n",
       "font-weight: bold;\n",
       "}\n",
       "</style><div class=\"suggestion-name\" style=\"clear:both;\">Monad law, left identity</div><div class=\"suggestion-row\" style=\"float: left;\"><div class=\"suggestion-warning\">Found:</div><div class=\"highlight-code\" id=\"haskell\">return \"WoM\" >>= (\\ x -> [x, x, x])</div></div><div class=\"suggestion-row\" style=\"float: left;\"><div class=\"suggestion-warning\">Why Not:</div><div class=\"highlight-code\" id=\"haskell\">(\\ x -> [x, x, x]) \"WoM\"</div></div><div class=\"suggestion-name\" style=\"clear:both;\">Use concatMap</div><div class=\"suggestion-row\" style=\"float: left;\"><div class=\"suggestion-warning\">Found:</div><div class=\"highlight-code\" id=\"haskell\">concat $ map (\\ x -> [x, x, x]) $ return \"WoM\"</div></div><div class=\"suggestion-row\" style=\"float: left;\"><div class=\"suggestion-warning\">Why Not:</div><div class=\"highlight-code\" id=\"haskell\">concatMap (\\ x -> [x, x, x]) (return \"WoM\")</div></div>"
      ],
      "text/plain": [
       "Line 1: Monad law, left identity\n",
       "Found:\n",
       "return \"WoM\" >>= (\\ x -> [x, x, x])\n",
       "Why not:\n",
       "(\\ x -> [x, x, x]) \"WoM\"Line 3: Use concatMap\n",
       "Found:\n",
       "concat $ map (\\ x -> [x, x, x]) $ return \"WoM\"\n",
       "Why not:\n",
       "concatMap (\\ x -> [x, x, x]) (return \"WoM\")"
      ]
     },
     "metadata": {},
     "output_type": "display_data"
    },
    {
     "data": {
      "text/plain": [
       "[\"WoM\",\"WoM\",\"WoM\"]"
      ]
     },
     "metadata": {},
     "output_type": "display_data"
    },
    {
     "data": {
      "text/plain": [
       "[\"WoM\",\"WoM\",\"WoM\"]"
      ]
     },
     "metadata": {},
     "output_type": "display_data"
    },
    {
     "data": {
      "text/plain": [
       "[\"WoM\",\"WoM\",\"WoM\"]"
      ]
     },
     "metadata": {},
     "output_type": "display_data"
    }
   ],
   "source": [
    "return \"WoM\" >>= (\\x -> [x,x,x])\n",
    "-- 리스트 위에 리스트 컨텍스트를 다시 씌웠다\n",
    "concat $ map (\\x -> [x,x,x]) $ return \"WoM\"\n",
    "(\\x -> [x,x,x]) \"WoM\""
   ]
  },
  {
   "cell_type": "markdown",
   "id": "e891a9bf-336c-4409-bb2d-d064524eab4f",
   "metadata": {},
   "source": [
    "### 2. 우항등원\n",
    "\n",
    "`m >>= return` = `m`"
   ]
  },
  {
   "cell_type": "code",
   "execution_count": 4,
   "id": "d5a31ab4-4325-4b43-94ec-cf47bb194630",
   "metadata": {},
   "outputs": [
    {
     "data": {
      "text/html": [
       "<style>/* Styles used for the Hoogle display in the pager */\n",
       ".hoogle-doc {\n",
       "display: block;\n",
       "padding-bottom: 1.3em;\n",
       "padding-left: 0.4em;\n",
       "}\n",
       ".hoogle-code {\n",
       "display: block;\n",
       "font-family: monospace;\n",
       "white-space: pre;\n",
       "}\n",
       ".hoogle-text {\n",
       "display: block;\n",
       "}\n",
       ".hoogle-name {\n",
       "color: green;\n",
       "font-weight: bold;\n",
       "}\n",
       ".hoogle-head {\n",
       "font-weight: bold;\n",
       "}\n",
       ".hoogle-sub {\n",
       "display: block;\n",
       "margin-left: 0.4em;\n",
       "}\n",
       ".hoogle-package {\n",
       "font-weight: bold;\n",
       "font-style: italic;\n",
       "}\n",
       ".hoogle-module {\n",
       "font-weight: bold;\n",
       "}\n",
       ".hoogle-class {\n",
       "font-weight: bold;\n",
       "}\n",
       ".get-type {\n",
       "color: green;\n",
       "font-weight: bold;\n",
       "font-family: monospace;\n",
       "display: block;\n",
       "white-space: pre-wrap;\n",
       "}\n",
       ".show-type {\n",
       "color: green;\n",
       "font-weight: bold;\n",
       "font-family: monospace;\n",
       "margin-left: 1em;\n",
       "}\n",
       ".mono {\n",
       "font-family: monospace;\n",
       "display: block;\n",
       "}\n",
       ".err-msg {\n",
       "color: red;\n",
       "font-style: italic;\n",
       "font-family: monospace;\n",
       "white-space: pre;\n",
       "display: block;\n",
       "}\n",
       "#unshowable {\n",
       "color: red;\n",
       "font-weight: bold;\n",
       "}\n",
       ".err-msg.in.collapse {\n",
       "padding-top: 0.7em;\n",
       "}\n",
       ".highlight-code {\n",
       "white-space: pre;\n",
       "font-family: monospace;\n",
       "}\n",
       ".suggestion-warning { \n",
       "font-weight: bold;\n",
       "color: rgb(200, 130, 0);\n",
       "}\n",
       ".suggestion-error { \n",
       "font-weight: bold;\n",
       "color: red;\n",
       "}\n",
       ".suggestion-name {\n",
       "font-weight: bold;\n",
       "}\n",
       "</style><div class=\"suggestion-name\" style=\"clear:both;\">Monad law, right identity</div><div class=\"suggestion-row\" style=\"float: left;\"><div class=\"suggestion-warning\">Found:</div><div class=\"highlight-code\" id=\"haskell\">Nothing >>= return</div></div><div class=\"suggestion-row\" style=\"float: left;\"><div class=\"suggestion-warning\">Why Not:</div><div class=\"highlight-code\" id=\"haskell\">Nothing</div></div><div class=\"suggestion-name\" style=\"clear:both;\">Evaluate</div><div class=\"suggestion-row\" style=\"float: left;\"><div class=\"suggestion-warning\">Found:</div><div class=\"highlight-code\" id=\"haskell\">Nothing >>= return</div></div><div class=\"suggestion-row\" style=\"float: left;\"><div class=\"suggestion-warning\">Why Not:</div><div class=\"highlight-code\" id=\"haskell\">Nothing</div></div><div class=\"suggestion-name\" style=\"clear:both;\">Avoid lambda</div><div class=\"suggestion-row\" style=\"float: left;\"><div class=\"suggestion-warning\">Found:</div><div class=\"highlight-code\" id=\"haskell\">(\\ x -> return x)</div></div><div class=\"suggestion-row\" style=\"float: left;\"><div class=\"suggestion-warning\">Why Not:</div><div class=\"highlight-code\" id=\"haskell\">return</div></div><div class=\"suggestion-name\" style=\"clear:both;\">Avoid lambda</div><div class=\"suggestion-row\" style=\"float: left;\"><div class=\"suggestion-warning\">Found:</div><div class=\"highlight-code\" id=\"haskell\">(\\ x -> return x)</div></div><div class=\"suggestion-row\" style=\"float: left;\"><div class=\"suggestion-warning\">Why Not:</div><div class=\"highlight-code\" id=\"haskell\">return</div></div><div class=\"suggestion-name\" style=\"clear:both;\">Use concatMap</div><div class=\"suggestion-row\" style=\"float: left;\"><div class=\"suggestion-warning\">Found:</div><div class=\"highlight-code\" id=\"haskell\">concat $ map (\\ x -> return x) [1, 2, 3, 4]</div></div><div class=\"suggestion-row\" style=\"float: left;\"><div class=\"suggestion-warning\">Why Not:</div><div class=\"highlight-code\" id=\"haskell\">concatMap (\\ x -> return x) [1, 2, 3, 4]</div></div><div class=\"suggestion-name\" style=\"clear:both;\">Avoid lambda</div><div class=\"suggestion-row\" style=\"float: left;\"><div class=\"suggestion-warning\">Found:</div><div class=\"highlight-code\" id=\"haskell\">(\\ x -> return x)</div></div><div class=\"suggestion-row\" style=\"float: left;\"><div class=\"suggestion-warning\">Why Not:</div><div class=\"highlight-code\" id=\"haskell\">return</div></div><div class=\"suggestion-name\" style=\"clear:both;\">Avoid lambda</div><div class=\"suggestion-row\" style=\"float: left;\"><div class=\"suggestion-warning\">Found:</div><div class=\"highlight-code\" id=\"haskell\">(\\ x -> return x)</div></div><div class=\"suggestion-row\" style=\"float: left;\"><div class=\"suggestion-warning\">Why Not:</div><div class=\"highlight-code\" id=\"haskell\">return</div></div>"
      ],
      "text/plain": [
       "Line 5: Monad law, right identity\n",
       "Found:\n",
       "Nothing >>= return\n",
       "Why not:\n",
       "NothingLine 5: Evaluate\n",
       "Found:\n",
       "Nothing >>= return\n",
       "Why not:\n",
       "NothingLine 6: Avoid lambda\n",
       "Found:\n",
       "(\\ x -> return x)\n",
       "Why not:\n",
       "returnLine 7: Avoid lambda\n",
       "Found:\n",
       "(\\ x -> return x)\n",
       "Why not:\n",
       "returnLine 8: Use concatMap\n",
       "Found:\n",
       "concat $ map (\\ x -> return x) [1, 2, 3, 4]\n",
       "Why not:\n",
       "concatMap (\\ x -> return x) [1, 2, 3, 4]Line 8: Avoid lambda\n",
       "Found:\n",
       "(\\ x -> return x)\n",
       "Why not:\n",
       "returnLine 9: Avoid lambda\n",
       "Found:\n",
       "(\\ x -> return x)\n",
       "Why not:\n",
       "return"
      ]
     },
     "metadata": {},
     "output_type": "display_data"
    },
    {
     "data": {
      "text/plain": [
       "Nothing"
      ]
     },
     "metadata": {},
     "output_type": "display_data"
    },
    {
     "data": {
      "text/plain": [
       "Just \"move on up\""
      ]
     },
     "metadata": {},
     "output_type": "display_data"
    },
    {
     "data": {
      "text/plain": [
       "[1,2,3,4]"
      ]
     },
     "metadata": {},
     "output_type": "display_data"
    },
    {
     "data": {
      "text/plain": [
       "[1,2,3,4]"
      ]
     },
     "metadata": {},
     "output_type": "display_data"
    },
    {
     "data": {
      "text/plain": [
       "Wah!"
      ]
     },
     "metadata": {},
     "output_type": "display_data"
    }
   ],
   "source": [
    "-- m이 >>=의 인자라는 것은, 이미 컨텍스트가 있음을 의미하고 \n",
    "-- return 됨음, 컨텍스트를 다시 씌워져서 반환됨을 의미한다\n",
    "-- 즉슨 컨텍스트를 벗겼다가 씌우면 내버려둔것과 같음을 의미\n",
    "\n",
    "Nothing >>= return -- point free\n",
    "Just \"move on up\" >>= (\\x -> return x)\n",
    "[1,2,3,4] >>= (\\x -> return x)\n",
    "concat $ map (\\x -> return x) [1,2,3,4]\n",
    "putStrLn \"Wah!\" >>= (\\x -> return x)"
   ]
  },
  {
   "cell_type": "markdown",
   "id": "4f4577f1-4be8-4c44-8d96-6da4d5a243a9",
   "metadata": {},
   "source": [
    "### 3. 결합성"
   ]
  },
  {
   "cell_type": "markdown",
   "id": "08585172-146d-483e-8a56-bc69fbf9995a",
   "metadata": {},
   "source": [
    "`(m >>= f) >>= g` = `m >>= (\\x -> f x >>= g)`\n",
    "\n",
    "-- >>= g 입장에서는 컨텍스트 값을 받아야 하므로 우항과 같은 표현이 됨\n",
    "\n",
    "-- 또한 m >>= 입장에서는 함수를 받아야하므로 우항과 같은 표현이 됨"
   ]
  },
  {
   "cell_type": "code",
   "execution_count": 21,
   "id": "5e817297-dc61-4d41-a9fc-44021dc5fb53",
   "metadata": {},
   "outputs": [
    {
     "data": {
      "text/html": [
       "<style>/* Styles used for the Hoogle display in the pager */\n",
       ".hoogle-doc {\n",
       "display: block;\n",
       "padding-bottom: 1.3em;\n",
       "padding-left: 0.4em;\n",
       "}\n",
       ".hoogle-code {\n",
       "display: block;\n",
       "font-family: monospace;\n",
       "white-space: pre;\n",
       "}\n",
       ".hoogle-text {\n",
       "display: block;\n",
       "}\n",
       ".hoogle-name {\n",
       "color: green;\n",
       "font-weight: bold;\n",
       "}\n",
       ".hoogle-head {\n",
       "font-weight: bold;\n",
       "}\n",
       ".hoogle-sub {\n",
       "display: block;\n",
       "margin-left: 0.4em;\n",
       "}\n",
       ".hoogle-package {\n",
       "font-weight: bold;\n",
       "font-style: italic;\n",
       "}\n",
       ".hoogle-module {\n",
       "font-weight: bold;\n",
       "}\n",
       ".hoogle-class {\n",
       "font-weight: bold;\n",
       "}\n",
       ".get-type {\n",
       "color: green;\n",
       "font-weight: bold;\n",
       "font-family: monospace;\n",
       "display: block;\n",
       "white-space: pre-wrap;\n",
       "}\n",
       ".show-type {\n",
       "color: green;\n",
       "font-weight: bold;\n",
       "font-family: monospace;\n",
       "margin-left: 1em;\n",
       "}\n",
       ".mono {\n",
       "font-family: monospace;\n",
       "display: block;\n",
       "}\n",
       ".err-msg {\n",
       "color: red;\n",
       "font-style: italic;\n",
       "font-family: monospace;\n",
       "white-space: pre;\n",
       "display: block;\n",
       "}\n",
       "#unshowable {\n",
       "color: red;\n",
       "font-weight: bold;\n",
       "}\n",
       ".err-msg.in.collapse {\n",
       "padding-top: 0.7em;\n",
       "}\n",
       ".highlight-code {\n",
       "white-space: pre;\n",
       "font-family: monospace;\n",
       "}\n",
       ".suggestion-warning { \n",
       "font-weight: bold;\n",
       "color: rgb(200, 130, 0);\n",
       "}\n",
       ".suggestion-error { \n",
       "font-weight: bold;\n",
       "color: red;\n",
       "}\n",
       ".suggestion-name {\n",
       "font-weight: bold;\n",
       "}\n",
       "</style><div class=\"suggestion-name\" style=\"clear:both;\">Monad law, left identity</div><div class=\"suggestion-row\" style=\"float: left;\"><div class=\"suggestion-warning\">Found:</div><div class=\"highlight-code\" id=\"haskell\">return (0, 0) >>= landRight 2</div></div><div class=\"suggestion-row\" style=\"float: left;\"><div class=\"suggestion-warning\">Why Not:</div><div class=\"highlight-code\" id=\"haskell\">landRight 2 (0, 0)</div></div><div class=\"suggestion-name\" style=\"clear:both;\">Monad law, left identity</div><div class=\"suggestion-row\" style=\"float: left;\"><div class=\"suggestion-warning\">Found:</div><div class=\"highlight-code\" id=\"haskell\">return (0, 0) >>= landRight 2</div></div><div class=\"suggestion-row\" style=\"float: left;\"><div class=\"suggestion-warning\">Why Not:</div><div class=\"highlight-code\" id=\"haskell\">landRight 2 (0, 0)</div></div><div class=\"suggestion-name\" style=\"clear:both;\">Monad law, left identity</div><div class=\"suggestion-row\" style=\"float: left;\"><div class=\"suggestion-warning\">Found:</div><div class=\"highlight-code\" id=\"haskell\">return (0, 0)\n",
       "  >>=\n",
       "    (\\ x\n",
       "       -> landRight 2 x\n",
       "            >>= (\\ y -> landLeft 2 y >>= (\\ z -> landRight 2 z)))</div></div><div class=\"suggestion-row\" style=\"float: left;\"><div class=\"suggestion-warning\">Why Not:</div><div class=\"highlight-code\" id=\"haskell\">(\\ x\n",
       "   -> landRight 2 x\n",
       "        >>= (\\ y -> landLeft 2 y >>= (\\ z -> landRight 2 z)))\n",
       "  (0, 0)</div></div><div class=\"suggestion-name\" style=\"clear:both;\">Use >=></div><div class=\"suggestion-row\" style=\"float: left;\"><div class=\"suggestion-warning\">Found:</div><div class=\"highlight-code\" id=\"haskell\">\\ x\n",
       "  -> landRight 2 x\n",
       "       >>= (\\ y -> landLeft 2 y >>= (\\ z -> landRight 2 z))</div></div><div class=\"suggestion-row\" style=\"float: left;\"><div class=\"suggestion-warning\">Why Not:</div><div class=\"highlight-code\" id=\"haskell\">landRight 2\n",
       "  Control.Monad.>=> (\\ y -> landLeft 2 y >>= (\\ z -> landRight 2 z))</div></div><div class=\"suggestion-name\" style=\"clear:both;\">Use >=></div><div class=\"suggestion-row\" style=\"float: left;\"><div class=\"suggestion-warning\">Found:</div><div class=\"highlight-code\" id=\"haskell\">\\ y -> landLeft 2 y >>= (\\ z -> landRight 2 z)</div></div><div class=\"suggestion-row\" style=\"float: left;\"><div class=\"suggestion-warning\">Why Not:</div><div class=\"highlight-code\" id=\"haskell\">landLeft 2 Control.Monad.>=> (\\ z -> landRight 2 z)</div></div><div class=\"suggestion-name\" style=\"clear:both;\">Avoid lambda</div><div class=\"suggestion-row\" style=\"float: left;\"><div class=\"suggestion-warning\">Found:</div><div class=\"highlight-code\" id=\"haskell\">\\ z -> landRight 2 z</div></div><div class=\"suggestion-row\" style=\"float: left;\"><div class=\"suggestion-warning\">Why Not:</div><div class=\"highlight-code\" id=\"haskell\">landRight 2</div></div>"
      ],
      "text/plain": [
       "Line 1: Monad law, left identity\n",
       "Found:\n",
       "return (0, 0) >>= landRight 2\n",
       "Why not:\n",
       "landRight 2 (0, 0)Line 4: Monad law, left identity\n",
       "Found:\n",
       "return (0, 0) >>= landRight 2\n",
       "Why not:\n",
       "landRight 2 (0, 0)Line 11: Monad law, left identity\n",
       "Found:\n",
       "return (0, 0)\n",
       "  >>=\n",
       "    (\\ x\n",
       "       -> landRight 2 x\n",
       "            >>= (\\ y -> landLeft 2 y >>= (\\ z -> landRight 2 z)))\n",
       "Why not:\n",
       "(\\ x\n",
       "   -> landRight 2 x\n",
       "        >>= (\\ y -> landLeft 2 y >>= (\\ z -> landRight 2 z)))\n",
       "  (0, 0)Line 11: Use >=>\n",
       "Found:\n",
       "\\ x\n",
       "  -> landRight 2 x\n",
       "       >>= (\\ y -> landLeft 2 y >>= (\\ z -> landRight 2 z))\n",
       "Why not:\n",
       "landRight 2\n",
       "  Control.Monad.>=> (\\ y -> landLeft 2 y >>= (\\ z -> landRight 2 z))Line 12: Use >=>\n",
       "Found:\n",
       "\\ y -> landLeft 2 y >>= (\\ z -> landRight 2 z)\n",
       "Why not:\n",
       "landLeft 2 Control.Monad.>=> (\\ z -> landRight 2 z)Line 13: Avoid lambda\n",
       "Found:\n",
       "\\ z -> landRight 2 z\n",
       "Why not:\n",
       "landRight 2"
      ]
     },
     "metadata": {},
     "output_type": "display_data"
    },
    {
     "data": {
      "text/plain": [
       "Just (2,4)"
      ]
     },
     "metadata": {},
     "output_type": "display_data"
    },
    {
     "data": {
      "text/plain": [
       "Just (2,4)"
      ]
     },
     "metadata": {},
     "output_type": "display_data"
    },
    {
     "data": {
      "text/plain": [
       "Just (2,4)"
      ]
     },
     "metadata": {},
     "output_type": "display_data"
    }
   ],
   "source": [
    "return (0, 0) >>= landRight 2 >>= landLeft 2 >>= landRight 2\n",
    "\n",
    "-- 좌항부터 정리\n",
    "((return (0,0) >>= landRight 2) >>= landLeft 2) >>= landRight 2\n",
    "-- Just (0, 2) ...\n",
    "-- Just (2, 2) ...\n",
    "-- Just (2, 4)\n",
    "\n",
    "-- 우항부터 정리\n",
    "-- 우항부터 하면 단순히 함수 내부가 합쳐지는 형태가 된다.\n",
    "return (0,0) >>= (\\x -> \n",
    "    landRight 2 x >>= (\\y -> \n",
    "    landLeft 2 y >>= (\\z -> \n",
    "    landRight 2 z)))\n",
    "-- ... (\\y -> landRight 2 ())"
   ]
  },
  {
   "cell_type": "code",
   "execution_count": 45,
   "id": "e2874078-6de7-4c8b-8ae5-33558ef329cb",
   "metadata": {},
   "outputs": [
    {
     "data": {
      "text/html": [
       "<style>/* Styles used for the Hoogle display in the pager */\n",
       ".hoogle-doc {\n",
       "display: block;\n",
       "padding-bottom: 1.3em;\n",
       "padding-left: 0.4em;\n",
       "}\n",
       ".hoogle-code {\n",
       "display: block;\n",
       "font-family: monospace;\n",
       "white-space: pre;\n",
       "}\n",
       ".hoogle-text {\n",
       "display: block;\n",
       "}\n",
       ".hoogle-name {\n",
       "color: green;\n",
       "font-weight: bold;\n",
       "}\n",
       ".hoogle-head {\n",
       "font-weight: bold;\n",
       "}\n",
       ".hoogle-sub {\n",
       "display: block;\n",
       "margin-left: 0.4em;\n",
       "}\n",
       ".hoogle-package {\n",
       "font-weight: bold;\n",
       "font-style: italic;\n",
       "}\n",
       ".hoogle-module {\n",
       "font-weight: bold;\n",
       "}\n",
       ".hoogle-class {\n",
       "font-weight: bold;\n",
       "}\n",
       ".get-type {\n",
       "color: green;\n",
       "font-weight: bold;\n",
       "font-family: monospace;\n",
       "display: block;\n",
       "white-space: pre-wrap;\n",
       "}\n",
       ".show-type {\n",
       "color: green;\n",
       "font-weight: bold;\n",
       "font-family: monospace;\n",
       "margin-left: 1em;\n",
       "}\n",
       ".mono {\n",
       "font-family: monospace;\n",
       "display: block;\n",
       "}\n",
       ".err-msg {\n",
       "color: red;\n",
       "font-style: italic;\n",
       "font-family: monospace;\n",
       "white-space: pre;\n",
       "display: block;\n",
       "}\n",
       "#unshowable {\n",
       "color: red;\n",
       "font-weight: bold;\n",
       "}\n",
       ".err-msg.in.collapse {\n",
       "padding-top: 0.7em;\n",
       "}\n",
       ".highlight-code {\n",
       "white-space: pre;\n",
       "font-family: monospace;\n",
       "}\n",
       ".suggestion-warning { \n",
       "font-weight: bold;\n",
       "color: rgb(200, 130, 0);\n",
       "}\n",
       ".suggestion-error { \n",
       "font-weight: bold;\n",
       "color: red;\n",
       "}\n",
       ".suggestion-name {\n",
       "font-weight: bold;\n",
       "}\n",
       "</style><span class='get-type'>(.) :: forall b c a. (b -> c) -> (a -> b) -> a -> c</span>"
      ],
      "text/plain": [
       "(.) :: forall b c a. (b -> c) -> (a -> b) -> a -> c"
      ]
     },
     "metadata": {},
     "output_type": "display_data"
    },
    {
     "data": {
      "text/html": [
       "<style>/* Styles used for the Hoogle display in the pager */\n",
       ".hoogle-doc {\n",
       "display: block;\n",
       "padding-bottom: 1.3em;\n",
       "padding-left: 0.4em;\n",
       "}\n",
       ".hoogle-code {\n",
       "display: block;\n",
       "font-family: monospace;\n",
       "white-space: pre;\n",
       "}\n",
       ".hoogle-text {\n",
       "display: block;\n",
       "}\n",
       ".hoogle-name {\n",
       "color: green;\n",
       "font-weight: bold;\n",
       "}\n",
       ".hoogle-head {\n",
       "font-weight: bold;\n",
       "}\n",
       ".hoogle-sub {\n",
       "display: block;\n",
       "margin-left: 0.4em;\n",
       "}\n",
       ".hoogle-package {\n",
       "font-weight: bold;\n",
       "font-style: italic;\n",
       "}\n",
       ".hoogle-module {\n",
       "font-weight: bold;\n",
       "}\n",
       ".hoogle-class {\n",
       "font-weight: bold;\n",
       "}\n",
       ".get-type {\n",
       "color: green;\n",
       "font-weight: bold;\n",
       "font-family: monospace;\n",
       "display: block;\n",
       "white-space: pre-wrap;\n",
       "}\n",
       ".show-type {\n",
       "color: green;\n",
       "font-weight: bold;\n",
       "font-family: monospace;\n",
       "margin-left: 1em;\n",
       "}\n",
       ".mono {\n",
       "font-family: monospace;\n",
       "display: block;\n",
       "}\n",
       ".err-msg {\n",
       "color: red;\n",
       "font-style: italic;\n",
       "font-family: monospace;\n",
       "white-space: pre;\n",
       "display: block;\n",
       "}\n",
       "#unshowable {\n",
       "color: red;\n",
       "font-weight: bold;\n",
       "}\n",
       ".err-msg.in.collapse {\n",
       "padding-top: 0.7em;\n",
       "}\n",
       ".highlight-code {\n",
       "white-space: pre;\n",
       "font-family: monospace;\n",
       "}\n",
       ".suggestion-warning { \n",
       "font-weight: bold;\n",
       "color: rgb(200, 130, 0);\n",
       "}\n",
       ".suggestion-error { \n",
       "font-weight: bold;\n",
       "color: red;\n",
       "}\n",
       ".suggestion-name {\n",
       "font-weight: bold;\n",
       "}\n",
       "</style><span class='get-type'>(<=<) :: forall (m :: * -> *) b c a. Monad m => (b -> m c) -> (a -> m b) -> a -> m c</span>"
      ],
      "text/plain": [
       "(<=<) :: forall (m :: * -> *) b c a. Monad m => (b -> m c) -> (a -> m b) -> a -> m c"
      ]
     },
     "metadata": {},
     "output_type": "display_data"
    },
    {
     "data": {
      "text/html": [
       "<style>/* Styles used for the Hoogle display in the pager */\n",
       ".hoogle-doc {\n",
       "display: block;\n",
       "padding-bottom: 1.3em;\n",
       "padding-left: 0.4em;\n",
       "}\n",
       ".hoogle-code {\n",
       "display: block;\n",
       "font-family: monospace;\n",
       "white-space: pre;\n",
       "}\n",
       ".hoogle-text {\n",
       "display: block;\n",
       "}\n",
       ".hoogle-name {\n",
       "color: green;\n",
       "font-weight: bold;\n",
       "}\n",
       ".hoogle-head {\n",
       "font-weight: bold;\n",
       "}\n",
       ".hoogle-sub {\n",
       "display: block;\n",
       "margin-left: 0.4em;\n",
       "}\n",
       ".hoogle-package {\n",
       "font-weight: bold;\n",
       "font-style: italic;\n",
       "}\n",
       ".hoogle-module {\n",
       "font-weight: bold;\n",
       "}\n",
       ".hoogle-class {\n",
       "font-weight: bold;\n",
       "}\n",
       ".get-type {\n",
       "color: green;\n",
       "font-weight: bold;\n",
       "font-family: monospace;\n",
       "display: block;\n",
       "white-space: pre-wrap;\n",
       "}\n",
       ".show-type {\n",
       "color: green;\n",
       "font-weight: bold;\n",
       "font-family: monospace;\n",
       "margin-left: 1em;\n",
       "}\n",
       ".mono {\n",
       "font-family: monospace;\n",
       "display: block;\n",
       "}\n",
       ".err-msg {\n",
       "color: red;\n",
       "font-style: italic;\n",
       "font-family: monospace;\n",
       "white-space: pre;\n",
       "display: block;\n",
       "}\n",
       "#unshowable {\n",
       "color: red;\n",
       "font-weight: bold;\n",
       "}\n",
       ".err-msg.in.collapse {\n",
       "padding-top: 0.7em;\n",
       "}\n",
       ".highlight-code {\n",
       "white-space: pre;\n",
       "font-family: monospace;\n",
       "}\n",
       ".suggestion-warning { \n",
       "font-weight: bold;\n",
       "color: rgb(200, 130, 0);\n",
       "}\n",
       ".suggestion-error { \n",
       "font-weight: bold;\n",
       "color: red;\n",
       "}\n",
       ".suggestion-name {\n",
       "font-weight: bold;\n",
       "}\n",
       "</style><span class='get-type'>(>=>) :: forall (m :: * -> *) a b c. Monad m => (a -> m b) -> (b -> m c) -> a -> m c</span>"
      ],
      "text/plain": [
       "(>=>) :: forall (m :: * -> *) a b c. Monad m => (a -> m b) -> (b -> m c) -> a -> m c"
      ]
     },
     "metadata": {},
     "output_type": "display_data"
    }
   ],
   "source": [
    "import Control.Monad\n",
    "\n",
    ":t (.)\n",
    "\n",
    "-- 우항결합을 통해 m a >>= (a -> m b) >>= (b -> m c) >>= (c -> m d)의 연속을\n",
    "-- m a >>= (a -> m d)로 최소화한다\n",
    ":t (<=<)\n",
    "-- Right-to-left composition of Kleisli arrows\n",
    "-- forall (m :: * -> *) b c a. Monad m => (b -> m c) -> (a -> m b) -> a -> m c\n",
    "-- f <=< g = (\\x -> g x >>= f)\n",
    "-- 두번째 인자 g: 첫번째로 인자를 받을 모나드용 함수\n",
    "-- 첫번째 인자 f: 두번째로 인자를 받을 모나드용 함수\n",
    "-- g <=< f 라고 써놓는게 이해가 빠를듯 (우에서 좌로 데이터가 이등)\n",
    "-- 순서와 용법이 .과 같다\n",
    "\n",
    ":t (>=>)\n",
    "-- Left-to-right composition of Kleisli arrows.\n",
    "-- <=< 의 반대\n",
    "-- f >=> g 이다\n",
    "-- 개인적으로 더 마음에 든다"
   ]
  },
  {
   "cell_type": "code",
   "execution_count": 46,
   "id": "7986af74-9cbc-4a01-9fcd-413d876381f5",
   "metadata": {},
   "outputs": [
    {
     "data": {
      "text/plain": [
       "[9,-9,6,-6]"
      ]
     },
     "metadata": {},
     "output_type": "display_data"
    }
   ],
   "source": [
    "f x = [x, -x]\n",
    "g x = [x*3, x*2]\n",
    "h = f <=< g\n",
    "h 3 -- g 적용 후 f 적용"
   ]
  },
  {
   "cell_type": "code",
   "execution_count": 51,
   "id": "05a87305-e383-4ad5-83a6-f894a0944ac5",
   "metadata": {},
   "outputs": [],
   "source": [
    "-- f <=< (g <=< h)는 (f <=< g) <=< h 와 같아야함\n",
    "\n",
    "-- f <=< return 은 f 와 같다\n",
    "-- (f <=< return) x\n",
    "-- f (return x)\n",
    "-- f x 이므로 (또 point-free)\n",
    "-- f 이다."
   ]
  },
  {
   "cell_type": "code",
   "execution_count": 53,
   "id": "1a07cba4-77cb-4c4f-be4f-899b7a4525e5",
   "metadata": {},
   "outputs": [],
   "source": [
    "-- 이는 f . (g . h)가 (f . g). h 와 같으며\n",
    "-- f . id 는 id. f,  f 와 같은 것과 비슷하다"
   ]
  }
 ],
 "metadata": {
  "kernelspec": {
   "display_name": "Haskell",
   "language": "haskell",
   "name": "haskell"
  },
  "language_info": {
   "codemirror_mode": "Haskell",
   "file_extension": ".hs",
   "mimetype": "text/x-haskell",
   "name": "haskell",
   "pygments_lexer": "Haskell",
   "version": "8.10.4"
  }
 },
 "nbformat": 4,
 "nbformat_minor": 5
}
