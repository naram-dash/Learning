{
 "cells": [
  {
   "cell_type": "markdown",
   "id": "fb4ee877-02bd-43c9-b430-60e714b304c7",
   "metadata": {},
   "source": [
    "# 04 재귀"
   ]
  },
  {
   "cell_type": "code",
   "execution_count": 1,
   "id": "4ff3f7ce-c873-48a6-8867-b92272b78ae7",
   "metadata": {},
   "outputs": [],
   "source": [
    "maximum' :: (Ord a) => [a] -> a\n",
    "maximum' [] = error \"maximum of empty list\"\n",
    "maximum' [x] = x\n",
    "maximum' (x:xs) = max x (maximum' xs)"
   ]
  },
  {
   "cell_type": "code",
   "execution_count": 2,
   "id": "ff9f3738-9f18-4042-b81e-1ea249b3ed3d",
   "metadata": {},
   "outputs": [
    {
     "data": {
      "text/plain": [
       "2134"
      ]
     },
     "metadata": {},
     "output_type": "display_data"
    }
   ],
   "source": [
    "maximum [4,2,6,5,2134,1,2,3]"
   ]
  },
  {
   "cell_type": "code",
   "execution_count": 3,
   "id": "3fc08565-978e-47f6-9e5b-7d7794229d3e",
   "metadata": {},
   "outputs": [],
   "source": [
    "replicate' :: Int -> a -> [a]\n",
    "replicate' n x\n",
    "    | n <= 0 = []\n",
    "    | otherwise = x : replicate' (n - 1) x"
   ]
  },
  {
   "cell_type": "code",
   "execution_count": 4,
   "id": "d5ea11bc-252a-439a-a164-07c16263daca",
   "metadata": {},
   "outputs": [
    {
     "data": {
      "text/plain": [
       "\"aaa\""
      ]
     },
     "metadata": {},
     "output_type": "display_data"
    }
   ],
   "source": [
    "replicate' 3 'a'"
   ]
  },
  {
   "cell_type": "code",
   "execution_count": 5,
   "id": "f4f83ae0-eff5-48e9-8af8-e7107c61de57",
   "metadata": {},
   "outputs": [],
   "source": [
    "take' :: (Num i, Ord i) => i -> [a] -> [a]\n",
    "take' n _\n",
    "    | n <= 0 = []\n",
    "take' _ [] = []\n",
    "take' n (x:xs) = x : take' (n-1) xs"
   ]
  },
  {
   "cell_type": "code",
   "execution_count": 6,
   "id": "c2c2ea4e-c47f-4a8a-96d0-99d0eda1bd2f",
   "metadata": {},
   "outputs": [
    {
     "data": {
      "text/plain": [
       "[1,2,3,4,5]"
      ]
     },
     "metadata": {},
     "output_type": "display_data"
    }
   ],
   "source": [
    "take 5 [1..]"
   ]
  },
  {
   "cell_type": "code",
   "execution_count": 7,
   "id": "50d40970-cf60-493b-b931-ea4d1d46ff28",
   "metadata": {},
   "outputs": [],
   "source": [
    "reverse' :: [a] -> [a]\n",
    "reverse' [] = []\n",
    "reverse' (x:xs) = reverse' xs ++ [x]"
   ]
  },
  {
   "cell_type": "code",
   "execution_count": 8,
   "id": "7dc32b7b-400a-47eb-a282-47640145aaa4",
   "metadata": {},
   "outputs": [
    {
     "data": {
      "text/plain": [
       "[5,4,3,2,1]"
      ]
     },
     "metadata": {},
     "output_type": "display_data"
    }
   ],
   "source": [
    "reverse' [1..5]"
   ]
  },
  {
   "cell_type": "code",
   "execution_count": 9,
   "id": "80aa2a7f-ebbb-4177-82ad-6bf4c288b8ad",
   "metadata": {},
   "outputs": [],
   "source": [
    "repeat' :: a -> [a]\n",
    "repeat' x = x : repeat' x"
   ]
  },
  {
   "cell_type": "code",
   "execution_count": 10,
   "id": "546017c6-e7fe-460d-98ba-cd4cfc12a268",
   "metadata": {},
   "outputs": [
    {
     "data": {
      "text/plain": [
       "[300,300,300,300]"
      ]
     },
     "metadata": {},
     "output_type": "display_data"
    }
   ],
   "source": [
    "take 4 (repeat' 300)"
   ]
  },
  {
   "cell_type": "code",
   "execution_count": 14,
   "id": "c814af76-0100-4a03-9482-e52c8dce5abe",
   "metadata": {},
   "outputs": [],
   "source": [
    "zip' :: [a] -> [b] -> [(a,b)]\n",
    "zip' _ [] = []\n",
    "zip' [] _ = []\n",
    "zip' (x:xs) (y:ys) = (x,y) : zip' xs ys"
   ]
  },
  {
   "cell_type": "code",
   "execution_count": 15,
   "id": "dd79c3e2-6771-45ec-8fdd-1f1ce32dfa5c",
   "metadata": {},
   "outputs": [
    {
     "data": {
      "text/plain": [
       "[(1,'a'),(2,'b'),(3,'c')]"
      ]
     },
     "metadata": {},
     "output_type": "display_data"
    }
   ],
   "source": [
    "zip [1,2,3] ['a', 'b', 'c']"
   ]
  },
  {
   "cell_type": "code",
   "execution_count": 16,
   "id": "8ee5b6e1-374f-4f0d-8647-6d936b98b6c8",
   "metadata": {},
   "outputs": [],
   "source": [
    "elem' :: (Eq a) => a -> [a] -> Bool\n",
    "elem' a [] = False\n",
    "elem' a (x:xs)\n",
    "    | a == x = True\n",
    "    | otherwise = elem' a xs"
   ]
  },
  {
   "cell_type": "code",
   "execution_count": 17,
   "id": "5eadca4d-5a98-49a3-af66-357b9947cc47",
   "metadata": {},
   "outputs": [
    {
     "data": {
      "text/plain": [
       "True"
      ]
     },
     "metadata": {},
     "output_type": "display_data"
    }
   ],
   "source": [
    "elem' 4 [1..100]"
   ]
  },
  {
   "cell_type": "code",
   "execution_count": 21,
   "id": "6a6eca35-65b1-4923-9d79-683314d40852",
   "metadata": {},
   "outputs": [],
   "source": [
    "qsort :: (Ord a) => [a] -> [a]\n",
    "qsort [] = []\n",
    "qsort (x:xs) = qsort [a | a <- xs, a < x] ++ [x] ++  qsort [a | a <- xs, a >= x]"
   ]
  },
  {
   "cell_type": "code",
   "execution_count": 22,
   "id": "e050abe6-01e7-4649-9f1e-234789bc641e",
   "metadata": {},
   "outputs": [
    {
     "data": {
      "text/plain": [
       "[1,2,2,3,3,4,5,6,7,8,9,10]"
      ]
     },
     "metadata": {},
     "output_type": "display_data"
    }
   ],
   "source": [
    "qsort [10,2,5,3,1,6,7,2,3,4,8,9]"
   ]
  }
 ],
 "metadata": {
  "kernelspec": {
   "display_name": "Haskell",
   "language": "haskell",
   "name": "haskell"
  },
  "language_info": {
   "codemirror_mode": "Haskell",
   "file_extension": ".hs",
   "mimetype": "text/x-haskell",
   "name": "haskell",
   "pygments_lexer": "Haskell",
   "version": "8.10.4"
  }
 },
 "nbformat": 4,
 "nbformat_minor": 5
}
