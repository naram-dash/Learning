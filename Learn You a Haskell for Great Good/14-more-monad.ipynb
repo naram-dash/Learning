{
 "cells": [
  {
   "cell_type": "markdown",
   "id": "dbff5bdf-9a7d-47e7-91ad-30ee922d57f1",
   "metadata": {},
   "source": [
    "# More Monad"
   ]
  },
  {
   "cell_type": "markdown",
   "id": "b92b7367-529d-4bbd-a07a-572ea79e5f9c",
   "metadata": {},
   "source": [
    "## Writer"
   ]
  },
  {
   "cell_type": "code",
   "execution_count": 1,
   "id": "2aff7ce4-1c04-4bc3-9823-19e75c8ad49d",
   "metadata": {},
   "outputs": [],
   "source": [
    "isBigGang :: Int -> Bool\n",
    "isBigGang x = x > 9"
   ]
  },
  {
   "cell_type": "code",
   "execution_count": 2,
   "id": "18929637-a66c-4a07-874e-21e0f281fe53",
   "metadata": {},
   "outputs": [],
   "source": [
    "-- 로그를 같이 찍고 싶다면?\n",
    "isBigGang :: Int -> (Bool, String)\n",
    "isBigGang x = (x>9, \"Compared gang size to 9\")"
   ]
  },
  {
   "cell_type": "code",
   "execution_count": 3,
   "id": "17289378-4c9f-4551-9576-ab81b4336d10",
   "metadata": {},
   "outputs": [
    {
     "data": {
      "text/plain": [
       "(False,\"Compared gang size to 9\")"
      ]
     },
     "metadata": {},
     "output_type": "display_data"
    },
    {
     "data": {
      "text/plain": [
       "(True,\"Compared gang size to 9\")"
      ]
     },
     "metadata": {},
     "output_type": "display_data"
    }
   ],
   "source": [
    "isBigGang 3\n",
    "isBigGang 30"
   ]
  },
  {
   "cell_type": "code",
   "execution_count": 4,
   "id": "e41b21d4-ffcb-4474-b28f-3e651cdedd05",
   "metadata": {},
   "outputs": [],
   "source": [
    "applyLog :: (a, String) -> (a -> (b, String)) -> (b, String)\n",
    "applyLog (x, log) f = let (y, newLog) = f x in (y, log ++ newLog)"
   ]
  },
  {
   "cell_type": "code",
   "execution_count": 5,
   "id": "93779490-326a-4707-af71-a54ee3aab247",
   "metadata": {},
   "outputs": [
    {
     "data": {
      "text/plain": [
       "(False,\"smallish gang.Compared gang size to 9\")"
      ]
     },
     "metadata": {},
     "output_type": "display_data"
    },
    {
     "data": {
      "text/plain": [
       "(True,\"a freaking platoonCompared gang size to 9\")"
      ]
     },
     "metadata": {},
     "output_type": "display_data"
    }
   ],
   "source": [
    "(3, \"smallish gang.\") `applyLog` isBigGang\n",
    "(30, \"a freaking platoon\") `applyLog` isBigGang"
   ]
  },
  {
   "cell_type": "code",
   "execution_count": 7,
   "id": "8143c45a-d302-49c4-8478-2a6ccf2961a3",
   "metadata": {},
   "outputs": [
    {
     "data": {
      "text/plain": [
       "(5,\"Got outlaw name.applied lenght.\")"
      ]
     },
     "metadata": {},
     "output_type": "display_data"
    },
    {
     "data": {
      "text/plain": [
       "(7,\"Got outlaw name.Applied length\")"
      ]
     },
     "metadata": {},
     "output_type": "display_data"
    }
   ],
   "source": [
    "(\"tobin\", \"Got outlaw name.\") `applyLog` (\\x -> (length x, \"applied lenght.\"))\n",
    "(\"Bathcat\",\"Got outlaw name.\") `applyLog` (\\x -> (length x, \"Applied length\")) "
   ]
  },
  {
   "cell_type": "code",
   "execution_count": 16,
   "id": "dd0d298a-3f40-43ef-8b66-9cf55f51b10e",
   "metadata": {},
   "outputs": [
    {
     "data": {
      "text/plain": [
       "[1,2,3,4,5,6]"
      ]
     },
     "metadata": {},
     "output_type": "display_data"
    },
    {
     "data": {
      "text/plain": [
       "\"chihuahua\""
      ]
     },
     "metadata": {},
     "output_type": "display_data"
    }
   ],
   "source": [
    "import qualified Data.ByteString as B\n",
    "\n",
    "[1,2,3] `mappend` [4,5,6]\n",
    "-- list ++\n",
    "B.pack [99, 104,105] `mappend` B.pack [104,117,97,104,117,97]\n",
    "-- string ++\n",
    "\n",
    "-- 모노이드 값이라는 것을 안 순간, 모노이드로써 처리하게 된다"
   ]
  },
  {
   "cell_type": "code",
   "execution_count": 20,
   "id": "8c64dcf2-0f49-4de0-938e-4626ddb13be9",
   "metadata": {},
   "outputs": [],
   "source": [
    "applyLog :: (Monoid m) => (a,m) -> (a -> (b,m)) -> (b,m)  \n",
    "applyLog (x,log) f = let (y,newLog) = f x in (y,log `mappend` newLog)  "
   ]
  },
  {
   "cell_type": "code",
   "execution_count": 22,
   "id": "e5438e28-7c79-4909-910c-5be0aabe67dc",
   "metadata": {},
   "outputs": [
    {
     "data": {},
     "metadata": {},
     "output_type": "display_data"
    },
    {
     "data": {
      "text/html": [
       "<div style='background: rgb(247, 247, 247);'><form><textarea id='code'>type Sum :: * -> *\n",
       "newtype Sum a = Sum {getSum :: a}\n",
       "  \t-- Defined in ‘base-4.14.1.0:Data.Semigroup.Internal’\n",
       "instance Num a => Num (Sum a) -- Defined in ‘base-4.14.1.0:Data.Semigroup.Internal’\n",
       "instance Functor Sum -- Defined in ‘base-4.14.1.0:Data.Semigroup.Internal’\n",
       "instance Show a => Show (Sum a) -- Defined in ‘base-4.14.1.0:Data.Semigroup.Internal’\n",
       "instance Eq a => Eq (Sum a) -- Defined in ‘base-4.14.1.0:Data.Semigroup.Internal’\n",
       "instance Num a => Monoid (Sum a) -- Defined in ‘base-4.14.1.0:Data.Semigroup.Internal’\n",
       "instance Ord a => Ord (Sum a) -- Defined in ‘base-4.14.1.0:Data.Semigroup.Internal’\n",
       "instance Num a => Semigroup (Sum a) -- Defined in ‘base-4.14.1.0:Data.Semigroup.Internal’\n",
       "instance Read a => Read (Sum a) -- Defined in ‘base-4.14.1.0:Data.Semigroup.Internal’\n",
       "instance Applicative Sum -- Defined in ‘base-4.14.1.0:Data.Semigroup.Internal’\n",
       "instance Foldable Sum -- Defined in ‘Data.Foldable’\n",
       "instance Monad Sum -- Defined in ‘base-4.14.1.0:Data.Semigroup.Internal’\n",
       "instance Traversable Sum -- Defined in ‘Data.Traversable’\n",
       "instance Bounded a => Bounded (Sum a) -- Defined in ‘base-4.14.1.0:Data.Semigroup.Internal’\n",
       "</textarea></form></div><script>CodeMirror.fromTextArea(document.getElementById('code'), {mode: 'haskell', readOnly: 'nocursor'});</script>"
      ],
      "text/plain": [
       "type Sum :: * -> *\n",
       "newtype Sum a = Sum {getSum :: a}\n",
       "  \t-- Defined in ‘base-4.14.1.0:Data.Semigroup.Internal’\n",
       "instance Num a => Num (Sum a) -- Defined in ‘base-4.14.1.0:Data.Semigroup.Internal’\n",
       "instance Functor Sum -- Defined in ‘base-4.14.1.0:Data.Semigroup.Internal’\n",
       "instance Show a => Show (Sum a) -- Defined in ‘base-4.14.1.0:Data.Semigroup.Internal’\n",
       "instance Eq a => Eq (Sum a) -- Defined in ‘base-4.14.1.0:Data.Semigroup.Internal’\n",
       "instance Num a => Monoid (Sum a) -- Defined in ‘base-4.14.1.0:Data.Semigroup.Internal’\n",
       "instance Ord a => Ord (Sum a) -- Defined in ‘base-4.14.1.0:Data.Semigroup.Internal’\n",
       "instance Num a => Semigroup (Sum a) -- Defined in ‘base-4.14.1.0:Data.Semigroup.Internal’\n",
       "instance Read a => Read (Sum a) -- Defined in ‘base-4.14.1.0:Data.Semigroup.Internal’\n",
       "instance Applicative Sum -- Defined in ‘base-4.14.1.0:Data.Semigroup.Internal’\n",
       "instance Foldable Sum -- Defined in ‘Data.Foldable’\n",
       "instance Monad Sum -- Defined in ‘base-4.14.1.0:Data.Semigroup.Internal’\n",
       "instance Traversable Sum -- Defined in ‘Data.Traversable’\n",
       "instance Bounded a => Bounded (Sum a) -- Defined in ‘base-4.14.1.0:Data.Semigroup.Internal’"
      ]
     },
     "metadata": {},
     "output_type": "display_data"
    }
   ],
   "source": [
    "import Data.Monoid\n",
    "\n",
    "type Food = String\n",
    "type Price = Sum Int\n",
    ":info Sum\n",
    "\n",
    "addDrink ::  Food -> (Food, Price)\n",
    "addDrink \"beans\" = (\"milk\", Sum 25)\n",
    "addDrink \"jerky\" = (\"whiskey\", Sum 99)\n",
    "addDrink _  = (\"beer\", Sum 30)"
   ]
  },
  {
   "cell_type": "code",
   "execution_count": 23,
   "id": "bd00aeb7-5498-4eef-b359-3e20d0488af8",
   "metadata": {},
   "outputs": [
    {
     "data": {
      "text/plain": [
       "Sum {getSum = 12}"
      ]
     },
     "metadata": {},
     "output_type": "display_data"
    }
   ],
   "source": [
    "Sum 3 `mappend` Sum 9"
   ]
  },
  {
   "cell_type": "code",
   "execution_count": 24,
   "id": "ec739dd0-9a96-44a5-b23e-e5c93528e9e1",
   "metadata": {},
   "outputs": [
    {
     "data": {
      "text/plain": [
       "(\"milk\",Sum {getSum = 35})"
      ]
     },
     "metadata": {},
     "output_type": "display_data"
    },
    {
     "data": {
      "text/plain": [
       "(\"whiskey\",Sum {getSum = 124})"
      ]
     },
     "metadata": {},
     "output_type": "display_data"
    },
    {
     "data": {
      "text/plain": [
       "(\"beer\",Sum {getSum = 35})"
      ]
     },
     "metadata": {},
     "output_type": "display_data"
    }
   ],
   "source": [
    "(\"beans\", Sum 10) `applyLog` addDrink\n",
    "(\"jerky\", Sum 25) `applyLog` addDrink\n",
    "(\"meat\", Sum 5) `applyLog` addDrink"
   ]
  },
  {
   "cell_type": "code",
   "execution_count": null,
   "id": "436d516b-3cb0-4804-a96a-f198a2488221",
   "metadata": {},
   "outputs": [],
   "source": [
    "newtype Writer w a = Writer { runWriter :: (a, w) }  \n",
    "-- a는 값의 타입\n",
    "-- w는 추가된 모노이드 값의 타입\n",
    "-- Writer 생성자는 export 되지 않음\n",
    "\n",
    "instance (Monoid w) => Monad (Writer w) where  \n",
    "    return x = Writer (x, mempty)  \n",
    "    (Writer (x,v)) >>= f = let (Writer (y, v')) = f x in Writer (y, v `mappend` v')  "
   ]
  },
  {
   "cell_type": "code",
   "execution_count": 37,
   "id": "83f86f38-4a81-480d-a9bf-881221c78b2e",
   "metadata": {},
   "outputs": [
    {
     "data": {
      "text/plain": [
       "(3,\"\")"
      ]
     },
     "metadata": {},
     "output_type": "display_data"
    },
    {
     "data": {
      "text/plain": [
       "(3,Sum {getSum = 0})"
      ]
     },
     "metadata": {},
     "output_type": "display_data"
    },
    {
     "data": {
      "text/plain": [
       "(3,Product {getProduct = 1})"
      ]
     },
     "metadata": {},
     "output_type": "display_data"
    }
   ],
   "source": [
    "import qualified Control.Monad.Writer as Writer\n",
    "\n",
    "Writer.runWriter (return 3 :: Writer.Writer String Int)\n",
    "Writer.runWriter (return 3 :: Writer.Writer (Sum Int) Int)\n",
    "Writer.runWriter (return 3 :: Writer.Writer (Product Int) Int)"
   ]
  },
  {
   "cell_type": "code",
   "execution_count": 42,
   "id": "4d823729-cb9a-421b-8d56-88db1ead61ab",
   "metadata": {},
   "outputs": [
    {
     "data": {
      "text/plain": [
       "WriterT (Identity (15,[\"Got number: 3\",\"Got number: 5\",\"Gonna multiply these two\"]))"
      ]
     },
     "metadata": {},
     "output_type": "display_data"
    },
    {
     "data": {
      "text/plain": [
       "(15,[\"Got number: 3\",\"Got number: 5\",\"Gonna multiply these two\"])"
      ]
     },
     "metadata": {},
     "output_type": "display_data"
    }
   ],
   "source": [
    "-- 모나드로 동작한다는 사실을 알았으니, 모나드로 작성한다.\n",
    "\n",
    "import Control.Monad.Writer\n",
    "\n",
    "logNumber :: Int -> Writer [String] Int\n",
    "logNumber x = writer (x, [\"Got number: \" ++ show x])\n",
    "\n",
    "multWithLog :: Writer [String] Int\n",
    "multWithLog = do\n",
    "    a <- logNumber 3\n",
    "    b <- logNumber 5\n",
    "    tell [\"Gonna multiply these two\"]\n",
    "    -- 컨텍스트 값만 추가한다.\n",
    "    return (a*b)\n",
    "    \n",
    "multWithLog\n",
    "runWriter multWithLog"
   ]
  },
  {
   "cell_type": "code",
   "execution_count": 43,
   "id": "dafe4935-5142-4517-9bc5-978b32f767c4",
   "metadata": {},
   "outputs": [],
   "source": [
    "gcd' :: Int -> Int -> Int\n",
    "gcd' a b\n",
    "    | b == 0 = a\n",
    "    | otherwise = gcd' b (a `mod` b)"
   ]
  },
  {
   "cell_type": "code",
   "execution_count": 44,
   "id": "18258de5-a290-47e8-a136-f094958f9c44",
   "metadata": {},
   "outputs": [
    {
     "data": {
      "text/plain": [
       "1"
      ]
     },
     "metadata": {},
     "output_type": "display_data"
    }
   ],
   "source": [
    "gcd' 8 3"
   ]
  },
  {
   "cell_type": "code",
   "execution_count": 47,
   "id": "55646534-ef86-4e67-bac0-25c3254ac4b8",
   "metadata": {},
   "outputs": [],
   "source": [
    "-- 로그 추가\n",
    "import Control.Monad.Writer  \n",
    "  \n",
    "gcd' :: Int -> Int -> Writer [String] Int  \n",
    "gcd' a b  \n",
    "    | b == 0 = do  \n",
    "        tell [\"Finished with \" ++ show a]  \n",
    "        return a  \n",
    "    | otherwise = do  \n",
    "        tell [show a ++ \" mod \" ++ show b ++ \" = \" ++ show (a `mod` b)]  \n",
    "        gcd' b (a `mod` b)  "
   ]
  },
  {
   "cell_type": "code",
   "execution_count": 48,
   "id": "ae636da2-904e-4fae-85c3-08fcba700ff9",
   "metadata": {},
   "outputs": [
    {
     "data": {
      "text/plain": [
       "1"
      ]
     },
     "metadata": {},
     "output_type": "display_data"
    }
   ],
   "source": [
    "fst $ runWriter (gcd' 8 3)"
   ]
  },
  {
   "cell_type": "code",
   "execution_count": 49,
   "id": "f21135ec-61f5-4177-a337-d52679439fc0",
   "metadata": {},
   "outputs": [
    {
     "data": {
      "text/plain": [
       "8 mod 3 = 2\n",
       "3 mod 2 = 1\n",
       "2 mod 1 = 0\n",
       "Finished with 1"
      ]
     },
     "metadata": {},
     "output_type": "display_data"
    }
   ],
   "source": [
    "mapM_ putStrLn $ snd $ runWriter (gcd' 8 3)"
   ]
  },
  {
   "cell_type": "markdown",
   "id": "3618c641-7bab-4d1d-9f68-68359a8158d6",
   "metadata": {},
   "source": [
    "## 비효율적인 리스트 구조"
   ]
  },
  {
   "cell_type": "code",
   "execution_count": 50,
   "id": "b0dc5bde-248c-450b-b830-bd9363de0161",
   "metadata": {},
   "outputs": [],
   "source": [
    "import Control.Monad.Writer  \n",
    "  \n",
    "gcdReverse :: Int -> Int -> Writer [String] Int  \n",
    "gcdReverse a b  \n",
    "    | b == 0 = do  \n",
    "        tell [\"Finished with \" ++ show a]  \n",
    "        return a  \n",
    "    | otherwise = do  \n",
    "        result <- gcdReverse b (a `mod` b)  \n",
    "        -- 후 콘텍스트를 먼저 받음\n",
    "        tell [show a ++ \" mod \" ++ show b ++ \" = \" ++ show (a `mod` b)]  \n",
    "        return result  \n",
    "        -- ++의 사용을 오른쪽이 아닌 왼쪽에 연결하면서 끝나기 때문에 비효율적"
   ]
  },
  {
   "cell_type": "code",
   "execution_count": 51,
   "id": "0f5f394e-5ac5-432a-b3ef-63f8f1b6f6e3",
   "metadata": {},
   "outputs": [
    {
     "data": {
      "text/plain": [
       "Finished with 1\n",
       "2 mod 1 = 0\n",
       "3 mod 2 = 1\n",
       "8 mod 3 = 2"
      ]
     },
     "metadata": {},
     "output_type": "display_data"
    }
   ],
   "source": [
    "mapM_ putStrLn $ snd $ runWriter (gcdReverse 8 3)"
   ]
  },
  {
   "cell_type": "code",
   "execution_count": null,
   "id": "73a881f9-8803-4a93-ad0c-8be16a9f6c13",
   "metadata": {},
   "outputs": [],
   "source": [
    "-- Difference list\n",
    "-- 사실 함수이다\n",
    "\n",
    "-- 일반 빈 리스트\n",
    "[]\n",
    "-- 빈 디퍼런스 리스트 (함수)\n",
    "\\xs -> [] ++ xs\n",
    "\n",
    "-- 두개의 디퍼런스 리스트를 붙이는 것은 다음과 같다\n",
    "f `append` g = \\xs -> f (g xs)"
   ]
  },
  {
   "cell_type": "code",
   "execution_count": 54,
   "id": "6246765d-f0e3-4531-9080-a8ece788a39e",
   "metadata": {},
   "outputs": [
    {
     "data": {
      "text/html": [
       "<style>/* Styles used for the Hoogle display in the pager */\n",
       ".hoogle-doc {\n",
       "display: block;\n",
       "padding-bottom: 1.3em;\n",
       "padding-left: 0.4em;\n",
       "}\n",
       ".hoogle-code {\n",
       "display: block;\n",
       "font-family: monospace;\n",
       "white-space: pre;\n",
       "}\n",
       ".hoogle-text {\n",
       "display: block;\n",
       "}\n",
       ".hoogle-name {\n",
       "color: green;\n",
       "font-weight: bold;\n",
       "}\n",
       ".hoogle-head {\n",
       "font-weight: bold;\n",
       "}\n",
       ".hoogle-sub {\n",
       "display: block;\n",
       "margin-left: 0.4em;\n",
       "}\n",
       ".hoogle-package {\n",
       "font-weight: bold;\n",
       "font-style: italic;\n",
       "}\n",
       ".hoogle-module {\n",
       "font-weight: bold;\n",
       "}\n",
       ".hoogle-class {\n",
       "font-weight: bold;\n",
       "}\n",
       ".get-type {\n",
       "color: green;\n",
       "font-weight: bold;\n",
       "font-family: monospace;\n",
       "display: block;\n",
       "white-space: pre-wrap;\n",
       "}\n",
       ".show-type {\n",
       "color: green;\n",
       "font-weight: bold;\n",
       "font-family: monospace;\n",
       "margin-left: 1em;\n",
       "}\n",
       ".mono {\n",
       "font-family: monospace;\n",
       "display: block;\n",
       "}\n",
       ".err-msg {\n",
       "color: red;\n",
       "font-style: italic;\n",
       "font-family: monospace;\n",
       "white-space: pre;\n",
       "display: block;\n",
       "}\n",
       "#unshowable {\n",
       "color: red;\n",
       "font-weight: bold;\n",
       "}\n",
       ".err-msg.in.collapse {\n",
       "padding-top: 0.7em;\n",
       "}\n",
       ".highlight-code {\n",
       "white-space: pre;\n",
       "font-family: monospace;\n",
       "}\n",
       ".suggestion-warning { \n",
       "font-weight: bold;\n",
       "color: rgb(200, 130, 0);\n",
       "}\n",
       ".suggestion-error { \n",
       "font-weight: bold;\n",
       "color: red;\n",
       "}\n",
       ".suggestion-name {\n",
       "font-weight: bold;\n",
       "}\n",
       "</style><div class=\"suggestion-name\" style=\"clear:both;\">Avoid lambda</div><div class=\"suggestion-row\" style=\"float: left;\"><div class=\"suggestion-warning\">Found:</div><div class=\"highlight-code\" id=\"haskell\">(\\ xs -> [] ++ xs)</div></div><div class=\"suggestion-row\" style=\"float: left;\"><div class=\"suggestion-warning\">Why Not:</div><div class=\"highlight-code\" id=\"haskell\">([] ++)</div></div><div class=\"suggestion-name\" style=\"clear:both;\">Evaluate</div><div class=\"suggestion-row\" style=\"float: left;\"><div class=\"suggestion-warning\">Found:</div><div class=\"highlight-code\" id=\"haskell\">[] ++ xs</div></div><div class=\"suggestion-row\" style=\"float: left;\"><div class=\"suggestion-warning\">Why Not:</div><div class=\"highlight-code\" id=\"haskell\">xs</div></div><div class=\"suggestion-name\" style=\"clear:both;\">Avoid lambda</div><div class=\"suggestion-row\" style=\"float: left;\"><div class=\"suggestion-warning\">Found:</div><div class=\"highlight-code\" id=\"haskell\">\\ xs -> f (g xs)</div></div><div class=\"suggestion-row\" style=\"float: left;\"><div class=\"suggestion-warning\">Why Not:</div><div class=\"highlight-code\" id=\"haskell\">f . g</div></div>"
      ],
      "text/plain": [
       "Line 11: Avoid lambda\n",
       "Found:\n",
       "(\\ xs -> [] ++ xs)\n",
       "Why not:\n",
       "([] ++)Line 11: Evaluate\n",
       "Found:\n",
       "[] ++ xs\n",
       "Why not:\n",
       "xsLine 12: Avoid lambda\n",
       "Found:\n",
       "\\ xs -> f (g xs)\n",
       "Why not:\n",
       "f . g"
      ]
     },
     "metadata": {},
     "output_type": "display_data"
    },
    {
     "ename": "",
     "evalue": "",
     "header": "MessageHeader {mhIdentifiers = [\"aec7d021-3fff-4d20-ae9a-d37a3b135fe7\"], mhParentHeader = Just (MessageHeader {mhIdentifiers = [\"aec7d021-3fff-4d20-ae9a-d37a3b135fe7\"], mhParentHeader = Nothing, mhMetadata = Metadata (fromList [(\"recordTiming\",Bool False),(\"deletedCells\",Array []),(\"cellId\",String \"6246765d-f0e3-4531-9080-a8ece788a39e\")]), mhMessageId = UUID {uuidToString = \"c7730447-cf40-4c33-8502-2a39b560b04c\"}, mhSessionId = UUID {uuidToString = \"aec7d021-3fff-4d20-ae9a-d37a3b135fe7\"}, mhUsername = \"\", mhMsgType = ExecuteRequestMessage, mhBuffers = []}), mhMetadata = Metadata (fromList []), mhMessageId = UUID {uuidToString = \"9d0d1adc-1635-45a8-924f-62719e113004\"}, mhSessionId = UUID {uuidToString = \"aec7d021-3fff-4d20-ae9a-d37a3b135fe7\"}, mhUsername = \"\", mhMsgType = ExecuteErrorMessage, mhBuffers = []}",
     "output_type": "error",
     "traceback": [
      "<interactive>:6:10: error:\n    • No instance for (Semigroup (DiffList a)) arising from the superclasses of an instance declaration\n    • In the instance declaration for ‘Monoid (DiffList a)’"
     ]
    }
   ],
   "source": [
    "-- 효율적인 ++ 순서를 보장하기 위해서 새로운 타입 선언\n",
    "newtype DiffList a = DiffList {getDiffList :: [a] -> [a]}\n",
    "\n",
    "toDiffList :: [a] -> DiffList a  \n",
    "toDiffList xs = DiffList (xs++)  \n",
    "  \n",
    "fromDiffList :: DiffList a -> [a]  \n",
    "fromDiffList (DiffList f) = f []  \n",
    "\n",
    "instance Monoid (DiffList a) where  \n",
    "    mempty = DiffList (\\xs -> [] ++ xs)  \n",
    "    (DiffList f) `mappend` (DiffList g) = DiffList (\\xs -> f (g xs))  "
   ]
  },
  {
   "cell_type": "markdown",
   "id": "1aca2945-23be-403e-a694-e82d8b17164f",
   "metadata": {},
   "source": [
    "## Reader"
   ]
  },
  {
   "cell_type": "code",
   "execution_count": 57,
   "id": "79c53806-42c3-44ad-a655-2f20f800a863",
   "metadata": {},
   "outputs": [
    {
     "data": {
      "text/plain": [
       "55"
      ]
     },
     "metadata": {},
     "output_type": "display_data"
    }
   ],
   "source": [
    "fmap (*5) (+3) 8"
   ]
  },
  {
   "cell_type": "code",
   "execution_count": 63,
   "id": "572373a4-54c7-40bc-a53a-92266620844d",
   "metadata": {},
   "outputs": [
    {
     "data": {
      "text/html": [
       "<style>/* Styles used for the Hoogle display in the pager */\n",
       ".hoogle-doc {\n",
       "display: block;\n",
       "padding-bottom: 1.3em;\n",
       "padding-left: 0.4em;\n",
       "}\n",
       ".hoogle-code {\n",
       "display: block;\n",
       "font-family: monospace;\n",
       "white-space: pre;\n",
       "}\n",
       ".hoogle-text {\n",
       "display: block;\n",
       "}\n",
       ".hoogle-name {\n",
       "color: green;\n",
       "font-weight: bold;\n",
       "}\n",
       ".hoogle-head {\n",
       "font-weight: bold;\n",
       "}\n",
       ".hoogle-sub {\n",
       "display: block;\n",
       "margin-left: 0.4em;\n",
       "}\n",
       ".hoogle-package {\n",
       "font-weight: bold;\n",
       "font-style: italic;\n",
       "}\n",
       ".hoogle-module {\n",
       "font-weight: bold;\n",
       "}\n",
       ".hoogle-class {\n",
       "font-weight: bold;\n",
       "}\n",
       ".get-type {\n",
       "color: green;\n",
       "font-weight: bold;\n",
       "font-family: monospace;\n",
       "display: block;\n",
       "white-space: pre-wrap;\n",
       "}\n",
       ".show-type {\n",
       "color: green;\n",
       "font-weight: bold;\n",
       "font-family: monospace;\n",
       "margin-left: 1em;\n",
       "}\n",
       ".mono {\n",
       "font-family: monospace;\n",
       "display: block;\n",
       "}\n",
       ".err-msg {\n",
       "color: red;\n",
       "font-style: italic;\n",
       "font-family: monospace;\n",
       "white-space: pre;\n",
       "display: block;\n",
       "}\n",
       "#unshowable {\n",
       "color: red;\n",
       "font-weight: bold;\n",
       "}\n",
       ".err-msg.in.collapse {\n",
       "padding-top: 0.7em;\n",
       "}\n",
       ".highlight-code {\n",
       "white-space: pre;\n",
       "font-family: monospace;\n",
       "}\n",
       ".suggestion-warning { \n",
       "font-weight: bold;\n",
       "color: rgb(200, 130, 0);\n",
       "}\n",
       ".suggestion-error { \n",
       "font-weight: bold;\n",
       "color: red;\n",
       "}\n",
       ".suggestion-name {\n",
       "font-weight: bold;\n",
       "}\n",
       "</style><div class=\"suggestion-name\" style=\"clear:both;\">Redundant lambda</div><div class=\"suggestion-row\" style=\"float: left;\"><div class=\"suggestion-warning\">Found:</div><div class=\"highlight-code\" id=\"haskell\">f'' = \\ x -> (x * 2) + (x + 10)</div></div><div class=\"suggestion-row\" style=\"float: left;\"><div class=\"suggestion-warning\">Why Not:</div><div class=\"highlight-code\" id=\"haskell\">f'' x = (x * 2) + (x + 10)</div></div>"
      ],
      "text/plain": [
       "Line 2: Redundant lambda\n",
       "Found:\n",
       "f'' = \\ x -> (x * 2) + (x + 10)\n",
       "Why not:\n",
       "f'' x = (x * 2) + (x + 10)"
      ]
     },
     "metadata": {},
     "output_type": "display_data"
    },
    {
     "data": {
      "text/plain": [
       "19"
      ]
     },
     "metadata": {},
     "output_type": "display_data"
    },
    {
     "data": {
      "text/plain": [
       "19"
      ]
     },
     "metadata": {},
     "output_type": "display_data"
    }
   ],
   "source": [
    "f' = (+) <$> (*2) <*> (+10)\n",
    "f'' = \\x -> (x*2) + (x + 10)\n",
    "\n",
    "f' 3\n",
    "f'' 3\n",
    "\n",
    "\n",
    "-- foo = (+) <$> (*2) \n",
    "-- -- (\\x y -> (x*2) + y)\n",
    "-- :t foo \n",
    "-- foo 3 4\n",
    "\n",
    "-- bar = foo <*> (+10)\n",
    "-- -- :t foo :: Num a => a -> a -> a :: (-> a) a -> a\n",
    "-- -- :t (+10) :: Num a => a -> a :: (-> a) a \n",
    "-- -- f <*> g = \\x -> f x (g x)  \n",
    "-- \\x -> foo x (x + 10)\n",
    "-- bar = \\x -> (x*2) + (x + 10)"
   ]
  },
  {
   "cell_type": "code",
   "execution_count": 65,
   "id": "b105deb0-f71f-4124-a679-25d58fe1c33a",
   "metadata": {},
   "outputs": [
    {
     "data": {
      "text/html": [
       "<style>/* Styles used for the Hoogle display in the pager */\n",
       ".hoogle-doc {\n",
       "display: block;\n",
       "padding-bottom: 1.3em;\n",
       "padding-left: 0.4em;\n",
       "}\n",
       ".hoogle-code {\n",
       "display: block;\n",
       "font-family: monospace;\n",
       "white-space: pre;\n",
       "}\n",
       ".hoogle-text {\n",
       "display: block;\n",
       "}\n",
       ".hoogle-name {\n",
       "color: green;\n",
       "font-weight: bold;\n",
       "}\n",
       ".hoogle-head {\n",
       "font-weight: bold;\n",
       "}\n",
       ".hoogle-sub {\n",
       "display: block;\n",
       "margin-left: 0.4em;\n",
       "}\n",
       ".hoogle-package {\n",
       "font-weight: bold;\n",
       "font-style: italic;\n",
       "}\n",
       ".hoogle-module {\n",
       "font-weight: bold;\n",
       "}\n",
       ".hoogle-class {\n",
       "font-weight: bold;\n",
       "}\n",
       ".get-type {\n",
       "color: green;\n",
       "font-weight: bold;\n",
       "font-family: monospace;\n",
       "display: block;\n",
       "white-space: pre-wrap;\n",
       "}\n",
       ".show-type {\n",
       "color: green;\n",
       "font-weight: bold;\n",
       "font-family: monospace;\n",
       "margin-left: 1em;\n",
       "}\n",
       ".mono {\n",
       "font-family: monospace;\n",
       "display: block;\n",
       "}\n",
       ".err-msg {\n",
       "color: red;\n",
       "font-style: italic;\n",
       "font-family: monospace;\n",
       "white-space: pre;\n",
       "display: block;\n",
       "}\n",
       "#unshowable {\n",
       "color: red;\n",
       "font-weight: bold;\n",
       "}\n",
       ".err-msg.in.collapse {\n",
       "padding-top: 0.7em;\n",
       "}\n",
       ".highlight-code {\n",
       "white-space: pre;\n",
       "font-family: monospace;\n",
       "}\n",
       ".suggestion-warning { \n",
       "font-weight: bold;\n",
       "color: rgb(200, 130, 0);\n",
       "}\n",
       ".suggestion-error { \n",
       "font-weight: bold;\n",
       "color: red;\n",
       "}\n",
       ".suggestion-name {\n",
       "font-weight: bold;\n",
       "}\n",
       "</style><div class=\"suggestion-name\" style=\"clear:both;\">Redundant bracket</div><div class=\"suggestion-row\" style=\"float: left;\"><div class=\"suggestion-warning\">Found:</div><div class=\"highlight-code\" id=\"haskell\">((20 * 2) + (20 + 10) + (20 / 10))</div></div><div class=\"suggestion-row\" style=\"float: left;\"><div class=\"suggestion-warning\">Why Not:</div><div class=\"highlight-code\" id=\"haskell\">(20 * 2) + (20 + 10) + (20 / 10)</div></div>"
      ],
      "text/plain": [
       "Line 4: Redundant bracket\n",
       "Found:\n",
       "((20 * 2) + (20 + 10) + (20 / 10))\n",
       "Why not:\n",
       "(20 * 2) + (20 + 10) + (20 / 10)"
      ]
     },
     "metadata": {},
     "output_type": "display_data"
    },
    {
     "data": {
      "text/plain": [
       "72.0"
      ]
     },
     "metadata": {},
     "output_type": "display_data"
    },
    {
     "data": {
      "text/plain": [
       "72.0"
      ]
     },
     "metadata": {},
     "output_type": "display_data"
    }
   ],
   "source": [
    "addThree x y z = x + y + z\n",
    "g' = addThree <$> (*2) <*> (+10) <*> (/10)\n",
    "g' 20\n",
    "((20*2) + (20+10) + (20/10))"
   ]
  },
  {
   "cell_type": "code",
   "execution_count": null,
   "id": "a7fdb798-8f06-40f8-9d1e-5d15a639d588",
   "metadata": {},
   "outputs": [],
   "source": [
    "instance Monad ((->) r) where  \n",
    "    return x = \\_ -> x  \n",
    "    -- x :: a (함수의 반환값)\n",
    "    -- return :: a -> m a\n",
    "    h >>= f = \\w -> f (h w) w  \n",
    "    -- h :: m a :: (r -> a)\n",
    "    -- 첫번째 인자 : 일반 함수\n",
    "    -- f :: (a -> m b) :: (a -> r -> b)\n",
    "    -- 두번째 인자 : 모나드 내부 값을 받아 모나드 값을 반환\n",
    "    -- w :: r\n",
    "    -- h >>= f :: (r -> a) -> (a -> r -> b) -> (r -> b)\n",
    "    --         :: (m a) -> (a -> m b) -> m b"
   ]
  },
  {
   "cell_type": "code",
   "execution_count": 70,
   "id": "8e1f3b73-d7d3-4eab-bc89-661d746b85c7",
   "metadata": {},
   "outputs": [
    {
     "data": {
      "text/html": [
       "<style>/* Styles used for the Hoogle display in the pager */\n",
       ".hoogle-doc {\n",
       "display: block;\n",
       "padding-bottom: 1.3em;\n",
       "padding-left: 0.4em;\n",
       "}\n",
       ".hoogle-code {\n",
       "display: block;\n",
       "font-family: monospace;\n",
       "white-space: pre;\n",
       "}\n",
       ".hoogle-text {\n",
       "display: block;\n",
       "}\n",
       ".hoogle-name {\n",
       "color: green;\n",
       "font-weight: bold;\n",
       "}\n",
       ".hoogle-head {\n",
       "font-weight: bold;\n",
       "}\n",
       ".hoogle-sub {\n",
       "display: block;\n",
       "margin-left: 0.4em;\n",
       "}\n",
       ".hoogle-package {\n",
       "font-weight: bold;\n",
       "font-style: italic;\n",
       "}\n",
       ".hoogle-module {\n",
       "font-weight: bold;\n",
       "}\n",
       ".hoogle-class {\n",
       "font-weight: bold;\n",
       "}\n",
       ".get-type {\n",
       "color: green;\n",
       "font-weight: bold;\n",
       "font-family: monospace;\n",
       "display: block;\n",
       "white-space: pre-wrap;\n",
       "}\n",
       ".show-type {\n",
       "color: green;\n",
       "font-weight: bold;\n",
       "font-family: monospace;\n",
       "margin-left: 1em;\n",
       "}\n",
       ".mono {\n",
       "font-family: monospace;\n",
       "display: block;\n",
       "}\n",
       ".err-msg {\n",
       "color: red;\n",
       "font-style: italic;\n",
       "font-family: monospace;\n",
       "white-space: pre;\n",
       "display: block;\n",
       "}\n",
       "#unshowable {\n",
       "color: red;\n",
       "font-weight: bold;\n",
       "}\n",
       ".err-msg.in.collapse {\n",
       "padding-top: 0.7em;\n",
       "}\n",
       ".highlight-code {\n",
       "white-space: pre;\n",
       "font-family: monospace;\n",
       "}\n",
       ".suggestion-warning { \n",
       "font-weight: bold;\n",
       "color: rgb(200, 130, 0);\n",
       "}\n",
       ".suggestion-error { \n",
       "font-weight: bold;\n",
       "color: red;\n",
       "}\n",
       ".suggestion-name {\n",
       "font-weight: bold;\n",
       "}\n",
       "</style><span class='get-type'>foo :: forall b. Num b => b -> b</span>"
      ],
      "text/plain": [
       "foo :: forall b. Num b => b -> b"
      ]
     },
     "metadata": {},
     "output_type": "display_data"
    },
    {
     "data": {
      "text/plain": [
       "3"
      ]
     },
     "metadata": {},
     "output_type": "display_data"
    }
   ],
   "source": [
    "foo = (+ 3) >>= (\\x y-> (x - y) * y)\n",
    "-- \\w -> 3 * w\n",
    ":t foo\n",
    "foo 1"
   ]
  },
  {
   "cell_type": "code",
   "execution_count": 108,
   "id": "b2004479-112a-4dbe-8c82-f713da369b64",
   "metadata": {},
   "outputs": [
    {
     "data": {
      "text/plain": [
       "22"
      ]
     },
     "metadata": {},
     "output_type": "display_data"
    },
    {
     "data": {
      "text/plain": [
       "22"
      ]
     },
     "metadata": {},
     "output_type": "display_data"
    }
   ],
   "source": [
    "import Control.Monad.Instances\n",
    "\n",
    "addStuff :: Int -> Int\n",
    "addStuff = do\n",
    "    a <- (*2)\n",
    "    b <- (+10)\n",
    "    -- 바인딩 값이 함수가 무엇을 반환할것인지에 대해서 이미 알고 있는 것처럼 행동하게 됨\n",
    "    -- 함수들을 하나의 함수로 합치고,\n",
    "    -- 그 함수의 매개변수를 그것을 구성하는 모든 함수들에게 전달하는 것으로 이루어진다.\n",
    "    return (a + b)\n",
    "    -- 리턴이 함수를 반환하는 함수이므로, 인자가 두 개인 것처럼 인식됨\n",
    "    \n",
    "addStuff' = (*2) >>= (\\a -> (+ 10) >>= (\\b -> return (a + b)))\n",
    "-- h >>= f = \\w -> f (h w) w  \n",
    "    \n",
    "addStuff 4\n",
    "addStuff' 4"
   ]
  },
  {
   "cell_type": "code",
   "execution_count": 107,
   "id": "4d724586-c008-49cd-8560-dc0b80049be4",
   "metadata": {},
   "outputs": [
    {
     "data": {
      "text/html": [
       "<style>/* Styles used for the Hoogle display in the pager */\n",
       ".hoogle-doc {\n",
       "display: block;\n",
       "padding-bottom: 1.3em;\n",
       "padding-left: 0.4em;\n",
       "}\n",
       ".hoogle-code {\n",
       "display: block;\n",
       "font-family: monospace;\n",
       "white-space: pre;\n",
       "}\n",
       ".hoogle-text {\n",
       "display: block;\n",
       "}\n",
       ".hoogle-name {\n",
       "color: green;\n",
       "font-weight: bold;\n",
       "}\n",
       ".hoogle-head {\n",
       "font-weight: bold;\n",
       "}\n",
       ".hoogle-sub {\n",
       "display: block;\n",
       "margin-left: 0.4em;\n",
       "}\n",
       ".hoogle-package {\n",
       "font-weight: bold;\n",
       "font-style: italic;\n",
       "}\n",
       ".hoogle-module {\n",
       "font-weight: bold;\n",
       "}\n",
       ".hoogle-class {\n",
       "font-weight: bold;\n",
       "}\n",
       ".get-type {\n",
       "color: green;\n",
       "font-weight: bold;\n",
       "font-family: monospace;\n",
       "display: block;\n",
       "white-space: pre-wrap;\n",
       "}\n",
       ".show-type {\n",
       "color: green;\n",
       "font-weight: bold;\n",
       "font-family: monospace;\n",
       "margin-left: 1em;\n",
       "}\n",
       ".mono {\n",
       "font-family: monospace;\n",
       "display: block;\n",
       "}\n",
       ".err-msg {\n",
       "color: red;\n",
       "font-style: italic;\n",
       "font-family: monospace;\n",
       "white-space: pre;\n",
       "display: block;\n",
       "}\n",
       "#unshowable {\n",
       "color: red;\n",
       "font-weight: bold;\n",
       "}\n",
       ".err-msg.in.collapse {\n",
       "padding-top: 0.7em;\n",
       "}\n",
       ".highlight-code {\n",
       "white-space: pre;\n",
       "font-family: monospace;\n",
       "}\n",
       ".suggestion-warning { \n",
       "font-weight: bold;\n",
       "color: rgb(200, 130, 0);\n",
       "}\n",
       ".suggestion-error { \n",
       "font-weight: bold;\n",
       "color: red;\n",
       "}\n",
       ".suggestion-name {\n",
       "font-weight: bold;\n",
       "}\n",
       "</style><div class=\"suggestion-name\" style=\"clear:both;\">Redundant return</div><div class=\"suggestion-row\" style=\"float: left;\"><div class=\"suggestion-warning\">Found:</div><div class=\"highlight-code\" id=\"haskell\">do a <- (+ 2)\n",
       "   return a</div></div><div class=\"suggestion-row\" style=\"float: left;\"><div class=\"suggestion-warning\">Why Not:</div><div class=\"highlight-code\" id=\"haskell\">do (+ 2)</div></div><div class=\"suggestion-name\" style=\"clear:both;\">Redundant $</div><div class=\"suggestion-row\" style=\"float: left;\"><div class=\"suggestion-warning\">Found:</div><div class=\"highlight-code\" id=\"haskell\">(do a <- (+ 2)\n",
       "    return a)\n",
       "  $ 5</div></div><div class=\"suggestion-row\" style=\"float: left;\"><div class=\"suggestion-warning\">Why Not:</div><div class=\"highlight-code\" id=\"haskell\">(do a <- (+ 2)\n",
       "    return a)\n",
       "  5</div></div><div class=\"suggestion-name\" style=\"clear:both;\">Avoid lambda</div><div class=\"suggestion-row\" style=\"float: left;\"><div class=\"suggestion-warning\">Found:</div><div class=\"highlight-code\" id=\"haskell\">(\\ a -> return a)</div></div><div class=\"suggestion-row\" style=\"float: left;\"><div class=\"suggestion-warning\">Why Not:</div><div class=\"highlight-code\" id=\"haskell\">return</div></div><div class=\"suggestion-name\" style=\"clear:both;\">Redundant bracket</div><div class=\"suggestion-row\" style=\"float: left;\"><div class=\"suggestion-warning\">Found:</div><div class=\"highlight-code\" id=\"haskell\">(return (w + 2)) w</div></div><div class=\"suggestion-row\" style=\"float: left;\"><div class=\"suggestion-warning\">Why Not:</div><div class=\"highlight-code\" id=\"haskell\">return (w + 2) w</div></div><div class=\"suggestion-name\" style=\"clear:both;\">Redundant $</div><div class=\"suggestion-row\" style=\"float: left;\"><div class=\"suggestion-warning\">Found:</div><div class=\"highlight-code\" id=\"haskell\">(\\ w -> (\\ _ -> w + 2) w) $ 5</div></div><div class=\"suggestion-row\" style=\"float: left;\"><div class=\"suggestion-warning\">Why Not:</div><div class=\"highlight-code\" id=\"haskell\">(\\ w -> (\\ _ -> w + 2) w) 5</div></div><div class=\"suggestion-name\" style=\"clear:both;\">Avoid lambda using `infix`</div><div class=\"suggestion-row\" style=\"float: left;\"><div class=\"suggestion-warning\">Found:</div><div class=\"highlight-code\" id=\"haskell\">(\\ w -> w + 2)</div></div><div class=\"suggestion-row\" style=\"float: left;\"><div class=\"suggestion-warning\">Why Not:</div><div class=\"highlight-code\" id=\"haskell\">(+ 2)</div></div><div class=\"suggestion-name\" style=\"clear:both;\">Redundant $</div><div class=\"suggestion-row\" style=\"float: left;\"><div class=\"suggestion-warning\">Found:</div><div class=\"highlight-code\" id=\"haskell\">(\\ w -> w + 2) $ 5</div></div><div class=\"suggestion-row\" style=\"float: left;\"><div class=\"suggestion-warning\">Why Not:</div><div class=\"highlight-code\" id=\"haskell\">(\\ w -> w + 2) 5</div></div>"
      ],
      "text/plain": [
       "Line 1: Redundant return\n",
       "Found:\n",
       "do a <- (+ 2)\n",
       "   return a\n",
       "Why not:\n",
       "do (+ 2)Line 1: Redundant $\n",
       "Found:\n",
       "(do a <- (+ 2)\n",
       "    return a)\n",
       "  $ 5\n",
       "Why not:\n",
       "(do a <- (+ 2)\n",
       "    return a)\n",
       "  5Line 2: Avoid lambda\n",
       "Found:\n",
       "(\\ a -> return a)\n",
       "Why not:\n",
       "returnLine 3: Redundant bracket\n",
       "Found:\n",
       "(return (w + 2)) w\n",
       "Why not:\n",
       "return (w + 2) wLine 4: Redundant $\n",
       "Found:\n",
       "(\\ w -> (\\ _ -> w + 2) w) $ 5\n",
       "Why not:\n",
       "(\\ w -> (\\ _ -> w + 2) w) 5Line 5: Avoid lambda using `infix`\n",
       "Found:\n",
       "(\\ w -> w + 2)\n",
       "Why not:\n",
       "(+ 2)Line 5: Redundant $\n",
       "Found:\n",
       "(\\ w -> w + 2) $ 5\n",
       "Why not:\n",
       "(\\ w -> w + 2) 5"
      ]
     },
     "metadata": {},
     "output_type": "display_data"
    },
    {
     "data": {
      "text/plain": [
       "7"
      ]
     },
     "metadata": {},
     "output_type": "display_data"
    },
    {
     "data": {
      "text/plain": [
       "7"
      ]
     },
     "metadata": {},
     "output_type": "display_data"
    },
    {
     "data": {
      "text/plain": [
       "7"
      ]
     },
     "metadata": {},
     "output_type": "display_data"
    },
    {
     "data": {
      "text/plain": [
       "7"
      ]
     },
     "metadata": {},
     "output_type": "display_data"
    },
    {
     "data": {
      "text/plain": [
       "7"
      ]
     },
     "metadata": {},
     "output_type": "display_data"
    }
   ],
   "source": [
    "(do a <- (+2); return a) $ 5\n",
    "(+2) >>= (\\a -> return a) $ 5\n",
    "(\\w -> (return (w + 2)) w ) 5\n",
    "(\\w -> (\\_ -> w + 2) w) $ 5\n",
    "(\\w -> w + 2) $ 5"
   ]
  },
  {
   "cell_type": "code",
   "execution_count": 109,
   "id": "ce32649d-d9b5-4ae3-9b4c-12636741159c",
   "metadata": {},
   "outputs": [
    {
     "data": {
      "text/plain": [
       "22"
      ]
     },
     "metadata": {},
     "output_type": "display_data"
    }
   ],
   "source": [
    "addStuff :: Int -> Int\n",
    "addStuff x = let\n",
    "    a = (*2) x\n",
    "    b = (+10) x\n",
    "    in a + b\n",
    "    \n",
    "addStuff 4\n",
    "-- 더 명확하게 작성"
   ]
  },
  {
   "cell_type": "markdown",
   "id": "49591d28-60d9-4875-b818-c0d4a0e283bb",
   "metadata": {},
   "source": [
    "## 세련되게 상태를 유지하는 계산\n",
    "\n",
    "State Monad\n",
    "\n",
    "s -> (a,s)\n",
    "\n",
    "s :: 상태의 타입\n",
    "a :: 스테이트풀 계산의 결과"
   ]
  },
  {
   "cell_type": "markdown",
   "id": "86c4e72d-0c7a-4a28-aeae-b2bb7c25b4c7",
   "metadata": {},
   "source": [
    "## stack"
   ]
  },
  {
   "cell_type": "markdown",
   "id": "c2e89b19-6e58-4d9d-9f9b-999600227477",
   "metadata": {},
   "source": [
    "- Push\n",
    "- Pop"
   ]
  },
  {
   "cell_type": "code",
   "execution_count": 2,
   "id": "59d560bc-13e1-4808-b428-ed1b1cb090d8",
   "metadata": {},
   "outputs": [],
   "source": [
    "type Stack = [Int]\n",
    "\n",
    "pop :: Stack -> (Int, Stack)\n",
    "pop (x:xs) = (x,xs)\n",
    "\n",
    "push :: Int -> Stack -> ((), Stack)\n",
    "push a xs = ((), a:xs)"
   ]
  },
  {
   "cell_type": "code",
   "execution_count": 113,
   "id": "5f31df5c-91a6-4473-be27-6a189ed5a6c6",
   "metadata": {},
   "outputs": [],
   "source": [
    "stackManip :: Stack -> (Int, Stack)\n",
    "stackManip stack = let\n",
    "    ((), newStack1) = push 3 stack\n",
    "    (a, newStack2) = pop newStack1\n",
    "    in pop newStack2"
   ]
  },
  {
   "cell_type": "code",
   "execution_count": 115,
   "id": "f0449fbe-d45a-4901-a3a3-4950c263a962",
   "metadata": {},
   "outputs": [
    {
     "data": {
      "text/plain": [
       "(5,[8,2,1])"
      ]
     },
     "metadata": {},
     "output_type": "display_data"
    }
   ],
   "source": [
    "stackManip [5,8,2,1]\n",
    "-- Push [3,5,8,2,1]\n",
    "-- Pop [5,8,2,1]\n",
    "-- Pop [8,2,1]"
   ]
  },
  {
   "cell_type": "code",
   "execution_count": 47,
   "id": "8246fd57-b48a-4e2e-b75b-49e05ac3b698",
   "metadata": {},
   "outputs": [
    {
     "data": {
      "text/html": [
       "<style>/* Styles used for the Hoogle display in the pager */\n",
       ".hoogle-doc {\n",
       "display: block;\n",
       "padding-bottom: 1.3em;\n",
       "padding-left: 0.4em;\n",
       "}\n",
       ".hoogle-code {\n",
       "display: block;\n",
       "font-family: monospace;\n",
       "white-space: pre;\n",
       "}\n",
       ".hoogle-text {\n",
       "display: block;\n",
       "}\n",
       ".hoogle-name {\n",
       "color: green;\n",
       "font-weight: bold;\n",
       "}\n",
       ".hoogle-head {\n",
       "font-weight: bold;\n",
       "}\n",
       ".hoogle-sub {\n",
       "display: block;\n",
       "margin-left: 0.4em;\n",
       "}\n",
       ".hoogle-package {\n",
       "font-weight: bold;\n",
       "font-style: italic;\n",
       "}\n",
       ".hoogle-module {\n",
       "font-weight: bold;\n",
       "}\n",
       ".hoogle-class {\n",
       "font-weight: bold;\n",
       "}\n",
       ".get-type {\n",
       "color: green;\n",
       "font-weight: bold;\n",
       "font-family: monospace;\n",
       "display: block;\n",
       "white-space: pre-wrap;\n",
       "}\n",
       ".show-type {\n",
       "color: green;\n",
       "font-weight: bold;\n",
       "font-family: monospace;\n",
       "margin-left: 1em;\n",
       "}\n",
       ".mono {\n",
       "font-family: monospace;\n",
       "display: block;\n",
       "}\n",
       ".err-msg {\n",
       "color: red;\n",
       "font-style: italic;\n",
       "font-family: monospace;\n",
       "white-space: pre;\n",
       "display: block;\n",
       "}\n",
       "#unshowable {\n",
       "color: red;\n",
       "font-weight: bold;\n",
       "}\n",
       ".err-msg.in.collapse {\n",
       "padding-top: 0.7em;\n",
       "}\n",
       ".highlight-code {\n",
       "white-space: pre;\n",
       "font-family: monospace;\n",
       "}\n",
       ".suggestion-warning { \n",
       "font-weight: bold;\n",
       "color: rgb(200, 130, 0);\n",
       "}\n",
       ".suggestion-error { \n",
       "font-weight: bold;\n",
       "color: red;\n",
       "}\n",
       ".suggestion-name {\n",
       "font-weight: bold;\n",
       "}\n",
       "</style><span class='get-type'>stackManip :: Stack -> (Int, Stack)</span>"
      ],
      "text/plain": [
       "stackManip :: Stack -> (Int, Stack)"
      ]
     },
     "metadata": {},
     "output_type": "display_data"
    },
    {
     "data": {
      "text/html": [
       "<style>/* Styles used for the Hoogle display in the pager */\n",
       ".hoogle-doc {\n",
       "display: block;\n",
       "padding-bottom: 1.3em;\n",
       "padding-left: 0.4em;\n",
       "}\n",
       ".hoogle-code {\n",
       "display: block;\n",
       "font-family: monospace;\n",
       "white-space: pre;\n",
       "}\n",
       ".hoogle-text {\n",
       "display: block;\n",
       "}\n",
       ".hoogle-name {\n",
       "color: green;\n",
       "font-weight: bold;\n",
       "}\n",
       ".hoogle-head {\n",
       "font-weight: bold;\n",
       "}\n",
       ".hoogle-sub {\n",
       "display: block;\n",
       "margin-left: 0.4em;\n",
       "}\n",
       ".hoogle-package {\n",
       "font-weight: bold;\n",
       "font-style: italic;\n",
       "}\n",
       ".hoogle-module {\n",
       "font-weight: bold;\n",
       "}\n",
       ".hoogle-class {\n",
       "font-weight: bold;\n",
       "}\n",
       ".get-type {\n",
       "color: green;\n",
       "font-weight: bold;\n",
       "font-family: monospace;\n",
       "display: block;\n",
       "white-space: pre-wrap;\n",
       "}\n",
       ".show-type {\n",
       "color: green;\n",
       "font-weight: bold;\n",
       "font-family: monospace;\n",
       "margin-left: 1em;\n",
       "}\n",
       ".mono {\n",
       "font-family: monospace;\n",
       "display: block;\n",
       "}\n",
       ".err-msg {\n",
       "color: red;\n",
       "font-style: italic;\n",
       "font-family: monospace;\n",
       "white-space: pre;\n",
       "display: block;\n",
       "}\n",
       "#unshowable {\n",
       "color: red;\n",
       "font-weight: bold;\n",
       "}\n",
       ".err-msg.in.collapse {\n",
       "padding-top: 0.7em;\n",
       "}\n",
       ".highlight-code {\n",
       "white-space: pre;\n",
       "font-family: monospace;\n",
       "}\n",
       ".suggestion-warning { \n",
       "font-weight: bold;\n",
       "color: rgb(200, 130, 0);\n",
       "}\n",
       ".suggestion-error { \n",
       "font-weight: bold;\n",
       "color: red;\n",
       "}\n",
       ".suggestion-name {\n",
       "font-weight: bold;\n",
       "}\n",
       "</style><span class='get-type'>stackManip' :: Stack -> (Int, Stack)</span>"
      ],
      "text/plain": [
       "stackManip' :: Stack -> (Int, Stack)"
      ]
     },
     "metadata": {},
     "output_type": "display_data"
    }
   ],
   "source": [
    "stackManip = do\n",
    "    push 3\n",
    "    a <- pop\n",
    "    pop\n",
    "\n",
    ":t stackManip\n",
    "\n",
    "-- Monad (Int, a) \n",
    "-- pop :: Stack -> (Int, Stack)\n",
    "-- push :: Int -> Stack -> ((), Stack)\n",
    "\n",
    "stackManip' = push 3 >> pop >>= (\\a -> pop)\n",
    "\n",
    ":t stackManip'"
   ]
  },
  {
   "cell_type": "code",
   "execution_count": 48,
   "id": "50268cb1-b04b-4292-b438-a0917cc87eeb",
   "metadata": {},
   "outputs": [
    {
     "data": {
      "text/plain": [
       "(5,[8,2,1])"
      ]
     },
     "metadata": {},
     "output_type": "display_data"
    },
    {
     "data": {
      "text/plain": [
       "(5,[8,2,1])"
      ]
     },
     "metadata": {},
     "output_type": "display_data"
    }
   ],
   "source": [
    "stackManip [5,8,2,1]\n",
    "stackManip' [5,8,2,1]"
   ]
  },
  {
   "cell_type": "markdown",
   "id": "0d15d8d3-882d-4abe-a194-3ac59b53ed2f",
   "metadata": {},
   "source": [
    "## State Monad"
   ]
  },
  {
   "cell_type": "code",
   "execution_count": 126,
   "id": "c8d10e2b-f890-48be-86e9-72c5fcaa65a8",
   "metadata": {},
   "outputs": [],
   "source": [
    "-- Control.Monad.State\n",
    "\n",
    "newtype State s a = State {runState :: s -> (a, s)}\n",
    "\n",
    "instance Monad (State s) where  \n",
    "    return x = State $ \\s -> (x,s)  \n",
    "    -- 인자 값을 항상 state로 반환하는 \"계산\"을 만든다.\n",
    "    -- x 가 계산의 결과\n",
    "    (State h) >>= f = let (a, newState) = h s  \n",
    "                                        (State g) = f a  \n",
    "                                    in  g newState  \n",
    "    -- 첫번째 인자는 State 값 (연산)이다\n",
    "    -- h :: s -> (a,s) (deconstructing)\n",
    "    -- f :: a -> State (s -> (a,s)) \n",
    "    -- State s를 컨텍스트로 보면 컨텍스트를 벗겨낸 값은 a이다.\n",
    "    -- 전체 반환값은 모나드이다. (당연하다)\n",
    "    \n",
    "    -- h 는 기존의 State 컨텍스트 계산\n",
    "    -- f 는 a -> State (s -> (a,s))\n",
    "    \n",
    "    -- (a, newState) 는 기존 계산에 state를 적용해서 나온 튜플\n",
    "    -- g는 f에 a를 적용해서 나온 계산 :: (s -> (a,s))\n",
    "    -- g newState는 :: (a,s)\n",
    "    \n",
    "    let (a, newState) = h s  \n",
    "        -- 기존 계산에 최종 인자 state를 적용하여 결과과 새 state를 받음\n",
    "        (State g) = f a  \n",
    "        -- f에 위에서 받은 결과를 적용하여 g 계산을 받는다.\n",
    "    in  g newState  \n",
    "    -- 받은 계산 g에 newState를 적용하여 (h s 와 느낌 비슷)\n",
    "    -- (a, s) 받음\n",
    "    -- == 새로운 계산과 새로운 상태를 적용\n",
    "    \n",
    "    State $ \\s -> -- g newState\n",
    "    -- 받은 (a,s)를 통해 State Monad 생성"
   ]
  },
  {
   "cell_type": "code",
   "execution_count": 51,
   "id": "bc52ed01-ca96-46bf-84d0-2e66416fb1d8",
   "metadata": {},
   "outputs": [],
   "source": [
    "import qualified Control.Monad.State as S\n",
    "\n",
    "type Stack = [Int]\n",
    "\n",
    "-- State 모나드는 계산이다.\n",
    "\n",
    "pop :: S.State Stack Int\n",
    "-- State (Stack -> (Int, Stack))\n",
    "pop = S.state $ \\(x:xs) -> (x,xs)\n",
    "\n",
    "push :: Int -> S.State Stack ()\n",
    "-- State (Stack -> ((), Stack))\n",
    "push a = S.state $ \\xs -> ((), a:xs)"
   ]
  },
  {
   "cell_type": "code",
   "execution_count": 53,
   "id": "2ccf83e6-67f5-4276-96f1-0389182eac3e",
   "metadata": {},
   "outputs": [],
   "source": [
    "import qualified Control.Monad.State as S\n",
    "\n",
    "stackManip :: S.State Stack Int\n",
    "stackManip = do\n",
    "    push 3\n",
    "    a <- pop\n",
    "    -- Monad (State s) 이므로 a는 계산 결과값이다.\n",
    "    pop"
   ]
  },
  {
   "cell_type": "code",
   "execution_count": 55,
   "id": "41f55b4b-9dbd-47e2-aee9-6fadbd1b8192",
   "metadata": {},
   "outputs": [
    {
     "data": {
      "text/html": [
       "<style>/* Styles used for the Hoogle display in the pager */\n",
       ".hoogle-doc {\n",
       "display: block;\n",
       "padding-bottom: 1.3em;\n",
       "padding-left: 0.4em;\n",
       "}\n",
       ".hoogle-code {\n",
       "display: block;\n",
       "font-family: monospace;\n",
       "white-space: pre;\n",
       "}\n",
       ".hoogle-text {\n",
       "display: block;\n",
       "}\n",
       ".hoogle-name {\n",
       "color: green;\n",
       "font-weight: bold;\n",
       "}\n",
       ".hoogle-head {\n",
       "font-weight: bold;\n",
       "}\n",
       ".hoogle-sub {\n",
       "display: block;\n",
       "margin-left: 0.4em;\n",
       "}\n",
       ".hoogle-package {\n",
       "font-weight: bold;\n",
       "font-style: italic;\n",
       "}\n",
       ".hoogle-module {\n",
       "font-weight: bold;\n",
       "}\n",
       ".hoogle-class {\n",
       "font-weight: bold;\n",
       "}\n",
       ".get-type {\n",
       "color: green;\n",
       "font-weight: bold;\n",
       "font-family: monospace;\n",
       "display: block;\n",
       "white-space: pre-wrap;\n",
       "}\n",
       ".show-type {\n",
       "color: green;\n",
       "font-weight: bold;\n",
       "font-family: monospace;\n",
       "margin-left: 1em;\n",
       "}\n",
       ".mono {\n",
       "font-family: monospace;\n",
       "display: block;\n",
       "}\n",
       ".err-msg {\n",
       "color: red;\n",
       "font-style: italic;\n",
       "font-family: monospace;\n",
       "white-space: pre;\n",
       "display: block;\n",
       "}\n",
       "#unshowable {\n",
       "color: red;\n",
       "font-weight: bold;\n",
       "}\n",
       ".err-msg.in.collapse {\n",
       "padding-top: 0.7em;\n",
       "}\n",
       ".highlight-code {\n",
       "white-space: pre;\n",
       "font-family: monospace;\n",
       "}\n",
       ".suggestion-warning { \n",
       "font-weight: bold;\n",
       "color: rgb(200, 130, 0);\n",
       "}\n",
       ".suggestion-error { \n",
       "font-weight: bold;\n",
       "color: red;\n",
       "}\n",
       ".suggestion-name {\n",
       "font-weight: bold;\n",
       "}\n",
       "</style><div class=\"suggestion-name\" style=\"clear:both;\">Redundant $</div><div class=\"suggestion-row\" style=\"float: left;\"><div class=\"suggestion-warning\">Found:</div><div class=\"highlight-code\" id=\"haskell\">S.runState stackManip $ [5, 8, 2, 1]</div></div><div class=\"suggestion-row\" style=\"float: left;\"><div class=\"suggestion-warning\">Why Not:</div><div class=\"highlight-code\" id=\"haskell\">S.runState stackManip [5, 8, 2, 1]</div></div>"
      ],
      "text/plain": [
       "Line 3: Redundant $\n",
       "Found:\n",
       "S.runState stackManip $ [5, 8, 2, 1]\n",
       "Why not:\n",
       "S.runState stackManip [5, 8, 2, 1]"
      ]
     },
     "metadata": {},
     "output_type": "display_data"
    },
    {
     "data": {
      "text/plain": [
       "(5,[8,2,1])"
      ]
     },
     "metadata": {},
     "output_type": "display_data"
    }
   ],
   "source": [
    "import qualified Control.Monad.State as S\n",
    "\n",
    "S.runState stackManip $ [5,8,2,1]"
   ]
  },
  {
   "cell_type": "code",
   "execution_count": 56,
   "id": "a37c7eb9-f55f-43de-825e-ba0a8b7a3ebf",
   "metadata": {},
   "outputs": [
    {
     "data": {
      "text/html": [
       "<style>/* Styles used for the Hoogle display in the pager */\n",
       ".hoogle-doc {\n",
       "display: block;\n",
       "padding-bottom: 1.3em;\n",
       "padding-left: 0.4em;\n",
       "}\n",
       ".hoogle-code {\n",
       "display: block;\n",
       "font-family: monospace;\n",
       "white-space: pre;\n",
       "}\n",
       ".hoogle-text {\n",
       "display: block;\n",
       "}\n",
       ".hoogle-name {\n",
       "color: green;\n",
       "font-weight: bold;\n",
       "}\n",
       ".hoogle-head {\n",
       "font-weight: bold;\n",
       "}\n",
       ".hoogle-sub {\n",
       "display: block;\n",
       "margin-left: 0.4em;\n",
       "}\n",
       ".hoogle-package {\n",
       "font-weight: bold;\n",
       "font-style: italic;\n",
       "}\n",
       ".hoogle-module {\n",
       "font-weight: bold;\n",
       "}\n",
       ".hoogle-class {\n",
       "font-weight: bold;\n",
       "}\n",
       ".get-type {\n",
       "color: green;\n",
       "font-weight: bold;\n",
       "font-family: monospace;\n",
       "display: block;\n",
       "white-space: pre-wrap;\n",
       "}\n",
       ".show-type {\n",
       "color: green;\n",
       "font-weight: bold;\n",
       "font-family: monospace;\n",
       "margin-left: 1em;\n",
       "}\n",
       ".mono {\n",
       "font-family: monospace;\n",
       "display: block;\n",
       "}\n",
       ".err-msg {\n",
       "color: red;\n",
       "font-style: italic;\n",
       "font-family: monospace;\n",
       "white-space: pre;\n",
       "display: block;\n",
       "}\n",
       "#unshowable {\n",
       "color: red;\n",
       "font-weight: bold;\n",
       "}\n",
       ".err-msg.in.collapse {\n",
       "padding-top: 0.7em;\n",
       "}\n",
       ".highlight-code {\n",
       "white-space: pre;\n",
       "font-family: monospace;\n",
       "}\n",
       ".suggestion-warning { \n",
       "font-weight: bold;\n",
       "color: rgb(200, 130, 0);\n",
       "}\n",
       ".suggestion-error { \n",
       "font-weight: bold;\n",
       "color: red;\n",
       "}\n",
       ".suggestion-name {\n",
       "font-weight: bold;\n",
       "}\n",
       "</style><div class=\"suggestion-name\" style=\"clear:both;\">Use const</div><div class=\"suggestion-row\" style=\"float: left;\"><div class=\"suggestion-warning\">Found:</div><div class=\"highlight-code\" id=\"haskell\">\\ a -> pop</div></div><div class=\"suggestion-row\" style=\"float: left;\"><div class=\"suggestion-warning\">Why Not:</div><div class=\"highlight-code\" id=\"haskell\">const pop</div></div>"
      ],
      "text/plain": [
       "Line 2: Use const\n",
       "Found:\n",
       "\\ a -> pop\n",
       "Why not:\n",
       "const pop"
      ]
     },
     "metadata": {},
     "output_type": "display_data"
    }
   ],
   "source": [
    "stackManip' :: S.State Stack Int\n",
    "stackManip' = push 3 >> pop >>= (\\a -> pop)\n",
    "\n",
    "push 3 >> pop\n",
    "-- push 3 >>= \\_ -> pop\n",
    "-- (State \\xs -> ((), 3:xs)) >>= \\_ -> pop\n",
    "\n",
    "-- h = \\xs -> ((), 3:xs)\n",
    "-- f = \\_ -> pop\n",
    "\n",
    "-- let (a, newState) = h s\n",
    "-- let (a, newState) = ((), 3:s)\n",
    "-- a = ()\n",
    "-- newState = 3:s\n",
    "\n",
    "-- (State g) = f a\n",
    "-- (State g) = (\\_ -> pop) ()\n",
    "-- (State g) = pop\n",
    "-- g = \\(x:xs) -> (x,xs)\n",
    "\n",
    "-- in g newState\n",
    "-- in (\\(x:xs) -> (x,xs)) (3:s)\n",
    "-- in (3, s)\n",
    "\n",
    "-- == push 3 >> pop = State \\s -> (3,s)\n",
    "\n",
    "-- (State h) >>= f = let (a, newState) = h s  \n",
    "--                       (State g) = f a  \n",
    "--                   in  g newState  "
   ]
  },
  {
   "cell_type": "code",
   "execution_count": 59,
   "id": "f7de7559-8911-42e7-8053-4d66f8b77c09",
   "metadata": {},
   "outputs": [
    {
     "data": {
      "text/html": [
       "<style>/* Styles used for the Hoogle display in the pager */\n",
       ".hoogle-doc {\n",
       "display: block;\n",
       "padding-bottom: 1.3em;\n",
       "padding-left: 0.4em;\n",
       "}\n",
       ".hoogle-code {\n",
       "display: block;\n",
       "font-family: monospace;\n",
       "white-space: pre;\n",
       "}\n",
       ".hoogle-text {\n",
       "display: block;\n",
       "}\n",
       ".hoogle-name {\n",
       "color: green;\n",
       "font-weight: bold;\n",
       "}\n",
       ".hoogle-head {\n",
       "font-weight: bold;\n",
       "}\n",
       ".hoogle-sub {\n",
       "display: block;\n",
       "margin-left: 0.4em;\n",
       "}\n",
       ".hoogle-package {\n",
       "font-weight: bold;\n",
       "font-style: italic;\n",
       "}\n",
       ".hoogle-module {\n",
       "font-weight: bold;\n",
       "}\n",
       ".hoogle-class {\n",
       "font-weight: bold;\n",
       "}\n",
       ".get-type {\n",
       "color: green;\n",
       "font-weight: bold;\n",
       "font-family: monospace;\n",
       "display: block;\n",
       "white-space: pre-wrap;\n",
       "}\n",
       ".show-type {\n",
       "color: green;\n",
       "font-weight: bold;\n",
       "font-family: monospace;\n",
       "margin-left: 1em;\n",
       "}\n",
       ".mono {\n",
       "font-family: monospace;\n",
       "display: block;\n",
       "}\n",
       ".err-msg {\n",
       "color: red;\n",
       "font-style: italic;\n",
       "font-family: monospace;\n",
       "white-space: pre;\n",
       "display: block;\n",
       "}\n",
       "#unshowable {\n",
       "color: red;\n",
       "font-weight: bold;\n",
       "}\n",
       ".err-msg.in.collapse {\n",
       "padding-top: 0.7em;\n",
       "}\n",
       ".highlight-code {\n",
       "white-space: pre;\n",
       "font-family: monospace;\n",
       "}\n",
       ".suggestion-warning { \n",
       "font-weight: bold;\n",
       "color: rgb(200, 130, 0);\n",
       "}\n",
       ".suggestion-error { \n",
       "font-weight: bold;\n",
       "color: red;\n",
       "}\n",
       ".suggestion-name {\n",
       "font-weight: bold;\n",
       "}\n",
       "</style><div class=\"suggestion-name\" style=\"clear:both;\">Redundant $</div><div class=\"suggestion-row\" style=\"float: left;\"><div class=\"suggestion-warning\">Found:</div><div class=\"highlight-code\" id=\"haskell\">S.runState stackManip $ [5, 8, 2, 1]</div></div><div class=\"suggestion-row\" style=\"float: left;\"><div class=\"suggestion-warning\">Why Not:</div><div class=\"highlight-code\" id=\"haskell\">S.runState stackManip [5, 8, 2, 1]</div></div><div class=\"suggestion-name\" style=\"clear:both;\">Redundant $</div><div class=\"suggestion-row\" style=\"float: left;\"><div class=\"suggestion-warning\">Found:</div><div class=\"highlight-code\" id=\"haskell\">S.runState stackManip' $ [5, 8, 2, 1]</div></div><div class=\"suggestion-row\" style=\"float: left;\"><div class=\"suggestion-warning\">Why Not:</div><div class=\"highlight-code\" id=\"haskell\">S.runState stackManip' [5, 8, 2, 1]</div></div>"
      ],
      "text/plain": [
       "Line 1: Redundant $\n",
       "Found:\n",
       "S.runState stackManip $ [5, 8, 2, 1]\n",
       "Why not:\n",
       "S.runState stackManip [5, 8, 2, 1]Line 2: Redundant $\n",
       "Found:\n",
       "S.runState stackManip' $ [5, 8, 2, 1]\n",
       "Why not:\n",
       "S.runState stackManip' [5, 8, 2, 1]"
      ]
     },
     "metadata": {},
     "output_type": "display_data"
    },
    {
     "data": {
      "text/plain": [
       "(5,[8,2,1])"
      ]
     },
     "metadata": {},
     "output_type": "display_data"
    },
    {
     "data": {
      "text/plain": [
       "(5,[8,2,1])"
      ]
     },
     "metadata": {},
     "output_type": "display_data"
    }
   ],
   "source": [
    "S.runState stackManip $ [5,8,2,1]\n",
    "S.runState stackManip' $ [5,8,2,1]"
   ]
  },
  {
   "cell_type": "code",
   "execution_count": 60,
   "id": "d58faa07-a91a-4636-b5c3-b9ee6d2493d3",
   "metadata": {},
   "outputs": [],
   "source": [
    "import qualified Control.Monad.State as S\n",
    "\n",
    "stackManip :: S.State Stack Int\n",
    "stackManip = do\n",
    "    push 3\n",
    "    pop\n",
    "    -- 다음 연산에서 pop의 결과 값읋 사용하지 않으므로 굳이 꺼낼 필요가 없다.\n",
    "    pop"
   ]
  },
  {
   "cell_type": "code",
   "execution_count": 61,
   "id": "0e245334-8f3c-4884-8ece-324e8795dccc",
   "metadata": {},
   "outputs": [],
   "source": [
    "import qualified Control.Monad.State as S\n",
    "\n",
    "stackStuff :: S.State Stack ()\n",
    "stackStuff = do\n",
    "    a <- pop\n",
    "    if a == 5\n",
    "        then push 5\n",
    "        else do\n",
    "            push 3\n",
    "            push 8"
   ]
  },
  {
   "cell_type": "code",
   "execution_count": 62,
   "id": "98ed0db3-1151-4299-9f1b-23e7932a9379",
   "metadata": {},
   "outputs": [
    {
     "data": {
      "text/plain": [
       "((),[8,3,0,2,1,0])"
      ]
     },
     "metadata": {},
     "output_type": "display_data"
    }
   ],
   "source": [
    "import qualified Control.Monad.State as S\n",
    "\n",
    "S.runState stackStuff [9,0,2,1,0]"
   ]
  },
  {
   "cell_type": "code",
   "execution_count": 64,
   "id": "109451b6-7d6c-4eab-8e5f-5fff799f7d78",
   "metadata": {},
   "outputs": [
    {
     "data": {
      "text/html": [
       "<style>/* Styles used for the Hoogle display in the pager */\n",
       ".hoogle-doc {\n",
       "display: block;\n",
       "padding-bottom: 1.3em;\n",
       "padding-left: 0.4em;\n",
       "}\n",
       ".hoogle-code {\n",
       "display: block;\n",
       "font-family: monospace;\n",
       "white-space: pre;\n",
       "}\n",
       ".hoogle-text {\n",
       "display: block;\n",
       "}\n",
       ".hoogle-name {\n",
       "color: green;\n",
       "font-weight: bold;\n",
       "}\n",
       ".hoogle-head {\n",
       "font-weight: bold;\n",
       "}\n",
       ".hoogle-sub {\n",
       "display: block;\n",
       "margin-left: 0.4em;\n",
       "}\n",
       ".hoogle-package {\n",
       "font-weight: bold;\n",
       "font-style: italic;\n",
       "}\n",
       ".hoogle-module {\n",
       "font-weight: bold;\n",
       "}\n",
       ".hoogle-class {\n",
       "font-weight: bold;\n",
       "}\n",
       ".get-type {\n",
       "color: green;\n",
       "font-weight: bold;\n",
       "font-family: monospace;\n",
       "display: block;\n",
       "white-space: pre-wrap;\n",
       "}\n",
       ".show-type {\n",
       "color: green;\n",
       "font-weight: bold;\n",
       "font-family: monospace;\n",
       "margin-left: 1em;\n",
       "}\n",
       ".mono {\n",
       "font-family: monospace;\n",
       "display: block;\n",
       "}\n",
       ".err-msg {\n",
       "color: red;\n",
       "font-style: italic;\n",
       "font-family: monospace;\n",
       "white-space: pre;\n",
       "display: block;\n",
       "}\n",
       "#unshowable {\n",
       "color: red;\n",
       "font-weight: bold;\n",
       "}\n",
       ".err-msg.in.collapse {\n",
       "padding-top: 0.7em;\n",
       "}\n",
       ".highlight-code {\n",
       "white-space: pre;\n",
       "font-family: monospace;\n",
       "}\n",
       ".suggestion-warning { \n",
       "font-weight: bold;\n",
       "color: rgb(200, 130, 0);\n",
       "}\n",
       ".suggestion-error { \n",
       "font-weight: bold;\n",
       "color: red;\n",
       "}\n",
       ".suggestion-name {\n",
       "font-weight: bold;\n",
       "}\n",
       "</style><div class=\"suggestion-name\" style=\"clear:both;\">Use when</div><div class=\"suggestion-row\" style=\"float: left;\"><div class=\"suggestion-warning\">Found:</div><div class=\"highlight-code\" id=\"haskell\">if a == 100 then stackStuff else return ()</div></div><div class=\"suggestion-row\" style=\"float: left;\"><div class=\"suggestion-warning\">Why Not:</div><div class=\"highlight-code\" id=\"haskell\">Control.Monad.when (a == 100) stackStuff</div></div>"
      ],
      "text/plain": [
       "Line 6: Use when\n",
       "Found:\n",
       "if a == 100 then stackStuff else return ()\n",
       "Why not:\n",
       "Control.Monad.when (a == 100) stackStuff"
      ]
     },
     "metadata": {},
     "output_type": "display_data"
    }
   ],
   "source": [
    "v\n",
    "\n",
    "moreStack :: S.State Stack ()\n",
    "moreStack = do\n",
    "    a <- stackManip\n",
    "    if a == 100\n",
    "        then stackStuff\n",
    "        else return ()"
   ]
  },
  {
   "cell_type": "markdown",
   "id": "0c1368bf-b9de-4eab-ae1f-901b5ec03c71",
   "metadata": {},
   "source": [
    "### State 얻기와 설정하기"
   ]
  },
  {
   "cell_type": "code",
   "execution_count": null,
   "id": "77bbe956-21e1-4fc2-b0f9-a26c3618c46a",
   "metadata": {},
   "outputs": [],
   "source": [
    "-- 구현체\n",
    "get = State $ \\s -> (s,s) \n",
    "put newState = State $ \\s -> ((),newState)  "
   ]
  },
  {
   "cell_type": "code",
   "execution_count": 67,
   "id": "71c9512e-7a0d-491d-91f5-d32fe0f74e86",
   "metadata": {},
   "outputs": [],
   "source": [
    "import qualified Control.Monad.State as S\n",
    "\n",
    "stackyStack :: S.State Stack ()  \n",
    "stackyStack = do  \n",
    "    stackNow <- S.get  \n",
    "    -- 결과 값으로 상태를 받음\n",
    "    if stackNow == [1,2,3]  \n",
    "        then S.put [8,3,1]  \n",
    "        else S.put [9,2,1]  \n",
    "        -- 상태를 그냥 바꿔 버림"
   ]
  },
  {
   "cell_type": "code",
   "execution_count": 69,
   "id": "3127cbf5-bb1a-4863-8744-c944174139cc",
   "metadata": {},
   "outputs": [
    {
     "data": {
      "text/plain": [
       "((),[8,3,1])"
      ]
     },
     "metadata": {},
     "output_type": "display_data"
    },
    {
     "data": {
      "text/plain": [
       "((),[9,2,1])"
      ]
     },
     "metadata": {},
     "output_type": "display_data"
    }
   ],
   "source": [
    "S.runState stackyStack [1,2,3]\n",
    "S.runState stackyStack [1,2,3,4]"
   ]
  },
  {
   "cell_type": "code",
   "execution_count": 71,
   "id": "6f1a4781-c96b-441a-92eb-2c76900cd8a6",
   "metadata": {},
   "outputs": [
    {
     "data": {
      "text/html": [
       "<style>/* Styles used for the Hoogle display in the pager */\n",
       ".hoogle-doc {\n",
       "display: block;\n",
       "padding-bottom: 1.3em;\n",
       "padding-left: 0.4em;\n",
       "}\n",
       ".hoogle-code {\n",
       "display: block;\n",
       "font-family: monospace;\n",
       "white-space: pre;\n",
       "}\n",
       ".hoogle-text {\n",
       "display: block;\n",
       "}\n",
       ".hoogle-name {\n",
       "color: green;\n",
       "font-weight: bold;\n",
       "}\n",
       ".hoogle-head {\n",
       "font-weight: bold;\n",
       "}\n",
       ".hoogle-sub {\n",
       "display: block;\n",
       "margin-left: 0.4em;\n",
       "}\n",
       ".hoogle-package {\n",
       "font-weight: bold;\n",
       "font-style: italic;\n",
       "}\n",
       ".hoogle-module {\n",
       "font-weight: bold;\n",
       "}\n",
       ".hoogle-class {\n",
       "font-weight: bold;\n",
       "}\n",
       ".get-type {\n",
       "color: green;\n",
       "font-weight: bold;\n",
       "font-family: monospace;\n",
       "display: block;\n",
       "white-space: pre-wrap;\n",
       "}\n",
       ".show-type {\n",
       "color: green;\n",
       "font-weight: bold;\n",
       "font-family: monospace;\n",
       "margin-left: 1em;\n",
       "}\n",
       ".mono {\n",
       "font-family: monospace;\n",
       "display: block;\n",
       "}\n",
       ".err-msg {\n",
       "color: red;\n",
       "font-style: italic;\n",
       "font-family: monospace;\n",
       "white-space: pre;\n",
       "display: block;\n",
       "}\n",
       "#unshowable {\n",
       "color: red;\n",
       "font-weight: bold;\n",
       "}\n",
       ".err-msg.in.collapse {\n",
       "padding-top: 0.7em;\n",
       "}\n",
       ".highlight-code {\n",
       "white-space: pre;\n",
       "font-family: monospace;\n",
       "}\n",
       ".suggestion-warning { \n",
       "font-weight: bold;\n",
       "color: rgb(200, 130, 0);\n",
       "}\n",
       ".suggestion-error { \n",
       "font-weight: bold;\n",
       "color: red;\n",
       "}\n",
       ".suggestion-name {\n",
       "font-weight: bold;\n",
       "}\n",
       "</style><span class='get-type'>(>>=) :: forall (m :: * -> *) a b. Monad m => m a -> (a -> m b) -> m b</span>"
      ],
      "text/plain": [
       "(>>=) :: forall (m :: * -> *) a b. Monad m => m a -> (a -> m b) -> m b"
      ]
     },
     "metadata": {},
     "output_type": "display_data"
    }
   ],
   "source": [
    ":t (>>=)\n",
    "\n",
    "-- (>>=) at (State s) :: (State s a) -> (a -> State s b) -> State s b"
   ]
  },
  {
   "cell_type": "markdown",
   "id": "029301ea-faee-4dcb-b327-e3549a2a28fc",
   "metadata": {},
   "source": [
    "## 난수와 State Monad"
   ]
  },
  {
   "cell_type": "code",
   "execution_count": 72,
   "id": "3d9a5cd4-3f70-4b2e-ba59-c4674d352a4d",
   "metadata": {},
   "outputs": [
    {
     "data": {
      "text/html": [
       "<style>/* Styles used for the Hoogle display in the pager */\n",
       ".hoogle-doc {\n",
       "display: block;\n",
       "padding-bottom: 1.3em;\n",
       "padding-left: 0.4em;\n",
       "}\n",
       ".hoogle-code {\n",
       "display: block;\n",
       "font-family: monospace;\n",
       "white-space: pre;\n",
       "}\n",
       ".hoogle-text {\n",
       "display: block;\n",
       "}\n",
       ".hoogle-name {\n",
       "color: green;\n",
       "font-weight: bold;\n",
       "}\n",
       ".hoogle-head {\n",
       "font-weight: bold;\n",
       "}\n",
       ".hoogle-sub {\n",
       "display: block;\n",
       "margin-left: 0.4em;\n",
       "}\n",
       ".hoogle-package {\n",
       "font-weight: bold;\n",
       "font-style: italic;\n",
       "}\n",
       ".hoogle-module {\n",
       "font-weight: bold;\n",
       "}\n",
       ".hoogle-class {\n",
       "font-weight: bold;\n",
       "}\n",
       ".get-type {\n",
       "color: green;\n",
       "font-weight: bold;\n",
       "font-family: monospace;\n",
       "display: block;\n",
       "white-space: pre-wrap;\n",
       "}\n",
       ".show-type {\n",
       "color: green;\n",
       "font-weight: bold;\n",
       "font-family: monospace;\n",
       "margin-left: 1em;\n",
       "}\n",
       ".mono {\n",
       "font-family: monospace;\n",
       "display: block;\n",
       "}\n",
       ".err-msg {\n",
       "color: red;\n",
       "font-style: italic;\n",
       "font-family: monospace;\n",
       "white-space: pre;\n",
       "display: block;\n",
       "}\n",
       "#unshowable {\n",
       "color: red;\n",
       "font-weight: bold;\n",
       "}\n",
       ".err-msg.in.collapse {\n",
       "padding-top: 0.7em;\n",
       "}\n",
       ".highlight-code {\n",
       "white-space: pre;\n",
       "font-family: monospace;\n",
       "}\n",
       ".suggestion-warning { \n",
       "font-weight: bold;\n",
       "color: rgb(200, 130, 0);\n",
       "}\n",
       ".suggestion-error { \n",
       "font-weight: bold;\n",
       "color: red;\n",
       "}\n",
       ".suggestion-name {\n",
       "font-weight: bold;\n",
       "}\n",
       "</style><span class='get-type'>R.random :: forall a g. (Random a, RandomGen g) => g -> (a, g)</span>"
      ],
      "text/plain": [
       "R.random :: forall a g. (Random a, RandomGen g) => g -> (a, g)"
      ]
     },
     "metadata": {},
     "output_type": "display_data"
    }
   ],
   "source": [
    "import qualified System.Random as R\n",
    "\n",
    ":t R.random\n",
    "-- (Random a, RandomGen g) => g -> (a, g)"
   ]
  },
  {
   "cell_type": "code",
   "execution_count": 75,
   "id": "a6f2ab67-7772-4a4c-aca7-a5dafdcb8fc1",
   "metadata": {},
   "outputs": [
    {
     "data": {
      "text/plain": [
       "((True,False,True),680029187 2103410263)"
      ]
     },
     "metadata": {},
     "output_type": "display_data"
    }
   ],
   "source": [
    "import System.Random\n",
    "import Control.Monad.State\n",
    "\n",
    "randomSt :: (RandomGen g, Random a) => State g a\n",
    "randomSt = state random\n",
    "-- g(enerator)가 state(context)가 되며, a는 결과(result)가 된다.\n",
    "\n",
    "threeCoins :: State StdGen (Bool, Bool, Bool)\n",
    "-- State (runState :: StdGen -> ((Bool, Bool, Bool), StdGen))\n",
    "threeCoins = do\n",
    "    a <- randomSt\n",
    "    b <- randomSt\n",
    "    c <- randomSt\n",
    "    return (a,b,c)\n",
    "\n",
    "runState threeCoins (mkStdGen 33)"
   ]
  },
  {
   "cell_type": "markdown",
   "id": "fa57df21-c0bb-4f0b-8ad7-12052184a420",
   "metadata": {},
   "source": [
    "## 에러"
   ]
  },
  {
   "cell_type": "code",
   "execution_count": 2,
   "id": "1cea820b-a2c3-4880-b404-a214eee0fedd",
   "metadata": {},
   "outputs": [
    {
     "data": {
      "text/html": [
       "<style>/* Styles used for the Hoogle display in the pager */\n",
       ".hoogle-doc {\n",
       "display: block;\n",
       "padding-bottom: 1.3em;\n",
       "padding-left: 0.4em;\n",
       "}\n",
       ".hoogle-code {\n",
       "display: block;\n",
       "font-family: monospace;\n",
       "white-space: pre;\n",
       "}\n",
       ".hoogle-text {\n",
       "display: block;\n",
       "}\n",
       ".hoogle-name {\n",
       "color: green;\n",
       "font-weight: bold;\n",
       "}\n",
       ".hoogle-head {\n",
       "font-weight: bold;\n",
       "}\n",
       ".hoogle-sub {\n",
       "display: block;\n",
       "margin-left: 0.4em;\n",
       "}\n",
       ".hoogle-package {\n",
       "font-weight: bold;\n",
       "font-style: italic;\n",
       "}\n",
       ".hoogle-module {\n",
       "font-weight: bold;\n",
       "}\n",
       ".hoogle-class {\n",
       "font-weight: bold;\n",
       "}\n",
       ".get-type {\n",
       "color: green;\n",
       "font-weight: bold;\n",
       "font-family: monospace;\n",
       "display: block;\n",
       "white-space: pre-wrap;\n",
       "}\n",
       ".show-type {\n",
       "color: green;\n",
       "font-weight: bold;\n",
       "font-family: monospace;\n",
       "margin-left: 1em;\n",
       "}\n",
       ".mono {\n",
       "font-family: monospace;\n",
       "display: block;\n",
       "}\n",
       ".err-msg {\n",
       "color: red;\n",
       "font-style: italic;\n",
       "font-family: monospace;\n",
       "white-space: pre;\n",
       "display: block;\n",
       "}\n",
       "#unshowable {\n",
       "color: red;\n",
       "font-weight: bold;\n",
       "}\n",
       ".err-msg.in.collapse {\n",
       "padding-top: 0.7em;\n",
       "}\n",
       ".highlight-code {\n",
       "white-space: pre;\n",
       "font-family: monospace;\n",
       "}\n",
       ".suggestion-warning { \n",
       "font-weight: bold;\n",
       "color: rgb(200, 130, 0);\n",
       "}\n",
       ".suggestion-error { \n",
       "font-weight: bold;\n",
       "color: red;\n",
       "}\n",
       ".suggestion-name {\n",
       "font-weight: bold;\n",
       "}\n",
       "</style><span class='get-type'>Right 4 :: forall b a. Num b => Either a b</span>"
      ],
      "text/plain": [
       "Right 4 :: forall b a. Num b => Either a b"
      ]
     },
     "metadata": {},
     "output_type": "display_data"
    },
    {
     "data": {
      "text/html": [
       "<style>/* Styles used for the Hoogle display in the pager */\n",
       ".hoogle-doc {\n",
       "display: block;\n",
       "padding-bottom: 1.3em;\n",
       "padding-left: 0.4em;\n",
       "}\n",
       ".hoogle-code {\n",
       "display: block;\n",
       "font-family: monospace;\n",
       "white-space: pre;\n",
       "}\n",
       ".hoogle-text {\n",
       "display: block;\n",
       "}\n",
       ".hoogle-name {\n",
       "color: green;\n",
       "font-weight: bold;\n",
       "}\n",
       ".hoogle-head {\n",
       "font-weight: bold;\n",
       "}\n",
       ".hoogle-sub {\n",
       "display: block;\n",
       "margin-left: 0.4em;\n",
       "}\n",
       ".hoogle-package {\n",
       "font-weight: bold;\n",
       "font-style: italic;\n",
       "}\n",
       ".hoogle-module {\n",
       "font-weight: bold;\n",
       "}\n",
       ".hoogle-class {\n",
       "font-weight: bold;\n",
       "}\n",
       ".get-type {\n",
       "color: green;\n",
       "font-weight: bold;\n",
       "font-family: monospace;\n",
       "display: block;\n",
       "white-space: pre-wrap;\n",
       "}\n",
       ".show-type {\n",
       "color: green;\n",
       "font-weight: bold;\n",
       "font-family: monospace;\n",
       "margin-left: 1em;\n",
       "}\n",
       ".mono {\n",
       "font-family: monospace;\n",
       "display: block;\n",
       "}\n",
       ".err-msg {\n",
       "color: red;\n",
       "font-style: italic;\n",
       "font-family: monospace;\n",
       "white-space: pre;\n",
       "display: block;\n",
       "}\n",
       "#unshowable {\n",
       "color: red;\n",
       "font-weight: bold;\n",
       "}\n",
       ".err-msg.in.collapse {\n",
       "padding-top: 0.7em;\n",
       "}\n",
       ".highlight-code {\n",
       "white-space: pre;\n",
       "font-family: monospace;\n",
       "}\n",
       ".suggestion-warning { \n",
       "font-weight: bold;\n",
       "color: rgb(200, 130, 0);\n",
       "}\n",
       ".suggestion-error { \n",
       "font-weight: bold;\n",
       "color: red;\n",
       "}\n",
       ".suggestion-name {\n",
       "font-weight: bold;\n",
       "}\n",
       "</style><span class='get-type'>Left \"out of cheese error\" :: forall b. Either [Char] b</span>"
      ],
      "text/plain": [
       "Left \"out of cheese error\" :: forall b. Either [Char] b"
      ]
     },
     "metadata": {},
     "output_type": "display_data"
    }
   ],
   "source": [
    ":t Right 4\n",
    ":t Left \"out of cheese error\""
   ]
  },
  {
   "cell_type": "code",
   "execution_count": null,
   "id": "627caffe-ec8b-4dcb-9f3c-387f29f3d78d",
   "metadata": {},
   "outputs": [],
   "source": [
    "instance (Error e) => Monad (Either e) where  \n",
    "    return x = Right x   \n",
    "    -- 최소 콘텍스트 (right 는 성공이다)\n",
    "    Right x >>= f = f x  \n",
    "    Left err >>= f = Left err  \n",
    "    fail msg = Left (strMsg msg)  "
   ]
  },
  {
   "cell_type": "code",
   "execution_count": 3,
   "id": "930a5176-7993-4ca9-87a3-cee941dac5a8",
   "metadata": {},
   "outputs": [
    {
     "data": {
      "text/html": [
       "<style>/* Styles used for the Hoogle display in the pager */\n",
       ".hoogle-doc {\n",
       "display: block;\n",
       "padding-bottom: 1.3em;\n",
       "padding-left: 0.4em;\n",
       "}\n",
       ".hoogle-code {\n",
       "display: block;\n",
       "font-family: monospace;\n",
       "white-space: pre;\n",
       "}\n",
       ".hoogle-text {\n",
       "display: block;\n",
       "}\n",
       ".hoogle-name {\n",
       "color: green;\n",
       "font-weight: bold;\n",
       "}\n",
       ".hoogle-head {\n",
       "font-weight: bold;\n",
       "}\n",
       ".hoogle-sub {\n",
       "display: block;\n",
       "margin-left: 0.4em;\n",
       "}\n",
       ".hoogle-package {\n",
       "font-weight: bold;\n",
       "font-style: italic;\n",
       "}\n",
       ".hoogle-module {\n",
       "font-weight: bold;\n",
       "}\n",
       ".hoogle-class {\n",
       "font-weight: bold;\n",
       "}\n",
       ".get-type {\n",
       "color: green;\n",
       "font-weight: bold;\n",
       "font-family: monospace;\n",
       "display: block;\n",
       "white-space: pre-wrap;\n",
       "}\n",
       ".show-type {\n",
       "color: green;\n",
       "font-weight: bold;\n",
       "font-family: monospace;\n",
       "margin-left: 1em;\n",
       "}\n",
       ".mono {\n",
       "font-family: monospace;\n",
       "display: block;\n",
       "}\n",
       ".err-msg {\n",
       "color: red;\n",
       "font-style: italic;\n",
       "font-family: monospace;\n",
       "white-space: pre;\n",
       "display: block;\n",
       "}\n",
       "#unshowable {\n",
       "color: red;\n",
       "font-weight: bold;\n",
       "}\n",
       ".err-msg.in.collapse {\n",
       "padding-top: 0.7em;\n",
       "}\n",
       ".highlight-code {\n",
       "white-space: pre;\n",
       "font-family: monospace;\n",
       "}\n",
       ".suggestion-warning { \n",
       "font-weight: bold;\n",
       "color: rgb(200, 130, 0);\n",
       "}\n",
       ".suggestion-error { \n",
       "font-weight: bold;\n",
       "color: red;\n",
       "}\n",
       ".suggestion-name {\n",
       "font-weight: bold;\n",
       "}\n",
       "</style><span class='get-type'>strMsg :: forall a. Error a => String -> a</span>"
      ],
      "text/plain": [
       "strMsg :: forall a. Error a => String -> a"
      ]
     },
     "metadata": {},
     "output_type": "display_data"
    },
    {
     "data": {
      "text/plain": [
       "\n",
       "<interactive>:1:1: warning: [-Wdeprecations] In the use of ‘strMsg’ (imported from Control.Monad.Error, but defined in Control.Monad.Trans.Error): Deprecated: \"Use Control.Monad.Trans.Except instead\"\n",
       "\"Boom!\""
      ]
     },
     "metadata": {},
     "output_type": "display_data"
    }
   ],
   "source": [
    "import Control.Monad.Error (strMsg)\n",
    "\n",
    ":t strMsg\n",
    "strMsg \"Boom!\" :: String"
   ]
  },
  {
   "cell_type": "code",
   "execution_count": 5,
   "id": "95bca451-527b-4b04-bab8-7dbdd4206581",
   "metadata": {},
   "outputs": [
    {
     "data": {
      "text/plain": [
       "Left \"boom\""
      ]
     },
     "metadata": {},
     "output_type": "display_data"
    },
    {
     "data": {
      "text/plain": [
       "Left \"boom\""
      ]
     },
     "metadata": {},
     "output_type": "display_data"
    },
    {
     "data": {
      "text/plain": [
       "Left \"no way!\""
      ]
     },
     "metadata": {},
     "output_type": "display_data"
    }
   ],
   "source": [
    "Left \"boom\" >>= \\x -> return (x + 1)\n",
    "Left \"boom\" >>= \\x -> Left \"no way!\"\n",
    "Right 100 >>= \\x -> Left \"no way!\""
   ]
  },
  {
   "cell_type": "code",
   "execution_count": 6,
   "id": "751ae062-4207-4148-b137-19eb6bf147e0",
   "metadata": {},
   "outputs": [
    {
     "data": {
      "text/plain": [
       "Right 103"
      ]
     },
     "metadata": {},
     "output_type": "display_data"
    }
   ],
   "source": [
    "Right 3 >>= \\x -> return (x + 100)"
   ]
  },
  {
   "cell_type": "code",
   "execution_count": 7,
   "id": "82e837a4-b34c-40c3-b373-9227fc58c603",
   "metadata": {},
   "outputs": [
    {
     "data": {
      "text/plain": [
       "Right 103"
      ]
     },
     "metadata": {},
     "output_type": "display_data"
    }
   ],
   "source": [
    "Right 3 >>= \\x -> return (x + 100) :: Either String Int"
   ]
  },
  {
   "cell_type": "markdown",
   "id": "7f8591d4-9c03-4a85-8bfd-1d8e68d4e92f",
   "metadata": {},
   "source": [
    "## 유용한 모나드 함수"
   ]
  },
  {
   "cell_type": "code",
   "execution_count": null,
   "id": "2070a701-da91-4b0b-9e5f-9b87b4d02023",
   "metadata": {},
   "outputs": [],
   "source": [
    "-- monad is applicative functor\n",
    "-- applicative is functor"
   ]
  },
  {
   "cell_type": "markdown",
   "id": "f002bcaa-c971-4f6f-acb7-6d2a51687204",
   "metadata": {},
   "source": [
    "### liftM"
   ]
  },
  {
   "cell_type": "code",
   "execution_count": 10,
   "id": "edd46ea7-6177-4b32-adbf-931c475a563d",
   "metadata": {},
   "outputs": [
    {
     "data": {
      "text/html": [
       "<style>/* Styles used for the Hoogle display in the pager */\n",
       ".hoogle-doc {\n",
       "display: block;\n",
       "padding-bottom: 1.3em;\n",
       "padding-left: 0.4em;\n",
       "}\n",
       ".hoogle-code {\n",
       "display: block;\n",
       "font-family: monospace;\n",
       "white-space: pre;\n",
       "}\n",
       ".hoogle-text {\n",
       "display: block;\n",
       "}\n",
       ".hoogle-name {\n",
       "color: green;\n",
       "font-weight: bold;\n",
       "}\n",
       ".hoogle-head {\n",
       "font-weight: bold;\n",
       "}\n",
       ".hoogle-sub {\n",
       "display: block;\n",
       "margin-left: 0.4em;\n",
       "}\n",
       ".hoogle-package {\n",
       "font-weight: bold;\n",
       "font-style: italic;\n",
       "}\n",
       ".hoogle-module {\n",
       "font-weight: bold;\n",
       "}\n",
       ".hoogle-class {\n",
       "font-weight: bold;\n",
       "}\n",
       ".get-type {\n",
       "color: green;\n",
       "font-weight: bold;\n",
       "font-family: monospace;\n",
       "display: block;\n",
       "white-space: pre-wrap;\n",
       "}\n",
       ".show-type {\n",
       "color: green;\n",
       "font-weight: bold;\n",
       "font-family: monospace;\n",
       "margin-left: 1em;\n",
       "}\n",
       ".mono {\n",
       "font-family: monospace;\n",
       "display: block;\n",
       "}\n",
       ".err-msg {\n",
       "color: red;\n",
       "font-style: italic;\n",
       "font-family: monospace;\n",
       "white-space: pre;\n",
       "display: block;\n",
       "}\n",
       "#unshowable {\n",
       "color: red;\n",
       "font-weight: bold;\n",
       "}\n",
       ".err-msg.in.collapse {\n",
       "padding-top: 0.7em;\n",
       "}\n",
       ".highlight-code {\n",
       "white-space: pre;\n",
       "font-family: monospace;\n",
       "}\n",
       ".suggestion-warning { \n",
       "font-weight: bold;\n",
       "color: rgb(200, 130, 0);\n",
       "}\n",
       ".suggestion-error { \n",
       "font-weight: bold;\n",
       "color: red;\n",
       "}\n",
       ".suggestion-name {\n",
       "font-weight: bold;\n",
       "}\n",
       "</style><span class='get-type'>liftM :: forall (m :: * -> *) a1 r. Monad m => (a1 -> r) -> m a1 -> m r</span>"
      ],
      "text/plain": [
       "liftM :: forall (m :: * -> *) a1 r. Monad m => (a1 -> r) -> m a1 -> m r"
      ]
     },
     "metadata": {},
     "output_type": "display_data"
    },
    {
     "data": {
      "text/html": [
       "<style>/* Styles used for the Hoogle display in the pager */\n",
       ".hoogle-doc {\n",
       "display: block;\n",
       "padding-bottom: 1.3em;\n",
       "padding-left: 0.4em;\n",
       "}\n",
       ".hoogle-code {\n",
       "display: block;\n",
       "font-family: monospace;\n",
       "white-space: pre;\n",
       "}\n",
       ".hoogle-text {\n",
       "display: block;\n",
       "}\n",
       ".hoogle-name {\n",
       "color: green;\n",
       "font-weight: bold;\n",
       "}\n",
       ".hoogle-head {\n",
       "font-weight: bold;\n",
       "}\n",
       ".hoogle-sub {\n",
       "display: block;\n",
       "margin-left: 0.4em;\n",
       "}\n",
       ".hoogle-package {\n",
       "font-weight: bold;\n",
       "font-style: italic;\n",
       "}\n",
       ".hoogle-module {\n",
       "font-weight: bold;\n",
       "}\n",
       ".hoogle-class {\n",
       "font-weight: bold;\n",
       "}\n",
       ".get-type {\n",
       "color: green;\n",
       "font-weight: bold;\n",
       "font-family: monospace;\n",
       "display: block;\n",
       "white-space: pre-wrap;\n",
       "}\n",
       ".show-type {\n",
       "color: green;\n",
       "font-weight: bold;\n",
       "font-family: monospace;\n",
       "margin-left: 1em;\n",
       "}\n",
       ".mono {\n",
       "font-family: monospace;\n",
       "display: block;\n",
       "}\n",
       ".err-msg {\n",
       "color: red;\n",
       "font-style: italic;\n",
       "font-family: monospace;\n",
       "white-space: pre;\n",
       "display: block;\n",
       "}\n",
       "#unshowable {\n",
       "color: red;\n",
       "font-weight: bold;\n",
       "}\n",
       ".err-msg.in.collapse {\n",
       "padding-top: 0.7em;\n",
       "}\n",
       ".highlight-code {\n",
       "white-space: pre;\n",
       "font-family: monospace;\n",
       "}\n",
       ".suggestion-warning { \n",
       "font-weight: bold;\n",
       "color: rgb(200, 130, 0);\n",
       "}\n",
       ".suggestion-error { \n",
       "font-weight: bold;\n",
       "color: red;\n",
       "}\n",
       ".suggestion-name {\n",
       "font-weight: bold;\n",
       "}\n",
       "</style><span class='get-type'>fmap :: forall (f :: * -> *) a b. Functor f => (a -> b) -> f a -> f b</span>"
      ],
      "text/plain": [
       "fmap :: forall (f :: * -> *) a b. Functor f => (a -> b) -> f a -> f b"
      ]
     },
     "metadata": {},
     "output_type": "display_data"
    }
   ],
   "source": [
    "import Control.Monad\n",
    "\n",
    ":t liftM\n",
    "-- liftM :: forall (m :: * -> *) a1 r. Monad m => (a1 -> r) -> m a1 -> m r\n",
    "-- liftM :: (Monad m) => (a -> b) -> m a -> m b\n",
    ":t fmap\n",
    "-- fmap :: (Functor f) => (a -> b) -> f a -> f b\n",
    "\n",
    "-- 모나드를 위한 fmap이라고 이해하자"
   ]
  },
  {
   "cell_type": "code",
   "execution_count": 40,
   "id": "d62b93aa-622b-43dd-8aae-a078d8b8a37b",
   "metadata": {},
   "outputs": [
    {
     "data": {
      "text/html": [
       "<style>/* Styles used for the Hoogle display in the pager */\n",
       ".hoogle-doc {\n",
       "display: block;\n",
       "padding-bottom: 1.3em;\n",
       "padding-left: 0.4em;\n",
       "}\n",
       ".hoogle-code {\n",
       "display: block;\n",
       "font-family: monospace;\n",
       "white-space: pre;\n",
       "}\n",
       ".hoogle-text {\n",
       "display: block;\n",
       "}\n",
       ".hoogle-name {\n",
       "color: green;\n",
       "font-weight: bold;\n",
       "}\n",
       ".hoogle-head {\n",
       "font-weight: bold;\n",
       "}\n",
       ".hoogle-sub {\n",
       "display: block;\n",
       "margin-left: 0.4em;\n",
       "}\n",
       ".hoogle-package {\n",
       "font-weight: bold;\n",
       "font-style: italic;\n",
       "}\n",
       ".hoogle-module {\n",
       "font-weight: bold;\n",
       "}\n",
       ".hoogle-class {\n",
       "font-weight: bold;\n",
       "}\n",
       ".get-type {\n",
       "color: green;\n",
       "font-weight: bold;\n",
       "font-family: monospace;\n",
       "display: block;\n",
       "white-space: pre-wrap;\n",
       "}\n",
       ".show-type {\n",
       "color: green;\n",
       "font-weight: bold;\n",
       "font-family: monospace;\n",
       "margin-left: 1em;\n",
       "}\n",
       ".mono {\n",
       "font-family: monospace;\n",
       "display: block;\n",
       "}\n",
       ".err-msg {\n",
       "color: red;\n",
       "font-style: italic;\n",
       "font-family: monospace;\n",
       "white-space: pre;\n",
       "display: block;\n",
       "}\n",
       "#unshowable {\n",
       "color: red;\n",
       "font-weight: bold;\n",
       "}\n",
       ".err-msg.in.collapse {\n",
       "padding-top: 0.7em;\n",
       "}\n",
       ".highlight-code {\n",
       "white-space: pre;\n",
       "font-family: monospace;\n",
       "}\n",
       ".suggestion-warning { \n",
       "font-weight: bold;\n",
       "color: rgb(200, 130, 0);\n",
       "}\n",
       ".suggestion-error { \n",
       "font-weight: bold;\n",
       "color: red;\n",
       "}\n",
       ".suggestion-name {\n",
       "font-weight: bold;\n",
       "}\n",
       "</style><div class=\"suggestion-name\" style=\"clear:both;\">Use fmap</div><div class=\"suggestion-row\" style=\"float: left;\"><div class=\"suggestion-warning\">Found:</div><div class=\"highlight-code\" id=\"haskell\">liftM</div></div><div class=\"suggestion-row\" style=\"float: left;\"><div class=\"suggestion-warning\">Why Not:</div><div class=\"highlight-code\" id=\"haskell\">fmap</div></div><div class=\"suggestion-name\" style=\"clear:both;\">Use fmap</div><div class=\"suggestion-row\" style=\"float: left;\"><div class=\"suggestion-warning\">Found:</div><div class=\"highlight-code\" id=\"haskell\">liftM</div></div><div class=\"suggestion-row\" style=\"float: left;\"><div class=\"suggestion-warning\">Why Not:</div><div class=\"highlight-code\" id=\"haskell\">fmap</div></div><div class=\"suggestion-name\" style=\"clear:both;\">Use <$></div><div class=\"suggestion-row\" style=\"float: left;\"><div class=\"suggestion-warning\">Found:</div><div class=\"highlight-code\" id=\"haskell\">fmap not $ W.writer (True, \"chickpeas\")</div></div><div class=\"suggestion-row\" style=\"float: left;\"><div class=\"suggestion-warning\">Why Not:</div><div class=\"highlight-code\" id=\"haskell\">(not <$> W.writer (True, \"chickpeas\"))</div></div>"
      ],
      "text/plain": [
       "Line 5: Use fmap\n",
       "Found:\n",
       "liftM\n",
       "Why not:\n",
       "fmapLine 9: Use fmap\n",
       "Found:\n",
       "liftM\n",
       "Why not:\n",
       "fmapLine 10: Use <$>\n",
       "Found:\n",
       "fmap not $ W.writer (True, \"chickpeas\")\n",
       "Why not:\n",
       "(not <$> W.writer (True, \"chickpeas\"))"
      ]
     },
     "metadata": {},
     "output_type": "display_data"
    },
    {
     "data": {
      "text/plain": [
       "Just 24"
      ]
     },
     "metadata": {},
     "output_type": "display_data"
    },
    {
     "data": {
      "text/plain": [
       "Just 24"
      ]
     },
     "metadata": {},
     "output_type": "display_data"
    },
    {
     "data": {
      "text/plain": [
       "(False,\"chickpeas\")"
      ]
     },
     "metadata": {},
     "output_type": "display_data"
    },
    {
     "data": {
      "text/plain": [
       "(False,\"chickpeas\")"
      ]
     },
     "metadata": {},
     "output_type": "display_data"
    }
   ],
   "source": [
    "import Control.Monad\n",
    "import qualified Control.Monad.Writer as W\n",
    "import qualified Control.Monad.State as S\n",
    "\n",
    "liftM (*3) (Just 8)\n",
    "-- (Just 8) >>= (*3) -- >>= 의 함수인자는 반환을 Monad 타입으로 해야한다. (오류남)\n",
    "-- liftM function arg returning not monad\n",
    "fmap (*3) (Just 8)\n",
    "W.runWriter $ liftM not $ W.writer (True, \"chickpeas\")\n",
    "W.runWriter $ fmap not $ W.writer (True, \"chickpeas\")\n",
    "-- Writer is functor and monad\n",
    "-- S.runState (liftM (+100) pop) [1,2,3,4]\n",
    "-- S.runState (fmap (+100) pop) [1,2,3,4]"
   ]
  },
  {
   "cell_type": "code",
   "execution_count": null,
   "id": "d87c2a76-bbeb-49f1-b74f-a42ba9127ad3",
   "metadata": {},
   "outputs": [],
   "source": [
    "-- liftM의 구현 방법\n",
    "liftM :: (Monad m) => (a -> b) -> m a -> m b  \n",
    "liftM f m = m >>= (\\x -> return (f x))  \n",
    "\n",
    "liftM :: (Monad m) => (a -> b) -> m a -> m b  \n",
    "liftM f m = do  \n",
    "    x <- m  \n",
    "    return (f x)  "
   ]
  },
  {
   "cell_type": "markdown",
   "id": "8368928b-94ca-4dd0-b46a-06f21fa95a1e",
   "metadata": {},
   "source": [
    "### ap 함수"
   ]
  },
  {
   "cell_type": "code",
   "execution_count": null,
   "id": "754047f9-6905-4b5e-b0b9-0a7470cffc57",
   "metadata": {},
   "outputs": [],
   "source": [
    "-- ap 함수의 정의\n",
    "ap :: (Monad m) => m (a -> b) -> m a -> m b  \n",
    "ap mf m = do  \n",
    "    f <- mf  \n",
    "    x <- m  \n",
    "    return (f x)  "
   ]
  },
  {
   "cell_type": "code",
   "execution_count": 45,
   "id": "9cae4977-8340-430d-ae5e-c86c2a51a6ed",
   "metadata": {},
   "outputs": [
    {
     "data": {
      "text/plain": [
       "Just 7"
      ]
     },
     "metadata": {},
     "output_type": "display_data"
    },
    {
     "data": {
      "text/plain": [
       "Just 7"
      ]
     },
     "metadata": {},
     "output_type": "display_data"
    },
    {
     "data": {
      "text/plain": [
       "[11,12,12,13,13,14]"
      ]
     },
     "metadata": {},
     "output_type": "display_data"
    },
    {
     "data": {
      "text/plain": [
       "[11,12,12,13,13,14]"
      ]
     },
     "metadata": {},
     "output_type": "display_data"
    }
   ],
   "source": [
    "Just (+3) <*> Just 4\n",
    "Just (+3) `ap` Just 4\n",
    "[(+1), (+2), (+3)] <*> [10,11]\n",
    "[(+1), (+2), (+3)] `ap` [10,11]"
   ]
  },
  {
   "cell_type": "markdown",
   "id": "c331e001-b172-411e-80b7-6819f6e861d4",
   "metadata": {},
   "source": [
    "### liftA2 함수\n",
    "\n",
    "편의함수이다\n",
    "\n",
    "어플리커티브 클래스 제약이 있다.\n",
    "A 뒤의 숫자에 따라 인자가 달라지며\n",
    "A가 아니라 M일 때는 Monad를 받는다."
   ]
  },
  {
   "cell_type": "code",
   "execution_count": null,
   "id": "89121d54-49d9-4329-b7c5-ef134039c160",
   "metadata": {},
   "outputs": [],
   "source": [
    "liftA2 :: (Applicative f) => (a -> b -> c) -> f a -> f b -> f c  \n",
    "liftA2 f x y = f <$> x <*> y  "
   ]
  },
  {
   "cell_type": "markdown",
   "id": "6b81cdb7-fd3e-4798-9864-24f6a58c800e",
   "metadata": {},
   "source": [
    "### join 함수"
   ]
  },
  {
   "cell_type": "code",
   "execution_count": null,
   "id": "818bbd51-dfa7-49f8-94af-3d540a71cebc",
   "metadata": {},
   "outputs": [],
   "source": [
    "-- join의 타입\n",
    "join :: (Monad m) => m (m a) -> m a  \n",
    "-- 모나드 모나드 a -> 모나드 a\n",
    "-- 즉슨, 모나드 값을 가진 모나드 값을 받아서 하나의 모나드 값을 반환한다."
   ]
  },
  {
   "cell_type": "code",
   "execution_count": 46,
   "id": "975787fc-6aa1-4359-b25f-1f0d14122616",
   "metadata": {},
   "outputs": [
    {
     "data": {
      "text/html": [
       "<style>/* Styles used for the Hoogle display in the pager */\n",
       ".hoogle-doc {\n",
       "display: block;\n",
       "padding-bottom: 1.3em;\n",
       "padding-left: 0.4em;\n",
       "}\n",
       ".hoogle-code {\n",
       "display: block;\n",
       "font-family: monospace;\n",
       "white-space: pre;\n",
       "}\n",
       ".hoogle-text {\n",
       "display: block;\n",
       "}\n",
       ".hoogle-name {\n",
       "color: green;\n",
       "font-weight: bold;\n",
       "}\n",
       ".hoogle-head {\n",
       "font-weight: bold;\n",
       "}\n",
       ".hoogle-sub {\n",
       "display: block;\n",
       "margin-left: 0.4em;\n",
       "}\n",
       ".hoogle-package {\n",
       "font-weight: bold;\n",
       "font-style: italic;\n",
       "}\n",
       ".hoogle-module {\n",
       "font-weight: bold;\n",
       "}\n",
       ".hoogle-class {\n",
       "font-weight: bold;\n",
       "}\n",
       ".get-type {\n",
       "color: green;\n",
       "font-weight: bold;\n",
       "font-family: monospace;\n",
       "display: block;\n",
       "white-space: pre-wrap;\n",
       "}\n",
       ".show-type {\n",
       "color: green;\n",
       "font-weight: bold;\n",
       "font-family: monospace;\n",
       "margin-left: 1em;\n",
       "}\n",
       ".mono {\n",
       "font-family: monospace;\n",
       "display: block;\n",
       "}\n",
       ".err-msg {\n",
       "color: red;\n",
       "font-style: italic;\n",
       "font-family: monospace;\n",
       "white-space: pre;\n",
       "display: block;\n",
       "}\n",
       "#unshowable {\n",
       "color: red;\n",
       "font-weight: bold;\n",
       "}\n",
       ".err-msg.in.collapse {\n",
       "padding-top: 0.7em;\n",
       "}\n",
       ".highlight-code {\n",
       "white-space: pre;\n",
       "font-family: monospace;\n",
       "}\n",
       ".suggestion-warning { \n",
       "font-weight: bold;\n",
       "color: rgb(200, 130, 0);\n",
       "}\n",
       ".suggestion-error { \n",
       "font-weight: bold;\n",
       "color: red;\n",
       "}\n",
       ".suggestion-name {\n",
       "font-weight: bold;\n",
       "}\n",
       "</style><div class=\"suggestion-name\" style=\"clear:both;\">Redundant bracket</div><div class=\"suggestion-row\" style=\"float: left;\"><div class=\"suggestion-warning\">Found:</div><div class=\"highlight-code\" id=\"haskell\">(Nothing)</div></div><div class=\"suggestion-row\" style=\"float: left;\"><div class=\"suggestion-warning\">Why Not:</div><div class=\"highlight-code\" id=\"haskell\">Nothing</div></div>"
      ],
      "text/plain": [
       "Line 3: Redundant bracket\n",
       "Found:\n",
       "(Nothing)\n",
       "Why not:\n",
       "Nothing"
      ]
     },
     "metadata": {},
     "output_type": "display_data"
    },
    {
     "data": {
      "text/plain": [
       "Just 9"
      ]
     },
     "metadata": {},
     "output_type": "display_data"
    },
    {
     "data": {
      "text/plain": [
       "Nothing"
      ]
     },
     "metadata": {},
     "output_type": "display_data"
    },
    {
     "data": {
      "text/plain": [
       "Nothing"
      ]
     },
     "metadata": {},
     "output_type": "display_data"
    }
   ],
   "source": [
    "join (Just (Just 9))\n",
    "join (Just Nothing)\n",
    "join (Nothing)\n",
    "-- 실패 컨텍스트를 벗기려고 해서 결과는 바로 Nothing이 되었다."
   ]
  },
  {
   "cell_type": "code",
   "execution_count": 47,
   "id": "be8aa1ee-23a2-4a6b-8a33-9858661a38ed",
   "metadata": {},
   "outputs": [
    {
     "data": {
      "text/plain": [
       "[1,2,3,4,5,6]"
      ]
     },
     "metadata": {},
     "output_type": "display_data"
    }
   ],
   "source": [
    "join [[1,2,3], [4,5,6]]"
   ]
  },
  {
   "cell_type": "code",
   "execution_count": 49,
   "id": "d529fec3-0085-430a-bd9d-5b4f7484e67b",
   "metadata": {},
   "outputs": [
    {
     "data": {
      "text/plain": [
       "(1,\"bbbaaa\")"
      ]
     },
     "metadata": {},
     "output_type": "display_data"
    }
   ],
   "source": [
    "import Control.Monad.Writer as W\n",
    "\n",
    "W.runWriter $ join (W.writer (W.writer (1, \"aaa\") , \"bbb\") )\n",
    "\n",
    "-- 로그를 바깥쪽에서부터 안쪽으로 쓴다."
   ]
  },
  {
   "cell_type": "code",
   "execution_count": 53,
   "id": "42347ca4-cbf6-482f-9e6c-a7022dcc37b4",
   "metadata": {},
   "outputs": [
    {
     "data": {
      "text/plain": [
       "Right 9"
      ]
     },
     "metadata": {},
     "output_type": "display_data"
    },
    {
     "data": {
      "text/plain": [
       "Left \"error\""
      ]
     },
     "metadata": {},
     "output_type": "display_data"
    },
    {
     "data": {
      "text/plain": [
       "Left \"error2\""
      ]
     },
     "metadata": {},
     "output_type": "display_data"
    }
   ],
   "source": [
    "join (Right (Right 9)) :: Either String Int\n",
    "join (Right (Left \"error\")) :: Either String Int\n",
    "join (Left \"error2\") :: Either String Int\n",
    "-- Maybe 실패 컨텍스트의 형태가 join과 비슷하다."
   ]
  },
  {
   "cell_type": "code",
   "execution_count": null,
   "id": "a6e18d9f-5c5e-477a-8460-6202c8b46139",
   "metadata": {},
   "outputs": [],
   "source": [
    "runState (join (State $ \\s -> (push 10,1:2:s))) [0,0,0]  \n",
    "-- ((),[10,1,2,0,0,0])  "
   ]
  },
  {
   "cell_type": "code",
   "execution_count": null,
   "id": "01613cae-8786-4f80-ba2f-650c3a357fa5",
   "metadata": {},
   "outputs": [],
   "source": [
    "-- join에 대한 구현체\n",
    "join :: (Monad m) => m (m a) -> m a  \n",
    "join mm = do  \n",
    "    m <- mm  \n",
    "    m  "
   ]
  },
  {
   "cell_type": "code",
   "execution_count": 56,
   "id": "16de5757-fa0d-452f-a08b-021fbf7cd038",
   "metadata": {},
   "outputs": [
    {
     "data": {
      "text/html": [
       "<style>/* Styles used for the Hoogle display in the pager */\n",
       ".hoogle-doc {\n",
       "display: block;\n",
       "padding-bottom: 1.3em;\n",
       "padding-left: 0.4em;\n",
       "}\n",
       ".hoogle-code {\n",
       "display: block;\n",
       "font-family: monospace;\n",
       "white-space: pre;\n",
       "}\n",
       ".hoogle-text {\n",
       "display: block;\n",
       "}\n",
       ".hoogle-name {\n",
       "color: green;\n",
       "font-weight: bold;\n",
       "}\n",
       ".hoogle-head {\n",
       "font-weight: bold;\n",
       "}\n",
       ".hoogle-sub {\n",
       "display: block;\n",
       "margin-left: 0.4em;\n",
       "}\n",
       ".hoogle-package {\n",
       "font-weight: bold;\n",
       "font-style: italic;\n",
       "}\n",
       ".hoogle-module {\n",
       "font-weight: bold;\n",
       "}\n",
       ".hoogle-class {\n",
       "font-weight: bold;\n",
       "}\n",
       ".get-type {\n",
       "color: green;\n",
       "font-weight: bold;\n",
       "font-family: monospace;\n",
       "display: block;\n",
       "white-space: pre-wrap;\n",
       "}\n",
       ".show-type {\n",
       "color: green;\n",
       "font-weight: bold;\n",
       "font-family: monospace;\n",
       "margin-left: 1em;\n",
       "}\n",
       ".mono {\n",
       "font-family: monospace;\n",
       "display: block;\n",
       "}\n",
       ".err-msg {\n",
       "color: red;\n",
       "font-style: italic;\n",
       "font-family: monospace;\n",
       "white-space: pre;\n",
       "display: block;\n",
       "}\n",
       "#unshowable {\n",
       "color: red;\n",
       "font-weight: bold;\n",
       "}\n",
       ".err-msg.in.collapse {\n",
       "padding-top: 0.7em;\n",
       "}\n",
       ".highlight-code {\n",
       "white-space: pre;\n",
       "font-family: monospace;\n",
       "}\n",
       ".suggestion-warning { \n",
       "font-weight: bold;\n",
       "color: rgb(200, 130, 0);\n",
       "}\n",
       ".suggestion-error { \n",
       "font-weight: bold;\n",
       "color: red;\n",
       "}\n",
       ".suggestion-name {\n",
       "font-weight: bold;\n",
       "}\n",
       "</style><div class=\"suggestion-name\" style=\"clear:both;\">Use join</div><div class=\"suggestion-row\" style=\"float: left;\"><div class=\"suggestion-warning\">Found:</div><div class=\"highlight-code\" id=\"haskell\">do m <- Just (Just 8)\n",
       "   m</div></div><div class=\"suggestion-row\" style=\"float: left;\"><div class=\"suggestion-warning\">Why Not:</div><div class=\"highlight-code\" id=\"haskell\">do join (Just (Just 8))</div></div>"
      ],
      "text/plain": [
       "Line 2: Use join\n",
       "Found:\n",
       "do m <- Just (Just 8)\n",
       "   m\n",
       "Why not:\n",
       "do join (Just (Just 8))"
      ]
     },
     "metadata": {},
     "output_type": "display_data"
    },
    {
     "data": {
      "text/plain": [
       "Just 8"
      ]
     },
     "metadata": {},
     "output_type": "display_data"
    }
   ],
   "source": [
    "joinedMaybes :: Maybe Int\n",
    "joinedMaybes = do\n",
    "    m <- Just (Just 8)\n",
    "    m\n",
    "joinedMaybes"
   ]
  },
  {
   "cell_type": "code",
   "execution_count": null,
   "id": "90db4a51-69e9-4428-bc49-aec51d3ef260",
   "metadata": {},
   "outputs": [],
   "source": [
    "-- 모나드 값을 >>= 에 연결하는 것은\n",
    "-- 모나드 값을 일단 join 을 사용하는 것 과 동일하다\n",
    "-- m >>= f 는 항상 join (fmap f m) 과 동일하다\n",
    "-- fmap은 모나드 값을 반환하므로 위 식은 모나드 모나드 값을 반환한다."
   ]
  },
  {
   "cell_type": "markdown",
   "id": "1f0771e7-1e90-4cbc-92d1-515a3bd2ab01",
   "metadata": {},
   "source": [
    "### filterM\n",
    "\n",
    "여기서 M은 모나드겠죠?"
   ]
  },
  {
   "cell_type": "code",
   "execution_count": null,
   "id": "d79b320d-1697-422a-b5ca-a2eda38ec518",
   "metadata": {},
   "outputs": [],
   "source": [
    "filter :: (a -> Bool) -> [a] -> [a]\n",
    "filterM :: (Monad m) => (a -> m Bool) -> [a] -> m [a]  \n",
    "\n",
    "-- 모나드 버전은 함수 반환형에 m 이 붙음"
   ]
  },
  {
   "cell_type": "code",
   "execution_count": 58,
   "id": "01b08a46-e340-45ef-a7d8-eb22075d7461",
   "metadata": {},
   "outputs": [
    {
     "data": {
      "text/plain": [
       "[1,2,3]"
      ]
     },
     "metadata": {},
     "output_type": "display_data"
    }
   ],
   "source": [
    "filter (< 4) [9,1,5,2,10,3]"
   ]
  },
  {
   "cell_type": "code",
   "execution_count": 69,
   "id": "c1e54a5c-196a-483a-9f62-ca19443ab0c4",
   "metadata": {},
   "outputs": [
    {
     "data": {
      "text/plain": [
       "[1,2,3]"
      ]
     },
     "metadata": {},
     "output_type": "display_data"
    },
    {
     "data": {
      "text/plain": [
       "9 is too large, throwing it away\n",
       "Keeping 1\n",
       "5 is too large, throwing it away\n",
       "Keeping 2\n",
       "10 is too large, throwing it away\n",
       "Keeping 3"
      ]
     },
     "metadata": {},
     "output_type": "display_data"
    }
   ],
   "source": [
    "keepSmall :: Int -> Writer [String] Bool  \n",
    "keepSmall x  \n",
    "    | x < 4 = do  \n",
    "        tell [\"Keeping \" ++ show x]  \n",
    "        return True  \n",
    "    | otherwise = do  \n",
    "        tell [show x ++ \" is too large, throwing it away\"]  \n",
    "        return False  \n",
    "        \n",
    "fst $ runWriter $ filterM keepSmall [9,1,5,2,10,3]  \n",
    "mapM_ putStrLn $ snd $ runWriter $ filterM keepSmall [9,1,5,2,10,3]  "
   ]
  },
  {
   "cell_type": "code",
   "execution_count": 70,
   "id": "981b1136-6f62-420f-9211-4d29c722c05c",
   "metadata": {},
   "outputs": [
    {
     "data": {
      "text/html": [
       "<style>/* Styles used for the Hoogle display in the pager */\n",
       ".hoogle-doc {\n",
       "display: block;\n",
       "padding-bottom: 1.3em;\n",
       "padding-left: 0.4em;\n",
       "}\n",
       ".hoogle-code {\n",
       "display: block;\n",
       "font-family: monospace;\n",
       "white-space: pre;\n",
       "}\n",
       ".hoogle-text {\n",
       "display: block;\n",
       "}\n",
       ".hoogle-name {\n",
       "color: green;\n",
       "font-weight: bold;\n",
       "}\n",
       ".hoogle-head {\n",
       "font-weight: bold;\n",
       "}\n",
       ".hoogle-sub {\n",
       "display: block;\n",
       "margin-left: 0.4em;\n",
       "}\n",
       ".hoogle-package {\n",
       "font-weight: bold;\n",
       "font-style: italic;\n",
       "}\n",
       ".hoogle-module {\n",
       "font-weight: bold;\n",
       "}\n",
       ".hoogle-class {\n",
       "font-weight: bold;\n",
       "}\n",
       ".get-type {\n",
       "color: green;\n",
       "font-weight: bold;\n",
       "font-family: monospace;\n",
       "display: block;\n",
       "white-space: pre-wrap;\n",
       "}\n",
       ".show-type {\n",
       "color: green;\n",
       "font-weight: bold;\n",
       "font-family: monospace;\n",
       "margin-left: 1em;\n",
       "}\n",
       ".mono {\n",
       "font-family: monospace;\n",
       "display: block;\n",
       "}\n",
       ".err-msg {\n",
       "color: red;\n",
       "font-style: italic;\n",
       "font-family: monospace;\n",
       "white-space: pre;\n",
       "display: block;\n",
       "}\n",
       "#unshowable {\n",
       "color: red;\n",
       "font-weight: bold;\n",
       "}\n",
       ".err-msg.in.collapse {\n",
       "padding-top: 0.7em;\n",
       "}\n",
       ".highlight-code {\n",
       "white-space: pre;\n",
       "font-family: monospace;\n",
       "}\n",
       ".suggestion-warning { \n",
       "font-weight: bold;\n",
       "color: rgb(200, 130, 0);\n",
       "}\n",
       ".suggestion-error { \n",
       "font-weight: bold;\n",
       "color: red;\n",
       "}\n",
       ".suggestion-name {\n",
       "font-weight: bold;\n",
       "}\n",
       "</style><div class=\"suggestion-name\" style=\"clear:both;\">Eta reduce</div><div class=\"suggestion-row\" style=\"float: left;\"><div class=\"suggestion-warning\">Found:</div><div class=\"highlight-code\" id=\"haskell\">powerset xs = filterM (\\ x -> [True, False]) xs</div></div><div class=\"suggestion-row\" style=\"float: left;\"><div class=\"suggestion-warning\">Why Not:</div><div class=\"highlight-code\" id=\"haskell\">powerset = filterM (\\ x -> [True, False])</div></div><div class=\"suggestion-name\" style=\"clear:both;\">Use const</div><div class=\"suggestion-row\" style=\"float: left;\"><div class=\"suggestion-warning\">Found:</div><div class=\"highlight-code\" id=\"haskell\">\\ x -> [True, False]</div></div><div class=\"suggestion-row\" style=\"float: left;\"><div class=\"suggestion-warning\">Why Not:</div><div class=\"highlight-code\" id=\"haskell\">const [True, False]</div></div>"
      ],
      "text/plain": [
       "Line 2: Eta reduce\n",
       "Found:\n",
       "powerset xs = filterM (\\ x -> [True, False]) xs\n",
       "Why not:\n",
       "powerset = filterM (\\ x -> [True, False])Line 2: Use const\n",
       "Found:\n",
       "\\ x -> [True, False]\n",
       "Why not:\n",
       "const [True, False]"
      ]
     },
     "metadata": {},
     "output_type": "display_data"
    }
   ],
   "source": [
    "powerset :: [a] -> [[a]]\n",
    "powerset xs = filterM (\\x -> [True, False]) xs"
   ]
  },
  {
   "cell_type": "code",
   "execution_count": 71,
   "id": "b7351236-2da3-48c6-8693-d54293841713",
   "metadata": {},
   "outputs": [
    {
     "data": {
      "text/plain": [
       "[[1,2,3],[1,2],[1,3],[1],[2,3],[2],[3],[]]"
      ]
     },
     "metadata": {},
     "output_type": "display_data"
    }
   ],
   "source": [
    "powerset [1,2,3]"
   ]
  },
  {
   "cell_type": "markdown",
   "id": "01774e0a-63d7-4b5d-9562-2efd44e8579e",
   "metadata": {},
   "source": [
    "### foldM\n",
    "\n",
    "foldl에 대응하는 모나드 함수"
   ]
  },
  {
   "cell_type": "code",
   "execution_count": null,
   "id": "8794090b-3870-412b-bf35-ec142ed073d9",
   "metadata": {},
   "outputs": [],
   "source": [
    "foldl :: (a -> b -> a) -> a -> [b] -> a\n",
    "foldM :: (Monad m) => (a -> b -> m a) -> a -> [b] -> m a"
   ]
  },
  {
   "cell_type": "code",
   "execution_count": 72,
   "id": "5910a7bf-6dd5-4596-bce2-7559d7469c25",
   "metadata": {},
   "outputs": [
    {
     "data": {
      "text/html": [
       "<style>/* Styles used for the Hoogle display in the pager */\n",
       ".hoogle-doc {\n",
       "display: block;\n",
       "padding-bottom: 1.3em;\n",
       "padding-left: 0.4em;\n",
       "}\n",
       ".hoogle-code {\n",
       "display: block;\n",
       "font-family: monospace;\n",
       "white-space: pre;\n",
       "}\n",
       ".hoogle-text {\n",
       "display: block;\n",
       "}\n",
       ".hoogle-name {\n",
       "color: green;\n",
       "font-weight: bold;\n",
       "}\n",
       ".hoogle-head {\n",
       "font-weight: bold;\n",
       "}\n",
       ".hoogle-sub {\n",
       "display: block;\n",
       "margin-left: 0.4em;\n",
       "}\n",
       ".hoogle-package {\n",
       "font-weight: bold;\n",
       "font-style: italic;\n",
       "}\n",
       ".hoogle-module {\n",
       "font-weight: bold;\n",
       "}\n",
       ".hoogle-class {\n",
       "font-weight: bold;\n",
       "}\n",
       ".get-type {\n",
       "color: green;\n",
       "font-weight: bold;\n",
       "font-family: monospace;\n",
       "display: block;\n",
       "white-space: pre-wrap;\n",
       "}\n",
       ".show-type {\n",
       "color: green;\n",
       "font-weight: bold;\n",
       "font-family: monospace;\n",
       "margin-left: 1em;\n",
       "}\n",
       ".mono {\n",
       "font-family: monospace;\n",
       "display: block;\n",
       "}\n",
       ".err-msg {\n",
       "color: red;\n",
       "font-style: italic;\n",
       "font-family: monospace;\n",
       "white-space: pre;\n",
       "display: block;\n",
       "}\n",
       "#unshowable {\n",
       "color: red;\n",
       "font-weight: bold;\n",
       "}\n",
       ".err-msg.in.collapse {\n",
       "padding-top: 0.7em;\n",
       "}\n",
       ".highlight-code {\n",
       "white-space: pre;\n",
       "font-family: monospace;\n",
       "}\n",
       ".suggestion-warning { \n",
       "font-weight: bold;\n",
       "color: rgb(200, 130, 0);\n",
       "}\n",
       ".suggestion-error { \n",
       "font-weight: bold;\n",
       "color: red;\n",
       "}\n",
       ".suggestion-name {\n",
       "font-weight: bold;\n",
       "}\n",
       "</style><div class=\"suggestion-name\" style=\"clear:both;\">Avoid lambda</div><div class=\"suggestion-row\" style=\"float: left;\"><div class=\"suggestion-warning\">Found:</div><div class=\"highlight-code\" id=\"haskell\">\\ acc x -> acc + x</div></div><div class=\"suggestion-row\" style=\"float: left;\"><div class=\"suggestion-warning\">Why Not:</div><div class=\"highlight-code\" id=\"haskell\">(+)</div></div>"
      ],
      "text/plain": [
       "Line 1: Avoid lambda\n",
       "Found:\n",
       "\\ acc x -> acc + x\n",
       "Why not:\n",
       "(+)"
      ]
     },
     "metadata": {},
     "output_type": "display_data"
    },
    {
     "data": {
      "text/plain": [
       "14"
      ]
     },
     "metadata": {},
     "output_type": "display_data"
    }
   ],
   "source": [
    "foldl (\\acc x -> acc + x) 0 [2,8,3,1]  "
   ]
  },
  {
   "cell_type": "code",
   "execution_count": 73,
   "id": "67fc4cb4-1f70-4347-b51f-8bfe9c04adf8",
   "metadata": {},
   "outputs": [],
   "source": [
    "binSmalls :: Int -> Int -> Maybe Int\n",
    "binSmalls acc x\n",
    "    | x > 9 = Nothing\n",
    "    | otherwise = Just (acc + x)"
   ]
  },
  {
   "cell_type": "code",
   "execution_count": 74,
   "id": "773192c5-d092-453b-a1fa-45325d56b0f8",
   "metadata": {},
   "outputs": [
    {
     "data": {
      "text/plain": [
       "Just 14"
      ]
     },
     "metadata": {},
     "output_type": "display_data"
    },
    {
     "data": {
      "text/plain": [
       "Nothing"
      ]
     },
     "metadata": {},
     "output_type": "display_data"
    }
   ],
   "source": [
    "foldM binSmalls 0 [2,8,3,1]\n",
    "foldM binSmalls 0 [2,11,3,1]"
   ]
  },
  {
   "cell_type": "markdown",
   "id": "838ffac5-afdf-47af-a440-f13766756d91",
   "metadata": {},
   "source": [
    "## 안전한 RPN 계산기 만들기"
   ]
  },
  {
   "cell_type": "code",
   "execution_count": 12,
   "id": "b1bc2a79-3950-4291-9f17-6a6527cb0a50",
   "metadata": {},
   "outputs": [],
   "source": [
    "import Data.List\n",
    "\n",
    "solveRPN :: String -> Double\n",
    "solveRPN = head . foldl foldingFunction [] . words"
   ]
  },
  {
   "cell_type": "code",
   "execution_count": 2,
   "id": "de19604a-b35a-416f-8d89-830e9a20d041",
   "metadata": {},
   "outputs": [],
   "source": [
    "readMaybe :: (Read a) => String -> Maybe a\n",
    "readMaybe st = case reads st of [(x, \"\")] -> Just x\n",
    "                                _ -> Nothing"
   ]
  },
  {
   "cell_type": "code",
   "execution_count": 4,
   "id": "43ea45b6-1cd4-4c81-9d22-733011172aa6",
   "metadata": {},
   "outputs": [
    {
     "data": {
      "text/plain": [
       "Just 1"
      ]
     },
     "metadata": {},
     "output_type": "display_data"
    },
    {
     "data": {
      "text/plain": [
       "Nothing"
      ]
     },
     "metadata": {},
     "output_type": "display_data"
    }
   ],
   "source": [
    "readMaybe \"1\" :: Maybe Int\n",
    "readMaybe \"GOTO HELL\" :: Maybe Int"
   ]
  },
  {
   "cell_type": "code",
   "execution_count": 16,
   "id": "e16842af-5759-475e-974e-231069dc7600",
   "metadata": {},
   "outputs": [
    {
     "data": {
      "text/html": [
       "<style>/* Styles used for the Hoogle display in the pager */\n",
       ".hoogle-doc {\n",
       "display: block;\n",
       "padding-bottom: 1.3em;\n",
       "padding-left: 0.4em;\n",
       "}\n",
       ".hoogle-code {\n",
       "display: block;\n",
       "font-family: monospace;\n",
       "white-space: pre;\n",
       "}\n",
       ".hoogle-text {\n",
       "display: block;\n",
       "}\n",
       ".hoogle-name {\n",
       "color: green;\n",
       "font-weight: bold;\n",
       "}\n",
       ".hoogle-head {\n",
       "font-weight: bold;\n",
       "}\n",
       ".hoogle-sub {\n",
       "display: block;\n",
       "margin-left: 0.4em;\n",
       "}\n",
       ".hoogle-package {\n",
       "font-weight: bold;\n",
       "font-style: italic;\n",
       "}\n",
       ".hoogle-module {\n",
       "font-weight: bold;\n",
       "}\n",
       ".hoogle-class {\n",
       "font-weight: bold;\n",
       "}\n",
       ".get-type {\n",
       "color: green;\n",
       "font-weight: bold;\n",
       "font-family: monospace;\n",
       "display: block;\n",
       "white-space: pre-wrap;\n",
       "}\n",
       ".show-type {\n",
       "color: green;\n",
       "font-weight: bold;\n",
       "font-family: monospace;\n",
       "margin-left: 1em;\n",
       "}\n",
       ".mono {\n",
       "font-family: monospace;\n",
       "display: block;\n",
       "}\n",
       ".err-msg {\n",
       "color: red;\n",
       "font-style: italic;\n",
       "font-family: monospace;\n",
       "white-space: pre;\n",
       "display: block;\n",
       "}\n",
       "#unshowable {\n",
       "color: red;\n",
       "font-weight: bold;\n",
       "}\n",
       ".err-msg.in.collapse {\n",
       "padding-top: 0.7em;\n",
       "}\n",
       ".highlight-code {\n",
       "white-space: pre;\n",
       "font-family: monospace;\n",
       "}\n",
       ".suggestion-warning { \n",
       "font-weight: bold;\n",
       "color: rgb(200, 130, 0);\n",
       "}\n",
       ".suggestion-error { \n",
       "font-weight: bold;\n",
       "color: red;\n",
       "}\n",
       ".suggestion-name {\n",
       "font-weight: bold;\n",
       "}\n",
       "</style><div class=\"suggestion-name\" style=\"clear:both;\">Use fmap</div><div class=\"suggestion-row\" style=\"float: left;\"><div class=\"suggestion-warning\">Found:</div><div class=\"highlight-code\" id=\"haskell\">liftM</div></div><div class=\"suggestion-row\" style=\"float: left;\"><div class=\"suggestion-warning\">Why Not:</div><div class=\"highlight-code\" id=\"haskell\">fmap</div></div>"
      ],
      "text/plain": [
       "Line 5: Use fmap\n",
       "Found:\n",
       "liftM\n",
       "Why not:\n",
       "fmap"
      ]
     },
     "metadata": {},
     "output_type": "display_data"
    }
   ],
   "source": [
    "foldingFunction :: [Double] -> String -> Maybe [Double]  \n",
    "foldingFunction (x:y:ys) \"*\" = return ((x * y):ys)  \n",
    "foldingFunction (x:y:ys) \"+\" = return ((x + y):ys)  \n",
    "foldingFunction (x:y:ys) \"-\" = return ((y - x):ys)  \n",
    "foldingFunction xs numberString = liftM (:xs) (readMaybe numberString)  "
   ]
  },
  {
   "cell_type": "code",
   "execution_count": 18,
   "id": "1ee8bcd0-1936-4d82-92d2-07759ffd9980",
   "metadata": {},
   "outputs": [
    {
     "data": {
      "text/plain": [
       "Just [6.0]"
      ]
     },
     "metadata": {},
     "output_type": "display_data"
    },
    {
     "data": {
      "text/plain": [
       "Just [-1.0]"
      ]
     },
     "metadata": {},
     "output_type": "display_data"
    },
    {
     "data": {
      "text/plain": [
       "Nothing"
      ]
     },
     "metadata": {},
     "output_type": "display_data"
    },
    {
     "data": {
      "text/plain": [
       "Just [1.0]"
      ]
     },
     "metadata": {},
     "output_type": "display_data"
    },
    {
     "data": {
      "text/plain": [
       "Nothing"
      ]
     },
     "metadata": {},
     "output_type": "display_data"
    }
   ],
   "source": [
    "foldingFunction [3,2] \"*\"\n",
    "foldingFunction [3,2] \"-\"\n",
    "foldingFunction [] \"*\"\n",
    "foldingFunction [] \"1\"\n",
    "foldingFunction [] \"1 wawawawa\""
   ]
  },
  {
   "cell_type": "code",
   "execution_count": 19,
   "id": "ac8a9d3b-ebfd-43c2-bacd-74f6b1fabb44",
   "metadata": {},
   "outputs": [],
   "source": [
    "import Data.List\n",
    "\n",
    "solveRPN :: String -> Maybe Double\n",
    "solveRPN st = do\n",
    "    [result] <- foldM foldingFunction [] (words st)\n",
    "    return result"
   ]
  },
  {
   "cell_type": "code",
   "execution_count": 20,
   "id": "4ad9691e-7dec-422a-9e94-e5e4128190e5",
   "metadata": {},
   "outputs": [
    {
     "data": {
      "text/plain": [
       "Just 6.0"
      ]
     },
     "metadata": {},
     "output_type": "display_data"
    },
    {
     "data": {
      "text/plain": [
       "Just 30.0"
      ]
     },
     "metadata": {},
     "output_type": "display_data"
    },
    {
     "data": {
      "text/plain": [
       "Nothing"
      ]
     },
     "metadata": {},
     "output_type": "display_data"
    },
    {
     "data": {
      "text/plain": [
       "Nothing"
      ]
     },
     "metadata": {},
     "output_type": "display_data"
    }
   ],
   "source": [
    "solveRPN \"1 2 * 4 +\"\n",
    "solveRPN \"1 2 * 4 + 5 *\"\n",
    "solveRPN \"1 2 * 4\" -- 최종 결과물이 두개의 숫자를 가진 리스트라서 do 표현식에서 fail\n",
    "solveRPN \"1 8 wharglsieojf\" -- readMaybe가 Nothing을 반환하므로 fail"
   ]
  },
  {
   "cell_type": "markdown",
   "id": "efb74af1-534a-41de-be4e-09d701e5cf5d",
   "metadata": {},
   "source": [
    "## 모나드 함수 결합하기"
   ]
  },
  {
   "cell_type": "code",
   "execution_count": 22,
   "id": "54602dde-69cf-4732-a0e8-a766d56a96dd",
   "metadata": {},
   "outputs": [
    {
     "data": {
      "text/plain": [
       "401"
      ]
     },
     "metadata": {},
     "output_type": "display_data"
    },
    {
     "data": {
      "text/plain": [
       "Just 401"
      ]
     },
     "metadata": {},
     "output_type": "display_data"
    }
   ],
   "source": [
    "-- <=< 는 모나드의 .\n",
    "f = (+ 1) . (* 100)\n",
    "f 4\n",
    "g = (\\x -> return (x+1)) <=< (\\x -> return (x * 100))\n",
    "Just 4 >>= g"
   ]
  },
  {
   "cell_type": "code",
   "execution_count": 23,
   "id": "2bed3e47-d2e8-4fbc-b854-da5f2320ba8f",
   "metadata": {},
   "outputs": [
    {
     "data": {
      "text/plain": [
       "201"
      ]
     },
     "metadata": {},
     "output_type": "display_data"
    }
   ],
   "source": [
    "f = foldr (.) id [(+1), (*100), (+1)]\n",
    "f 1"
   ]
  },
  {
   "cell_type": "code",
   "execution_count": 24,
   "id": "bb482602-d3c6-45e0-82a5-911d7a96ffb7",
   "metadata": {},
   "outputs": [],
   "source": [
    "in3 start = return start >>= moveKnight >>= moveKnight >>= moveKnight\n",
    "canReachIn3 :: KnightPos -> KnightPos -> Bool  \n",
    "canReachIn3 start end = end `elem` in3 start  "
   ]
  },
  {
   "cell_type": "code",
   "execution_count": null,
   "id": "24a92989-d4ac-4094-ab43-dfe772b1210d",
   "metadata": {},
   "outputs": [],
   "source": [
    "-- 모나드 결합 함수 이용하기\n",
    "import Data.List\n",
    "\n",
    "inMany :: Int -> KnightPos -> [KnightPos]\n",
    "inMany x start = return start >>= foldr (<=<) return (replicate x moveKnight)\n",
    "-- replicate와 <=<를 통해 원하는 횟수만큼 함수를 함성할 수 있다."
   ]
  },
  {
   "cell_type": "code",
   "execution_count": null,
   "id": "664f1352-ca25-4ce9-a815-d4eaae1a3038",
   "metadata": {},
   "outputs": [],
   "source": [
    "canReachIn :: Int -> KnightPos -> KnightPos -> Bool\n",
    "canReachIn x start end = end `elem` inMany x start"
   ]
  },
  {
   "cell_type": "markdown",
   "id": "70a52c06-749c-4280-8f7f-430b314e1e43",
   "metadata": {},
   "source": [
    "## 모나드 만들기"
   ]
  },
  {
   "cell_type": "code",
   "execution_count": 25,
   "id": "6d65b505-0adb-41bb-806d-f7dd7c027f15",
   "metadata": {},
   "outputs": [
    {
     "data": {
      "text/plain": [
       "[(3,0.5),(5,0.25),(9,0.25)]"
      ]
     },
     "metadata": {},
     "output_type": "display_data"
    }
   ],
   "source": [
    "[(3,0.5),(5,0.25),(9,0.25)]\n",
    "-- 숫자별 발생확률을 표시한다."
   ]
  },
  {
   "cell_type": "code",
   "execution_count": 31,
   "id": "5a234a9e-685f-4b17-a4b1-47052c56eb22",
   "metadata": {},
   "outputs": [
    {
     "data": {
      "text/plain": [
       "1 % 4"
      ]
     },
     "metadata": {},
     "output_type": "display_data"
    },
    {
     "data": {
      "text/plain": [
       "1 % 1"
      ]
     },
     "metadata": {},
     "output_type": "display_data"
    },
    {
     "data": {
      "text/plain": [
       "19 % 12"
      ]
     },
     "metadata": {},
     "output_type": "display_data"
    }
   ],
   "source": [
    "-- 유리수에 대한 데이터 표현\n",
    "import Data.Ratio\n",
    "-- 분자%분모\n",
    "1%4\n",
    "1%2 + 1%2\n",
    "1%3 + 5%4"
   ]
  },
  {
   "cell_type": "code",
   "execution_count": 32,
   "id": "c6212b46-dc5c-48e1-ac1b-d41655fc9e5f",
   "metadata": {},
   "outputs": [
    {
     "data": {
      "text/plain": [
       "[(3,1 % 2),(5,1 % 4),(9,1 % 4)]"
      ]
     },
     "metadata": {},
     "output_type": "display_data"
    }
   ],
   "source": [
    "[(3,1%2),(5,1%4),(9,1%4)]  "
   ]
  },
  {
   "cell_type": "code",
   "execution_count": 34,
   "id": "eb659cca-e7bd-4f79-8f3f-77378b6f1e28",
   "metadata": {},
   "outputs": [
    {
     "data": {
      "text/html": [
       "<style>/* Styles used for the Hoogle display in the pager */\n",
       ".hoogle-doc {\n",
       "display: block;\n",
       "padding-bottom: 1.3em;\n",
       "padding-left: 0.4em;\n",
       "}\n",
       ".hoogle-code {\n",
       "display: block;\n",
       "font-family: monospace;\n",
       "white-space: pre;\n",
       "}\n",
       ".hoogle-text {\n",
       "display: block;\n",
       "}\n",
       ".hoogle-name {\n",
       "color: green;\n",
       "font-weight: bold;\n",
       "}\n",
       ".hoogle-head {\n",
       "font-weight: bold;\n",
       "}\n",
       ".hoogle-sub {\n",
       "display: block;\n",
       "margin-left: 0.4em;\n",
       "}\n",
       ".hoogle-package {\n",
       "font-weight: bold;\n",
       "font-style: italic;\n",
       "}\n",
       ".hoogle-module {\n",
       "font-weight: bold;\n",
       "}\n",
       ".hoogle-class {\n",
       "font-weight: bold;\n",
       "}\n",
       ".get-type {\n",
       "color: green;\n",
       "font-weight: bold;\n",
       "font-family: monospace;\n",
       "display: block;\n",
       "white-space: pre-wrap;\n",
       "}\n",
       ".show-type {\n",
       "color: green;\n",
       "font-weight: bold;\n",
       "font-family: monospace;\n",
       "margin-left: 1em;\n",
       "}\n",
       ".mono {\n",
       "font-family: monospace;\n",
       "display: block;\n",
       "}\n",
       ".err-msg {\n",
       "color: red;\n",
       "font-style: italic;\n",
       "font-family: monospace;\n",
       "white-space: pre;\n",
       "display: block;\n",
       "}\n",
       "#unshowable {\n",
       "color: red;\n",
       "font-weight: bold;\n",
       "}\n",
       ".err-msg.in.collapse {\n",
       "padding-top: 0.7em;\n",
       "}\n",
       ".highlight-code {\n",
       "white-space: pre;\n",
       "font-family: monospace;\n",
       "}\n",
       ".suggestion-warning { \n",
       "font-weight: bold;\n",
       "color: rgb(200, 130, 0);\n",
       "}\n",
       ".suggestion-error { \n",
       "font-weight: bold;\n",
       "color: red;\n",
       "}\n",
       ".suggestion-name {\n",
       "font-weight: bold;\n",
       "}\n",
       "</style><div class=\"suggestion-name\" style=\"clear:both;\">Use first</div><div class=\"suggestion-row\" style=\"float: left;\"><div class=\"suggestion-warning\">Found:</div><div class=\"highlight-code\" id=\"haskell\">\\ (x, p) -> (f x, p)</div></div><div class=\"suggestion-row\" style=\"float: left;\"><div class=\"suggestion-warning\">Why Not:</div><div class=\"highlight-code\" id=\"haskell\">Data.Bifunctor.first f</div></div>"
      ],
      "text/plain": [
       "Line 7: Use first\n",
       "Found:\n",
       "\\ (x, p) -> (f x, p)\n",
       "Why not:\n",
       "Data.Bifunctor.first f"
      ]
     },
     "metadata": {},
     "output_type": "display_data"
    }
   ],
   "source": [
    "-- 컨텍스트로 추가한 값을 가진다\n",
    "-- 인스턴스를 만들기 위해 newtype으로 매핑한다\n",
    "import Data.Ratio\n",
    "\n",
    "newtype Prob a = Prob {getProb :: [(a,Rational)]} deriving Show\n",
    "instance Functor Prob where\n",
    "    fmap f (Prob xs) = Prob $ map (\\(x, p) -> (f x, p)) xs"
   ]
  },
  {
   "cell_type": "code",
   "execution_count": 35,
   "id": "b2003654-9eeb-4d02-98b0-377ac905b261",
   "metadata": {},
   "outputs": [
    {
     "data": {
      "text/plain": [
       "Prob {getProb = [(-3,1 % 2),(-5,1 % 4),(-9,1 % 4)]}"
      ]
     },
     "metadata": {},
     "output_type": "display_data"
    }
   ],
   "source": [
    "fmap negate (Prob [(3,1%2),(5,1%4),(9,1%4)])  "
   ]
  },
  {
   "cell_type": "code",
   "execution_count": 36,
   "id": "775ae1f3-e6fc-4283-9eb0-626ccd210c58",
   "metadata": {},
   "outputs": [
    {
     "data": {
      "text/html": [
       "<style>/* Styles used for the Hoogle display in the pager */\n",
       ".hoogle-doc {\n",
       "display: block;\n",
       "padding-bottom: 1.3em;\n",
       "padding-left: 0.4em;\n",
       "}\n",
       ".hoogle-code {\n",
       "display: block;\n",
       "font-family: monospace;\n",
       "white-space: pre;\n",
       "}\n",
       ".hoogle-text {\n",
       "display: block;\n",
       "}\n",
       ".hoogle-name {\n",
       "color: green;\n",
       "font-weight: bold;\n",
       "}\n",
       ".hoogle-head {\n",
       "font-weight: bold;\n",
       "}\n",
       ".hoogle-sub {\n",
       "display: block;\n",
       "margin-left: 0.4em;\n",
       "}\n",
       ".hoogle-package {\n",
       "font-weight: bold;\n",
       "font-style: italic;\n",
       "}\n",
       ".hoogle-module {\n",
       "font-weight: bold;\n",
       "}\n",
       ".hoogle-class {\n",
       "font-weight: bold;\n",
       "}\n",
       ".get-type {\n",
       "color: green;\n",
       "font-weight: bold;\n",
       "font-family: monospace;\n",
       "display: block;\n",
       "white-space: pre-wrap;\n",
       "}\n",
       ".show-type {\n",
       "color: green;\n",
       "font-weight: bold;\n",
       "font-family: monospace;\n",
       "margin-left: 1em;\n",
       "}\n",
       ".mono {\n",
       "font-family: monospace;\n",
       "display: block;\n",
       "}\n",
       ".err-msg {\n",
       "color: red;\n",
       "font-style: italic;\n",
       "font-family: monospace;\n",
       "white-space: pre;\n",
       "display: block;\n",
       "}\n",
       "#unshowable {\n",
       "color: red;\n",
       "font-weight: bold;\n",
       "}\n",
       ".err-msg.in.collapse {\n",
       "padding-top: 0.7em;\n",
       "}\n",
       ".highlight-code {\n",
       "white-space: pre;\n",
       "font-family: monospace;\n",
       "}\n",
       ".suggestion-warning { \n",
       "font-weight: bold;\n",
       "color: rgb(200, 130, 0);\n",
       "}\n",
       ".suggestion-error { \n",
       "font-weight: bold;\n",
       "color: red;\n",
       "}\n",
       ".suggestion-name {\n",
       "font-weight: bold;\n",
       "}\n",
       "</style><div class=\"suggestion-name\" style=\"clear:both;\">Use concatMap</div><div class=\"suggestion-row\" style=\"float: left;\"><div class=\"suggestion-warning\">Found:</div><div class=\"highlight-code\" id=\"haskell\">concat $ map multAll xs</div></div><div class=\"suggestion-row\" style=\"float: left;\"><div class=\"suggestion-warning\">Why Not:</div><div class=\"highlight-code\" id=\"haskell\">concatMap multAll xs</div></div><div class=\"suggestion-name\" style=\"clear:both;\">Use second</div><div class=\"suggestion-row\" style=\"float: left;\"><div class=\"suggestion-warning\">Found:</div><div class=\"highlight-code\" id=\"haskell\">\\ (x, r) -> (x, p * r)</div></div><div class=\"suggestion-row\" style=\"float: left;\"><div class=\"suggestion-warning\">Why Not:</div><div class=\"highlight-code\" id=\"haskell\">Data.Bifunctor.second ((*) p)</div></div>"
      ],
      "text/plain": [
       "Line 2: Use concatMap\n",
       "Found:\n",
       "concat $ map multAll xs\n",
       "Why not:\n",
       "concatMap multAll xsLine 3: Use second\n",
       "Found:\n",
       "\\ (x, r) -> (x, p * r)\n",
       "Why not:\n",
       "Data.Bifunctor.second ((*) p)"
      ]
     },
     "metadata": {},
     "output_type": "display_data"
    }
   ],
   "source": [
    "flatten :: Prob (Prob a) -> Prob a\n",
    "flatten (Prob xs) = Prob $ concat $ map multAll xs\n",
    "    where multAll (Prob innerxs, p) = map (\\(x,r) -> (x, p*r)) innerxs"
   ]
  },
  {
   "cell_type": "code",
   "execution_count": 44,
   "id": "9277ce13-3fd4-4bd9-826a-689e4401b72e",
   "metadata": {},
   "outputs": [
    {
     "data": {
      "text/html": [
       "<style>/* Styles used for the Hoogle display in the pager */\n",
       ".hoogle-doc {\n",
       "display: block;\n",
       "padding-bottom: 1.3em;\n",
       "padding-left: 0.4em;\n",
       "}\n",
       ".hoogle-code {\n",
       "display: block;\n",
       "font-family: monospace;\n",
       "white-space: pre;\n",
       "}\n",
       ".hoogle-text {\n",
       "display: block;\n",
       "}\n",
       ".hoogle-name {\n",
       "color: green;\n",
       "font-weight: bold;\n",
       "}\n",
       ".hoogle-head {\n",
       "font-weight: bold;\n",
       "}\n",
       ".hoogle-sub {\n",
       "display: block;\n",
       "margin-left: 0.4em;\n",
       "}\n",
       ".hoogle-package {\n",
       "font-weight: bold;\n",
       "font-style: italic;\n",
       "}\n",
       ".hoogle-module {\n",
       "font-weight: bold;\n",
       "}\n",
       ".hoogle-class {\n",
       "font-weight: bold;\n",
       "}\n",
       ".get-type {\n",
       "color: green;\n",
       "font-weight: bold;\n",
       "font-family: monospace;\n",
       "display: block;\n",
       "white-space: pre-wrap;\n",
       "}\n",
       ".show-type {\n",
       "color: green;\n",
       "font-weight: bold;\n",
       "font-family: monospace;\n",
       "margin-left: 1em;\n",
       "}\n",
       ".mono {\n",
       "font-family: monospace;\n",
       "display: block;\n",
       "}\n",
       ".err-msg {\n",
       "color: red;\n",
       "font-style: italic;\n",
       "font-family: monospace;\n",
       "white-space: pre;\n",
       "display: block;\n",
       "}\n",
       "#unshowable {\n",
       "color: red;\n",
       "font-weight: bold;\n",
       "}\n",
       ".err-msg.in.collapse {\n",
       "padding-top: 0.7em;\n",
       "}\n",
       ".highlight-code {\n",
       "white-space: pre;\n",
       "font-family: monospace;\n",
       "}\n",
       ".suggestion-warning { \n",
       "font-weight: bold;\n",
       "color: rgb(200, 130, 0);\n",
       "}\n",
       ".suggestion-error { \n",
       "font-weight: bold;\n",
       "color: red;\n",
       "}\n",
       ".suggestion-name {\n",
       "font-weight: bold;\n",
       "}\n",
       "</style><div class=\"suggestion-name\" style=\"clear:both;\">Use first</div><div class=\"suggestion-row\" style=\"float: left;\"><div class=\"suggestion-warning\">Found:</div><div class=\"highlight-code\" id=\"haskell\">\\ (x, p) -> (f x, p)</div></div><div class=\"suggestion-row\" style=\"float: left;\"><div class=\"suggestion-warning\">Why Not:</div><div class=\"highlight-code\" id=\"haskell\">Data.Bifunctor.first f</div></div>"
      ],
      "text/plain": [
       "Line 6: Use first\n",
       "Found:\n",
       "\\ (x, p) -> (f x, p)\n",
       "Why not:\n",
       "Data.Bifunctor.first f"
      ]
     },
     "metadata": {},
     "output_type": "display_data"
    },
    {
     "ename": "",
     "evalue": "",
     "header": "MessageHeader {mhIdentifiers = [\"f1f6677a-3e94-48db-9c2c-f65f72ec5d80\"], mhParentHeader = Just (MessageHeader {mhIdentifiers = [\"f1f6677a-3e94-48db-9c2c-f65f72ec5d80\"], mhParentHeader = Nothing, mhMetadata = Metadata (fromList [(\"recordTiming\",Bool False),(\"deletedCells\",Array []),(\"cellId\",String \"9277ce13-3fd4-4bd9-826a-689e4401b72e\")]), mhMessageId = UUID {uuidToString = \"89181c6e-48d3-49c7-aea6-2e18de6c4674\"}, mhSessionId = UUID {uuidToString = \"f1f6677a-3e94-48db-9c2c-f65f72ec5d80\"}, mhUsername = \"\", mhMsgType = ExecuteRequestMessage, mhBuffers = []}), mhMetadata = Metadata (fromList []), mhMessageId = UUID {uuidToString = \"844f4239-b317-4168-828b-b8e389299513\"}, mhSessionId = UUID {uuidToString = \"f1f6677a-3e94-48db-9c2c-f65f72ec5d80\"}, mhUsername = \"\", mhMsgType = ExecuteErrorMessage, mhBuffers = []}",
     "output_type": "error",
     "traceback": [
      "<interactive>:7:5: error: ‘fail’ is not a (visible) method of class ‘Monad’"
     ]
    }
   ],
   "source": [
    "import Control.Monad\n",
    "import Data.Ratio\n",
    "\n",
    "newtype Prob a = Prob {getProb :: [(a,Rational)]} deriving Show\n",
    "instance Functor Prob where\n",
    "    fmap f (Prob xs) = Prob $ map (\\(x, p) -> (f x, p)) xs\n",
    "\n",
    "instance Monad Prob where  \n",
    "    return x = Prob [(x,1%1)]  \n",
    "    m >>= f = flatten (fmap f m)  \n",
    "    fail _ = Prob []  "
   ]
  },
  {
   "cell_type": "code",
   "execution_count": 45,
   "id": "68cff28a-36a1-4ba7-abe7-1601ba7727d8",
   "metadata": {},
   "outputs": [],
   "source": [
    "data Coin = Heads | Tails deriving (Show, Eq)  \n",
    "\n",
    "coin :: Prob Coin  \n",
    "coin = Prob [(Heads,1%2),(Tails,1%2)]  \n",
    "\n",
    "loadedCoin :: Prob Coin  \n",
    "loadedCoin = Prob [(Heads,1%10),(Tails,9%10)]  "
   ]
  },
  {
   "cell_type": "code",
   "execution_count": null,
   "id": "0e6ac372-8979-4908-af42-45549841e723",
   "metadata": {},
   "outputs": [],
   "source": [
    "import Data.List (all)  \n",
    "  \n",
    "flipThree :: Prob Bool  \n",
    "flipThree = do  \n",
    "    a <- coin  \n",
    "    b <- coin  \n",
    "    c <- loadedCoin  \n",
    "    -- 비결정형 데이터의 결과인 모든 가지수가 나옴\n",
    "    return (all (==Tails) [a,b,c])  \n",
    "    -- 그중에서 골라낸다"
   ]
  },
  {
   "cell_type": "code",
   "execution_count": null,
   "id": "fb60d596-4983-4d1f-b67a-2174334f187a",
   "metadata": {},
   "outputs": [],
   "source": [
    "getProb flipThree  \n",
    "\n",
    "-- [(False,1 % 40),(False,9 % 40),(False,1 % 40),(False,9 % 40),  \n",
    "--  (False,1 % 40),(False,9 % 40),(False,1 % 40),(True,9 % 40)]  "
   ]
  }
 ],
 "metadata": {
  "kernelspec": {
   "display_name": "Haskell",
   "language": "haskell",
   "name": "haskell"
  },
  "language_info": {
   "codemirror_mode": "Haskell",
   "file_extension": ".hs",
   "mimetype": "text/x-haskell",
   "name": "haskell",
   "pygments_lexer": "Haskell",
   "version": "8.10.4"
  }
 },
 "nbformat": 4,
 "nbformat_minor": 5
}
