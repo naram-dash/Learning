{
 "cells": [
  {
   "cell_type": "markdown",
   "id": "41f9df52-85ad-47d5-abaa-4a06de72beec",
   "metadata": {},
   "source": [
    "# 어플리커티브 펑터"
   ]
  },
  {
   "cell_type": "code",
   "execution_count": 4,
   "id": "ac37e14d-4e4b-4d45-bc87-f96f28c23216",
   "metadata": {},
   "outputs": [
    {
     "data": {},
     "metadata": {},
     "output_type": "display_data"
    },
    {
     "data": {
      "text/html": [
       "<style>/* Styles used for the Hoogle display in the pager */\n",
       ".hoogle-doc {\n",
       "display: block;\n",
       "padding-bottom: 1.3em;\n",
       "padding-left: 0.4em;\n",
       "}\n",
       ".hoogle-code {\n",
       "display: block;\n",
       "font-family: monospace;\n",
       "white-space: pre;\n",
       "}\n",
       ".hoogle-text {\n",
       "display: block;\n",
       "}\n",
       ".hoogle-name {\n",
       "color: green;\n",
       "font-weight: bold;\n",
       "}\n",
       ".hoogle-head {\n",
       "font-weight: bold;\n",
       "}\n",
       ".hoogle-sub {\n",
       "display: block;\n",
       "margin-left: 0.4em;\n",
       "}\n",
       ".hoogle-package {\n",
       "font-weight: bold;\n",
       "font-style: italic;\n",
       "}\n",
       ".hoogle-module {\n",
       "font-weight: bold;\n",
       "}\n",
       ".hoogle-class {\n",
       "font-weight: bold;\n",
       "}\n",
       ".get-type {\n",
       "color: green;\n",
       "font-weight: bold;\n",
       "font-family: monospace;\n",
       "display: block;\n",
       "white-space: pre-wrap;\n",
       "}\n",
       ".show-type {\n",
       "color: green;\n",
       "font-weight: bold;\n",
       "font-family: monospace;\n",
       "margin-left: 1em;\n",
       "}\n",
       ".mono {\n",
       "font-family: monospace;\n",
       "display: block;\n",
       "}\n",
       ".err-msg {\n",
       "color: red;\n",
       "font-style: italic;\n",
       "font-family: monospace;\n",
       "white-space: pre;\n",
       "display: block;\n",
       "}\n",
       "#unshowable {\n",
       "color: red;\n",
       "font-weight: bold;\n",
       "}\n",
       ".err-msg.in.collapse {\n",
       "padding-top: 0.7em;\n",
       "}\n",
       ".highlight-code {\n",
       "white-space: pre;\n",
       "font-family: monospace;\n",
       "}\n",
       ".suggestion-warning { \n",
       "font-weight: bold;\n",
       "color: rgb(200, 130, 0);\n",
       "}\n",
       ".suggestion-error { \n",
       "font-weight: bold;\n",
       "color: red;\n",
       "}\n",
       ".suggestion-name {\n",
       "font-weight: bold;\n",
       "}\n",
       "</style><span class='get-type'>fmap :: forall (f :: * -> *) a b. Functor f => (a -> b) -> f a -> f b</span>"
      ],
      "text/plain": [
       "fmap :: forall (f :: * -> *) a b. Functor f => (a -> b) -> f a -> f b"
      ]
     },
     "metadata": {},
     "output_type": "display_data"
    },
    {
     "data": {
      "text/html": [
       "<div style='background: rgb(247, 247, 247);'><form><textarea id='code'>type Functor :: (* -> *) -> Constraint\n",
       "class Functor f where\n",
       "  fmap :: (a -> b) -> f a -> f b\n",
       "  (<$) :: a -> f b -> f a\n",
       "  {-# MINIMAL fmap #-}\n",
       "  \t-- Defined in ‘GHC.Base’\n",
       "instance Functor IHaskellTH.Q -- Defined in ‘Language.Haskell.TH.Syntax’\n",
       "instance Functor (Either a) -- Defined in ‘Data.Either’\n",
       "instance Functor ManuallySized -- Defined in ‘ihaskell-diagrams-0.3.2.1:IHaskell.Display.Diagrams.ImgSize’\n",
       "instance Functor [] -- Defined in ‘GHC.Base’\n",
       "instance Functor Maybe -- Defined in ‘GHC.Base’\n",
       "instance Functor IO -- Defined in ‘GHC.Base’\n",
       "instance Functor ((->) r) -- Defined in ‘GHC.Base’\n",
       "instance Functor ((,,,) a b c) -- Defined in ‘GHC.Base’\n",
       "instance Functor ((,,) a b) -- Defined in ‘GHC.Base’\n",
       "instance Functor ((,) a) -- Defined in ‘GHC.Base’\n",
       "instance Functor ManuallySampled -- Defined in ‘ihaskell-diagrams-0.3.2.1:IHaskell.Display.Diagrams.Animation’\n",
       "</textarea></form></div><script>CodeMirror.fromTextArea(document.getElementById('code'), {mode: 'haskell', readOnly: 'nocursor'});</script>"
      ],
      "text/plain": [
       "type Functor :: (* -> *) -> Constraint\n",
       "class Functor f where\n",
       "  fmap :: (a -> b) -> f a -> f b\n",
       "  (<$) :: a -> f b -> f a\n",
       "  {-# MINIMAL fmap #-}\n",
       "  \t-- Defined in ‘GHC.Base’\n",
       "instance Functor IHaskellTH.Q -- Defined in ‘Language.Haskell.TH.Syntax’\n",
       "instance Functor (Either a) -- Defined in ‘Data.Either’\n",
       "instance Functor ManuallySized -- Defined in ‘ihaskell-diagrams-0.3.2.1:IHaskell.Display.Diagrams.ImgSize’\n",
       "instance Functor [] -- Defined in ‘GHC.Base’\n",
       "instance Functor Maybe -- Defined in ‘GHC.Base’\n",
       "instance Functor IO -- Defined in ‘GHC.Base’\n",
       "instance Functor ((->) r) -- Defined in ‘GHC.Base’\n",
       "instance Functor ((,,,) a b c) -- Defined in ‘GHC.Base’\n",
       "instance Functor ((,,) a b) -- Defined in ‘GHC.Base’\n",
       "instance Functor ((,) a) -- Defined in ‘GHC.Base’\n",
       "instance Functor ManuallySampled -- Defined in ‘ihaskell-diagrams-0.3.2.1:IHaskell.Display.Diagrams.Animation’"
      ]
     },
     "metadata": {},
     "output_type": "display_data"
    }
   ],
   "source": [
    ":info Functor\n",
    ":t fmap\n",
    "-- a를 받아서 b를 주는 함수와 a가 들어있는 펑터를 주면, a에 함수를 적용한 펑터를 반환한다."
   ]
  },
  {
   "cell_type": "markdown",
   "id": "55ea4fae-29b0-4dfe-8900-94a48da9ba13",
   "metadata": {},
   "source": [
    "## 펑터값은 추가된 컨텍스트를 갖는 값으로 볼 수 있음\n",
    "\n",
    "Maybe는 실패한 부가 컨텍스트를 갖는다.\n",
    "\n",
    "리스트는 한번에 여러 값이 있거나, 아무것도 없을 수도 있음\n",
    "\n",
    "IO String 또한, IO 컨텍스트를 가지는 String이다. 어떤 문자열을 외부에서 얻어 결과물을 만들어줄 IO작업이라는 의미"
   ]
  },
  {
   "cell_type": "code",
   "execution_count": 1,
   "id": "1b6f097f-27f9-4073-a5be-509eb95cb05d",
   "metadata": {},
   "outputs": [
    {
     "data": {
      "text/plain": [
       "You said 321 backwards!\n",
       "Yes, you really said321 backwards!"
      ]
     },
     "metadata": {},
     "output_type": "display_data"
    }
   ],
   "source": [
    "main = do line <- fmap reverse getLine  \n",
    "          putStrLn $ \"You said \" ++ line ++ \" backwards!\"  \n",
    "          putStrLn $ \"Yes, you really said\" ++ line ++ \" backwards!\"  \n",
    "          \n",
    "main"
   ]
  },
  {
   "cell_type": "code",
   "execution_count": 5,
   "id": "b603e75c-9e80-488a-b79a-08b2187163d0",
   "metadata": {},
   "outputs": [
    {
     "data": {
      "text/plain": [
       "P-A-M-F"
      ]
     },
     "metadata": {},
     "output_type": "display_data"
    }
   ],
   "source": [
    "import qualified Data.Char as Char\n",
    "import qualified Data.List as List\n",
    "  \n",
    "main = do line <- fmap (List.intersperse '-' . reverse . map Char.toUpper) getLine  \n",
    "          -- intersperse 해당 char로 [string] join 하는 함수\n",
    "          putStrLn line\n",
    "          \n",
    "main"
   ]
  },
  {
   "cell_type": "markdown",
   "id": "3610b709-f514-4171-8e71-bd405e997873",
   "metadata": {},
   "source": [
    "## 함수 또한 펑터"
   ]
  },
  {
   "cell_type": "markdown",
   "id": "c383c80b-7fbf-4d3b-88f9-5ca4435534ff",
   "metadata": {},
   "source": [
    "(->) r\n",
    "\n",
    "r -> a 는 (->) r a 로 작성할 수있다.\n",
    "\n",
    "**-> 는 두개의 타입 인스턴스를 받는 타입 생성자**\n",
    "\n",
    "(->) r 타입은 매개변수를 하나를 받는 타입생성자가 되므로, 이에 대해서는 Functor instance를 구현할 수 있다"
   ]
  },
  {
   "cell_type": "code",
   "execution_count": 7,
   "id": "44fdf1a9-b701-4e44-9e3d-a50a44649f48",
   "metadata": {},
   "outputs": [
    {
     "data": {
      "text/html": [
       "<style>/* Styles used for the Hoogle display in the pager */\n",
       ".hoogle-doc {\n",
       "display: block;\n",
       "padding-bottom: 1.3em;\n",
       "padding-left: 0.4em;\n",
       "}\n",
       ".hoogle-code {\n",
       "display: block;\n",
       "font-family: monospace;\n",
       "white-space: pre;\n",
       "}\n",
       ".hoogle-text {\n",
       "display: block;\n",
       "}\n",
       ".hoogle-name {\n",
       "color: green;\n",
       "font-weight: bold;\n",
       "}\n",
       ".hoogle-head {\n",
       "font-weight: bold;\n",
       "}\n",
       ".hoogle-sub {\n",
       "display: block;\n",
       "margin-left: 0.4em;\n",
       "}\n",
       ".hoogle-package {\n",
       "font-weight: bold;\n",
       "font-style: italic;\n",
       "}\n",
       ".hoogle-module {\n",
       "font-weight: bold;\n",
       "}\n",
       ".hoogle-class {\n",
       "font-weight: bold;\n",
       "}\n",
       ".get-type {\n",
       "color: green;\n",
       "font-weight: bold;\n",
       "font-family: monospace;\n",
       "display: block;\n",
       "white-space: pre-wrap;\n",
       "}\n",
       ".show-type {\n",
       "color: green;\n",
       "font-weight: bold;\n",
       "font-family: monospace;\n",
       "margin-left: 1em;\n",
       "}\n",
       ".mono {\n",
       "font-family: monospace;\n",
       "display: block;\n",
       "}\n",
       ".err-msg {\n",
       "color: red;\n",
       "font-style: italic;\n",
       "font-family: monospace;\n",
       "white-space: pre;\n",
       "display: block;\n",
       "}\n",
       "#unshowable {\n",
       "color: red;\n",
       "font-weight: bold;\n",
       "}\n",
       ".err-msg.in.collapse {\n",
       "padding-top: 0.7em;\n",
       "}\n",
       ".highlight-code {\n",
       "white-space: pre;\n",
       "font-family: monospace;\n",
       "}\n",
       ".suggestion-warning { \n",
       "font-weight: bold;\n",
       "color: rgb(200, 130, 0);\n",
       "}\n",
       ".suggestion-error { \n",
       "font-weight: bold;\n",
       "color: red;\n",
       "}\n",
       ".suggestion-name {\n",
       "font-weight: bold;\n",
       "}\n",
       "</style><div class=\"suggestion-name\" style=\"clear:both;\">Redundant bracket</div><div class=\"suggestion-row\" style=\"float: left;\"><div class=\"suggestion-warning\">Found:</div><div class=\"highlight-code\" id=\"haskell\">((->) r a) -> ((->) r b)</div></div><div class=\"suggestion-row\" style=\"float: left;\"><div class=\"suggestion-warning\">Why Not:</div><div class=\"highlight-code\" id=\"haskell\">(->) r a -> ((->) r b)</div></div><div class=\"suggestion-name\" style=\"clear:both;\">Redundant bracket</div><div class=\"suggestion-row\" style=\"float: left;\"><div class=\"suggestion-warning\">Found:</div><div class=\"highlight-code\" id=\"haskell\">((->) r a) -> ((->) r b)</div></div><div class=\"suggestion-row\" style=\"float: left;\"><div class=\"suggestion-warning\">Why Not:</div><div class=\"highlight-code\" id=\"haskell\">((->) r a) -> (->) r b</div></div>"
      ],
      "text/plain": [
       "Line 2: Redundant bracket\n",
       "Found:\n",
       "((->) r a) -> ((->) r b)\n",
       "Why not:\n",
       "(->) r a -> ((->) r b)Line 2: Redundant bracket\n",
       "Found:\n",
       "((->) r a) -> ((->) r b)\n",
       "Why not:\n",
       "((->) r a) -> (->) r b"
      ]
     },
     "metadata": {},
     "output_type": "display_data"
    },
    {
     "ename": "",
     "evalue": "",
     "header": "MessageHeader {mhIdentifiers = [\"a44b0fe5-24c5-419c-8e23-48bb64fa86e9\"], mhParentHeader = Just (MessageHeader {mhIdentifiers = [\"a44b0fe5-24c5-419c-8e23-48bb64fa86e9\"], mhParentHeader = Nothing, mhMetadata = Metadata (fromList [(\"recordTiming\",Bool False),(\"deletedCells\",Array []),(\"cellId\",String \"44fdf1a9-b701-4e44-9e3d-a50a44649f48\")]), mhMessageId = UUID {uuidToString = \"fe213218-4448-4113-ad01-7cdc58fcf11e\"}, mhSessionId = UUID {uuidToString = \"a44b0fe5-24c5-419c-8e23-48bb64fa86e9\"}, mhUsername = \"\", mhMsgType = ExecuteRequestMessage, mhBuffers = []}), mhMetadata = Metadata (fromList []), mhMessageId = UUID {uuidToString = \"511bc9f1-cc2c-46b6-8f2f-1beb8b34277f\"}, mhSessionId = UUID {uuidToString = \"a44b0fe5-24c5-419c-8e23-48bb64fa86e9\"}, mhUsername = \"\", mhMsgType = ExecuteErrorMessage, mhBuffers = []}",
     "output_type": "error",
     "traceback": [
      "<interactive>:2:1: error:\n    Duplicate type signatures for ‘fmap’\n    at <interactive>:1:1-4\n       <interactive>:2:1-4\n<interactive>:2:1: error:\n    The type signature for ‘fmap’ lacks an accompanying binding\n      (The type signature must be given where ‘fmap’ is declared)\n<interactive>:1:1: error:\n    The type signature for ‘fmap’ lacks an accompanying binding\n      (The type signature must be given where ‘fmap’ is declared)"
     ]
    }
   ],
   "source": [
    "fmap :: (a -> b) -> f a -> f b\n",
    "fmap :: (a -> b) -> ((->)r a) -> ((->)r b)\n",
    "-- 이는 (.) 과 같다"
   ]
  },
  {
   "cell_type": "code",
   "execution_count": 8,
   "id": "19c0891c-f554-4aff-9a99-6f7208c312d9",
   "metadata": {},
   "outputs": [
    {
     "data": {
      "text/html": [
       "<style>/* Styles used for the Hoogle display in the pager */\n",
       ".hoogle-doc {\n",
       "display: block;\n",
       "padding-bottom: 1.3em;\n",
       "padding-left: 0.4em;\n",
       "}\n",
       ".hoogle-code {\n",
       "display: block;\n",
       "font-family: monospace;\n",
       "white-space: pre;\n",
       "}\n",
       ".hoogle-text {\n",
       "display: block;\n",
       "}\n",
       ".hoogle-name {\n",
       "color: green;\n",
       "font-weight: bold;\n",
       "}\n",
       ".hoogle-head {\n",
       "font-weight: bold;\n",
       "}\n",
       ".hoogle-sub {\n",
       "display: block;\n",
       "margin-left: 0.4em;\n",
       "}\n",
       ".hoogle-package {\n",
       "font-weight: bold;\n",
       "font-style: italic;\n",
       "}\n",
       ".hoogle-module {\n",
       "font-weight: bold;\n",
       "}\n",
       ".hoogle-class {\n",
       "font-weight: bold;\n",
       "}\n",
       ".get-type {\n",
       "color: green;\n",
       "font-weight: bold;\n",
       "font-family: monospace;\n",
       "display: block;\n",
       "white-space: pre-wrap;\n",
       "}\n",
       ".show-type {\n",
       "color: green;\n",
       "font-weight: bold;\n",
       "font-family: monospace;\n",
       "margin-left: 1em;\n",
       "}\n",
       ".mono {\n",
       "font-family: monospace;\n",
       "display: block;\n",
       "}\n",
       ".err-msg {\n",
       "color: red;\n",
       "font-style: italic;\n",
       "font-family: monospace;\n",
       "white-space: pre;\n",
       "display: block;\n",
       "}\n",
       "#unshowable {\n",
       "color: red;\n",
       "font-weight: bold;\n",
       "}\n",
       ".err-msg.in.collapse {\n",
       "padding-top: 0.7em;\n",
       "}\n",
       ".highlight-code {\n",
       "white-space: pre;\n",
       "font-family: monospace;\n",
       "}\n",
       ".suggestion-warning { \n",
       "font-weight: bold;\n",
       "color: rgb(200, 130, 0);\n",
       "}\n",
       ".suggestion-error { \n",
       "font-weight: bold;\n",
       "color: red;\n",
       "}\n",
       ".suggestion-name {\n",
       "font-weight: bold;\n",
       "}\n",
       "</style><span class='get-type'>(.) :: forall b c a. (b -> c) -> (a -> b) -> a -> c</span>"
      ],
      "text/plain": [
       "(.) :: forall b c a. (b -> c) -> (a -> b) -> a -> c"
      ]
     },
     "metadata": {},
     "output_type": "display_data"
    }
   ],
   "source": [
    ":t (.)\n",
    "-- r 대신 a 가 들어가고 b -> c 함수를 받는다.\n",
    "\n",
    "-- 인자 a를 받는 Functor(Context)는 동일하지만, 안에 있는 반환값(b to c)이 달라진셈 (쉽게 말해, 합성함수)"
   ]
  },
  {
   "cell_type": "code",
   "execution_count": 15,
   "id": "817e8b2d-b8bf-41d7-a42b-8f18be00cb09",
   "metadata": {},
   "outputs": [
    {
     "data": {
      "text/html": [
       "<style>/* Styles used for the Hoogle display in the pager */\n",
       ".hoogle-doc {\n",
       "display: block;\n",
       "padding-bottom: 1.3em;\n",
       "padding-left: 0.4em;\n",
       "}\n",
       ".hoogle-code {\n",
       "display: block;\n",
       "font-family: monospace;\n",
       "white-space: pre;\n",
       "}\n",
       ".hoogle-text {\n",
       "display: block;\n",
       "}\n",
       ".hoogle-name {\n",
       "color: green;\n",
       "font-weight: bold;\n",
       "}\n",
       ".hoogle-head {\n",
       "font-weight: bold;\n",
       "}\n",
       ".hoogle-sub {\n",
       "display: block;\n",
       "margin-left: 0.4em;\n",
       "}\n",
       ".hoogle-package {\n",
       "font-weight: bold;\n",
       "font-style: italic;\n",
       "}\n",
       ".hoogle-module {\n",
       "font-weight: bold;\n",
       "}\n",
       ".hoogle-class {\n",
       "font-weight: bold;\n",
       "}\n",
       ".get-type {\n",
       "color: green;\n",
       "font-weight: bold;\n",
       "font-family: monospace;\n",
       "display: block;\n",
       "white-space: pre-wrap;\n",
       "}\n",
       ".show-type {\n",
       "color: green;\n",
       "font-weight: bold;\n",
       "font-family: monospace;\n",
       "margin-left: 1em;\n",
       "}\n",
       ".mono {\n",
       "font-family: monospace;\n",
       "display: block;\n",
       "}\n",
       ".err-msg {\n",
       "color: red;\n",
       "font-style: italic;\n",
       "font-family: monospace;\n",
       "white-space: pre;\n",
       "display: block;\n",
       "}\n",
       "#unshowable {\n",
       "color: red;\n",
       "font-weight: bold;\n",
       "}\n",
       ".err-msg.in.collapse {\n",
       "padding-top: 0.7em;\n",
       "}\n",
       ".highlight-code {\n",
       "white-space: pre;\n",
       "font-family: monospace;\n",
       "}\n",
       ".suggestion-warning { \n",
       "font-weight: bold;\n",
       "color: rgb(200, 130, 0);\n",
       "}\n",
       ".suggestion-error { \n",
       "font-weight: bold;\n",
       "color: red;\n",
       "}\n",
       ".suggestion-name {\n",
       "font-weight: bold;\n",
       "}\n",
       "</style><span class='get-type'>fmap (*3) (+100) :: forall b. Num b => b -> b</span>"
      ],
      "text/plain": [
       "fmap (*3) (+100) :: forall b. Num b => b -> b"
      ]
     },
     "metadata": {},
     "output_type": "display_data"
    },
    {
     "data": {
      "text/plain": [
       "303"
      ]
     },
     "metadata": {},
     "output_type": "display_data"
    },
    {
     "data": {
      "text/plain": [
       "303"
      ]
     },
     "metadata": {},
     "output_type": "display_data"
    },
    {
     "data": {
      "text/plain": [
       "303"
      ]
     },
     "metadata": {},
     "output_type": "display_data"
    },
    {
     "data": {
      "text/plain": [
       "\"303\""
      ]
     },
     "metadata": {},
     "output_type": "display_data"
    }
   ],
   "source": [
    ":t fmap (*3) (+100)\n",
    "fmap (*3) (+100) 1\n",
    "\n",
    "(*3) `fmap` (+100) $ 1\n",
    "(*3) . (+100) $ 1\n",
    "fmap (show . (*3)) (+100) 1"
   ]
  },
  {
   "cell_type": "markdown",
   "id": "eb8ad7a4-0a4b-4d8d-997c-59cb3f717441",
   "metadata": {},
   "source": [
    "함수 또한 컨텍스트를 가진 값이라는 이야기\n",
    "\n",
    "컨텍스트를 적용한 것이 함수의 반환 값\n",
    "\n",
    "**fmap은 두가지로 이해할 수 있다**\n",
    "\n",
    "- 함수와 펑터 값을 받아 그 펑터 값에 함수를 매핑하는 함수 (Just 3 에 (+3) 해서 Just 6가 됨)\n",
    "- 함수를 받아서 그 함수를 올리는(lift) 함수, 즉 펑터 값에서 동작 ((+3) 함수에 (*5)를 해서 (\\x -> (x + 3) * 5)가 됨)"
   ]
  },
  {
   "cell_type": "code",
   "execution_count": 22,
   "id": "858a889c-35c1-40ca-9f78-11219419c6d3",
   "metadata": {},
   "outputs": [
    {
     "data": {
      "text/plain": [
       "[[1,1,1],[2,2,2],[3,3,3],[4,4,4]]"
      ]
     },
     "metadata": {},
     "output_type": "display_data"
    },
    {
     "data": {
      "text/plain": [
       "Just [4,4,4]"
      ]
     },
     "metadata": {},
     "output_type": "display_data"
    },
    {
     "data": {
      "text/plain": [
       "Nothing"
      ]
     },
     "metadata": {},
     "output_type": "display_data"
    },
    {
     "data": {
      "text/plain": [
       "Left \"foo\""
      ]
     },
     "metadata": {},
     "output_type": "display_data"
    },
    {
     "data": {
      "text/plain": [
       "Right [\"blah\",\"blah\",\"blah\"]"
      ]
     },
     "metadata": {},
     "output_type": "display_data"
    }
   ],
   "source": [
    "-- 펑터 값에 함수를 매핑\n",
    "fmap (replicate 3) [1,2,3,4]\n",
    "fmap (replicate 3) (Just 4)\n",
    "fmap (replicate 3) Nothing\n",
    "fmap (replicate 3) (Left \"foo\") -- 오류이기 때문에 반복안되고 메시지 그냥 전달\n",
    "fmap (replicate 3) (Right \"blah\")"
   ]
  },
  {
   "cell_type": "markdown",
   "id": "69f5e56c-50c9-4a44-b213-77cf2197f187",
   "metadata": {},
   "source": [
    "## 펑터 규칙\n",
    "\n",
    "1. 펑터는 매핑될 수 있는 어떤 것처럼 신뢰될수 있게 동작해야함\n",
    "2. 펑터에서 fmap을 호출하기 위해서는 펑터에 함수를 매핑해야한다.\n",
    "\n",
    "위는 하스켈에 의해 자동으로 적용되지 않기 때문에, 사용자가 직접 테스트해야한다."
   ]
  },
  {
   "cell_type": "markdown",
   "id": "53621bbe-9fc0-4330-9398-d0b6257abc7e",
   "metadata": {},
   "source": [
    "### 규칙1 펑터값에 ID 함수를 매핑하면 돌려받은 펑터값은 원본 펑터값과 동일해야한다\n",
    "\n",
    "fmap id == id 같아야한다"
   ]
  },
  {
   "cell_type": "code",
   "execution_count": 24,
   "id": "0f8b49ec-bc2f-42c1-8f96-fe19fd521e28",
   "metadata": {},
   "outputs": [
    {
     "data": {
      "text/html": [
       "<style>/* Styles used for the Hoogle display in the pager */\n",
       ".hoogle-doc {\n",
       "display: block;\n",
       "padding-bottom: 1.3em;\n",
       "padding-left: 0.4em;\n",
       "}\n",
       ".hoogle-code {\n",
       "display: block;\n",
       "font-family: monospace;\n",
       "white-space: pre;\n",
       "}\n",
       ".hoogle-text {\n",
       "display: block;\n",
       "}\n",
       ".hoogle-name {\n",
       "color: green;\n",
       "font-weight: bold;\n",
       "}\n",
       ".hoogle-head {\n",
       "font-weight: bold;\n",
       "}\n",
       ".hoogle-sub {\n",
       "display: block;\n",
       "margin-left: 0.4em;\n",
       "}\n",
       ".hoogle-package {\n",
       "font-weight: bold;\n",
       "font-style: italic;\n",
       "}\n",
       ".hoogle-module {\n",
       "font-weight: bold;\n",
       "}\n",
       ".hoogle-class {\n",
       "font-weight: bold;\n",
       "}\n",
       ".get-type {\n",
       "color: green;\n",
       "font-weight: bold;\n",
       "font-family: monospace;\n",
       "display: block;\n",
       "white-space: pre-wrap;\n",
       "}\n",
       ".show-type {\n",
       "color: green;\n",
       "font-weight: bold;\n",
       "font-family: monospace;\n",
       "margin-left: 1em;\n",
       "}\n",
       ".mono {\n",
       "font-family: monospace;\n",
       "display: block;\n",
       "}\n",
       ".err-msg {\n",
       "color: red;\n",
       "font-style: italic;\n",
       "font-family: monospace;\n",
       "white-space: pre;\n",
       "display: block;\n",
       "}\n",
       "#unshowable {\n",
       "color: red;\n",
       "font-weight: bold;\n",
       "}\n",
       ".err-msg.in.collapse {\n",
       "padding-top: 0.7em;\n",
       "}\n",
       ".highlight-code {\n",
       "white-space: pre;\n",
       "font-family: monospace;\n",
       "}\n",
       ".suggestion-warning { \n",
       "font-weight: bold;\n",
       "color: rgb(200, 130, 0);\n",
       "}\n",
       ".suggestion-error { \n",
       "font-weight: bold;\n",
       "color: red;\n",
       "}\n",
       ".suggestion-name {\n",
       "font-weight: bold;\n",
       "}\n",
       "</style><div class=\"suggestion-name\" style=\"clear:both;\">Functor law</div><div class=\"suggestion-row\" style=\"float: left;\"><div class=\"suggestion-warning\">Found:</div><div class=\"highlight-code\" id=\"haskell\">fmap id</div></div><div class=\"suggestion-row\" style=\"float: left;\"><div class=\"suggestion-warning\">Why Not:</div><div class=\"highlight-code\" id=\"haskell\">id</div></div><div class=\"suggestion-name\" style=\"clear:both;\">Redundant id</div><div class=\"suggestion-row\" style=\"float: left;\"><div class=\"suggestion-warning\">Found:</div><div class=\"highlight-code\" id=\"haskell\">id (Just 3)</div></div><div class=\"suggestion-row\" style=\"float: left;\"><div class=\"suggestion-warning\">Why Not:</div><div class=\"highlight-code\" id=\"haskell\">(Just 3)</div></div><div class=\"suggestion-name\" style=\"clear:both;\">Functor law</div><div class=\"suggestion-row\" style=\"float: left;\"><div class=\"suggestion-warning\">Found:</div><div class=\"highlight-code\" id=\"haskell\">fmap id</div></div><div class=\"suggestion-row\" style=\"float: left;\"><div class=\"suggestion-warning\">Why Not:</div><div class=\"highlight-code\" id=\"haskell\">id</div></div><div class=\"suggestion-name\" style=\"clear:both;\">Redundant id</div><div class=\"suggestion-row\" style=\"float: left;\"><div class=\"suggestion-warning\">Found:</div><div class=\"highlight-code\" id=\"haskell\">id [1 .. 5]</div></div><div class=\"suggestion-row\" style=\"float: left;\"><div class=\"suggestion-warning\">Why Not:</div><div class=\"highlight-code\" id=\"haskell\">[1 .. 5]</div></div><div class=\"suggestion-name\" style=\"clear:both;\">Functor law</div><div class=\"suggestion-row\" style=\"float: left;\"><div class=\"suggestion-warning\">Found:</div><div class=\"highlight-code\" id=\"haskell\">fmap id</div></div><div class=\"suggestion-row\" style=\"float: left;\"><div class=\"suggestion-warning\">Why Not:</div><div class=\"highlight-code\" id=\"haskell\">id</div></div><div class=\"suggestion-name\" style=\"clear:both;\">Redundant id</div><div class=\"suggestion-row\" style=\"float: left;\"><div class=\"suggestion-warning\">Found:</div><div class=\"highlight-code\" id=\"haskell\">id []</div></div><div class=\"suggestion-row\" style=\"float: left;\"><div class=\"suggestion-warning\">Why Not:</div><div class=\"highlight-code\" id=\"haskell\">[]</div></div>"
      ],
      "text/plain": [
       "Line 1: Functor law\n",
       "Found:\n",
       "fmap id\n",
       "Why not:\n",
       "idLine 2: Redundant id\n",
       "Found:\n",
       "id (Just 3)\n",
       "Why not:\n",
       "(Just 3)Line 3: Functor law\n",
       "Found:\n",
       "fmap id\n",
       "Why not:\n",
       "idLine 4: Redundant id\n",
       "Found:\n",
       "id [1 .. 5]\n",
       "Why not:\n",
       "[1 .. 5]Line 5: Functor law\n",
       "Found:\n",
       "fmap id\n",
       "Why not:\n",
       "idLine 6: Redundant id\n",
       "Found:\n",
       "id []\n",
       "Why not:\n",
       "[]"
      ]
     },
     "metadata": {},
     "output_type": "display_data"
    },
    {
     "data": {
      "text/plain": [
       "Just 3"
      ]
     },
     "metadata": {},
     "output_type": "display_data"
    },
    {
     "data": {
      "text/plain": [
       "Just 3"
      ]
     },
     "metadata": {},
     "output_type": "display_data"
    },
    {
     "data": {
      "text/plain": [
       "[1,2,3,4,5]"
      ]
     },
     "metadata": {},
     "output_type": "display_data"
    },
    {
     "data": {
      "text/plain": [
       "[1,2,3,4,5]"
      ]
     },
     "metadata": {},
     "output_type": "display_data"
    },
    {
     "data": {
      "text/plain": [
       "[]"
      ]
     },
     "metadata": {},
     "output_type": "display_data"
    },
    {
     "data": {
      "text/plain": [
       "[]"
      ]
     },
     "metadata": {},
     "output_type": "display_data"
    }
   ],
   "source": [
    "fmap id (Just 3)\n",
    "id (Just 3)\n",
    "fmap id [1..5]\n",
    "id [1..5]\n",
    "fmap id []\n",
    "id []"
   ]
  },
  {
   "cell_type": "markdown",
   "id": "b1bbd8ed-7d7f-4712-9ba0-fbdc4c8a93c6",
   "metadata": {},
   "source": [
    "### 규칙2 두개의 함수를 합친 다음에 합한 함수를 펑터에 매핑하는 것은 펑터에 하나의 함수를 먼저 매핑한 다음에 다른 함수를 매핑하는 것과 동일해야한다.\n",
    "\n",
    "fmap (f.g) = fmap f . fmap g 와 같다는 이야기이다."
   ]
  },
  {
   "cell_type": "markdown",
   "id": "5c8a89a1-c45d-4d8b-bf46-ab49fb3f54d3",
   "metadata": {},
   "source": [
    "## 규칙에 맞지않는 펑터 만들기"
   ]
  },
  {
   "cell_type": "code",
   "execution_count": 27,
   "id": "d8258f79-49c2-4ea6-95dc-68c4e96a9fa5",
   "metadata": {},
   "outputs": [],
   "source": [
    "data CMaybe a = CNothing | CJust Int a deriving (Show)"
   ]
  },
  {
   "cell_type": "code",
   "execution_count": 29,
   "id": "6a861e90-3ec6-4c4a-ad22-c5906c10bc09",
   "metadata": {},
   "outputs": [
    {
     "data": {
      "text/plain": [
       "CNothing"
      ]
     },
     "metadata": {},
     "output_type": "display_data"
    },
    {
     "data": {
      "text/plain": [
       "CJust 0 \"haha\""
      ]
     },
     "metadata": {},
     "output_type": "display_data"
    },
    {
     "data": {
      "text/html": [
       "<style>/* Styles used for the Hoogle display in the pager */\n",
       ".hoogle-doc {\n",
       "display: block;\n",
       "padding-bottom: 1.3em;\n",
       "padding-left: 0.4em;\n",
       "}\n",
       ".hoogle-code {\n",
       "display: block;\n",
       "font-family: monospace;\n",
       "white-space: pre;\n",
       "}\n",
       ".hoogle-text {\n",
       "display: block;\n",
       "}\n",
       ".hoogle-name {\n",
       "color: green;\n",
       "font-weight: bold;\n",
       "}\n",
       ".hoogle-head {\n",
       "font-weight: bold;\n",
       "}\n",
       ".hoogle-sub {\n",
       "display: block;\n",
       "margin-left: 0.4em;\n",
       "}\n",
       ".hoogle-package {\n",
       "font-weight: bold;\n",
       "font-style: italic;\n",
       "}\n",
       ".hoogle-module {\n",
       "font-weight: bold;\n",
       "}\n",
       ".hoogle-class {\n",
       "font-weight: bold;\n",
       "}\n",
       ".get-type {\n",
       "color: green;\n",
       "font-weight: bold;\n",
       "font-family: monospace;\n",
       "display: block;\n",
       "white-space: pre-wrap;\n",
       "}\n",
       ".show-type {\n",
       "color: green;\n",
       "font-weight: bold;\n",
       "font-family: monospace;\n",
       "margin-left: 1em;\n",
       "}\n",
       ".mono {\n",
       "font-family: monospace;\n",
       "display: block;\n",
       "}\n",
       ".err-msg {\n",
       "color: red;\n",
       "font-style: italic;\n",
       "font-family: monospace;\n",
       "white-space: pre;\n",
       "display: block;\n",
       "}\n",
       "#unshowable {\n",
       "color: red;\n",
       "font-weight: bold;\n",
       "}\n",
       ".err-msg.in.collapse {\n",
       "padding-top: 0.7em;\n",
       "}\n",
       ".highlight-code {\n",
       "white-space: pre;\n",
       "font-family: monospace;\n",
       "}\n",
       ".suggestion-warning { \n",
       "font-weight: bold;\n",
       "color: rgb(200, 130, 0);\n",
       "}\n",
       ".suggestion-error { \n",
       "font-weight: bold;\n",
       "color: red;\n",
       "}\n",
       ".suggestion-name {\n",
       "font-weight: bold;\n",
       "}\n",
       "</style><span class='get-type'>CNothing :: forall a. CMaybe a</span>"
      ],
      "text/plain": [
       "CNothing :: forall a. CMaybe a"
      ]
     },
     "metadata": {},
     "output_type": "display_data"
    },
    {
     "data": {
      "text/html": [
       "<style>/* Styles used for the Hoogle display in the pager */\n",
       ".hoogle-doc {\n",
       "display: block;\n",
       "padding-bottom: 1.3em;\n",
       "padding-left: 0.4em;\n",
       "}\n",
       ".hoogle-code {\n",
       "display: block;\n",
       "font-family: monospace;\n",
       "white-space: pre;\n",
       "}\n",
       ".hoogle-text {\n",
       "display: block;\n",
       "}\n",
       ".hoogle-name {\n",
       "color: green;\n",
       "font-weight: bold;\n",
       "}\n",
       ".hoogle-head {\n",
       "font-weight: bold;\n",
       "}\n",
       ".hoogle-sub {\n",
       "display: block;\n",
       "margin-left: 0.4em;\n",
       "}\n",
       ".hoogle-package {\n",
       "font-weight: bold;\n",
       "font-style: italic;\n",
       "}\n",
       ".hoogle-module {\n",
       "font-weight: bold;\n",
       "}\n",
       ".hoogle-class {\n",
       "font-weight: bold;\n",
       "}\n",
       ".get-type {\n",
       "color: green;\n",
       "font-weight: bold;\n",
       "font-family: monospace;\n",
       "display: block;\n",
       "white-space: pre-wrap;\n",
       "}\n",
       ".show-type {\n",
       "color: green;\n",
       "font-weight: bold;\n",
       "font-family: monospace;\n",
       "margin-left: 1em;\n",
       "}\n",
       ".mono {\n",
       "font-family: monospace;\n",
       "display: block;\n",
       "}\n",
       ".err-msg {\n",
       "color: red;\n",
       "font-style: italic;\n",
       "font-family: monospace;\n",
       "white-space: pre;\n",
       "display: block;\n",
       "}\n",
       "#unshowable {\n",
       "color: red;\n",
       "font-weight: bold;\n",
       "}\n",
       ".err-msg.in.collapse {\n",
       "padding-top: 0.7em;\n",
       "}\n",
       ".highlight-code {\n",
       "white-space: pre;\n",
       "font-family: monospace;\n",
       "}\n",
       ".suggestion-warning { \n",
       "font-weight: bold;\n",
       "color: rgb(200, 130, 0);\n",
       "}\n",
       ".suggestion-error { \n",
       "font-weight: bold;\n",
       "color: red;\n",
       "}\n",
       ".suggestion-name {\n",
       "font-weight: bold;\n",
       "}\n",
       "</style><span class='get-type'>CJust 0 \"haha\" :: CMaybe [Char]</span>"
      ],
      "text/plain": [
       "CJust 0 \"haha\" :: CMaybe [Char]"
      ]
     },
     "metadata": {},
     "output_type": "display_data"
    },
    {
     "data": {
      "text/plain": [
       "CJust 100 [1,2,3]"
      ]
     },
     "metadata": {},
     "output_type": "display_data"
    }
   ],
   "source": [
    "CNothing\n",
    "CJust 0 \"haha\"\n",
    ":t CNothing\n",
    ":t CJust 0 \"haha\"\n",
    "CJust 100 [1,2,3]"
   ]
  },
  {
   "cell_type": "code",
   "execution_count": 30,
   "id": "7dd6ced2-1069-45ad-b746-373d083aacd2",
   "metadata": {},
   "outputs": [],
   "source": [
    "instance Functor CMaybe where\n",
    "    fmap f CNothing = CNothing\n",
    "    fmap f (CJust counter x) = CJust (counter + 1) (f x)"
   ]
  },
  {
   "cell_type": "code",
   "execution_count": 31,
   "id": "bc74a12b-79a9-40a4-88ca-dc1c37763591",
   "metadata": {},
   "outputs": [
    {
     "data": {
      "text/html": [
       "<style>/* Styles used for the Hoogle display in the pager */\n",
       ".hoogle-doc {\n",
       "display: block;\n",
       "padding-bottom: 1.3em;\n",
       "padding-left: 0.4em;\n",
       "}\n",
       ".hoogle-code {\n",
       "display: block;\n",
       "font-family: monospace;\n",
       "white-space: pre;\n",
       "}\n",
       ".hoogle-text {\n",
       "display: block;\n",
       "}\n",
       ".hoogle-name {\n",
       "color: green;\n",
       "font-weight: bold;\n",
       "}\n",
       ".hoogle-head {\n",
       "font-weight: bold;\n",
       "}\n",
       ".hoogle-sub {\n",
       "display: block;\n",
       "margin-left: 0.4em;\n",
       "}\n",
       ".hoogle-package {\n",
       "font-weight: bold;\n",
       "font-style: italic;\n",
       "}\n",
       ".hoogle-module {\n",
       "font-weight: bold;\n",
       "}\n",
       ".hoogle-class {\n",
       "font-weight: bold;\n",
       "}\n",
       ".get-type {\n",
       "color: green;\n",
       "font-weight: bold;\n",
       "font-family: monospace;\n",
       "display: block;\n",
       "white-space: pre-wrap;\n",
       "}\n",
       ".show-type {\n",
       "color: green;\n",
       "font-weight: bold;\n",
       "font-family: monospace;\n",
       "margin-left: 1em;\n",
       "}\n",
       ".mono {\n",
       "font-family: monospace;\n",
       "display: block;\n",
       "}\n",
       ".err-msg {\n",
       "color: red;\n",
       "font-style: italic;\n",
       "font-family: monospace;\n",
       "white-space: pre;\n",
       "display: block;\n",
       "}\n",
       "#unshowable {\n",
       "color: red;\n",
       "font-weight: bold;\n",
       "}\n",
       ".err-msg.in.collapse {\n",
       "padding-top: 0.7em;\n",
       "}\n",
       ".highlight-code {\n",
       "white-space: pre;\n",
       "font-family: monospace;\n",
       "}\n",
       ".suggestion-warning { \n",
       "font-weight: bold;\n",
       "color: rgb(200, 130, 0);\n",
       "}\n",
       ".suggestion-error { \n",
       "font-weight: bold;\n",
       "color: red;\n",
       "}\n",
       ".suggestion-name {\n",
       "font-weight: bold;\n",
       "}\n",
       "</style><div class=\"suggestion-name\" style=\"clear:both;\">Functor law</div><div class=\"suggestion-row\" style=\"float: left;\"><div class=\"suggestion-warning\">Found:</div><div class=\"highlight-code\" id=\"haskell\">fmap (++ \"he\") (fmap (++ \"ha\") (CJust 0 \"ho\"))</div></div><div class=\"suggestion-row\" style=\"float: left;\"><div class=\"suggestion-warning\">Why Not:</div><div class=\"highlight-code\" id=\"haskell\">fmap ((++ \"he\") . (++ \"ha\")) (CJust 0 \"ho\")</div></div>"
      ],
      "text/plain": [
       "Line 2: Functor law\n",
       "Found:\n",
       "fmap (++ \"he\") (fmap (++ \"ha\") (CJust 0 \"ho\"))\n",
       "Why not:\n",
       "fmap ((++ \"he\") . (++ \"ha\")) (CJust 0 \"ho\")"
      ]
     },
     "metadata": {},
     "output_type": "display_data"
    },
    {
     "data": {
      "text/plain": [
       "CJust 1 \"hoha\""
      ]
     },
     "metadata": {},
     "output_type": "display_data"
    },
    {
     "data": {
      "text/plain": [
       "CJust 2 \"hohahe\""
      ]
     },
     "metadata": {},
     "output_type": "display_data"
    },
    {
     "data": {
      "text/plain": [
       "CNothing"
      ]
     },
     "metadata": {},
     "output_type": "display_data"
    }
   ],
   "source": [
    "fmap (++\"ha\") (CJust 0 \"ho\")\n",
    "fmap (++ \"he\") (fmap (++\"ha\") (CJust 0 \"ho\")) -- Int 가 증가하여 id가 맞지 않게됨\n",
    "fmap (++ \"blah\") CNothing"
   ]
  },
  {
   "cell_type": "code",
   "execution_count": 33,
   "id": "0138b140-1728-407d-a89d-04e25eb988f5",
   "metadata": {},
   "outputs": [
    {
     "data": {
      "text/html": [
       "<style>/* Styles used for the Hoogle display in the pager */\n",
       ".hoogle-doc {\n",
       "display: block;\n",
       "padding-bottom: 1.3em;\n",
       "padding-left: 0.4em;\n",
       "}\n",
       ".hoogle-code {\n",
       "display: block;\n",
       "font-family: monospace;\n",
       "white-space: pre;\n",
       "}\n",
       ".hoogle-text {\n",
       "display: block;\n",
       "}\n",
       ".hoogle-name {\n",
       "color: green;\n",
       "font-weight: bold;\n",
       "}\n",
       ".hoogle-head {\n",
       "font-weight: bold;\n",
       "}\n",
       ".hoogle-sub {\n",
       "display: block;\n",
       "margin-left: 0.4em;\n",
       "}\n",
       ".hoogle-package {\n",
       "font-weight: bold;\n",
       "font-style: italic;\n",
       "}\n",
       ".hoogle-module {\n",
       "font-weight: bold;\n",
       "}\n",
       ".hoogle-class {\n",
       "font-weight: bold;\n",
       "}\n",
       ".get-type {\n",
       "color: green;\n",
       "font-weight: bold;\n",
       "font-family: monospace;\n",
       "display: block;\n",
       "white-space: pre-wrap;\n",
       "}\n",
       ".show-type {\n",
       "color: green;\n",
       "font-weight: bold;\n",
       "font-family: monospace;\n",
       "margin-left: 1em;\n",
       "}\n",
       ".mono {\n",
       "font-family: monospace;\n",
       "display: block;\n",
       "}\n",
       ".err-msg {\n",
       "color: red;\n",
       "font-style: italic;\n",
       "font-family: monospace;\n",
       "white-space: pre;\n",
       "display: block;\n",
       "}\n",
       "#unshowable {\n",
       "color: red;\n",
       "font-weight: bold;\n",
       "}\n",
       ".err-msg.in.collapse {\n",
       "padding-top: 0.7em;\n",
       "}\n",
       ".highlight-code {\n",
       "white-space: pre;\n",
       "font-family: monospace;\n",
       "}\n",
       ".suggestion-warning { \n",
       "font-weight: bold;\n",
       "color: rgb(200, 130, 0);\n",
       "}\n",
       ".suggestion-error { \n",
       "font-weight: bold;\n",
       "color: red;\n",
       "}\n",
       ".suggestion-name {\n",
       "font-weight: bold;\n",
       "}\n",
       "</style><div class=\"suggestion-name\" style=\"clear:both;\">Functor law</div><div class=\"suggestion-row\" style=\"float: left;\"><div class=\"suggestion-warning\">Found:</div><div class=\"highlight-code\" id=\"haskell\">fmap id</div></div><div class=\"suggestion-row\" style=\"float: left;\"><div class=\"suggestion-warning\">Why Not:</div><div class=\"highlight-code\" id=\"haskell\">id</div></div><div class=\"suggestion-name\" style=\"clear:both;\">Redundant id</div><div class=\"suggestion-row\" style=\"float: left;\"><div class=\"suggestion-warning\">Found:</div><div class=\"highlight-code\" id=\"haskell\">id (CJust 0 \"haha\")</div></div><div class=\"suggestion-row\" style=\"float: left;\"><div class=\"suggestion-warning\">Why Not:</div><div class=\"highlight-code\" id=\"haskell\">(CJust 0 \"haha\")</div></div>"
      ],
      "text/plain": [
       "Line 1: Functor law\n",
       "Found:\n",
       "fmap id\n",
       "Why not:\n",
       "idLine 2: Redundant id\n",
       "Found:\n",
       "id (CJust 0 \"haha\")\n",
       "Why not:\n",
       "(CJust 0 \"haha\")"
      ]
     },
     "metadata": {},
     "output_type": "display_data"
    },
    {
     "data": {
      "text/plain": [
       "CJust 1 \"haha\""
      ]
     },
     "metadata": {},
     "output_type": "display_data"
    },
    {
     "data": {
      "text/plain": [
       "CJust 0 \"haha\""
      ]
     },
     "metadata": {},
     "output_type": "display_data"
    }
   ],
   "source": [
    "fmap id (CJust 0 \"haha\")\n",
    "id (CJust 0 \"haha\")\n",
    "-- 규칙 1에 맞지 않다.\n",
    "-- 사실 규칙2도 틀림\n",
    "-- 이런 것을 펑터처럼 사용하게 되면, 오류가 날 수 있다."
   ]
  },
  {
   "cell_type": "markdown",
   "id": "4bd9ed21-9579-49ca-897e-b4baf3b74b5c",
   "metadata": {},
   "source": [
    "이러한 규칙을 통해, 펑터가 어떻게 동작할 지에 대해 확신을 가질 수 있게 된다."
   ]
  },
  {
   "cell_type": "markdown",
   "id": "d434961f-075d-4830-8705-d779e6c8d183",
   "metadata": {},
   "source": [
    "## 강화된 펑터, 어플리커티브 펑터"
   ]
  },
  {
   "cell_type": "code",
   "execution_count": 35,
   "id": "4a6214c6-c745-4e22-9fb3-e4cd1b76c481",
   "metadata": {},
   "outputs": [
    {
     "data": {
      "text/html": [
       "<style>/* Styles used for the Hoogle display in the pager */\n",
       ".hoogle-doc {\n",
       "display: block;\n",
       "padding-bottom: 1.3em;\n",
       "padding-left: 0.4em;\n",
       "}\n",
       ".hoogle-code {\n",
       "display: block;\n",
       "font-family: monospace;\n",
       "white-space: pre;\n",
       "}\n",
       ".hoogle-text {\n",
       "display: block;\n",
       "}\n",
       ".hoogle-name {\n",
       "color: green;\n",
       "font-weight: bold;\n",
       "}\n",
       ".hoogle-head {\n",
       "font-weight: bold;\n",
       "}\n",
       ".hoogle-sub {\n",
       "display: block;\n",
       "margin-left: 0.4em;\n",
       "}\n",
       ".hoogle-package {\n",
       "font-weight: bold;\n",
       "font-style: italic;\n",
       "}\n",
       ".hoogle-module {\n",
       "font-weight: bold;\n",
       "}\n",
       ".hoogle-class {\n",
       "font-weight: bold;\n",
       "}\n",
       ".get-type {\n",
       "color: green;\n",
       "font-weight: bold;\n",
       "font-family: monospace;\n",
       "display: block;\n",
       "white-space: pre-wrap;\n",
       "}\n",
       ".show-type {\n",
       "color: green;\n",
       "font-weight: bold;\n",
       "font-family: monospace;\n",
       "margin-left: 1em;\n",
       "}\n",
       ".mono {\n",
       "font-family: monospace;\n",
       "display: block;\n",
       "}\n",
       ".err-msg {\n",
       "color: red;\n",
       "font-style: italic;\n",
       "font-family: monospace;\n",
       "white-space: pre;\n",
       "display: block;\n",
       "}\n",
       "#unshowable {\n",
       "color: red;\n",
       "font-weight: bold;\n",
       "}\n",
       ".err-msg.in.collapse {\n",
       "padding-top: 0.7em;\n",
       "}\n",
       ".highlight-code {\n",
       "white-space: pre;\n",
       "font-family: monospace;\n",
       "}\n",
       ".suggestion-warning { \n",
       "font-weight: bold;\n",
       "color: rgb(200, 130, 0);\n",
       "}\n",
       ".suggestion-error { \n",
       "font-weight: bold;\n",
       "color: red;\n",
       "}\n",
       ".suggestion-name {\n",
       "font-weight: bold;\n",
       "}\n",
       "</style><span class='get-type'>fmap (++) (Just \"hey\") :: Maybe ([Char] -> [Char])</span>"
      ],
      "text/plain": [
       "fmap (++) (Just \"hey\") :: Maybe ([Char] -> [Char])"
      ]
     },
     "metadata": {},
     "output_type": "display_data"
    },
    {
     "data": {
      "text/html": [
       "<style>/* Styles used for the Hoogle display in the pager */\n",
       ".hoogle-doc {\n",
       "display: block;\n",
       "padding-bottom: 1.3em;\n",
       "padding-left: 0.4em;\n",
       "}\n",
       ".hoogle-code {\n",
       "display: block;\n",
       "font-family: monospace;\n",
       "white-space: pre;\n",
       "}\n",
       ".hoogle-text {\n",
       "display: block;\n",
       "}\n",
       ".hoogle-name {\n",
       "color: green;\n",
       "font-weight: bold;\n",
       "}\n",
       ".hoogle-head {\n",
       "font-weight: bold;\n",
       "}\n",
       ".hoogle-sub {\n",
       "display: block;\n",
       "margin-left: 0.4em;\n",
       "}\n",
       ".hoogle-package {\n",
       "font-weight: bold;\n",
       "font-style: italic;\n",
       "}\n",
       ".hoogle-module {\n",
       "font-weight: bold;\n",
       "}\n",
       ".hoogle-class {\n",
       "font-weight: bold;\n",
       "}\n",
       ".get-type {\n",
       "color: green;\n",
       "font-weight: bold;\n",
       "font-family: monospace;\n",
       "display: block;\n",
       "white-space: pre-wrap;\n",
       "}\n",
       ".show-type {\n",
       "color: green;\n",
       "font-weight: bold;\n",
       "font-family: monospace;\n",
       "margin-left: 1em;\n",
       "}\n",
       ".mono {\n",
       "font-family: monospace;\n",
       "display: block;\n",
       "}\n",
       ".err-msg {\n",
       "color: red;\n",
       "font-style: italic;\n",
       "font-family: monospace;\n",
       "white-space: pre;\n",
       "display: block;\n",
       "}\n",
       "#unshowable {\n",
       "color: red;\n",
       "font-weight: bold;\n",
       "}\n",
       ".err-msg.in.collapse {\n",
       "padding-top: 0.7em;\n",
       "}\n",
       ".highlight-code {\n",
       "white-space: pre;\n",
       "font-family: monospace;\n",
       "}\n",
       ".suggestion-warning { \n",
       "font-weight: bold;\n",
       "color: rgb(200, 130, 0);\n",
       "}\n",
       ".suggestion-error { \n",
       "font-weight: bold;\n",
       "color: red;\n",
       "}\n",
       ".suggestion-name {\n",
       "font-weight: bold;\n",
       "}\n",
       "</style><span class='get-type'>fmap compare (Just 'a') :: Maybe (Char -> Ordering)</span>"
      ],
      "text/plain": [
       "fmap compare (Just 'a') :: Maybe (Char -> Ordering)"
      ]
     },
     "metadata": {},
     "output_type": "display_data"
    },
    {
     "data": {
      "text/html": [
       "<style>/* Styles used for the Hoogle display in the pager */\n",
       ".hoogle-doc {\n",
       "display: block;\n",
       "padding-bottom: 1.3em;\n",
       "padding-left: 0.4em;\n",
       "}\n",
       ".hoogle-code {\n",
       "display: block;\n",
       "font-family: monospace;\n",
       "white-space: pre;\n",
       "}\n",
       ".hoogle-text {\n",
       "display: block;\n",
       "}\n",
       ".hoogle-name {\n",
       "color: green;\n",
       "font-weight: bold;\n",
       "}\n",
       ".hoogle-head {\n",
       "font-weight: bold;\n",
       "}\n",
       ".hoogle-sub {\n",
       "display: block;\n",
       "margin-left: 0.4em;\n",
       "}\n",
       ".hoogle-package {\n",
       "font-weight: bold;\n",
       "font-style: italic;\n",
       "}\n",
       ".hoogle-module {\n",
       "font-weight: bold;\n",
       "}\n",
       ".hoogle-class {\n",
       "font-weight: bold;\n",
       "}\n",
       ".get-type {\n",
       "color: green;\n",
       "font-weight: bold;\n",
       "font-family: monospace;\n",
       "display: block;\n",
       "white-space: pre-wrap;\n",
       "}\n",
       ".show-type {\n",
       "color: green;\n",
       "font-weight: bold;\n",
       "font-family: monospace;\n",
       "margin-left: 1em;\n",
       "}\n",
       ".mono {\n",
       "font-family: monospace;\n",
       "display: block;\n",
       "}\n",
       ".err-msg {\n",
       "color: red;\n",
       "font-style: italic;\n",
       "font-family: monospace;\n",
       "white-space: pre;\n",
       "display: block;\n",
       "}\n",
       "#unshowable {\n",
       "color: red;\n",
       "font-weight: bold;\n",
       "}\n",
       ".err-msg.in.collapse {\n",
       "padding-top: 0.7em;\n",
       "}\n",
       ".highlight-code {\n",
       "white-space: pre;\n",
       "font-family: monospace;\n",
       "}\n",
       ".suggestion-warning { \n",
       "font-weight: bold;\n",
       "color: rgb(200, 130, 0);\n",
       "}\n",
       ".suggestion-error { \n",
       "font-weight: bold;\n",
       "color: red;\n",
       "}\n",
       ".suggestion-name {\n",
       "font-weight: bold;\n",
       "}\n",
       "</style><span class='get-type'>fmap compare \"A LIST OF CHARS\" :: [Char -> Ordering]</span>"
      ],
      "text/plain": [
       "fmap compare \"A LIST OF CHARS\" :: [Char -> Ordering]"
      ]
     },
     "metadata": {},
     "output_type": "display_data"
    },
    {
     "data": {
      "text/html": [
       "<style>/* Styles used for the Hoogle display in the pager */\n",
       ".hoogle-doc {\n",
       "display: block;\n",
       "padding-bottom: 1.3em;\n",
       "padding-left: 0.4em;\n",
       "}\n",
       ".hoogle-code {\n",
       "display: block;\n",
       "font-family: monospace;\n",
       "white-space: pre;\n",
       "}\n",
       ".hoogle-text {\n",
       "display: block;\n",
       "}\n",
       ".hoogle-name {\n",
       "color: green;\n",
       "font-weight: bold;\n",
       "}\n",
       ".hoogle-head {\n",
       "font-weight: bold;\n",
       "}\n",
       ".hoogle-sub {\n",
       "display: block;\n",
       "margin-left: 0.4em;\n",
       "}\n",
       ".hoogle-package {\n",
       "font-weight: bold;\n",
       "font-style: italic;\n",
       "}\n",
       ".hoogle-module {\n",
       "font-weight: bold;\n",
       "}\n",
       ".hoogle-class {\n",
       "font-weight: bold;\n",
       "}\n",
       ".get-type {\n",
       "color: green;\n",
       "font-weight: bold;\n",
       "font-family: monospace;\n",
       "display: block;\n",
       "white-space: pre-wrap;\n",
       "}\n",
       ".show-type {\n",
       "color: green;\n",
       "font-weight: bold;\n",
       "font-family: monospace;\n",
       "margin-left: 1em;\n",
       "}\n",
       ".mono {\n",
       "font-family: monospace;\n",
       "display: block;\n",
       "}\n",
       ".err-msg {\n",
       "color: red;\n",
       "font-style: italic;\n",
       "font-family: monospace;\n",
       "white-space: pre;\n",
       "display: block;\n",
       "}\n",
       "#unshowable {\n",
       "color: red;\n",
       "font-weight: bold;\n",
       "}\n",
       ".err-msg.in.collapse {\n",
       "padding-top: 0.7em;\n",
       "}\n",
       ".highlight-code {\n",
       "white-space: pre;\n",
       "font-family: monospace;\n",
       "}\n",
       ".suggestion-warning { \n",
       "font-weight: bold;\n",
       "color: rgb(200, 130, 0);\n",
       "}\n",
       ".suggestion-error { \n",
       "font-weight: bold;\n",
       "color: red;\n",
       "}\n",
       ".suggestion-name {\n",
       "font-weight: bold;\n",
       "}\n",
       "</style><span class='get-type'>fmap (\\x y z -> x + y / z) [3,4,5,6] :: forall a. Fractional a => [a -> a -> a]</span>"
      ],
      "text/plain": [
       "fmap (\\x y z -> x + y / z) [3,4,5,6] :: forall a. Fractional a => [a -> a -> a]"
      ]
     },
     "metadata": {},
     "output_type": "display_data"
    }
   ],
   "source": [
    "-- 펑터 내의 값에 인자 n개를 받는 함수를 적용하여, 인자 n-1개를 받는 함수가 반환된다\n",
    "\n",
    ":t fmap (++) (Just \"hey\")\n",
    ":t fmap compare (Just 'a')  \n",
    ":t fmap compare \"A LIST OF CHARS\"\n",
    ":t fmap (\\x y z -> x + y / z) [3,4,5,6]  "
   ]
  },
  {
   "cell_type": "markdown",
   "id": "9a69fa36-32f8-4886-926e-07f098e21a74",
   "metadata": {},
   "source": [
    "펑터값에 \"여러 매개변수\" 함수들을 매핑하는 방법을 통해 함수를 포함하는 펑터 값들을 얻을 수 있다"
   ]
  },
  {
   "cell_type": "code",
   "execution_count": 37,
   "id": "4fa85896-b925-4d65-ae0d-4fc725c24fe9",
   "metadata": {},
   "outputs": [
    {
     "data": {
      "text/html": [
       "<style>/* Styles used for the Hoogle display in the pager */\n",
       ".hoogle-doc {\n",
       "display: block;\n",
       "padding-bottom: 1.3em;\n",
       "padding-left: 0.4em;\n",
       "}\n",
       ".hoogle-code {\n",
       "display: block;\n",
       "font-family: monospace;\n",
       "white-space: pre;\n",
       "}\n",
       ".hoogle-text {\n",
       "display: block;\n",
       "}\n",
       ".hoogle-name {\n",
       "color: green;\n",
       "font-weight: bold;\n",
       "}\n",
       ".hoogle-head {\n",
       "font-weight: bold;\n",
       "}\n",
       ".hoogle-sub {\n",
       "display: block;\n",
       "margin-left: 0.4em;\n",
       "}\n",
       ".hoogle-package {\n",
       "font-weight: bold;\n",
       "font-style: italic;\n",
       "}\n",
       ".hoogle-module {\n",
       "font-weight: bold;\n",
       "}\n",
       ".hoogle-class {\n",
       "font-weight: bold;\n",
       "}\n",
       ".get-type {\n",
       "color: green;\n",
       "font-weight: bold;\n",
       "font-family: monospace;\n",
       "display: block;\n",
       "white-space: pre-wrap;\n",
       "}\n",
       ".show-type {\n",
       "color: green;\n",
       "font-weight: bold;\n",
       "font-family: monospace;\n",
       "margin-left: 1em;\n",
       "}\n",
       ".mono {\n",
       "font-family: monospace;\n",
       "display: block;\n",
       "}\n",
       ".err-msg {\n",
       "color: red;\n",
       "font-style: italic;\n",
       "font-family: monospace;\n",
       "white-space: pre;\n",
       "display: block;\n",
       "}\n",
       "#unshowable {\n",
       "color: red;\n",
       "font-weight: bold;\n",
       "}\n",
       ".err-msg.in.collapse {\n",
       "padding-top: 0.7em;\n",
       "}\n",
       ".highlight-code {\n",
       "white-space: pre;\n",
       "font-family: monospace;\n",
       "}\n",
       ".suggestion-warning { \n",
       "font-weight: bold;\n",
       "color: rgb(200, 130, 0);\n",
       "}\n",
       ".suggestion-error { \n",
       "font-weight: bold;\n",
       "color: red;\n",
       "}\n",
       ".suggestion-name {\n",
       "font-weight: bold;\n",
       "}\n",
       "</style><span class='get-type'>a :: forall a. (Num a, Enum a) => [a -> a]</span>"
      ],
      "text/plain": [
       "a :: forall a. (Num a, Enum a) => [a -> a]"
      ]
     },
     "metadata": {},
     "output_type": "display_data"
    },
    {
     "data": {
      "text/plain": [
       "[9,18,27,36]"
      ]
     },
     "metadata": {},
     "output_type": "display_data"
    }
   ],
   "source": [
    "a = fmap (*) [1..4]\n",
    ":t a\n",
    "fmap (\\f -> f 9) a -- 함수가 인자로 전달되었다"
   ]
  },
  {
   "cell_type": "markdown",
   "id": "f9709928-fd68-4edc-8ee7-26c487c5844b",
   "metadata": {},
   "source": [
    "## Applicative\n",
    "\n",
    "위 타입 클래스는 두 개의 함수를 가진다"
   ]
  },
  {
   "cell_type": "code",
   "execution_count": 40,
   "id": "1f40628c-00ed-4285-9109-b3b58178e473",
   "metadata": {},
   "outputs": [
    {
     "data": {},
     "metadata": {},
     "output_type": "display_data"
    },
    {
     "data": {
      "text/html": [
       "<div style='background: rgb(247, 247, 247);'><form><textarea id='code'>type Applicative :: (* -> *) -> Constraint\n",
       "class Functor f => Applicative f where\n",
       "  pure :: a -> f a\n",
       "  (<*>) :: f (a -> b) -> f a -> f b\n",
       "  GHC.Base.liftA2 :: (a -> b -> c) -> f a -> f b -> f c\n",
       "  (*>) :: f a -> f b -> f b\n",
       "  (<*) :: f a -> f b -> f a\n",
       "  {-# MINIMAL pure, ((<*>) | liftA2) #-}\n",
       "  \t-- Defined in ‘GHC.Base’\n",
       "instance Applicative (Either e) -- Defined in ‘Data.Either’\n",
       "instance Applicative IHaskellTH.Q -- Defined in ‘Language.Haskell.TH.Syntax’\n",
       "instance Applicative [] -- Defined in ‘GHC.Base’\n",
       "instance Applicative Maybe -- Defined in ‘GHC.Base’\n",
       "instance Applicative IO -- Defined in ‘GHC.Base’\n",
       "instance Applicative ((->) r) -- Defined in ‘GHC.Base’\n",
       "instance (Monoid a, Monoid b, Monoid c) => Applicative ((,,,) a b c) -- Defined in ‘GHC.Base’\n",
       "instance (Monoid a, Monoid b) => Applicative ((,,) a b) -- Defined in ‘GHC.Base’\n",
       "instance Monoid a => Applicative ((,) a) -- Defined in ‘GHC.Base’\n",
       "</textarea></form></div><script>CodeMirror.fromTextArea(document.getElementById('code'), {mode: 'haskell', readOnly: 'nocursor'});</script>"
      ],
      "text/plain": [
       "type Applicative :: (* -> *) -> Constraint\n",
       "class Functor f => Applicative f where\n",
       "  pure :: a -> f a\n",
       "  (<*>) :: f (a -> b) -> f a -> f b\n",
       "  GHC.Base.liftA2 :: (a -> b -> c) -> f a -> f b -> f c\n",
       "  (*>) :: f a -> f b -> f b\n",
       "  (<*) :: f a -> f b -> f a\n",
       "  {-# MINIMAL pure, ((<*>) | liftA2) #-}\n",
       "  \t-- Defined in ‘GHC.Base’\n",
       "instance Applicative (Either e) -- Defined in ‘Data.Either’\n",
       "instance Applicative IHaskellTH.Q -- Defined in ‘Language.Haskell.TH.Syntax’\n",
       "instance Applicative [] -- Defined in ‘GHC.Base’\n",
       "instance Applicative Maybe -- Defined in ‘GHC.Base’\n",
       "instance Applicative IO -- Defined in ‘GHC.Base’\n",
       "instance Applicative ((->) r) -- Defined in ‘GHC.Base’\n",
       "instance (Monoid a, Monoid b, Monoid c) => Applicative ((,,,) a b c) -- Defined in ‘GHC.Base’\n",
       "instance (Monoid a, Monoid b) => Applicative ((,,) a b) -- Defined in ‘GHC.Base’\n",
       "instance Monoid a => Applicative ((,) a) -- Defined in ‘GHC.Base’"
      ]
     },
     "metadata": {},
     "output_type": "display_data"
    }
   ],
   "source": [
    ":info Applicative\n",
    "\n",
    "-- pure와 <*>"
   ]
  },
  {
   "cell_type": "markdown",
   "id": "84139a84-37cf-40d5-8915-0025cad976f2",
   "metadata": {},
   "source": [
    "Applicative 타입 클래스의 어떤 타입 생성자 부분을 만들고자 한다면, 먼저 Functor가 되어야한다.\n",
    "\n",
    "### `pure :: a -> f a`\n",
    "\n",
    "값을 받으면 해당 값으로 어플리커티브 값을 반환해야한다. 값을 받아 컨텍스트를 부여한다고 보면됨.\n",
    "\n",
    "---\n",
    "\n",
    "### `<*> :: f (a -> b) -> f a  -> f b`\n",
    "\n",
    "Functor의 `fmap :: (a -> b) -> f a -> f b` 와 비슷하다. fmap이 함수와 펑터 값을 받아서, 펑터 값 안에 함수를 적용했다면, <*>은 함수를 가진 펑터값와 함수의 인자타입의 값을 가진 펑터 값을 받아, 첫번째 인자에서 함수를 추출하여 두번째 펑터 값 안에 적용했다\n",
    "\n"
   ]
  },
  {
   "cell_type": "code",
   "execution_count": 43,
   "id": "8f04b26a-6614-4035-9dbe-de5fe4e05090",
   "metadata": {},
   "outputs": [
    {
     "data": {},
     "metadata": {},
     "output_type": "display_data"
    },
    {
     "ename": "",
     "evalue": "",
     "header": "MessageHeader {mhIdentifiers = [\"a44b0fe5-24c5-419c-8e23-48bb64fa86e9\"], mhParentHeader = Just (MessageHeader {mhIdentifiers = [\"a44b0fe5-24c5-419c-8e23-48bb64fa86e9\"], mhParentHeader = Nothing, mhMetadata = Metadata (fromList [(\"recordTiming\",Bool False),(\"deletedCells\",Array []),(\"cellId\",String \"8f04b26a-6614-4035-9dbe-de5fe4e05090\")]), mhMessageId = UUID {uuidToString = \"118c4264-3c15-458b-8631-602330a31530\"}, mhSessionId = UUID {uuidToString = \"a44b0fe5-24c5-419c-8e23-48bb64fa86e9\"}, mhUsername = \"\", mhMsgType = ExecuteRequestMessage, mhBuffers = []}), mhMetadata = Metadata (fromList []), mhMessageId = UUID {uuidToString = \"dda54df8-14e0-4e99-893e-21add7aa8524\"}, mhSessionId = UUID {uuidToString = \"a44b0fe5-24c5-419c-8e23-48bb64fa86e9\"}, mhUsername = \"\", mhMsgType = ExecuteErrorMessage, mhBuffers = []}",
     "output_type": "error",
     "traceback": [
      "<interactive>:1:10: error:\n    Duplicate instance declarations:\n      instance Applicative Maybe -- Defined at <interactive>:1:10\n      instance Applicative Maybe -- Defined in ‘GHC.Base’"
     ]
    },
    {
     "data": {
      "text/html": [
       "<div style='background: rgb(247, 247, 247);'><form><textarea id='code'>type Maybe :: * -> *\n",
       "data Maybe a = Nothing | Just a\n",
       "  \t-- Defined in ‘GHC.Maybe’\n",
       "instance Functor Maybe -- Defined in ‘GHC.Base’\n",
       "instance Show a => Show (Maybe a) -- Defined in ‘GHC.Show’\n",
       "instance Eq a => Eq (Maybe a) -- Defined in ‘GHC.Maybe’\n",
       "instance Semigroup a => Monoid (Maybe a) -- Defined in ‘GHC.Base’\n",
       "instance Ord a => Ord (Maybe a) -- Defined in ‘GHC.Maybe’\n",
       "instance Semigroup a => Semigroup (Maybe a) -- Defined in ‘GHC.Base’\n",
       "instance Read a => Read (Maybe a) -- Defined in ‘GHC.Read’\n",
       "instance Applicative Maybe -- Defined in ‘GHC.Base’\n",
       "instance Foldable Maybe -- Defined in ‘Data.Foldable’\n",
       "instance Monad Maybe -- Defined in ‘GHC.Base’\n",
       "instance MonadFail Maybe -- Defined in ‘Control.Monad.Fail’\n",
       "instance Traversable Maybe -- Defined in ‘Data.Traversable’\n",
       "</textarea></form></div><script>CodeMirror.fromTextArea(document.getElementById('code'), {mode: 'haskell', readOnly: 'nocursor'});</script>"
      ],
      "text/plain": [
       "type Maybe :: * -> *\n",
       "data Maybe a = Nothing | Just a\n",
       "  \t-- Defined in ‘GHC.Maybe’\n",
       "instance Functor Maybe -- Defined in ‘GHC.Base’\n",
       "instance Show a => Show (Maybe a) -- Defined in ‘GHC.Show’\n",
       "instance Eq a => Eq (Maybe a) -- Defined in ‘GHC.Maybe’\n",
       "instance Semigroup a => Monoid (Maybe a) -- Defined in ‘GHC.Base’\n",
       "instance Ord a => Ord (Maybe a) -- Defined in ‘GHC.Maybe’\n",
       "instance Semigroup a => Semigroup (Maybe a) -- Defined in ‘GHC.Base’\n",
       "instance Read a => Read (Maybe a) -- Defined in ‘GHC.Read’\n",
       "instance Applicative Maybe -- Defined in ‘GHC.Base’\n",
       "instance Foldable Maybe -- Defined in ‘Data.Foldable’\n",
       "instance Monad Maybe -- Defined in ‘GHC.Base’\n",
       "instance MonadFail Maybe -- Defined in ‘Control.Monad.Fail’\n",
       "instance Traversable Maybe -- Defined in ‘Data.Traversable’"
      ]
     },
     "metadata": {},
     "output_type": "display_data"
    }
   ],
   "source": [
    ":info Maybe\n",
    "-- instance Applicative Maybe -- Defined in ‘GHC.Base’\n",
    "\n",
    "instance Applicative Maybe where\n",
    "    pure = Just -- point free\n",
    "    Nothing <*> _ = Nothing\n",
    "    (Just f) <*> somthing = fmap f somthing \n",
    "    -- 함수를 추출하여 Functor에 정의된 fmap을 활용\n",
    "    -- 마치 상속된 클래스 같다.\n",
    "    -- 맞다 사실 typeclass subclass 이다"
   ]
  },
  {
   "cell_type": "code",
   "execution_count": 48,
   "id": "7122ae31-e75e-4f1e-b3ba-fc5b15a82036",
   "metadata": {},
   "outputs": [
    {
     "data": {
      "text/html": [
       "<style>/* Styles used for the Hoogle display in the pager */\n",
       ".hoogle-doc {\n",
       "display: block;\n",
       "padding-bottom: 1.3em;\n",
       "padding-left: 0.4em;\n",
       "}\n",
       ".hoogle-code {\n",
       "display: block;\n",
       "font-family: monospace;\n",
       "white-space: pre;\n",
       "}\n",
       ".hoogle-text {\n",
       "display: block;\n",
       "}\n",
       ".hoogle-name {\n",
       "color: green;\n",
       "font-weight: bold;\n",
       "}\n",
       ".hoogle-head {\n",
       "font-weight: bold;\n",
       "}\n",
       ".hoogle-sub {\n",
       "display: block;\n",
       "margin-left: 0.4em;\n",
       "}\n",
       ".hoogle-package {\n",
       "font-weight: bold;\n",
       "font-style: italic;\n",
       "}\n",
       ".hoogle-module {\n",
       "font-weight: bold;\n",
       "}\n",
       ".hoogle-class {\n",
       "font-weight: bold;\n",
       "}\n",
       ".get-type {\n",
       "color: green;\n",
       "font-weight: bold;\n",
       "font-family: monospace;\n",
       "display: block;\n",
       "white-space: pre-wrap;\n",
       "}\n",
       ".show-type {\n",
       "color: green;\n",
       "font-weight: bold;\n",
       "font-family: monospace;\n",
       "margin-left: 1em;\n",
       "}\n",
       ".mono {\n",
       "font-family: monospace;\n",
       "display: block;\n",
       "}\n",
       ".err-msg {\n",
       "color: red;\n",
       "font-style: italic;\n",
       "font-family: monospace;\n",
       "white-space: pre;\n",
       "display: block;\n",
       "}\n",
       "#unshowable {\n",
       "color: red;\n",
       "font-weight: bold;\n",
       "}\n",
       ".err-msg.in.collapse {\n",
       "padding-top: 0.7em;\n",
       "}\n",
       ".highlight-code {\n",
       "white-space: pre;\n",
       "font-family: monospace;\n",
       "}\n",
       ".suggestion-warning { \n",
       "font-weight: bold;\n",
       "color: rgb(200, 130, 0);\n",
       "}\n",
       ".suggestion-error { \n",
       "font-weight: bold;\n",
       "color: red;\n",
       "}\n",
       ".suggestion-name {\n",
       "font-weight: bold;\n",
       "}\n",
       "</style><div class=\"suggestion-name\" style=\"clear:both;\">Use <$></div><div class=\"suggestion-row\" style=\"float: left;\"><div class=\"suggestion-warning\">Found:</div><div class=\"highlight-code\" id=\"haskell\">pure (+ 3) <*> Just 10</div></div><div class=\"suggestion-row\" style=\"float: left;\"><div class=\"suggestion-warning\">Why Not:</div><div class=\"highlight-code\" id=\"haskell\">(+ 3) <$> Just 10</div></div><div class=\"suggestion-name\" style=\"clear:both;\">Use <$></div><div class=\"suggestion-row\" style=\"float: left;\"><div class=\"suggestion-warning\">Found:</div><div class=\"highlight-code\" id=\"haskell\">pure (+ 3) <*> Just 9</div></div><div class=\"suggestion-row\" style=\"float: left;\"><div class=\"suggestion-warning\">Why Not:</div><div class=\"highlight-code\" id=\"haskell\">(+ 3) <$> Just 9</div></div>"
      ],
      "text/plain": [
       "Line 2: Use <$>\n",
       "Found:\n",
       "pure (+ 3) <*> Just 10\n",
       "Why not:\n",
       "(+ 3) <$> Just 10Line 3: Use <$>\n",
       "Found:\n",
       "pure (+ 3) <*> Just 9\n",
       "Why not:\n",
       "(+ 3) <$> Just 9"
      ]
     },
     "metadata": {},
     "output_type": "display_data"
    },
    {
     "data": {
      "text/plain": [
       "Just 12"
      ]
     },
     "metadata": {},
     "output_type": "display_data"
    },
    {
     "data": {
      "text/plain": [
       "Just 13"
      ]
     },
     "metadata": {},
     "output_type": "display_data"
    },
    {
     "data": {
      "text/plain": [
       "Just 12"
      ]
     },
     "metadata": {},
     "output_type": "display_data"
    },
    {
     "data": {
      "text/plain": [
       "Nothing"
      ]
     },
     "metadata": {},
     "output_type": "display_data"
    },
    {
     "data": {
      "text/plain": [
       "Nothing"
      ]
     },
     "metadata": {},
     "output_type": "display_data"
    }
   ],
   "source": [
    "Just (+3) <*> Just 9\n",
    "pure (+3) <*> Just 10 -- pure로 컨텍스트를 씌운후 <*>로 추출\n",
    "pure (+3) <*> Just 9\n",
    "Just (++\"hahah\") <*> Nothing  \n",
    "Nothing <*> Just \"woot\" -- Nothing에서 함수를 추출해와도 아무것도 없기 때문에 Nothing이 계산 값이 됨"
   ]
  },
  {
   "cell_type": "code",
   "execution_count": 50,
   "id": "e3045c8b-fe1c-4e12-b32b-562f7e5aa89d",
   "metadata": {},
   "outputs": [
    {
     "data": {
      "text/html": [
       "<style>/* Styles used for the Hoogle display in the pager */\n",
       ".hoogle-doc {\n",
       "display: block;\n",
       "padding-bottom: 1.3em;\n",
       "padding-left: 0.4em;\n",
       "}\n",
       ".hoogle-code {\n",
       "display: block;\n",
       "font-family: monospace;\n",
       "white-space: pre;\n",
       "}\n",
       ".hoogle-text {\n",
       "display: block;\n",
       "}\n",
       ".hoogle-name {\n",
       "color: green;\n",
       "font-weight: bold;\n",
       "}\n",
       ".hoogle-head {\n",
       "font-weight: bold;\n",
       "}\n",
       ".hoogle-sub {\n",
       "display: block;\n",
       "margin-left: 0.4em;\n",
       "}\n",
       ".hoogle-package {\n",
       "font-weight: bold;\n",
       "font-style: italic;\n",
       "}\n",
       ".hoogle-module {\n",
       "font-weight: bold;\n",
       "}\n",
       ".hoogle-class {\n",
       "font-weight: bold;\n",
       "}\n",
       ".get-type {\n",
       "color: green;\n",
       "font-weight: bold;\n",
       "font-family: monospace;\n",
       "display: block;\n",
       "white-space: pre-wrap;\n",
       "}\n",
       ".show-type {\n",
       "color: green;\n",
       "font-weight: bold;\n",
       "font-family: monospace;\n",
       "margin-left: 1em;\n",
       "}\n",
       ".mono {\n",
       "font-family: monospace;\n",
       "display: block;\n",
       "}\n",
       ".err-msg {\n",
       "color: red;\n",
       "font-style: italic;\n",
       "font-family: monospace;\n",
       "white-space: pre;\n",
       "display: block;\n",
       "}\n",
       "#unshowable {\n",
       "color: red;\n",
       "font-weight: bold;\n",
       "}\n",
       ".err-msg.in.collapse {\n",
       "padding-top: 0.7em;\n",
       "}\n",
       ".highlight-code {\n",
       "white-space: pre;\n",
       "font-family: monospace;\n",
       "}\n",
       ".suggestion-warning { \n",
       "font-weight: bold;\n",
       "color: rgb(200, 130, 0);\n",
       "}\n",
       ".suggestion-error { \n",
       "font-weight: bold;\n",
       "color: red;\n",
       "}\n",
       ".suggestion-name {\n",
       "font-weight: bold;\n",
       "}\n",
       "</style><div class=\"suggestion-name\" style=\"clear:both;\">Use <$></div><div class=\"suggestion-row\" style=\"float: left;\"><div class=\"suggestion-warning\">Found:</div><div class=\"highlight-code\" id=\"haskell\">pure (+) <*> Just 3</div></div><div class=\"suggestion-row\" style=\"float: left;\"><div class=\"suggestion-warning\">Why Not:</div><div class=\"highlight-code\" id=\"haskell\">(+) <$> Just 3</div></div>"
      ],
      "text/plain": [
       "Line 1: Use <$>\n",
       "Found:\n",
       "pure (+) <*> Just 3\n",
       "Why not:\n",
       "(+) <$> Just 3"
      ]
     },
     "metadata": {},
     "output_type": "display_data"
    },
    {
     "data": {
      "text/plain": [
       "Just 8"
      ]
     },
     "metadata": {},
     "output_type": "display_data"
    }
   ],
   "source": [
    "(pure (+) <*> Just 3) <*> Just 5\n",
    "-- 왼쪽 연관 함수이다"
   ]
  },
  {
   "cell_type": "markdown",
   "id": "9d4ac243-0f5b-4621-90e7-869c8d51cf0e",
   "metadata": {},
   "source": [
    "Applicative functors and the applicative style of doing pure f <*> x <*> y <*> ... allow us to take a function that expects parameters that aren't necessarily wrapped in functors and use that function to operate on several values that are in functor contexts.\n",
    "\n",
    "어플리커티브 펑터와 `pure f <*> x <*> y <*> ...` 의 어플리커티브 스타일은 어플리커티브 값이 아닌 매개변수를 받는 함수를 받아서 여러 개의 어플리커티브 값들에서 동작하기 위해 그 함수를 사용할 수 있게 해준다.\n",
    "\n",
    "`pure f <*> x <*> y <*> ...` 대신 `fmap f x <*> y <*> ...`를 사용할 수 있다."
   ]
  },
  {
   "cell_type": "code",
   "execution_count": 56,
   "id": "b119bf02-08bf-4264-ae46-f54ef6846ab9",
   "metadata": {},
   "outputs": [
    {
     "data": {
      "text/html": [
       "<style>/* Styles used for the Hoogle display in the pager */\n",
       ".hoogle-doc {\n",
       "display: block;\n",
       "padding-bottom: 1.3em;\n",
       "padding-left: 0.4em;\n",
       "}\n",
       ".hoogle-code {\n",
       "display: block;\n",
       "font-family: monospace;\n",
       "white-space: pre;\n",
       "}\n",
       ".hoogle-text {\n",
       "display: block;\n",
       "}\n",
       ".hoogle-name {\n",
       "color: green;\n",
       "font-weight: bold;\n",
       "}\n",
       ".hoogle-head {\n",
       "font-weight: bold;\n",
       "}\n",
       ".hoogle-sub {\n",
       "display: block;\n",
       "margin-left: 0.4em;\n",
       "}\n",
       ".hoogle-package {\n",
       "font-weight: bold;\n",
       "font-style: italic;\n",
       "}\n",
       ".hoogle-module {\n",
       "font-weight: bold;\n",
       "}\n",
       ".hoogle-class {\n",
       "font-weight: bold;\n",
       "}\n",
       ".get-type {\n",
       "color: green;\n",
       "font-weight: bold;\n",
       "font-family: monospace;\n",
       "display: block;\n",
       "white-space: pre-wrap;\n",
       "}\n",
       ".show-type {\n",
       "color: green;\n",
       "font-weight: bold;\n",
       "font-family: monospace;\n",
       "margin-left: 1em;\n",
       "}\n",
       ".mono {\n",
       "font-family: monospace;\n",
       "display: block;\n",
       "}\n",
       ".err-msg {\n",
       "color: red;\n",
       "font-style: italic;\n",
       "font-family: monospace;\n",
       "white-space: pre;\n",
       "display: block;\n",
       "}\n",
       "#unshowable {\n",
       "color: red;\n",
       "font-weight: bold;\n",
       "}\n",
       ".err-msg.in.collapse {\n",
       "padding-top: 0.7em;\n",
       "}\n",
       ".highlight-code {\n",
       "white-space: pre;\n",
       "font-family: monospace;\n",
       "}\n",
       ".suggestion-warning { \n",
       "font-weight: bold;\n",
       "color: rgb(200, 130, 0);\n",
       "}\n",
       ".suggestion-error { \n",
       "font-weight: bold;\n",
       "color: red;\n",
       "}\n",
       ".suggestion-name {\n",
       "font-weight: bold;\n",
       "}\n",
       "</style><span class='get-type'>(<$>) :: forall (f :: * -> *) a b. Functor f => (a -> b) -> f a -> f b</span>"
      ],
      "text/plain": [
       "(<$>) :: forall (f :: * -> *) a b. Functor f => (a -> b) -> f a -> f b"
      ]
     },
     "metadata": {},
     "output_type": "display_data"
    }
   ],
   "source": [
    "import Control.Applicative\n",
    ":t  (<$>)\n",
    "-- fmap 의 중위연산자 버전이다\n",
    "-- f <$> x = fmap f x"
   ]
  },
  {
   "cell_type": "code",
   "execution_count": 58,
   "id": "1b481785-43c7-465b-a733-ee2c5aa7d186",
   "metadata": {},
   "outputs": [
    {
     "data": {
      "text/plain": [
       "Just \"johntravolta\""
      ]
     },
     "metadata": {},
     "output_type": "display_data"
    }
   ],
   "source": [
    "-- 세 개의 어플리커티브 값들 간에 함수를 적용하고 싶을 때\n",
    "-- f <$> x <*> y <*> z\n",
    "(++) <$> Just \"johntra\" <*> Just \"volta\""
   ]
  },
  {
   "cell_type": "code",
   "execution_count": 59,
   "id": "1fbdc604-e668-4a56-b0ab-1f0e13d5c03e",
   "metadata": {},
   "outputs": [
    {
     "data": {
      "text/plain": [
       "\"johntravolta\""
      ]
     },
     "metadata": {},
     "output_type": "display_data"
    }
   ],
   "source": [
    "(++) \"johntra\" \"volta\""
   ]
  },
  {
   "cell_type": "markdown",
   "id": "ca9c340b-3bbf-4e66-a7ae-07e1d70c68ce",
   "metadata": {},
   "source": [
    "## 리스트도 어플리커티브 펑터"
   ]
  },
  {
   "cell_type": "code",
   "execution_count": 61,
   "id": "9183ef0e-44a5-418f-aefb-117b6e92b26a",
   "metadata": {},
   "outputs": [
    {
     "data": {
      "text/plain": [
       "[\"Hey\"]"
      ]
     },
     "metadata": {},
     "output_type": "display_data"
    },
    {
     "data": {
      "text/plain": [
       "Just \"Hey\""
      ]
     },
     "metadata": {},
     "output_type": "display_data"
    }
   ],
   "source": [
    "pure \"Hey\" :: [String]\n",
    "pure \"Hey\" :: Maybe String"
   ]
  },
  {
   "cell_type": "code",
   "execution_count": 64,
   "id": "30be72fb-324f-48dc-9cd7-77a2b3bd8f55",
   "metadata": {},
   "outputs": [
    {
     "data": {
      "text/plain": [
       "[0,0,0,101,102,103,1,4,9]"
      ]
     },
     "metadata": {},
     "output_type": "display_data"
    },
    {
     "data": {
      "text/plain": [
       "[4,5,5,6,3,4,6,8]"
      ]
     },
     "metadata": {},
     "output_type": "display_data"
    }
   ],
   "source": [
    "-- []라는 컨텍스트에 있는 함수를 추출하여 두번째 펑터 값에 적용\n",
    "-- list comprehension과 같음\n",
    "[(*0), (+100), (^2)] <*> [1,2,3]\n",
    "[(+), (*)] <*> [1,2] <*> [3,4]"
   ]
  },
  {
   "cell_type": "code",
   "execution_count": 65,
   "id": "f09293ae-850f-4ad6-873d-71789c50397d",
   "metadata": {},
   "outputs": [
    {
     "data": {
      "text/plain": [
       "[\"ha?\",\"ha!\",\"ha.\",\"heh?\",\"heh!\",\"heh.\",\"hmm?\",\"hmm!\",\"hmm.\"]"
      ]
     },
     "metadata": {},
     "output_type": "display_data"
    }
   ],
   "source": [
    "(++) <$> [\"ha\",\"heh\",\"hmm\"] <*> [\"?\",\"!\",\".\"]  "
   ]
  },
  {
   "cell_type": "code",
   "execution_count": 67,
   "id": "b6ec8474-9a86-43f1-916f-319949e92013",
   "metadata": {},
   "outputs": [
    {
     "data": {
      "text/plain": [
       "[16,20,22,40,50,55,80,100,110]"
      ]
     },
     "metadata": {},
     "output_type": "display_data"
    },
    {
     "data": {
      "text/plain": [
       "[16,20,22,40,50,55,80,100,110]"
      ]
     },
     "metadata": {},
     "output_type": "display_data"
    }
   ],
   "source": [
    "-- list comprehension과 같음\n",
    "[ x*y | x <- [2,5,10], y <- [8,10,11]]    \n",
    "(*) <$> [2,5,10] <*> [8,10,11]  "
   ]
  },
  {
   "cell_type": "code",
   "execution_count": 68,
   "id": "15514cb3-6730-4142-9106-2b23fb40de75",
   "metadata": {},
   "outputs": [
    {
     "data": {
      "text/plain": [
       "[55,80,100,110]"
      ]
     },
     "metadata": {},
     "output_type": "display_data"
    }
   ],
   "source": [
    "filter (>50) $ (*) <$> [2,5,10] <*> [8,10,11]  "
   ]
  },
  {
   "cell_type": "markdown",
   "id": "26973fbe-ae22-4d89-b930-f8faf542383c",
   "metadata": {},
   "source": [
    "## IO 역시 어플리커티브 펑터"
   ]
  },
  {
   "cell_type": "code",
   "execution_count": null,
   "id": "43ddd5f8-2d9c-4ecf-83e9-7f53b25967f1",
   "metadata": {},
   "outputs": [],
   "source": [
    "instance Applicative IO where  \n",
    "    pure = return  \n",
    "    a <*> b = do  \n",
    "        -- do 구문은 여러 IO 동작을 받아 하나로 붙임을 기억하자\n",
    "        f <- a  -- 함수를 추출\n",
    "        x <- b  -- 값을 추출\n",
    "        return (f x)  -- 값에 함수를 적용한 후 컨텍스트 씌움"
   ]
  },
  {
   "cell_type": "code",
   "execution_count": 69,
   "id": "4298d88d-a231-4aaa-8068-2a2bcefed769",
   "metadata": {},
   "outputs": [],
   "source": [
    "myAction :: IO String\n",
    "myAction = do\n",
    "    a <- getLine\n",
    "    b <- getLine\n",
    "    return $ a ++ b"
   ]
  },
  {
   "cell_type": "code",
   "execution_count": 70,
   "id": "72b960b4-e1ec-4f67-8d40-a7f681f8e886",
   "metadata": {},
   "outputs": [],
   "source": [
    "myAction :: IO String\n",
    "myAction = (++) <$> getLine <*> getLine"
   ]
  },
  {
   "cell_type": "markdown",
   "id": "06507750-d170-499d-88d7-2aab3ec1615a",
   "metadata": {},
   "source": [
    "## 함수 또한 어플리커티브 펑터"
   ]
  },
  {
   "cell_type": "code",
   "execution_count": null,
   "id": "d8099498-358b-4e7e-9ce2-7a0b79a02604",
   "metadata": {},
   "outputs": [],
   "source": [
    "instance Applicative ((->) r) where  \n",
    "    -- 인자 타입이 고정된 컨텍스트\n",
    "    pure x = (\\_ -> x)  \n",
    "    -- pure함수는 해당 값을 돌려주는 컨텍스트\n",
    "    -- :: a -> r -> a\n",
    "    f <*> g = \\x -> f x (g x)  \n",
    "    -- f 는 r -> a -> b\n",
    "    -- g 는 r -> a\n",
    "    --\n",
    "    -- :: (->) r (a->b) -> (->) r a -> (->) r b\n",
    "    -- :: (r -> (a -> b)) -> (r -> a) -> (r -> b)"
   ]
  },
  {
   "cell_type": "code",
   "execution_count": 71,
   "id": "b75a479f-f977-432f-acab-f1f8db5ffcfc",
   "metadata": {},
   "outputs": [
    {
     "data": {
      "text/html": [
       "<style>/* Styles used for the Hoogle display in the pager */\n",
       ".hoogle-doc {\n",
       "display: block;\n",
       "padding-bottom: 1.3em;\n",
       "padding-left: 0.4em;\n",
       "}\n",
       ".hoogle-code {\n",
       "display: block;\n",
       "font-family: monospace;\n",
       "white-space: pre;\n",
       "}\n",
       ".hoogle-text {\n",
       "display: block;\n",
       "}\n",
       ".hoogle-name {\n",
       "color: green;\n",
       "font-weight: bold;\n",
       "}\n",
       ".hoogle-head {\n",
       "font-weight: bold;\n",
       "}\n",
       ".hoogle-sub {\n",
       "display: block;\n",
       "margin-left: 0.4em;\n",
       "}\n",
       ".hoogle-package {\n",
       "font-weight: bold;\n",
       "font-style: italic;\n",
       "}\n",
       ".hoogle-module {\n",
       "font-weight: bold;\n",
       "}\n",
       ".hoogle-class {\n",
       "font-weight: bold;\n",
       "}\n",
       ".get-type {\n",
       "color: green;\n",
       "font-weight: bold;\n",
       "font-family: monospace;\n",
       "display: block;\n",
       "white-space: pre-wrap;\n",
       "}\n",
       ".show-type {\n",
       "color: green;\n",
       "font-weight: bold;\n",
       "font-family: monospace;\n",
       "margin-left: 1em;\n",
       "}\n",
       ".mono {\n",
       "font-family: monospace;\n",
       "display: block;\n",
       "}\n",
       ".err-msg {\n",
       "color: red;\n",
       "font-style: italic;\n",
       "font-family: monospace;\n",
       "white-space: pre;\n",
       "display: block;\n",
       "}\n",
       "#unshowable {\n",
       "color: red;\n",
       "font-weight: bold;\n",
       "}\n",
       ".err-msg.in.collapse {\n",
       "padding-top: 0.7em;\n",
       "}\n",
       ".highlight-code {\n",
       "white-space: pre;\n",
       "font-family: monospace;\n",
       "}\n",
       ".suggestion-warning { \n",
       "font-weight: bold;\n",
       "color: rgb(200, 130, 0);\n",
       "}\n",
       ".suggestion-error { \n",
       "font-weight: bold;\n",
       "color: red;\n",
       "}\n",
       ".suggestion-name {\n",
       "font-weight: bold;\n",
       "}\n",
       "</style><div class=\"suggestion-name\" style=\"clear:both;\">Redundant $</div><div class=\"suggestion-row\" style=\"float: left;\"><div class=\"suggestion-warning\">Found:</div><div class=\"highlight-code\" id=\"haskell\">pure 3 $ \"blah\"</div></div><div class=\"suggestion-row\" style=\"float: left;\"><div class=\"suggestion-warning\">Why Not:</div><div class=\"highlight-code\" id=\"haskell\">pure 3 \"blah\"</div></div>"
      ],
      "text/plain": [
       "Line 1: Redundant $\n",
       "Found:\n",
       "pure 3 $ \"blah\"\n",
       "Why not:\n",
       "pure 3 \"blah\""
      ]
     },
     "metadata": {},
     "output_type": "display_data"
    },
    {
     "data": {
      "text/plain": [
       "3"
      ]
     },
     "metadata": {},
     "output_type": "display_data"
    }
   ],
   "source": [
    "pure 3 $ \"blah\""
   ]
  },
  {
   "cell_type": "code",
   "execution_count": 74,
   "id": "cefc5749-0b2a-4e3c-86d6-68abd82a5940",
   "metadata": {},
   "outputs": [
    {
     "data": {
      "text/html": [
       "<style>/* Styles used for the Hoogle display in the pager */\n",
       ".hoogle-doc {\n",
       "display: block;\n",
       "padding-bottom: 1.3em;\n",
       "padding-left: 0.4em;\n",
       "}\n",
       ".hoogle-code {\n",
       "display: block;\n",
       "font-family: monospace;\n",
       "white-space: pre;\n",
       "}\n",
       ".hoogle-text {\n",
       "display: block;\n",
       "}\n",
       ".hoogle-name {\n",
       "color: green;\n",
       "font-weight: bold;\n",
       "}\n",
       ".hoogle-head {\n",
       "font-weight: bold;\n",
       "}\n",
       ".hoogle-sub {\n",
       "display: block;\n",
       "margin-left: 0.4em;\n",
       "}\n",
       ".hoogle-package {\n",
       "font-weight: bold;\n",
       "font-style: italic;\n",
       "}\n",
       ".hoogle-module {\n",
       "font-weight: bold;\n",
       "}\n",
       ".hoogle-class {\n",
       "font-weight: bold;\n",
       "}\n",
       ".get-type {\n",
       "color: green;\n",
       "font-weight: bold;\n",
       "font-family: monospace;\n",
       "display: block;\n",
       "white-space: pre-wrap;\n",
       "}\n",
       ".show-type {\n",
       "color: green;\n",
       "font-weight: bold;\n",
       "font-family: monospace;\n",
       "margin-left: 1em;\n",
       "}\n",
       ".mono {\n",
       "font-family: monospace;\n",
       "display: block;\n",
       "}\n",
       ".err-msg {\n",
       "color: red;\n",
       "font-style: italic;\n",
       "font-family: monospace;\n",
       "white-space: pre;\n",
       "display: block;\n",
       "}\n",
       "#unshowable {\n",
       "color: red;\n",
       "font-weight: bold;\n",
       "}\n",
       ".err-msg.in.collapse {\n",
       "padding-top: 0.7em;\n",
       "}\n",
       ".highlight-code {\n",
       "white-space: pre;\n",
       "font-family: monospace;\n",
       "}\n",
       ".suggestion-warning { \n",
       "font-weight: bold;\n",
       "color: rgb(200, 130, 0);\n",
       "}\n",
       ".suggestion-error { \n",
       "font-weight: bold;\n",
       "color: red;\n",
       "}\n",
       ".suggestion-name {\n",
       "font-weight: bold;\n",
       "}\n",
       "</style><span class='get-type'>(+) <$> (+3) <*> (*100) :: forall b. Num b => b -> b</span>"
      ],
      "text/plain": [
       "(+) <$> (+3) <*> (*100) :: forall b. Num b => b -> b"
      ]
     },
     "metadata": {},
     "output_type": "display_data"
    },
    {
     "data": {
      "text/plain": [
       "508"
      ]
     },
     "metadata": {},
     "output_type": "display_data"
    }
   ],
   "source": [
    ":t (+) <$> (+3) <*> (*100)\n",
    "(+) <$> (+3) <*> (*100) $ 5\n",
    "-- \\x -> f x (g x)\n",
    "-- 5 -> f 5 (g 5)\n",
    "-- 5 -> f 5 (500)\n",
    "-- 5 -> (5 + 3) + (500)\n",
    "-- 5 -> 508"
   ]
  },
  {
   "cell_type": "code",
   "execution_count": 78,
   "id": "aaeb889b-fb11-43c1-8a87-f6207a6f0107",
   "metadata": {},
   "outputs": [
    {
     "data": {
      "text/plain": [
       "[8.0,10.0,2.5]"
      ]
     },
     "metadata": {},
     "output_type": "display_data"
    },
    {
     "data": {
      "text/html": [
       "<style>/* Styles used for the Hoogle display in the pager */\n",
       ".hoogle-doc {\n",
       "display: block;\n",
       "padding-bottom: 1.3em;\n",
       "padding-left: 0.4em;\n",
       "}\n",
       ".hoogle-code {\n",
       "display: block;\n",
       "font-family: monospace;\n",
       "white-space: pre;\n",
       "}\n",
       ".hoogle-text {\n",
       "display: block;\n",
       "}\n",
       ".hoogle-name {\n",
       "color: green;\n",
       "font-weight: bold;\n",
       "}\n",
       ".hoogle-head {\n",
       "font-weight: bold;\n",
       "}\n",
       ".hoogle-sub {\n",
       "display: block;\n",
       "margin-left: 0.4em;\n",
       "}\n",
       ".hoogle-package {\n",
       "font-weight: bold;\n",
       "font-style: italic;\n",
       "}\n",
       ".hoogle-module {\n",
       "font-weight: bold;\n",
       "}\n",
       ".hoogle-class {\n",
       "font-weight: bold;\n",
       "}\n",
       ".get-type {\n",
       "color: green;\n",
       "font-weight: bold;\n",
       "font-family: monospace;\n",
       "display: block;\n",
       "white-space: pre-wrap;\n",
       "}\n",
       ".show-type {\n",
       "color: green;\n",
       "font-weight: bold;\n",
       "font-family: monospace;\n",
       "margin-left: 1em;\n",
       "}\n",
       ".mono {\n",
       "font-family: monospace;\n",
       "display: block;\n",
       "}\n",
       ".err-msg {\n",
       "color: red;\n",
       "font-style: italic;\n",
       "font-family: monospace;\n",
       "white-space: pre;\n",
       "display: block;\n",
       "}\n",
       "#unshowable {\n",
       "color: red;\n",
       "font-weight: bold;\n",
       "}\n",
       ".err-msg.in.collapse {\n",
       "padding-top: 0.7em;\n",
       "}\n",
       ".highlight-code {\n",
       "white-space: pre;\n",
       "font-family: monospace;\n",
       "}\n",
       ".suggestion-warning { \n",
       "font-weight: bold;\n",
       "color: rgb(200, 130, 0);\n",
       "}\n",
       ".suggestion-error { \n",
       "font-weight: bold;\n",
       "color: red;\n",
       "}\n",
       ".suggestion-name {\n",
       "font-weight: bold;\n",
       "}\n",
       "</style><span class='get-type'>f :: forall a. Num a => a -> a -> a -> [a]</span>"
      ],
      "text/plain": [
       "f :: forall a. Num a => a -> a -> a -> [a]"
      ]
     },
     "metadata": {},
     "output_type": "display_data"
    },
    {
     "data": {
      "text/html": [
       "<style>/* Styles used for the Hoogle display in the pager */\n",
       ".hoogle-doc {\n",
       "display: block;\n",
       "padding-bottom: 1.3em;\n",
       "padding-left: 0.4em;\n",
       "}\n",
       ".hoogle-code {\n",
       "display: block;\n",
       "font-family: monospace;\n",
       "white-space: pre;\n",
       "}\n",
       ".hoogle-text {\n",
       "display: block;\n",
       "}\n",
       ".hoogle-name {\n",
       "color: green;\n",
       "font-weight: bold;\n",
       "}\n",
       ".hoogle-head {\n",
       "font-weight: bold;\n",
       "}\n",
       ".hoogle-sub {\n",
       "display: block;\n",
       "margin-left: 0.4em;\n",
       "}\n",
       ".hoogle-package {\n",
       "font-weight: bold;\n",
       "font-style: italic;\n",
       "}\n",
       ".hoogle-module {\n",
       "font-weight: bold;\n",
       "}\n",
       ".hoogle-class {\n",
       "font-weight: bold;\n",
       "}\n",
       ".get-type {\n",
       "color: green;\n",
       "font-weight: bold;\n",
       "font-family: monospace;\n",
       "display: block;\n",
       "white-space: pre-wrap;\n",
       "}\n",
       ".show-type {\n",
       "color: green;\n",
       "font-weight: bold;\n",
       "font-family: monospace;\n",
       "margin-left: 1em;\n",
       "}\n",
       ".mono {\n",
       "font-family: monospace;\n",
       "display: block;\n",
       "}\n",
       ".err-msg {\n",
       "color: red;\n",
       "font-style: italic;\n",
       "font-family: monospace;\n",
       "white-space: pre;\n",
       "display: block;\n",
       "}\n",
       "#unshowable {\n",
       "color: red;\n",
       "font-weight: bold;\n",
       "}\n",
       ".err-msg.in.collapse {\n",
       "padding-top: 0.7em;\n",
       "}\n",
       ".highlight-code {\n",
       "white-space: pre;\n",
       "font-family: monospace;\n",
       "}\n",
       ".suggestion-warning { \n",
       "font-weight: bold;\n",
       "color: rgb(200, 130, 0);\n",
       "}\n",
       ".suggestion-error { \n",
       "font-weight: bold;\n",
       "color: red;\n",
       "}\n",
       ".suggestion-name {\n",
       "font-weight: bold;\n",
       "}\n",
       "</style><span class='get-type'>f' :: forall a. Num a => a -> a -> [a]</span>"
      ],
      "text/plain": [
       "f' :: forall a. Num a => a -> a -> [a]"
      ]
     },
     "metadata": {},
     "output_type": "display_data"
    },
    {
     "data": {
      "text/html": [
       "<style>/* Styles used for the Hoogle display in the pager */\n",
       ".hoogle-doc {\n",
       "display: block;\n",
       "padding-bottom: 1.3em;\n",
       "padding-left: 0.4em;\n",
       "}\n",
       ".hoogle-code {\n",
       "display: block;\n",
       "font-family: monospace;\n",
       "white-space: pre;\n",
       "}\n",
       ".hoogle-text {\n",
       "display: block;\n",
       "}\n",
       ".hoogle-name {\n",
       "color: green;\n",
       "font-weight: bold;\n",
       "}\n",
       ".hoogle-head {\n",
       "font-weight: bold;\n",
       "}\n",
       ".hoogle-sub {\n",
       "display: block;\n",
       "margin-left: 0.4em;\n",
       "}\n",
       ".hoogle-package {\n",
       "font-weight: bold;\n",
       "font-style: italic;\n",
       "}\n",
       ".hoogle-module {\n",
       "font-weight: bold;\n",
       "}\n",
       ".hoogle-class {\n",
       "font-weight: bold;\n",
       "}\n",
       ".get-type {\n",
       "color: green;\n",
       "font-weight: bold;\n",
       "font-family: monospace;\n",
       "display: block;\n",
       "white-space: pre-wrap;\n",
       "}\n",
       ".show-type {\n",
       "color: green;\n",
       "font-weight: bold;\n",
       "font-family: monospace;\n",
       "margin-left: 1em;\n",
       "}\n",
       ".mono {\n",
       "font-family: monospace;\n",
       "display: block;\n",
       "}\n",
       ".err-msg {\n",
       "color: red;\n",
       "font-style: italic;\n",
       "font-family: monospace;\n",
       "white-space: pre;\n",
       "display: block;\n",
       "}\n",
       "#unshowable {\n",
       "color: red;\n",
       "font-weight: bold;\n",
       "}\n",
       ".err-msg.in.collapse {\n",
       "padding-top: 0.7em;\n",
       "}\n",
       ".highlight-code {\n",
       "white-space: pre;\n",
       "font-family: monospace;\n",
       "}\n",
       ".suggestion-warning { \n",
       "font-weight: bold;\n",
       "color: rgb(200, 130, 0);\n",
       "}\n",
       ".suggestion-error { \n",
       "font-weight: bold;\n",
       "color: red;\n",
       "}\n",
       ".suggestion-name {\n",
       "font-weight: bold;\n",
       "}\n",
       "</style><span class='get-type'>f'' :: forall a. Fractional a => a -> [a]</span>"
      ],
      "text/plain": [
       "f'' :: forall a. Fractional a => a -> [a]"
      ]
     },
     "metadata": {},
     "output_type": "display_data"
    },
    {
     "data": {
      "text/plain": [
       "[8.0,10.0,2.5]"
      ]
     },
     "metadata": {},
     "output_type": "display_data"
    }
   ],
   "source": [
    "(\\x y z -> [x,y,z]) <$> (+3) <*> (*2) <*> (/2) $ 5\n",
    "\n",
    "\n",
    "f = (\\x y z -> [x,y,z]) <$> (+3)\n",
    "-- f = (\\x -> \\y z -> [x,y,z]) <$> (+3)\n",
    "-- f <$> g :: (a->b) -> f a -> f b\n",
    "-- \\a -> \\y z -> [(a+3), y, z]\n",
    ":t f\n",
    "\n",
    "f' = f <*> (*2) \n",
    "-- f <*> g :: (r -> a -> b) -> (r -> a) -> (r -> b)\n",
    "-- \\b -> f b (b*2)\n",
    "-- \\b -> \\z -> [(b+3), (b*2), z]\n",
    ":t f'\n",
    "\n",
    "\n",
    "f'' = f' <*> (/2)\n",
    "-- \\c -> f' c (c/2)\n",
    "-- \\c -> [(c+3), (c*2), (c/2)]\n",
    ":t f''\n",
    "\n",
    "f'' 5"
   ]
  },
  {
   "cell_type": "code",
   "execution_count": 79,
   "id": "c5a8f981-a9ef-4245-940c-5e611840fa7a",
   "metadata": {},
   "outputs": [
    {
     "data": {
      "text/plain": [
       "[4,5,2,4]"
      ]
     },
     "metadata": {},
     "output_type": "display_data"
    }
   ],
   "source": [
    "[(+3), (*2)] <*> [1,2]"
   ]
  },
  {
   "cell_type": "markdown",
   "id": "3e6e124a-c109-497b-aef3-e9e7d1bda0c8",
   "metadata": {},
   "source": [
    "## ZipList"
   ]
  },
  {
   "cell_type": "code",
   "execution_count": null,
   "id": "5b7f05fc-aac0-4a1b-ab02-99612e84691d",
   "metadata": {},
   "outputs": [],
   "source": [
    "instance Applicative ZipList where  \n",
    "-- ZipList는 생성자이다\n",
    "-- List가 두개의 타입인스턴스를 가질수 없으므로 별도로 생성됨\n",
    "        pure x = ZipList (repeat x)  \n",
    "        ZipList fs <*> ZipList xs = ZipList (zipWith (\\f x -> f x) fs xs)\n",
    "        \n",
    "        \n",
    "        -- f<*>g :: f (a -> b) -> f a -> f b"
   ]
  },
  {
   "cell_type": "code",
   "execution_count": 83,
   "id": "bc570a38-61be-4d3d-ba53-f796246ccc26",
   "metadata": {},
   "outputs": [
    {
     "data": {
      "text/plain": [
       "[101,102,103]"
      ]
     },
     "metadata": {},
     "output_type": "display_data"
    },
    {
     "data": {
      "text/plain": [
       "[101,102,103]"
      ]
     },
     "metadata": {},
     "output_type": "display_data"
    },
    {
     "data": {
      "text/plain": [
       "[('d','c','r'),('o','a','a'),('g','t','t')]"
      ]
     },
     "metadata": {},
     "output_type": "display_data"
    }
   ],
   "source": [
    "getZipList $ (+) <$> ZipList [1,2,3] <*> ZipList [100,100,100]\n",
    "getZipList $ (+) <$> ZipList [1,2,3] <*> ZipList [100,100..]\n",
    "getZipList $ (,,) <$> ZipList \"dog\" <*> ZipList \"cat\" <*> ZipList \"rat\"\n",
    "\n",
    "-- (,,) 는 \\x y z -> (x,y,z) 와 같다"
   ]
  },
  {
   "cell_type": "markdown",
   "id": "a6614e6c-dcd8-4fb0-b846-bb5862ab48db",
   "metadata": {},
   "source": [
    "## 어플리커티브 규칙\n",
    "\n",
    "0. `pure f <*> x = fmap f x` 함수에 컨텍스트를 입혔다가, 벗겨서 적용해도 똑같은것\n",
    "1. `pure id <*> v = v` : 어플리커티브 방식으로 id를 적용해도 값이 같을것\n",
    "2. `pure (.) <*> u <*> v <*> w = u <*> (v <*> w)` : 순서가 바뀌어도 됨\n",
    "3. `pure f <*> pure x = pure (f x)` : 합성이 된다\n",
    "4. `u <*> pure y = pure ($y) <*> u`"
   ]
  },
  {
   "cell_type": "markdown",
   "id": "32dcfbc3-6a1c-447a-a6b3-f39f141b7831",
   "metadata": {},
   "source": [
    "## 어플리커티브를 위한 유용한 함수들"
   ]
  },
  {
   "cell_type": "code",
   "execution_count": 85,
   "id": "e7983a14-7d2e-4204-acbf-5d1c15d4f439",
   "metadata": {},
   "outputs": [
    {
     "data": {
      "text/html": [
       "<style>/* Styles used for the Hoogle display in the pager */\n",
       ".hoogle-doc {\n",
       "display: block;\n",
       "padding-bottom: 1.3em;\n",
       "padding-left: 0.4em;\n",
       "}\n",
       ".hoogle-code {\n",
       "display: block;\n",
       "font-family: monospace;\n",
       "white-space: pre;\n",
       "}\n",
       ".hoogle-text {\n",
       "display: block;\n",
       "}\n",
       ".hoogle-name {\n",
       "color: green;\n",
       "font-weight: bold;\n",
       "}\n",
       ".hoogle-head {\n",
       "font-weight: bold;\n",
       "}\n",
       ".hoogle-sub {\n",
       "display: block;\n",
       "margin-left: 0.4em;\n",
       "}\n",
       ".hoogle-package {\n",
       "font-weight: bold;\n",
       "font-style: italic;\n",
       "}\n",
       ".hoogle-module {\n",
       "font-weight: bold;\n",
       "}\n",
       ".hoogle-class {\n",
       "font-weight: bold;\n",
       "}\n",
       ".get-type {\n",
       "color: green;\n",
       "font-weight: bold;\n",
       "font-family: monospace;\n",
       "display: block;\n",
       "white-space: pre-wrap;\n",
       "}\n",
       ".show-type {\n",
       "color: green;\n",
       "font-weight: bold;\n",
       "font-family: monospace;\n",
       "margin-left: 1em;\n",
       "}\n",
       ".mono {\n",
       "font-family: monospace;\n",
       "display: block;\n",
       "}\n",
       ".err-msg {\n",
       "color: red;\n",
       "font-style: italic;\n",
       "font-family: monospace;\n",
       "white-space: pre;\n",
       "display: block;\n",
       "}\n",
       "#unshowable {\n",
       "color: red;\n",
       "font-weight: bold;\n",
       "}\n",
       ".err-msg.in.collapse {\n",
       "padding-top: 0.7em;\n",
       "}\n",
       ".highlight-code {\n",
       "white-space: pre;\n",
       "font-family: monospace;\n",
       "}\n",
       ".suggestion-warning { \n",
       "font-weight: bold;\n",
       "color: rgb(200, 130, 0);\n",
       "}\n",
       ".suggestion-error { \n",
       "font-weight: bold;\n",
       "color: red;\n",
       "}\n",
       ".suggestion-name {\n",
       "font-weight: bold;\n",
       "}\n",
       "</style><span class='get-type'>liftA2 :: forall (f :: * -> *) a b c. Applicative f => (a -> b -> c) -> f a -> f b -> f c</span>"
      ],
      "text/plain": [
       "liftA2 :: forall (f :: * -> *) a b c. Applicative f => (a -> b -> c) -> f a -> f b -> f c"
      ]
     },
     "metadata": {},
     "output_type": "display_data"
    }
   ],
   "source": [
    ":t liftA2\n",
    "-- liftA2 f a b = f <$> a <*> b"
   ]
  },
  {
   "cell_type": "markdown",
   "id": "f4a591b0-5105-4013-a8c2-3a4a68dc2122",
   "metadata": {},
   "source": [
    "어플리커티브 펑터는 여러개의 펑터 값들 간에 하나의 함수를 매핑할 수 있다.\n",
    "Just 4 Just 9 간에 (+) 를 적용핧 수 있다... 정도?"
   ]
  },
  {
   "cell_type": "code",
   "execution_count": 87,
   "id": "35a91038-ff14-4d1e-84d0-d996c6e514b8",
   "metadata": {},
   "outputs": [
    {
     "data": {
      "text/html": [
       "<style>/* Styles used for the Hoogle display in the pager */\n",
       ".hoogle-doc {\n",
       "display: block;\n",
       "padding-bottom: 1.3em;\n",
       "padding-left: 0.4em;\n",
       "}\n",
       ".hoogle-code {\n",
       "display: block;\n",
       "font-family: monospace;\n",
       "white-space: pre;\n",
       "}\n",
       ".hoogle-text {\n",
       "display: block;\n",
       "}\n",
       ".hoogle-name {\n",
       "color: green;\n",
       "font-weight: bold;\n",
       "}\n",
       ".hoogle-head {\n",
       "font-weight: bold;\n",
       "}\n",
       ".hoogle-sub {\n",
       "display: block;\n",
       "margin-left: 0.4em;\n",
       "}\n",
       ".hoogle-package {\n",
       "font-weight: bold;\n",
       "font-style: italic;\n",
       "}\n",
       ".hoogle-module {\n",
       "font-weight: bold;\n",
       "}\n",
       ".hoogle-class {\n",
       "font-weight: bold;\n",
       "}\n",
       ".get-type {\n",
       "color: green;\n",
       "font-weight: bold;\n",
       "font-family: monospace;\n",
       "display: block;\n",
       "white-space: pre-wrap;\n",
       "}\n",
       ".show-type {\n",
       "color: green;\n",
       "font-weight: bold;\n",
       "font-family: monospace;\n",
       "margin-left: 1em;\n",
       "}\n",
       ".mono {\n",
       "font-family: monospace;\n",
       "display: block;\n",
       "}\n",
       ".err-msg {\n",
       "color: red;\n",
       "font-style: italic;\n",
       "font-family: monospace;\n",
       "white-space: pre;\n",
       "display: block;\n",
       "}\n",
       "#unshowable {\n",
       "color: red;\n",
       "font-weight: bold;\n",
       "}\n",
       ".err-msg.in.collapse {\n",
       "padding-top: 0.7em;\n",
       "}\n",
       ".highlight-code {\n",
       "white-space: pre;\n",
       "font-family: monospace;\n",
       "}\n",
       ".suggestion-warning { \n",
       "font-weight: bold;\n",
       "color: rgb(200, 130, 0);\n",
       "}\n",
       ".suggestion-error { \n",
       "font-weight: bold;\n",
       "color: red;\n",
       "}\n",
       ".suggestion-name {\n",
       "font-weight: bold;\n",
       "}\n",
       "</style><div class=\"suggestion-name\" style=\"clear:both;\">Use :</div><div class=\"suggestion-row\" style=\"float: left;\"><div class=\"suggestion-warning\">Found:</div><div class=\"highlight-code\" id=\"haskell\">\\ x -> [x]</div></div><div class=\"suggestion-row\" style=\"float: left;\"><div class=\"suggestion-warning\">Why Not:</div><div class=\"highlight-code\" id=\"haskell\">(: [])</div></div>"
      ],
      "text/plain": [
       "Line 1: Use :\n",
       "Found:\n",
       "\\ x -> [x]\n",
       "Why not:\n",
       "(: [])"
      ]
     },
     "metadata": {},
     "output_type": "display_data"
    },
    {
     "data": {
      "text/plain": [
       "Just [4]"
      ]
     },
     "metadata": {},
     "output_type": "display_data"
    }
   ],
   "source": [
    "fmap (\\x -> [x]) (Just 4)"
   ]
  },
  {
   "cell_type": "code",
   "execution_count": 89,
   "id": "e8a74de0-469e-4503-b182-3be14418a99d",
   "metadata": {},
   "outputs": [
    {
     "data": {
      "text/plain": [
       "Just [3,4]"
      ]
     },
     "metadata": {},
     "output_type": "display_data"
    },
    {
     "data": {
      "text/plain": [
       "Just [3,4]"
      ]
     },
     "metadata": {},
     "output_type": "display_data"
    }
   ],
   "source": [
    "liftA2 (:) (Just 3) (Just [4])\n",
    "(:) <$> Just 3 <*> Just [4]"
   ]
  },
  {
   "cell_type": "code",
   "execution_count": 3,
   "id": "2e7fa8d3-21c4-45fc-9646-08e2a37de4b4",
   "metadata": {},
   "outputs": [
    {
     "data": {
      "text/html": [
       "<style>/* Styles used for the Hoogle display in the pager */\n",
       ".hoogle-doc {\n",
       "display: block;\n",
       "padding-bottom: 1.3em;\n",
       "padding-left: 0.4em;\n",
       "}\n",
       ".hoogle-code {\n",
       "display: block;\n",
       "font-family: monospace;\n",
       "white-space: pre;\n",
       "}\n",
       ".hoogle-text {\n",
       "display: block;\n",
       "}\n",
       ".hoogle-name {\n",
       "color: green;\n",
       "font-weight: bold;\n",
       "}\n",
       ".hoogle-head {\n",
       "font-weight: bold;\n",
       "}\n",
       ".hoogle-sub {\n",
       "display: block;\n",
       "margin-left: 0.4em;\n",
       "}\n",
       ".hoogle-package {\n",
       "font-weight: bold;\n",
       "font-style: italic;\n",
       "}\n",
       ".hoogle-module {\n",
       "font-weight: bold;\n",
       "}\n",
       ".hoogle-class {\n",
       "font-weight: bold;\n",
       "}\n",
       ".get-type {\n",
       "color: green;\n",
       "font-weight: bold;\n",
       "font-family: monospace;\n",
       "display: block;\n",
       "white-space: pre-wrap;\n",
       "}\n",
       ".show-type {\n",
       "color: green;\n",
       "font-weight: bold;\n",
       "font-family: monospace;\n",
       "margin-left: 1em;\n",
       "}\n",
       ".mono {\n",
       "font-family: monospace;\n",
       "display: block;\n",
       "}\n",
       ".err-msg {\n",
       "color: red;\n",
       "font-style: italic;\n",
       "font-family: monospace;\n",
       "white-space: pre;\n",
       "display: block;\n",
       "}\n",
       "#unshowable {\n",
       "color: red;\n",
       "font-weight: bold;\n",
       "}\n",
       ".err-msg.in.collapse {\n",
       "padding-top: 0.7em;\n",
       "}\n",
       ".highlight-code {\n",
       "white-space: pre;\n",
       "font-family: monospace;\n",
       "}\n",
       ".suggestion-warning { \n",
       "font-weight: bold;\n",
       "color: rgb(200, 130, 0);\n",
       "}\n",
       ".suggestion-error { \n",
       "font-weight: bold;\n",
       "color: red;\n",
       "}\n",
       ".suggestion-name {\n",
       "font-weight: bold;\n",
       "}\n",
       "</style><div class=\"suggestion-name\" style=\"clear:both;\">Use foldr</div><div class=\"suggestion-row\" style=\"float: left;\"><div class=\"suggestion-warning\">Found:</div><div class=\"highlight-code\" id=\"haskell\">sequenceA [] = pure []\n",
       "sequenceA (x : xs) = (:) <$> x <*> sequenceA xs</div></div><div class=\"suggestion-row\" style=\"float: left;\"><div class=\"suggestion-warning\">Why Not:</div><div class=\"highlight-code\" id=\"haskell\">sequenceA xs = foldr (\\ x -> (<*>) ((:) <$> x)) (pure []) xs</div></div>"
      ],
      "text/plain": [
       "Line 2: Use foldr\n",
       "Found:\n",
       "sequenceA [] = pure []\n",
       "sequenceA (x : xs) = (:) <$> x <*> sequenceA xs\n",
       "Why not:\n",
       "sequenceA xs = foldr (\\ x -> (<*>) ((:) <$> x)) (pure []) xs"
      ]
     },
     "metadata": {},
     "output_type": "display_data"
    }
   ],
   "source": [
    "sequenceA :: (Applicative f) => [f a] -> f [a]\n",
    "sequenceA [] = pure []\n",
    "sequenceA (x:xs) = (:) <$> x <*> sequenceA xs\n",
    "-- x가 현재 f a 타입이다\n",
    "-- f [x:x:x: ...] 와 같이 재귀됨"
   ]
  },
  {
   "cell_type": "code",
   "execution_count": 99,
   "id": "4be74013-94f5-4b69-a5aa-30042c5fc2f1",
   "metadata": {},
   "outputs": [
    {
     "data": {
      "text/plain": [
       "Just [1,2]"
      ]
     },
     "metadata": {},
     "output_type": "display_data"
    },
    {
     "data": {
      "text/plain": [
       "Just [1,2]"
      ]
     },
     "metadata": {},
     "output_type": "display_data"
    }
   ],
   "source": [
    "sequenceA [Just 1, Just 2]\n",
    "(:) <$> Just 1 <*> sequenceA [Just 2]"
   ]
  },
  {
   "cell_type": "code",
   "execution_count": 2,
   "id": "acbbacca-1744-439e-86fe-f55225db3951",
   "metadata": {},
   "outputs": [
    {
     "ename": "",
     "evalue": "",
     "header": "MessageHeader {mhIdentifiers = [\"a44b0fe5-24c5-419c-8e23-48bb64fa86e9\"], mhParentHeader = Just (MessageHeader {mhIdentifiers = [\"a44b0fe5-24c5-419c-8e23-48bb64fa86e9\"], mhParentHeader = Nothing, mhMetadata = Metadata (fromList [(\"recordTiming\",Bool False),(\"deletedCells\",Array []),(\"cellId\",String \"acbbacca-1744-439e-86fe-f55225db3951\")]), mhMessageId = UUID {uuidToString = \"fc83d6d4-6eff-4f9a-91c0-4e148436773d\"}, mhSessionId = UUID {uuidToString = \"a44b0fe5-24c5-419c-8e23-48bb64fa86e9\"}, mhUsername = \"\", mhMsgType = ExecuteRequestMessage, mhBuffers = []}), mhMetadata = Metadata (fromList []), mhMessageId = UUID {uuidToString = \"22d8c88e-a37c-4e3e-a1bc-434a969150ac\"}, mhSessionId = UUID {uuidToString = \"a44b0fe5-24c5-419c-8e23-48bb64fa86e9\"}, mhUsername = \"\", mhMsgType = ExecuteErrorMessage, mhBuffers = []}",
     "output_type": "error",
     "traceback": [
      "<interactive>:2:20: error: Variable not in scope: liftA2 :: (a0 -> [a0] -> [a0]) -> f a -> f [a] -> f [a]"
     ]
    }
   ],
   "source": [
    "sequenceA :: (Applicative f) => [f a] -> f [a]\n",
    "sequenceA = foldr (liftA2 (:)) (pure [])\n",
    "-- f and acc"
   ]
  },
  {
   "cell_type": "code",
   "execution_count": null,
   "id": "1463d7f4-21e2-4f96-8c16-21d7caf1e2f1",
   "metadata": {},
   "outputs": [
    {
     "data": {
      "text/html": [
       "<style>/* Styles used for the Hoogle display in the pager */\n",
       ".hoogle-doc {\n",
       "display: block;\n",
       "padding-bottom: 1.3em;\n",
       "padding-left: 0.4em;\n",
       "}\n",
       ".hoogle-code {\n",
       "display: block;\n",
       "font-family: monospace;\n",
       "white-space: pre;\n",
       "}\n",
       ".hoogle-text {\n",
       "display: block;\n",
       "}\n",
       ".hoogle-name {\n",
       "color: green;\n",
       "font-weight: bold;\n",
       "}\n",
       ".hoogle-head {\n",
       "font-weight: bold;\n",
       "}\n",
       ".hoogle-sub {\n",
       "display: block;\n",
       "margin-left: 0.4em;\n",
       "}\n",
       ".hoogle-package {\n",
       "font-weight: bold;\n",
       "font-style: italic;\n",
       "}\n",
       ".hoogle-module {\n",
       "font-weight: bold;\n",
       "}\n",
       ".hoogle-class {\n",
       "font-weight: bold;\n",
       "}\n",
       ".get-type {\n",
       "color: green;\n",
       "font-weight: bold;\n",
       "font-family: monospace;\n",
       "display: block;\n",
       "white-space: pre-wrap;\n",
       "}\n",
       ".show-type {\n",
       "color: green;\n",
       "font-weight: bold;\n",
       "font-family: monospace;\n",
       "margin-left: 1em;\n",
       "}\n",
       ".mono {\n",
       "font-family: monospace;\n",
       "display: block;\n",
       "}\n",
       ".err-msg {\n",
       "color: red;\n",
       "font-style: italic;\n",
       "font-family: monospace;\n",
       "white-space: pre;\n",
       "display: block;\n",
       "}\n",
       "#unshowable {\n",
       "color: red;\n",
       "font-weight: bold;\n",
       "}\n",
       ".err-msg.in.collapse {\n",
       "padding-top: 0.7em;\n",
       "}\n",
       ".highlight-code {\n",
       "white-space: pre;\n",
       "font-family: monospace;\n",
       "}\n",
       ".suggestion-warning { \n",
       "font-weight: bold;\n",
       "color: rgb(200, 130, 0);\n",
       "}\n",
       ".suggestion-error { \n",
       "font-weight: bold;\n",
       "color: red;\n",
       "}\n",
       ".suggestion-name {\n",
       "font-weight: bold;\n",
       "}\n",
       "</style><div class=\"suggestion-name\" style=\"clear:both;\">Redundant bracket</div><div class=\"suggestion-row\" style=\"float: left;\"><div class=\"suggestion-warning\">Found:</div><div class=\"highlight-code\" id=\"haskell\">(:) <$> [] <*> (sequenceA [])</div></div><div class=\"suggestion-row\" style=\"float: left;\"><div class=\"suggestion-warning\">Why Not:</div><div class=\"highlight-code\" id=\"haskell\">(:) <$> [] <*> sequenceA []</div></div>"
      ],
      "text/plain": [
       "Line 17: Redundant bracket\n",
       "Found:\n",
       "(:) <$> [] <*> (sequenceA [])\n",
       "Why not:\n",
       "(:) <$> [] <*> sequenceA []"
      ]
     },
     "metadata": {},
     "output_type": "display_data"
    },
    {
     "data": {
      "text/plain": [
       "Just [3,2,1]"
      ]
     },
     "metadata": {},
     "output_type": "display_data"
    },
    {
     "data": {
      "text/plain": [
       "Nothing"
      ]
     },
     "metadata": {},
     "output_type": "display_data"
    },
    {
     "data": {
      "text/plain": [
       "[6,5,4]"
      ]
     },
     "metadata": {},
     "output_type": "display_data"
    },
    {
     "data": {
      "text/plain": [
       "[[1,4],[1,5],[1,6],[2,4],[2,5],[2,6],[3,4],[3,5],[3,6]]"
      ]
     },
     "metadata": {},
     "output_type": "display_data"
    },
    {
     "data": {
      "text/plain": [
       "[]"
      ]
     },
     "metadata": {},
     "output_type": "display_data"
    }
   ],
   "source": [
    "sequenceA [Just 3, Just 2, Just 1]\n",
    "sequenceA [Just 3, Nothing, Just 1]\n",
    "sequenceA [(+3),(+2),(+1)] 3 -- [(->) Int Int] 가 (->) Int [int] 가 되면서 Int를 받는 함수가 됨\n",
    "sequenceA [[1,2,3], [4,5,6]] \n",
    "-- [[Int]] 가 [[Int]]로 변함 (안쪽 []가 바깥쪽 [] 와 위치 변경)\n",
    "-- (:) <$> [1,2,3] <*> sequenceA [[4,5,6]]\n",
    "-- [1:, 2:, 3:] <*> ( (:) <$> [4,5,6] <*> sequenceA [] )\n",
    "-- [1:, 2:, 3:] <*> ( (:) <$> [4,5,6] <*> [] )\n",
    "-- [1:, 2:, 3:] <*> ( [4:,5:,6:] <*> [] )\n",
    "-- [1:, 2:, 3:] <*> [4:,5:,6:]\n",
    "-- list comprehension!\n",
    "-- [[1,4], [1,5], [1,6], [2,4], [2,5], [2,6], [3,4], [3,5], [3,6]]\n",
    "\n",
    "\n"
   ]
  },
  {
   "cell_type": "code",
   "execution_count": 5,
   "id": "e3bed8f9-65f9-417c-a3d5-eb268f18ff4b",
   "metadata": {},
   "outputs": [
    {
     "data": {
      "text/html": [
       "<style>/* Styles used for the Hoogle display in the pager */\n",
       ".hoogle-doc {\n",
       "display: block;\n",
       "padding-bottom: 1.3em;\n",
       "padding-left: 0.4em;\n",
       "}\n",
       ".hoogle-code {\n",
       "display: block;\n",
       "font-family: monospace;\n",
       "white-space: pre;\n",
       "}\n",
       ".hoogle-text {\n",
       "display: block;\n",
       "}\n",
       ".hoogle-name {\n",
       "color: green;\n",
       "font-weight: bold;\n",
       "}\n",
       ".hoogle-head {\n",
       "font-weight: bold;\n",
       "}\n",
       ".hoogle-sub {\n",
       "display: block;\n",
       "margin-left: 0.4em;\n",
       "}\n",
       ".hoogle-package {\n",
       "font-weight: bold;\n",
       "font-style: italic;\n",
       "}\n",
       ".hoogle-module {\n",
       "font-weight: bold;\n",
       "}\n",
       ".hoogle-class {\n",
       "font-weight: bold;\n",
       "}\n",
       ".get-type {\n",
       "color: green;\n",
       "font-weight: bold;\n",
       "font-family: monospace;\n",
       "display: block;\n",
       "white-space: pre-wrap;\n",
       "}\n",
       ".show-type {\n",
       "color: green;\n",
       "font-weight: bold;\n",
       "font-family: monospace;\n",
       "margin-left: 1em;\n",
       "}\n",
       ".mono {\n",
       "font-family: monospace;\n",
       "display: block;\n",
       "}\n",
       ".err-msg {\n",
       "color: red;\n",
       "font-style: italic;\n",
       "font-family: monospace;\n",
       "white-space: pre;\n",
       "display: block;\n",
       "}\n",
       "#unshowable {\n",
       "color: red;\n",
       "font-weight: bold;\n",
       "}\n",
       ".err-msg.in.collapse {\n",
       "padding-top: 0.7em;\n",
       "}\n",
       ".highlight-code {\n",
       "white-space: pre;\n",
       "font-family: monospace;\n",
       "}\n",
       ".suggestion-warning { \n",
       "font-weight: bold;\n",
       "color: rgb(200, 130, 0);\n",
       "}\n",
       ".suggestion-error { \n",
       "font-weight: bold;\n",
       "color: red;\n",
       "}\n",
       ".suggestion-name {\n",
       "font-weight: bold;\n",
       "}\n",
       "</style><div class=\"suggestion-name\" style=\"clear:both;\">Redundant bracket</div><div class=\"suggestion-row\" style=\"float: left;\"><div class=\"suggestion-warning\">Found:</div><div class=\"highlight-code\" id=\"haskell\">(:) <$> [] <*> (sequenceA [])</div></div><div class=\"suggestion-row\" style=\"float: left;\"><div class=\"suggestion-warning\">Why Not:</div><div class=\"highlight-code\" id=\"haskell\">(:) <$> [] <*> sequenceA []</div></div>"
      ],
      "text/plain": [
       "Line 4: Redundant bracket\n",
       "Found:\n",
       "(:) <$> [] <*> (sequenceA [])\n",
       "Why not:\n",
       "(:) <$> [] <*> sequenceA []"
      ]
     },
     "metadata": {},
     "output_type": "display_data"
    },
    {
     "data": {
      "text/plain": [
       "[]"
      ]
     },
     "metadata": {},
     "output_type": "display_data"
    },
    {
     "data": {
      "text/plain": [
       "[]"
      ]
     },
     "metadata": {},
     "output_type": "display_data"
    },
    {
     "data": {
      "text/plain": [
       "[]"
      ]
     },
     "metadata": {},
     "output_type": "display_data"
    },
    {
     "data": {
      "text/plain": [
       "[]"
      ]
     },
     "metadata": {},
     "output_type": "display_data"
    },
    {
     "data": {
      "text/plain": [
       "[]"
      ]
     },
     "metadata": {},
     "output_type": "display_data"
    },
    {
     "data": {
      "text/plain": [
       "[]"
      ]
     },
     "metadata": {},
     "output_type": "display_data"
    },
    {
     "data": {
      "text/plain": [
       "[]"
      ]
     },
     "metadata": {},
     "output_type": "display_data"
    },
    {
     "data": {
      "text/plain": [
       "[]"
      ]
     },
     "metadata": {},
     "output_type": "display_data"
    },
    {
     "data": {
      "text/plain": [
       "[]"
      ]
     },
     "metadata": {},
     "output_type": "display_data"
    },
    {
     "data": {
      "text/plain": [
       "[]"
      ]
     },
     "metadata": {},
     "output_type": "display_data"
    },
    {
     "data": {
      "text/plain": [
       "[]"
      ]
     },
     "metadata": {},
     "output_type": "display_data"
    }
   ],
   "source": [
    "sequenceA [[1,2,3],[4,5,6],[3,4,4],[]]  \n",
    "\n",
    "-- empty list와의 list comprehension에서 줄줄이 empty list로 변하는 것\n",
    "(:) <$> [1,2,3] <*> ( (:) <$> [4,5,6] <*> ( (:) <$> [3,4,4] <*> ( (:) <$> [] <*> (sequenceA []) ) ) )\n",
    "(:) <$> [1,2,3] <*> ( (:) <$> [4,5,6] <*> ( (:) <$> [3,4,4] <*> ( (:) <$> [] <*> [] ) ) )\n",
    "(:) <$> [1,2,3] <*> ( (:) <$> [4,5,6] <*> ( (:) <$> [3,4,4] <*> ( [] <*> [] ) ) )\n",
    "(:) <$> [1,2,3] <*> ( (:) <$> [4,5,6] <*> ( (:) <$> [3,4,4] <*> [] ) )\n",
    "(:) <$> [1,2,3] <*> ( (:) <$> [4,5,6] <*> ( [(:)3,(:)4,(:)4] <*> [] ) )\n",
    "(:) <$> [1,2,3] <*> ( (:) <$> [4,5,6] <*> [] )\n",
    "(:) <$> [1,2,3] <*> ( [(:)4,(:)5,(:)6] <*> [] )\n",
    "(:) <$> [1,2,3] <*> []\n",
    "[(:)1,(:)2,(:)3] <*> []\n",
    "[]"
   ]
  },
  {
   "cell_type": "code",
   "execution_count": 13,
   "id": "0611525e-5e48-443b-9e1e-23f7e878ef67",
   "metadata": {},
   "outputs": [
    {
     "data": {
      "text/html": [
       "<style>/* Styles used for the Hoogle display in the pager */\n",
       ".hoogle-doc {\n",
       "display: block;\n",
       "padding-bottom: 1.3em;\n",
       "padding-left: 0.4em;\n",
       "}\n",
       ".hoogle-code {\n",
       "display: block;\n",
       "font-family: monospace;\n",
       "white-space: pre;\n",
       "}\n",
       ".hoogle-text {\n",
       "display: block;\n",
       "}\n",
       ".hoogle-name {\n",
       "color: green;\n",
       "font-weight: bold;\n",
       "}\n",
       ".hoogle-head {\n",
       "font-weight: bold;\n",
       "}\n",
       ".hoogle-sub {\n",
       "display: block;\n",
       "margin-left: 0.4em;\n",
       "}\n",
       ".hoogle-package {\n",
       "font-weight: bold;\n",
       "font-style: italic;\n",
       "}\n",
       ".hoogle-module {\n",
       "font-weight: bold;\n",
       "}\n",
       ".hoogle-class {\n",
       "font-weight: bold;\n",
       "}\n",
       ".get-type {\n",
       "color: green;\n",
       "font-weight: bold;\n",
       "font-family: monospace;\n",
       "display: block;\n",
       "white-space: pre-wrap;\n",
       "}\n",
       ".show-type {\n",
       "color: green;\n",
       "font-weight: bold;\n",
       "font-family: monospace;\n",
       "margin-left: 1em;\n",
       "}\n",
       ".mono {\n",
       "font-family: monospace;\n",
       "display: block;\n",
       "}\n",
       ".err-msg {\n",
       "color: red;\n",
       "font-style: italic;\n",
       "font-family: monospace;\n",
       "white-space: pre;\n",
       "display: block;\n",
       "}\n",
       "#unshowable {\n",
       "color: red;\n",
       "font-weight: bold;\n",
       "}\n",
       ".err-msg.in.collapse {\n",
       "padding-top: 0.7em;\n",
       "}\n",
       ".highlight-code {\n",
       "white-space: pre;\n",
       "font-family: monospace;\n",
       "}\n",
       ".suggestion-warning { \n",
       "font-weight: bold;\n",
       "color: rgb(200, 130, 0);\n",
       "}\n",
       ".suggestion-error { \n",
       "font-weight: bold;\n",
       "color: red;\n",
       "}\n",
       ".suggestion-name {\n",
       "font-weight: bold;\n",
       "}\n",
       "</style><div class=\"suggestion-name\" style=\"clear:both;\">Use all</div><div class=\"suggestion-row\" style=\"float: left;\"><div class=\"suggestion-warning\">Found:</div><div class=\"highlight-code\" id=\"haskell\">and $ map (\\ f -> f 7) [(> 4), (< 10), odd]</div></div><div class=\"suggestion-row\" style=\"float: left;\"><div class=\"suggestion-warning\">Why Not:</div><div class=\"highlight-code\" id=\"haskell\">all (\\ f -> f 7) [(> 4), (< 10), odd]</div></div>"
      ],
      "text/plain": [
       "Line 2: Use all\n",
       "Found:\n",
       "and $ map (\\ f -> f 7) [(> 4), (< 10), odd]\n",
       "Why not:\n",
       "all (\\ f -> f 7) [(> 4), (< 10), odd]"
      ]
     },
     "metadata": {},
     "output_type": "display_data"
    },
    {
     "data": {
      "text/plain": [
       "[True,True,True]"
      ]
     },
     "metadata": {},
     "output_type": "display_data"
    },
    {
     "data": {
      "text/plain": [
       "True"
      ]
     },
     "metadata": {},
     "output_type": "display_data"
    }
   ],
   "source": [
    "map (\\f -> f 7) [(>4), (<10), odd]\n",
    "and $ map (\\f -> f 7) [(>4), (<10), odd]"
   ]
  },
  {
   "cell_type": "code",
   "execution_count": 8,
   "id": "d9f7d08f-f969-4007-b28f-808789fe7dd0",
   "metadata": {},
   "outputs": [
    {
     "data": {
      "text/plain": [
       "[True,True,True]"
      ]
     },
     "metadata": {},
     "output_type": "display_data"
    },
    {
     "data": {
      "text/plain": [
       "[True,True,True]"
      ]
     },
     "metadata": {},
     "output_type": "display_data"
    },
    {
     "data": {
      "text/plain": [
       "[True,True,True]"
      ]
     },
     "metadata": {},
     "output_type": "display_data"
    },
    {
     "data": {
      "text/html": [
       "<style>/* Styles used for the Hoogle display in the pager */\n",
       ".hoogle-doc {\n",
       "display: block;\n",
       "padding-bottom: 1.3em;\n",
       "padding-left: 0.4em;\n",
       "}\n",
       ".hoogle-code {\n",
       "display: block;\n",
       "font-family: monospace;\n",
       "white-space: pre;\n",
       "}\n",
       ".hoogle-text {\n",
       "display: block;\n",
       "}\n",
       ".hoogle-name {\n",
       "color: green;\n",
       "font-weight: bold;\n",
       "}\n",
       ".hoogle-head {\n",
       "font-weight: bold;\n",
       "}\n",
       ".hoogle-sub {\n",
       "display: block;\n",
       "margin-left: 0.4em;\n",
       "}\n",
       ".hoogle-package {\n",
       "font-weight: bold;\n",
       "font-style: italic;\n",
       "}\n",
       ".hoogle-module {\n",
       "font-weight: bold;\n",
       "}\n",
       ".hoogle-class {\n",
       "font-weight: bold;\n",
       "}\n",
       ".get-type {\n",
       "color: green;\n",
       "font-weight: bold;\n",
       "font-family: monospace;\n",
       "display: block;\n",
       "white-space: pre-wrap;\n",
       "}\n",
       ".show-type {\n",
       "color: green;\n",
       "font-weight: bold;\n",
       "font-family: monospace;\n",
       "margin-left: 1em;\n",
       "}\n",
       ".mono {\n",
       "font-family: monospace;\n",
       "display: block;\n",
       "}\n",
       ".err-msg {\n",
       "color: red;\n",
       "font-style: italic;\n",
       "font-family: monospace;\n",
       "white-space: pre;\n",
       "display: block;\n",
       "}\n",
       "#unshowable {\n",
       "color: red;\n",
       "font-weight: bold;\n",
       "}\n",
       ".err-msg.in.collapse {\n",
       "padding-top: 0.7em;\n",
       "}\n",
       ".highlight-code {\n",
       "white-space: pre;\n",
       "font-family: monospace;\n",
       "}\n",
       ".suggestion-warning { \n",
       "font-weight: bold;\n",
       "color: rgb(200, 130, 0);\n",
       "}\n",
       ".suggestion-error { \n",
       "font-weight: bold;\n",
       "color: red;\n",
       "}\n",
       ".suggestion-name {\n",
       "font-weight: bold;\n",
       "}\n",
       "</style><span class='get-type'>((:) <$> odd) :: forall a. Integral a => a -> [Bool] -> [Bool]</span>"
      ],
      "text/plain": [
       "((:) <$> odd) :: forall a. Integral a => a -> [Bool] -> [Bool]"
      ]
     },
     "metadata": {},
     "output_type": "display_data"
    }
   ],
   "source": [
    "sequenceA [(>4), (<10), odd] 7\n",
    "-- [(->) Int Bool] ->  (->) Int [Bool]\n",
    "(:) <$> (>4) <*> ((:) <$> (<10) <*> ((:) <$> odd <*> (sequenceA []))) $ 7\n",
    "-- (:) <$> (>4) <*> ((:) <$> (<10) <*> ((:) <$> odd <*> []) $ 7\n",
    "(:) <$> (>4) <*> ((:) <$> (<10) <*> ((:) <$> odd <*> (pure []))) $ 7\n",
    "-- pure [] :: Int -> [Bool]\n",
    "-- (:) . odd :: Int -> [Bool]\n",
    "-- f <*> g :: f (a -> b) -> f a -> f b\n",
    "-- f <*> g :: Int -> ([Bool] -> [Bool]) -> (Int -> [Bool]) -> (Int -> [Bool])\n",
    "-- \\x -> f x (g x)\n",
    "-- \\x: Int ->  f x:int [Bool]\n",
    ":t ((:) <$> odd)"
   ]
  },
  {
   "cell_type": "code",
   "execution_count": 21,
   "id": "c54ab2f4-1e14-43ee-aa3a-aa9c68a70320",
   "metadata": {},
   "outputs": [
    {
     "data": {
      "text/plain": [
       "True"
      ]
     },
     "metadata": {},
     "output_type": "display_data"
    }
   ],
   "source": [
    "and $ sequenceA [(>4),(<10),odd] 7  "
   ]
  },
  {
   "cell_type": "code",
   "execution_count": 26,
   "id": "1b118a93-6b6e-4c5d-91f3-276569b08bbb",
   "metadata": {},
   "outputs": [
    {
     "data": {
      "text/plain": [
       "[[1,4],[1,5],[1,6],[2,4],[2,5],[2,6],[3,4],[3,5],[3,6]]"
      ]
     },
     "metadata": {},
     "output_type": "display_data"
    },
    {
     "data": {
      "text/plain": [
       "[[1,4],[1,5],[1,6],[2,4],[2,5],[2,6],[3,4],[3,5],[3,6]]"
      ]
     },
     "metadata": {},
     "output_type": "display_data"
    },
    {
     "data": {
      "text/plain": [
       "[[1,3],[1,4],[2,3],[2,4]]"
      ]
     },
     "metadata": {},
     "output_type": "display_data"
    },
    {
     "data": {
      "text/plain": [
       "[[1,3],[1,4],[2,3],[2,4]]"
      ]
     },
     "metadata": {},
     "output_type": "display_data"
    },
    {
     "data": {
      "text/plain": [
       "[[1,3,5],[1,3,6],[1,4,5],[1,4,6],[2,3,5],[2,3,6],[2,4,5],[2,4,6]]"
      ]
     },
     "metadata": {},
     "output_type": "display_data"
    },
    {
     "data": {
      "text/plain": [
       "[[1,3,5],[1,3,6],[1,4,5],[1,4,6],[2,3,5],[2,3,6],[2,4,5],[2,4,6]]"
      ]
     },
     "metadata": {},
     "output_type": "display_data"
    }
   ],
   "source": [
    "sequenceA [[1,2,3],[4,5,6]]\n",
    "[[x,y] | x <- [1,2,3], y <- [4,5,6]]\n",
    "sequenceA [[1,2],[3,4]]\n",
    "[[x,y] | x <- [1,2], y <- [3,4]]  \n",
    "sequenceA [[1,2],[3,4],[5,6]]  \n",
    "[[x,y,z] | x <- [1,2], y <- [3,4], z <- [5,6]]  "
   ]
  },
  {
   "cell_type": "code",
   "execution_count": 4,
   "id": "311f47ae-41bd-497e-9ab8-8a230a7353ff",
   "metadata": {},
   "outputs": [
    {
     "data": {
      "text/plain": [
       "[\"1\",\"2\",\"3\"]"
      ]
     },
     "metadata": {},
     "output_type": "display_data"
    }
   ],
   "source": [
    "sequenceA [getLine, getLine, getLine]\n",
    "\n",
    "-- sequenceA :: [f a] -> f [a]\n",
    "-- sequenceA :: [IO String] -> IO [String]\n",
    "\n",
    "-- sequenceA [] = []\n",
    "-- sequenceA (x:xs) = (:) <$> x <*> sequenceA xs\n",
    "-- (:) <$> getLine <*> ((:) <$> getLine <*> ((:) <$> getLine <*> []))\n",
    "-- "
   ]
  },
  {
   "cell_type": "code",
   "execution_count": 3,
   "id": "9c9f6b0f-2f95-400d-af52-d0b96e8e9368",
   "metadata": {},
   "outputs": [
    {
     "ename": "",
     "evalue": "",
     "header": "MessageHeader {mhIdentifiers = [\"a44b0fe5-24c5-419c-8e23-48bb64fa86e9\"], mhParentHeader = Just (MessageHeader {mhIdentifiers = [\"a44b0fe5-24c5-419c-8e23-48bb64fa86e9\"], mhParentHeader = Nothing, mhMetadata = Metadata (fromList [(\"recordTiming\",Bool False),(\"deletedCells\",Array []),(\"cellId\",String \"9c9f6b0f-2f95-400d-af52-d0b96e8e9368\")]), mhMessageId = UUID {uuidToString = \"a5836e05-3194-4924-9ca2-871cbaa950a1\"}, mhSessionId = UUID {uuidToString = \"a44b0fe5-24c5-419c-8e23-48bb64fa86e9\"}, mhUsername = \"\", mhMsgType = ExecuteRequestMessage, mhBuffers = []}), mhMetadata = Metadata (fromList []), mhMessageId = UUID {uuidToString = \"6bc13dbc-78df-4f12-b853-14583c80558c\"}, mhSessionId = UUID {uuidToString = \"a44b0fe5-24c5-419c-8e23-48bb64fa86e9\"}, mhUsername = \"\", mhMsgType = ExecuteErrorMessage, mhBuffers = []}",
     "output_type": "error",
     "traceback": [
      "<interactive>:1:1: error: parse error on input ‘<*>’"
     ]
    }
   ],
   "source": [
    ":t <*>"
   ]
  },
  {
   "cell_type": "code",
   "execution_count": null,
   "id": "881b3bf0-f00f-4eca-b3c5-c4f2985c73cd",
   "metadata": {},
   "outputs": [],
   "source": [
    "IO (String -> [String]) <*> []\n",
    "f <*> g :: f (a -> b) -> (f a) -> (f b)\n",
    "\n"
   ]
  }
 ],
 "metadata": {
  "kernelspec": {
   "display_name": "Haskell",
   "language": "haskell",
   "name": "haskell"
  },
  "language_info": {
   "codemirror_mode": "Haskell",
   "file_extension": ".hs",
   "mimetype": "text/x-haskell",
   "name": "haskell",
   "pygments_lexer": "Haskell",
   "version": "8.10.4"
  }
 },
 "nbformat": 4,
 "nbformat_minor": 5
}
