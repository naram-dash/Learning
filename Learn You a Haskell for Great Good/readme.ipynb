{
 "cells": [
  {
   "cell_type": "markdown",
   "id": "fdea719c-fb73-44fd-837f-758fcb411956",
   "metadata": {},
   "source": [
    "## To run Haskell ipynb, run run.ps1 file."
   ]
  },
  {
   "cell_type": "code",
   "execution_count": null,
   "id": "84cb8c7e-95ed-49ee-9c52-72e9fdebcb7e",
   "metadata": {},
   "outputs": [],
   "source": [
    "it "
   ]
  },
  {
   "cell_type": "markdown",
   "id": "5caa9e96-007d-493f-8796-e44690cbd57a",
   "metadata": {},
   "source": [
    "```powershell\n",
    "docker run --rm -d -p 8888:8888 -v ${PWD}:/home/jovyan/pwd --name ihaskell_notebook crosscompass/ihaskell-notebook:latest jupyter lab --LabApp.token=''\n",
    "```"
   ]
  },
  {
   "cell_type": "markdown",
   "id": "7864bd9f-8537-4505-bee5-0ef08ed33efa",
   "metadata": {},
   "source": [
    "## To create a markdown, select Markdown from the drop-down on the left side of the screen.\n"
   ]
  },
  {
   "cell_type": "code",
   "execution_count": 4,
   "id": "49fd9493-cd71-4eca-be69-fb32a04c4f8f",
   "metadata": {},
   "outputs": [
    {
     "data": {
      "text/plain": [
       "\"To create a code, select it from the drop-down on the left side of the screen\""
      ]
     },
     "metadata": {},
     "output_type": "display_data"
    }
   ],
   "source": [
    "print \"To create a code, select it from the drop-down on the left side of the screen\""
   ]
  },
  {
   "cell_type": "markdown",
   "id": "3e0a49ed-869d-497e-aa73-831b901b2904",
   "metadata": {},
   "source": [
    "**also**"
   ]
  },
  {
   "cell_type": "code",
   "execution_count": 13,
   "id": "32eeb765-ef76-4e47-814a-f6799cd54ae1",
   "metadata": {},
   "outputs": [],
   "source": [
    "myName = \"Kim Juho\""
   ]
  },
  {
   "cell_type": "code",
   "execution_count": 14,
   "id": "c2d2a490-dcc3-4efa-b5a7-11ad080ea1ee",
   "metadata": {},
   "outputs": [
    {
     "data": {
      "text/plain": [
       "\"Hello world, Kim Juho\""
      ]
     },
     "metadata": {},
     "output_type": "display_data"
    }
   ],
   "source": [
    "print (\"Hello world,\" ++ \" \" ++ myName)"
   ]
  }
 ],
 "metadata": {
  "kernelspec": {
   "display_name": "Haskell",
   "language": "haskell",
   "name": "haskell"
  },
  "language_info": {
   "codemirror_mode": "Haskell",
   "file_extension": ".hs",
   "mimetype": "text/x-haskell",
   "name": "haskell",
   "pygments_lexer": "Haskell",
   "version": "8.10.4"
  }
 },
 "nbformat": 4,
 "nbformat_minor": 5
}
