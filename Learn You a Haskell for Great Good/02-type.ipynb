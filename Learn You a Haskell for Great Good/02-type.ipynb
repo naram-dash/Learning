{
 "cells": [
  {
   "cell_type": "markdown",
   "id": "55d509c9-9104-4af1-b211-ce50d961f488",
   "metadata": {},
   "source": [
    "# 02 타입"
   ]
  },
  {
   "cell_type": "code",
   "execution_count": null,
   "id": "5d18e86d-023b-4922-b81d-9d1156600f0a",
   "metadata": {},
   "outputs": [],
   "source": []
  }
 ],
 "metadata": {
  "kernelspec": {
   "display_name": "Haskell",
   "language": "haskell",
   "name": "haskell"
  },
  "language_info": {
   "codemirror_mode": "Haskell",
   "file_extension": ".hs",
   "mimetype": "text/x-haskell",
   "name": "haskell",
   "pygments_lexer": "Haskell",
   "version": "8.10.4"
  }
 },
 "nbformat": 4,
 "nbformat_minor": 5
}
