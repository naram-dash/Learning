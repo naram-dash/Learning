{
 "cells": [
  {
   "cell_type": "markdown",
   "id": "80a53f52-8a7e-43c7-a8c1-9378503df55c",
   "metadata": {},
   "source": [
    "# monoid"
   ]
  },
  {
   "cell_type": "markdown",
   "id": "2fb2a857-f8ff-4897-90de-c06e2f831486",
   "metadata": {},
   "source": [
    "## newtype"
   ]
  },
  {
   "cell_type": "code",
   "execution_count": 3,
   "id": "84850014-e293-4a43-b1e2-966cd245fedf",
   "metadata": {},
   "outputs": [
    {
     "data": {
      "text/plain": [
       "[2,3,4,100,200,300,5,10,15]"
      ]
     },
     "metadata": {},
     "output_type": "display_data"
    }
   ],
   "source": [
    "[(+1), (*100), (*5)] <*> [1,2,3]\n",
    "-- 리스트를 applicative functor 로 만드는 방법\n",
    "-- 1) list comprehension 연산 만들기"
   ]
  },
  {
   "cell_type": "code",
   "execution_count": 7,
   "id": "70185aa8-d587-4071-8f94-6a5140ce2038",
   "metadata": {},
   "outputs": [
    {
     "data": {
      "text/plain": [
       "[2,200,15]"
      ]
     },
     "metadata": {},
     "output_type": "display_data"
    }
   ],
   "source": [
    "import qualified Control.Applicative as Applicative\n",
    "\n",
    "Applicative.getZipList $ Applicative.ZipList [(+1), (*100), (*5)] <*> Applicative.ZipList [1,2,3]\n",
    "\n",
    "-- 리스트를 applicative functor 로 만드는 방법\n",
    "-- 2) 왼쪽 함수를 오른쪽 펑터 값에 적용하기"
   ]
  },
  {
   "cell_type": "code",
   "execution_count": 18,
   "id": "528711be-0d70-4ece-a3f6-77db4776c6c6",
   "metadata": {},
   "outputs": [
    {
     "data": {
      "text/html": [
       "<style>/* Styles used for the Hoogle display in the pager */\n",
       ".hoogle-doc {\n",
       "display: block;\n",
       "padding-bottom: 1.3em;\n",
       "padding-left: 0.4em;\n",
       "}\n",
       ".hoogle-code {\n",
       "display: block;\n",
       "font-family: monospace;\n",
       "white-space: pre;\n",
       "}\n",
       ".hoogle-text {\n",
       "display: block;\n",
       "}\n",
       ".hoogle-name {\n",
       "color: green;\n",
       "font-weight: bold;\n",
       "}\n",
       ".hoogle-head {\n",
       "font-weight: bold;\n",
       "}\n",
       ".hoogle-sub {\n",
       "display: block;\n",
       "margin-left: 0.4em;\n",
       "}\n",
       ".hoogle-package {\n",
       "font-weight: bold;\n",
       "font-style: italic;\n",
       "}\n",
       ".hoogle-module {\n",
       "font-weight: bold;\n",
       "}\n",
       ".hoogle-class {\n",
       "font-weight: bold;\n",
       "}\n",
       ".get-type {\n",
       "color: green;\n",
       "font-weight: bold;\n",
       "font-family: monospace;\n",
       "display: block;\n",
       "white-space: pre-wrap;\n",
       "}\n",
       ".show-type {\n",
       "color: green;\n",
       "font-weight: bold;\n",
       "font-family: monospace;\n",
       "margin-left: 1em;\n",
       "}\n",
       ".mono {\n",
       "font-family: monospace;\n",
       "display: block;\n",
       "}\n",
       ".err-msg {\n",
       "color: red;\n",
       "font-style: italic;\n",
       "font-family: monospace;\n",
       "white-space: pre;\n",
       "display: block;\n",
       "}\n",
       "#unshowable {\n",
       "color: red;\n",
       "font-weight: bold;\n",
       "}\n",
       ".err-msg.in.collapse {\n",
       "padding-top: 0.7em;\n",
       "}\n",
       ".highlight-code {\n",
       "white-space: pre;\n",
       "font-family: monospace;\n",
       "}\n",
       ".suggestion-warning { \n",
       "font-weight: bold;\n",
       "color: rgb(200, 130, 0);\n",
       "}\n",
       ".suggestion-error { \n",
       "font-weight: bold;\n",
       "color: red;\n",
       "}\n",
       ".suggestion-name {\n",
       "font-weight: bold;\n",
       "}\n",
       "</style><div class=\"suggestion-name\" style=\"clear:both;\">Use newtype instead of data</div><div class=\"suggestion-row\" style=\"float: left;\"><div class=\"suggestion-warning\">Found:</div><div class=\"highlight-code\" id=\"haskell\">data ZipList a = ZipList [a]</div></div><div class=\"suggestion-row\" style=\"float: left;\"><div class=\"suggestion-warning\">Why Not:</div><div class=\"highlight-code\" id=\"haskell\">newtype ZipList a = ZipList [a]</div></div>"
      ],
      "text/plain": [
       "Line 1: Use newtype instead of data\n",
       "Found:\n",
       "data ZipList a = ZipList [a]\n",
       "Why not:\n",
       "newtype ZipList a = ZipList [a]"
      ]
     },
     "metadata": {},
     "output_type": "display_data"
    }
   ],
   "source": [
    "data ZipList a = ZipList [a]"
   ]
  },
  {
   "cell_type": "code",
   "execution_count": 13,
   "id": "88d93b0e-cd78-4f76-86ee-912f973dd47b",
   "metadata": {},
   "outputs": [
    {
     "data": {
      "text/html": [
       "<style>/* Styles used for the Hoogle display in the pager */\n",
       ".hoogle-doc {\n",
       "display: block;\n",
       "padding-bottom: 1.3em;\n",
       "padding-left: 0.4em;\n",
       "}\n",
       ".hoogle-code {\n",
       "display: block;\n",
       "font-family: monospace;\n",
       "white-space: pre;\n",
       "}\n",
       ".hoogle-text {\n",
       "display: block;\n",
       "}\n",
       ".hoogle-name {\n",
       "color: green;\n",
       "font-weight: bold;\n",
       "}\n",
       ".hoogle-head {\n",
       "font-weight: bold;\n",
       "}\n",
       ".hoogle-sub {\n",
       "display: block;\n",
       "margin-left: 0.4em;\n",
       "}\n",
       ".hoogle-package {\n",
       "font-weight: bold;\n",
       "font-style: italic;\n",
       "}\n",
       ".hoogle-module {\n",
       "font-weight: bold;\n",
       "}\n",
       ".hoogle-class {\n",
       "font-weight: bold;\n",
       "}\n",
       ".get-type {\n",
       "color: green;\n",
       "font-weight: bold;\n",
       "font-family: monospace;\n",
       "display: block;\n",
       "white-space: pre-wrap;\n",
       "}\n",
       ".show-type {\n",
       "color: green;\n",
       "font-weight: bold;\n",
       "font-family: monospace;\n",
       "margin-left: 1em;\n",
       "}\n",
       ".mono {\n",
       "font-family: monospace;\n",
       "display: block;\n",
       "}\n",
       ".err-msg {\n",
       "color: red;\n",
       "font-style: italic;\n",
       "font-family: monospace;\n",
       "white-space: pre;\n",
       "display: block;\n",
       "}\n",
       "#unshowable {\n",
       "color: red;\n",
       "font-weight: bold;\n",
       "}\n",
       ".err-msg.in.collapse {\n",
       "padding-top: 0.7em;\n",
       "}\n",
       ".highlight-code {\n",
       "white-space: pre;\n",
       "font-family: monospace;\n",
       "}\n",
       ".suggestion-warning { \n",
       "font-weight: bold;\n",
       "color: rgb(200, 130, 0);\n",
       "}\n",
       ".suggestion-error { \n",
       "font-weight: bold;\n",
       "color: red;\n",
       "}\n",
       ".suggestion-name {\n",
       "font-weight: bold;\n",
       "}\n",
       "</style><div class=\"suggestion-name\" style=\"clear:both;\">Use newtype instead of data</div><div class=\"suggestion-row\" style=\"float: left;\"><div class=\"suggestion-warning\">Found:</div><div class=\"highlight-code\" id=\"haskell\">data Nomad a\n",
       "  = Nomad a\n",
       "  deriving Show</div></div><div class=\"suggestion-row\" style=\"float: left;\"><div class=\"suggestion-warning\">Why Not:</div><div class=\"highlight-code\" id=\"haskell\">newtype Nomad a\n",
       "  = Nomad a\n",
       "  deriving Show</div></div>"
      ],
      "text/plain": [
       "Line 1: Use newtype instead of data\n",
       "Found:\n",
       "data Nomad a\n",
       "  = Nomad a\n",
       "  deriving Show\n",
       "Why not:\n",
       "newtype Nomad a\n",
       "  = Nomad a\n",
       "  deriving Show"
      ]
     },
     "metadata": {},
     "output_type": "display_data"
    },
    {
     "data": {
      "text/plain": [
       "Nomad 4"
      ]
     },
     "metadata": {},
     "output_type": "display_data"
    }
   ],
   "source": [
    "data Nomad a = Nomad a \n",
    "    deriving (Show)\n",
    "Nomad 4"
   ]
  },
  {
   "cell_type": "code",
   "execution_count": 19,
   "id": "30c39b03-12d4-4a34-9b6d-b98cb9173003",
   "metadata": {},
   "outputs": [
    {
     "data": {
      "text/html": [
       "<style>/* Styles used for the Hoogle display in the pager */\n",
       ".hoogle-doc {\n",
       "display: block;\n",
       "padding-bottom: 1.3em;\n",
       "padding-left: 0.4em;\n",
       "}\n",
       ".hoogle-code {\n",
       "display: block;\n",
       "font-family: monospace;\n",
       "white-space: pre;\n",
       "}\n",
       ".hoogle-text {\n",
       "display: block;\n",
       "}\n",
       ".hoogle-name {\n",
       "color: green;\n",
       "font-weight: bold;\n",
       "}\n",
       ".hoogle-head {\n",
       "font-weight: bold;\n",
       "}\n",
       ".hoogle-sub {\n",
       "display: block;\n",
       "margin-left: 0.4em;\n",
       "}\n",
       ".hoogle-package {\n",
       "font-weight: bold;\n",
       "font-style: italic;\n",
       "}\n",
       ".hoogle-module {\n",
       "font-weight: bold;\n",
       "}\n",
       ".hoogle-class {\n",
       "font-weight: bold;\n",
       "}\n",
       ".get-type {\n",
       "color: green;\n",
       "font-weight: bold;\n",
       "font-family: monospace;\n",
       "display: block;\n",
       "white-space: pre-wrap;\n",
       "}\n",
       ".show-type {\n",
       "color: green;\n",
       "font-weight: bold;\n",
       "font-family: monospace;\n",
       "margin-left: 1em;\n",
       "}\n",
       ".mono {\n",
       "font-family: monospace;\n",
       "display: block;\n",
       "}\n",
       ".err-msg {\n",
       "color: red;\n",
       "font-style: italic;\n",
       "font-family: monospace;\n",
       "white-space: pre;\n",
       "display: block;\n",
       "}\n",
       "#unshowable {\n",
       "color: red;\n",
       "font-weight: bold;\n",
       "}\n",
       ".err-msg.in.collapse {\n",
       "padding-top: 0.7em;\n",
       "}\n",
       ".highlight-code {\n",
       "white-space: pre;\n",
       "font-family: monospace;\n",
       "}\n",
       ".suggestion-warning { \n",
       "font-weight: bold;\n",
       "color: rgb(200, 130, 0);\n",
       "}\n",
       ".suggestion-error { \n",
       "font-weight: bold;\n",
       "color: red;\n",
       "}\n",
       ".suggestion-name {\n",
       "font-weight: bold;\n",
       "}\n",
       "</style><div class=\"suggestion-name\" style=\"clear:both;\">Use newtype instead of data</div><div class=\"suggestion-row\" style=\"float: left;\"><div class=\"suggestion-warning\">Found:</div><div class=\"highlight-code\" id=\"haskell\">data ZipList a = ZipList {getZipList :: [a]}</div></div><div class=\"suggestion-row\" style=\"float: left;\"><div class=\"suggestion-warning\">Why Not:</div><div class=\"highlight-code\" id=\"haskell\">newtype ZipList a = ZipList {getZipList :: [a]}</div></div>"
      ],
      "text/plain": [
       "Line 1: Use newtype instead of data\n",
       "Found:\n",
       "data ZipList a = ZipList {getZipList :: [a]}\n",
       "Why not:\n",
       "newtype ZipList a = ZipList {getZipList :: [a]}"
      ]
     },
     "metadata": {},
     "output_type": "display_data"
    }
   ],
   "source": [
    "data ZipList a = ZipList { getZipList :: [a] }"
   ]
  },
  {
   "cell_type": "code",
   "execution_count": 21,
   "id": "6d4bd0c3-d20d-4eca-96a5-5689bec16941",
   "metadata": {},
   "outputs": [],
   "source": [
    "newtype ZipList a = ZipList {getZipList :: [a]}\n",
    "-- data를 사용하면, 프로그램 중에 래핑/언래핑 비용이 발생하지만,\n",
    "-- newtype을 사용하면, 내부적으로는 동일하지만 다른 타입을 만듬\n",
    "-- newtype 사용시에 하스켈은 기존 타입을 래핑하기 위해서 사용한다는 것을 알고, 래핑 언래핑 작업을 제거한다."
   ]
  },
  {
   "cell_type": "code",
   "execution_count": 26,
   "id": "525e83f8-e028-499a-9172-e246936fc221",
   "metadata": {},
   "outputs": [
    {
     "data": {
      "text/html": [
       "<style>/* Styles used for the Hoogle display in the pager */\n",
       ".hoogle-doc {\n",
       "display: block;\n",
       "padding-bottom: 1.3em;\n",
       "padding-left: 0.4em;\n",
       "}\n",
       ".hoogle-code {\n",
       "display: block;\n",
       "font-family: monospace;\n",
       "white-space: pre;\n",
       "}\n",
       ".hoogle-text {\n",
       "display: block;\n",
       "}\n",
       ".hoogle-name {\n",
       "color: green;\n",
       "font-weight: bold;\n",
       "}\n",
       ".hoogle-head {\n",
       "font-weight: bold;\n",
       "}\n",
       ".hoogle-sub {\n",
       "display: block;\n",
       "margin-left: 0.4em;\n",
       "}\n",
       ".hoogle-package {\n",
       "font-weight: bold;\n",
       "font-style: italic;\n",
       "}\n",
       ".hoogle-module {\n",
       "font-weight: bold;\n",
       "}\n",
       ".hoogle-class {\n",
       "font-weight: bold;\n",
       "}\n",
       ".get-type {\n",
       "color: green;\n",
       "font-weight: bold;\n",
       "font-family: monospace;\n",
       "display: block;\n",
       "white-space: pre-wrap;\n",
       "}\n",
       ".show-type {\n",
       "color: green;\n",
       "font-weight: bold;\n",
       "font-family: monospace;\n",
       "margin-left: 1em;\n",
       "}\n",
       ".mono {\n",
       "font-family: monospace;\n",
       "display: block;\n",
       "}\n",
       ".err-msg {\n",
       "color: red;\n",
       "font-style: italic;\n",
       "font-family: monospace;\n",
       "white-space: pre;\n",
       "display: block;\n",
       "}\n",
       "#unshowable {\n",
       "color: red;\n",
       "font-weight: bold;\n",
       "}\n",
       ".err-msg.in.collapse {\n",
       "padding-top: 0.7em;\n",
       "}\n",
       ".highlight-code {\n",
       "white-space: pre;\n",
       "font-family: monospace;\n",
       "}\n",
       ".suggestion-warning { \n",
       "font-weight: bold;\n",
       "color: rgb(200, 130, 0);\n",
       "}\n",
       ".suggestion-error { \n",
       "font-weight: bold;\n",
       "color: red;\n",
       "}\n",
       ".suggestion-name {\n",
       "font-weight: bold;\n",
       "}\n",
       "</style><span class='get-type'>a :: TestNewType</span>"
      ],
      "text/plain": [
       "a :: TestNewType"
      ]
     },
     "metadata": {},
     "output_type": "display_data"
    },
    {
     "data": {
      "text/plain": [
       "\"army\""
      ]
     },
     "metadata": {},
     "output_type": "display_data"
    }
   ],
   "source": [
    "-- newtype 키워드를 통해 기존 타입을 새로운 타입으로 만들면\n",
    "-- 1) 단하나의 값 생성자만 만들수 있으며\n",
    "-- 2) 값 생성자는 단 하나의 필드만 가질 수 있다.\n",
    "\n",
    "newtype TestNewType = TestNewType {callOfDuty :: String}\n",
    "\n",
    "a = TestNewType \"army\"\n",
    ":t a\n",
    "b = callOfDuty a\n",
    "b"
   ]
  },
  {
   "cell_type": "code",
   "execution_count": 27,
   "id": "13d5d7c1-cb7b-423c-bf06-d8b456076a40",
   "metadata": {},
   "outputs": [],
   "source": [
    "newtype CharList = CharList {getCharList :: [Char] } deriving (Eq, Show)"
   ]
  },
  {
   "cell_type": "code",
   "execution_count": 30,
   "id": "59adf16b-11ee-43bf-b655-81196c8a5812",
   "metadata": {},
   "outputs": [
    {
     "data": {
      "text/plain": [
       "CharList {getCharList = \"this will be shown!\"}"
      ]
     },
     "metadata": {},
     "output_type": "display_data"
    },
    {
     "data": {
      "text/plain": [
       "True"
      ]
     },
     "metadata": {},
     "output_type": "display_data"
    },
    {
     "data": {
      "text/plain": [
       "False"
      ]
     },
     "metadata": {},
     "output_type": "display_data"
    }
   ],
   "source": [
    "CharList \"this will be shown!\"\n",
    "CharList \"benny\" == CharList \"benny\"\n",
    "CharList \"benny\" == CharList \"oisters\""
   ]
  },
  {
   "cell_type": "code",
   "execution_count": 32,
   "id": "d7befeee-d9b0-4b9e-adc2-0547ff965f7d",
   "metadata": {},
   "outputs": [
    {
     "data": {
      "text/html": [
       "<style>/* Styles used for the Hoogle display in the pager */\n",
       ".hoogle-doc {\n",
       "display: block;\n",
       "padding-bottom: 1.3em;\n",
       "padding-left: 0.4em;\n",
       "}\n",
       ".hoogle-code {\n",
       "display: block;\n",
       "font-family: monospace;\n",
       "white-space: pre;\n",
       "}\n",
       ".hoogle-text {\n",
       "display: block;\n",
       "}\n",
       ".hoogle-name {\n",
       "color: green;\n",
       "font-weight: bold;\n",
       "}\n",
       ".hoogle-head {\n",
       "font-weight: bold;\n",
       "}\n",
       ".hoogle-sub {\n",
       "display: block;\n",
       "margin-left: 0.4em;\n",
       "}\n",
       ".hoogle-package {\n",
       "font-weight: bold;\n",
       "font-style: italic;\n",
       "}\n",
       ".hoogle-module {\n",
       "font-weight: bold;\n",
       "}\n",
       ".hoogle-class {\n",
       "font-weight: bold;\n",
       "}\n",
       ".get-type {\n",
       "color: green;\n",
       "font-weight: bold;\n",
       "font-family: monospace;\n",
       "display: block;\n",
       "white-space: pre-wrap;\n",
       "}\n",
       ".show-type {\n",
       "color: green;\n",
       "font-weight: bold;\n",
       "font-family: monospace;\n",
       "margin-left: 1em;\n",
       "}\n",
       ".mono {\n",
       "font-family: monospace;\n",
       "display: block;\n",
       "}\n",
       ".err-msg {\n",
       "color: red;\n",
       "font-style: italic;\n",
       "font-family: monospace;\n",
       "white-space: pre;\n",
       "display: block;\n",
       "}\n",
       "#unshowable {\n",
       "color: red;\n",
       "font-weight: bold;\n",
       "}\n",
       ".err-msg.in.collapse {\n",
       "padding-top: 0.7em;\n",
       "}\n",
       ".highlight-code {\n",
       "white-space: pre;\n",
       "font-family: monospace;\n",
       "}\n",
       ".suggestion-warning { \n",
       "font-weight: bold;\n",
       "color: rgb(200, 130, 0);\n",
       "}\n",
       ".suggestion-error { \n",
       "font-weight: bold;\n",
       "color: red;\n",
       "}\n",
       ".suggestion-name {\n",
       "font-weight: bold;\n",
       "}\n",
       "</style><span class='get-type'>CharList :: [Char] -> CharList</span>"
      ],
      "text/plain": [
       "CharList :: [Char] -> CharList"
      ]
     },
     "metadata": {},
     "output_type": "display_data"
    },
    {
     "data": {
      "text/html": [
       "<style>/* Styles used for the Hoogle display in the pager */\n",
       ".hoogle-doc {\n",
       "display: block;\n",
       "padding-bottom: 1.3em;\n",
       "padding-left: 0.4em;\n",
       "}\n",
       ".hoogle-code {\n",
       "display: block;\n",
       "font-family: monospace;\n",
       "white-space: pre;\n",
       "}\n",
       ".hoogle-text {\n",
       "display: block;\n",
       "}\n",
       ".hoogle-name {\n",
       "color: green;\n",
       "font-weight: bold;\n",
       "}\n",
       ".hoogle-head {\n",
       "font-weight: bold;\n",
       "}\n",
       ".hoogle-sub {\n",
       "display: block;\n",
       "margin-left: 0.4em;\n",
       "}\n",
       ".hoogle-package {\n",
       "font-weight: bold;\n",
       "font-style: italic;\n",
       "}\n",
       ".hoogle-module {\n",
       "font-weight: bold;\n",
       "}\n",
       ".hoogle-class {\n",
       "font-weight: bold;\n",
       "}\n",
       ".get-type {\n",
       "color: green;\n",
       "font-weight: bold;\n",
       "font-family: monospace;\n",
       "display: block;\n",
       "white-space: pre-wrap;\n",
       "}\n",
       ".show-type {\n",
       "color: green;\n",
       "font-weight: bold;\n",
       "font-family: monospace;\n",
       "margin-left: 1em;\n",
       "}\n",
       ".mono {\n",
       "font-family: monospace;\n",
       "display: block;\n",
       "}\n",
       ".err-msg {\n",
       "color: red;\n",
       "font-style: italic;\n",
       "font-family: monospace;\n",
       "white-space: pre;\n",
       "display: block;\n",
       "}\n",
       "#unshowable {\n",
       "color: red;\n",
       "font-weight: bold;\n",
       "}\n",
       ".err-msg.in.collapse {\n",
       "padding-top: 0.7em;\n",
       "}\n",
       ".highlight-code {\n",
       "white-space: pre;\n",
       "font-family: monospace;\n",
       "}\n",
       ".suggestion-warning { \n",
       "font-weight: bold;\n",
       "color: rgb(200, 130, 0);\n",
       "}\n",
       ".suggestion-error { \n",
       "font-weight: bold;\n",
       "color: red;\n",
       "}\n",
       ".suggestion-name {\n",
       "font-weight: bold;\n",
       "}\n",
       "</style><span class='get-type'>getCharList :: CharList -> [Char]</span>"
      ],
      "text/plain": [
       "getCharList :: CharList -> [Char]"
      ]
     },
     "metadata": {},
     "output_type": "display_data"
    }
   ],
   "source": [
    ":t CharList\n",
    ":t getCharList"
   ]
  },
  {
   "cell_type": "markdown",
   "id": "c99fda7e-9406-48cf-b096-1963a11487d8",
   "metadata": {},
   "source": [
    "## 타입 클래스 인스턴스를 만들기 위해 newtype 사용하기"
   ]
  },
  {
   "cell_type": "code",
   "execution_count": 33,
   "id": "e1e387ca-f8af-4e5c-8e82-c07f1e56d053",
   "metadata": {},
   "outputs": [],
   "source": [
    "newtype Pair b a = Pair { getPair :: (a,b) }"
   ]
  },
  {
   "cell_type": "code",
   "execution_count": 36,
   "id": "a4454c67-fa1a-4d5a-afcc-3038cea05d09",
   "metadata": {},
   "outputs": [],
   "source": [
    "instance Functor (Pair c) where\n",
    "    fmap f (Pair (x, y)) = Pair (f x , y)\n",
    "    -- fmap :: (a -> b) -> f a -> f b\n",
    "    -- fmap :: (a, b) -> (a, c) -> f (a, c) -> f (b, c)\n",
    "    -- f (_, c) => Pair c"
   ]
  },
  {
   "cell_type": "code",
   "execution_count": 38,
   "id": "9425a7af-51cc-4d95-86e2-0f53a8ffa514",
   "metadata": {},
   "outputs": [
    {
     "data": {
      "text/plain": [
       "(200,3)"
      ]
     },
     "metadata": {},
     "output_type": "display_data"
    },
    {
     "data": {
      "text/plain": [
       "(\"gnillac nodnol\",3)"
      ]
     },
     "metadata": {},
     "output_type": "display_data"
    }
   ],
   "source": [
    "getPair $ fmap (*100)  (Pair (2,3))\n",
    "getPair $ fmap reverse (Pair (\"london calling\", 3))"
   ]
  },
  {
   "cell_type": "code",
   "execution_count": 39,
   "id": "b483625a-eca8-4387-b8c4-554aa758a861",
   "metadata": {},
   "outputs": [
    {
     "ename": "",
     "evalue": "",
     "header": "MessageHeader {mhIdentifiers = [\"3c34784f-7642-41ec-95ec-c36d6746b514\"], mhParentHeader = Just (MessageHeader {mhIdentifiers = [\"3c34784f-7642-41ec-95ec-c36d6746b514\"], mhParentHeader = Nothing, mhMetadata = Metadata (fromList [(\"recordTiming\",Bool False),(\"deletedCells\",Array []),(\"cellId\",String \"b483625a-eca8-4387-b8c4-554aa758a861\")]), mhMessageId = UUID {uuidToString = \"182bce62-bef3-4302-a475-d6c0f09d062d\"}, mhSessionId = UUID {uuidToString = \"3c34784f-7642-41ec-95ec-c36d6746b514\"}, mhUsername = \"\", mhMsgType = ExecuteRequestMessage, mhBuffers = []}), mhMetadata = Metadata (fromList []), mhMessageId = UUID {uuidToString = \"77d392dd-ec95-4abe-adde-88e797f463c1\"}, mhSessionId = UUID {uuidToString = \"3c34784f-7642-41ec-95ec-c36d6746b514\"}, mhUsername = \"\", mhMsgType = ExecuteErrorMessage, mhBuffers = []}",
     "output_type": "error",
     "traceback": [
      "Prelude.undefined\nCallStack (from HasCallStack):\n  error, called at libraries/base/GHC/Err.hs:79:14 in base:GHC.Err\n  undefined, called at <interactive>:1:1 in interactive:Ghci777"
     ]
    }
   ],
   "source": [
    "--하스켈의 undefined는 잘못된 연산을 나타낸다.\n",
    "--undefined = error \"Prelude.undefined\"\n",
    "undefined"
   ]
  },
  {
   "cell_type": "code",
   "execution_count": 40,
   "id": "48585ac6-a3ce-4e1b-a45a-54ecc151b0d5",
   "metadata": {},
   "outputs": [
    {
     "data": {
      "text/plain": [
       "3"
      ]
     },
     "metadata": {},
     "output_type": "display_data"
    }
   ],
   "source": [
    "head [3,4,5, undefined, 2, undefined]"
   ]
  },
  {
   "cell_type": "code",
   "execution_count": 43,
   "id": "a6dc3951-8ea3-49df-abd9-389eb286b8d2",
   "metadata": {},
   "outputs": [
    {
     "data": {
      "text/html": [
       "<style>/* Styles used for the Hoogle display in the pager */\n",
       ".hoogle-doc {\n",
       "display: block;\n",
       "padding-bottom: 1.3em;\n",
       "padding-left: 0.4em;\n",
       "}\n",
       ".hoogle-code {\n",
       "display: block;\n",
       "font-family: monospace;\n",
       "white-space: pre;\n",
       "}\n",
       ".hoogle-text {\n",
       "display: block;\n",
       "}\n",
       ".hoogle-name {\n",
       "color: green;\n",
       "font-weight: bold;\n",
       "}\n",
       ".hoogle-head {\n",
       "font-weight: bold;\n",
       "}\n",
       ".hoogle-sub {\n",
       "display: block;\n",
       "margin-left: 0.4em;\n",
       "}\n",
       ".hoogle-package {\n",
       "font-weight: bold;\n",
       "font-style: italic;\n",
       "}\n",
       ".hoogle-module {\n",
       "font-weight: bold;\n",
       "}\n",
       ".hoogle-class {\n",
       "font-weight: bold;\n",
       "}\n",
       ".get-type {\n",
       "color: green;\n",
       "font-weight: bold;\n",
       "font-family: monospace;\n",
       "display: block;\n",
       "white-space: pre-wrap;\n",
       "}\n",
       ".show-type {\n",
       "color: green;\n",
       "font-weight: bold;\n",
       "font-family: monospace;\n",
       "margin-left: 1em;\n",
       "}\n",
       ".mono {\n",
       "font-family: monospace;\n",
       "display: block;\n",
       "}\n",
       ".err-msg {\n",
       "color: red;\n",
       "font-style: italic;\n",
       "font-family: monospace;\n",
       "white-space: pre;\n",
       "display: block;\n",
       "}\n",
       "#unshowable {\n",
       "color: red;\n",
       "font-weight: bold;\n",
       "}\n",
       ".err-msg.in.collapse {\n",
       "padding-top: 0.7em;\n",
       "}\n",
       ".highlight-code {\n",
       "white-space: pre;\n",
       "font-family: monospace;\n",
       "}\n",
       ".suggestion-warning { \n",
       "font-weight: bold;\n",
       "color: rgb(200, 130, 0);\n",
       "}\n",
       ".suggestion-error { \n",
       "font-weight: bold;\n",
       "color: red;\n",
       "}\n",
       ".suggestion-name {\n",
       "font-weight: bold;\n",
       "}\n",
       "</style><div class=\"suggestion-name\" style=\"clear:both;\">Use newtype instead of data</div><div class=\"suggestion-row\" style=\"float: left;\"><div class=\"suggestion-warning\">Found:</div><div class=\"highlight-code\" id=\"haskell\">data CoolBool = CoolBool {getCoolBool :: Bool}</div></div><div class=\"suggestion-row\" style=\"float: left;\"><div class=\"suggestion-warning\">Why Not:</div><div class=\"highlight-code\" id=\"haskell\">newtype CoolBool = CoolBool {getCoolBool :: Bool}</div></div>"
      ],
      "text/plain": [
       "Line 1: Use newtype instead of data\n",
       "Found:\n",
       "data CoolBool = CoolBool {getCoolBool :: Bool}\n",
       "Why not:\n",
       "newtype CoolBool = CoolBool {getCoolBool :: Bool}"
      ]
     },
     "metadata": {},
     "output_type": "display_data"
    },
    {
     "ename": "",
     "evalue": "",
     "header": "MessageHeader {mhIdentifiers = [\"3c34784f-7642-41ec-95ec-c36d6746b514\"], mhParentHeader = Just (MessageHeader {mhIdentifiers = [\"3c34784f-7642-41ec-95ec-c36d6746b514\"], mhParentHeader = Nothing, mhMetadata = Metadata (fromList [(\"recordTiming\",Bool False),(\"deletedCells\",Array []),(\"cellId\",String \"a6dc3951-8ea3-49df-abd9-389eb286b8d2\")]), mhMessageId = UUID {uuidToString = \"4aa24774-a9bd-49ba-b99b-66c7d177ab8b\"}, mhSessionId = UUID {uuidToString = \"3c34784f-7642-41ec-95ec-c36d6746b514\"}, mhUsername = \"\", mhMsgType = ExecuteRequestMessage, mhBuffers = []}), mhMetadata = Metadata (fromList []), mhMessageId = UUID {uuidToString = \"97d7bf50-ba78-41fe-903e-94340a96f350\"}, mhSessionId = UUID {uuidToString = \"3c34784f-7642-41ec-95ec-c36d6746b514\"}, mhUsername = \"\", mhMsgType = ExecuteErrorMessage, mhBuffers = []}",
     "output_type": "error",
     "traceback": [
      "Prelude.undefined\nCallStack (from HasCallStack):\n  error, called at libraries/base/GHC/Err.hs:79:14 in base:GHC.Err\n  undefined, called at <interactive>:1:9 in interactive:Ghci864"
     ]
    }
   ],
   "source": [
    "data CoolBool = CoolBool { getCoolBool :: Bool }\n",
    "helloMe :: CoolBool -> String\n",
    "helloMe (CoolBool _) = \"hello\"\n",
    "\n",
    "helloMe undefined\n",
    "\n",
    "-- 예외가 발생한 이유\n",
    "-- data 키워드로 정의된 타입은 여러개의 값 생성자들을 가질수 있음\n",
    "-- 함수는 주어진 값이 CoolBool 패턴에 맞는지 알아보려면 값을 만들때 사용한 값 생성자가 무엇인지\n",
    "-- 그 값을 확인해야한다\n",
    "-- 그리고 undefined를 판단하려고 할 때 예외가 발생한다."
   ]
  },
  {
   "cell_type": "code",
   "execution_count": 46,
   "id": "1a09050c-fea9-4ec7-a53e-627ff55d1e8d",
   "metadata": {},
   "outputs": [
    {
     "data": {
      "text/plain": [
       "\"hello\""
      ]
     },
     "metadata": {},
     "output_type": "display_data"
    }
   ],
   "source": [
    "newtype CoolBool = CoolBool { getCoolBool :: Bool }\n",
    "helloMe :: CoolBool -> String\n",
    "helloMe (CoolBool _) = \"hello\"\n",
    "\n",
    "helloMe undefined\n",
    "-- 하스켈에서 newtype의 패턴매칭이 더 느긋하며, data 보다 처리속도는 더 빠르다\n",
    "\n",
    "-- newtype은 원래 값을 동일한 방법으로 새운 타입의 값들을 나타낼 수 있음\n",
    "-- newtype은 하나의 생성자만 가지므로, 값 생성자를 체크하기 위해 값을 판단할 필요가 없기 때문"
   ]
  },
  {
   "cell_type": "code",
   "execution_count": 48,
   "id": "7e513838-55e2-4956-9078-e5a518e1d75f",
   "metadata": {},
   "outputs": [],
   "source": [
    "-- 이것은 data와 newtype 이 비슷해보일지 몰라도, 다른 매커니즘이라는 것\n",
    "-- data는 타입을 처음부터 만드는데 사용할 수 있다\n",
    "-- newtype은 기존 타입으로 전혀 새로운 타입을 만드는데 사용된다.\n",
    "-- newtype 값의 패턴매칭은, data에서처럼 상자로 어떤 값을 갖는다기 보다는, \n",
    "-- (박싱이 아니라 캐스팅?)\n",
    "-- 하나의 타입에서 다른 타입으로 직접 변환하는 것이다."
   ]
  },
  {
   "cell_type": "code",
   "execution_count": 49,
   "id": "c7332b24-bcc9-4050-ad59-497b522e5619",
   "metadata": {},
   "outputs": [],
   "source": [
    "newtype CharList = CharList {getCharList :: [Char]}\n",
    "\n",
    "-- CharList와 [Char]을 합치기 위해 ++ 를 사용할 수 없다.\n",
    "-- CharList끼리 합치기 위해서도 ++를 사용할 수 없다.\n",
    "-- CharList가 [Char] 리스트를 포함하고 있다고 말할 수는 있어도 CharList 타입이 [Char]가 아니기 때문"
   ]
  },
  {
   "cell_type": "code",
   "execution_count": 50,
   "id": "76435f73-8ec1-409b-b93a-e2e73c8d2779",
   "metadata": {},
   "outputs": [],
   "source": [
    "-- newtype 안에 레코드 구문을 사용하면 새로운 타입과 원래의 타입을 서로 변환해주느는 함수들을 얻는다\n",
    "-- 새로운 타입은 원래 타입이 속한 타입 클래스와 인스턴스를 자동으로 만들어주지 않는다."
   ]
  },
  {
   "cell_type": "markdown",
   "id": "dc5bc084-f0e8-4b5d-b338-725c9bd8dd64",
   "metadata": {},
   "source": [
    "## 모노이드"
   ]
  },
  {
   "cell_type": "code",
   "execution_count": 54,
   "id": "8a4b644a-1677-465b-b80f-4edc6cdad486",
   "metadata": {},
   "outputs": [
    {
     "data": {},
     "metadata": {},
     "output_type": "display_data"
    },
    {
     "data": {
      "text/html": [
       "<div style='background: rgb(247, 247, 247);'><form><textarea id='code'>type Monoid :: * -> Constraint\n",
       "class Semigroup a => Monoid a where\n",
       "  mempty :: a\n",
       "  mappend :: a -> a -> a\n",
       "  mconcat :: [a] -> a\n",
       "  {-# MINIMAL mempty #-}\n",
       "  \t-- Defined in ‘GHC.Base’\n",
       "instance forall a k (b :: k). Monoid a => Monoid (Applicative.Const a b) -- Defined in ‘Data.Functor.Const’\n",
       "instance Monoid Display -- Defined in ‘IHaskell.Types’\n",
       "instance Monoid [a] -- Defined in ‘GHC.Base’\n",
       "instance Monoid Ordering -- Defined in ‘GHC.Base’\n",
       "instance Semigroup a => Monoid (Maybe a) -- Defined in ‘GHC.Base’\n",
       "instance Monoid a => Monoid (IO a) -- Defined in ‘GHC.Base’\n",
       "instance Monoid b => Monoid (a -> b) -- Defined in ‘GHC.Base’\n",
       "instance (Monoid a, Monoid b, Monoid c, Monoid d, Monoid e) => Monoid (a, b, c, d, e) -- Defined in ‘GHC.Base’\n",
       "instance (Monoid a, Monoid b, Monoid c, Monoid d) => Monoid (a, b, c, d) -- Defined in ‘GHC.Base’\n",
       "instance (Monoid a, Monoid b, Monoid c) => Monoid (a, b, c) -- Defined in ‘GHC.Base’\n",
       "instance (Monoid a, Monoid b) => Monoid (a, b) -- Defined in ‘GHC.Base’\n",
       "instance Monoid () -- Defined in ‘GHC.Base’\n",
       "instance Monoid a => Monoid (IHaskellTH.Q a) -- Defined in ‘Language.Haskell.TH.Instances’\n",
       "</textarea></form></div><script>CodeMirror.fromTextArea(document.getElementById('code'), {mode: 'haskell', readOnly: 'nocursor'});</script>"
      ],
      "text/plain": [
       "type Monoid :: * -> Constraint\n",
       "class Semigroup a => Monoid a where\n",
       "  mempty :: a\n",
       "  mappend :: a -> a -> a\n",
       "  mconcat :: [a] -> a\n",
       "  {-# MINIMAL mempty #-}\n",
       "  \t-- Defined in ‘GHC.Base’\n",
       "instance forall a k (b :: k). Monoid a => Monoid (Applicative.Const a b) -- Defined in ‘Data.Functor.Const’\n",
       "instance Monoid Display -- Defined in ‘IHaskell.Types’\n",
       "instance Monoid [a] -- Defined in ‘GHC.Base’\n",
       "instance Monoid Ordering -- Defined in ‘GHC.Base’\n",
       "instance Semigroup a => Monoid (Maybe a) -- Defined in ‘GHC.Base’\n",
       "instance Monoid a => Monoid (IO a) -- Defined in ‘GHC.Base’\n",
       "instance Monoid b => Monoid (a -> b) -- Defined in ‘GHC.Base’\n",
       "instance (Monoid a, Monoid b, Monoid c, Monoid d, Monoid e) => Monoid (a, b, c, d, e) -- Defined in ‘GHC.Base’\n",
       "instance (Monoid a, Monoid b, Monoid c, Monoid d) => Monoid (a, b, c, d) -- Defined in ‘GHC.Base’\n",
       "instance (Monoid a, Monoid b, Monoid c) => Monoid (a, b, c) -- Defined in ‘GHC.Base’\n",
       "instance (Monoid a, Monoid b) => Monoid (a, b) -- Defined in ‘GHC.Base’\n",
       "instance Monoid () -- Defined in ‘GHC.Base’\n",
       "instance Monoid a => Monoid (IHaskellTH.Q a) -- Defined in ‘Language.Haskell.TH.Instances’"
      ]
     },
     "metadata": {},
     "output_type": "display_data"
    }
   ],
   "source": [
    ":info Monoid\n",
    "-- type Monoid :: * -> Constraint\n",
    "-- class Semigroup a => Monoid a where\n",
    "--   mempty :: a\n",
    "--   mappend :: a -> a -> a\n",
    "--   mconcat :: [a] -> a"
   ]
  },
  {
   "cell_type": "code",
   "execution_count": 58,
   "id": "5dc1d349-e251-4ac5-bc75-dc207fef00f5",
   "metadata": {},
   "outputs": [],
   "source": [
    "-- 모노이드는 구체적인 타입(concrete type)만을 내부 값으로 가진다\n",
    "-- Functor나 Applicative와는 다른 점"
   ]
  },
  {
   "cell_type": "code",
   "execution_count": null,
   "id": "b235f343-f899-45fe-a398-096b2c4a6ab3",
   "metadata": {},
   "outputs": [],
   "source": [
    "-- 모노이드는 연결 이진함수와 항등원으로 구성된다\n",
    "-- 어떤것이 함수에 대한 식별자(항등원)처럼 동작한다면 "
   ]
  },
  {
   "cell_type": "code",
   "execution_count": 61,
   "id": "570da374-5e7d-4fb7-ab2c-4ebe0ec0fe18",
   "metadata": {},
   "outputs": [
    {
     "data": {
      "text/html": [
       "<style>/* Styles used for the Hoogle display in the pager */\n",
       ".hoogle-doc {\n",
       "display: block;\n",
       "padding-bottom: 1.3em;\n",
       "padding-left: 0.4em;\n",
       "}\n",
       ".hoogle-code {\n",
       "display: block;\n",
       "font-family: monospace;\n",
       "white-space: pre;\n",
       "}\n",
       ".hoogle-text {\n",
       "display: block;\n",
       "}\n",
       ".hoogle-name {\n",
       "color: green;\n",
       "font-weight: bold;\n",
       "}\n",
       ".hoogle-head {\n",
       "font-weight: bold;\n",
       "}\n",
       ".hoogle-sub {\n",
       "display: block;\n",
       "margin-left: 0.4em;\n",
       "}\n",
       ".hoogle-package {\n",
       "font-weight: bold;\n",
       "font-style: italic;\n",
       "}\n",
       ".hoogle-module {\n",
       "font-weight: bold;\n",
       "}\n",
       ".hoogle-class {\n",
       "font-weight: bold;\n",
       "}\n",
       ".get-type {\n",
       "color: green;\n",
       "font-weight: bold;\n",
       "font-family: monospace;\n",
       "display: block;\n",
       "white-space: pre-wrap;\n",
       "}\n",
       ".show-type {\n",
       "color: green;\n",
       "font-weight: bold;\n",
       "font-family: monospace;\n",
       "margin-left: 1em;\n",
       "}\n",
       ".mono {\n",
       "font-family: monospace;\n",
       "display: block;\n",
       "}\n",
       ".err-msg {\n",
       "color: red;\n",
       "font-style: italic;\n",
       "font-family: monospace;\n",
       "white-space: pre;\n",
       "display: block;\n",
       "}\n",
       "#unshowable {\n",
       "color: red;\n",
       "font-weight: bold;\n",
       "}\n",
       ".err-msg.in.collapse {\n",
       "padding-top: 0.7em;\n",
       "}\n",
       ".highlight-code {\n",
       "white-space: pre;\n",
       "font-family: monospace;\n",
       "}\n",
       ".suggestion-warning { \n",
       "font-weight: bold;\n",
       "color: rgb(200, 130, 0);\n",
       "}\n",
       ".suggestion-error { \n",
       "font-weight: bold;\n",
       "color: red;\n",
       "}\n",
       ".suggestion-name {\n",
       "font-weight: bold;\n",
       "}\n",
       "</style><span class='get-type'>Monoid.mempty :: forall a. Monoid a => a</span>"
      ],
      "text/plain": [
       "Monoid.mempty :: forall a. Monoid a => a"
      ]
     },
     "metadata": {},
     "output_type": "display_data"
    }
   ],
   "source": [
    "import qualified Data.Monoid as Monoid\n",
    "\n",
    ":t Monoid.mempty\n",
    "-- 매개변수를 받지 않는다\n",
    "-- Bounded의 minBound 같은 다형성 상수\n",
    "-- 특정 모노이드에 대한 식별값을 나타냄"
   ]
  },
  {
   "cell_type": "code",
   "execution_count": 63,
   "id": "845a6b1c-fb48-40d2-af4c-b4090b9bc5e7",
   "metadata": {},
   "outputs": [
    {
     "data": {
      "text/html": [
       "<style>/* Styles used for the Hoogle display in the pager */\n",
       ".hoogle-doc {\n",
       "display: block;\n",
       "padding-bottom: 1.3em;\n",
       "padding-left: 0.4em;\n",
       "}\n",
       ".hoogle-code {\n",
       "display: block;\n",
       "font-family: monospace;\n",
       "white-space: pre;\n",
       "}\n",
       ".hoogle-text {\n",
       "display: block;\n",
       "}\n",
       ".hoogle-name {\n",
       "color: green;\n",
       "font-weight: bold;\n",
       "}\n",
       ".hoogle-head {\n",
       "font-weight: bold;\n",
       "}\n",
       ".hoogle-sub {\n",
       "display: block;\n",
       "margin-left: 0.4em;\n",
       "}\n",
       ".hoogle-package {\n",
       "font-weight: bold;\n",
       "font-style: italic;\n",
       "}\n",
       ".hoogle-module {\n",
       "font-weight: bold;\n",
       "}\n",
       ".hoogle-class {\n",
       "font-weight: bold;\n",
       "}\n",
       ".get-type {\n",
       "color: green;\n",
       "font-weight: bold;\n",
       "font-family: monospace;\n",
       "display: block;\n",
       "white-space: pre-wrap;\n",
       "}\n",
       ".show-type {\n",
       "color: green;\n",
       "font-weight: bold;\n",
       "font-family: monospace;\n",
       "margin-left: 1em;\n",
       "}\n",
       ".mono {\n",
       "font-family: monospace;\n",
       "display: block;\n",
       "}\n",
       ".err-msg {\n",
       "color: red;\n",
       "font-style: italic;\n",
       "font-family: monospace;\n",
       "white-space: pre;\n",
       "display: block;\n",
       "}\n",
       "#unshowable {\n",
       "color: red;\n",
       "font-weight: bold;\n",
       "}\n",
       ".err-msg.in.collapse {\n",
       "padding-top: 0.7em;\n",
       "}\n",
       ".highlight-code {\n",
       "white-space: pre;\n",
       "font-family: monospace;\n",
       "}\n",
       ".suggestion-warning { \n",
       "font-weight: bold;\n",
       "color: rgb(200, 130, 0);\n",
       "}\n",
       ".suggestion-error { \n",
       "font-weight: bold;\n",
       "color: red;\n",
       "}\n",
       ".suggestion-name {\n",
       "font-weight: bold;\n",
       "}\n",
       "</style><span class='get-type'>Monoid.mappend :: forall a. Monoid a => a -> a -> a</span>"
      ],
      "text/plain": [
       "Monoid.mappend :: forall a. Monoid a => a -> a -> a"
      ]
     },
     "metadata": {},
     "output_type": "display_data"
    }
   ],
   "source": [
    "import qualified Data.Monoid as Monoid\n",
    "\n",
    ":t Monoid.mappend\n",
    "-- 동일한 타입 두개를 받아 또 다른 값을 반환\n",
    "-- 어떤 방법으로 두 가지를 이용하여 연산하는 것을 의미"
   ]
  },
  {
   "cell_type": "code",
   "execution_count": 64,
   "id": "d22d64a1-c86a-499e-93df-734b515cca37",
   "metadata": {},
   "outputs": [
    {
     "data": {
      "text/html": [
       "<style>/* Styles used for the Hoogle display in the pager */\n",
       ".hoogle-doc {\n",
       "display: block;\n",
       "padding-bottom: 1.3em;\n",
       "padding-left: 0.4em;\n",
       "}\n",
       ".hoogle-code {\n",
       "display: block;\n",
       "font-family: monospace;\n",
       "white-space: pre;\n",
       "}\n",
       ".hoogle-text {\n",
       "display: block;\n",
       "}\n",
       ".hoogle-name {\n",
       "color: green;\n",
       "font-weight: bold;\n",
       "}\n",
       ".hoogle-head {\n",
       "font-weight: bold;\n",
       "}\n",
       ".hoogle-sub {\n",
       "display: block;\n",
       "margin-left: 0.4em;\n",
       "}\n",
       ".hoogle-package {\n",
       "font-weight: bold;\n",
       "font-style: italic;\n",
       "}\n",
       ".hoogle-module {\n",
       "font-weight: bold;\n",
       "}\n",
       ".hoogle-class {\n",
       "font-weight: bold;\n",
       "}\n",
       ".get-type {\n",
       "color: green;\n",
       "font-weight: bold;\n",
       "font-family: monospace;\n",
       "display: block;\n",
       "white-space: pre-wrap;\n",
       "}\n",
       ".show-type {\n",
       "color: green;\n",
       "font-weight: bold;\n",
       "font-family: monospace;\n",
       "margin-left: 1em;\n",
       "}\n",
       ".mono {\n",
       "font-family: monospace;\n",
       "display: block;\n",
       "}\n",
       ".err-msg {\n",
       "color: red;\n",
       "font-style: italic;\n",
       "font-family: monospace;\n",
       "white-space: pre;\n",
       "display: block;\n",
       "}\n",
       "#unshowable {\n",
       "color: red;\n",
       "font-weight: bold;\n",
       "}\n",
       ".err-msg.in.collapse {\n",
       "padding-top: 0.7em;\n",
       "}\n",
       ".highlight-code {\n",
       "white-space: pre;\n",
       "font-family: monospace;\n",
       "}\n",
       ".suggestion-warning { \n",
       "font-weight: bold;\n",
       "color: rgb(200, 130, 0);\n",
       "}\n",
       ".suggestion-error { \n",
       "font-weight: bold;\n",
       "color: red;\n",
       "}\n",
       ".suggestion-name {\n",
       "font-weight: bold;\n",
       "}\n",
       "</style><span class='get-type'>Monoid.mconcat :: forall a. Monoid a => [a] -> a</span>"
      ],
      "text/plain": [
       "Monoid.mconcat :: forall a. Monoid a => [a] -> a"
      ]
     },
     "metadata": {},
     "output_type": "display_data"
    }
   ],
   "source": [
    "import qualified Data.Monoid as Monoid\n",
    "\n",
    ":t Monoid.mconcat\n",
    "-- 모노이드 값의 리스트를 받아서, 리스트 요소간에 mappend를 적용하여 하나의 값으로 만든다 \n",
    "-- 리스트를 오른쪽에서부터 fold한다.\n",
    "-- 디폴트 구현체가 있으므로 별도로 구현할 필요가 없다"
   ]
  },
  {
   "cell_type": "markdown",
   "id": "6ee0e796-d6f0-448e-876d-f7b9a91c1271",
   "metadata": {},
   "source": [
    "## 모노이드 규칙"
   ]
  },
  {
   "cell_type": "markdown",
   "id": "aa273ef7-8bbf-442a-8411-4c0daaec3c62",
   "metadata": {},
   "source": [
    "1. mempty `mappend` x = x\n",
    "2. x `mappend` mempty = x\n",
    "3. (x `mappend` y) `mappend` z = x `mappend` (y `mappend` z)\n",
    "\n",
    "1,2는 mempty가 항등원으로 역할해야함을 의미하며\n",
    "3은 mappend가 결합성(associativity, 결합 순서에 연관없이 값이 같음)이 있어야함을 의미함"
   ]
  },
  {
   "cell_type": "markdown",
   "id": "e7266af6-11f7-402c-a0e4-d3433a53265c",
   "metadata": {},
   "source": [
    "## 리스트는 모노이드"
   ]
  },
  {
   "cell_type": "code",
   "execution_count": null,
   "id": "23e7d582-40f3-46a6-ae4c-554517f30d37",
   "metadata": {},
   "outputs": [],
   "source": [
    "instance Monoid [a] where  \n",
    "    -- [a]는 concrete type 이다\n",
    "    mempty = []  \n",
    "    mappend = (++)  "
   ]
  },
  {
   "cell_type": "code",
   "execution_count": 73,
   "id": "a84ca987-b9cd-4e2a-8823-738b32f2aa03",
   "metadata": {},
   "outputs": [
    {
     "data": {
      "text/html": [
       "<style>/* Styles used for the Hoogle display in the pager */\n",
       ".hoogle-doc {\n",
       "display: block;\n",
       "padding-bottom: 1.3em;\n",
       "padding-left: 0.4em;\n",
       "}\n",
       ".hoogle-code {\n",
       "display: block;\n",
       "font-family: monospace;\n",
       "white-space: pre;\n",
       "}\n",
       ".hoogle-text {\n",
       "display: block;\n",
       "}\n",
       ".hoogle-name {\n",
       "color: green;\n",
       "font-weight: bold;\n",
       "}\n",
       ".hoogle-head {\n",
       "font-weight: bold;\n",
       "}\n",
       ".hoogle-sub {\n",
       "display: block;\n",
       "margin-left: 0.4em;\n",
       "}\n",
       ".hoogle-package {\n",
       "font-weight: bold;\n",
       "font-style: italic;\n",
       "}\n",
       ".hoogle-module {\n",
       "font-weight: bold;\n",
       "}\n",
       ".hoogle-class {\n",
       "font-weight: bold;\n",
       "}\n",
       ".get-type {\n",
       "color: green;\n",
       "font-weight: bold;\n",
       "font-family: monospace;\n",
       "display: block;\n",
       "white-space: pre-wrap;\n",
       "}\n",
       ".show-type {\n",
       "color: green;\n",
       "font-weight: bold;\n",
       "font-family: monospace;\n",
       "margin-left: 1em;\n",
       "}\n",
       ".mono {\n",
       "font-family: monospace;\n",
       "display: block;\n",
       "}\n",
       ".err-msg {\n",
       "color: red;\n",
       "font-style: italic;\n",
       "font-family: monospace;\n",
       "white-space: pre;\n",
       "display: block;\n",
       "}\n",
       "#unshowable {\n",
       "color: red;\n",
       "font-weight: bold;\n",
       "}\n",
       ".err-msg.in.collapse {\n",
       "padding-top: 0.7em;\n",
       "}\n",
       ".highlight-code {\n",
       "white-space: pre;\n",
       "font-family: monospace;\n",
       "}\n",
       ".suggestion-warning { \n",
       "font-weight: bold;\n",
       "color: rgb(200, 130, 0);\n",
       "}\n",
       ".suggestion-error { \n",
       "font-weight: bold;\n",
       "color: red;\n",
       "}\n",
       ".suggestion-name {\n",
       "font-weight: bold;\n",
       "}\n",
       "</style><div class=\"suggestion-name\" style=\"clear:both;\">Monoid law, right identity</div><div class=\"suggestion-row\" style=\"float: left;\"><div class=\"suggestion-warning\">Found:</div><div class=\"highlight-code\" id=\"haskell\">\"pang\" `mappend` mempty</div></div><div class=\"suggestion-row\" style=\"float: left;\"><div class=\"suggestion-warning\">Why Not:</div><div class=\"highlight-code\" id=\"haskell\">\"pang\"</div></div>"
      ],
      "text/plain": [
       "Line 5: Monoid law, right identity\n",
       "Found:\n",
       "\"pang\" `mappend` mempty\n",
       "Why not:\n",
       "\"pang\""
      ]
     },
     "metadata": {},
     "output_type": "display_data"
    },
    {
     "data": {
      "text/plain": [
       "[1,2,3,4,5,6]"
      ]
     },
     "metadata": {},
     "output_type": "display_data"
    },
    {
     "data": {
      "text/plain": [
       "\"onetwotree\""
      ]
     },
     "metadata": {},
     "output_type": "display_data"
    },
    {
     "data": {
      "text/plain": [
       "\"onetwotree\""
      ]
     },
     "metadata": {},
     "output_type": "display_data"
    },
    {
     "data": {
      "text/plain": [
       "\"onetwotree\""
      ]
     },
     "metadata": {},
     "output_type": "display_data"
    },
    {
     "data": {
      "text/plain": [
       "\"pang\""
      ]
     },
     "metadata": {},
     "output_type": "display_data"
    },
    {
     "data": {
      "text/plain": [
       "[1,2,3,6,9]"
      ]
     },
     "metadata": {},
     "output_type": "display_data"
    },
    {
     "ename": "",
     "evalue": "",
     "header": "MessageHeader {mhIdentifiers = [\"7cce1d70-c679-4a6e-89fd-cbb5bf4c59ee\"], mhParentHeader = Just (MessageHeader {mhIdentifiers = [\"7cce1d70-c679-4a6e-89fd-cbb5bf4c59ee\"], mhParentHeader = Nothing, mhMetadata = Metadata (fromList [(\"recordTiming\",Bool False),(\"deletedCells\",Array []),(\"cellId\",String \"a84ca987-b9cd-4e2a-8823-738b32f2aa03\")]), mhMessageId = UUID {uuidToString = \"9222a7e2-6f35-4ffa-87a6-b2ec9588ffbc\"}, mhSessionId = UUID {uuidToString = \"7cce1d70-c679-4a6e-89fd-cbb5bf4c59ee\"}, mhUsername = \"\", mhMsgType = ExecuteRequestMessage, mhBuffers = []}), mhMetadata = Metadata (fromList []), mhMessageId = UUID {uuidToString = \"73d3b192-c691-4993-8940-d6221eb2c16b\"}, mhSessionId = UUID {uuidToString = \"7cce1d70-c679-4a6e-89fd-cbb5bf4c59ee\"}, mhUsername = \"\", mhMsgType = ExecuteErrorMessage, mhBuffers = []}",
     "output_type": "error",
     "traceback": [
      "<interactive>:1:1: error:\n    The type signature for ‘mempty’ lacks an accompanying binding\n      (The type signature must be given where ‘mempty’ is declared)"
     ]
    }
   ],
   "source": [
    "[1,2,3] `mappend` [4,5,6]\n",
    "(\"one\" `mappend` \"two\") `mappend` \"tree\"\n",
    "\"one\" `mappend` (\"two\" `mappend` \"tree\")\n",
    "\"one\" `mappend` \"two\" `mappend` \"tree\"\n",
    "\"pang\" `mappend` mempty\n",
    "mconcat [[1,2], [3,6], [9]]\n",
    "mempty :: [a] \n",
    "-- ghci에서 됨, \n",
    "-- 빈리스트는 모든 타입을 담고 있는 것처럼 행동할 수 있기 때문에 [a]와 같은 일반적인 타입을 사용할 수 있다"
   ]
  },
  {
   "cell_type": "code",
   "execution_count": 75,
   "id": "dce05913-f0b5-4de0-85b4-60516f790380",
   "metadata": {},
   "outputs": [
    {
     "data": {
      "text/plain": [
       "\"onetwo\""
      ]
     },
     "metadata": {},
     "output_type": "display_data"
    },
    {
     "data": {
      "text/plain": [
       "\"twoone\""
      ]
     },
     "metadata": {},
     "output_type": "display_data"
    }
   ],
   "source": [
    "\"one\" `mappend` \"two\"\n",
    "\"two\" `mappend` \"one\"\n",
    "\n",
    "-- 모노이드는 순서가 달라도 값이 같아야함을 규정하지는 않는다."
   ]
  },
  {
   "cell_type": "markdown",
   "id": "cdaf2e7f-0c00-455d-9ad6-f62392867d7d",
   "metadata": {},
   "source": [
    "## 곱셈과 덧셈도 모노이드"
   ]
  },
  {
   "cell_type": "code",
   "execution_count": 76,
   "id": "0201a5ae-98b0-4a88-a0c0-0b168f44662d",
   "metadata": {},
   "outputs": [
    {
     "data": {
      "text/plain": [
       "4"
      ]
     },
     "metadata": {},
     "output_type": "display_data"
    },
    {
     "data": {
      "text/plain": [
       "5"
      ]
     },
     "metadata": {},
     "output_type": "display_data"
    },
    {
     "data": {
      "text/plain": [
       "9"
      ]
     },
     "metadata": {},
     "output_type": "display_data"
    },
    {
     "data": {
      "text/plain": [
       "9"
      ]
     },
     "metadata": {},
     "output_type": "display_data"
    }
   ],
   "source": [
    "0 + 4\n",
    "5 + 0\n",
    "(1 + 3) + 5\n",
    "1 + (3 + 5)"
   ]
  },
  {
   "cell_type": "code",
   "execution_count": null,
   "id": "9569ccef-2cc2-4f60-96e2-d903f37504cb",
   "metadata": {},
   "outputs": [],
   "source": [
    "import qualified Data.Monoid as Monoid\n",
    "-- 하나의 타입이 여러 같은 타입 인스턴스가 될수는 없으므로 newtype Product와 Sum이 별도로 존재한다\n",
    "\n",
    "newtype Product a =  Product { getProduct :: a }  \n",
    "    deriving (Eq, Ord, Read, Show, Bounded)  \n",
    "    \n",
    "instance Num a => Monoid (Product a) where  \n",
    "    mempty = Product 1  \n",
    "    Product x `mappend` Product y = Product (x * y)  "
   ]
  },
  {
   "cell_type": "code",
   "execution_count": 81,
   "id": "984eda01-15dd-412d-ba1d-9873a85a560c",
   "metadata": {},
   "outputs": [
    {
     "data": {
      "text/html": [
       "<style>/* Styles used for the Hoogle display in the pager */\n",
       ".hoogle-doc {\n",
       "display: block;\n",
       "padding-bottom: 1.3em;\n",
       "padding-left: 0.4em;\n",
       "}\n",
       ".hoogle-code {\n",
       "display: block;\n",
       "font-family: monospace;\n",
       "white-space: pre;\n",
       "}\n",
       ".hoogle-text {\n",
       "display: block;\n",
       "}\n",
       ".hoogle-name {\n",
       "color: green;\n",
       "font-weight: bold;\n",
       "}\n",
       ".hoogle-head {\n",
       "font-weight: bold;\n",
       "}\n",
       ".hoogle-sub {\n",
       "display: block;\n",
       "margin-left: 0.4em;\n",
       "}\n",
       ".hoogle-package {\n",
       "font-weight: bold;\n",
       "font-style: italic;\n",
       "}\n",
       ".hoogle-module {\n",
       "font-weight: bold;\n",
       "}\n",
       ".hoogle-class {\n",
       "font-weight: bold;\n",
       "}\n",
       ".get-type {\n",
       "color: green;\n",
       "font-weight: bold;\n",
       "font-family: monospace;\n",
       "display: block;\n",
       "white-space: pre-wrap;\n",
       "}\n",
       ".show-type {\n",
       "color: green;\n",
       "font-weight: bold;\n",
       "font-family: monospace;\n",
       "margin-left: 1em;\n",
       "}\n",
       ".mono {\n",
       "font-family: monospace;\n",
       "display: block;\n",
       "}\n",
       ".err-msg {\n",
       "color: red;\n",
       "font-style: italic;\n",
       "font-family: monospace;\n",
       "white-space: pre;\n",
       "display: block;\n",
       "}\n",
       "#unshowable {\n",
       "color: red;\n",
       "font-weight: bold;\n",
       "}\n",
       ".err-msg.in.collapse {\n",
       "padding-top: 0.7em;\n",
       "}\n",
       ".highlight-code {\n",
       "white-space: pre;\n",
       "font-family: monospace;\n",
       "}\n",
       ".suggestion-warning { \n",
       "font-weight: bold;\n",
       "color: rgb(200, 130, 0);\n",
       "}\n",
       ".suggestion-error { \n",
       "font-weight: bold;\n",
       "color: red;\n",
       "}\n",
       ".suggestion-name {\n",
       "font-weight: bold;\n",
       "}\n",
       "</style><div class=\"suggestion-name\" style=\"clear:both;\">Monoid law, right identity</div><div class=\"suggestion-row\" style=\"float: left;\"><div class=\"suggestion-warning\">Found:</div><div class=\"highlight-code\" id=\"haskell\">Monoid.Product 3 `mappend` Monoid.mempty</div></div><div class=\"suggestion-row\" style=\"float: left;\"><div class=\"suggestion-warning\">Why Not:</div><div class=\"highlight-code\" id=\"haskell\">Monoid.Product 3</div></div>"
      ],
      "text/plain": [
       "Line 4: Monoid law, right identity\n",
       "Found:\n",
       "Monoid.Product 3 `mappend` Monoid.mempty\n",
       "Why not:\n",
       "Monoid.Product 3"
      ]
     },
     "metadata": {},
     "output_type": "display_data"
    },
    {
     "data": {
      "text/plain": [
       "27"
      ]
     },
     "metadata": {},
     "output_type": "display_data"
    },
    {
     "data": {
      "text/plain": [
       "3"
      ]
     },
     "metadata": {},
     "output_type": "display_data"
    },
    {
     "data": {
      "text/plain": [
       "24"
      ]
     },
     "metadata": {},
     "output_type": "display_data"
    }
   ],
   "source": [
    "import qualified Data.Monoid as Monoid \n",
    "\n",
    "Monoid.getProduct $ Monoid.Product 3 `mappend` Monoid.Product 9\n",
    "Monoid.getProduct $ Monoid.Product 3 `mappend` Monoid.mempty\n",
    "Monoid.getProduct $ Monoid.Product 3 `mappend` Monoid.Product 4 `mappend` Monoid.Product 2\n",
    "Monoid.getProduct . Monoid.mconcat . map Monoid.Product $ [3,4,2]"
   ]
  },
  {
   "cell_type": "code",
   "execution_count": 83,
   "id": "4257ec57-50c5-4f2f-af43-7c00046d1260",
   "metadata": {},
   "outputs": [
    {
     "data": {
      "text/html": [
       "<style>/* Styles used for the Hoogle display in the pager */\n",
       ".hoogle-doc {\n",
       "display: block;\n",
       "padding-bottom: 1.3em;\n",
       "padding-left: 0.4em;\n",
       "}\n",
       ".hoogle-code {\n",
       "display: block;\n",
       "font-family: monospace;\n",
       "white-space: pre;\n",
       "}\n",
       ".hoogle-text {\n",
       "display: block;\n",
       "}\n",
       ".hoogle-name {\n",
       "color: green;\n",
       "font-weight: bold;\n",
       "}\n",
       ".hoogle-head {\n",
       "font-weight: bold;\n",
       "}\n",
       ".hoogle-sub {\n",
       "display: block;\n",
       "margin-left: 0.4em;\n",
       "}\n",
       ".hoogle-package {\n",
       "font-weight: bold;\n",
       "font-style: italic;\n",
       "}\n",
       ".hoogle-module {\n",
       "font-weight: bold;\n",
       "}\n",
       ".hoogle-class {\n",
       "font-weight: bold;\n",
       "}\n",
       ".get-type {\n",
       "color: green;\n",
       "font-weight: bold;\n",
       "font-family: monospace;\n",
       "display: block;\n",
       "white-space: pre-wrap;\n",
       "}\n",
       ".show-type {\n",
       "color: green;\n",
       "font-weight: bold;\n",
       "font-family: monospace;\n",
       "margin-left: 1em;\n",
       "}\n",
       ".mono {\n",
       "font-family: monospace;\n",
       "display: block;\n",
       "}\n",
       ".err-msg {\n",
       "color: red;\n",
       "font-style: italic;\n",
       "font-family: monospace;\n",
       "white-space: pre;\n",
       "display: block;\n",
       "}\n",
       "#unshowable {\n",
       "color: red;\n",
       "font-weight: bold;\n",
       "}\n",
       ".err-msg.in.collapse {\n",
       "padding-top: 0.7em;\n",
       "}\n",
       ".highlight-code {\n",
       "white-space: pre;\n",
       "font-family: monospace;\n",
       "}\n",
       ".suggestion-warning { \n",
       "font-weight: bold;\n",
       "color: rgb(200, 130, 0);\n",
       "}\n",
       ".suggestion-error { \n",
       "font-weight: bold;\n",
       "color: red;\n",
       "}\n",
       ".suggestion-name {\n",
       "font-weight: bold;\n",
       "}\n",
       "</style><div class=\"suggestion-name\" style=\"clear:both;\">Monoid law, left identity</div><div class=\"suggestion-row\" style=\"float: left;\"><div class=\"suggestion-warning\">Found:</div><div class=\"highlight-code\" id=\"haskell\">mempty `mappend` Monoid.Sum 3</div></div><div class=\"suggestion-row\" style=\"float: left;\"><div class=\"suggestion-warning\">Why Not:</div><div class=\"highlight-code\" id=\"haskell\">Monoid.Sum 3</div></div>"
      ],
      "text/plain": [
       "Line 4: Monoid law, left identity\n",
       "Found:\n",
       "mempty `mappend` Monoid.Sum 3\n",
       "Why not:\n",
       "Monoid.Sum 3"
      ]
     },
     "metadata": {},
     "output_type": "display_data"
    },
    {
     "data": {
      "text/plain": [
       "11"
      ]
     },
     "metadata": {},
     "output_type": "display_data"
    },
    {
     "data": {
      "text/plain": [
       "3"
      ]
     },
     "metadata": {},
     "output_type": "display_data"
    },
    {
     "data": {
      "text/plain": [
       "6"
      ]
     },
     "metadata": {},
     "output_type": "display_data"
    }
   ],
   "source": [
    "import qualified Data.Monoid as Monoid \n",
    "\n",
    "Monoid.getSum $ Monoid.Sum 2 `mappend` Monoid.Sum 9  \n",
    "Monoid.getSum $ mempty `mappend` Monoid.Sum 3  \n",
    "Monoid.getSum . mconcat . map Monoid.Sum $ [1,2,3]  "
   ]
  },
  {
   "cell_type": "markdown",
   "id": "c122414d-4464-4bc7-91a7-2e1fc26bb96d",
   "metadata": {},
   "source": [
    "## Bool도 모노이드"
   ]
  },
  {
   "cell_type": "code",
   "execution_count": null,
   "id": "a74c5f24-856b-493c-b246-4015dbd6d7fa",
   "metadata": {},
   "outputs": [],
   "source": [
    "-- OR 연산 혹은 AND 연산이 모노이드와 같다\n",
    "\n",
    "newtype Any = Any { getAny :: Bool }  \n",
    "    deriving (Eq, Ord, Read, Show, Bounded)  \n",
    "    \n",
    "instance Monoid Any where  \n",
    "        mempty = Any False  \n",
    "        Any x `mappend` Any y = Any (x || y)  "
   ]
  },
  {
   "cell_type": "code",
   "execution_count": 95,
   "id": "5042f2ea-d90d-4f4f-850f-81ef02bece18",
   "metadata": {},
   "outputs": [
    {
     "data": {
      "text/html": [
       "<style>/* Styles used for the Hoogle display in the pager */\n",
       ".hoogle-doc {\n",
       "display: block;\n",
       "padding-bottom: 1.3em;\n",
       "padding-left: 0.4em;\n",
       "}\n",
       ".hoogle-code {\n",
       "display: block;\n",
       "font-family: monospace;\n",
       "white-space: pre;\n",
       "}\n",
       ".hoogle-text {\n",
       "display: block;\n",
       "}\n",
       ".hoogle-name {\n",
       "color: green;\n",
       "font-weight: bold;\n",
       "}\n",
       ".hoogle-head {\n",
       "font-weight: bold;\n",
       "}\n",
       ".hoogle-sub {\n",
       "display: block;\n",
       "margin-left: 0.4em;\n",
       "}\n",
       ".hoogle-package {\n",
       "font-weight: bold;\n",
       "font-style: italic;\n",
       "}\n",
       ".hoogle-module {\n",
       "font-weight: bold;\n",
       "}\n",
       ".hoogle-class {\n",
       "font-weight: bold;\n",
       "}\n",
       ".get-type {\n",
       "color: green;\n",
       "font-weight: bold;\n",
       "font-family: monospace;\n",
       "display: block;\n",
       "white-space: pre-wrap;\n",
       "}\n",
       ".show-type {\n",
       "color: green;\n",
       "font-weight: bold;\n",
       "font-family: monospace;\n",
       "margin-left: 1em;\n",
       "}\n",
       ".mono {\n",
       "font-family: monospace;\n",
       "display: block;\n",
       "}\n",
       ".err-msg {\n",
       "color: red;\n",
       "font-style: italic;\n",
       "font-family: monospace;\n",
       "white-space: pre;\n",
       "display: block;\n",
       "}\n",
       "#unshowable {\n",
       "color: red;\n",
       "font-weight: bold;\n",
       "}\n",
       ".err-msg.in.collapse {\n",
       "padding-top: 0.7em;\n",
       "}\n",
       ".highlight-code {\n",
       "white-space: pre;\n",
       "font-family: monospace;\n",
       "}\n",
       ".suggestion-warning { \n",
       "font-weight: bold;\n",
       "color: rgb(200, 130, 0);\n",
       "}\n",
       ".suggestion-error { \n",
       "font-weight: bold;\n",
       "color: red;\n",
       "}\n",
       ".suggestion-name {\n",
       "font-weight: bold;\n",
       "}\n",
       "</style><div class=\"suggestion-name\" style=\"clear:both;\">Monoid law, left identity</div><div class=\"suggestion-row\" style=\"float: left;\"><div class=\"suggestion-warning\">Found:</div><div class=\"highlight-code\" id=\"haskell\">Monoid.mempty `Monoid.mappend` Monoid.Any True</div></div><div class=\"suggestion-row\" style=\"float: left;\"><div class=\"suggestion-warning\">Why Not:</div><div class=\"highlight-code\" id=\"haskell\">Monoid.Any True</div></div><div class=\"suggestion-name\" style=\"clear:both;\">Monoid law, left identity</div><div class=\"suggestion-row\" style=\"float: left;\"><div class=\"suggestion-warning\">Found:</div><div class=\"highlight-code\" id=\"haskell\">Monoid.mempty `Monoid.mappend` Monoid.mempty</div></div><div class=\"suggestion-row\" style=\"float: left;\"><div class=\"suggestion-warning\">Why Not:</div><div class=\"highlight-code\" id=\"haskell\">Monoid.mempty</div></div><div class=\"suggestion-name\" style=\"clear:both;\">Monoid law, right identity</div><div class=\"suggestion-row\" style=\"float: left;\"><div class=\"suggestion-warning\">Found:</div><div class=\"highlight-code\" id=\"haskell\">Monoid.mempty `Monoid.mappend` Monoid.mempty</div></div><div class=\"suggestion-row\" style=\"float: left;\"><div class=\"suggestion-warning\">Why Not:</div><div class=\"highlight-code\" id=\"haskell\">Monoid.mempty</div></div>"
      ],
      "text/plain": [
       "Line 4: Monoid law, left identity\n",
       "Found:\n",
       "Monoid.mempty `Monoid.mappend` Monoid.Any True\n",
       "Why not:\n",
       "Monoid.Any TrueLine 6: Monoid law, left identity\n",
       "Found:\n",
       "Monoid.mempty `Monoid.mappend` Monoid.mempty\n",
       "Why not:\n",
       "Monoid.memptyLine 6: Monoid law, right identity\n",
       "Found:\n",
       "Monoid.mempty `Monoid.mappend` Monoid.mempty\n",
       "Why not:\n",
       "Monoid.mempty"
      ]
     },
     "metadata": {},
     "output_type": "display_data"
    },
    {
     "data": {
      "text/plain": [
       "True"
      ]
     },
     "metadata": {},
     "output_type": "display_data"
    },
    {
     "data": {
      "text/plain": [
       "True"
      ]
     },
     "metadata": {},
     "output_type": "display_data"
    },
    {
     "data": {
      "text/plain": [
       "True"
      ]
     },
     "metadata": {},
     "output_type": "display_data"
    },
    {
     "data": {
      "text/plain": [
       "False"
      ]
     },
     "metadata": {},
     "output_type": "display_data"
    }
   ],
   "source": [
    "import qualified Data.Monoid as Monoid \n",
    "\n",
    "Monoid.getAny $ Monoid.Any True `Monoid.mappend` Monoid.Any False\n",
    "Monoid.getAny $ Monoid.mempty `Monoid.mappend` Monoid.Any True\n",
    "Monoid.getAny . Monoid.mconcat . map Monoid.Any $ [False, False, False, True]  \n",
    "Monoid.getAny $ Monoid.mempty `Monoid.mappend` Monoid.mempty  "
   ]
  },
  {
   "cell_type": "code",
   "execution_count": null,
   "id": "a61866d3-e00b-428b-bca2-2f33e358e9ca",
   "metadata": {},
   "outputs": [],
   "source": [
    "newtype All = All { getAll :: Bool }  \n",
    "        deriving (Eq, Ord, Read, Show, Bounded)  \n",
    "        \n",
    "instance Monoid All where  \n",
    "    mempty = All True  \n",
    "    All x `mappend` All y = All (x && y)  "
   ]
  },
  {
   "cell_type": "code",
   "execution_count": 98,
   "id": "52aa5c97-8c77-412f-a66c-3f990be60f7c",
   "metadata": {},
   "outputs": [
    {
     "data": {
      "text/plain": [
       "True"
      ]
     },
     "metadata": {},
     "output_type": "display_data"
    },
    {
     "data": {
      "text/plain": [
       "False"
      ]
     },
     "metadata": {},
     "output_type": "display_data"
    },
    {
     "data": {
      "text/plain": [
       "True"
      ]
     },
     "metadata": {},
     "output_type": "display_data"
    },
    {
     "data": {
      "text/plain": [
       "False"
      ]
     },
     "metadata": {},
     "output_type": "display_data"
    }
   ],
   "source": [
    "Monoid.getAll $ Monoid.mempty `Monoid.mappend` Monoid.All True  \n",
    "Monoid.getAll $ Monoid.mempty `Monoid.mappend` Monoid.All False  \n",
    "Monoid.getAll . Monoid.mconcat . map Monoid.All $ [True, True, True]  \n",
    "Monoid.getAll . Monoid.mconcat . map Monoid.All $ [True, True, False]  "
   ]
  },
  {
   "cell_type": "markdown",
   "id": "5f9f0b50-8fbd-4eba-ace3-e70cf778e791",
   "metadata": {},
   "source": [
    "## Ordering도 모노이드"
   ]
  },
  {
   "cell_type": "code",
   "execution_count": 101,
   "id": "46aabaea-9b4f-458a-a030-6bf687dc1020",
   "metadata": {},
   "outputs": [
    {
     "data": {
      "text/plain": [
       "LT"
      ]
     },
     "metadata": {},
     "output_type": "display_data"
    },
    {
     "data": {
      "text/plain": [
       "EQ"
      ]
     },
     "metadata": {},
     "output_type": "display_data"
    },
    {
     "data": {
      "text/plain": [
       "GT"
      ]
     },
     "metadata": {},
     "output_type": "display_data"
    }
   ],
   "source": [
    "1 `compare` 2\n",
    "2 `compare` 2\n",
    "3 `compare` 2"
   ]
  },
  {
   "cell_type": "code",
   "execution_count": null,
   "id": "fc68d98f-9d15-449d-a750-6c2468426ec0",
   "metadata": {},
   "outputs": [],
   "source": [
    "instance Monoid Ordering where\n",
    "    mempty = EQ  \n",
    "    -- EQ가 어느 위치에 들어가더라도 결과는 같을 것\n",
    "    LT `mappend` _ = LT  \n",
    "    EQ `mappend` y = y  \n",
    "    GT `mappend` _ = GT  \n",
    "    -- 영어 단어를 비교하는 알고리즘과 같음\n",
    "    -- 각 철자마다 비교하면서 같으면(EQ) 다음 계산을 하고\n",
    "    -- 한 시점이라도 비교가 되면 그 값이 적용되고 뒷 값은 무시됨"
   ]
  },
  {
   "cell_type": "code",
   "execution_count": 103,
   "id": "dc8d6f1a-6b4b-4237-b5f2-1b57c93a9f55",
   "metadata": {},
   "outputs": [
    {
     "data": {
      "text/html": [
       "<style>/* Styles used for the Hoogle display in the pager */\n",
       ".hoogle-doc {\n",
       "display: block;\n",
       "padding-bottom: 1.3em;\n",
       "padding-left: 0.4em;\n",
       "}\n",
       ".hoogle-code {\n",
       "display: block;\n",
       "font-family: monospace;\n",
       "white-space: pre;\n",
       "}\n",
       ".hoogle-text {\n",
       "display: block;\n",
       "}\n",
       ".hoogle-name {\n",
       "color: green;\n",
       "font-weight: bold;\n",
       "}\n",
       ".hoogle-head {\n",
       "font-weight: bold;\n",
       "}\n",
       ".hoogle-sub {\n",
       "display: block;\n",
       "margin-left: 0.4em;\n",
       "}\n",
       ".hoogle-package {\n",
       "font-weight: bold;\n",
       "font-style: italic;\n",
       "}\n",
       ".hoogle-module {\n",
       "font-weight: bold;\n",
       "}\n",
       ".hoogle-class {\n",
       "font-weight: bold;\n",
       "}\n",
       ".get-type {\n",
       "color: green;\n",
       "font-weight: bold;\n",
       "font-family: monospace;\n",
       "display: block;\n",
       "white-space: pre-wrap;\n",
       "}\n",
       ".show-type {\n",
       "color: green;\n",
       "font-weight: bold;\n",
       "font-family: monospace;\n",
       "margin-left: 1em;\n",
       "}\n",
       ".mono {\n",
       "font-family: monospace;\n",
       "display: block;\n",
       "}\n",
       ".err-msg {\n",
       "color: red;\n",
       "font-style: italic;\n",
       "font-family: monospace;\n",
       "white-space: pre;\n",
       "display: block;\n",
       "}\n",
       "#unshowable {\n",
       "color: red;\n",
       "font-weight: bold;\n",
       "}\n",
       ".err-msg.in.collapse {\n",
       "padding-top: 0.7em;\n",
       "}\n",
       ".highlight-code {\n",
       "white-space: pre;\n",
       "font-family: monospace;\n",
       "}\n",
       ".suggestion-warning { \n",
       "font-weight: bold;\n",
       "color: rgb(200, 130, 0);\n",
       "}\n",
       ".suggestion-error { \n",
       "font-weight: bold;\n",
       "color: red;\n",
       "}\n",
       ".suggestion-name {\n",
       "font-weight: bold;\n",
       "}\n",
       "</style><div class=\"suggestion-name\" style=\"clear:both;\">Monoid law, left identity</div><div class=\"suggestion-row\" style=\"float: left;\"><div class=\"suggestion-warning\">Found:</div><div class=\"highlight-code\" id=\"haskell\">mempty `mappend` LT</div></div><div class=\"suggestion-row\" style=\"float: left;\"><div class=\"suggestion-warning\">Why Not:</div><div class=\"highlight-code\" id=\"haskell\">LT</div></div><div class=\"suggestion-name\" style=\"clear:both;\">Monoid law, left identity</div><div class=\"suggestion-row\" style=\"float: left;\"><div class=\"suggestion-warning\">Found:</div><div class=\"highlight-code\" id=\"haskell\">mempty `mappend` GT</div></div><div class=\"suggestion-row\" style=\"float: left;\"><div class=\"suggestion-warning\">Why Not:</div><div class=\"highlight-code\" id=\"haskell\">GT</div></div>"
      ],
      "text/plain": [
       "Line 3: Monoid law, left identity\n",
       "Found:\n",
       "mempty `mappend` LT\n",
       "Why not:\n",
       "LTLine 4: Monoid law, left identity\n",
       "Found:\n",
       "mempty `mappend` GT\n",
       "Why not:\n",
       "GT"
      ]
     },
     "metadata": {},
     "output_type": "display_data"
    },
    {
     "data": {
      "text/plain": [
       "LT"
      ]
     },
     "metadata": {},
     "output_type": "display_data"
    },
    {
     "data": {
      "text/plain": [
       "GT"
      ]
     },
     "metadata": {},
     "output_type": "display_data"
    },
    {
     "data": {
      "text/plain": [
       "LT"
      ]
     },
     "metadata": {},
     "output_type": "display_data"
    },
    {
     "data": {
      "text/plain": [
       "GT"
      ]
     },
     "metadata": {},
     "output_type": "display_data"
    }
   ],
   "source": [
    "LT `mappend` GT\n",
    "GT `mappend` LT\n",
    "mempty `mappend` LT\n",
    "mempty `mappend` GT"
   ]
  },
  {
   "cell_type": "code",
   "execution_count": 109,
   "id": "3fdf19eb-40bd-4832-b2d5-5175b5dbca31",
   "metadata": {},
   "outputs": [],
   "source": [
    "lengthCompare :: String -> String -> Ordering\n",
    "-- 일반 코드\n",
    "-- lengthCompare x y = let a = length x `compare` length y\n",
    "--                         b = x `compare` y\n",
    "--                     in if a == EQ then b else a\n",
    "-- 모노이드 사용 코드\n",
    "-- 좌항이 LT이면 뒷 값, 아니면 앞 값\n",
    "lengthCompare x y = (length x `compare` length y) `mappend` (x `compare` y)"
   ]
  },
  {
   "cell_type": "code",
   "execution_count": 110,
   "id": "03f3be55-ad5d-4a3a-b03a-646567218b09",
   "metadata": {},
   "outputs": [
    {
     "data": {
      "text/plain": [
       "LT"
      ]
     },
     "metadata": {},
     "output_type": "display_data"
    },
    {
     "data": {
      "text/plain": [
       "GT"
      ]
     },
     "metadata": {},
     "output_type": "display_data"
    }
   ],
   "source": [
    "lengthCompare \"zen\" \"ants\"\n",
    "lengthCompare \"zen\" \"ant\""
   ]
  },
  {
   "cell_type": "code",
   "execution_count": 111,
   "id": "39ad966e-bef8-4f53-8285-126b876bf747",
   "metadata": {},
   "outputs": [],
   "source": [
    "-- 모음의 숫자를 비교\n",
    "\n",
    "lengthCompare :: String -> String -> Ordering\n",
    "lengthCompare x y = (length x `compare` length y) `mappend`\n",
    "                    (vowels x `compare` vowels y) `mappend`\n",
    "                    (x `compare` y)\n",
    "                        where vowels = length . filter (`elem` \"aeiou\")"
   ]
  },
  {
   "cell_type": "code",
   "execution_count": 112,
   "id": "264ef9c7-6f04-494f-a569-6eb7d4f52b02",
   "metadata": {},
   "outputs": [
    {
     "data": {
      "text/plain": [
       "LT"
      ]
     },
     "metadata": {},
     "output_type": "display_data"
    },
    {
     "data": {
      "text/plain": [
       "LT"
      ]
     },
     "metadata": {},
     "output_type": "display_data"
    },
    {
     "data": {
      "text/plain": [
       "GT"
      ]
     },
     "metadata": {},
     "output_type": "display_data"
    }
   ],
   "source": [
    "lengthCompare \"zen\" \"anna\" -- 길이 비교\n",
    "lengthCompare \"zen\" \"ana\" -- 모음 비교\n",
    "lengthCompare \"zen\" \"ann\" -- 사전 비교"
   ]
  },
  {
   "cell_type": "code",
   "execution_count": 113,
   "id": "7776ba24-27f8-47fd-85fd-dae3fa497ef1",
   "metadata": {},
   "outputs": [],
   "source": [
    "-- Ordering 모노이드는 매우 많은 다른 조건들로 쉽게 비교할 수 있게 해주고\n",
    "-- 가장 중요한 것부터 가장 덜 중요한 것까지 자신에게 넣을 수 있기 때문이다."
   ]
  },
  {
   "cell_type": "markdown",
   "id": "b8af6a58-289a-4a47-b78e-9fddd3d5a9a5",
   "metadata": {},
   "source": [
    "## Maybe도 모노이드"
   ]
  },
  {
   "cell_type": "markdown",
   "id": "b3a68558-c14d-436a-9098-3e956aea362f",
   "metadata": {},
   "source": [
    "### 1. Maybe a 의 a도 모노이드"
   ]
  },
  {
   "cell_type": "code",
   "execution_count": null,
   "id": "09e568eb-472c-4f1d-a4cb-a586f9ded038",
   "metadata": {},
   "outputs": [],
   "source": [
    "instance Monoid a => Monoid (Maybe a) where  -- a가 모노이드 일때만 Maybe a도 모노이드\n",
    "    mempty = Nothing  -- Nothing이 항등원\n",
    "    Nothing `mappend` m = m  \n",
    "    m `mappend` Nothing = m  \n",
    "    Just m1 `mappend` Just m2 = Just (m1 `mappend` m2)  "
   ]
  },
  {
   "cell_type": "code",
   "execution_count": 114,
   "id": "9ad1e80d-7644-41a0-82cc-4fdc6d202703",
   "metadata": {},
   "outputs": [
    {
     "data": {
      "text/plain": [
       "Just \"andy\""
      ]
     },
     "metadata": {},
     "output_type": "display_data"
    },
    {
     "data": {
      "text/plain": [
       "Just LT"
      ]
     },
     "metadata": {},
     "output_type": "display_data"
    },
    {
     "data": {
      "text/plain": [
       "Just (Sum {getSum = 7})"
      ]
     },
     "metadata": {},
     "output_type": "display_data"
    }
   ],
   "source": [
    "Nothing `mappend` Just \"andy\"\n",
    "Just LT `mappend` Nothing\n",
    "Just (Sum 3) `mappend` Just (Sum 4)\n",
    "\n",
    "-- 실패할수 있는 계산에 사용함으로써 실패한 값을 최대한 없애면서 진행할 수 있음"
   ]
  },
  {
   "cell_type": "markdown",
   "id": "9162d0a3-0d62-4fd7-b0ab-b653b40549f8",
   "metadata": {},
   "source": [
    "### Maybe a의 a가 모노이드가 아닐때도 (First)"
   ]
  },
  {
   "cell_type": "code",
   "execution_count": null,
   "id": "a04a74be-7d82-4e51-a603-4bd0c32325c9",
   "metadata": {},
   "outputs": [],
   "source": [
    "newtype First a = First { getFirst :: Maybe a }  \n",
    "    deriving (Eq, Ord, Read, Show)  "
   ]
  },
  {
   "cell_type": "code",
   "execution_count": null,
   "id": "6973c42b-61ae-4f71-8ef3-fefc23bb68b0",
   "metadata": {},
   "outputs": [],
   "source": [
    "instance Monoid (First a) where  \n",
    "    mempty = First Nothing  \n",
    "    -- Nothing이 항등원\n",
    "    First (Just x) `mappend` _ = First (Just x)  \n",
    "    First Nothing `mappend` x = x  \n",
    "    -- 왼쪽 값을 그대로 주거나, 왼쪽값이 Nothing일때 오른쪽 값을 그대로 준다"
   ]
  },
  {
   "cell_type": "code",
   "execution_count": 116,
   "id": "c7ea66e6-f394-449e-915e-42f191d5f345",
   "metadata": {},
   "outputs": [
    {
     "data": {
      "text/plain": [
       "Just 'a'"
      ]
     },
     "metadata": {},
     "output_type": "display_data"
    },
    {
     "data": {
      "text/plain": [
       "Just 'b'"
      ]
     },
     "metadata": {},
     "output_type": "display_data"
    },
    {
     "data": {
      "text/plain": [
       "Just 'a'"
      ]
     },
     "metadata": {},
     "output_type": "display_data"
    }
   ],
   "source": [
    "Monoid.getFirst $ Monoid.First (Just 'a') `Monoid.mappend` Monoid.First (Just 'b')  \n",
    "Monoid.getFirst $ Monoid.First Nothing `Monoid.mappend` Monoid.First (Just 'b')  \n",
    "Monoid.getFirst $ Monoid.First (Just 'a') `Monoid.mappend` Monoid.First Nothing  "
   ]
  },
  {
   "cell_type": "code",
   "execution_count": 117,
   "id": "7cec80db-a381-4218-b8a1-40e1ba534d5e",
   "metadata": {},
   "outputs": [
    {
     "data": {
      "text/plain": [
       "Just 9"
      ]
     },
     "metadata": {},
     "output_type": "display_data"
    }
   ],
   "source": [
    "Monoid.getFirst . Monoid.mconcat . map Monoid.First $ [Nothing, Just 9, Just 10]  \n",
    "-- 많은 Maybe 값들이 있을때 어떤것이 Just 값인지 알고자할 때 유용"
   ]
  },
  {
   "cell_type": "markdown",
   "id": "ce7cca60-3259-4cc7-b9cc-706128ab5362",
   "metadata": {},
   "source": [
    "### Maybe a의 a가 모노이드가 아닐때도 (Last)\n",
    "\n",
    "위와 반대로 뒤의 값이 남는 Last도 있다"
   ]
  },
  {
   "cell_type": "code",
   "execution_count": 119,
   "id": "2e344c17-9f13-43e3-aeb9-7955697ccebc",
   "metadata": {},
   "outputs": [
    {
     "data": {
      "text/plain": [
       "Just 10"
      ]
     },
     "metadata": {},
     "output_type": "display_data"
    },
    {
     "data": {
      "text/plain": [
       "Just \"two\""
      ]
     },
     "metadata": {},
     "output_type": "display_data"
    }
   ],
   "source": [
    "Monoid.getLast . Monoid.mconcat . map Monoid.Last $ [Nothing, Just 9, Just 10]  \n",
    "Monoid.getLast $ Monoid.Last (Just \"one\") `Monoid.mappend` Last (Just \"two\")"
   ]
  },
  {
   "cell_type": "markdown",
   "id": "ccaa0aa8-6ff2-40a5-944d-4d8b5ba490c7",
   "metadata": {},
   "source": [
    "## 모노이드로 폴드하기"
   ]
  },
  {
   "cell_type": "code",
   "execution_count": 120,
   "id": "3addbedd-59f6-4323-a241-47efc80daa35",
   "metadata": {},
   "outputs": [
    {
     "data": {},
     "metadata": {},
     "output_type": "display_data"
    },
    {
     "data": {
      "text/html": [
       "<div style='background: rgb(247, 247, 247);'><form><textarea id='code'>type Foldable :: (* -> *) -> Constraint\n",
       "class Foldable t where\n",
       "  Data.Foldable.fold :: Monoid m => t m -> m\n",
       "  foldMap :: Monoid m => (a -> m) -> t a -> m\n",
       "  Data.Foldable.foldMap' :: Monoid m => (a -> m) -> t a -> m\n",
       "  foldr :: (a -> b -> b) -> b -> t a -> b\n",
       "  Data.Foldable.foldr' :: (a -> b -> b) -> b -> t a -> b\n",
       "  foldl :: (b -> a -> b) -> b -> t a -> b\n",
       "  Data.Foldable.foldl' :: (b -> a -> b) -> b -> t a -> b\n",
       "  foldr1 :: (a -> a -> a) -> t a -> a\n",
       "  foldl1 :: (a -> a -> a) -> t a -> a\n",
       "  Data.Foldable.toList :: t a -> [a]\n",
       "  null :: t a -> Bool\n",
       "  length :: t a -> Int\n",
       "  elem :: Eq a => a -> t a -> Bool\n",
       "  maximum :: Ord a => t a -> a\n",
       "  minimum :: Ord a => t a -> a\n",
       "  sum :: Num a => t a -> a\n",
       "  product :: Num a => t a -> a\n",
       "  {-# MINIMAL foldMap | foldr #-}\n",
       "  \t-- Defined in ‘Data.Foldable’\n",
       "instance Foldable (Applicative.Const m) -- Defined in ‘Data.Functor.Const’\n",
       "instance Foldable [] -- Defined in ‘Data.Foldable’\n",
       "instance Foldable Sum -- Defined in ‘Data.Foldable’\n",
       "instance Foldable Product -- Defined in ‘Data.Foldable’\n",
       "instance Foldable Maybe -- Defined in ‘Data.Foldable’\n",
       "instance Foldable Last -- Defined in ‘Data.Foldable’\n",
       "instance Foldable First -- Defined in ‘Data.Foldable’\n",
       "instance Foldable (Either a) -- Defined in ‘Data.Foldable’\n",
       "instance Foldable Dual -- Defined in ‘Data.Foldable’\n",
       "instance Foldable f => Foldable (Ap f) -- Defined in ‘Data.Foldable’\n",
       "instance Foldable f => Foldable (Alt f) -- Defined in ‘Data.Foldable’\n",
       "instance Foldable ((,) a) -- Defined in ‘Data.Foldable’\n",
       "instance Foldable Applicative.ZipList -- Defined in ‘Control.Applicative’\n",
       "</textarea></form></div><script>CodeMirror.fromTextArea(document.getElementById('code'), {mode: 'haskell', readOnly: 'nocursor'});</script>"
      ],
      "text/plain": [
       "type Foldable :: (* -> *) -> Constraint\n",
       "class Foldable t where\n",
       "  Data.Foldable.fold :: Monoid m => t m -> m\n",
       "  foldMap :: Monoid m => (a -> m) -> t a -> m\n",
       "  Data.Foldable.foldMap' :: Monoid m => (a -> m) -> t a -> m\n",
       "  foldr :: (a -> b -> b) -> b -> t a -> b\n",
       "  Data.Foldable.foldr' :: (a -> b -> b) -> b -> t a -> b\n",
       "  foldl :: (b -> a -> b) -> b -> t a -> b\n",
       "  Data.Foldable.foldl' :: (b -> a -> b) -> b -> t a -> b\n",
       "  foldr1 :: (a -> a -> a) -> t a -> a\n",
       "  foldl1 :: (a -> a -> a) -> t a -> a\n",
       "  Data.Foldable.toList :: t a -> [a]\n",
       "  null :: t a -> Bool\n",
       "  length :: t a -> Int\n",
       "  elem :: Eq a => a -> t a -> Bool\n",
       "  maximum :: Ord a => t a -> a\n",
       "  minimum :: Ord a => t a -> a\n",
       "  sum :: Num a => t a -> a\n",
       "  product :: Num a => t a -> a\n",
       "  {-# MINIMAL foldMap | foldr #-}\n",
       "  \t-- Defined in ‘Data.Foldable’\n",
       "instance Foldable (Applicative.Const m) -- Defined in ‘Data.Functor.Const’\n",
       "instance Foldable [] -- Defined in ‘Data.Foldable’\n",
       "instance Foldable Sum -- Defined in ‘Data.Foldable’\n",
       "instance Foldable Product -- Defined in ‘Data.Foldable’\n",
       "instance Foldable Maybe -- Defined in ‘Data.Foldable’\n",
       "instance Foldable Last -- Defined in ‘Data.Foldable’\n",
       "instance Foldable First -- Defined in ‘Data.Foldable’\n",
       "instance Foldable (Either a) -- Defined in ‘Data.Foldable’\n",
       "instance Foldable Dual -- Defined in ‘Data.Foldable’\n",
       "instance Foldable f => Foldable (Ap f) -- Defined in ‘Data.Foldable’\n",
       "instance Foldable f => Foldable (Alt f) -- Defined in ‘Data.Foldable’\n",
       "instance Foldable ((,) a) -- Defined in ‘Data.Foldable’\n",
       "instance Foldable Applicative.ZipList -- Defined in ‘Control.Applicative’"
      ]
     },
     "metadata": {},
     "output_type": "display_data"
    }
   ],
   "source": [
    "-- 리스트만이 폴드될 수 있는 유일한 데이터 구조는 아니다.\n",
    "-- Foldable은 폴드 될 수 있는 것에 대한 데이터 클래스이다.\n",
    ":info Foldable"
   ]
  },
  {
   "cell_type": "markdown",
   "id": "dca50e2b-177a-46c3-8394-a98b77b172ac",
   "metadata": {},
   "source": [
    "## Foldable"
   ]
  },
  {
   "cell_type": "code",
   "execution_count": 8,
   "id": "8a421681-7f9b-4b81-b4a4-9faa56c1c9c9",
   "metadata": {},
   "outputs": [
    {
     "data": {},
     "metadata": {},
     "output_type": "display_data"
    },
    {
     "data": {
      "text/html": [
       "<style>/* Styles used for the Hoogle display in the pager */\n",
       ".hoogle-doc {\n",
       "display: block;\n",
       "padding-bottom: 1.3em;\n",
       "padding-left: 0.4em;\n",
       "}\n",
       ".hoogle-code {\n",
       "display: block;\n",
       "font-family: monospace;\n",
       "white-space: pre;\n",
       "}\n",
       ".hoogle-text {\n",
       "display: block;\n",
       "}\n",
       ".hoogle-name {\n",
       "color: green;\n",
       "font-weight: bold;\n",
       "}\n",
       ".hoogle-head {\n",
       "font-weight: bold;\n",
       "}\n",
       ".hoogle-sub {\n",
       "display: block;\n",
       "margin-left: 0.4em;\n",
       "}\n",
       ".hoogle-package {\n",
       "font-weight: bold;\n",
       "font-style: italic;\n",
       "}\n",
       ".hoogle-module {\n",
       "font-weight: bold;\n",
       "}\n",
       ".hoogle-class {\n",
       "font-weight: bold;\n",
       "}\n",
       ".get-type {\n",
       "color: green;\n",
       "font-weight: bold;\n",
       "font-family: monospace;\n",
       "display: block;\n",
       "white-space: pre-wrap;\n",
       "}\n",
       ".show-type {\n",
       "color: green;\n",
       "font-weight: bold;\n",
       "font-family: monospace;\n",
       "margin-left: 1em;\n",
       "}\n",
       ".mono {\n",
       "font-family: monospace;\n",
       "display: block;\n",
       "}\n",
       ".err-msg {\n",
       "color: red;\n",
       "font-style: italic;\n",
       "font-family: monospace;\n",
       "white-space: pre;\n",
       "display: block;\n",
       "}\n",
       "#unshowable {\n",
       "color: red;\n",
       "font-weight: bold;\n",
       "}\n",
       ".err-msg.in.collapse {\n",
       "padding-top: 0.7em;\n",
       "}\n",
       ".highlight-code {\n",
       "white-space: pre;\n",
       "font-family: monospace;\n",
       "}\n",
       ".suggestion-warning { \n",
       "font-weight: bold;\n",
       "color: rgb(200, 130, 0);\n",
       "}\n",
       ".suggestion-error { \n",
       "font-weight: bold;\n",
       "color: red;\n",
       "}\n",
       ".suggestion-name {\n",
       "font-weight: bold;\n",
       "}\n",
       "</style><span class='get-type'>foldr :: forall (t :: * -> *) a b. Foldable t => (a -> b -> b) -> b -> t a -> b</span>"
      ],
      "text/plain": [
       "foldr :: forall (t :: * -> *) a b. Foldable t => (a -> b -> b) -> b -> t a -> b"
      ]
     },
     "metadata": {},
     "output_type": "display_data"
    },
    {
     "data": {
      "text/html": [
       "<style>/* Styles used for the Hoogle display in the pager */\n",
       ".hoogle-doc {\n",
       "display: block;\n",
       "padding-bottom: 1.3em;\n",
       "padding-left: 0.4em;\n",
       "}\n",
       ".hoogle-code {\n",
       "display: block;\n",
       "font-family: monospace;\n",
       "white-space: pre;\n",
       "}\n",
       ".hoogle-text {\n",
       "display: block;\n",
       "}\n",
       ".hoogle-name {\n",
       "color: green;\n",
       "font-weight: bold;\n",
       "}\n",
       ".hoogle-head {\n",
       "font-weight: bold;\n",
       "}\n",
       ".hoogle-sub {\n",
       "display: block;\n",
       "margin-left: 0.4em;\n",
       "}\n",
       ".hoogle-package {\n",
       "font-weight: bold;\n",
       "font-style: italic;\n",
       "}\n",
       ".hoogle-module {\n",
       "font-weight: bold;\n",
       "}\n",
       ".hoogle-class {\n",
       "font-weight: bold;\n",
       "}\n",
       ".get-type {\n",
       "color: green;\n",
       "font-weight: bold;\n",
       "font-family: monospace;\n",
       "display: block;\n",
       "white-space: pre-wrap;\n",
       "}\n",
       ".show-type {\n",
       "color: green;\n",
       "font-weight: bold;\n",
       "font-family: monospace;\n",
       "margin-left: 1em;\n",
       "}\n",
       ".mono {\n",
       "font-family: monospace;\n",
       "display: block;\n",
       "}\n",
       ".err-msg {\n",
       "color: red;\n",
       "font-style: italic;\n",
       "font-family: monospace;\n",
       "white-space: pre;\n",
       "display: block;\n",
       "}\n",
       "#unshowable {\n",
       "color: red;\n",
       "font-weight: bold;\n",
       "}\n",
       ".err-msg.in.collapse {\n",
       "padding-top: 0.7em;\n",
       "}\n",
       ".highlight-code {\n",
       "white-space: pre;\n",
       "font-family: monospace;\n",
       "}\n",
       ".suggestion-warning { \n",
       "font-weight: bold;\n",
       "color: rgb(200, 130, 0);\n",
       "}\n",
       ".suggestion-error { \n",
       "font-weight: bold;\n",
       "color: red;\n",
       "}\n",
       ".suggestion-name {\n",
       "font-weight: bold;\n",
       "}\n",
       "</style><span class='get-type'>F.foldr :: forall (t :: * -> *) a b. Foldable t => (a -> b -> b) -> b -> t a -> b</span>"
      ],
      "text/plain": [
       "F.foldr :: forall (t :: * -> *) a b. Foldable t => (a -> b -> b) -> b -> t a -> b"
      ]
     },
     "metadata": {},
     "output_type": "display_data"
    },
    {
     "data": {
      "text/html": [
       "<div style='background: rgb(247, 247, 247);'><form><textarea id='code'>type Foldable :: (* -> *) -> Constraint\n",
       "class Foldable t where\n",
       "  F.fold :: Monoid m => t m -> m\n",
       "  foldMap :: Monoid m => (a -> m) -> t a -> m\n",
       "  F.foldMap' :: Monoid m => (a -> m) -> t a -> m\n",
       "  foldr :: (a -> b -> b) -> b -> t a -> b\n",
       "  F.foldr' :: (a -> b -> b) -> b -> t a -> b\n",
       "  foldl :: (b -> a -> b) -> b -> t a -> b\n",
       "  F.foldl' :: (b -> a -> b) -> b -> t a -> b\n",
       "  foldr1 :: (a -> a -> a) -> t a -> a\n",
       "  foldl1 :: (a -> a -> a) -> t a -> a\n",
       "  F.toList :: t a -> [a]\n",
       "  null :: t a -> Bool\n",
       "  length :: t a -> Int\n",
       "  elem :: Eq a => a -> t a -> Bool\n",
       "  maximum :: Ord a => t a -> a\n",
       "  minimum :: Ord a => t a -> a\n",
       "  sum :: Num a => t a -> a\n",
       "  product :: Num a => t a -> a\n",
       "  {-# MINIMAL foldMap | foldr #-}\n",
       "  \t-- Defined in ‘Data.Foldable’\n",
       "instance Foldable [] -- Defined in ‘Data.Foldable’\n",
       "instance Foldable Maybe -- Defined in ‘Data.Foldable’\n",
       "instance Foldable (Either a) -- Defined in ‘Data.Foldable’\n",
       "instance Foldable ((,) a) -- Defined in ‘Data.Foldable’\n",
       "</textarea></form></div><script>CodeMirror.fromTextArea(document.getElementById('code'), {mode: 'haskell', readOnly: 'nocursor'});</script>"
      ],
      "text/plain": [
       "type Foldable :: (* -> *) -> Constraint\n",
       "class Foldable t where\n",
       "  F.fold :: Monoid m => t m -> m\n",
       "  foldMap :: Monoid m => (a -> m) -> t a -> m\n",
       "  F.foldMap' :: Monoid m => (a -> m) -> t a -> m\n",
       "  foldr :: (a -> b -> b) -> b -> t a -> b\n",
       "  F.foldr' :: (a -> b -> b) -> b -> t a -> b\n",
       "  foldl :: (b -> a -> b) -> b -> t a -> b\n",
       "  F.foldl' :: (b -> a -> b) -> b -> t a -> b\n",
       "  foldr1 :: (a -> a -> a) -> t a -> a\n",
       "  foldl1 :: (a -> a -> a) -> t a -> a\n",
       "  F.toList :: t a -> [a]\n",
       "  null :: t a -> Bool\n",
       "  length :: t a -> Int\n",
       "  elem :: Eq a => a -> t a -> Bool\n",
       "  maximum :: Ord a => t a -> a\n",
       "  minimum :: Ord a => t a -> a\n",
       "  sum :: Num a => t a -> a\n",
       "  product :: Num a => t a -> a\n",
       "  {-# MINIMAL foldMap | foldr #-}\n",
       "  \t-- Defined in ‘Data.Foldable’\n",
       "instance Foldable [] -- Defined in ‘Data.Foldable’\n",
       "instance Foldable Maybe -- Defined in ‘Data.Foldable’\n",
       "instance Foldable (Either a) -- Defined in ‘Data.Foldable’\n",
       "instance Foldable ((,) a) -- Defined in ‘Data.Foldable’"
      ]
     },
     "metadata": {},
     "output_type": "display_data"
    }
   ],
   "source": [
    "import qualified Data.Foldable as F\n",
    "\n",
    ":info Foldable\n",
    "-- type Foldable :: (* -> *) -> Constraint\n",
    "-- class Foldable t where\n",
    "-- Foldable t는 타입 인스턴스 인자 하나를 받는다\n",
    ":t foldr\n",
    ":t F.foldr"
   ]
  },
  {
   "cell_type": "code",
   "execution_count": 5,
   "id": "3fbcf254-3e0b-4306-b284-fc4909f41841",
   "metadata": {},
   "outputs": [
    {
     "data": {
      "text/html": [
       "<style>/* Styles used for the Hoogle display in the pager */\n",
       ".hoogle-doc {\n",
       "display: block;\n",
       "padding-bottom: 1.3em;\n",
       "padding-left: 0.4em;\n",
       "}\n",
       ".hoogle-code {\n",
       "display: block;\n",
       "font-family: monospace;\n",
       "white-space: pre;\n",
       "}\n",
       ".hoogle-text {\n",
       "display: block;\n",
       "}\n",
       ".hoogle-name {\n",
       "color: green;\n",
       "font-weight: bold;\n",
       "}\n",
       ".hoogle-head {\n",
       "font-weight: bold;\n",
       "}\n",
       ".hoogle-sub {\n",
       "display: block;\n",
       "margin-left: 0.4em;\n",
       "}\n",
       ".hoogle-package {\n",
       "font-weight: bold;\n",
       "font-style: italic;\n",
       "}\n",
       ".hoogle-module {\n",
       "font-weight: bold;\n",
       "}\n",
       ".hoogle-class {\n",
       "font-weight: bold;\n",
       "}\n",
       ".get-type {\n",
       "color: green;\n",
       "font-weight: bold;\n",
       "font-family: monospace;\n",
       "display: block;\n",
       "white-space: pre-wrap;\n",
       "}\n",
       ".show-type {\n",
       "color: green;\n",
       "font-weight: bold;\n",
       "font-family: monospace;\n",
       "margin-left: 1em;\n",
       "}\n",
       ".mono {\n",
       "font-family: monospace;\n",
       "display: block;\n",
       "}\n",
       ".err-msg {\n",
       "color: red;\n",
       "font-style: italic;\n",
       "font-family: monospace;\n",
       "white-space: pre;\n",
       "display: block;\n",
       "}\n",
       "#unshowable {\n",
       "color: red;\n",
       "font-weight: bold;\n",
       "}\n",
       ".err-msg.in.collapse {\n",
       "padding-top: 0.7em;\n",
       "}\n",
       ".highlight-code {\n",
       "white-space: pre;\n",
       "font-family: monospace;\n",
       "}\n",
       ".suggestion-warning { \n",
       "font-weight: bold;\n",
       "color: rgb(200, 130, 0);\n",
       "}\n",
       ".suggestion-error { \n",
       "font-weight: bold;\n",
       "color: red;\n",
       "}\n",
       ".suggestion-name {\n",
       "font-weight: bold;\n",
       "}\n",
       "</style><div class=\"suggestion-name\" style=\"clear:both;\">Use product</div><div class=\"suggestion-row\" style=\"float: left;\"><div class=\"suggestion-warning\">Found:</div><div class=\"highlight-code\" id=\"haskell\">foldr (*) 1</div></div><div class=\"suggestion-row\" style=\"float: left;\"><div class=\"suggestion-warning\">Why Not:</div><div class=\"highlight-code\" id=\"haskell\">product</div></div>"
      ],
      "text/plain": [
       "Line 3: Use product\n",
       "Found:\n",
       "foldr (*) 1\n",
       "Why not:\n",
       "product"
      ]
     },
     "metadata": {},
     "output_type": "display_data"
    },
    {
     "data": {
      "text/plain": [
       "6"
      ]
     },
     "metadata": {},
     "output_type": "display_data"
    },
    {
     "data": {
      "text/plain": [
       "6"
      ]
     },
     "metadata": {},
     "output_type": "display_data"
    }
   ],
   "source": [
    "import qualified Data.Foldable as F\n",
    "\n",
    "foldr (*) 1 [1,2,3]\n",
    "F.foldr (*) 1 [1,2,3]"
   ]
  },
  {
   "cell_type": "code",
   "execution_count": 6,
   "id": "e3ae19fe-7ad4-4998-9743-a434c54a3018",
   "metadata": {},
   "outputs": [
    {
     "data": {
      "text/plain": [
       "11"
      ]
     },
     "metadata": {},
     "output_type": "display_data"
    },
    {
     "data": {
      "text/plain": [
       "True"
      ]
     },
     "metadata": {},
     "output_type": "display_data"
    }
   ],
   "source": [
    "import qualified Data.Foldable as F\n",
    "\n",
    "F.foldl (+) 2 (Just 9)\n",
    "F.foldr (||) False (Just True)"
   ]
  },
  {
   "cell_type": "code",
   "execution_count": 9,
   "id": "11210ec0-8ede-42b9-bde8-c8fac40dcc34",
   "metadata": {},
   "outputs": [
    {
     "data": {
      "text/html": [
       "<style>/* Styles used for the Hoogle display in the pager */\n",
       ".hoogle-doc {\n",
       "display: block;\n",
       "padding-bottom: 1.3em;\n",
       "padding-left: 0.4em;\n",
       "}\n",
       ".hoogle-code {\n",
       "display: block;\n",
       "font-family: monospace;\n",
       "white-space: pre;\n",
       "}\n",
       ".hoogle-text {\n",
       "display: block;\n",
       "}\n",
       ".hoogle-name {\n",
       "color: green;\n",
       "font-weight: bold;\n",
       "}\n",
       ".hoogle-head {\n",
       "font-weight: bold;\n",
       "}\n",
       ".hoogle-sub {\n",
       "display: block;\n",
       "margin-left: 0.4em;\n",
       "}\n",
       ".hoogle-package {\n",
       "font-weight: bold;\n",
       "font-style: italic;\n",
       "}\n",
       ".hoogle-module {\n",
       "font-weight: bold;\n",
       "}\n",
       ".hoogle-class {\n",
       "font-weight: bold;\n",
       "}\n",
       ".get-type {\n",
       "color: green;\n",
       "font-weight: bold;\n",
       "font-family: monospace;\n",
       "display: block;\n",
       "white-space: pre-wrap;\n",
       "}\n",
       ".show-type {\n",
       "color: green;\n",
       "font-weight: bold;\n",
       "font-family: monospace;\n",
       "margin-left: 1em;\n",
       "}\n",
       ".mono {\n",
       "font-family: monospace;\n",
       "display: block;\n",
       "}\n",
       ".err-msg {\n",
       "color: red;\n",
       "font-style: italic;\n",
       "font-family: monospace;\n",
       "white-space: pre;\n",
       "display: block;\n",
       "}\n",
       "#unshowable {\n",
       "color: red;\n",
       "font-weight: bold;\n",
       "}\n",
       ".err-msg.in.collapse {\n",
       "padding-top: 0.7em;\n",
       "}\n",
       ".highlight-code {\n",
       "white-space: pre;\n",
       "font-family: monospace;\n",
       "}\n",
       ".suggestion-warning { \n",
       "font-weight: bold;\n",
       "color: rgb(200, 130, 0);\n",
       "}\n",
       ".suggestion-error { \n",
       "font-weight: bold;\n",
       "color: red;\n",
       "}\n",
       ".suggestion-name {\n",
       "font-weight: bold;\n",
       "}\n",
       "</style><span class='get-type'>foldMap :: forall (t :: * -> *) m a. (Foldable t, Monoid m) => (a -> m) -> t a -> m</span>"
      ],
      "text/plain": [
       "foldMap :: forall (t :: * -> *) m a. (Foldable t, Monoid m) => (a -> m) -> t a -> m"
      ]
     },
     "metadata": {},
     "output_type": "display_data"
    }
   ],
   "source": [
    "-- Foldable 인스턴스를 만드는 방법\n",
    "-- 1) foldr을 직접 구현\n",
    "-- 2) foldMap 함수를 구현\n",
    ":t foldMap\n",
    "-- foldMap :: (Monoid m, Foldable t) => (a -> m) -> t a -> m  \n",
    "-- 1. (a->m): 폴드할 수 있는 구조 a 를 받아 모노이드 값을 반환하는 함수\n",
    "-- 2. t a : 폴더블 값 안에 a\n",
    "-- output : 모노이드 값\n",
    "\n",
    "-- 1. 폴드할 수 있는 구조에 그 함수를 매핑하여 모노이드 값을 가지는 폴드할 수 있는 구조를 생성한다\n",
    "-- 2.이들 모노이드 값들 간에 mappend 해서 하나의 모노이드 값으로 합친다"
   ]
  },
  {
   "cell_type": "code",
   "execution_count": 14,
   "id": "084cb4a8-7407-48ce-94f3-b31ae44e8e39",
   "metadata": {},
   "outputs": [],
   "source": [
    "import qualified Data.Foldable as F\n",
    "\n",
    "data Tree a = Empty | Node a (Tree a) (Tree a) deriving (Show, Read, Eq)  \n",
    "\n",
    "instance F.Foldable Tree where  \n",
    "    foldMap f Empty = mempty  \n",
    "    foldMap f (Node x l r) = F.foldMap f l `mappend`  \n",
    "                             f x           `mappend`  \n",
    "                             F.foldMap f r  "
   ]
  },
  {
   "cell_type": "code",
   "execution_count": 15,
   "id": "cb461a25-cc84-4b9b-8a02-a0313b08a231",
   "metadata": {},
   "outputs": [],
   "source": [
    "testTree = Node 5  \n",
    "            (Node 3  \n",
    "                (Node 1 Empty Empty)  \n",
    "                (Node 6 Empty Empty)  \n",
    "            )  \n",
    "            (Node 9  \n",
    "                (Node 8 Empty Empty)  \n",
    "                (Node 10 Empty Empty)  \n",
    "            )  "
   ]
  },
  {
   "cell_type": "code",
   "execution_count": 22,
   "id": "e42e510f-3ece-4d4c-8f9f-1f3cdff84adf",
   "metadata": {},
   "outputs": [
    {
     "data": {
      "text/plain": [
       "42"
      ]
     },
     "metadata": {},
     "output_type": "display_data"
    },
    {
     "data": {
      "text/html": [
       "<style>/* Styles used for the Hoogle display in the pager */\n",
       ".hoogle-doc {\n",
       "display: block;\n",
       "padding-bottom: 1.3em;\n",
       "padding-left: 0.4em;\n",
       "}\n",
       ".hoogle-code {\n",
       "display: block;\n",
       "font-family: monospace;\n",
       "white-space: pre;\n",
       "}\n",
       ".hoogle-text {\n",
       "display: block;\n",
       "}\n",
       ".hoogle-name {\n",
       "color: green;\n",
       "font-weight: bold;\n",
       "}\n",
       ".hoogle-head {\n",
       "font-weight: bold;\n",
       "}\n",
       ".hoogle-sub {\n",
       "display: block;\n",
       "margin-left: 0.4em;\n",
       "}\n",
       ".hoogle-package {\n",
       "font-weight: bold;\n",
       "font-style: italic;\n",
       "}\n",
       ".hoogle-module {\n",
       "font-weight: bold;\n",
       "}\n",
       ".hoogle-class {\n",
       "font-weight: bold;\n",
       "}\n",
       ".get-type {\n",
       "color: green;\n",
       "font-weight: bold;\n",
       "font-family: monospace;\n",
       "display: block;\n",
       "white-space: pre-wrap;\n",
       "}\n",
       ".show-type {\n",
       "color: green;\n",
       "font-weight: bold;\n",
       "font-family: monospace;\n",
       "margin-left: 1em;\n",
       "}\n",
       ".mono {\n",
       "font-family: monospace;\n",
       "display: block;\n",
       "}\n",
       ".err-msg {\n",
       "color: red;\n",
       "font-style: italic;\n",
       "font-family: monospace;\n",
       "white-space: pre;\n",
       "display: block;\n",
       "}\n",
       "#unshowable {\n",
       "color: red;\n",
       "font-weight: bold;\n",
       "}\n",
       ".err-msg.in.collapse {\n",
       "padding-top: 0.7em;\n",
       "}\n",
       ".highlight-code {\n",
       "white-space: pre;\n",
       "font-family: monospace;\n",
       "}\n",
       ".suggestion-warning { \n",
       "font-weight: bold;\n",
       "color: rgb(200, 130, 0);\n",
       "}\n",
       ".suggestion-error { \n",
       "font-weight: bold;\n",
       "color: red;\n",
       "}\n",
       ".suggestion-name {\n",
       "font-weight: bold;\n",
       "}\n",
       "</style><span class='get-type'>F.foldl (+) 0 testTree :: forall b. Num b => b</span>"
      ],
      "text/plain": [
       "F.foldl (+) 0 testTree :: forall b. Num b => b"
      ]
     },
     "metadata": {},
     "output_type": "display_data"
    },
    {
     "data": {
      "text/plain": [
       "64800"
      ]
     },
     "metadata": {},
     "output_type": "display_data"
    }
   ],
   "source": [
    "F.foldl (+) 0 testTree \n",
    ":t F.foldl (+) 0 testTree \n",
    "-- F.foldMap (+) Node 3 ... `mappend` (+ 5) `mappend` F.foldMap (+) Node 9...\n",
    "-- l tree\n",
    "-- mempty `mappend` (+ 1) `mappend` mempty `mappend` (+ 3) `mappend` mempty `mappend` (+ 6) `mappend` mempty\n",
    "-- (+ 1) `mappend` (+3) `mappend` (+6) ....\n",
    "-- (+ 1) `mappend` (+3) `mappend` (+6)  `mappend` (+5)  `mappend` (+8)  `mappend` (+9)  `mappend` (+10)\n",
    "-- => a는 Num, m은 a -> a 임\n",
    "F.foldl (*) 1 testTree  "
   ]
  },
  {
   "cell_type": "code",
   "execution_count": 26,
   "id": "52cd0ad0-78dc-4bf9-a280-b7c517c9dbee",
   "metadata": {},
   "outputs": [
    {
     "data": {
      "text/plain": [
       "True"
      ]
     },
     "metadata": {},
     "output_type": "display_data"
    },
    {
     "data": {
      "text/plain": [
       "False"
      ]
     },
     "metadata": {},
     "output_type": "display_data"
    }
   ],
   "source": [
    "import qualified Data.Foldable as F\n",
    "import qualified Data.Monoid as Monoid\n",
    "\n",
    "Monoid.getAny $ F.foldMap (\\x -> Monoid.Any $ x == 3) testTree  \n",
    "Monoid.getAny $ F.foldMap (\\x -> Monoid.Any $ x > 15) testTree  "
   ]
  },
  {
   "cell_type": "code",
   "execution_count": 27,
   "id": "db83e238-c4f5-4fa6-9690-05318c493a17",
   "metadata": {},
   "outputs": [
    {
     "data": {
      "text/html": [
       "<style>/* Styles used for the Hoogle display in the pager */\n",
       ".hoogle-doc {\n",
       "display: block;\n",
       "padding-bottom: 1.3em;\n",
       "padding-left: 0.4em;\n",
       "}\n",
       ".hoogle-code {\n",
       "display: block;\n",
       "font-family: monospace;\n",
       "white-space: pre;\n",
       "}\n",
       ".hoogle-text {\n",
       "display: block;\n",
       "}\n",
       ".hoogle-name {\n",
       "color: green;\n",
       "font-weight: bold;\n",
       "}\n",
       ".hoogle-head {\n",
       "font-weight: bold;\n",
       "}\n",
       ".hoogle-sub {\n",
       "display: block;\n",
       "margin-left: 0.4em;\n",
       "}\n",
       ".hoogle-package {\n",
       "font-weight: bold;\n",
       "font-style: italic;\n",
       "}\n",
       ".hoogle-module {\n",
       "font-weight: bold;\n",
       "}\n",
       ".hoogle-class {\n",
       "font-weight: bold;\n",
       "}\n",
       ".get-type {\n",
       "color: green;\n",
       "font-weight: bold;\n",
       "font-family: monospace;\n",
       "display: block;\n",
       "white-space: pre-wrap;\n",
       "}\n",
       ".show-type {\n",
       "color: green;\n",
       "font-weight: bold;\n",
       "font-family: monospace;\n",
       "margin-left: 1em;\n",
       "}\n",
       ".mono {\n",
       "font-family: monospace;\n",
       "display: block;\n",
       "}\n",
       ".err-msg {\n",
       "color: red;\n",
       "font-style: italic;\n",
       "font-family: monospace;\n",
       "white-space: pre;\n",
       "display: block;\n",
       "}\n",
       "#unshowable {\n",
       "color: red;\n",
       "font-weight: bold;\n",
       "}\n",
       ".err-msg.in.collapse {\n",
       "padding-top: 0.7em;\n",
       "}\n",
       ".highlight-code {\n",
       "white-space: pre;\n",
       "font-family: monospace;\n",
       "}\n",
       ".suggestion-warning { \n",
       "font-weight: bold;\n",
       "color: rgb(200, 130, 0);\n",
       "}\n",
       ".suggestion-error { \n",
       "font-weight: bold;\n",
       "color: red;\n",
       "}\n",
       ".suggestion-name {\n",
       "font-weight: bold;\n",
       "}\n",
       "</style><div class=\"suggestion-name\" style=\"clear:both;\">Use :</div><div class=\"suggestion-row\" style=\"float: left;\"><div class=\"suggestion-warning\">Found:</div><div class=\"highlight-code\" id=\"haskell\">\\ x -> [x]</div></div><div class=\"suggestion-row\" style=\"float: left;\"><div class=\"suggestion-warning\">Why Not:</div><div class=\"highlight-code\" id=\"haskell\">(: [])</div></div>"
      ],
      "text/plain": [
       "Line 1: Use :\n",
       "Found:\n",
       "\\ x -> [x]\n",
       "Why not:\n",
       "(: [])"
      ]
     },
     "metadata": {},
     "output_type": "display_data"
    },
    {
     "data": {
      "text/plain": [
       "[1,3,6,5,8,9,10]"
      ]
     },
     "metadata": {},
     "output_type": "display_data"
    }
   ],
   "source": [
    "F.foldMap (\\x -> [x]) testTree \n",
    "-- 리스트의 `mappend`는 ++ 이므로 아래와 같이 쭉 펼쳐진다"
   ]
  }
 ],
 "metadata": {
  "kernelspec": {
   "display_name": "Haskell",
   "language": "haskell",
   "name": "haskell"
  },
  "language_info": {
   "codemirror_mode": "Haskell",
   "file_extension": ".hs",
   "mimetype": "text/x-haskell",
   "name": "haskell",
   "pygments_lexer": "Haskell",
   "version": "8.10.4"
  }
 },
 "nbformat": 4,
 "nbformat_minor": 5
}
