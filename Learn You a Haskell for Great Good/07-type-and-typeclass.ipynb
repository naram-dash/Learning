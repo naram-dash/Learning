{
 "cells": [
  {
   "cell_type": "markdown",
   "id": "5fb507b8-269f-4369-88a4-e7a9def5d444",
   "metadata": {},
   "source": [
    "# 타입과 타입 클래스 만들기"
   ]
  },
  {
   "cell_type": "code",
   "execution_count": 2,
   "id": "053525af-3300-498e-a90b-3a04aa17148d",
   "metadata": {},
   "outputs": [],
   "source": [
    "data Bool = False | True"
   ]
  },
  {
   "cell_type": "code",
   "execution_count": 3,
   "id": "f87a8cae-9ad0-47d7-89b8-d464a1c60ba6",
   "metadata": {},
   "outputs": [],
   "source": [
    "data Shape = Circle Float Float Float | Rectangle Float Float Float Float"
   ]
  },
  {
   "cell_type": "code",
   "execution_count": 4,
   "id": "c4e6327a-96cd-4b52-8b5c-c292bca848b4",
   "metadata": {},
   "outputs": [
    {
     "data": {
      "text/html": [
       "<style>/* Styles used for the Hoogle display in the pager */\n",
       ".hoogle-doc {\n",
       "display: block;\n",
       "padding-bottom: 1.3em;\n",
       "padding-left: 0.4em;\n",
       "}\n",
       ".hoogle-code {\n",
       "display: block;\n",
       "font-family: monospace;\n",
       "white-space: pre;\n",
       "}\n",
       ".hoogle-text {\n",
       "display: block;\n",
       "}\n",
       ".hoogle-name {\n",
       "color: green;\n",
       "font-weight: bold;\n",
       "}\n",
       ".hoogle-head {\n",
       "font-weight: bold;\n",
       "}\n",
       ".hoogle-sub {\n",
       "display: block;\n",
       "margin-left: 0.4em;\n",
       "}\n",
       ".hoogle-package {\n",
       "font-weight: bold;\n",
       "font-style: italic;\n",
       "}\n",
       ".hoogle-module {\n",
       "font-weight: bold;\n",
       "}\n",
       ".hoogle-class {\n",
       "font-weight: bold;\n",
       "}\n",
       ".get-type {\n",
       "color: green;\n",
       "font-weight: bold;\n",
       "font-family: monospace;\n",
       "display: block;\n",
       "white-space: pre-wrap;\n",
       "}\n",
       ".show-type {\n",
       "color: green;\n",
       "font-weight: bold;\n",
       "font-family: monospace;\n",
       "margin-left: 1em;\n",
       "}\n",
       ".mono {\n",
       "font-family: monospace;\n",
       "display: block;\n",
       "}\n",
       ".err-msg {\n",
       "color: red;\n",
       "font-style: italic;\n",
       "font-family: monospace;\n",
       "white-space: pre;\n",
       "display: block;\n",
       "}\n",
       "#unshowable {\n",
       "color: red;\n",
       "font-weight: bold;\n",
       "}\n",
       ".err-msg.in.collapse {\n",
       "padding-top: 0.7em;\n",
       "}\n",
       ".highlight-code {\n",
       "white-space: pre;\n",
       "font-family: monospace;\n",
       "}\n",
       ".suggestion-warning { \n",
       "font-weight: bold;\n",
       "color: rgb(200, 130, 0);\n",
       "}\n",
       ".suggestion-error { \n",
       "font-weight: bold;\n",
       "color: red;\n",
       "}\n",
       ".suggestion-name {\n",
       "font-weight: bold;\n",
       "}\n",
       "</style><span class='get-type'>Circle :: Float -> Float -> Float -> Shape</span>"
      ],
      "text/plain": [
       "Circle :: Float -> Float -> Float -> Shape"
      ]
     },
     "metadata": {},
     "output_type": "display_data"
    },
    {
     "data": {
      "text/html": [
       "<style>/* Styles used for the Hoogle display in the pager */\n",
       ".hoogle-doc {\n",
       "display: block;\n",
       "padding-bottom: 1.3em;\n",
       "padding-left: 0.4em;\n",
       "}\n",
       ".hoogle-code {\n",
       "display: block;\n",
       "font-family: monospace;\n",
       "white-space: pre;\n",
       "}\n",
       ".hoogle-text {\n",
       "display: block;\n",
       "}\n",
       ".hoogle-name {\n",
       "color: green;\n",
       "font-weight: bold;\n",
       "}\n",
       ".hoogle-head {\n",
       "font-weight: bold;\n",
       "}\n",
       ".hoogle-sub {\n",
       "display: block;\n",
       "margin-left: 0.4em;\n",
       "}\n",
       ".hoogle-package {\n",
       "font-weight: bold;\n",
       "font-style: italic;\n",
       "}\n",
       ".hoogle-module {\n",
       "font-weight: bold;\n",
       "}\n",
       ".hoogle-class {\n",
       "font-weight: bold;\n",
       "}\n",
       ".get-type {\n",
       "color: green;\n",
       "font-weight: bold;\n",
       "font-family: monospace;\n",
       "display: block;\n",
       "white-space: pre-wrap;\n",
       "}\n",
       ".show-type {\n",
       "color: green;\n",
       "font-weight: bold;\n",
       "font-family: monospace;\n",
       "margin-left: 1em;\n",
       "}\n",
       ".mono {\n",
       "font-family: monospace;\n",
       "display: block;\n",
       "}\n",
       ".err-msg {\n",
       "color: red;\n",
       "font-style: italic;\n",
       "font-family: monospace;\n",
       "white-space: pre;\n",
       "display: block;\n",
       "}\n",
       "#unshowable {\n",
       "color: red;\n",
       "font-weight: bold;\n",
       "}\n",
       ".err-msg.in.collapse {\n",
       "padding-top: 0.7em;\n",
       "}\n",
       ".highlight-code {\n",
       "white-space: pre;\n",
       "font-family: monospace;\n",
       "}\n",
       ".suggestion-warning { \n",
       "font-weight: bold;\n",
       "color: rgb(200, 130, 0);\n",
       "}\n",
       ".suggestion-error { \n",
       "font-weight: bold;\n",
       "color: red;\n",
       "}\n",
       ".suggestion-name {\n",
       "font-weight: bold;\n",
       "}\n",
       "</style><span class='get-type'>Rectangle :: Float -> Float -> Float -> Float -> Shape</span>"
      ],
      "text/plain": [
       "Rectangle :: Float -> Float -> Float -> Float -> Shape"
      ]
     },
     "metadata": {},
     "output_type": "display_data"
    }
   ],
   "source": [
    ":t Circle\n",
    ":t Rectangle"
   ]
  },
  {
   "cell_type": "code",
   "execution_count": 6,
   "id": "8f0229fe-70d1-41cc-8634-0a73dfe4bff5",
   "metadata": {},
   "outputs": [
    {
     "data": {
      "text/html": [
       "<style>/* Styles used for the Hoogle display in the pager */\n",
       ".hoogle-doc {\n",
       "display: block;\n",
       "padding-bottom: 1.3em;\n",
       "padding-left: 0.4em;\n",
       "}\n",
       ".hoogle-code {\n",
       "display: block;\n",
       "font-family: monospace;\n",
       "white-space: pre;\n",
       "}\n",
       ".hoogle-text {\n",
       "display: block;\n",
       "}\n",
       ".hoogle-name {\n",
       "color: green;\n",
       "font-weight: bold;\n",
       "}\n",
       ".hoogle-head {\n",
       "font-weight: bold;\n",
       "}\n",
       ".hoogle-sub {\n",
       "display: block;\n",
       "margin-left: 0.4em;\n",
       "}\n",
       ".hoogle-package {\n",
       "font-weight: bold;\n",
       "font-style: italic;\n",
       "}\n",
       ".hoogle-module {\n",
       "font-weight: bold;\n",
       "}\n",
       ".hoogle-class {\n",
       "font-weight: bold;\n",
       "}\n",
       ".get-type {\n",
       "color: green;\n",
       "font-weight: bold;\n",
       "font-family: monospace;\n",
       "display: block;\n",
       "white-space: pre-wrap;\n",
       "}\n",
       ".show-type {\n",
       "color: green;\n",
       "font-weight: bold;\n",
       "font-family: monospace;\n",
       "margin-left: 1em;\n",
       "}\n",
       ".mono {\n",
       "font-family: monospace;\n",
       "display: block;\n",
       "}\n",
       ".err-msg {\n",
       "color: red;\n",
       "font-style: italic;\n",
       "font-family: monospace;\n",
       "white-space: pre;\n",
       "display: block;\n",
       "}\n",
       "#unshowable {\n",
       "color: red;\n",
       "font-weight: bold;\n",
       "}\n",
       ".err-msg.in.collapse {\n",
       "padding-top: 0.7em;\n",
       "}\n",
       ".highlight-code {\n",
       "white-space: pre;\n",
       "font-family: monospace;\n",
       "}\n",
       ".suggestion-warning { \n",
       "font-weight: bold;\n",
       "color: rgb(200, 130, 0);\n",
       "}\n",
       ".suggestion-error { \n",
       "font-weight: bold;\n",
       "color: red;\n",
       "}\n",
       ".suggestion-name {\n",
       "font-weight: bold;\n",
       "}\n",
       "</style><div class=\"suggestion-name\" style=\"clear:both;\">Move brackets to avoid $</div><div class=\"suggestion-row\" style=\"float: left;\"><div class=\"suggestion-warning\">Found:</div><div class=\"highlight-code\" id=\"haskell\">(abs $ x2 - x1) * (abs $ y2 - y1)</div></div><div class=\"suggestion-row\" style=\"float: left;\"><div class=\"suggestion-warning\">Why Not:</div><div class=\"highlight-code\" id=\"haskell\">(abs $ x2 - x1) * abs (y2 - y1)</div></div><div class=\"suggestion-name\" style=\"clear:both;\">Move brackets to avoid $</div><div class=\"suggestion-row\" style=\"float: left;\"><div class=\"suggestion-warning\">Found:</div><div class=\"highlight-code\" id=\"haskell\">(abs $ x2 - x1) * (abs $ y2 - y1)</div></div><div class=\"suggestion-row\" style=\"float: left;\"><div class=\"suggestion-warning\">Why Not:</div><div class=\"highlight-code\" id=\"haskell\">abs (x2 - x1) * (abs $ y2 - y1)</div></div>"
      ],
      "text/plain": [
       "Line 3: Move brackets to avoid $\n",
       "Found:\n",
       "(abs $ x2 - x1) * (abs $ y2 - y1)\n",
       "Why not:\n",
       "(abs $ x2 - x1) * abs (y2 - y1)Line 3: Move brackets to avoid $\n",
       "Found:\n",
       "(abs $ x2 - x1) * (abs $ y2 - y1)\n",
       "Why not:\n",
       "abs (x2 - x1) * (abs $ y2 - y1)"
      ]
     },
     "metadata": {},
     "output_type": "display_data"
    }
   ],
   "source": [
    "area :: Shape -> Float\n",
    "area (Circle _ _ r) = pi * r ^ 2\n",
    "area (Rectangle x1 y1 x2 y2) = (abs $ x2 - x1) * (abs $ y2 - y1)"
   ]
  },
  {
   "cell_type": "code",
   "execution_count": 8,
   "id": "2826a7ba-8a38-460e-a1ff-1a63447c488c",
   "metadata": {},
   "outputs": [
    {
     "data": {
      "text/plain": [
       "314.15927"
      ]
     },
     "metadata": {},
     "output_type": "display_data"
    },
    {
     "data": {
      "text/plain": [
       "10000.0"
      ]
     },
     "metadata": {},
     "output_type": "display_data"
    }
   ],
   "source": [
    "area $ Circle 10 20 10\n",
    "area $ Rectangle 0 0 100 100"
   ]
  },
  {
   "cell_type": "code",
   "execution_count": 9,
   "id": "1eda3c96-b0e4-4bc1-9834-4088ceebac5c",
   "metadata": {},
   "outputs": [
    {
     "data": {
      "text/plain": [
       "Circle 10.0 20.0 5.0"
      ]
     },
     "metadata": {},
     "output_type": "display_data"
    },
    {
     "data": {
      "text/plain": [
       "Rectangle 50.0 230.0 60.0 90.0"
      ]
     },
     "metadata": {},
     "output_type": "display_data"
    }
   ],
   "source": [
    "data Shape = Circle Float Float Float | Rectangle Float Float Float Float\n",
    "    deriving (Show) -- 자동으로 show 타입 클래스의 타입 선언을 만든다\n",
    "\n",
    "Circle 10 20 5\n",
    "Rectangle 50 230 60 90"
   ]
  },
  {
   "cell_type": "code",
   "execution_count": 10,
   "id": "aab5f35d-a727-402b-af0d-c99da40f0b0e",
   "metadata": {},
   "outputs": [
    {
     "data": {
      "text/plain": [
       "[Circle 10.0 20.0 4.0,Circle 10.0 20.0 5.0,Circle 10.0 20.0 6.0,Circle 10.0 20.0 6.0]"
      ]
     },
     "metadata": {},
     "output_type": "display_data"
    }
   ],
   "source": [
    "map (Circle 10 20) [4,5,6,6]\n",
    "-- Circle 함수이기 때문에, Circle 10 20 은 float을 받는 함수를 만들어낸다."
   ]
  },
  {
   "cell_type": "code",
   "execution_count": 11,
   "id": "8968699a-63a7-4cf1-88f3-6826e56ab0b5",
   "metadata": {},
   "outputs": [],
   "source": [
    "data Point = Point Float Float deriving (Show)\n",
    "data Shape = Circle Point Float | Rectangle Point Point deriving (Show)"
   ]
  },
  {
   "cell_type": "code",
   "execution_count": 12,
   "id": "9788a1c8-91e7-4612-a5ad-b2a03b03f783",
   "metadata": {},
   "outputs": [
    {
     "data": {
      "text/html": [
       "<style>/* Styles used for the Hoogle display in the pager */\n",
       ".hoogle-doc {\n",
       "display: block;\n",
       "padding-bottom: 1.3em;\n",
       "padding-left: 0.4em;\n",
       "}\n",
       ".hoogle-code {\n",
       "display: block;\n",
       "font-family: monospace;\n",
       "white-space: pre;\n",
       "}\n",
       ".hoogle-text {\n",
       "display: block;\n",
       "}\n",
       ".hoogle-name {\n",
       "color: green;\n",
       "font-weight: bold;\n",
       "}\n",
       ".hoogle-head {\n",
       "font-weight: bold;\n",
       "}\n",
       ".hoogle-sub {\n",
       "display: block;\n",
       "margin-left: 0.4em;\n",
       "}\n",
       ".hoogle-package {\n",
       "font-weight: bold;\n",
       "font-style: italic;\n",
       "}\n",
       ".hoogle-module {\n",
       "font-weight: bold;\n",
       "}\n",
       ".hoogle-class {\n",
       "font-weight: bold;\n",
       "}\n",
       ".get-type {\n",
       "color: green;\n",
       "font-weight: bold;\n",
       "font-family: monospace;\n",
       "display: block;\n",
       "white-space: pre-wrap;\n",
       "}\n",
       ".show-type {\n",
       "color: green;\n",
       "font-weight: bold;\n",
       "font-family: monospace;\n",
       "margin-left: 1em;\n",
       "}\n",
       ".mono {\n",
       "font-family: monospace;\n",
       "display: block;\n",
       "}\n",
       ".err-msg {\n",
       "color: red;\n",
       "font-style: italic;\n",
       "font-family: monospace;\n",
       "white-space: pre;\n",
       "display: block;\n",
       "}\n",
       "#unshowable {\n",
       "color: red;\n",
       "font-weight: bold;\n",
       "}\n",
       ".err-msg.in.collapse {\n",
       "padding-top: 0.7em;\n",
       "}\n",
       ".highlight-code {\n",
       "white-space: pre;\n",
       "font-family: monospace;\n",
       "}\n",
       ".suggestion-warning { \n",
       "font-weight: bold;\n",
       "color: rgb(200, 130, 0);\n",
       "}\n",
       ".suggestion-error { \n",
       "font-weight: bold;\n",
       "color: red;\n",
       "}\n",
       ".suggestion-name {\n",
       "font-weight: bold;\n",
       "}\n",
       "</style><div class=\"suggestion-name\" style=\"clear:both;\">Move brackets to avoid $</div><div class=\"suggestion-row\" style=\"float: left;\"><div class=\"suggestion-warning\">Found:</div><div class=\"highlight-code\" id=\"haskell\">(abs $ x2 - x1) * (abs $ y2 - y1)</div></div><div class=\"suggestion-row\" style=\"float: left;\"><div class=\"suggestion-warning\">Why Not:</div><div class=\"highlight-code\" id=\"haskell\">(abs $ x2 - x1) * abs (y2 - y1)</div></div><div class=\"suggestion-name\" style=\"clear:both;\">Move brackets to avoid $</div><div class=\"suggestion-row\" style=\"float: left;\"><div class=\"suggestion-warning\">Found:</div><div class=\"highlight-code\" id=\"haskell\">(abs $ x2 - x1) * (abs $ y2 - y1)</div></div><div class=\"suggestion-row\" style=\"float: left;\"><div class=\"suggestion-warning\">Why Not:</div><div class=\"highlight-code\" id=\"haskell\">abs (x2 - x1) * (abs $ y2 - y1)</div></div>"
      ],
      "text/plain": [
       "Line 3: Move brackets to avoid $\n",
       "Found:\n",
       "(abs $ x2 - x1) * (abs $ y2 - y1)\n",
       "Why not:\n",
       "(abs $ x2 - x1) * abs (y2 - y1)Line 3: Move brackets to avoid $\n",
       "Found:\n",
       "(abs $ x2 - x1) * (abs $ y2 - y1)\n",
       "Why not:\n",
       "abs (x2 - x1) * (abs $ y2 - y1)"
      ]
     },
     "metadata": {},
     "output_type": "display_data"
    }
   ],
   "source": [
    "area :: Shape -> Float\n",
    "area (Circle _ r) = pi * r ^ 2\n",
    "area (Rectangle (Point x1 y1) (Point x2 y2)) = (abs $ x2 - x1) * (abs $ y2 - y1)"
   ]
  },
  {
   "cell_type": "code",
   "execution_count": 13,
   "id": "35406782-2d2e-4ec8-8f94-3134a0148229",
   "metadata": {},
   "outputs": [
    {
     "data": {
      "text/plain": [
       "10000.0"
      ]
     },
     "metadata": {},
     "output_type": "display_data"
    },
    {
     "data": {
      "text/plain": [
       "1809.5574"
      ]
     },
     "metadata": {},
     "output_type": "display_data"
    }
   ],
   "source": [
    "area (Rectangle (Point 0 0) (Point 100 100))\n",
    "area (Circle (Point 0 0) 24)"
   ]
  },
  {
   "cell_type": "code",
   "execution_count": 14,
   "id": "8dd10e29-4d61-4f1c-a9a1-b6fd27e5fdc7",
   "metadata": {},
   "outputs": [
    {
     "data": {
      "text/html": [
       "<style>/* Styles used for the Hoogle display in the pager */\n",
       ".hoogle-doc {\n",
       "display: block;\n",
       "padding-bottom: 1.3em;\n",
       "padding-left: 0.4em;\n",
       "}\n",
       ".hoogle-code {\n",
       "display: block;\n",
       "font-family: monospace;\n",
       "white-space: pre;\n",
       "}\n",
       ".hoogle-text {\n",
       "display: block;\n",
       "}\n",
       ".hoogle-name {\n",
       "color: green;\n",
       "font-weight: bold;\n",
       "}\n",
       ".hoogle-head {\n",
       "font-weight: bold;\n",
       "}\n",
       ".hoogle-sub {\n",
       "display: block;\n",
       "margin-left: 0.4em;\n",
       "}\n",
       ".hoogle-package {\n",
       "font-weight: bold;\n",
       "font-style: italic;\n",
       "}\n",
       ".hoogle-module {\n",
       "font-weight: bold;\n",
       "}\n",
       ".hoogle-class {\n",
       "font-weight: bold;\n",
       "}\n",
       ".get-type {\n",
       "color: green;\n",
       "font-weight: bold;\n",
       "font-family: monospace;\n",
       "display: block;\n",
       "white-space: pre-wrap;\n",
       "}\n",
       ".show-type {\n",
       "color: green;\n",
       "font-weight: bold;\n",
       "font-family: monospace;\n",
       "margin-left: 1em;\n",
       "}\n",
       ".mono {\n",
       "font-family: monospace;\n",
       "display: block;\n",
       "}\n",
       ".err-msg {\n",
       "color: red;\n",
       "font-style: italic;\n",
       "font-family: monospace;\n",
       "white-space: pre;\n",
       "display: block;\n",
       "}\n",
       "#unshowable {\n",
       "color: red;\n",
       "font-weight: bold;\n",
       "}\n",
       ".err-msg.in.collapse {\n",
       "padding-top: 0.7em;\n",
       "}\n",
       ".highlight-code {\n",
       "white-space: pre;\n",
       "font-family: monospace;\n",
       "}\n",
       ".suggestion-warning { \n",
       "font-weight: bold;\n",
       "color: rgb(200, 130, 0);\n",
       "}\n",
       ".suggestion-error { \n",
       "font-weight: bold;\n",
       "color: red;\n",
       "}\n",
       ".suggestion-name {\n",
       "font-weight: bold;\n",
       "}\n",
       "</style><span class='err-msg'>Failed to load module Shapes<br/>Not in scope: type constructor or class ‘Point’<br/>Not in scope: type constructor or class ‘Shape’<br/>Not in scope: ‘area’<br/>Not in scope: ‘nudge’<br/>Not in scope: ‘baseCircle’<br/>Not in scope: ‘baseRect’</span>"
      ],
      "text/plain": [
       "Failed to load module Shapes\n",
       "Not in scope: type constructor or class ‘Point’\n",
       "Not in scope: type constructor or class ‘Shape’\n",
       "Not in scope: ‘area’\n",
       "Not in scope: ‘nudge’\n",
       "Not in scope: ‘baseCircle’\n",
       "Not in scope: ‘baseRect’"
      ]
     },
     "metadata": {},
     "output_type": "display_data"
    }
   ],
   "source": [
    "-- 모듈 export는 다음과 같다\n",
    "\n",
    "module Shapes\n",
    "( Point(..) -- 모든 값 생성자를 export한다.\n",
    ", Shape(..) \n",
    "-- 모든 값 생성자를 export한다. \n",
    "-- 지금은 Shape(Rectangle, Circle)과 같다.\n",
    "--\n",
    "-- Shape() 라고 써놓으면 어떤 생성자도 export 되지 않는다\n",
    "-- 구현부가 export 되지 않기 때문에 모듈에서 제공하는 함수를 통해서만 타입 인스턴스를 생성할 수 있다.\n",
    "-- Data.Map의 fromList 같은 보조 함수\n",
    ", area\n",
    ", nudge\n",
    ", baseCircle\n",
    ", baseRect\n",
    ") where"
   ]
  },
  {
   "cell_type": "markdown",
   "id": "7c08713f-3d14-4c8f-be8d-a922ab16f0d9",
   "metadata": {},
   "source": [
    "## Record"
   ]
  },
  {
   "cell_type": "code",
   "execution_count": 20,
   "id": "a13268d2-0736-4ca3-a899-b05bcfbd2135",
   "metadata": {},
   "outputs": [],
   "source": [
    "data Person = Person {  firstName :: String,\n",
    "                        lastName :: String,\n",
    "                        age :: Int,\n",
    "                        height :: Float,\n",
    "                        phoneNumber :: String,\n",
    "                        flavor :: String } deriving (Show)\n",
    "\n",
    "-- 중괄호를 사용한다."
   ]
  },
  {
   "cell_type": "code",
   "execution_count": 21,
   "id": "3aafc996-2eff-4b1c-baff-eeedfd3ededc",
   "metadata": {},
   "outputs": [
    {
     "data": {
      "text/html": [
       "<style>/* Styles used for the Hoogle display in the pager */\n",
       ".hoogle-doc {\n",
       "display: block;\n",
       "padding-bottom: 1.3em;\n",
       "padding-left: 0.4em;\n",
       "}\n",
       ".hoogle-code {\n",
       "display: block;\n",
       "font-family: monospace;\n",
       "white-space: pre;\n",
       "}\n",
       ".hoogle-text {\n",
       "display: block;\n",
       "}\n",
       ".hoogle-name {\n",
       "color: green;\n",
       "font-weight: bold;\n",
       "}\n",
       ".hoogle-head {\n",
       "font-weight: bold;\n",
       "}\n",
       ".hoogle-sub {\n",
       "display: block;\n",
       "margin-left: 0.4em;\n",
       "}\n",
       ".hoogle-package {\n",
       "font-weight: bold;\n",
       "font-style: italic;\n",
       "}\n",
       ".hoogle-module {\n",
       "font-weight: bold;\n",
       "}\n",
       ".hoogle-class {\n",
       "font-weight: bold;\n",
       "}\n",
       ".get-type {\n",
       "color: green;\n",
       "font-weight: bold;\n",
       "font-family: monospace;\n",
       "display: block;\n",
       "white-space: pre-wrap;\n",
       "}\n",
       ".show-type {\n",
       "color: green;\n",
       "font-weight: bold;\n",
       "font-family: monospace;\n",
       "margin-left: 1em;\n",
       "}\n",
       ".mono {\n",
       "font-family: monospace;\n",
       "display: block;\n",
       "}\n",
       ".err-msg {\n",
       "color: red;\n",
       "font-style: italic;\n",
       "font-family: monospace;\n",
       "white-space: pre;\n",
       "display: block;\n",
       "}\n",
       "#unshowable {\n",
       "color: red;\n",
       "font-weight: bold;\n",
       "}\n",
       ".err-msg.in.collapse {\n",
       "padding-top: 0.7em;\n",
       "}\n",
       ".highlight-code {\n",
       "white-space: pre;\n",
       "font-family: monospace;\n",
       "}\n",
       ".suggestion-warning { \n",
       "font-weight: bold;\n",
       "color: rgb(200, 130, 0);\n",
       "}\n",
       ".suggestion-error { \n",
       "font-weight: bold;\n",
       "color: red;\n",
       "}\n",
       ".suggestion-name {\n",
       "font-weight: bold;\n",
       "}\n",
       "</style><span class='get-type'>flavor :: Person -> String</span>"
      ],
      "text/plain": [
       "flavor :: Person -> String"
      ]
     },
     "metadata": {},
     "output_type": "display_data"
    }
   ],
   "source": [
    ":t flavor\n",
    "-- 레코드 구문을 사용하면, 각 속성으로 함수를 만든다."
   ]
  },
  {
   "cell_type": "code",
   "execution_count": 27,
   "id": "80c64000-8c56-4cf9-b3c6-7d0f5a21727f",
   "metadata": {},
   "outputs": [],
   "source": [
    "data Car = Car { company :: String\n",
    "           , model :: String\n",
    "           , year :: Int \n",
    "           } deriving (Show)"
   ]
  },
  {
   "cell_type": "code",
   "execution_count": 28,
   "id": "c663be8b-a3cd-41d8-acf3-c9a17a664c2e",
   "metadata": {},
   "outputs": [
    {
     "data": {
      "text/plain": [
       "Car {company = \"Ford\", model = \"Mustang\", year = 1967}"
      ]
     },
     "metadata": {},
     "output_type": "display_data"
    }
   ],
   "source": [
    "Car {company = \"Ford\", model = \"Mustang\", year = 1967}\n",
    "-- 초기화는 C# 개체 이니셜라이즈와 비슷하다"
   ]
  },
  {
   "cell_type": "code",
   "execution_count": 34,
   "id": "d48f1b6d-1e82-454c-a7dc-1585e40171d8",
   "metadata": {},
   "outputs": [],
   "source": [
    "data Maybe a = Nothing | Just a\n",
    "    deriving Show\n",
    "-- Maybe는 타입 생성자, a 는 타입 매개변수"
   ]
  },
  {
   "cell_type": "code",
   "execution_count": 39,
   "id": "96b828a9-939d-465f-a372-ace75435d516",
   "metadata": {},
   "outputs": [
    {
     "data": {
      "text/plain": [
       "Just 3"
      ]
     },
     "metadata": {},
     "output_type": "display_data"
    },
    {
     "data": {
      "text/plain": [
       "Just \"Haha\""
      ]
     },
     "metadata": {},
     "output_type": "display_data"
    },
    {
     "data": {
      "text/plain": [
       "Just 84"
      ]
     },
     "metadata": {},
     "output_type": "display_data"
    },
    {
     "data": {
      "text/html": [
       "<style>/* Styles used for the Hoogle display in the pager */\n",
       ".hoogle-doc {\n",
       "display: block;\n",
       "padding-bottom: 1.3em;\n",
       "padding-left: 0.4em;\n",
       "}\n",
       ".hoogle-code {\n",
       "display: block;\n",
       "font-family: monospace;\n",
       "white-space: pre;\n",
       "}\n",
       ".hoogle-text {\n",
       "display: block;\n",
       "}\n",
       ".hoogle-name {\n",
       "color: green;\n",
       "font-weight: bold;\n",
       "}\n",
       ".hoogle-head {\n",
       "font-weight: bold;\n",
       "}\n",
       ".hoogle-sub {\n",
       "display: block;\n",
       "margin-left: 0.4em;\n",
       "}\n",
       ".hoogle-package {\n",
       "font-weight: bold;\n",
       "font-style: italic;\n",
       "}\n",
       ".hoogle-module {\n",
       "font-weight: bold;\n",
       "}\n",
       ".hoogle-class {\n",
       "font-weight: bold;\n",
       "}\n",
       ".get-type {\n",
       "color: green;\n",
       "font-weight: bold;\n",
       "font-family: monospace;\n",
       "display: block;\n",
       "white-space: pre-wrap;\n",
       "}\n",
       ".show-type {\n",
       "color: green;\n",
       "font-weight: bold;\n",
       "font-family: monospace;\n",
       "margin-left: 1em;\n",
       "}\n",
       ".mono {\n",
       "font-family: monospace;\n",
       "display: block;\n",
       "}\n",
       ".err-msg {\n",
       "color: red;\n",
       "font-style: italic;\n",
       "font-family: monospace;\n",
       "white-space: pre;\n",
       "display: block;\n",
       "}\n",
       "#unshowable {\n",
       "color: red;\n",
       "font-weight: bold;\n",
       "}\n",
       ".err-msg.in.collapse {\n",
       "padding-top: 0.7em;\n",
       "}\n",
       ".highlight-code {\n",
       "white-space: pre;\n",
       "font-family: monospace;\n",
       "}\n",
       ".suggestion-warning { \n",
       "font-weight: bold;\n",
       "color: rgb(200, 130, 0);\n",
       "}\n",
       ".suggestion-error { \n",
       "font-weight: bold;\n",
       "color: red;\n",
       "}\n",
       ".suggestion-name {\n",
       "font-weight: bold;\n",
       "}\n",
       "</style><span class='get-type'>Just \"Haha\" :: Maybe [Char]</span>"
      ],
      "text/plain": [
       "Just \"Haha\" :: Maybe [Char]"
      ]
     },
     "metadata": {},
     "output_type": "display_data"
    },
    {
     "data": {
      "text/html": [
       "<style>/* Styles used for the Hoogle display in the pager */\n",
       ".hoogle-doc {\n",
       "display: block;\n",
       "padding-bottom: 1.3em;\n",
       "padding-left: 0.4em;\n",
       "}\n",
       ".hoogle-code {\n",
       "display: block;\n",
       "font-family: monospace;\n",
       "white-space: pre;\n",
       "}\n",
       ".hoogle-text {\n",
       "display: block;\n",
       "}\n",
       ".hoogle-name {\n",
       "color: green;\n",
       "font-weight: bold;\n",
       "}\n",
       ".hoogle-head {\n",
       "font-weight: bold;\n",
       "}\n",
       ".hoogle-sub {\n",
       "display: block;\n",
       "margin-left: 0.4em;\n",
       "}\n",
       ".hoogle-package {\n",
       "font-weight: bold;\n",
       "font-style: italic;\n",
       "}\n",
       ".hoogle-module {\n",
       "font-weight: bold;\n",
       "}\n",
       ".hoogle-class {\n",
       "font-weight: bold;\n",
       "}\n",
       ".get-type {\n",
       "color: green;\n",
       "font-weight: bold;\n",
       "font-family: monospace;\n",
       "display: block;\n",
       "white-space: pre-wrap;\n",
       "}\n",
       ".show-type {\n",
       "color: green;\n",
       "font-weight: bold;\n",
       "font-family: monospace;\n",
       "margin-left: 1em;\n",
       "}\n",
       ".mono {\n",
       "font-family: monospace;\n",
       "display: block;\n",
       "}\n",
       ".err-msg {\n",
       "color: red;\n",
       "font-style: italic;\n",
       "font-family: monospace;\n",
       "white-space: pre;\n",
       "display: block;\n",
       "}\n",
       "#unshowable {\n",
       "color: red;\n",
       "font-weight: bold;\n",
       "}\n",
       ".err-msg.in.collapse {\n",
       "padding-top: 0.7em;\n",
       "}\n",
       ".highlight-code {\n",
       "white-space: pre;\n",
       "font-family: monospace;\n",
       "}\n",
       ".suggestion-warning { \n",
       "font-weight: bold;\n",
       "color: rgb(200, 130, 0);\n",
       "}\n",
       ".suggestion-error { \n",
       "font-weight: bold;\n",
       "color: red;\n",
       "}\n",
       ".suggestion-name {\n",
       "font-weight: bold;\n",
       "}\n",
       "</style><span class='get-type'>Just 84 :: forall a. Num a => Maybe a</span>"
      ],
      "text/plain": [
       "Just 84 :: forall a. Num a => Maybe a"
      ]
     },
     "metadata": {},
     "output_type": "display_data"
    },
    {
     "data": {
      "text/html": [
       "<style>/* Styles used for the Hoogle display in the pager */\n",
       ".hoogle-doc {\n",
       "display: block;\n",
       "padding-bottom: 1.3em;\n",
       "padding-left: 0.4em;\n",
       "}\n",
       ".hoogle-code {\n",
       "display: block;\n",
       "font-family: monospace;\n",
       "white-space: pre;\n",
       "}\n",
       ".hoogle-text {\n",
       "display: block;\n",
       "}\n",
       ".hoogle-name {\n",
       "color: green;\n",
       "font-weight: bold;\n",
       "}\n",
       ".hoogle-head {\n",
       "font-weight: bold;\n",
       "}\n",
       ".hoogle-sub {\n",
       "display: block;\n",
       "margin-left: 0.4em;\n",
       "}\n",
       ".hoogle-package {\n",
       "font-weight: bold;\n",
       "font-style: italic;\n",
       "}\n",
       ".hoogle-module {\n",
       "font-weight: bold;\n",
       "}\n",
       ".hoogle-class {\n",
       "font-weight: bold;\n",
       "}\n",
       ".get-type {\n",
       "color: green;\n",
       "font-weight: bold;\n",
       "font-family: monospace;\n",
       "display: block;\n",
       "white-space: pre-wrap;\n",
       "}\n",
       ".show-type {\n",
       "color: green;\n",
       "font-weight: bold;\n",
       "font-family: monospace;\n",
       "margin-left: 1em;\n",
       "}\n",
       ".mono {\n",
       "font-family: monospace;\n",
       "display: block;\n",
       "}\n",
       ".err-msg {\n",
       "color: red;\n",
       "font-style: italic;\n",
       "font-family: monospace;\n",
       "white-space: pre;\n",
       "display: block;\n",
       "}\n",
       "#unshowable {\n",
       "color: red;\n",
       "font-weight: bold;\n",
       "}\n",
       ".err-msg.in.collapse {\n",
       "padding-top: 0.7em;\n",
       "}\n",
       ".highlight-code {\n",
       "white-space: pre;\n",
       "font-family: monospace;\n",
       "}\n",
       ".suggestion-warning { \n",
       "font-weight: bold;\n",
       "color: rgb(200, 130, 0);\n",
       "}\n",
       ".suggestion-error { \n",
       "font-weight: bold;\n",
       "color: red;\n",
       "}\n",
       ".suggestion-name {\n",
       "font-weight: bold;\n",
       "}\n",
       "</style><span class='get-type'>Nothing :: forall a. Maybe a</span>"
      ],
      "text/plain": [
       "Nothing :: forall a. Maybe a"
      ]
     },
     "metadata": {},
     "output_type": "display_data"
    },
    {
     "data": {
      "text/plain": [
       "Just 10.0"
      ]
     },
     "metadata": {},
     "output_type": "display_data"
    }
   ],
   "source": [
    "Just 3 :: Maybe Int\n",
    "-- 명시적 타입 선언으로 3을 Int로 선언\n",
    "Just \"Haha\"\n",
    "Just 84\n",
    ":t Just \"Haha\"\n",
    ":t Just 84\n",
    ":t Nothing\n",
    "Just 10 :: Maybe Double"
   ]
  },
  {
   "cell_type": "code",
   "execution_count": 56,
   "id": "19ee12cb-8324-4a74-9e5b-4989dc023710",
   "metadata": {},
   "outputs": [
    {
     "data": {
      "text/html": [
       "<style>/* Styles used for the Hoogle display in the pager */\n",
       ".hoogle-doc {\n",
       "display: block;\n",
       "padding-bottom: 1.3em;\n",
       "padding-left: 0.4em;\n",
       "}\n",
       ".hoogle-code {\n",
       "display: block;\n",
       "font-family: monospace;\n",
       "white-space: pre;\n",
       "}\n",
       ".hoogle-text {\n",
       "display: block;\n",
       "}\n",
       ".hoogle-name {\n",
       "color: green;\n",
       "font-weight: bold;\n",
       "}\n",
       ".hoogle-head {\n",
       "font-weight: bold;\n",
       "}\n",
       ".hoogle-sub {\n",
       "display: block;\n",
       "margin-left: 0.4em;\n",
       "}\n",
       ".hoogle-package {\n",
       "font-weight: bold;\n",
       "font-style: italic;\n",
       "}\n",
       ".hoogle-module {\n",
       "font-weight: bold;\n",
       "}\n",
       ".hoogle-class {\n",
       "font-weight: bold;\n",
       "}\n",
       ".get-type {\n",
       "color: green;\n",
       "font-weight: bold;\n",
       "font-family: monospace;\n",
       "display: block;\n",
       "white-space: pre-wrap;\n",
       "}\n",
       ".show-type {\n",
       "color: green;\n",
       "font-weight: bold;\n",
       "font-family: monospace;\n",
       "margin-left: 1em;\n",
       "}\n",
       ".mono {\n",
       "font-family: monospace;\n",
       "display: block;\n",
       "}\n",
       ".err-msg {\n",
       "color: red;\n",
       "font-style: italic;\n",
       "font-family: monospace;\n",
       "white-space: pre;\n",
       "display: block;\n",
       "}\n",
       "#unshowable {\n",
       "color: red;\n",
       "font-weight: bold;\n",
       "}\n",
       ".err-msg.in.collapse {\n",
       "padding-top: 0.7em;\n",
       "}\n",
       ".highlight-code {\n",
       "white-space: pre;\n",
       "font-family: monospace;\n",
       "}\n",
       ".suggestion-warning { \n",
       "font-weight: bold;\n",
       "color: rgb(200, 130, 0);\n",
       "}\n",
       ".suggestion-error { \n",
       "font-weight: bold;\n",
       "color: red;\n",
       "}\n",
       ".suggestion-name {\n",
       "font-weight: bold;\n",
       "}\n",
       "</style><div class=\"suggestion-name\" style=\"clear:both;\">Redundant bracket</div><div class=\"suggestion-row\" style=\"float: left;\"><div class=\"suggestion-warning\">Found:</div><div class=\"highlight-code\" id=\"haskell\">(Car {company = c, model = m, year = y})</div></div><div class=\"suggestion-row\" style=\"float: left;\"><div class=\"suggestion-warning\">Why Not:</div><div class=\"highlight-code\" id=\"haskell\">Car {company = c, model = m, year = y}</div></div>"
      ],
      "text/plain": [
       "Line 8: Redundant bracket\n",
       "Found:\n",
       "(Car {company = c, model = m, year = y})\n",
       "Why not:\n",
       "Car {company = c, model = m, year = y}"
      ]
     },
     "metadata": {},
     "output_type": "display_data"
    }
   ],
   "source": [
    "data Car a b c = Car { company :: a\n",
    "                , model :: b\n",
    "                , year :: c\n",
    "                } deriving (Show)\n",
    "-- a, b, c는 타입 매개변수\n",
    "\n",
    "tellCar :: (Show a) => Car String String a -> String\n",
    "tellCar (Car {company = c, model = m, year = y}) =\n",
    "    \"This \" ++ c ++ \" \" ++ m ++ \" was made in \" ++ show y\n",
    "    \n",
    "-- 레코드 구문의 패턴 매칭"
   ]
  },
  {
   "cell_type": "code",
   "execution_count": 58,
   "id": "6b2ab2c9-f2cf-4204-bb44-5dd865bcb250",
   "metadata": {},
   "outputs": [
    {
     "data": {
      "text/plain": [
       "\"This Ford Mustang was made in 1967\""
      ]
     },
     "metadata": {},
     "output_type": "display_data"
    },
    {
     "data": {
      "text/plain": [
       "\"This Ford Mustang was made in \\\"nineteen sixty seven\\\"\""
      ]
     },
     "metadata": {},
     "output_type": "display_data"
    },
    {
     "data": {
      "text/html": [
       "<style>/* Styles used for the Hoogle display in the pager */\n",
       ".hoogle-doc {\n",
       "display: block;\n",
       "padding-bottom: 1.3em;\n",
       "padding-left: 0.4em;\n",
       "}\n",
       ".hoogle-code {\n",
       "display: block;\n",
       "font-family: monospace;\n",
       "white-space: pre;\n",
       "}\n",
       ".hoogle-text {\n",
       "display: block;\n",
       "}\n",
       ".hoogle-name {\n",
       "color: green;\n",
       "font-weight: bold;\n",
       "}\n",
       ".hoogle-head {\n",
       "font-weight: bold;\n",
       "}\n",
       ".hoogle-sub {\n",
       "display: block;\n",
       "margin-left: 0.4em;\n",
       "}\n",
       ".hoogle-package {\n",
       "font-weight: bold;\n",
       "font-style: italic;\n",
       "}\n",
       ".hoogle-module {\n",
       "font-weight: bold;\n",
       "}\n",
       ".hoogle-class {\n",
       "font-weight: bold;\n",
       "}\n",
       ".get-type {\n",
       "color: green;\n",
       "font-weight: bold;\n",
       "font-family: monospace;\n",
       "display: block;\n",
       "white-space: pre-wrap;\n",
       "}\n",
       ".show-type {\n",
       "color: green;\n",
       "font-weight: bold;\n",
       "font-family: monospace;\n",
       "margin-left: 1em;\n",
       "}\n",
       ".mono {\n",
       "font-family: monospace;\n",
       "display: block;\n",
       "}\n",
       ".err-msg {\n",
       "color: red;\n",
       "font-style: italic;\n",
       "font-family: monospace;\n",
       "white-space: pre;\n",
       "display: block;\n",
       "}\n",
       "#unshowable {\n",
       "color: red;\n",
       "font-weight: bold;\n",
       "}\n",
       ".err-msg.in.collapse {\n",
       "padding-top: 0.7em;\n",
       "}\n",
       ".highlight-code {\n",
       "white-space: pre;\n",
       "font-family: monospace;\n",
       "}\n",
       ".suggestion-warning { \n",
       "font-weight: bold;\n",
       "color: rgb(200, 130, 0);\n",
       "}\n",
       ".suggestion-error { \n",
       "font-weight: bold;\n",
       "color: red;\n",
       "}\n",
       ".suggestion-name {\n",
       "font-weight: bold;\n",
       "}\n",
       "</style><span class='get-type'>Car \"Ford\" \"Mustang\" 1967 :: forall c. Num c => Car [Char] [Char] c</span>"
      ],
      "text/plain": [
       "Car \"Ford\" \"Mustang\" 1967 :: forall c. Num c => Car [Char] [Char] c"
      ]
     },
     "metadata": {},
     "output_type": "display_data"
    },
    {
     "data": {
      "text/html": [
       "<style>/* Styles used for the Hoogle display in the pager */\n",
       ".hoogle-doc {\n",
       "display: block;\n",
       "padding-bottom: 1.3em;\n",
       "padding-left: 0.4em;\n",
       "}\n",
       ".hoogle-code {\n",
       "display: block;\n",
       "font-family: monospace;\n",
       "white-space: pre;\n",
       "}\n",
       ".hoogle-text {\n",
       "display: block;\n",
       "}\n",
       ".hoogle-name {\n",
       "color: green;\n",
       "font-weight: bold;\n",
       "}\n",
       ".hoogle-head {\n",
       "font-weight: bold;\n",
       "}\n",
       ".hoogle-sub {\n",
       "display: block;\n",
       "margin-left: 0.4em;\n",
       "}\n",
       ".hoogle-package {\n",
       "font-weight: bold;\n",
       "font-style: italic;\n",
       "}\n",
       ".hoogle-module {\n",
       "font-weight: bold;\n",
       "}\n",
       ".hoogle-class {\n",
       "font-weight: bold;\n",
       "}\n",
       ".get-type {\n",
       "color: green;\n",
       "font-weight: bold;\n",
       "font-family: monospace;\n",
       "display: block;\n",
       "white-space: pre-wrap;\n",
       "}\n",
       ".show-type {\n",
       "color: green;\n",
       "font-weight: bold;\n",
       "font-family: monospace;\n",
       "margin-left: 1em;\n",
       "}\n",
       ".mono {\n",
       "font-family: monospace;\n",
       "display: block;\n",
       "}\n",
       ".err-msg {\n",
       "color: red;\n",
       "font-style: italic;\n",
       "font-family: monospace;\n",
       "white-space: pre;\n",
       "display: block;\n",
       "}\n",
       "#unshowable {\n",
       "color: red;\n",
       "font-weight: bold;\n",
       "}\n",
       ".err-msg.in.collapse {\n",
       "padding-top: 0.7em;\n",
       "}\n",
       ".highlight-code {\n",
       "white-space: pre;\n",
       "font-family: monospace;\n",
       "}\n",
       ".suggestion-warning { \n",
       "font-weight: bold;\n",
       "color: rgb(200, 130, 0);\n",
       "}\n",
       ".suggestion-error { \n",
       "font-weight: bold;\n",
       "color: red;\n",
       "}\n",
       ".suggestion-name {\n",
       "font-weight: bold;\n",
       "}\n",
       "</style><span class='get-type'>Car \"Ford\" \"Mustang\" \"nineteen sixty seven\" :: Car [Char] [Char] [Char]</span>"
      ],
      "text/plain": [
       "Car \"Ford\" \"Mustang\" \"nineteen sixty seven\" :: Car [Char] [Char] [Char]"
      ]
     },
     "metadata": {},
     "output_type": "display_data"
    }
   ],
   "source": [
    "tellCar (Car \"Ford\" \"Mustang\" 1967)\n",
    "-- Car 자체의 생성은 레코드 선언 내의 속성 순서대로 해도 됨\n",
    "tellCar (Car \"Ford\" \"Mustang\" \"nineteen sixty seven\")\n",
    ":t Car \"Ford\" \"Mustang\" 1967\n",
    ":t Car \"Ford\" \"Mustang\" \"nineteen sixty seven\""
   ]
  },
  {
   "cell_type": "code",
   "execution_count": null,
   "id": "235a85eb-f20f-4d1f-8ec7-24ab18cb1294",
   "metadata": {},
   "outputs": [],
   "source": [
    "data (Ord k) => Map k v = ...  \n",
    "-- 하지만 typeclass constraints를 넣지 않는 것이 하스켈의 관례이다"
   ]
  },
  {
   "cell_type": "code",
   "execution_count": 60,
   "id": "076d82c9-b6b4-4b0d-8f7c-2c9de11ad386",
   "metadata": {},
   "outputs": [],
   "source": [
    "data Vector a = Vector a a a deriving (Show)  \n",
    "-- 여기서 typeclass constraints를 넣었어도, 함수에 넣어야하는 것은 똑같다.\n",
    "  \n",
    "vplus :: (Num t) => Vector t -> Vector t -> Vector t  \n",
    "(Vector i j k) `vplus` (Vector l m n) = Vector (i+l) (j+m) (k+n)  \n",
    "  \n",
    "vectMult :: (Num t) => Vector t -> t -> Vector t  \n",
    "(Vector i j k) `vectMult` m = Vector (i*m) (j*m) (k*m)  \n",
    "  \n",
    "scalarMult :: (Num t) => Vector t -> Vector t -> t  \n",
    "(Vector i j k) `scalarMult` (Vector l m n) = i*l + j*m + k*n  "
   ]
  },
  {
   "cell_type": "code",
   "execution_count": 62,
   "id": "57c2f756-11ea-401d-8f41-186231e16b05",
   "metadata": {},
   "outputs": [
    {
     "data": {
      "text/plain": [
       "Vector 12 7 16"
      ]
     },
     "metadata": {},
     "output_type": "display_data"
    },
    {
     "data": {
      "text/plain": [
       "Vector 12 9 19"
      ]
     },
     "metadata": {},
     "output_type": "display_data"
    },
    {
     "data": {
      "text/plain": [
       "Vector 30 90 70"
      ]
     },
     "metadata": {},
     "output_type": "display_data"
    },
    {
     "data": {
      "text/plain": [
       "74.0"
      ]
     },
     "metadata": {},
     "output_type": "display_data"
    },
    {
     "data": {
      "text/plain": [
       "Vector 148 666 222"
      ]
     },
     "metadata": {},
     "output_type": "display_data"
    }
   ],
   "source": [
    "Vector 3 5 8 `vplus` Vector 9 2 8  \n",
    "Vector 3 5 8 `vplus` Vector 9 2 8 `vplus` Vector 0 2 3  \n",
    "Vector 3 9 7 `vectMult` 10  \n",
    "Vector 4 9 5 `scalarMult` Vector 9.0 2.0 4.0  \n",
    "Vector 2 9 3 `vectMult` (Vector 4 9 5 `scalarMult` Vector 9 2 4)  "
   ]
  },
  {
   "cell_type": "code",
   "execution_count": 64,
   "id": "be90bc0a-72ff-4c31-9829-a8a999f84c13",
   "metadata": {},
   "outputs": [
    {
     "data": {
      "text/plain": [
       "False"
      ]
     },
     "metadata": {},
     "output_type": "display_data"
    },
    {
     "data": {
      "text/plain": [
       "False"
      ]
     },
     "metadata": {},
     "output_type": "display_data"
    },
    {
     "data": {
      "text/plain": [
       "True"
      ]
     },
     "metadata": {},
     "output_type": "display_data"
    },
    {
     "data": {
      "text/plain": [
       "True"
      ]
     },
     "metadata": {},
     "output_type": "display_data"
    },
    {
     "data": {
      "text/plain": [
       "True"
      ]
     },
     "metadata": {},
     "output_type": "display_data"
    }
   ],
   "source": [
    "data Person = Person { firstName :: String  \n",
    "                     , lastName :: String  \n",
    "                     , age :: Int  \n",
    "                     }  deriving (Eq)\n",
    "-- Eq를 파생하면, 필드의 각 쌍을 테스트하여 모든 데이터가 일치하는지 확인한다.\n",
    "                     \n",
    "mikeD = Person {firstName = \"Michael\", lastName = \"Diamond\", age = 43}  \n",
    "adRock = Person {firstName = \"Adam\", lastName = \"Horovitz\", age = 41} \n",
    "mca = Person {firstName = \"Adam\", lastName = \"Yauch\", age = 44} \n",
    "\n",
    "mca == adRock\n",
    "mikeD == adRock\n",
    "mikeD == mikeD\n",
    "mikeD == Person {firstName = \"Michael\", lastName = \"Diamond\", age = 43}  \n",
    "\n",
    "mikeD `elem` [mca, adRock, mikeD]    "
   ]
  },
  {
   "cell_type": "code",
   "execution_count": 70,
   "id": "432c53e9-1c9a-402f-8746-d18fbb1aa762",
   "metadata": {},
   "outputs": [
    {
     "data": {
      "text/plain": [
       "\"Person {firstName = \\\"Michael\\\", lastName = \\\"Diamond\\\", age = 43}\""
      ]
     },
     "metadata": {},
     "output_type": "display_data"
    },
    {
     "data": {
      "text/plain": [
       "Person {firstName = \"Michael\", lastName = \"Diamond\", age = 43}"
      ]
     },
     "metadata": {},
     "output_type": "display_data"
    },
    {
     "data": {
      "text/plain": [
       "True"
      ]
     },
     "metadata": {},
     "output_type": "display_data"
    }
   ],
   "source": [
    "data Person = Person { firstName :: String  \n",
    "                     , lastName :: String  \n",
    "                     , age :: Int  \n",
    "                     }  deriving (Eq, Show, Read)\n",
    "                     \n",
    "mikeD = Person {firstName = \"Michael\", lastName = \"Diamond\", age = 43}  \n",
    "show mikeD\n",
    "-- Show 파생\n",
    "\n",
    "read \"Person {firstName =\\\"Michael\\\", lastName =\\\"Diamond\\\", age = 43}\" :: Person\n",
    "-- Read 파생\n",
    "-- 뒤에 :: 없으면 안됨\n",
    "\n",
    "read \"Person {firstName =\\\"Michael\\\", lastName =\\\"Diamond\\\", age = 43}\" == mikeD"
   ]
  },
  {
   "cell_type": "code",
   "execution_count": 88,
   "id": "48432189-4a48-46e0-90e5-adbd24f46187",
   "metadata": {},
   "outputs": [
    {
     "data": {
      "text/plain": [
       "GT"
      ]
     },
     "metadata": {},
     "output_type": "display_data"
    },
    {
     "data": {
      "text/plain": [
       "True"
      ]
     },
     "metadata": {},
     "output_type": "display_data"
    },
    {
     "data": {
      "text/plain": [
       "False"
      ]
     },
     "metadata": {},
     "output_type": "display_data"
    }
   ],
   "source": [
    "-- data Bool = False | True deriving (Ord)\n",
    "\n",
    "True `compare` False\n",
    "True > False\n",
    "True < False\n",
    "\n",
    "-- Nothing < Just 100\n",
    "-- Nothing > Just (-49999)\n",
    "-- Just 3 `compare` Just 2\n",
    "-- Just 100 > Just 50"
   ]
  },
  {
   "cell_type": "code",
   "execution_count": 93,
   "id": "ccb420c7-d955-41e3-83d2-a68738d1d64b",
   "metadata": {},
   "outputs": [
    {
     "data": {
      "text/plain": [
       "Tuesday"
      ]
     },
     "metadata": {},
     "output_type": "display_data"
    },
    {
     "data": {
      "text/plain": [
       "Friday"
      ]
     },
     "metadata": {},
     "output_type": "display_data"
    },
    {
     "data": {
      "text/plain": [
       "[Thursday,Friday,Saturday,Sunday]"
      ]
     },
     "metadata": {},
     "output_type": "display_data"
    },
    {
     "data": {
      "text/plain": [
       "[Monday,Tuesday,Wednesday,Thursday,Friday,Saturday,Sunday]"
      ]
     },
     "metadata": {},
     "output_type": "display_data"
    }
   ],
   "source": [
    "data Day = Monday | Tuesday | Wednesday | Thursday | Friday | Saturday | Sunday  \n",
    "    deriving (Eq, Ord, Show, Read, Bounded, Enum)\n",
    "-- Enum 타입클래스는, predecessor과 successor가 있음을 나타낸다.\n",
    "\n",
    "succ Monday\n",
    "pred Saturday\n",
    "[Thursday .. Sunday]\n",
    "[minBound .. maxBound] :: [Day]"
   ]
  },
  {
   "cell_type": "markdown",
   "id": "6c42a773-75b8-485b-a483-dbe5363df45d",
   "metadata": {},
   "source": [
    "## 타입 동의어"
   ]
  },
  {
   "cell_type": "code",
   "execution_count": 2,
   "id": "f55bb891-e2df-439e-aa2d-1c30b5c7c8f7",
   "metadata": {},
   "outputs": [],
   "source": [
    "type String = [Char]"
   ]
  },
  {
   "cell_type": "code",
   "execution_count": 4,
   "id": "7dd54cf9-d41b-47f7-b11e-4d27d6883dc8",
   "metadata": {},
   "outputs": [],
   "source": [
    "type PhoneNumber = String\n",
    "type Name = String\n",
    "type PhoneBook = [(Name, PhoneNumber)]"
   ]
  },
  {
   "cell_type": "code",
   "execution_count": 5,
   "id": "1f1d30c3-69e6-45c0-a3f5-23a2850b7852",
   "metadata": {},
   "outputs": [],
   "source": [
    "type AssocList k v = [(k, v)]"
   ]
  },
  {
   "cell_type": "code",
   "execution_count": 7,
   "id": "7cd2ee7e-415d-48a1-9534-4bde6528dda3",
   "metadata": {},
   "outputs": [],
   "source": [
    "import qualified Data.Map as Map\n",
    "type IntMap v = Map.Map Int v\n",
    "type IntMap' v = Map.Map Int\n",
    "-- v가 넘어가서, Map.Map Int v가 된다.\n",
    "\n",
    "-- IntMap을 만들었다고 해서 IntMap 3 2 와 같이 값을 생성할 수 있다는 것은 아니다.\n",
    "-- 타입을 참조할 수 있을 뿐이다."
   ]
  },
  {
   "cell_type": "code",
   "execution_count": 10,
   "id": "934831ad-235a-4af2-b992-163cbc85cadf",
   "metadata": {},
   "outputs": [
    {
     "data": {
      "text/plain": [
       "Right 20"
      ]
     },
     "metadata": {},
     "output_type": "display_data"
    },
    {
     "data": {
      "text/plain": [
       "Left \"w00t\""
      ]
     },
     "metadata": {},
     "output_type": "display_data"
    },
    {
     "data": {
      "text/html": [
       "<style>/* Styles used for the Hoogle display in the pager */\n",
       ".hoogle-doc {\n",
       "display: block;\n",
       "padding-bottom: 1.3em;\n",
       "padding-left: 0.4em;\n",
       "}\n",
       ".hoogle-code {\n",
       "display: block;\n",
       "font-family: monospace;\n",
       "white-space: pre;\n",
       "}\n",
       ".hoogle-text {\n",
       "display: block;\n",
       "}\n",
       ".hoogle-name {\n",
       "color: green;\n",
       "font-weight: bold;\n",
       "}\n",
       ".hoogle-head {\n",
       "font-weight: bold;\n",
       "}\n",
       ".hoogle-sub {\n",
       "display: block;\n",
       "margin-left: 0.4em;\n",
       "}\n",
       ".hoogle-package {\n",
       "font-weight: bold;\n",
       "font-style: italic;\n",
       "}\n",
       ".hoogle-module {\n",
       "font-weight: bold;\n",
       "}\n",
       ".hoogle-class {\n",
       "font-weight: bold;\n",
       "}\n",
       ".get-type {\n",
       "color: green;\n",
       "font-weight: bold;\n",
       "font-family: monospace;\n",
       "display: block;\n",
       "white-space: pre-wrap;\n",
       "}\n",
       ".show-type {\n",
       "color: green;\n",
       "font-weight: bold;\n",
       "font-family: monospace;\n",
       "margin-left: 1em;\n",
       "}\n",
       ".mono {\n",
       "font-family: monospace;\n",
       "display: block;\n",
       "}\n",
       ".err-msg {\n",
       "color: red;\n",
       "font-style: italic;\n",
       "font-family: monospace;\n",
       "white-space: pre;\n",
       "display: block;\n",
       "}\n",
       "#unshowable {\n",
       "color: red;\n",
       "font-weight: bold;\n",
       "}\n",
       ".err-msg.in.collapse {\n",
       "padding-top: 0.7em;\n",
       "}\n",
       ".highlight-code {\n",
       "white-space: pre;\n",
       "font-family: monospace;\n",
       "}\n",
       ".suggestion-warning { \n",
       "font-weight: bold;\n",
       "color: rgb(200, 130, 0);\n",
       "}\n",
       ".suggestion-error { \n",
       "font-weight: bold;\n",
       "color: red;\n",
       "}\n",
       ".suggestion-name {\n",
       "font-weight: bold;\n",
       "}\n",
       "</style><span class='get-type'>Right 'a' :: forall a. Either a Char</span>"
      ],
      "text/plain": [
       "Right 'a' :: forall a. Either a Char"
      ]
     },
     "metadata": {},
     "output_type": "display_data"
    },
    {
     "data": {
      "text/html": [
       "<style>/* Styles used for the Hoogle display in the pager */\n",
       ".hoogle-doc {\n",
       "display: block;\n",
       "padding-bottom: 1.3em;\n",
       "padding-left: 0.4em;\n",
       "}\n",
       ".hoogle-code {\n",
       "display: block;\n",
       "font-family: monospace;\n",
       "white-space: pre;\n",
       "}\n",
       ".hoogle-text {\n",
       "display: block;\n",
       "}\n",
       ".hoogle-name {\n",
       "color: green;\n",
       "font-weight: bold;\n",
       "}\n",
       ".hoogle-head {\n",
       "font-weight: bold;\n",
       "}\n",
       ".hoogle-sub {\n",
       "display: block;\n",
       "margin-left: 0.4em;\n",
       "}\n",
       ".hoogle-package {\n",
       "font-weight: bold;\n",
       "font-style: italic;\n",
       "}\n",
       ".hoogle-module {\n",
       "font-weight: bold;\n",
       "}\n",
       ".hoogle-class {\n",
       "font-weight: bold;\n",
       "}\n",
       ".get-type {\n",
       "color: green;\n",
       "font-weight: bold;\n",
       "font-family: monospace;\n",
       "display: block;\n",
       "white-space: pre-wrap;\n",
       "}\n",
       ".show-type {\n",
       "color: green;\n",
       "font-weight: bold;\n",
       "font-family: monospace;\n",
       "margin-left: 1em;\n",
       "}\n",
       ".mono {\n",
       "font-family: monospace;\n",
       "display: block;\n",
       "}\n",
       ".err-msg {\n",
       "color: red;\n",
       "font-style: italic;\n",
       "font-family: monospace;\n",
       "white-space: pre;\n",
       "display: block;\n",
       "}\n",
       "#unshowable {\n",
       "color: red;\n",
       "font-weight: bold;\n",
       "}\n",
       ".err-msg.in.collapse {\n",
       "padding-top: 0.7em;\n",
       "}\n",
       ".highlight-code {\n",
       "white-space: pre;\n",
       "font-family: monospace;\n",
       "}\n",
       ".suggestion-warning { \n",
       "font-weight: bold;\n",
       "color: rgb(200, 130, 0);\n",
       "}\n",
       ".suggestion-error { \n",
       "font-weight: bold;\n",
       "color: red;\n",
       "}\n",
       ".suggestion-name {\n",
       "font-weight: bold;\n",
       "}\n",
       "</style><span class='get-type'>Left True :: forall b. Either Bool b</span>"
      ],
      "text/plain": [
       "Left True :: forall b. Either Bool b"
      ]
     },
     "metadata": {},
     "output_type": "display_data"
    }
   ],
   "source": [
    "data Either a b = Left a | Right b deriving (Eq, Ord, Read, Show)\n",
    "-- Nothing에 대비하여, 어떤 내용으로 실패했는지 알고 싶을때 Either를 사용한다.\n",
    "-- Left는 에러, Right는 결과를 의미한다.\n",
    "\n",
    "Right 20\n",
    "Left \"w00t\"\n",
    ":t Right 'a'\n",
    ":t Left True"
   ]
  },
  {
   "cell_type": "code",
   "execution_count": 17,
   "id": "6f389d6f-7e87-4769-a2c2-0d7f4983a9aa",
   "metadata": {},
   "outputs": [],
   "source": [
    "import qualified Data.Map as Map\n",
    "\n",
    "data LockerState = Taken | Free deriving (Show, Eq)\n",
    "type Code = String\n",
    "type LockerMap = Map.Map Int (LockerState, Code)\n",
    "\n",
    "lockerLookup :: Int -> LockerMap -> Either String Code\n",
    "lockerLookup lockerNumber map = case Map.lookup lockerNumber map of\n",
    "    Nothing -> Left $ \"Locker \" ++ show lockerNumber ++ \" doesn't exist!\"\n",
    "    Just (state, code) -> if state /= Taken \n",
    "                          then Right code \n",
    "                          else Left $ \"Locker \" ++ show lockerNumber ++ \" is already taken!\""
   ]
  },
  {
   "cell_type": "code",
   "execution_count": 18,
   "id": "00bd0c42-26f2-4f52-9ae0-1adca1442c41",
   "metadata": {},
   "outputs": [
    {
     "data": {
      "text/plain": [
       "Right \"JAH3I\""
      ]
     },
     "metadata": {},
     "output_type": "display_data"
    },
    {
     "data": {
      "text/plain": [
       "Left \"Locker 100 is already taken!\""
      ]
     },
     "metadata": {},
     "output_type": "display_data"
    },
    {
     "data": {
      "text/plain": [
       "Left \"Locker 102 doesn't exist!\""
      ]
     },
     "metadata": {},
     "output_type": "display_data"
    },
    {
     "data": {
      "text/plain": [
       "Left \"Locker 110 is already taken!\""
      ]
     },
     "metadata": {},
     "output_type": "display_data"
    },
    {
     "data": {
      "text/plain": [
       "Right \"QOTSA\""
      ]
     },
     "metadata": {},
     "output_type": "display_data"
    }
   ],
   "source": [
    "import qualified Data.Map as Map\n",
    "\n",
    "lockers :: LockerMap  \n",
    "lockers = Map.fromList   \n",
    "    [(100,(Taken,\"ZD39I\"))  \n",
    "    ,(101,(Free,\"JAH3I\"))  \n",
    "    ,(103,(Free,\"IQSA9\"))  \n",
    "    ,(105,(Free,\"QOTSA\"))  \n",
    "    ,(109,(Taken,\"893JJ\"))  \n",
    "    ,(110,(Taken,\"99292\"))  \n",
    "    ]  \n",
    "    \n",
    "lockerLookup 101 lockers  \n",
    "lockerLookup 100 lockers  \n",
    "lockerLookup 102 lockers  \n",
    "lockerLookup 110 lockers  \n",
    "lockerLookup 105 lockers  "
   ]
  },
  {
   "cell_type": "markdown",
   "id": "10618010-ebd7-4fdf-b075-c0df1155cb19",
   "metadata": {},
   "source": [
    "## 재귀적 데이터 구조"
   ]
  },
  {
   "cell_type": "code",
   "execution_count": 28,
   "id": "618cc3ab-bc7f-42fd-a113-c9d61fb43075",
   "metadata": {},
   "outputs": [
    {
     "data": {
      "text/html": [
       "<style>/* Styles used for the Hoogle display in the pager */\n",
       ".hoogle-doc {\n",
       "display: block;\n",
       "padding-bottom: 1.3em;\n",
       "padding-left: 0.4em;\n",
       "}\n",
       ".hoogle-code {\n",
       "display: block;\n",
       "font-family: monospace;\n",
       "white-space: pre;\n",
       "}\n",
       ".hoogle-text {\n",
       "display: block;\n",
       "}\n",
       ".hoogle-name {\n",
       "color: green;\n",
       "font-weight: bold;\n",
       "}\n",
       ".hoogle-head {\n",
       "font-weight: bold;\n",
       "}\n",
       ".hoogle-sub {\n",
       "display: block;\n",
       "margin-left: 0.4em;\n",
       "}\n",
       ".hoogle-package {\n",
       "font-weight: bold;\n",
       "font-style: italic;\n",
       "}\n",
       ".hoogle-module {\n",
       "font-weight: bold;\n",
       "}\n",
       ".hoogle-class {\n",
       "font-weight: bold;\n",
       "}\n",
       ".get-type {\n",
       "color: green;\n",
       "font-weight: bold;\n",
       "font-family: monospace;\n",
       "display: block;\n",
       "white-space: pre-wrap;\n",
       "}\n",
       ".show-type {\n",
       "color: green;\n",
       "font-weight: bold;\n",
       "font-family: monospace;\n",
       "margin-left: 1em;\n",
       "}\n",
       ".mono {\n",
       "font-family: monospace;\n",
       "display: block;\n",
       "}\n",
       ".err-msg {\n",
       "color: red;\n",
       "font-style: italic;\n",
       "font-family: monospace;\n",
       "white-space: pre;\n",
       "display: block;\n",
       "}\n",
       "#unshowable {\n",
       "color: red;\n",
       "font-weight: bold;\n",
       "}\n",
       ".err-msg.in.collapse {\n",
       "padding-top: 0.7em;\n",
       "}\n",
       ".highlight-code {\n",
       "white-space: pre;\n",
       "font-family: monospace;\n",
       "}\n",
       ".suggestion-warning { \n",
       "font-weight: bold;\n",
       "color: rgb(200, 130, 0);\n",
       "}\n",
       ".suggestion-error { \n",
       "font-weight: bold;\n",
       "color: red;\n",
       "}\n",
       ".suggestion-name {\n",
       "font-weight: bold;\n",
       "}\n",
       "</style><span class='get-type'>Cons :: forall a. a -> List a -> List a</span>"
      ],
      "text/plain": [
       "Cons :: forall a. a -> List a -> List a"
      ]
     },
     "metadata": {},
     "output_type": "display_data"
    },
    {
     "data": {
      "text/html": [
       "<style>/* Styles used for the Hoogle display in the pager */\n",
       ".hoogle-doc {\n",
       "display: block;\n",
       "padding-bottom: 1.3em;\n",
       "padding-left: 0.4em;\n",
       "}\n",
       ".hoogle-code {\n",
       "display: block;\n",
       "font-family: monospace;\n",
       "white-space: pre;\n",
       "}\n",
       ".hoogle-text {\n",
       "display: block;\n",
       "}\n",
       ".hoogle-name {\n",
       "color: green;\n",
       "font-weight: bold;\n",
       "}\n",
       ".hoogle-head {\n",
       "font-weight: bold;\n",
       "}\n",
       ".hoogle-sub {\n",
       "display: block;\n",
       "margin-left: 0.4em;\n",
       "}\n",
       ".hoogle-package {\n",
       "font-weight: bold;\n",
       "font-style: italic;\n",
       "}\n",
       ".hoogle-module {\n",
       "font-weight: bold;\n",
       "}\n",
       ".hoogle-class {\n",
       "font-weight: bold;\n",
       "}\n",
       ".get-type {\n",
       "color: green;\n",
       "font-weight: bold;\n",
       "font-family: monospace;\n",
       "display: block;\n",
       "white-space: pre-wrap;\n",
       "}\n",
       ".show-type {\n",
       "color: green;\n",
       "font-weight: bold;\n",
       "font-family: monospace;\n",
       "margin-left: 1em;\n",
       "}\n",
       ".mono {\n",
       "font-family: monospace;\n",
       "display: block;\n",
       "}\n",
       ".err-msg {\n",
       "color: red;\n",
       "font-style: italic;\n",
       "font-family: monospace;\n",
       "white-space: pre;\n",
       "display: block;\n",
       "}\n",
       "#unshowable {\n",
       "color: red;\n",
       "font-weight: bold;\n",
       "}\n",
       ".err-msg.in.collapse {\n",
       "padding-top: 0.7em;\n",
       "}\n",
       ".highlight-code {\n",
       "white-space: pre;\n",
       "font-family: monospace;\n",
       "}\n",
       ".suggestion-warning { \n",
       "font-weight: bold;\n",
       "color: rgb(200, 130, 0);\n",
       "}\n",
       ".suggestion-error { \n",
       "font-weight: bold;\n",
       "color: red;\n",
       "}\n",
       ".suggestion-name {\n",
       "font-weight: bold;\n",
       "}\n",
       "</style><span class='get-type'>Empty :: forall a. List a</span>"
      ],
      "text/plain": [
       "Empty :: forall a. List a"
      ]
     },
     "metadata": {},
     "output_type": "display_data"
    }
   ],
   "source": [
    ":t Cons\n",
    "data List a = Empty | Cons a (List a) deriving (Show, Read, Eq, Ord)\n",
    "-- 이때 List a가 재귀 호출임\n",
    ":t Empty"
   ]
  },
  {
   "cell_type": "code",
   "execution_count": 30,
   "id": "50834319-3f15-44d9-92e1-d8d000e1e7af",
   "metadata": {},
   "outputs": [
    {
     "data": {
      "text/plain": [
       "Empty"
      ]
     },
     "metadata": {},
     "output_type": "display_data"
    },
    {
     "data": {
      "text/plain": [
       "Cons 5 Empty"
      ]
     },
     "metadata": {},
     "output_type": "display_data"
    },
    {
     "data": {
      "text/plain": [
       "Cons 4 (Cons 5 Empty)"
      ]
     },
     "metadata": {},
     "output_type": "display_data"
    },
    {
     "data": {
      "text/plain": [
       "Cons 3 (Cons 4 (Cons 5 Empty))"
      ]
     },
     "metadata": {},
     "output_type": "display_data"
    }
   ],
   "source": [
    "Empty\n",
    "5 `Cons` Empty\n",
    "4 `Cons` (5 `Cons` Empty)  \n",
    "3 `Cons` (4 `Cons` (5 `Cons` Empty))  "
   ]
  },
  {
   "cell_type": "code",
   "execution_count": 35,
   "id": "d9f992ea-4cbf-444e-bc20-a95937bced4a",
   "metadata": {},
   "outputs": [],
   "source": [
    "-- 중위 생성자는 반드시 콜론 : 으로 시작해야한다.\n",
    "infixr 5 :-:\n",
    "-- Yes, the r/l indicates the associativity. \n",
    "-- Without testing I'd assume that infix has normal left associativity.\n",
    "data List a = Empty | a :-: (List a) deriving (Show, Read, Eq, Ord)"
   ]
  },
  {
   "cell_type": "code",
   "execution_count": 36,
   "id": "6c6814fd-91d1-4d9d-8a17-5c468ce469b2",
   "metadata": {},
   "outputs": [
    {
     "data": {
      "text/plain": [
       "3 :-: (4 :-: (5 :-: Empty))"
      ]
     },
     "metadata": {},
     "output_type": "display_data"
    },
    {
     "data": {
      "text/plain": [
       "100 :-: (3 :-: (4 :-: (5 :-: Empty)))"
      ]
     },
     "metadata": {},
     "output_type": "display_data"
    }
   ],
   "source": [
    "3 :-: 4 :-: 5 :-: Empty\n",
    "a = 3 :-: 4 :-: 5 :-: Empty \n",
    "100 :-: a"
   ]
  },
  {
   "cell_type": "code",
   "execution_count": 38,
   "id": "8530afa9-a1c7-46ef-b819-29a011da67e5",
   "metadata": {},
   "outputs": [],
   "source": [
    "infixr 5 ^++\n",
    "(^++) :: List a -> List a -> List a\n",
    "Empty ^++ ys = ys\n",
    "(x :-: xs) ^++ ys = x :-: (xs ^++ ys)"
   ]
  },
  {
   "cell_type": "code",
   "execution_count": 39,
   "id": "b5bb38af-90ab-4dac-bdf3-0a76f0f5d54e",
   "metadata": {},
   "outputs": [
    {
     "data": {
      "text/plain": [
       "3 :-: (4 :-: (5 :-: (6 :-: (7 :-: Empty))))"
      ]
     },
     "metadata": {},
     "output_type": "display_data"
    }
   ],
   "source": [
    "a = 3 :-: 4 :-: 5 :-: Empty  \n",
    "b = 6 :-: 7 :-: Empty  \n",
    "a ^++ b"
   ]
  },
  {
   "cell_type": "markdown",
   "id": "d7b89aa4-722b-4ba1-bba8-bfe71e921082",
   "metadata": {},
   "source": [
    "## Binary Tree"
   ]
  },
  {
   "cell_type": "code",
   "execution_count": 42,
   "id": "1d14f174-a047-43cc-ba17-c014c5ba3948",
   "metadata": {},
   "outputs": [],
   "source": [
    "data Tree a  = EmptyTree | Node a (Tree a) (Tree a) deriving (Show)"
   ]
  },
  {
   "cell_type": "code",
   "execution_count": 49,
   "id": "4baff854-5e5d-458f-a717-47021fdee938",
   "metadata": {},
   "outputs": [],
   "source": [
    "singleton :: a -> Tree a\n",
    "singleton x = Node x EmptyTree EmptyTree\n",
    "\n",
    "treeInsert :: (Ord a) => a -> Tree a -> Tree a\n",
    "treeInsert x EmptyTree = singleton x\n",
    "treeInsert x (Node a left right)\n",
    "    | x == a = Node x left right\n",
    "    | x < a = Node a (treeInsert x left) right\n",
    "    | x > a = Node a left (treeInsert x right)"
   ]
  },
  {
   "cell_type": "code",
   "execution_count": 50,
   "id": "08627870-1daa-4a71-a39e-114485442252",
   "metadata": {},
   "outputs": [
    {
     "data": {
      "text/plain": [
       "Node 5 (Node 3 (Node 1 EmptyTree EmptyTree) EmptyTree) (Node 7 (Node 6 EmptyTree EmptyTree) (Node 8 EmptyTree EmptyTree))"
      ]
     },
     "metadata": {},
     "output_type": "display_data"
    }
   ],
   "source": [
    "nums = [8,6,3,1,7,3,5]\n",
    "numsTree = foldr treeInsert EmptyTree nums\n",
    "numsTree"
   ]
  },
  {
   "cell_type": "code",
   "execution_count": 53,
   "id": "3e369830-3602-4f14-bcba-ca44cee5d3e6",
   "metadata": {},
   "outputs": [],
   "source": [
    "treeElem :: (Ord a) => a -> Tree a -> Bool\n",
    "treeElem x EmptyTree = False\n",
    "treeElem x (Node a left right)\n",
    "    | x == a = True\n",
    "    | x < a = treeElem x left\n",
    "    | x > a = treeElem x right"
   ]
  },
  {
   "cell_type": "code",
   "execution_count": 54,
   "id": "4d7ea3e0-273e-424c-b8a7-65b092888af5",
   "metadata": {},
   "outputs": [
    {
     "data": {
      "text/plain": [
       "True"
      ]
     },
     "metadata": {},
     "output_type": "display_data"
    },
    {
     "data": {
      "text/plain": [
       "False"
      ]
     },
     "metadata": {},
     "output_type": "display_data"
    },
    {
     "data": {
      "text/plain": [
       "True"
      ]
     },
     "metadata": {},
     "output_type": "display_data"
    },
    {
     "data": {
      "text/plain": [
       "False"
      ]
     },
     "metadata": {},
     "output_type": "display_data"
    }
   ],
   "source": [
    "8 `treeElem` numsTree\n",
    "100 `treeElem` numsTree\n",
    "1 `treeElem` numsTree\n",
    "10 `treeElem` numsTree"
   ]
  },
  {
   "cell_type": "markdown",
   "id": "4f705e17-01d9-47d4-afd2-5ec03ecc392a",
   "metadata": {},
   "source": [
    "## typeclass class and instance"
   ]
  },
  {
   "cell_type": "code",
   "execution_count": 55,
   "id": "d7778841-feb1-4b9f-83ff-27bb1a6ce0ad",
   "metadata": {},
   "outputs": [
    {
     "data": {
      "text/html": [
       "<style>/* Styles used for the Hoogle display in the pager */\n",
       ".hoogle-doc {\n",
       "display: block;\n",
       "padding-bottom: 1.3em;\n",
       "padding-left: 0.4em;\n",
       "}\n",
       ".hoogle-code {\n",
       "display: block;\n",
       "font-family: monospace;\n",
       "white-space: pre;\n",
       "}\n",
       ".hoogle-text {\n",
       "display: block;\n",
       "}\n",
       ".hoogle-name {\n",
       "color: green;\n",
       "font-weight: bold;\n",
       "}\n",
       ".hoogle-head {\n",
       "font-weight: bold;\n",
       "}\n",
       ".hoogle-sub {\n",
       "display: block;\n",
       "margin-left: 0.4em;\n",
       "}\n",
       ".hoogle-package {\n",
       "font-weight: bold;\n",
       "font-style: italic;\n",
       "}\n",
       ".hoogle-module {\n",
       "font-weight: bold;\n",
       "}\n",
       ".hoogle-class {\n",
       "font-weight: bold;\n",
       "}\n",
       ".get-type {\n",
       "color: green;\n",
       "font-weight: bold;\n",
       "font-family: monospace;\n",
       "display: block;\n",
       "white-space: pre-wrap;\n",
       "}\n",
       ".show-type {\n",
       "color: green;\n",
       "font-weight: bold;\n",
       "font-family: monospace;\n",
       "margin-left: 1em;\n",
       "}\n",
       ".mono {\n",
       "font-family: monospace;\n",
       "display: block;\n",
       "}\n",
       ".err-msg {\n",
       "color: red;\n",
       "font-style: italic;\n",
       "font-family: monospace;\n",
       "white-space: pre;\n",
       "display: block;\n",
       "}\n",
       "#unshowable {\n",
       "color: red;\n",
       "font-weight: bold;\n",
       "}\n",
       ".err-msg.in.collapse {\n",
       "padding-top: 0.7em;\n",
       "}\n",
       ".highlight-code {\n",
       "white-space: pre;\n",
       "font-family: monospace;\n",
       "}\n",
       ".suggestion-warning { \n",
       "font-weight: bold;\n",
       "color: rgb(200, 130, 0);\n",
       "}\n",
       ".suggestion-error { \n",
       "font-weight: bold;\n",
       "color: red;\n",
       "}\n",
       ".suggestion-name {\n",
       "font-weight: bold;\n",
       "}\n",
       "</style><div class=\"suggestion-name\" style=\"clear:both;\">Use ==</div><div class=\"suggestion-row\" style=\"float: left;\"><div class=\"suggestion-warning\">Found:</div><div class=\"highlight-code\" id=\"haskell\">not (x /= y)</div></div><div class=\"suggestion-row\" style=\"float: left;\"><div class=\"suggestion-warning\">Why Not:</div><div class=\"highlight-code\" id=\"haskell\">x == y</div></div><div class=\"suggestion-name\" style=\"clear:both;\">Use /=</div><div class=\"suggestion-row\" style=\"float: left;\"><div class=\"suggestion-warning\">Found:</div><div class=\"highlight-code\" id=\"haskell\">not (x == y)</div></div><div class=\"suggestion-row\" style=\"float: left;\"><div class=\"suggestion-warning\">Why Not:</div><div class=\"highlight-code\" id=\"haskell\">x /= y</div></div>"
      ],
      "text/plain": [
       "Line 8: Use ==\n",
       "Found:\n",
       "not (x /= y)\n",
       "Why not:\n",
       "x == yLine 9: Use /=\n",
       "Found:\n",
       "not (x == y)\n",
       "Why not:\n",
       "x /= y"
      ]
     },
     "metadata": {},
     "output_type": "display_data"
    }
   ],
   "source": [
    "class Eq a where\n",
    "-- class는 새로운 타입 클래스가 정의됨을 의미한다\n",
    "-- a 는 type variable이다\n",
    "    (==) :: a -> a -> Bool\n",
    "    (/=) :: a -> a -> Bool\n",
    "    -- 함수의 타입 선언\n",
    "    -- 위함수는 기본적으로 (Eq a) => typeclass constration을 깔고 간다.\n",
    "    x == y = not (x /= y)\n",
    "    x /= y = not (x == y)\n",
    "    -- 함수의 구현: 구현은 필수사항이 아니다.\n",
    "    -- 상호 재귀 (mutual recursion)으로 정의되어 구현되었다.\n",
    "    -- 두개의 값이 서로 다르지 않다면 Eq의 인스턴스 타입인 두 개의 값이 서로 같다는 것"
   ]
  },
  {
   "cell_type": "code",
   "execution_count": 62,
   "id": "19056af0-8c01-4156-8e56-14ac60f3fdd5",
   "metadata": {},
   "outputs": [],
   "source": [
    "data TrafficLight = Red | Yellow | Green\n",
    "-- deriving을 이용하여 타입인스턴스를 파생하지 않고, 직접 인스턴스를 작성한다.\n",
    "\n",
    "instance Eq TrafficLight where\n",
    "-- instance는 typeclass의 typeinstance를 만들기 위함\n",
    "-- TrafficLight가 Eq의 type variable로 사용된 것\n",
    "    Red == Red = True\n",
    "    Green == Green = True\n",
    "    Yellow == Yellow = True\n",
    "    _ == _ = False\n",
    "    -- == 는 /=로, /=는 ==로 정의한 최소 완벽 정의(minimal complete definition)\n",
    "    -- 때문에 type instance에서 정의할 함수를 최소화할 수 있음\n",
    "    -- 이번에는 /= 함수를 정의하지 않았음\n",
    "    \n",
    "instance Show TrafficLight where\n",
    "    show Red = \"Red light\"\n",
    "    show Yellow = \"Yellow light\"\n",
    "    show Green = \"Green light\""
   ]
  },
  {
   "cell_type": "code",
   "execution_count": 76,
   "id": "28eca6da-85fe-432d-96c0-57392e03f4ea",
   "metadata": {},
   "outputs": [
    {
     "data": {
      "text/plain": [
       "True"
      ]
     },
     "metadata": {},
     "output_type": "display_data"
    },
    {
     "data": {
      "text/plain": [
       "False"
      ]
     },
     "metadata": {},
     "output_type": "display_data"
    },
    {
     "data": {
      "text/plain": [
       "[Red light,Yellow light,Green light]"
      ]
     },
     "metadata": {},
     "output_type": "display_data"
    },
    {
     "ename": "",
     "evalue": "",
     "header": "MessageHeader {mhIdentifiers = [\"07428673-0d48-43c1-bf93-9fc86bcf5a26\"], mhParentHeader = Just (MessageHeader {mhIdentifiers = [\"07428673-0d48-43c1-bf93-9fc86bcf5a26\"], mhParentHeader = Nothing, mhMetadata = Metadata (fromList [(\"recordTiming\",Bool False),(\"deletedCells\",Array []),(\"cellId\",String \"28eca6da-85fe-432d-96c0-57392e03f4ea\")]), mhMessageId = UUID {uuidToString = \"057bab30-09d3-4bdd-b8fb-e5e998df1d0c\"}, mhSessionId = UUID {uuidToString = \"07428673-0d48-43c1-bf93-9fc86bcf5a26\"}, mhUsername = \"\", mhMsgType = ExecuteRequestMessage, mhBuffers = []}), mhMetadata = Metadata (fromList []), mhMessageId = UUID {uuidToString = \"55b98339-baf3-49bf-ac19-c33acb46cee0\"}, mhSessionId = UUID {uuidToString = \"07428673-0d48-43c1-bf93-9fc86bcf5a26\"}, mhUsername = \"\", mhMsgType = ExecuteErrorMessage, mhBuffers = []}",
     "output_type": "error",
     "traceback": [
      "<interactive>:1:1: error:\n    • No instance for (IHaskellPrelude.Eq TrafficLight) arising from a use of ‘elem’\n    • In the expression: Red `elem` [Red, Yellow, Green]\n      In an equation for ‘it’: it = Red `elem` [Red, Yellow, Green]"
     ]
    }
   ],
   "source": [
    "Red == Red\n",
    "Red == Yellow\n",
    "[Red, Yellow, Green]\n",
    "Red `elem` [Red, Yellow, Green]  "
   ]
  },
  {
   "cell_type": "markdown",
   "id": "8130432a-458d-47a8-94d7-37b7d51fa496",
   "metadata": {},
   "source": [
    "## typeclass subclass"
   ]
  },
  {
   "cell_type": "code",
   "execution_count": 1,
   "id": "7f2e43ba-5853-4599-9846-8d749061506a",
   "metadata": {},
   "outputs": [
    {
     "ename": "",
     "evalue": "",
     "header": "MessageHeader {mhIdentifiers = [\"1690db2a-0832-446f-a585-9e05c2c1299a\"], mhParentHeader = Just (MessageHeader {mhIdentifiers = [\"1690db2a-0832-446f-a585-9e05c2c1299a\"], mhParentHeader = Nothing, mhMetadata = Metadata (fromList [(\"recordTiming\",Bool False),(\"deletedCells\",Array []),(\"cellId\",String \"7f2e43ba-5853-4599-9846-8d749061506a\")]), mhMessageId = UUID {uuidToString = \"ace7060e-9b33-4b18-a38f-ca45dfa4b19d\"}, mhSessionId = UUID {uuidToString = \"1690db2a-0832-446f-a585-9e05c2c1299a\"}, mhUsername = \"\", mhMsgType = ExecuteRequestMessage, mhBuffers = []}), mhMetadata = Metadata (fromList []), mhMessageId = UUID {uuidToString = \"9118711f-5865-43b9-8b8c-1af4adc46fe1\"}, mhSessionId = UUID {uuidToString = \"1690db2a-0832-446f-a585-9e05c2c1299a\"}, mhUsername = \"\", mhMsgType = ExecuteErrorMessage, mhBuffers = []}",
     "output_type": "error",
     "traceback": [
      "Parse error (line 2, column 5): parse error on input ‘...’"
     ]
    }
   ],
   "source": [
    "class (Eq a) => Num a where\n",
    "    ...\n",
    "-- 타입클래스 선언에 대한 클래스 제한"
   ]
  },
  {
   "cell_type": "code",
   "execution_count": 2,
   "id": "77b21f2e-5635-4f80-baf4-a264f6ccc57e",
   "metadata": {},
   "outputs": [
    {
     "ename": "",
     "evalue": "",
     "header": "MessageHeader {mhIdentifiers = [\"74bde091-2ed9-4541-9e1b-aed195023e32\"], mhParentHeader = Just (MessageHeader {mhIdentifiers = [\"74bde091-2ed9-4541-9e1b-aed195023e32\"], mhParentHeader = Nothing, mhMetadata = Metadata (fromList [(\"recordTiming\",Bool False),(\"deletedCells\",Array []),(\"cellId\",String \"77b21f2e-5635-4f80-baf4-a264f6ccc57e\")]), mhMessageId = UUID {uuidToString = \"cdc5afe3-3cd0-497c-9675-c3df4aee1858\"}, mhSessionId = UUID {uuidToString = \"74bde091-2ed9-4541-9e1b-aed195023e32\"}, mhUsername = \"\", mhMsgType = ExecuteRequestMessage, mhBuffers = []}), mhMetadata = Metadata (fromList []), mhMessageId = UUID {uuidToString = \"886c8e64-d1de-48cd-8b14-dbe51e904b7a\"}, mhSessionId = UUID {uuidToString = \"74bde091-2ed9-4541-9e1b-aed195023e32\"}, mhUsername = \"\", mhMsgType = ExecuteErrorMessage, mhBuffers = []}",
     "output_type": "error",
     "traceback": [
      "Parse error (line 10, column 5): parse error on input ‘...’"
     ]
    }
   ],
   "source": [
    "class Eq a where  \n",
    "-- a 는 Concrete type 이어야한다.\n",
    "-- 왜냐하면 Concrete 타입이 아니라면 아래 함수는 존재할 수 없기 때문\n",
    "    (==) :: a -> a -> Bool  \n",
    "    (/=) :: a -> a -> Bool  \n",
    "    x == y = not (x /= y)  \n",
    "    x /= y = not (x == y)  \n",
    "    \n",
    "-- 그렇기 때문에 아래 type instatnce는 존재할 수 없다\n",
    "instance Eq Maybe where\n",
    "    ..."
   ]
  },
  {
   "cell_type": "code",
   "execution_count": 4,
   "id": "fe364484-042c-44f5-b5e5-e60c3b4c53b8",
   "metadata": {},
   "outputs": [
    {
     "ename": "",
     "evalue": "",
     "header": "MessageHeader {mhIdentifiers = [\"74bde091-2ed9-4541-9e1b-aed195023e32\"], mhParentHeader = Just (MessageHeader {mhIdentifiers = [\"74bde091-2ed9-4541-9e1b-aed195023e32\"], mhParentHeader = Nothing, mhMetadata = Metadata (fromList [(\"recordTiming\",Bool False),(\"deletedCells\",Array []),(\"cellId\",String \"fe364484-042c-44f5-b5e5-e60c3b4c53b8\")]), mhMessageId = UUID {uuidToString = \"793836a9-ccc2-4d99-bf54-0db2976dff56\"}, mhSessionId = UUID {uuidToString = \"74bde091-2ed9-4541-9e1b-aed195023e32\"}, mhUsername = \"\", mhMsgType = ExecuteRequestMessage, mhBuffers = []}), mhMetadata = Metadata (fromList []), mhMessageId = UUID {uuidToString = \"034ff00f-2700-4aea-9346-1b3f3f40aef0\"}, mhSessionId = UUID {uuidToString = \"74bde091-2ed9-4541-9e1b-aed195023e32\"}, mhUsername = \"\", mhMsgType = ExecuteErrorMessage, mhBuffers = []}",
     "output_type": "error",
     "traceback": [
      "<interactive>:1:10: error:\n    Duplicate instance declarations:\n      instance Eq m => Eq (Maybe m) -- Defined at <interactive>:1:10\n      instance Eq a => Eq (Maybe a) -- Defined in ‘GHC.Maybe’"
     ]
    }
   ],
   "source": [
    "-- 하지만 다음은 가능하다\n",
    "instance (Eq m) => Eq (Maybe m) where\n",
    "-- m 간에 Eq가 가능함을 제약하기 위해서 Eq m => type constraint가 들어간다\n",
    "    Just x == Just y = x == y\n",
    "    Nothing == Nothing  = True\n",
    "    _ == _ = False"
   ]
  },
  {
   "cell_type": "code",
   "execution_count": 5,
   "id": "dae97a9a-6149-468f-b491-a82a2d4b1248",
   "metadata": {},
   "outputs": [
    {
     "data": {},
     "metadata": {},
     "output_type": "display_data"
    },
    {
     "data": {
      "text/html": [
       "<div style='background: rgb(247, 247, 247);'><form><textarea id='code'>type Num :: * -> Constraint\n",
       "class Num a where\n",
       "  (+) :: a -> a -> a\n",
       "  (-) :: a -> a -> a\n",
       "  (*) :: a -> a -> a\n",
       "  negate :: a -> a\n",
       "  abs :: a -> a\n",
       "  signum :: a -> a\n",
       "  fromInteger :: Integer -> a\n",
       "  {-# MINIMAL (+), (*), abs, signum, fromInteger, (negate | (-)) #-}\n",
       "  \t-- Defined in ‘GHC.Num’\n",
       "instance Num Word -- Defined in ‘GHC.Num’\n",
       "instance Num Integer -- Defined in ‘GHC.Num’\n",
       "instance Num Int -- Defined in ‘GHC.Num’\n",
       "instance Num Float -- Defined in ‘GHC.Float’\n",
       "instance Num Double -- Defined in ‘GHC.Float’\n",
       "instance Num IHaskellTH.Type -- Defined in ‘Data.Reflection’\n",
       "instance Num a => Num (IHaskellTH.Q a) -- Defined in ‘Data.Reflection’\n",
       "instance Num IHaskellTH.Exp -- Defined in ‘Data.Reflection’\n",
       "</textarea></form></div><script>CodeMirror.fromTextArea(document.getElementById('code'), {mode: 'haskell', readOnly: 'nocursor'});</script>"
      ],
      "text/plain": [
       "type Num :: * -> Constraint\n",
       "class Num a where\n",
       "  (+) :: a -> a -> a\n",
       "  (-) :: a -> a -> a\n",
       "  (*) :: a -> a -> a\n",
       "  negate :: a -> a\n",
       "  abs :: a -> a\n",
       "  signum :: a -> a\n",
       "  fromInteger :: Integer -> a\n",
       "  {-# MINIMAL (+), (*), abs, signum, fromInteger, (negate | (-)) #-}\n",
       "  \t-- Defined in ‘GHC.Num’\n",
       "instance Num Word -- Defined in ‘GHC.Num’\n",
       "instance Num Integer -- Defined in ‘GHC.Num’\n",
       "instance Num Int -- Defined in ‘GHC.Num’\n",
       "instance Num Float -- Defined in ‘GHC.Float’\n",
       "instance Num Double -- Defined in ‘GHC.Float’\n",
       "instance Num IHaskellTH.Type -- Defined in ‘Data.Reflection’\n",
       "instance Num a => Num (IHaskellTH.Q a) -- Defined in ‘Data.Reflection’\n",
       "instance Num IHaskellTH.Exp -- Defined in ‘Data.Reflection’"
      ]
     },
     "metadata": {},
     "output_type": "display_data"
    }
   ],
   "source": [
    ":info Num"
   ]
  },
  {
   "cell_type": "code",
   "execution_count": 6,
   "id": "1b027606-b0ea-44d9-8cf4-864be617db7c",
   "metadata": {},
   "outputs": [
    {
     "data": {},
     "metadata": {},
     "output_type": "display_data"
    },
    {
     "data": {
      "text/html": [
       "<div style='background: rgb(247, 247, 247);'><form><textarea id='code'>type Maybe :: * -> *\n",
       "data Maybe a = Nothing | Just a\n",
       "  \t-- Defined in ‘GHC.Maybe’\n",
       "instance Functor Maybe -- Defined in ‘GHC.Base’\n",
       "instance Show a => Show (Maybe a) -- Defined in ‘GHC.Show’\n",
       "instance Eq a => Eq (Maybe a) -- Defined in ‘GHC.Maybe’\n",
       "instance Semigroup a => Monoid (Maybe a) -- Defined in ‘GHC.Base’\n",
       "instance Ord a => Ord (Maybe a) -- Defined in ‘GHC.Maybe’\n",
       "instance Semigroup a => Semigroup (Maybe a) -- Defined in ‘GHC.Base’\n",
       "instance Read a => Read (Maybe a) -- Defined in ‘GHC.Read’\n",
       "instance Applicative Maybe -- Defined in ‘GHC.Base’\n",
       "instance Foldable Maybe -- Defined in ‘Data.Foldable’\n",
       "instance Monad Maybe -- Defined in ‘GHC.Base’\n",
       "instance MonadFail Maybe -- Defined in ‘Control.Monad.Fail’\n",
       "instance Traversable Maybe -- Defined in ‘Data.Traversable’\n",
       "</textarea></form></div><script>CodeMirror.fromTextArea(document.getElementById('code'), {mode: 'haskell', readOnly: 'nocursor'});</script>"
      ],
      "text/plain": [
       "type Maybe :: * -> *\n",
       "data Maybe a = Nothing | Just a\n",
       "  \t-- Defined in ‘GHC.Maybe’\n",
       "instance Functor Maybe -- Defined in ‘GHC.Base’\n",
       "instance Show a => Show (Maybe a) -- Defined in ‘GHC.Show’\n",
       "instance Eq a => Eq (Maybe a) -- Defined in ‘GHC.Maybe’\n",
       "instance Semigroup a => Monoid (Maybe a) -- Defined in ‘GHC.Base’\n",
       "instance Ord a => Ord (Maybe a) -- Defined in ‘GHC.Maybe’\n",
       "instance Semigroup a => Semigroup (Maybe a) -- Defined in ‘GHC.Base’\n",
       "instance Read a => Read (Maybe a) -- Defined in ‘GHC.Read’\n",
       "instance Applicative Maybe -- Defined in ‘GHC.Base’\n",
       "instance Foldable Maybe -- Defined in ‘Data.Foldable’\n",
       "instance Monad Maybe -- Defined in ‘GHC.Base’\n",
       "instance MonadFail Maybe -- Defined in ‘Control.Monad.Fail’\n",
       "instance Traversable Maybe -- Defined in ‘Data.Traversable’"
      ]
     },
     "metadata": {},
     "output_type": "display_data"
    }
   ],
   "source": [
    ":info Maybe"
   ]
  },
  {
   "cell_type": "code",
   "execution_count": 8,
   "id": "8d51327a-3de4-4825-ae6c-56719e5cf54e",
   "metadata": {},
   "outputs": [],
   "source": [
    "class YesNo a where\n",
    "    yesno :: a -> Bool\n",
    "\n",
    "instance YesNo Int where\n",
    "    yesno 0 = False\n",
    "    yesno _ = True\n",
    "\n",
    "instance YesNo [a] where\n",
    "    yesno [] = False\n",
    "    yesno _ = True\n",
    "\n",
    "instance YesNo Bool where\n",
    "    yesno = id -- 매개변수를 받아서 동일한 것을 반환한다\n",
    "\n",
    "instance YesNo (Maybe a) where\n",
    "    yesno (Just _) = True\n",
    "    yesno Nothing = False\n",
    "\n",
    "-- instance YesNo (Tree a) where\n",
    "--     yesno EmptyTree = False\n",
    "--     yesno _ = True\n",
    "\n",
    "-- instance YesNo TrafficLight where\n",
    "--     yesno Red = False\n",
    "--     yesno _ = True"
   ]
  },
  {
   "cell_type": "code",
   "execution_count": 9,
   "id": "64b86c6d-a7ea-4162-854c-195eabf8053d",
   "metadata": {},
   "outputs": [
    {
     "data": {
      "text/plain": [
       "False"
      ]
     },
     "metadata": {},
     "output_type": "display_data"
    },
    {
     "data": {
      "text/plain": [
       "True"
      ]
     },
     "metadata": {},
     "output_type": "display_data"
    },
    {
     "data": {
      "text/plain": [
       "False"
      ]
     },
     "metadata": {},
     "output_type": "display_data"
    },
    {
     "data": {
      "text/plain": [
       "True"
      ]
     },
     "metadata": {},
     "output_type": "display_data"
    },
    {
     "data": {
      "text/plain": [
       "True"
      ]
     },
     "metadata": {},
     "output_type": "display_data"
    },
    {
     "data": {
      "text/plain": [
       "False"
      ]
     },
     "metadata": {},
     "output_type": "display_data"
    },
    {
     "data": {
      "text/plain": [
       "True"
      ]
     },
     "metadata": {},
     "output_type": "display_data"
    },
    {
     "data": {
      "text/html": [
       "<style>/* Styles used for the Hoogle display in the pager */\n",
       ".hoogle-doc {\n",
       "display: block;\n",
       "padding-bottom: 1.3em;\n",
       "padding-left: 0.4em;\n",
       "}\n",
       ".hoogle-code {\n",
       "display: block;\n",
       "font-family: monospace;\n",
       "white-space: pre;\n",
       "}\n",
       ".hoogle-text {\n",
       "display: block;\n",
       "}\n",
       ".hoogle-name {\n",
       "color: green;\n",
       "font-weight: bold;\n",
       "}\n",
       ".hoogle-head {\n",
       "font-weight: bold;\n",
       "}\n",
       ".hoogle-sub {\n",
       "display: block;\n",
       "margin-left: 0.4em;\n",
       "}\n",
       ".hoogle-package {\n",
       "font-weight: bold;\n",
       "font-style: italic;\n",
       "}\n",
       ".hoogle-module {\n",
       "font-weight: bold;\n",
       "}\n",
       ".hoogle-class {\n",
       "font-weight: bold;\n",
       "}\n",
       ".get-type {\n",
       "color: green;\n",
       "font-weight: bold;\n",
       "font-family: monospace;\n",
       "display: block;\n",
       "white-space: pre-wrap;\n",
       "}\n",
       ".show-type {\n",
       "color: green;\n",
       "font-weight: bold;\n",
       "font-family: monospace;\n",
       "margin-left: 1em;\n",
       "}\n",
       ".mono {\n",
       "font-family: monospace;\n",
       "display: block;\n",
       "}\n",
       ".err-msg {\n",
       "color: red;\n",
       "font-style: italic;\n",
       "font-family: monospace;\n",
       "white-space: pre;\n",
       "display: block;\n",
       "}\n",
       "#unshowable {\n",
       "color: red;\n",
       "font-weight: bold;\n",
       "}\n",
       ".err-msg.in.collapse {\n",
       "padding-top: 0.7em;\n",
       "}\n",
       ".highlight-code {\n",
       "white-space: pre;\n",
       "font-family: monospace;\n",
       "}\n",
       ".suggestion-warning { \n",
       "font-weight: bold;\n",
       "color: rgb(200, 130, 0);\n",
       "}\n",
       ".suggestion-error { \n",
       "font-weight: bold;\n",
       "color: red;\n",
       "}\n",
       ".suggestion-name {\n",
       "font-weight: bold;\n",
       "}\n",
       "</style><span class='get-type'>yesno :: forall a. YesNo a => a -> Bool</span>"
      ],
      "text/plain": [
       "yesno :: forall a. YesNo a => a -> Bool"
      ]
     },
     "metadata": {},
     "output_type": "display_data"
    }
   ],
   "source": [
    "yesno $ length []\n",
    "yesno \"haha\"\n",
    "yesno \"\"\n",
    "yesno $ Just 0\n",
    "yesno True\n",
    "yesno []\n",
    "yesno [0,0,0]\n",
    ":t yesno"
   ]
  },
  {
   "cell_type": "code",
   "execution_count": 10,
   "id": "e6c70bea-1097-404a-9edc-c80d7ff1419e",
   "metadata": {},
   "outputs": [],
   "source": [
    "yesnoIf :: (YesNo y) => y -> a -> a -> a\n",
    "yesnoIf yesnoVal yesResult noResult = \n",
    "    if yesno yesnoVal\n",
    "    then yesResult\n",
    "    else noResult"
   ]
  },
  {
   "cell_type": "code",
   "execution_count": 11,
   "id": "c7c09086-f402-4801-a400-3d9292b7cdbb",
   "metadata": {},
   "outputs": [
    {
     "data": {
      "text/plain": [
       "\"NO!\""
      ]
     },
     "metadata": {},
     "output_type": "display_data"
    },
    {
     "data": {
      "text/plain": [
       "\"YEAH!\""
      ]
     },
     "metadata": {},
     "output_type": "display_data"
    },
    {
     "data": {
      "text/plain": [
       "\"YEAH!\""
      ]
     },
     "metadata": {},
     "output_type": "display_data"
    },
    {
     "data": {
      "text/plain": [
       "\"YEAH!\""
      ]
     },
     "metadata": {},
     "output_type": "display_data"
    },
    {
     "data": {
      "text/plain": [
       "\"NO!\""
      ]
     },
     "metadata": {},
     "output_type": "display_data"
    }
   ],
   "source": [
    "yesnoIf [] \"YEAH!\" \"NO!\"  \n",
    "yesnoIf [2,3,4] \"YEAH!\" \"NO!\" \n",
    "yesnoIf True \"YEAH!\" \"NO!\"  \n",
    "yesnoIf (Just 500) \"YEAH!\" \"NO!\"\n",
    "yesnoIf Nothing \"YEAH!\" \"NO!\"  "
   ]
  },
  {
   "cell_type": "markdown",
   "id": "7d16d50e-1e76-4885-8ac6-a989ad449755",
   "metadata": {},
   "source": [
    "## Functor typeclass"
   ]
  },
  {
   "cell_type": "markdown",
   "id": "1972c197-b11c-41ee-98da-c71289d95ce3",
   "metadata": {},
   "source": [
    "Functor typeclass는 매핑될 수 있는 것.\n",
    "리스트는 Functor 타입에 속한다."
   ]
  },
  {
   "cell_type": "code",
   "execution_count": 12,
   "id": "d7535fe6-58f3-4734-ab44-36efd841c425",
   "metadata": {},
   "outputs": [],
   "source": [
    "class Functor f where\n",
    "    fmap :: (a -> b) -> f a -> f b\n",
    "    -- 이때 f는 type 생성자이다. (Maybe 같은 것)\n",
    "    --함수와 f a타입 값을 받아 f b타입 값을 돌려주는 것 \n",
    "    -- ex> (Int -> String) -> Maybe Int -> Maybe String"
   ]
  },
  {
   "cell_type": "code",
   "execution_count": 1,
   "id": "c6c64c3c-59ca-491c-94cf-f51b456abfad",
   "metadata": {},
   "outputs": [
    {
     "data": {
      "text/plain": [
       "[2,4,6]"
      ]
     },
     "metadata": {},
     "output_type": "display_data"
    }
   ],
   "source": [
    "fmap (*2) [1..3]\n",
    "-- Int -> Int 합수와 [Int] 타입값을 받아 [Int] 타입값을 돌려줌"
   ]
  },
  {
   "cell_type": "code",
   "execution_count": 2,
   "id": "f6318168-2229-413d-8bea-453c47c34ee7",
   "metadata": {},
   "outputs": [
    {
     "data": {},
     "metadata": {},
     "output_type": "display_data"
    },
    {
     "data": {
      "text/html": [
       "<div style='background: rgb(247, 247, 247);'><form><textarea id='code'>type Maybe :: * -> *\n",
       "data Maybe a = Nothing | Just a\n",
       "  \t-- Defined in ‘GHC.Maybe’\n",
       "instance Functor Maybe -- Defined in ‘GHC.Base’\n",
       "instance Show a => Show (Maybe a) -- Defined in ‘GHC.Show’\n",
       "instance Eq a => Eq (Maybe a) -- Defined in ‘GHC.Maybe’\n",
       "instance Semigroup a => Monoid (Maybe a) -- Defined in ‘GHC.Base’\n",
       "instance Ord a => Ord (Maybe a) -- Defined in ‘GHC.Maybe’\n",
       "instance Semigroup a => Semigroup (Maybe a) -- Defined in ‘GHC.Base’\n",
       "instance Read a => Read (Maybe a) -- Defined in ‘GHC.Read’\n",
       "instance Applicative Maybe -- Defined in ‘GHC.Base’\n",
       "instance Foldable Maybe -- Defined in ‘Data.Foldable’\n",
       "instance Monad Maybe -- Defined in ‘GHC.Base’\n",
       "instance MonadFail Maybe -- Defined in ‘Control.Monad.Fail’\n",
       "instance Traversable Maybe -- Defined in ‘Data.Traversable’\n",
       "</textarea></form></div><script>CodeMirror.fromTextArea(document.getElementById('code'), {mode: 'haskell', readOnly: 'nocursor'});</script>"
      ],
      "text/plain": [
       "type Maybe :: * -> *\n",
       "data Maybe a = Nothing | Just a\n",
       "  \t-- Defined in ‘GHC.Maybe’\n",
       "instance Functor Maybe -- Defined in ‘GHC.Base’\n",
       "instance Show a => Show (Maybe a) -- Defined in ‘GHC.Show’\n",
       "instance Eq a => Eq (Maybe a) -- Defined in ‘GHC.Maybe’\n",
       "instance Semigroup a => Monoid (Maybe a) -- Defined in ‘GHC.Base’\n",
       "instance Ord a => Ord (Maybe a) -- Defined in ‘GHC.Maybe’\n",
       "instance Semigroup a => Semigroup (Maybe a) -- Defined in ‘GHC.Base’\n",
       "instance Read a => Read (Maybe a) -- Defined in ‘GHC.Read’\n",
       "instance Applicative Maybe -- Defined in ‘GHC.Base’\n",
       "instance Foldable Maybe -- Defined in ‘Data.Foldable’\n",
       "instance Monad Maybe -- Defined in ‘GHC.Base’\n",
       "instance MonadFail Maybe -- Defined in ‘Control.Monad.Fail’\n",
       "instance Traversable Maybe -- Defined in ‘Data.Traversable’"
      ]
     },
     "metadata": {},
     "output_type": "display_data"
    }
   ],
   "source": [
    ":info Maybe"
   ]
  },
  {
   "cell_type": "code",
   "execution_count": 6,
   "id": "5d72509d-a59e-4286-bba3-7c3ce7b9f3cd",
   "metadata": {},
   "outputs": [
    {
     "data": {
      "text/plain": [
       "Just \"Something serious. HEY GUYS IM INSIDE THE JUST\""
      ]
     },
     "metadata": {},
     "output_type": "display_data"
    },
    {
     "data": {
      "text/plain": [
       "Nothing"
      ]
     },
     "metadata": {},
     "output_type": "display_data"
    },
    {
     "data": {
      "text/plain": [
       "Just 400"
      ]
     },
     "metadata": {},
     "output_type": "display_data"
    },
    {
     "data": {
      "text/plain": [
       "Nothing"
      ]
     },
     "metadata": {},
     "output_type": "display_data"
    }
   ],
   "source": [
    "fmap (++ \" HEY GUYS IM INSIDE THE JUST\") (Just \"Something serious.\") \n",
    "-- String -> String 함수와 Maybe String 값을 받아 Maybe String을 반환\n",
    "fmap (++ \" HEY GUYS IM INSIDE THE JUST\") Nothing  \n",
    "fmap (*2) (Just 200)  \n",
    "fmap (*2) Nothing  "
   ]
  },
  {
   "cell_type": "code",
   "execution_count": 8,
   "id": "b3a1c003-4c5b-4920-9a0f-dfc985177d0e",
   "metadata": {},
   "outputs": [
    {
     "ename": "",
     "evalue": "",
     "header": "MessageHeader {mhIdentifiers = [\"74bde091-2ed9-4541-9e1b-aed195023e32\"], mhParentHeader = Just (MessageHeader {mhIdentifiers = [\"74bde091-2ed9-4541-9e1b-aed195023e32\"], mhParentHeader = Nothing, mhMetadata = Metadata (fromList [(\"recordTiming\",Bool False),(\"deletedCells\",Array []),(\"cellId\",String \"b3a1c003-4c5b-4920-9a0f-dfc985177d0e\")]), mhMessageId = UUID {uuidToString = \"a103f75b-130f-47f2-b513-e6a88f969f57\"}, mhSessionId = UUID {uuidToString = \"74bde091-2ed9-4541-9e1b-aed195023e32\"}, mhUsername = \"\", mhMsgType = ExecuteRequestMessage, mhBuffers = []}), mhMetadata = Metadata (fromList []), mhMessageId = UUID {uuidToString = \"1b7dd8e9-dd4c-4e75-98a6-836ad926ca6c\"}, mhSessionId = UUID {uuidToString = \"74bde091-2ed9-4541-9e1b-aed195023e32\"}, mhUsername = \"\", mhMsgType = ExecuteErrorMessage, mhBuffers = []}",
     "output_type": "error",
     "traceback": [
      "<interactive>:6:1: error:\n    The type signature for ‘fmap’ lacks an accompanying binding\n      (The type signature must be given where ‘fmap’ is declared)"
     ]
    }
   ],
   "source": [
    "-- 두개의 type variable을 받는 Either의 경우\n",
    "data Either a b = Left a | Right b\n",
    "\n",
    "instance Functor (Either a) where\n",
    "-- Either a 는 하나의 type variable을 받는 타입 생성자\n",
    "    fmap f (Right x) = Right (f x)\n",
    "    fmap f (Left x) = Left x -- 에러 값은 변환없이 그래도 돌려준다\n",
    "    \n",
    "-- Either a 를 위한 타입 서명 (Left의 타입이 동일)\n",
    "fmap :: (b -> c) -> (Either a) b -> (Either a) c"
   ]
  },
  {
   "cell_type": "markdown",
   "id": "b220890e-751a-45a3-91f3-ca3950c9ce3e",
   "metadata": {},
   "source": [
    "값은 타입이라는 표식을 갖는다.\n",
    "타입은 종류(kind)라는 표식을 갖는다."
   ]
  },
  {
   "cell_type": "code",
   "execution_count": 10,
   "id": "2367241a-9b62-4bb2-a45c-00ca96fa48c7",
   "metadata": {},
   "outputs": [
    {
     "data": {
      "text/html": [
       "<style>/* Styles used for the Hoogle display in the pager */\n",
       ".hoogle-doc {\n",
       "display: block;\n",
       "padding-bottom: 1.3em;\n",
       "padding-left: 0.4em;\n",
       "}\n",
       ".hoogle-code {\n",
       "display: block;\n",
       "font-family: monospace;\n",
       "white-space: pre;\n",
       "}\n",
       ".hoogle-text {\n",
       "display: block;\n",
       "}\n",
       ".hoogle-name {\n",
       "color: green;\n",
       "font-weight: bold;\n",
       "}\n",
       ".hoogle-head {\n",
       "font-weight: bold;\n",
       "}\n",
       ".hoogle-sub {\n",
       "display: block;\n",
       "margin-left: 0.4em;\n",
       "}\n",
       ".hoogle-package {\n",
       "font-weight: bold;\n",
       "font-style: italic;\n",
       "}\n",
       ".hoogle-module {\n",
       "font-weight: bold;\n",
       "}\n",
       ".hoogle-class {\n",
       "font-weight: bold;\n",
       "}\n",
       ".get-type {\n",
       "color: green;\n",
       "font-weight: bold;\n",
       "font-family: monospace;\n",
       "display: block;\n",
       "white-space: pre-wrap;\n",
       "}\n",
       ".show-type {\n",
       "color: green;\n",
       "font-weight: bold;\n",
       "font-family: monospace;\n",
       "margin-left: 1em;\n",
       "}\n",
       ".mono {\n",
       "font-family: monospace;\n",
       "display: block;\n",
       "}\n",
       ".err-msg {\n",
       "color: red;\n",
       "font-style: italic;\n",
       "font-family: monospace;\n",
       "white-space: pre;\n",
       "display: block;\n",
       "}\n",
       "#unshowable {\n",
       "color: red;\n",
       "font-weight: bold;\n",
       "}\n",
       ".err-msg.in.collapse {\n",
       "padding-top: 0.7em;\n",
       "}\n",
       ".highlight-code {\n",
       "white-space: pre;\n",
       "font-family: monospace;\n",
       "}\n",
       ".suggestion-warning { \n",
       "font-weight: bold;\n",
       "color: rgb(200, 130, 0);\n",
       "}\n",
       ".suggestion-error { \n",
       "font-weight: bold;\n",
       "color: red;\n",
       "}\n",
       ".suggestion-name {\n",
       "font-weight: bold;\n",
       "}\n",
       "</style><span class='get-type'>Int :: *</span>"
      ],
      "text/plain": [
       "Int :: *"
      ]
     },
     "metadata": {},
     "output_type": "display_data"
    }
   ],
   "source": [
    ":k Int\n",
    "-- * 는 이 타입이 Concrete type임을 알림"
   ]
  },
  {
   "cell_type": "code",
   "execution_count": 12,
   "id": "7e1a77d6-6d63-441c-87e8-4977943d4ac7",
   "metadata": {},
   "outputs": [
    {
     "data": {
      "text/html": [
       "<style>/* Styles used for the Hoogle display in the pager */\n",
       ".hoogle-doc {\n",
       "display: block;\n",
       "padding-bottom: 1.3em;\n",
       "padding-left: 0.4em;\n",
       "}\n",
       ".hoogle-code {\n",
       "display: block;\n",
       "font-family: monospace;\n",
       "white-space: pre;\n",
       "}\n",
       ".hoogle-text {\n",
       "display: block;\n",
       "}\n",
       ".hoogle-name {\n",
       "color: green;\n",
       "font-weight: bold;\n",
       "}\n",
       ".hoogle-head {\n",
       "font-weight: bold;\n",
       "}\n",
       ".hoogle-sub {\n",
       "display: block;\n",
       "margin-left: 0.4em;\n",
       "}\n",
       ".hoogle-package {\n",
       "font-weight: bold;\n",
       "font-style: italic;\n",
       "}\n",
       ".hoogle-module {\n",
       "font-weight: bold;\n",
       "}\n",
       ".hoogle-class {\n",
       "font-weight: bold;\n",
       "}\n",
       ".get-type {\n",
       "color: green;\n",
       "font-weight: bold;\n",
       "font-family: monospace;\n",
       "display: block;\n",
       "white-space: pre-wrap;\n",
       "}\n",
       ".show-type {\n",
       "color: green;\n",
       "font-weight: bold;\n",
       "font-family: monospace;\n",
       "margin-left: 1em;\n",
       "}\n",
       ".mono {\n",
       "font-family: monospace;\n",
       "display: block;\n",
       "}\n",
       ".err-msg {\n",
       "color: red;\n",
       "font-style: italic;\n",
       "font-family: monospace;\n",
       "white-space: pre;\n",
       "display: block;\n",
       "}\n",
       "#unshowable {\n",
       "color: red;\n",
       "font-weight: bold;\n",
       "}\n",
       ".err-msg.in.collapse {\n",
       "padding-top: 0.7em;\n",
       "}\n",
       ".highlight-code {\n",
       "white-space: pre;\n",
       "font-family: monospace;\n",
       "}\n",
       ".suggestion-warning { \n",
       "font-weight: bold;\n",
       "color: rgb(200, 130, 0);\n",
       "}\n",
       ".suggestion-error { \n",
       "font-weight: bold;\n",
       "color: red;\n",
       "}\n",
       ".suggestion-name {\n",
       "font-weight: bold;\n",
       "}\n",
       "</style><span class='get-type'>Maybe :: * -> *</span>"
      ],
      "text/plain": [
       "Maybe :: * -> *"
      ]
     },
     "metadata": {},
     "output_type": "display_data"
    }
   ],
   "source": [
    ":k Maybe\n",
    "-- 하나의 콘크리트 타입을 받아 -> 하나의 콘크리트 타입을 반환하는 타입 생성자임을 알림"
   ]
  },
  {
   "cell_type": "code",
   "execution_count": 13,
   "id": "1d4e3f28-03d5-4809-9c40-c1cf11fa3165",
   "metadata": {},
   "outputs": [
    {
     "data": {
      "text/html": [
       "<style>/* Styles used for the Hoogle display in the pager */\n",
       ".hoogle-doc {\n",
       "display: block;\n",
       "padding-bottom: 1.3em;\n",
       "padding-left: 0.4em;\n",
       "}\n",
       ".hoogle-code {\n",
       "display: block;\n",
       "font-family: monospace;\n",
       "white-space: pre;\n",
       "}\n",
       ".hoogle-text {\n",
       "display: block;\n",
       "}\n",
       ".hoogle-name {\n",
       "color: green;\n",
       "font-weight: bold;\n",
       "}\n",
       ".hoogle-head {\n",
       "font-weight: bold;\n",
       "}\n",
       ".hoogle-sub {\n",
       "display: block;\n",
       "margin-left: 0.4em;\n",
       "}\n",
       ".hoogle-package {\n",
       "font-weight: bold;\n",
       "font-style: italic;\n",
       "}\n",
       ".hoogle-module {\n",
       "font-weight: bold;\n",
       "}\n",
       ".hoogle-class {\n",
       "font-weight: bold;\n",
       "}\n",
       ".get-type {\n",
       "color: green;\n",
       "font-weight: bold;\n",
       "font-family: monospace;\n",
       "display: block;\n",
       "white-space: pre-wrap;\n",
       "}\n",
       ".show-type {\n",
       "color: green;\n",
       "font-weight: bold;\n",
       "font-family: monospace;\n",
       "margin-left: 1em;\n",
       "}\n",
       ".mono {\n",
       "font-family: monospace;\n",
       "display: block;\n",
       "}\n",
       ".err-msg {\n",
       "color: red;\n",
       "font-style: italic;\n",
       "font-family: monospace;\n",
       "white-space: pre;\n",
       "display: block;\n",
       "}\n",
       "#unshowable {\n",
       "color: red;\n",
       "font-weight: bold;\n",
       "}\n",
       ".err-msg.in.collapse {\n",
       "padding-top: 0.7em;\n",
       "}\n",
       ".highlight-code {\n",
       "white-space: pre;\n",
       "font-family: monospace;\n",
       "}\n",
       ".suggestion-warning { \n",
       "font-weight: bold;\n",
       "color: rgb(200, 130, 0);\n",
       "}\n",
       ".suggestion-error { \n",
       "font-weight: bold;\n",
       "color: red;\n",
       "}\n",
       ".suggestion-name {\n",
       "font-weight: bold;\n",
       "}\n",
       "</style><span class='get-type'>Maybe Int :: *</span>"
      ],
      "text/plain": [
       "Maybe Int :: *"
      ]
     },
     "metadata": {},
     "output_type": "display_data"
    }
   ],
   "source": [
    ":k Maybe Int\n",
    "-- 콘크리트 타입임"
   ]
  },
  {
   "cell_type": "code",
   "execution_count": 14,
   "id": "e434ba80-8073-47c4-aef9-3543a584347a",
   "metadata": {},
   "outputs": [
    {
     "data": {
      "text/html": [
       "<style>/* Styles used for the Hoogle display in the pager */\n",
       ".hoogle-doc {\n",
       "display: block;\n",
       "padding-bottom: 1.3em;\n",
       "padding-left: 0.4em;\n",
       "}\n",
       ".hoogle-code {\n",
       "display: block;\n",
       "font-family: monospace;\n",
       "white-space: pre;\n",
       "}\n",
       ".hoogle-text {\n",
       "display: block;\n",
       "}\n",
       ".hoogle-name {\n",
       "color: green;\n",
       "font-weight: bold;\n",
       "}\n",
       ".hoogle-head {\n",
       "font-weight: bold;\n",
       "}\n",
       ".hoogle-sub {\n",
       "display: block;\n",
       "margin-left: 0.4em;\n",
       "}\n",
       ".hoogle-package {\n",
       "font-weight: bold;\n",
       "font-style: italic;\n",
       "}\n",
       ".hoogle-module {\n",
       "font-weight: bold;\n",
       "}\n",
       ".hoogle-class {\n",
       "font-weight: bold;\n",
       "}\n",
       ".get-type {\n",
       "color: green;\n",
       "font-weight: bold;\n",
       "font-family: monospace;\n",
       "display: block;\n",
       "white-space: pre-wrap;\n",
       "}\n",
       ".show-type {\n",
       "color: green;\n",
       "font-weight: bold;\n",
       "font-family: monospace;\n",
       "margin-left: 1em;\n",
       "}\n",
       ".mono {\n",
       "font-family: monospace;\n",
       "display: block;\n",
       "}\n",
       ".err-msg {\n",
       "color: red;\n",
       "font-style: italic;\n",
       "font-family: monospace;\n",
       "white-space: pre;\n",
       "display: block;\n",
       "}\n",
       "#unshowable {\n",
       "color: red;\n",
       "font-weight: bold;\n",
       "}\n",
       ".err-msg.in.collapse {\n",
       "padding-top: 0.7em;\n",
       "}\n",
       ".highlight-code {\n",
       "white-space: pre;\n",
       "font-family: monospace;\n",
       "}\n",
       ".suggestion-warning { \n",
       "font-weight: bold;\n",
       "color: rgb(200, 130, 0);\n",
       "}\n",
       ".suggestion-error { \n",
       "font-weight: bold;\n",
       "color: red;\n",
       "}\n",
       ".suggestion-name {\n",
       "font-weight: bold;\n",
       "}\n",
       "</style><span class='get-type'>Either :: * -> * -> *</span>"
      ],
      "text/plain": [
       "Either :: * -> * -> *"
      ]
     },
     "metadata": {},
     "output_type": "display_data"
    }
   ],
   "source": [
    ":k Either\n",
    "-- 두개의 콘크리트 타입을 받아 -> 하나의 콘크리트 타입을 반환하는 타입 생성자"
   ]
  },
  {
   "cell_type": "code",
   "execution_count": 15,
   "id": "152d0d1e-00b2-4a6a-813c-45a17f7d46f9",
   "metadata": {},
   "outputs": [
    {
     "data": {
      "text/html": [
       "<style>/* Styles used for the Hoogle display in the pager */\n",
       ".hoogle-doc {\n",
       "display: block;\n",
       "padding-bottom: 1.3em;\n",
       "padding-left: 0.4em;\n",
       "}\n",
       ".hoogle-code {\n",
       "display: block;\n",
       "font-family: monospace;\n",
       "white-space: pre;\n",
       "}\n",
       ".hoogle-text {\n",
       "display: block;\n",
       "}\n",
       ".hoogle-name {\n",
       "color: green;\n",
       "font-weight: bold;\n",
       "}\n",
       ".hoogle-head {\n",
       "font-weight: bold;\n",
       "}\n",
       ".hoogle-sub {\n",
       "display: block;\n",
       "margin-left: 0.4em;\n",
       "}\n",
       ".hoogle-package {\n",
       "font-weight: bold;\n",
       "font-style: italic;\n",
       "}\n",
       ".hoogle-module {\n",
       "font-weight: bold;\n",
       "}\n",
       ".hoogle-class {\n",
       "font-weight: bold;\n",
       "}\n",
       ".get-type {\n",
       "color: green;\n",
       "font-weight: bold;\n",
       "font-family: monospace;\n",
       "display: block;\n",
       "white-space: pre-wrap;\n",
       "}\n",
       ".show-type {\n",
       "color: green;\n",
       "font-weight: bold;\n",
       "font-family: monospace;\n",
       "margin-left: 1em;\n",
       "}\n",
       ".mono {\n",
       "font-family: monospace;\n",
       "display: block;\n",
       "}\n",
       ".err-msg {\n",
       "color: red;\n",
       "font-style: italic;\n",
       "font-family: monospace;\n",
       "white-space: pre;\n",
       "display: block;\n",
       "}\n",
       "#unshowable {\n",
       "color: red;\n",
       "font-weight: bold;\n",
       "}\n",
       ".err-msg.in.collapse {\n",
       "padding-top: 0.7em;\n",
       "}\n",
       ".highlight-code {\n",
       "white-space: pre;\n",
       "font-family: monospace;\n",
       "}\n",
       ".suggestion-warning { \n",
       "font-weight: bold;\n",
       "color: rgb(200, 130, 0);\n",
       "}\n",
       ".suggestion-error { \n",
       "font-weight: bold;\n",
       "color: red;\n",
       "}\n",
       ".suggestion-name {\n",
       "font-weight: bold;\n",
       "}\n",
       "</style><span class='get-type'>Either String :: * -> *</span>"
      ],
      "text/plain": [
       "Either String :: * -> *"
      ]
     },
     "metadata": {},
     "output_type": "display_data"
    },
    {
     "data": {
      "text/html": [
       "<style>/* Styles used for the Hoogle display in the pager */\n",
       ".hoogle-doc {\n",
       "display: block;\n",
       "padding-bottom: 1.3em;\n",
       "padding-left: 0.4em;\n",
       "}\n",
       ".hoogle-code {\n",
       "display: block;\n",
       "font-family: monospace;\n",
       "white-space: pre;\n",
       "}\n",
       ".hoogle-text {\n",
       "display: block;\n",
       "}\n",
       ".hoogle-name {\n",
       "color: green;\n",
       "font-weight: bold;\n",
       "}\n",
       ".hoogle-head {\n",
       "font-weight: bold;\n",
       "}\n",
       ".hoogle-sub {\n",
       "display: block;\n",
       "margin-left: 0.4em;\n",
       "}\n",
       ".hoogle-package {\n",
       "font-weight: bold;\n",
       "font-style: italic;\n",
       "}\n",
       ".hoogle-module {\n",
       "font-weight: bold;\n",
       "}\n",
       ".hoogle-class {\n",
       "font-weight: bold;\n",
       "}\n",
       ".get-type {\n",
       "color: green;\n",
       "font-weight: bold;\n",
       "font-family: monospace;\n",
       "display: block;\n",
       "white-space: pre-wrap;\n",
       "}\n",
       ".show-type {\n",
       "color: green;\n",
       "font-weight: bold;\n",
       "font-family: monospace;\n",
       "margin-left: 1em;\n",
       "}\n",
       ".mono {\n",
       "font-family: monospace;\n",
       "display: block;\n",
       "}\n",
       ".err-msg {\n",
       "color: red;\n",
       "font-style: italic;\n",
       "font-family: monospace;\n",
       "white-space: pre;\n",
       "display: block;\n",
       "}\n",
       "#unshowable {\n",
       "color: red;\n",
       "font-weight: bold;\n",
       "}\n",
       ".err-msg.in.collapse {\n",
       "padding-top: 0.7em;\n",
       "}\n",
       ".highlight-code {\n",
       "white-space: pre;\n",
       "font-family: monospace;\n",
       "}\n",
       ".suggestion-warning { \n",
       "font-weight: bold;\n",
       "color: rgb(200, 130, 0);\n",
       "}\n",
       ".suggestion-error { \n",
       "font-weight: bold;\n",
       "color: red;\n",
       "}\n",
       ".suggestion-name {\n",
       "font-weight: bold;\n",
       "}\n",
       "</style><span class='get-type'>Either String Int :: *</span>"
      ],
      "text/plain": [
       "Either String Int :: *"
      ]
     },
     "metadata": {},
     "output_type": "display_data"
    }
   ],
   "source": [
    "-- 타입 생성자도 함수처럼 currying 된다.\n",
    ":k Either String\n",
    ":k Either String Int"
   ]
  },
  {
   "cell_type": "code",
   "execution_count": 16,
   "id": "9b210f05-7516-4832-8a70-c601162f8e29",
   "metadata": {},
   "outputs": [],
   "source": [
    "class Functor f where\n",
    "    fmap :: (a -> b) -> f a ->  f b\n",
    "    \n",
    "-- 이정의를 다시보게 되면, f 는 하나의 콘크리트 타입을 받는 타입생성자임을 확인할 수 있다"
   ]
  }
 ],
 "metadata": {
  "kernelspec": {
   "display_name": "Haskell",
   "language": "haskell",
   "name": "haskell"
  },
  "language_info": {
   "codemirror_mode": "Haskell",
   "file_extension": ".hs",
   "mimetype": "text/x-haskell",
   "name": "haskell",
   "pygments_lexer": "Haskell",
   "version": "8.10.4"
  }
 },
 "nbformat": 4,
 "nbformat_minor": 5
}
