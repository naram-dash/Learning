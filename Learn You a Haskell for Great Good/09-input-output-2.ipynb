{
 "cells": [
  {
   "cell_type": "markdown",
   "id": "cb30e0ee-bb93-428a-a5d3-faf29fd91650",
   "metadata": {},
   "source": [
    "# More 입력과 출력"
   ]
  },
  {
   "cell_type": "markdown",
   "id": "62761162-8d6f-4cb7-bb1f-54c1dc3d15f0",
   "metadata": {},
   "source": [
    "## 파일과 스트림"
   ]
  },
  {
   "cell_type": "code",
   "execution_count": 1,
   "id": "cdea5d3e-c2c1-40ba-ab73-4370604031bc",
   "metadata": {},
   "outputs": [
    {
     "data": {
      "text/html": [
       "<style>/* Styles used for the Hoogle display in the pager */\n",
       ".hoogle-doc {\n",
       "display: block;\n",
       "padding-bottom: 1.3em;\n",
       "padding-left: 0.4em;\n",
       "}\n",
       ".hoogle-code {\n",
       "display: block;\n",
       "font-family: monospace;\n",
       "white-space: pre;\n",
       "}\n",
       ".hoogle-text {\n",
       "display: block;\n",
       "}\n",
       ".hoogle-name {\n",
       "color: green;\n",
       "font-weight: bold;\n",
       "}\n",
       ".hoogle-head {\n",
       "font-weight: bold;\n",
       "}\n",
       ".hoogle-sub {\n",
       "display: block;\n",
       "margin-left: 0.4em;\n",
       "}\n",
       ".hoogle-package {\n",
       "font-weight: bold;\n",
       "font-style: italic;\n",
       "}\n",
       ".hoogle-module {\n",
       "font-weight: bold;\n",
       "}\n",
       ".hoogle-class {\n",
       "font-weight: bold;\n",
       "}\n",
       ".get-type {\n",
       "color: green;\n",
       "font-weight: bold;\n",
       "font-family: monospace;\n",
       "display: block;\n",
       "white-space: pre-wrap;\n",
       "}\n",
       ".show-type {\n",
       "color: green;\n",
       "font-weight: bold;\n",
       "font-family: monospace;\n",
       "margin-left: 1em;\n",
       "}\n",
       ".mono {\n",
       "font-family: monospace;\n",
       "display: block;\n",
       "}\n",
       ".err-msg {\n",
       "color: red;\n",
       "font-style: italic;\n",
       "font-family: monospace;\n",
       "white-space: pre;\n",
       "display: block;\n",
       "}\n",
       "#unshowable {\n",
       "color: red;\n",
       "font-weight: bold;\n",
       "}\n",
       ".err-msg.in.collapse {\n",
       "padding-top: 0.7em;\n",
       "}\n",
       ".highlight-code {\n",
       "white-space: pre;\n",
       "font-family: monospace;\n",
       "}\n",
       ".suggestion-warning { \n",
       "font-weight: bold;\n",
       "color: rgb(200, 130, 0);\n",
       "}\n",
       ".suggestion-error { \n",
       "font-weight: bold;\n",
       "color: red;\n",
       "}\n",
       ".suggestion-name {\n",
       "font-weight: bold;\n",
       "}\n",
       "</style><span class='get-type'>getContents :: IO String</span>"
      ],
      "text/plain": [
       "getContents :: IO String"
      ]
     },
     "metadata": {},
     "output_type": "display_data"
    }
   ],
   "source": [
    ":t getContents\n",
    "\n",
    "-- 필요할 때 터미널에서 입력을 읽는다.\n",
    "-- 언제 읽는지, 얼마나 읽는지 등의 세부사항을 대신 처리한다."
   ]
  },
  {
   "cell_type": "code",
   "execution_count": 4,
   "id": "6d1b1b40-f9d0-4b96-bec3-e92a355504cb",
   "metadata": {},
   "outputs": [],
   "source": [
    "import qualified Data.Char as Char\n",
    "\n",
    "main = do\n",
    "  contents <- getContents\n",
    "  -- 이 라인은, 문자열이 언젠가 contents에 쌓일것이라고 약속하는 것에 가까움\n",
    "  -- 이 작업은 EOF 문자가 나올때까지 반복된다.\n",
    "  putStr $ map Char.toUpper contents\n",
    "  -- contents에 인자(Char)가 계속 쌓이고 쌓일 때마다 toUpper 함수가 동작하여 putStr에 전달"
   ]
  },
  {
   "cell_type": "code",
   "execution_count": 8,
   "id": "b037141d-d260-463e-a4b4-dd651c6c3bb9",
   "metadata": {},
   "outputs": [
    {
     "data": {
      "text/html": [
       "<style>/* Styles used for the Hoogle display in the pager */\n",
       ".hoogle-doc {\n",
       "display: block;\n",
       "padding-bottom: 1.3em;\n",
       "padding-left: 0.4em;\n",
       "}\n",
       ".hoogle-code {\n",
       "display: block;\n",
       "font-family: monospace;\n",
       "white-space: pre;\n",
       "}\n",
       ".hoogle-text {\n",
       "display: block;\n",
       "}\n",
       ".hoogle-name {\n",
       "color: green;\n",
       "font-weight: bold;\n",
       "}\n",
       ".hoogle-head {\n",
       "font-weight: bold;\n",
       "}\n",
       ".hoogle-sub {\n",
       "display: block;\n",
       "margin-left: 0.4em;\n",
       "}\n",
       ".hoogle-package {\n",
       "font-weight: bold;\n",
       "font-style: italic;\n",
       "}\n",
       ".hoogle-module {\n",
       "font-weight: bold;\n",
       "}\n",
       ".hoogle-class {\n",
       "font-weight: bold;\n",
       "}\n",
       ".get-type {\n",
       "color: green;\n",
       "font-weight: bold;\n",
       "font-family: monospace;\n",
       "display: block;\n",
       "white-space: pre-wrap;\n",
       "}\n",
       ".show-type {\n",
       "color: green;\n",
       "font-weight: bold;\n",
       "font-family: monospace;\n",
       "margin-left: 1em;\n",
       "}\n",
       ".mono {\n",
       "font-family: monospace;\n",
       "display: block;\n",
       "}\n",
       ".err-msg {\n",
       "color: red;\n",
       "font-style: italic;\n",
       "font-family: monospace;\n",
       "white-space: pre;\n",
       "display: block;\n",
       "}\n",
       "#unshowable {\n",
       "color: red;\n",
       "font-weight: bold;\n",
       "}\n",
       ".err-msg.in.collapse {\n",
       "padding-top: 0.7em;\n",
       "}\n",
       ".highlight-code {\n",
       "white-space: pre;\n",
       "font-family: monospace;\n",
       "}\n",
       ".suggestion-warning { \n",
       "font-weight: bold;\n",
       "color: rgb(200, 130, 0);\n",
       "}\n",
       ".suggestion-error { \n",
       "font-weight: bold;\n",
       "color: red;\n",
       "}\n",
       ".suggestion-name {\n",
       "font-weight: bold;\n",
       "}\n",
       "</style><span class='get-type'>interact :: (String -> String) -> IO ()</span>"
      ],
      "text/plain": [
       "interact :: (String -> String) -> IO ()"
      ]
     },
     "metadata": {},
     "output_type": "display_data"
    }
   ],
   "source": [
    "shortLinesOnly :: String -> String\n",
    "shortLinesOnly = unlines . filter (\\line -> length line < 10) . lines\n",
    "\n",
    "main = interact shortLinesOnly\n",
    ":t interact\n",
    "-- 입력(String)을 받은 후 출력(String 하는 함수)"
   ]
  },
  {
   "cell_type": "code",
   "execution_count": null,
   "id": "2cac0e85-21c3-4e42-8826-7a066f010fc5",
   "metadata": {},
   "outputs": [
    {
     "data": {
      "text/plain": [
       "not a palindrome\n",
       "palindrome\n",
       "not a palindrome\n",
       "Press Ctrl-C again to quit kernel."
      ]
     },
     "metadata": {},
     "output_type": "display_data"
    }
   ],
   "source": [
    "isPal :: String -> Bool\n",
    "isPal xs = xs == reverse xs\n",
    "\n",
    "responsePalindromes :: String -> String\n",
    "responsePalindromes =\n",
    "    unlines .\n",
    "    map (\\xs -> if isPal xs then \"palindrome\" else \"not a palindrome\") .\n",
    "    lines\n",
    "    \n",
    "main = interact responsePalindromes\n",
    "main"
   ]
  },
  {
   "cell_type": "code",
   "execution_count": 6,
   "id": "ad3d205a-6fad-4164-9283-7e1e4200ca9b",
   "metadata": {},
   "outputs": [
    {
     "data": {
      "text/html": [
       "<style>/* Styles used for the Hoogle display in the pager */\n",
       ".hoogle-doc {\n",
       "display: block;\n",
       "padding-bottom: 1.3em;\n",
       "padding-left: 0.4em;\n",
       "}\n",
       ".hoogle-code {\n",
       "display: block;\n",
       "font-family: monospace;\n",
       "white-space: pre;\n",
       "}\n",
       ".hoogle-text {\n",
       "display: block;\n",
       "}\n",
       ".hoogle-name {\n",
       "color: green;\n",
       "font-weight: bold;\n",
       "}\n",
       ".hoogle-head {\n",
       "font-weight: bold;\n",
       "}\n",
       ".hoogle-sub {\n",
       "display: block;\n",
       "margin-left: 0.4em;\n",
       "}\n",
       ".hoogle-package {\n",
       "font-weight: bold;\n",
       "font-style: italic;\n",
       "}\n",
       ".hoogle-module {\n",
       "font-weight: bold;\n",
       "}\n",
       ".hoogle-class {\n",
       "font-weight: bold;\n",
       "}\n",
       ".get-type {\n",
       "color: green;\n",
       "font-weight: bold;\n",
       "font-family: monospace;\n",
       "display: block;\n",
       "white-space: pre-wrap;\n",
       "}\n",
       ".show-type {\n",
       "color: green;\n",
       "font-weight: bold;\n",
       "font-family: monospace;\n",
       "margin-left: 1em;\n",
       "}\n",
       ".mono {\n",
       "font-family: monospace;\n",
       "display: block;\n",
       "}\n",
       ".err-msg {\n",
       "color: red;\n",
       "font-style: italic;\n",
       "font-family: monospace;\n",
       "white-space: pre;\n",
       "display: block;\n",
       "}\n",
       "#unshowable {\n",
       "color: red;\n",
       "font-weight: bold;\n",
       "}\n",
       ".err-msg.in.collapse {\n",
       "padding-top: 0.7em;\n",
       "}\n",
       ".highlight-code {\n",
       "white-space: pre;\n",
       "font-family: monospace;\n",
       "}\n",
       ".suggestion-warning { \n",
       "font-weight: bold;\n",
       "color: rgb(200, 130, 0);\n",
       "}\n",
       ".suggestion-error { \n",
       "font-weight: bold;\n",
       "color: red;\n",
       "}\n",
       ".suggestion-name {\n",
       "font-weight: bold;\n",
       "}\n",
       "</style><span class='get-type'>IO.openFile :: FilePath -> IOMode -> IO Handle</span>"
      ],
      "text/plain": [
       "IO.openFile :: FilePath -> IOMode -> IO Handle"
      ]
     },
     "metadata": {},
     "output_type": "display_data"
    },
    {
     "data": {
      "text/html": [
       "<style>/* Styles used for the Hoogle display in the pager */\n",
       ".hoogle-doc {\n",
       "display: block;\n",
       "padding-bottom: 1.3em;\n",
       "padding-left: 0.4em;\n",
       "}\n",
       ".hoogle-code {\n",
       "display: block;\n",
       "font-family: monospace;\n",
       "white-space: pre;\n",
       "}\n",
       ".hoogle-text {\n",
       "display: block;\n",
       "}\n",
       ".hoogle-name {\n",
       "color: green;\n",
       "font-weight: bold;\n",
       "}\n",
       ".hoogle-head {\n",
       "font-weight: bold;\n",
       "}\n",
       ".hoogle-sub {\n",
       "display: block;\n",
       "margin-left: 0.4em;\n",
       "}\n",
       ".hoogle-package {\n",
       "font-weight: bold;\n",
       "font-style: italic;\n",
       "}\n",
       ".hoogle-module {\n",
       "font-weight: bold;\n",
       "}\n",
       ".hoogle-class {\n",
       "font-weight: bold;\n",
       "}\n",
       ".get-type {\n",
       "color: green;\n",
       "font-weight: bold;\n",
       "font-family: monospace;\n",
       "display: block;\n",
       "white-space: pre-wrap;\n",
       "}\n",
       ".show-type {\n",
       "color: green;\n",
       "font-weight: bold;\n",
       "font-family: monospace;\n",
       "margin-left: 1em;\n",
       "}\n",
       ".mono {\n",
       "font-family: monospace;\n",
       "display: block;\n",
       "}\n",
       ".err-msg {\n",
       "color: red;\n",
       "font-style: italic;\n",
       "font-family: monospace;\n",
       "white-space: pre;\n",
       "display: block;\n",
       "}\n",
       "#unshowable {\n",
       "color: red;\n",
       "font-weight: bold;\n",
       "}\n",
       ".err-msg.in.collapse {\n",
       "padding-top: 0.7em;\n",
       "}\n",
       ".highlight-code {\n",
       "white-space: pre;\n",
       "font-family: monospace;\n",
       "}\n",
       ".suggestion-warning { \n",
       "font-weight: bold;\n",
       "color: rgb(200, 130, 0);\n",
       "}\n",
       ".suggestion-error { \n",
       "font-weight: bold;\n",
       "color: red;\n",
       "}\n",
       ".suggestion-name {\n",
       "font-weight: bold;\n",
       "}\n",
       "</style><span class='get-type'>IO.hGetContents :: Handle -> IO String</span>"
      ],
      "text/plain": [
       "IO.hGetContents :: Handle -> IO String"
      ]
     },
     "metadata": {},
     "output_type": "display_data"
    },
    {
     "data": {
      "text/html": [
       "<style>/* Styles used for the Hoogle display in the pager */\n",
       ".hoogle-doc {\n",
       "display: block;\n",
       "padding-bottom: 1.3em;\n",
       "padding-left: 0.4em;\n",
       "}\n",
       ".hoogle-code {\n",
       "display: block;\n",
       "font-family: monospace;\n",
       "white-space: pre;\n",
       "}\n",
       ".hoogle-text {\n",
       "display: block;\n",
       "}\n",
       ".hoogle-name {\n",
       "color: green;\n",
       "font-weight: bold;\n",
       "}\n",
       ".hoogle-head {\n",
       "font-weight: bold;\n",
       "}\n",
       ".hoogle-sub {\n",
       "display: block;\n",
       "margin-left: 0.4em;\n",
       "}\n",
       ".hoogle-package {\n",
       "font-weight: bold;\n",
       "font-style: italic;\n",
       "}\n",
       ".hoogle-module {\n",
       "font-weight: bold;\n",
       "}\n",
       ".hoogle-class {\n",
       "font-weight: bold;\n",
       "}\n",
       ".get-type {\n",
       "color: green;\n",
       "font-weight: bold;\n",
       "font-family: monospace;\n",
       "display: block;\n",
       "white-space: pre-wrap;\n",
       "}\n",
       ".show-type {\n",
       "color: green;\n",
       "font-weight: bold;\n",
       "font-family: monospace;\n",
       "margin-left: 1em;\n",
       "}\n",
       ".mono {\n",
       "font-family: monospace;\n",
       "display: block;\n",
       "}\n",
       ".err-msg {\n",
       "color: red;\n",
       "font-style: italic;\n",
       "font-family: monospace;\n",
       "white-space: pre;\n",
       "display: block;\n",
       "}\n",
       "#unshowable {\n",
       "color: red;\n",
       "font-weight: bold;\n",
       "}\n",
       ".err-msg.in.collapse {\n",
       "padding-top: 0.7em;\n",
       "}\n",
       ".highlight-code {\n",
       "white-space: pre;\n",
       "font-family: monospace;\n",
       "}\n",
       ".suggestion-warning { \n",
       "font-weight: bold;\n",
       "color: rgb(200, 130, 0);\n",
       "}\n",
       ".suggestion-error { \n",
       "font-weight: bold;\n",
       "color: red;\n",
       "}\n",
       ".suggestion-name {\n",
       "font-weight: bold;\n",
       "}\n",
       "</style><span class='get-type'>IO.hClose :: Handle -> IO ()</span>"
      ],
      "text/plain": [
       "IO.hClose :: Handle -> IO ()"
      ]
     },
     "metadata": {},
     "output_type": "display_data"
    }
   ],
   "source": [
    "import qualified System.IO as IO\n",
    "\n",
    ":t IO.openFile\n",
    "-- 경로와 IOMode를 받아 파일의 핸들을 반환\n",
    "\n",
    ":t IO.hGetContents\n",
    "-- 핸들을 통해 내용을 반환함\n",
    "-- 핸들은 단지 파일의 현재 위치를 가리킬 뿐, 내용은 실제 파일에 있는 것이다. (북마크와 비슷)\n",
    "\n",
    ":t IO.hClose\n",
    "-- 핸들을 종료함"
   ]
  },
  {
   "cell_type": "code",
   "execution_count": 8,
   "id": "99a1442f-d95d-4561-a437-2f7e95de7f13",
   "metadata": {},
   "outputs": [
    {
     "data": {
      "text/html": [
       "<style>/* Styles used for the Hoogle display in the pager */\n",
       ".hoogle-doc {\n",
       "display: block;\n",
       "padding-bottom: 1.3em;\n",
       "padding-left: 0.4em;\n",
       "}\n",
       ".hoogle-code {\n",
       "display: block;\n",
       "font-family: monospace;\n",
       "white-space: pre;\n",
       "}\n",
       ".hoogle-text {\n",
       "display: block;\n",
       "}\n",
       ".hoogle-name {\n",
       "color: green;\n",
       "font-weight: bold;\n",
       "}\n",
       ".hoogle-head {\n",
       "font-weight: bold;\n",
       "}\n",
       ".hoogle-sub {\n",
       "display: block;\n",
       "margin-left: 0.4em;\n",
       "}\n",
       ".hoogle-package {\n",
       "font-weight: bold;\n",
       "font-style: italic;\n",
       "}\n",
       ".hoogle-module {\n",
       "font-weight: bold;\n",
       "}\n",
       ".hoogle-class {\n",
       "font-weight: bold;\n",
       "}\n",
       ".get-type {\n",
       "color: green;\n",
       "font-weight: bold;\n",
       "font-family: monospace;\n",
       "display: block;\n",
       "white-space: pre-wrap;\n",
       "}\n",
       ".show-type {\n",
       "color: green;\n",
       "font-weight: bold;\n",
       "font-family: monospace;\n",
       "margin-left: 1em;\n",
       "}\n",
       ".mono {\n",
       "font-family: monospace;\n",
       "display: block;\n",
       "}\n",
       ".err-msg {\n",
       "color: red;\n",
       "font-style: italic;\n",
       "font-family: monospace;\n",
       "white-space: pre;\n",
       "display: block;\n",
       "}\n",
       "#unshowable {\n",
       "color: red;\n",
       "font-weight: bold;\n",
       "}\n",
       ".err-msg.in.collapse {\n",
       "padding-top: 0.7em;\n",
       "}\n",
       ".highlight-code {\n",
       "white-space: pre;\n",
       "font-family: monospace;\n",
       "}\n",
       ".suggestion-warning { \n",
       "font-weight: bold;\n",
       "color: rgb(200, 130, 0);\n",
       "}\n",
       ".suggestion-error { \n",
       "font-weight: bold;\n",
       "color: red;\n",
       "}\n",
       ".suggestion-name {\n",
       "font-weight: bold;\n",
       "}\n",
       "</style><span class='get-type'>IO.withFile :: forall r. FilePath -> IOMode -> (Handle -> IO r) -> IO r</span>"
      ],
      "text/plain": [
       "IO.withFile :: forall r. FilePath -> IOMode -> (Handle -> IO r) -> IO r"
      ]
     },
     "metadata": {},
     "output_type": "display_data"
    }
   ],
   "source": [
    "import qualified System.IO as IO\n",
    "\n",
    ":t IO.withFile\n",
    "-- 파일경로, IOMode, 핸들을 통해 IO작업을 하는 함수를 받아 함수를 실행하고 반환값을 반환\n",
    "-- 그리고 핸들을 종료해준다! 예외가 발생하더라도!"
   ]
  },
  {
   "cell_type": "code",
   "execution_count": 9,
   "id": "c104139a-c3c3-4cb3-95f7-84fe7929c6dc",
   "metadata": {},
   "outputs": [
    {
     "data": {
      "text/html": [
       "<style>/* Styles used for the Hoogle display in the pager */\n",
       ".hoogle-doc {\n",
       "display: block;\n",
       "padding-bottom: 1.3em;\n",
       "padding-left: 0.4em;\n",
       "}\n",
       ".hoogle-code {\n",
       "display: block;\n",
       "font-family: monospace;\n",
       "white-space: pre;\n",
       "}\n",
       ".hoogle-text {\n",
       "display: block;\n",
       "}\n",
       ".hoogle-name {\n",
       "color: green;\n",
       "font-weight: bold;\n",
       "}\n",
       ".hoogle-head {\n",
       "font-weight: bold;\n",
       "}\n",
       ".hoogle-sub {\n",
       "display: block;\n",
       "margin-left: 0.4em;\n",
       "}\n",
       ".hoogle-package {\n",
       "font-weight: bold;\n",
       "font-style: italic;\n",
       "}\n",
       ".hoogle-module {\n",
       "font-weight: bold;\n",
       "}\n",
       ".hoogle-class {\n",
       "font-weight: bold;\n",
       "}\n",
       ".get-type {\n",
       "color: green;\n",
       "font-weight: bold;\n",
       "font-family: monospace;\n",
       "display: block;\n",
       "white-space: pre-wrap;\n",
       "}\n",
       ".show-type {\n",
       "color: green;\n",
       "font-weight: bold;\n",
       "font-family: monospace;\n",
       "margin-left: 1em;\n",
       "}\n",
       ".mono {\n",
       "font-family: monospace;\n",
       "display: block;\n",
       "}\n",
       ".err-msg {\n",
       "color: red;\n",
       "font-style: italic;\n",
       "font-family: monospace;\n",
       "white-space: pre;\n",
       "display: block;\n",
       "}\n",
       "#unshowable {\n",
       "color: red;\n",
       "font-weight: bold;\n",
       "}\n",
       ".err-msg.in.collapse {\n",
       "padding-top: 0.7em;\n",
       "}\n",
       ".highlight-code {\n",
       "white-space: pre;\n",
       "font-family: monospace;\n",
       "}\n",
       ".suggestion-warning { \n",
       "font-weight: bold;\n",
       "color: rgb(200, 130, 0);\n",
       "}\n",
       ".suggestion-error { \n",
       "font-weight: bold;\n",
       "color: red;\n",
       "}\n",
       ".suggestion-name {\n",
       "font-weight: bold;\n",
       "}\n",
       "</style><span class='get-type'>Exception.bracket :: forall a b c. IO a -> (a -> IO b) -> (a -> IO c) -> IO c</span>"
      ],
      "text/plain": [
       "Exception.bracket :: forall a b c. IO a -> (a -> IO b) -> (a -> IO c) -> IO c"
      ]
     },
     "metadata": {},
     "output_type": "display_data"
    }
   ],
   "source": [
    "import qualified Control.Exception as Exception\n",
    "\n",
    ":t Exception.bracket\n",
    "-- 1) 파일 핸들러와 같은 리소스를 얻는 IO작업\n",
    "-- 2) 리소스를 해제하는 함수 (예외가 발생해도 무저건 호출하는 함수 finally 같은것)\n",
    "-- 3) 리소스를 받아서 작업하는 함수 (메인 함수이다)\n",
    "-- 4) 반환"
   ]
  },
  {
   "cell_type": "code",
   "execution_count": 10,
   "id": "cf3e764a-e6cf-4506-8ede-3bc7f8b43ce9",
   "metadata": {},
   "outputs": [
    {
     "data": {
      "text/html": [
       "<style>/* Styles used for the Hoogle display in the pager */\n",
       ".hoogle-doc {\n",
       "display: block;\n",
       "padding-bottom: 1.3em;\n",
       "padding-left: 0.4em;\n",
       "}\n",
       ".hoogle-code {\n",
       "display: block;\n",
       "font-family: monospace;\n",
       "white-space: pre;\n",
       "}\n",
       ".hoogle-text {\n",
       "display: block;\n",
       "}\n",
       ".hoogle-name {\n",
       "color: green;\n",
       "font-weight: bold;\n",
       "}\n",
       ".hoogle-head {\n",
       "font-weight: bold;\n",
       "}\n",
       ".hoogle-sub {\n",
       "display: block;\n",
       "margin-left: 0.4em;\n",
       "}\n",
       ".hoogle-package {\n",
       "font-weight: bold;\n",
       "font-style: italic;\n",
       "}\n",
       ".hoogle-module {\n",
       "font-weight: bold;\n",
       "}\n",
       ".hoogle-class {\n",
       "font-weight: bold;\n",
       "}\n",
       ".get-type {\n",
       "color: green;\n",
       "font-weight: bold;\n",
       "font-family: monospace;\n",
       "display: block;\n",
       "white-space: pre-wrap;\n",
       "}\n",
       ".show-type {\n",
       "color: green;\n",
       "font-weight: bold;\n",
       "font-family: monospace;\n",
       "margin-left: 1em;\n",
       "}\n",
       ".mono {\n",
       "font-family: monospace;\n",
       "display: block;\n",
       "}\n",
       ".err-msg {\n",
       "color: red;\n",
       "font-style: italic;\n",
       "font-family: monospace;\n",
       "white-space: pre;\n",
       "display: block;\n",
       "}\n",
       "#unshowable {\n",
       "color: red;\n",
       "font-weight: bold;\n",
       "}\n",
       ".err-msg.in.collapse {\n",
       "padding-top: 0.7em;\n",
       "}\n",
       ".highlight-code {\n",
       "white-space: pre;\n",
       "font-family: monospace;\n",
       "}\n",
       ".suggestion-warning { \n",
       "font-weight: bold;\n",
       "color: rgb(200, 130, 0);\n",
       "}\n",
       ".suggestion-error { \n",
       "font-weight: bold;\n",
       "color: red;\n",
       "}\n",
       ".suggestion-name {\n",
       "font-weight: bold;\n",
       "}\n",
       "</style><span class='get-type'>IO.readFile :: FilePath -> IO String</span>"
      ],
      "text/plain": [
       "IO.readFile :: FilePath -> IO String"
      ]
     },
     "metadata": {},
     "output_type": "display_data"
    }
   ],
   "source": [
    "import qualified System.IO as IO\n",
    "\n",
    ":t IO.readFile"
   ]
  },
  {
   "cell_type": "code",
   "execution_count": 13,
   "id": "f532bca3-bcb5-4886-9877-eba0a8835ccc",
   "metadata": {},
   "outputs": [
    {
     "data": {
      "text/plain": [
       "Hey! Hey! You! You!   \r\n",
       "I don't like your girlfriend!   \r\n",
       "No way! No way!   \r\n",
       "I think you need a new one!"
      ]
     },
     "metadata": {},
     "output_type": "display_data"
    }
   ],
   "source": [
    "import qualified System.IO as IO\n",
    "\n",
    "main = do\n",
    "    content <- readFile \"./09-input-output-2/girlfriend.txt\"\n",
    "    -- 파일이름으로 쉽게 열고, 닫기까지 해준다.\n",
    "    putStr content\n",
    "    \n",
    "main"
   ]
  },
  {
   "cell_type": "code",
   "execution_count": 17,
   "id": "57d16d07-7a99-44e7-b57d-f778b2bac3a8",
   "metadata": {},
   "outputs": [],
   "source": [
    "import qualified System.IO as IO\n",
    "import qualified Data.Char as Char\n",
    "\n",
    "main = do \n",
    "    contents <- IO.readFile \"./09-input-output-2/girlfriend.txt\"\n",
    "    IO.writeFile \"./09-input-output-2/girlfriendcaps.txt\" (map Char.toUpper contents)\n",
    "main"
   ]
  },
  {
   "cell_type": "code",
   "execution_count": 18,
   "id": "d4b47610-3794-43cf-a70e-97254515ae6e",
   "metadata": {},
   "outputs": [
    {
     "data": {
      "text/html": [
       "<style>/* Styles used for the Hoogle display in the pager */\n",
       ".hoogle-doc {\n",
       "display: block;\n",
       "padding-bottom: 1.3em;\n",
       "padding-left: 0.4em;\n",
       "}\n",
       ".hoogle-code {\n",
       "display: block;\n",
       "font-family: monospace;\n",
       "white-space: pre;\n",
       "}\n",
       ".hoogle-text {\n",
       "display: block;\n",
       "}\n",
       ".hoogle-name {\n",
       "color: green;\n",
       "font-weight: bold;\n",
       "}\n",
       ".hoogle-head {\n",
       "font-weight: bold;\n",
       "}\n",
       ".hoogle-sub {\n",
       "display: block;\n",
       "margin-left: 0.4em;\n",
       "}\n",
       ".hoogle-package {\n",
       "font-weight: bold;\n",
       "font-style: italic;\n",
       "}\n",
       ".hoogle-module {\n",
       "font-weight: bold;\n",
       "}\n",
       ".hoogle-class {\n",
       "font-weight: bold;\n",
       "}\n",
       ".get-type {\n",
       "color: green;\n",
       "font-weight: bold;\n",
       "font-family: monospace;\n",
       "display: block;\n",
       "white-space: pre-wrap;\n",
       "}\n",
       ".show-type {\n",
       "color: green;\n",
       "font-weight: bold;\n",
       "font-family: monospace;\n",
       "margin-left: 1em;\n",
       "}\n",
       ".mono {\n",
       "font-family: monospace;\n",
       "display: block;\n",
       "}\n",
       ".err-msg {\n",
       "color: red;\n",
       "font-style: italic;\n",
       "font-family: monospace;\n",
       "white-space: pre;\n",
       "display: block;\n",
       "}\n",
       "#unshowable {\n",
       "color: red;\n",
       "font-weight: bold;\n",
       "}\n",
       ".err-msg.in.collapse {\n",
       "padding-top: 0.7em;\n",
       "}\n",
       ".highlight-code {\n",
       "white-space: pre;\n",
       "font-family: monospace;\n",
       "}\n",
       ".suggestion-warning { \n",
       "font-weight: bold;\n",
       "color: rgb(200, 130, 0);\n",
       "}\n",
       ".suggestion-error { \n",
       "font-weight: bold;\n",
       "color: red;\n",
       "}\n",
       ".suggestion-name {\n",
       "font-weight: bold;\n",
       "}\n",
       "</style><span class='get-type'>IO.appendFile :: FilePath -> String -> IO ()</span>"
      ],
      "text/plain": [
       "IO.appendFile :: FilePath -> String -> IO ()"
      ]
     },
     "metadata": {},
     "output_type": "display_data"
    }
   ],
   "source": [
    "import qualified System.IO as IO\n",
    "\n",
    ":t IO.appendFile\n",
    "-- 이미 존재하는 파일이 있더라도 덮어쓰지 않고, 뒤에서부터 추가한다."
   ]
  },
  {
   "cell_type": "code",
   "execution_count": 3,
   "id": "8da8d81e-64cc-41d5-a435-3862d41d80af",
   "metadata": {},
   "outputs": [
    {
     "name": "stdin",
     "output_type": "stream",
     "text": [
      " rudolf\n"
     ]
    },
    {
     "data": {
      "text/plain": []
     },
     "metadata": {},
     "output_type": "display_data"
    }
   ],
   "source": [
    "import qualified System.IO as IO\n",
    "\n",
    "main = do \n",
    "    todoItem <- getLine\n",
    "    appendFile \"./09-input-output-2/todo.txt\" (todoItem ++ \"\\n\")\n",
    "    \n",
    "main"
   ]
  },
  {
   "cell_type": "code",
   "execution_count": null,
   "id": "45126a1e-a1d1-49d6-8782-cbecc65a3370",
   "metadata": {},
   "outputs": [
    {
     "data": {
      "text/plain": [
       "These are your TODO items:\n",
       "0 - rudolf\n",
       "which one do you want to delete?"
      ]
     },
     "metadata": {},
     "output_type": "display_data"
    }
   ],
   "source": [
    "import qualified System.IO as IO\n",
    "import qualified System.Directory as Directory\n",
    "import qualified Data.List as List\n",
    "\n",
    "main = do\n",
    "    contents <- readFile \"./09-input-output-2/todo.txt\"\n",
    "    let todoTasks = lines contents\n",
    "        numberedTasks = zipWith (\\n line -> show n ++ \" - \" ++ line) [0..] todoTasks\n",
    "    putStrLn \"These are your TODO items:\"\n",
    "    mapM_ putStrLn numberedTasks\n",
    "    putStrLn \"which one do you want to delete?\"\n",
    "    numberString <- getLine\n",
    "    let number = read numberString\n",
    "        newTodoItems = unlines $ List.delete (todoTasks !! number) todoTasks\n",
    "    (tempName, tempHandle) <- IO.openTempFile \".\" \"temp\"\n",
    "    IO.hPutStr tempHandle newTodoItems\n",
    "    IO.hClose tempHandle\n",
    "    Directory.removeFile \"todo\"\n",
    "    Directory.renameFile tempName \"todo.txt\"\n",
    "    \n",
    "main"
   ]
  },
  {
   "cell_type": "code",
   "execution_count": 1,
   "id": "676ec98e-e087-453a-a6f0-7db9abf73a86",
   "metadata": {},
   "outputs": [
    {
     "data": {
      "text/html": [
       "<style>/* Styles used for the Hoogle display in the pager */\n",
       ".hoogle-doc {\n",
       "display: block;\n",
       "padding-bottom: 1.3em;\n",
       "padding-left: 0.4em;\n",
       "}\n",
       ".hoogle-code {\n",
       "display: block;\n",
       "font-family: monospace;\n",
       "white-space: pre;\n",
       "}\n",
       ".hoogle-text {\n",
       "display: block;\n",
       "}\n",
       ".hoogle-name {\n",
       "color: green;\n",
       "font-weight: bold;\n",
       "}\n",
       ".hoogle-head {\n",
       "font-weight: bold;\n",
       "}\n",
       ".hoogle-sub {\n",
       "display: block;\n",
       "margin-left: 0.4em;\n",
       "}\n",
       ".hoogle-package {\n",
       "font-weight: bold;\n",
       "font-style: italic;\n",
       "}\n",
       ".hoogle-module {\n",
       "font-weight: bold;\n",
       "}\n",
       ".hoogle-class {\n",
       "font-weight: bold;\n",
       "}\n",
       ".get-type {\n",
       "color: green;\n",
       "font-weight: bold;\n",
       "font-family: monospace;\n",
       "display: block;\n",
       "white-space: pre-wrap;\n",
       "}\n",
       ".show-type {\n",
       "color: green;\n",
       "font-weight: bold;\n",
       "font-family: monospace;\n",
       "margin-left: 1em;\n",
       "}\n",
       ".mono {\n",
       "font-family: monospace;\n",
       "display: block;\n",
       "}\n",
       ".err-msg {\n",
       "color: red;\n",
       "font-style: italic;\n",
       "font-family: monospace;\n",
       "white-space: pre;\n",
       "display: block;\n",
       "}\n",
       "#unshowable {\n",
       "color: red;\n",
       "font-weight: bold;\n",
       "}\n",
       ".err-msg.in.collapse {\n",
       "padding-top: 0.7em;\n",
       "}\n",
       ".highlight-code {\n",
       "white-space: pre;\n",
       "font-family: monospace;\n",
       "}\n",
       ".suggestion-warning { \n",
       "font-weight: bold;\n",
       "color: rgb(200, 130, 0);\n",
       "}\n",
       ".suggestion-error { \n",
       "font-weight: bold;\n",
       "color: red;\n",
       "}\n",
       ".suggestion-name {\n",
       "font-weight: bold;\n",
       "}\n",
       "</style><span class='get-type'>Exception.bracket :: forall a b c. IO a -> (a -> IO b) -> (a -> IO c) -> IO c</span>"
      ],
      "text/plain": [
       "Exception.bracket :: forall a b c. IO a -> (a -> IO b) -> (a -> IO c) -> IO c"
      ]
     },
     "metadata": {},
     "output_type": "display_data"
    },
    {
     "data": {
      "text/html": [
       "<style>/* Styles used for the Hoogle display in the pager */\n",
       ".hoogle-doc {\n",
       "display: block;\n",
       "padding-bottom: 1.3em;\n",
       "padding-left: 0.4em;\n",
       "}\n",
       ".hoogle-code {\n",
       "display: block;\n",
       "font-family: monospace;\n",
       "white-space: pre;\n",
       "}\n",
       ".hoogle-text {\n",
       "display: block;\n",
       "}\n",
       ".hoogle-name {\n",
       "color: green;\n",
       "font-weight: bold;\n",
       "}\n",
       ".hoogle-head {\n",
       "font-weight: bold;\n",
       "}\n",
       ".hoogle-sub {\n",
       "display: block;\n",
       "margin-left: 0.4em;\n",
       "}\n",
       ".hoogle-package {\n",
       "font-weight: bold;\n",
       "font-style: italic;\n",
       "}\n",
       ".hoogle-module {\n",
       "font-weight: bold;\n",
       "}\n",
       ".hoogle-class {\n",
       "font-weight: bold;\n",
       "}\n",
       ".get-type {\n",
       "color: green;\n",
       "font-weight: bold;\n",
       "font-family: monospace;\n",
       "display: block;\n",
       "white-space: pre-wrap;\n",
       "}\n",
       ".show-type {\n",
       "color: green;\n",
       "font-weight: bold;\n",
       "font-family: monospace;\n",
       "margin-left: 1em;\n",
       "}\n",
       ".mono {\n",
       "font-family: monospace;\n",
       "display: block;\n",
       "}\n",
       ".err-msg {\n",
       "color: red;\n",
       "font-style: italic;\n",
       "font-family: monospace;\n",
       "white-space: pre;\n",
       "display: block;\n",
       "}\n",
       "#unshowable {\n",
       "color: red;\n",
       "font-weight: bold;\n",
       "}\n",
       ".err-msg.in.collapse {\n",
       "padding-top: 0.7em;\n",
       "}\n",
       ".highlight-code {\n",
       "white-space: pre;\n",
       "font-family: monospace;\n",
       "}\n",
       ".suggestion-warning { \n",
       "font-weight: bold;\n",
       "color: rgb(200, 130, 0);\n",
       "}\n",
       ".suggestion-error { \n",
       "font-weight: bold;\n",
       "color: red;\n",
       "}\n",
       ".suggestion-name {\n",
       "font-weight: bold;\n",
       "}\n",
       "</style><span class='get-type'>Exception.bracketOnError :: forall a b c. IO a -> (a -> IO b) -> (a -> IO c) -> IO c</span>"
      ],
      "text/plain": [
       "Exception.bracketOnError :: forall a b c. IO a -> (a -> IO b) -> (a -> IO c) -> IO c"
      ]
     },
     "metadata": {},
     "output_type": "display_data"
    }
   ],
   "source": [
    "import qualified Control.Exception as Exception\n",
    "\n",
    ":t Exception.bracket\n",
    ":t Exception.bracketOnError\n",
    "-- bracket과 달리, 2번째 인자 함수는 에러 발생시에만 호출된다.\n",
    "-- bracket의 2번째 인자는 finally 처럼 매번 마지막에 작동된다."
   ]
  },
  {
   "cell_type": "markdown",
   "id": "c4672f2f-6dee-4130-98e3-1df2db86a021",
   "metadata": {},
   "source": [
    "## 커맨드 라인 인자"
   ]
  },
  {
   "cell_type": "code",
   "execution_count": 2,
   "id": "2f5644f5-f6f8-40c1-bb32-399dd5bfa099",
   "metadata": {},
   "outputs": [
    {
     "data": {
      "text/html": [
       "<style>/* Styles used for the Hoogle display in the pager */\n",
       ".hoogle-doc {\n",
       "display: block;\n",
       "padding-bottom: 1.3em;\n",
       "padding-left: 0.4em;\n",
       "}\n",
       ".hoogle-code {\n",
       "display: block;\n",
       "font-family: monospace;\n",
       "white-space: pre;\n",
       "}\n",
       ".hoogle-text {\n",
       "display: block;\n",
       "}\n",
       ".hoogle-name {\n",
       "color: green;\n",
       "font-weight: bold;\n",
       "}\n",
       ".hoogle-head {\n",
       "font-weight: bold;\n",
       "}\n",
       ".hoogle-sub {\n",
       "display: block;\n",
       "margin-left: 0.4em;\n",
       "}\n",
       ".hoogle-package {\n",
       "font-weight: bold;\n",
       "font-style: italic;\n",
       "}\n",
       ".hoogle-module {\n",
       "font-weight: bold;\n",
       "}\n",
       ".hoogle-class {\n",
       "font-weight: bold;\n",
       "}\n",
       ".get-type {\n",
       "color: green;\n",
       "font-weight: bold;\n",
       "font-family: monospace;\n",
       "display: block;\n",
       "white-space: pre-wrap;\n",
       "}\n",
       ".show-type {\n",
       "color: green;\n",
       "font-weight: bold;\n",
       "font-family: monospace;\n",
       "margin-left: 1em;\n",
       "}\n",
       ".mono {\n",
       "font-family: monospace;\n",
       "display: block;\n",
       "}\n",
       ".err-msg {\n",
       "color: red;\n",
       "font-style: italic;\n",
       "font-family: monospace;\n",
       "white-space: pre;\n",
       "display: block;\n",
       "}\n",
       "#unshowable {\n",
       "color: red;\n",
       "font-weight: bold;\n",
       "}\n",
       ".err-msg.in.collapse {\n",
       "padding-top: 0.7em;\n",
       "}\n",
       ".highlight-code {\n",
       "white-space: pre;\n",
       "font-family: monospace;\n",
       "}\n",
       ".suggestion-warning { \n",
       "font-weight: bold;\n",
       "color: rgb(200, 130, 0);\n",
       "}\n",
       ".suggestion-error { \n",
       "font-weight: bold;\n",
       "color: red;\n",
       "}\n",
       ".suggestion-name {\n",
       "font-weight: bold;\n",
       "}\n",
       "</style><span class='get-type'>Env.getArgs :: IO [String]</span>"
      ],
      "text/plain": [
       "Env.getArgs :: IO [String]"
      ]
     },
     "metadata": {},
     "output_type": "display_data"
    },
    {
     "data": {
      "text/html": [
       "<style>/* Styles used for the Hoogle display in the pager */\n",
       ".hoogle-doc {\n",
       "display: block;\n",
       "padding-bottom: 1.3em;\n",
       "padding-left: 0.4em;\n",
       "}\n",
       ".hoogle-code {\n",
       "display: block;\n",
       "font-family: monospace;\n",
       "white-space: pre;\n",
       "}\n",
       ".hoogle-text {\n",
       "display: block;\n",
       "}\n",
       ".hoogle-name {\n",
       "color: green;\n",
       "font-weight: bold;\n",
       "}\n",
       ".hoogle-head {\n",
       "font-weight: bold;\n",
       "}\n",
       ".hoogle-sub {\n",
       "display: block;\n",
       "margin-left: 0.4em;\n",
       "}\n",
       ".hoogle-package {\n",
       "font-weight: bold;\n",
       "font-style: italic;\n",
       "}\n",
       ".hoogle-module {\n",
       "font-weight: bold;\n",
       "}\n",
       ".hoogle-class {\n",
       "font-weight: bold;\n",
       "}\n",
       ".get-type {\n",
       "color: green;\n",
       "font-weight: bold;\n",
       "font-family: monospace;\n",
       "display: block;\n",
       "white-space: pre-wrap;\n",
       "}\n",
       ".show-type {\n",
       "color: green;\n",
       "font-weight: bold;\n",
       "font-family: monospace;\n",
       "margin-left: 1em;\n",
       "}\n",
       ".mono {\n",
       "font-family: monospace;\n",
       "display: block;\n",
       "}\n",
       ".err-msg {\n",
       "color: red;\n",
       "font-style: italic;\n",
       "font-family: monospace;\n",
       "white-space: pre;\n",
       "display: block;\n",
       "}\n",
       "#unshowable {\n",
       "color: red;\n",
       "font-weight: bold;\n",
       "}\n",
       ".err-msg.in.collapse {\n",
       "padding-top: 0.7em;\n",
       "}\n",
       ".highlight-code {\n",
       "white-space: pre;\n",
       "font-family: monospace;\n",
       "}\n",
       ".suggestion-warning { \n",
       "font-weight: bold;\n",
       "color: rgb(200, 130, 0);\n",
       "}\n",
       ".suggestion-error { \n",
       "font-weight: bold;\n",
       "color: red;\n",
       "}\n",
       ".suggestion-name {\n",
       "font-weight: bold;\n",
       "}\n",
       "</style><span class='get-type'>Env.getProgName :: IO String</span>"
      ],
      "text/plain": [
       "Env.getProgName :: IO String"
      ]
     },
     "metadata": {},
     "output_type": "display_data"
    }
   ],
   "source": [
    "import qualified System.Environment as Env\n",
    "\n",
    ":t Env.getArgs\n",
    ":t Env.getProgName"
   ]
  },
  {
   "cell_type": "markdown",
   "id": "ace60d71-008d-4291-8d95-0783578c2063",
   "metadata": {},
   "source": [
    "## 랜덤"
   ]
  },
  {
   "cell_type": "code",
   "execution_count": 4,
   "id": "24420bf7-7465-46fb-91b5-e22c14a68ac3",
   "metadata": {},
   "outputs": [
    {
     "data": {
      "text/html": [
       "<style>/* Styles used for the Hoogle display in the pager */\n",
       ".hoogle-doc {\n",
       "display: block;\n",
       "padding-bottom: 1.3em;\n",
       "padding-left: 0.4em;\n",
       "}\n",
       ".hoogle-code {\n",
       "display: block;\n",
       "font-family: monospace;\n",
       "white-space: pre;\n",
       "}\n",
       ".hoogle-text {\n",
       "display: block;\n",
       "}\n",
       ".hoogle-name {\n",
       "color: green;\n",
       "font-weight: bold;\n",
       "}\n",
       ".hoogle-head {\n",
       "font-weight: bold;\n",
       "}\n",
       ".hoogle-sub {\n",
       "display: block;\n",
       "margin-left: 0.4em;\n",
       "}\n",
       ".hoogle-package {\n",
       "font-weight: bold;\n",
       "font-style: italic;\n",
       "}\n",
       ".hoogle-module {\n",
       "font-weight: bold;\n",
       "}\n",
       ".hoogle-class {\n",
       "font-weight: bold;\n",
       "}\n",
       ".get-type {\n",
       "color: green;\n",
       "font-weight: bold;\n",
       "font-family: monospace;\n",
       "display: block;\n",
       "white-space: pre-wrap;\n",
       "}\n",
       ".show-type {\n",
       "color: green;\n",
       "font-weight: bold;\n",
       "font-family: monospace;\n",
       "margin-left: 1em;\n",
       "}\n",
       ".mono {\n",
       "font-family: monospace;\n",
       "display: block;\n",
       "}\n",
       ".err-msg {\n",
       "color: red;\n",
       "font-style: italic;\n",
       "font-family: monospace;\n",
       "white-space: pre;\n",
       "display: block;\n",
       "}\n",
       "#unshowable {\n",
       "color: red;\n",
       "font-weight: bold;\n",
       "}\n",
       ".err-msg.in.collapse {\n",
       "padding-top: 0.7em;\n",
       "}\n",
       ".highlight-code {\n",
       "white-space: pre;\n",
       "font-family: monospace;\n",
       "}\n",
       ".suggestion-warning { \n",
       "font-weight: bold;\n",
       "color: rgb(200, 130, 0);\n",
       "}\n",
       ".suggestion-error { \n",
       "font-weight: bold;\n",
       "color: red;\n",
       "}\n",
       ".suggestion-name {\n",
       "font-weight: bold;\n",
       "}\n",
       "</style><span class='get-type'>Random.random :: forall a g. (Random a, RandomGen g) => g -> (a, g)</span>"
      ],
      "text/plain": [
       "Random.random :: forall a g. (Random a, RandomGen g) => g -> (a, g)"
      ]
     },
     "metadata": {},
     "output_type": "display_data"
    },
    {
     "data": {
      "text/html": [
       "<style>/* Styles used for the Hoogle display in the pager */\n",
       ".hoogle-doc {\n",
       "display: block;\n",
       "padding-bottom: 1.3em;\n",
       "padding-left: 0.4em;\n",
       "}\n",
       ".hoogle-code {\n",
       "display: block;\n",
       "font-family: monospace;\n",
       "white-space: pre;\n",
       "}\n",
       ".hoogle-text {\n",
       "display: block;\n",
       "}\n",
       ".hoogle-name {\n",
       "color: green;\n",
       "font-weight: bold;\n",
       "}\n",
       ".hoogle-head {\n",
       "font-weight: bold;\n",
       "}\n",
       ".hoogle-sub {\n",
       "display: block;\n",
       "margin-left: 0.4em;\n",
       "}\n",
       ".hoogle-package {\n",
       "font-weight: bold;\n",
       "font-style: italic;\n",
       "}\n",
       ".hoogle-module {\n",
       "font-weight: bold;\n",
       "}\n",
       ".hoogle-class {\n",
       "font-weight: bold;\n",
       "}\n",
       ".get-type {\n",
       "color: green;\n",
       "font-weight: bold;\n",
       "font-family: monospace;\n",
       "display: block;\n",
       "white-space: pre-wrap;\n",
       "}\n",
       ".show-type {\n",
       "color: green;\n",
       "font-weight: bold;\n",
       "font-family: monospace;\n",
       "margin-left: 1em;\n",
       "}\n",
       ".mono {\n",
       "font-family: monospace;\n",
       "display: block;\n",
       "}\n",
       ".err-msg {\n",
       "color: red;\n",
       "font-style: italic;\n",
       "font-family: monospace;\n",
       "white-space: pre;\n",
       "display: block;\n",
       "}\n",
       "#unshowable {\n",
       "color: red;\n",
       "font-weight: bold;\n",
       "}\n",
       ".err-msg.in.collapse {\n",
       "padding-top: 0.7em;\n",
       "}\n",
       ".highlight-code {\n",
       "white-space: pre;\n",
       "font-family: monospace;\n",
       "}\n",
       ".suggestion-warning { \n",
       "font-weight: bold;\n",
       "color: rgb(200, 130, 0);\n",
       "}\n",
       ".suggestion-error { \n",
       "font-weight: bold;\n",
       "color: red;\n",
       "}\n",
       ".suggestion-name {\n",
       "font-weight: bold;\n",
       "}\n",
       "</style><span class='get-type'>Random.mkStdGen :: Int -> StdGen</span>"
      ],
      "text/plain": [
       "Random.mkStdGen :: Int -> StdGen"
      ]
     },
     "metadata": {},
     "output_type": "display_data"
    }
   ],
   "source": [
    "import qualified System.Random as Random\n",
    "\n",
    ":t Random.random\n",
    ":t Random.mkStdGen"
   ]
  },
  {
   "cell_type": "code",
   "execution_count": 10,
   "id": "7bd7e2b4-1cc9-4956-b0fd-1ba3e24761a4",
   "metadata": {},
   "outputs": [
    {
     "data": {
      "text/plain": [
       "(-3633736515773289454,693699796 2103410263)"
      ]
     },
     "metadata": {},
     "output_type": "display_data"
    },
    {
     "data": {
      "text/plain": [
       "(-3633736515773289454,693699796 2103410263)"
      ]
     },
     "metadata": {},
     "output_type": "display_data"
    }
   ],
   "source": [
    "import qualified System.Random as Random\n",
    "\n",
    "Random.random (Random.mkStdGen 100) :: (Int, Random.StdGen)\n",
    "Random.random (Random.mkStdGen 100) :: (Int, Random.StdGen)"
   ]
  },
  {
   "cell_type": "code",
   "execution_count": 12,
   "id": "a4b2e021-cf94-4241-8c40-e6745ed9421e",
   "metadata": {},
   "outputs": [
    {
     "data": {
      "text/plain": [
       "(6642787099209953655,75809027 2103410263)"
      ]
     },
     "metadata": {},
     "output_type": "display_data"
    },
    {
     "data": {
      "text/plain": [
       "(0.7463806,466647808 1655838864)"
      ]
     },
     "metadata": {},
     "output_type": "display_data"
    },
    {
     "data": {
      "text/plain": [
       "(False,1485872359 40692)"
      ]
     },
     "metadata": {},
     "output_type": "display_data"
    },
    {
     "data": {
      "text/plain": [
       "(6642787099209953655,75809027 2103410263)"
      ]
     },
     "metadata": {},
     "output_type": "display_data"
    }
   ],
   "source": [
    "import qualified System.Random as Random\n",
    "\n",
    "Random.random (Random.mkStdGen 949494) :: (Int, Random.StdGen)\n",
    "Random.random (Random.mkStdGen 949494) :: (Float, Random.StdGen)\n",
    "Random.random (Random.mkStdGen 949494) :: (Bool, Random.StdGen)\n",
    "Random.random (Random.mkStdGen 949494) :: (Integer, Random.StdGen)"
   ]
  },
  {
   "cell_type": "code",
   "execution_count": 18,
   "id": "0b177360-1bb0-4f8b-a500-89c9d3b09fee",
   "metadata": {},
   "outputs": [],
   "source": [
    "import qualified System.Random as Random\n",
    "\n",
    "threeCoins :: Random.StdGen -> (Bool, Bool, Bool)\n",
    "threeCoins gen =\n",
    "    let (firstCoin, newGen) = Random.random gen :: (Bool, Random.StdGen)\n",
    "        (secondCoin, newGen') = Random.random newGen :: (Bool, Random.StdGen)\n",
    "        (thirdCoin, newGen'') = Random.random newGen' :: (Bool, Random.StdGen)\n",
    "    in (firstCoin, secondCoin, thirdCoin)"
   ]
  },
  {
   "cell_type": "code",
   "execution_count": 19,
   "id": "c22791a7-fce6-410c-be36-12a56378ae0b",
   "metadata": {},
   "outputs": [
    {
     "data": {
      "text/plain": [
       "(True,True,True)"
      ]
     },
     "metadata": {},
     "output_type": "display_data"
    },
    {
     "data": {
      "text/plain": [
       "(True,False,True)"
      ]
     },
     "metadata": {},
     "output_type": "display_data"
    },
    {
     "data": {
      "text/plain": [
       "(True,False,True)"
      ]
     },
     "metadata": {},
     "output_type": "display_data"
    },
    {
     "data": {
      "text/plain": [
       "(True,True,True)"
      ]
     },
     "metadata": {},
     "output_type": "display_data"
    }
   ],
   "source": [
    "import qualified System.Random as Random\n",
    "\n",
    "threeCoins (Random.mkStdGen 21)\n",
    "threeCoins (Random.mkStdGen 22)\n",
    "threeCoins (Random.mkStdGen 943)\n",
    "threeCoins (Random.mkStdGen 944)"
   ]
  },
  {
   "cell_type": "code",
   "execution_count": 21,
   "id": "1d8f81af-676b-4914-9643-b10de6768308",
   "metadata": {},
   "outputs": [
    {
     "data": {
      "text/plain": [
       "[5260538044923710387,4361398698747678847,-8221315287270277529,7278185606566790575,1652507602255180489]"
      ]
     },
     "metadata": {},
     "output_type": "display_data"
    },
    {
     "data": {
      "text/plain": [
       "[True,True,True,True,False]"
      ]
     },
     "metadata": {},
     "output_type": "display_data"
    },
    {
     "data": {
      "text/plain": [
       "[0.26201087,0.1271351,0.31857032,0.1921351,0.31495118]"
      ]
     },
     "metadata": {},
     "output_type": "display_data"
    }
   ],
   "source": [
    "import qualified System.Random as Random\n",
    "\n",
    "take 5 $ Random.randoms (Random.mkStdGen 11) :: [Int]\n",
    "take 5 $ Random.randoms (Random.mkStdGen 11) :: [Bool]\n",
    "take 5 $ Random.randoms (Random.mkStdGen 11) :: [Float]"
   ]
  },
  {
   "cell_type": "code",
   "execution_count": 32,
   "id": "4b95f1ca-c642-4360-af4b-9d433259a3aa",
   "metadata": {},
   "outputs": [
    {
     "ename": "",
     "evalue": "",
     "header": "MessageHeader {mhIdentifiers = [\"b40fcdc3-48c4-4ef2-ba8f-f6f105f7af32\"], mhParentHeader = Just (MessageHeader {mhIdentifiers = [\"b40fcdc3-48c4-4ef2-ba8f-f6f105f7af32\"], mhParentHeader = Nothing, mhMetadata = Metadata (fromList [(\"recordTiming\",Bool False),(\"deletedCells\",Array []),(\"cellId\",String \"4b95f1ca-c642-4360-af4b-9d433259a3aa\")]), mhMessageId = UUID {uuidToString = \"0380bb78-c359-4f5f-a272-ccfdef1a5c8a\"}, mhSessionId = UUID {uuidToString = \"b40fcdc3-48c4-4ef2-ba8f-f6f105f7af32\"}, mhUsername = \"\", mhMsgType = ExecuteRequestMessage, mhBuffers = []}), mhMetadata = Metadata (fromList []), mhMessageId = UUID {uuidToString = \"2657764d-3ae5-4b15-ba3d-7b007f379245\"}, mhSessionId = UUID {uuidToString = \"b40fcdc3-48c4-4ef2-ba8f-f6f105f7af32\"}, mhUsername = \"\", mhMsgType = ExecuteErrorMessage, mhBuffers = []}",
     "output_type": "error",
     "traceback": [
      "<interactive>:3:27: error:\n    • Could not deduce (Random.RandomGen g0) arising from a use of ‘randoms'’\n      from the context: (Random.RandomGen g, Random.Random a)\n        bound by the type signature for:\n                   randoms' :: forall g a. (Random.RandomGen g, Random.Random a) => g -> [a]\n        at <interactive>:1:1-61\n      The type variable ‘g0’ is ambiguous\n      These potential instance exist: instance Random.RandomGen Random.StdGen -- Defined in ‘System.Random’\n    • In the second argument of ‘(:)’, namely ‘randoms' newGen’\n      In the expression: value : randoms' newGen\n      In the expression: let (value, newGen) = Random.random gen :: (a, g) in value : randoms' newGen\n<interactive>:2:38: error:\n    • Couldn't match type ‘g1’ with ‘g’\n      ‘g1’ is a rigid type variable bound by\n        an expression type signature:\n          forall a2 g1. (a2, g1)\n        at <interactive>:2:59-64\n      ‘g’ is a rigid type variable bound by\n        the type signature for:\n          randoms' :: forall g a. (Random.RandomGen g, Random.Random a) => g -> [a]\n        at <interactive>:1:1-61\n      Expected type: (a2, g1)\n        Actual type: (a2, g)\n    • In the expression: Random.random gen :: (a, g)\n      In a pattern binding: (value, newGen) = Random.random gen :: (a, g)\n      In the expression: let (value, newGen) = Random.random gen :: (a, g) in value : randoms' newGen\n    • Relevant bindings include\n        gen :: g (bound at <interactive>:2:10)\n        randoms' :: g -> [a] (bound at <interactive>:2:1)"
     ]
    }
   ],
   "source": [
    "import qualified System.Random as Random\n",
    "\n",
    "randoms' :: (Random.RandomGen g, Random.Random a) => g -> [a]\n",
    "randoms' gen = let (value, newGen) = Random.random gen :: (a, g)\n",
    "               in value : randoms' newGen"
   ]
  },
  {
   "cell_type": "markdown",
   "id": "b445ad9e-e767-48fb-87e4-9c7d0451d7a8",
   "metadata": {},
   "source": [
    "## thunk, bytestring"
   ]
  },
  {
   "cell_type": "markdown",
   "id": "663c4f4c-5bff-447d-80f4-dd42724c62de",
   "metadata": {},
   "source": [
    "thunk는 기본적으로 지연계산이다. 썽크를 이용하여 필요할 때만 계산하는 느긋함을 부린다."
   ]
  },
  {
   "cell_type": "code",
   "execution_count": 1,
   "id": "358f1f3b-7813-40a0-9003-fdf7420132d8",
   "metadata": {},
   "outputs": [
    {
     "data": {
      "text/plain": [
       "\"can\""
      ]
     },
     "metadata": {},
     "output_type": "display_data"
    },
    {
     "data": {
      "text/plain": [
       "\"bcdefghijklmnopqrstuvwx\""
      ]
     },
     "metadata": {},
     "output_type": "display_data"
    }
   ],
   "source": [
    "import qualified Data.ByteString.Lazy as B  \n",
    "import qualified Data.ByteString as S  \n",
    "\n",
    "B.pack [99,97,110]\n",
    "B.pack [98..120]\n"
   ]
  },
  {
   "cell_type": "code",
   "execution_count": 2,
   "id": "91e6d7b4-4163-4c2b-83a4-86d1d3c5e57d",
   "metadata": {},
   "outputs": [
    {
     "data": {
      "text/plain": [
       "\"bort\""
      ]
     },
     "metadata": {},
     "output_type": "display_data"
    },
    {
     "data": {
      "text/plain": [
       "[98,111,114,116]"
      ]
     },
     "metadata": {},
     "output_type": "display_data"
    }
   ],
   "source": [
    "import qualified Data.ByteString.Lazy as B  \n",
    "import qualified Data.ByteString as S  \n",
    "\n",
    "by = B.pack [98, 111, 114, 116]\n",
    "by\n",
    "B.unpack by"
   ]
  },
  {
   "cell_type": "code",
   "execution_count": 3,
   "id": "2aa2de09-9cf5-47ea-8bf2-9282218e11ae",
   "metadata": {},
   "outputs": [
    {
     "data": {
      "text/plain": [
       "\"()*+,-./0\""
      ]
     },
     "metadata": {},
     "output_type": "display_data"
    }
   ],
   "source": [
    "import qualified Data.ByteString.Lazy as B  \n",
    "import qualified Data.ByteString as S  \n",
    "\n",
    "B.fromChunks [S.pack [40,41,42], S.pack [43,44,45], S.pack [46,47,48]]  "
   ]
  },
  {
   "cell_type": "code",
   "execution_count": 5,
   "id": "a15079b2-49e4-42b1-ba13-d364c38f6663",
   "metadata": {},
   "outputs": [
    {
     "data": {
      "text/plain": [
       "\"UPQRT\""
      ]
     },
     "metadata": {},
     "output_type": "display_data"
    },
    {
     "data": {
      "text/plain": [
       "\"UPQRT\""
      ]
     },
     "metadata": {},
     "output_type": "display_data"
    },
    {
     "data": {
      "text/plain": [
       "\"23456789:;<\""
      ]
     },
     "metadata": {},
     "output_type": "display_data"
    },
    {
     "data": {
      "text/plain": [
       "\"23456789:;<\""
      ]
     },
     "metadata": {},
     "output_type": "display_data"
    }
   ],
   "source": [
    "import qualified Data.ByteString.Lazy as B  \n",
    "import qualified Data.ByteString as S  \n",
    "\n",
    "B.cons 85 $ B.pack [80,81,82,84]  \n",
    "B.cons' 85 $ B.pack [80,81,82,84]  \n",
    "foldr B.cons B.empty [50..60]  \n",
    "foldr B.cons' B.empty [50..60]  "
   ]
  }
 ],
 "metadata": {
  "kernelspec": {
   "display_name": "Haskell",
   "language": "haskell",
   "name": "haskell"
  },
  "language_info": {
   "codemirror_mode": "Haskell",
   "file_extension": ".hs",
   "mimetype": "text/x-haskell",
   "name": "haskell",
   "pygments_lexer": "Haskell",
   "version": "8.10.4"
  }
 },
 "nbformat": 4,
 "nbformat_minor": 5
}
