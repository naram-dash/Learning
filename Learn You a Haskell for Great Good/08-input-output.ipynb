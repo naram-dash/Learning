{
 "cells": [
  {
   "cell_type": "markdown",
   "id": "ff499adf-6634-4a9d-821c-a958a91060e6",
   "metadata": {},
   "source": [
    "# 입력과 출력"
   ]
  },
  {
   "cell_type": "code",
   "execution_count": 4,
   "id": "5be8479e-bc1f-461e-9861-c54bb88f1ef7",
   "metadata": {},
   "outputs": [
    {
     "data": {
      "text/html": [
       "<style>/* Styles used for the Hoogle display in the pager */\n",
       ".hoogle-doc {\n",
       "display: block;\n",
       "padding-bottom: 1.3em;\n",
       "padding-left: 0.4em;\n",
       "}\n",
       ".hoogle-code {\n",
       "display: block;\n",
       "font-family: monospace;\n",
       "white-space: pre;\n",
       "}\n",
       ".hoogle-text {\n",
       "display: block;\n",
       "}\n",
       ".hoogle-name {\n",
       "color: green;\n",
       "font-weight: bold;\n",
       "}\n",
       ".hoogle-head {\n",
       "font-weight: bold;\n",
       "}\n",
       ".hoogle-sub {\n",
       "display: block;\n",
       "margin-left: 0.4em;\n",
       "}\n",
       ".hoogle-package {\n",
       "font-weight: bold;\n",
       "font-style: italic;\n",
       "}\n",
       ".hoogle-module {\n",
       "font-weight: bold;\n",
       "}\n",
       ".hoogle-class {\n",
       "font-weight: bold;\n",
       "}\n",
       ".get-type {\n",
       "color: green;\n",
       "font-weight: bold;\n",
       "font-family: monospace;\n",
       "display: block;\n",
       "white-space: pre-wrap;\n",
       "}\n",
       ".show-type {\n",
       "color: green;\n",
       "font-weight: bold;\n",
       "font-family: monospace;\n",
       "margin-left: 1em;\n",
       "}\n",
       ".mono {\n",
       "font-family: monospace;\n",
       "display: block;\n",
       "}\n",
       ".err-msg {\n",
       "color: red;\n",
       "font-style: italic;\n",
       "font-family: monospace;\n",
       "white-space: pre;\n",
       "display: block;\n",
       "}\n",
       "#unshowable {\n",
       "color: red;\n",
       "font-weight: bold;\n",
       "}\n",
       ".err-msg.in.collapse {\n",
       "padding-top: 0.7em;\n",
       "}\n",
       ".highlight-code {\n",
       "white-space: pre;\n",
       "font-family: monospace;\n",
       "}\n",
       ".suggestion-warning { \n",
       "font-weight: bold;\n",
       "color: rgb(200, 130, 0);\n",
       "}\n",
       ".suggestion-error { \n",
       "font-weight: bold;\n",
       "color: red;\n",
       "}\n",
       ".suggestion-name {\n",
       "font-weight: bold;\n",
       "}\n",
       "</style><span class='get-type'>putStrLn :: String -> IO ()</span>"
      ],
      "text/plain": [
       "putStrLn :: String -> IO ()"
      ]
     },
     "metadata": {},
     "output_type": "display_data"
    },
    {
     "data": {
      "text/html": [
       "<style>/* Styles used for the Hoogle display in the pager */\n",
       ".hoogle-doc {\n",
       "display: block;\n",
       "padding-bottom: 1.3em;\n",
       "padding-left: 0.4em;\n",
       "}\n",
       ".hoogle-code {\n",
       "display: block;\n",
       "font-family: monospace;\n",
       "white-space: pre;\n",
       "}\n",
       ".hoogle-text {\n",
       "display: block;\n",
       "}\n",
       ".hoogle-name {\n",
       "color: green;\n",
       "font-weight: bold;\n",
       "}\n",
       ".hoogle-head {\n",
       "font-weight: bold;\n",
       "}\n",
       ".hoogle-sub {\n",
       "display: block;\n",
       "margin-left: 0.4em;\n",
       "}\n",
       ".hoogle-package {\n",
       "font-weight: bold;\n",
       "font-style: italic;\n",
       "}\n",
       ".hoogle-module {\n",
       "font-weight: bold;\n",
       "}\n",
       ".hoogle-class {\n",
       "font-weight: bold;\n",
       "}\n",
       ".get-type {\n",
       "color: green;\n",
       "font-weight: bold;\n",
       "font-family: monospace;\n",
       "display: block;\n",
       "white-space: pre-wrap;\n",
       "}\n",
       ".show-type {\n",
       "color: green;\n",
       "font-weight: bold;\n",
       "font-family: monospace;\n",
       "margin-left: 1em;\n",
       "}\n",
       ".mono {\n",
       "font-family: monospace;\n",
       "display: block;\n",
       "}\n",
       ".err-msg {\n",
       "color: red;\n",
       "font-style: italic;\n",
       "font-family: monospace;\n",
       "white-space: pre;\n",
       "display: block;\n",
       "}\n",
       "#unshowable {\n",
       "color: red;\n",
       "font-weight: bold;\n",
       "}\n",
       ".err-msg.in.collapse {\n",
       "padding-top: 0.7em;\n",
       "}\n",
       ".highlight-code {\n",
       "white-space: pre;\n",
       "font-family: monospace;\n",
       "}\n",
       ".suggestion-warning { \n",
       "font-weight: bold;\n",
       "color: rgb(200, 130, 0);\n",
       "}\n",
       ".suggestion-error { \n",
       "font-weight: bold;\n",
       "color: red;\n",
       "}\n",
       ".suggestion-name {\n",
       "font-weight: bold;\n",
       "}\n",
       "</style><span class='get-type'>putStrLn \"Hello, world\" :: IO ()</span>"
      ],
      "text/plain": [
       "putStrLn \"Hello, world\" :: IO ()"
      ]
     },
     "metadata": {},
     "output_type": "display_data"
    }
   ],
   "source": [
    ":t putStrLn\n",
    ":t putStrLn \"Hello, world\"\n",
    "-- ()는 빈 튜플이며 Unit이라고 읽는다 () 타입이며, 값도 ()이다"
   ]
  },
  {
   "cell_type": "markdown",
   "id": "b7532c75-8794-4781-8b55-29ae05041a46",
   "metadata": {},
   "source": [
    "IO 작업은 부수적인 작업과 함께 실행되며, 또한 어떤 결과를 나타낸다.\n",
    "\n",
    "IO 작업이 그 결과에 굴복(yield)된다고 말한다.\n",
    "터미널에 문자열을 출력하는 것은 ()의 더미 값이 사용되므로 의미있는 반환값을 갖지 않는다."
   ]
  },
  {
   "cell_type": "markdown",
   "id": "2cbf8afb-a10b-42a3-b7ac-52e3d77ede70",
   "metadata": {},
   "source": [
    "## do notation"
   ]
  },
  {
   "cell_type": "code",
   "execution_count": 8,
   "id": "72d971bc-ad75-4cb8-967c-8fff28768fce",
   "metadata": {},
   "outputs": [
    {
     "data": {
      "text/plain": [
       "Hello, what's your name?\n",
       "Hey Kim Juho, you rock!"
      ]
     },
     "metadata": {},
     "output_type": "display_data"
    }
   ],
   "source": [
    "main = do\n",
    "    putStrLn \"Hello, what's your name?\"\n",
    "    name <- getLine\n",
    "    -- IO작업을 수행한 후, 그 결과값을 name에 바인딩\n",
    "    putStrLn $ \"Hey \" ++ name ++ \", you rock!\"\n",
    "    -- 마지막 작업은 바인딩 할 수 없다. 13장 Monad에서 확인하자.\n",
    "    -- 마지막 작업에서 값을 자동으로 추출하여 그것의 결과를 만든다.\n",
    "    \n",
    "main"
   ]
  },
  {
   "cell_type": "code",
   "execution_count": 9,
   "id": "62478353-4adc-4879-a873-b776ecd9b53a",
   "metadata": {},
   "outputs": [
    {
     "data": {
      "text/html": [
       "<style>/* Styles used for the Hoogle display in the pager */\n",
       ".hoogle-doc {\n",
       "display: block;\n",
       "padding-bottom: 1.3em;\n",
       "padding-left: 0.4em;\n",
       "}\n",
       ".hoogle-code {\n",
       "display: block;\n",
       "font-family: monospace;\n",
       "white-space: pre;\n",
       "}\n",
       ".hoogle-text {\n",
       "display: block;\n",
       "}\n",
       ".hoogle-name {\n",
       "color: green;\n",
       "font-weight: bold;\n",
       "}\n",
       ".hoogle-head {\n",
       "font-weight: bold;\n",
       "}\n",
       ".hoogle-sub {\n",
       "display: block;\n",
       "margin-left: 0.4em;\n",
       "}\n",
       ".hoogle-package {\n",
       "font-weight: bold;\n",
       "font-style: italic;\n",
       "}\n",
       ".hoogle-module {\n",
       "font-weight: bold;\n",
       "}\n",
       ".hoogle-class {\n",
       "font-weight: bold;\n",
       "}\n",
       ".get-type {\n",
       "color: green;\n",
       "font-weight: bold;\n",
       "font-family: monospace;\n",
       "display: block;\n",
       "white-space: pre-wrap;\n",
       "}\n",
       ".show-type {\n",
       "color: green;\n",
       "font-weight: bold;\n",
       "font-family: monospace;\n",
       "margin-left: 1em;\n",
       "}\n",
       ".mono {\n",
       "font-family: monospace;\n",
       "display: block;\n",
       "}\n",
       ".err-msg {\n",
       "color: red;\n",
       "font-style: italic;\n",
       "font-family: monospace;\n",
       "white-space: pre;\n",
       "display: block;\n",
       "}\n",
       "#unshowable {\n",
       "color: red;\n",
       "font-weight: bold;\n",
       "}\n",
       ".err-msg.in.collapse {\n",
       "padding-top: 0.7em;\n",
       "}\n",
       ".highlight-code {\n",
       "white-space: pre;\n",
       "font-family: monospace;\n",
       "}\n",
       ".suggestion-warning { \n",
       "font-weight: bold;\n",
       "color: rgb(200, 130, 0);\n",
       "}\n",
       ".suggestion-error { \n",
       "font-weight: bold;\n",
       "color: red;\n",
       "}\n",
       ".suggestion-name {\n",
       "font-weight: bold;\n",
       "}\n",
       "</style><span class='get-type'>getLine :: IO String</span>"
      ],
      "text/plain": [
       "getLine :: IO String"
      ]
     },
     "metadata": {},
     "output_type": "display_data"
    }
   ],
   "source": [
    ":t getLine"
   ]
  },
  {
   "cell_type": "markdown",
   "id": "72a5bd22-b34f-491a-aa8c-c073f5b72a85",
   "metadata": {},
   "source": [
    "IO 작업의 결과물을 사용하기 위해서는 `<-`를 사용한다.\n",
    "\n",
    "IO 작업에 대한 데이터를 얻으려고 한다면, IO작업 내에 있을 때만 가능하다. 이는 코드의 완전한 부분과 불안전한 부분을 깔끔하게 나누기 위해서 하스켈이 관리하는 방법이다.\n",
    "\n",
    "즉슨, 순수하지 않은 작업은 순수하지 않은 환경에서 하라는 이야기\n",
    "\n",
    "모든 IO작업은 결과를 가지므로, `foo <- putStrLn \"hello~ whats...\"` 와 같이 작성할 수 있으나, foo == ()일것이므로 무의미하다."
   ]
  },
  {
   "cell_type": "code",
   "execution_count": 12,
   "id": "1e684fa6-1088-487f-9c0b-8d1814c15cb0",
   "metadata": {},
   "outputs": [
    {
     "data": {
      "text/html": [
       "<style>/* Styles used for the Hoogle display in the pager */\n",
       ".hoogle-doc {\n",
       "display: block;\n",
       "padding-bottom: 1.3em;\n",
       "padding-left: 0.4em;\n",
       "}\n",
       ".hoogle-code {\n",
       "display: block;\n",
       "font-family: monospace;\n",
       "white-space: pre;\n",
       "}\n",
       ".hoogle-text {\n",
       "display: block;\n",
       "}\n",
       ".hoogle-name {\n",
       "color: green;\n",
       "font-weight: bold;\n",
       "}\n",
       ".hoogle-head {\n",
       "font-weight: bold;\n",
       "}\n",
       ".hoogle-sub {\n",
       "display: block;\n",
       "margin-left: 0.4em;\n",
       "}\n",
       ".hoogle-package {\n",
       "font-weight: bold;\n",
       "font-style: italic;\n",
       "}\n",
       ".hoogle-module {\n",
       "font-weight: bold;\n",
       "}\n",
       ".hoogle-class {\n",
       "font-weight: bold;\n",
       "}\n",
       ".get-type {\n",
       "color: green;\n",
       "font-weight: bold;\n",
       "font-family: monospace;\n",
       "display: block;\n",
       "white-space: pre-wrap;\n",
       "}\n",
       ".show-type {\n",
       "color: green;\n",
       "font-weight: bold;\n",
       "font-family: monospace;\n",
       "margin-left: 1em;\n",
       "}\n",
       ".mono {\n",
       "font-family: monospace;\n",
       "display: block;\n",
       "}\n",
       ".err-msg {\n",
       "color: red;\n",
       "font-style: italic;\n",
       "font-family: monospace;\n",
       "white-space: pre;\n",
       "display: block;\n",
       "}\n",
       "#unshowable {\n",
       "color: red;\n",
       "font-weight: bold;\n",
       "}\n",
       ".err-msg.in.collapse {\n",
       "padding-top: 0.7em;\n",
       "}\n",
       ".highlight-code {\n",
       "white-space: pre;\n",
       "font-family: monospace;\n",
       "}\n",
       ".suggestion-warning { \n",
       "font-weight: bold;\n",
       "color: rgb(200, 130, 0);\n",
       "}\n",
       ".suggestion-error { \n",
       "font-weight: bold;\n",
       "color: red;\n",
       "}\n",
       ".suggestion-name {\n",
       "font-weight: bold;\n",
       "}\n",
       "</style><span class='get-type'>myLine :: IO String</span>"
      ],
      "text/plain": [
       "myLine :: IO String"
      ]
     },
     "metadata": {},
     "output_type": "display_data"
    }
   ],
   "source": [
    "myLine = getLine\n",
    ":t myLine\n",
    "-- IO가 언박싱되지 않는다."
   ]
  },
  {
   "cell_type": "markdown",
   "id": "84016c0e-66c7-4a05-97c1-365eb92020e9",
   "metadata": {},
   "source": [
    "IO 작업은 main의 이름이 주어지거나 do 블록으로 구성된 더 큰 IO작업 내에 있을 떄 수행될 것\n",
    "\n",
    "```\n",
    "01-helloworld.hs:1:1: error:\n",
    "    The IO action ‘main’ is not defined in module ‘Main’\n",
    "  |\n",
    "1 | main1 = putStrLn \"hello, world\"\n",
    "  | ^\n",
    "```"
   ]
  },
  {
   "cell_type": "markdown",
   "id": "e8fd9f8b-6567-4b6c-943e-35d7913795cf",
   "metadata": {},
   "source": [
    "## let in IO"
   ]
  },
  {
   "cell_type": "code",
   "execution_count": 14,
   "id": "5eeca6f6-15aa-4c3d-b29d-1673371d3d8b",
   "metadata": {},
   "outputs": [
    {
     "data": {
      "text/plain": [
       "What's your first name\n",
       "What's your last name\n",
       "hey JUHO KIM, how are you?"
      ]
     },
     "metadata": {},
     "output_type": "display_data"
    }
   ],
   "source": [
    "-- 값과 이름을 바인딩 시키기 위해 let 구문을 사용할 수 있다.\n",
    "\n",
    "import Data.Char\n",
    "\n",
    "main = do\n",
    "    putStrLn \"What's your first name\"\n",
    "    firstName <- getLine\n",
    "    putStrLn \"What's your last name\"\n",
    "    lastName <- getLine\n",
    "    let bigFirstName = map toUpper firstName\n",
    "        bigLastName = map toUpper lastName\n",
    "    putStrLn $ \"hey \" ++ bigFirstName ++ \" \" ++ bigLastName ++ \", how are you?\"\n",
    "    \n",
    "main\n",
    "\n",
    "-- <-는 IO작업을 수행하고 그결과를 이름에 바인딩하는것\n",
    "-- = 는 "
   ]
  },
  {
   "cell_type": "code",
   "execution_count": 16,
   "id": "982a52ac-58a1-41be-9db6-b73ed618ce1e",
   "metadata": {},
   "outputs": [
    {
     "data": {
      "text/plain": [
       "naelc pu no elsia rebmun enin"
      ]
     },
     "metadata": {},
     "output_type": "display_data"
    }
   ],
   "source": [
    "-- 거꾸로 넣기\n",
    "\n",
    "main = do\n",
    "    line <- getLine\n",
    "    if null line\n",
    "    -- if 표현식이 마지막 IO값이므로 then 이던, else이던 IO 값을 나타내야한다.\n",
    "        then return ()\n",
    "        -- return은 인자 값을 IO로 매핑한다\n",
    "        -- 가짜 IO 작업을 만든셈\n",
    "        else do\n",
    "        -- IO 값을 만들기 위해 do notation을 활용한다.\n",
    "            putStrLn $ reverseWords line\n",
    "            -- 출력\n",
    "            main \n",
    "            -- 재귀\n",
    "            -- 현재 main은 do notation을 활용하는, 그 자체로 IO 작업\n",
    "            \n",
    "reverseWords :: String -> String\n",
    "reverseWords = unwords . map reverse . words\n",
    "--unwords : space join와 함께 [String] -> String 함\n",
    "\n",
    "main"
   ]
  },
  {
   "cell_type": "code",
   "execution_count": 17,
   "id": "91df2306-3c37-4bca-ba9c-c01e86cb47e5",
   "metadata": {},
   "outputs": [
    {
     "data": {
      "text/html": [
       "<style>/* Styles used for the Hoogle display in the pager */\n",
       ".hoogle-doc {\n",
       "display: block;\n",
       "padding-bottom: 1.3em;\n",
       "padding-left: 0.4em;\n",
       "}\n",
       ".hoogle-code {\n",
       "display: block;\n",
       "font-family: monospace;\n",
       "white-space: pre;\n",
       "}\n",
       ".hoogle-text {\n",
       "display: block;\n",
       "}\n",
       ".hoogle-name {\n",
       "color: green;\n",
       "font-weight: bold;\n",
       "}\n",
       ".hoogle-head {\n",
       "font-weight: bold;\n",
       "}\n",
       ".hoogle-sub {\n",
       "display: block;\n",
       "margin-left: 0.4em;\n",
       "}\n",
       ".hoogle-package {\n",
       "font-weight: bold;\n",
       "font-style: italic;\n",
       "}\n",
       ".hoogle-module {\n",
       "font-weight: bold;\n",
       "}\n",
       ".hoogle-class {\n",
       "font-weight: bold;\n",
       "}\n",
       ".get-type {\n",
       "color: green;\n",
       "font-weight: bold;\n",
       "font-family: monospace;\n",
       "display: block;\n",
       "white-space: pre-wrap;\n",
       "}\n",
       ".show-type {\n",
       "color: green;\n",
       "font-weight: bold;\n",
       "font-family: monospace;\n",
       "margin-left: 1em;\n",
       "}\n",
       ".mono {\n",
       "font-family: monospace;\n",
       "display: block;\n",
       "}\n",
       ".err-msg {\n",
       "color: red;\n",
       "font-style: italic;\n",
       "font-family: monospace;\n",
       "white-space: pre;\n",
       "display: block;\n",
       "}\n",
       "#unshowable {\n",
       "color: red;\n",
       "font-weight: bold;\n",
       "}\n",
       ".err-msg.in.collapse {\n",
       "padding-top: 0.7em;\n",
       "}\n",
       ".highlight-code {\n",
       "white-space: pre;\n",
       "font-family: monospace;\n",
       "}\n",
       ".suggestion-warning { \n",
       "font-weight: bold;\n",
       "color: rgb(200, 130, 0);\n",
       "}\n",
       ".suggestion-error { \n",
       "font-weight: bold;\n",
       "color: red;\n",
       "}\n",
       ".suggestion-name {\n",
       "font-weight: bold;\n",
       "}\n",
       "</style><span class='get-type'>return :: forall (m :: * -> *) a. Monad m => a -> m a</span>"
      ],
      "text/plain": [
       "return :: forall (m :: * -> *) a. Monad m => a -> m a"
      ]
     },
     "metadata": {},
     "output_type": "display_data"
    }
   ],
   "source": [
    ":t return"
   ]
  },
  {
   "cell_type": "code",
   "execution_count": 18,
   "id": "035f3386-0b99-4582-bacb-0c5d99ff533a",
   "metadata": {},
   "outputs": [
    {
     "data": {
      "text/html": [
       "<style>/* Styles used for the Hoogle display in the pager */\n",
       ".hoogle-doc {\n",
       "display: block;\n",
       "padding-bottom: 1.3em;\n",
       "padding-left: 0.4em;\n",
       "}\n",
       ".hoogle-code {\n",
       "display: block;\n",
       "font-family: monospace;\n",
       "white-space: pre;\n",
       "}\n",
       ".hoogle-text {\n",
       "display: block;\n",
       "}\n",
       ".hoogle-name {\n",
       "color: green;\n",
       "font-weight: bold;\n",
       "}\n",
       ".hoogle-head {\n",
       "font-weight: bold;\n",
       "}\n",
       ".hoogle-sub {\n",
       "display: block;\n",
       "margin-left: 0.4em;\n",
       "}\n",
       ".hoogle-package {\n",
       "font-weight: bold;\n",
       "font-style: italic;\n",
       "}\n",
       ".hoogle-module {\n",
       "font-weight: bold;\n",
       "}\n",
       ".hoogle-class {\n",
       "font-weight: bold;\n",
       "}\n",
       ".get-type {\n",
       "color: green;\n",
       "font-weight: bold;\n",
       "font-family: monospace;\n",
       "display: block;\n",
       "white-space: pre-wrap;\n",
       "}\n",
       ".show-type {\n",
       "color: green;\n",
       "font-weight: bold;\n",
       "font-family: monospace;\n",
       "margin-left: 1em;\n",
       "}\n",
       ".mono {\n",
       "font-family: monospace;\n",
       "display: block;\n",
       "}\n",
       ".err-msg {\n",
       "color: red;\n",
       "font-style: italic;\n",
       "font-family: monospace;\n",
       "white-space: pre;\n",
       "display: block;\n",
       "}\n",
       "#unshowable {\n",
       "color: red;\n",
       "font-weight: bold;\n",
       "}\n",
       ".err-msg.in.collapse {\n",
       "padding-top: 0.7em;\n",
       "}\n",
       ".highlight-code {\n",
       "white-space: pre;\n",
       "font-family: monospace;\n",
       "}\n",
       ".suggestion-warning { \n",
       "font-weight: bold;\n",
       "color: rgb(200, 130, 0);\n",
       "}\n",
       ".suggestion-error { \n",
       "font-weight: bold;\n",
       "color: red;\n",
       "}\n",
       ".suggestion-name {\n",
       "font-weight: bold;\n",
       "}\n",
       "</style><div class=\"suggestion-name\" style=\"clear:both;\">Redundant return</div><div class=\"suggestion-row\" style=\"float: left;\"><div class=\"suggestion-warning\">Found:</div><div class=\"highlight-code\" id=\"haskell\">return ()</div></div><div class=\"suggestion-row\" style=\"float: left;\"><div class=\"suggestion-warning\">Why Not:</div><div class=\"highlight-code\" id=\"haskell\"></div></div><div class=\"suggestion-name\" style=\"clear:both;\">Redundant return</div><div class=\"suggestion-row\" style=\"float: left;\"><div class=\"suggestion-warning\">Found:</div><div class=\"highlight-code\" id=\"haskell\">return \"HAHAHA\"</div></div><div class=\"suggestion-row\" style=\"float: left;\"><div class=\"suggestion-warning\">Why Not:</div><div class=\"highlight-code\" id=\"haskell\"></div></div><div class=\"suggestion-name\" style=\"clear:both;\">Redundant return</div><div class=\"suggestion-row\" style=\"float: left;\"><div class=\"suggestion-warning\">Found:</div><div class=\"highlight-code\" id=\"haskell\">return \"BLAH BLAH BLAH\"</div></div><div class=\"suggestion-row\" style=\"float: left;\"><div class=\"suggestion-warning\">Why Not:</div><div class=\"highlight-code\" id=\"haskell\"></div></div><div class=\"suggestion-name\" style=\"clear:both;\">Redundant return</div><div class=\"suggestion-row\" style=\"float: left;\"><div class=\"suggestion-warning\">Found:</div><div class=\"highlight-code\" id=\"haskell\">return 4</div></div><div class=\"suggestion-row\" style=\"float: left;\"><div class=\"suggestion-warning\">Why Not:</div><div class=\"highlight-code\" id=\"haskell\"></div></div>"
      ],
      "text/plain": [
       "Line 4: Redundant return\n",
       "Found:\n",
       "return ()\n",
       "Why not:\n",
       "Line 5: Redundant return\n",
       "Found:\n",
       "return \"HAHAHA\"\n",
       "Why not:\n",
       "Line 7: Redundant return\n",
       "Found:\n",
       "return \"BLAH BLAH BLAH\"\n",
       "Why not:\n",
       "Line 8: Redundant return\n",
       "Found:\n",
       "return 4\n",
       "Why not:"
      ]
     },
     "metadata": {},
     "output_type": "display_data"
    },
    {
     "data": {
      "text/plain": [
       "$Xt"
      ]
     },
     "metadata": {},
     "output_type": "display_data"
    }
   ],
   "source": [
    "-- 하스켈의 return이 함수를 끝내지는 않는다\n",
    "\n",
    "main = do  \n",
    "    return ()  \n",
    "    return \"HAHAHA\"  \n",
    "    line <- getLine  \n",
    "    return \"BLAH BLAH BLAH\"  \n",
    "    return 4  \n",
    "    putStrLn line  \n",
    "    \n",
    "main"
   ]
  },
  {
   "cell_type": "code",
   "execution_count": 20,
   "id": "57ca80ec-064c-424c-8191-6eb696bca644",
   "metadata": {},
   "outputs": [
    {
     "data": {
      "text/html": [
       "<style>/* Styles used for the Hoogle display in the pager */\n",
       ".hoogle-doc {\n",
       "display: block;\n",
       "padding-bottom: 1.3em;\n",
       "padding-left: 0.4em;\n",
       "}\n",
       ".hoogle-code {\n",
       "display: block;\n",
       "font-family: monospace;\n",
       "white-space: pre;\n",
       "}\n",
       ".hoogle-text {\n",
       "display: block;\n",
       "}\n",
       ".hoogle-name {\n",
       "color: green;\n",
       "font-weight: bold;\n",
       "}\n",
       ".hoogle-head {\n",
       "font-weight: bold;\n",
       "}\n",
       ".hoogle-sub {\n",
       "display: block;\n",
       "margin-left: 0.4em;\n",
       "}\n",
       ".hoogle-package {\n",
       "font-weight: bold;\n",
       "font-style: italic;\n",
       "}\n",
       ".hoogle-module {\n",
       "font-weight: bold;\n",
       "}\n",
       ".hoogle-class {\n",
       "font-weight: bold;\n",
       "}\n",
       ".get-type {\n",
       "color: green;\n",
       "font-weight: bold;\n",
       "font-family: monospace;\n",
       "display: block;\n",
       "white-space: pre-wrap;\n",
       "}\n",
       ".show-type {\n",
       "color: green;\n",
       "font-weight: bold;\n",
       "font-family: monospace;\n",
       "margin-left: 1em;\n",
       "}\n",
       ".mono {\n",
       "font-family: monospace;\n",
       "display: block;\n",
       "}\n",
       ".err-msg {\n",
       "color: red;\n",
       "font-style: italic;\n",
       "font-family: monospace;\n",
       "white-space: pre;\n",
       "display: block;\n",
       "}\n",
       "#unshowable {\n",
       "color: red;\n",
       "font-weight: bold;\n",
       "}\n",
       ".err-msg.in.collapse {\n",
       "padding-top: 0.7em;\n",
       "}\n",
       ".highlight-code {\n",
       "white-space: pre;\n",
       "font-family: monospace;\n",
       "}\n",
       ".suggestion-warning { \n",
       "font-weight: bold;\n",
       "color: rgb(200, 130, 0);\n",
       "}\n",
       ".suggestion-error { \n",
       "font-weight: bold;\n",
       "color: red;\n",
       "}\n",
       ".suggestion-name {\n",
       "font-weight: bold;\n",
       "}\n",
       "</style><div class=\"suggestion-name\" style=\"clear:both;\">Use let</div><div class=\"suggestion-row\" style=\"float: left;\"><div class=\"suggestion-warning\">Found:</div><div class=\"highlight-code\" id=\"haskell\">a <- return \"hell\"</div></div><div class=\"suggestion-row\" style=\"float: left;\"><div class=\"suggestion-warning\">Why Not:</div><div class=\"highlight-code\" id=\"haskell\">let a = \"hell\"</div></div><div class=\"suggestion-name\" style=\"clear:both;\">Use let</div><div class=\"suggestion-row\" style=\"float: left;\"><div class=\"suggestion-warning\">Found:</div><div class=\"highlight-code\" id=\"haskell\">b <- return \"yeah!\"</div></div><div class=\"suggestion-row\" style=\"float: left;\"><div class=\"suggestion-warning\">Why Not:</div><div class=\"highlight-code\" id=\"haskell\">let b = \"yeah!\"</div></div>"
      ],
      "text/plain": [
       "Line 4: Use let\n",
       "Found:\n",
       "a <- return \"hell\"\n",
       "Why not:\n",
       "let a = \"hell\"Line 5: Use let\n",
       "Found:\n",
       "b <- return \"yeah!\"\n",
       "Why not:\n",
       "let b = \"yeah!\""
      ]
     },
     "metadata": {},
     "output_type": "display_data"
    },
    {
     "data": {
      "text/plain": [
       "hell yeah!"
      ]
     },
     "metadata": {},
     "output_type": "display_data"
    }
   ],
   "source": [
    "-- return은 IO 매핑을 위하여 사용될 수 있다.\n",
    "\n",
    "main = do  \n",
    "    a <- return \"hell\"  \n",
    "    b <- return \"yeah!\"  \n",
    "    putStrLn $ a ++ \" \" ++ b  \n",
    "    \n",
    "main"
   ]
  },
  {
   "cell_type": "code",
   "execution_count": 22,
   "id": "7c81b72a-7dad-463a-9d56-dbbb49bd8fe2",
   "metadata": {},
   "outputs": [
    {
     "data": {
      "text/plain": [
       "hell yeah"
      ]
     },
     "metadata": {},
     "output_type": "display_data"
    }
   ],
   "source": [
    "main = do  \n",
    "    let a = \"hell\"  \n",
    "        b = \"yeah\"  \n",
    "    putStrLn $ a ++ \" \" ++ b  \n",
    "main"
   ]
  },
  {
   "cell_type": "markdown",
   "id": "5a3266c0-c34e-4d46-8788-2e9d2ed1cfe5",
   "metadata": {},
   "source": [
    "## IO 함수들"
   ]
  },
  {
   "cell_type": "code",
   "execution_count": 24,
   "id": "e58053c2-3908-4017-b539-20686a004aec",
   "metadata": {},
   "outputs": [
    {
     "data": {
      "text/plain": [
       "Hey, I'm Andy!"
      ]
     },
     "metadata": {},
     "output_type": "display_data"
    }
   ],
   "source": [
    "main = do   putStr \"Hey, \"  \n",
    "            putStr \"I'm \"  \n",
    "            putStrLn \"Andy!\"   \n",
    "main"
   ]
  },
  {
   "cell_type": "code",
   "execution_count": 25,
   "id": "990fefe6-88bf-46b5-906e-4f9965338da6",
   "metadata": {},
   "outputs": [
    {
     "data": {
      "text/plain": [
       "teh"
      ]
     },
     "metadata": {},
     "output_type": "display_data"
    }
   ],
   "source": [
    "main = do   putChar 't'  \n",
    "            putChar 'e'  \n",
    "            putChar 'h'  \n",
    "main"
   ]
  },
  {
   "cell_type": "code",
   "execution_count": 27,
   "id": "fb2fa3a5-c4a3-4c63-8712-7d532f56658a",
   "metadata": {},
   "outputs": [
    {
     "data": {
      "text/plain": [
       "True\n",
       "2\n",
       "\"haha\"\n",
       "3.2\n",
       "[3,4,3]"
      ]
     },
     "metadata": {},
     "output_type": "display_data"
    }
   ],
   "source": [
    "main = do   print True  \n",
    "            print 2  \n",
    "            print \"haha\"  \n",
    "            print 3.2  \n",
    "            print [3,4,3]  \n",
    "main"
   ]
  },
  {
   "cell_type": "code",
   "execution_count": 31,
   "id": "a39b7d60-fe04-465e-87a4-a89585e00840",
   "metadata": {},
   "outputs": [
    {
     "data": {
      "text/plain": [
       "\n",
       "y\n",
       "e\n",
       "s"
      ]
     },
     "metadata": {},
     "output_type": "display_data"
    }
   ],
   "source": [
    "import qualified Control.Monad as Monad\n",
    "  \n",
    "main = do  \n",
    "    c <- getChar  \n",
    "    Monad.when (c /= ' ') $ do  \n",
    "    -- 흐름제어 구문처럼 보이지만 일반적인 함수\n",
    "    -- Bool 과 IO 작업을 받아 Bool이 True 이면 제공받은 IO 작업을 반환하며, False일 때는 return ()를 반환\n",
    "        putChar c  \n",
    "        main \n",
    "        --재귀\n",
    "main"
   ]
  },
  {
   "cell_type": "code",
   "execution_count": 34,
   "id": "b8001505-d69b-4aec-98cc-120417ee6676",
   "metadata": {},
   "outputs": [
    {
     "data": {
      "text/plain": [
       "[\"1\",\"2\",\"3\"]"
      ]
     },
     "metadata": {},
     "output_type": "display_data"
    }
   ],
   "source": [
    "main = do  \n",
    "    rs <- sequence [getLine, getLine, getLine]  \n",
    "    -- IO 작업 리스트를 하나씩 **실행**한 결과 리스트로 만드는 것\n",
    "    -- 단순히 map print [1,2,3,4] 는 IO 리스트를 만들뿐, 결과가 나오진 않음\n",
    "    print rs  \n",
    "main"
   ]
  },
  {
   "cell_type": "code",
   "execution_count": 35,
   "id": "d120f35b-244b-448c-872c-f38fc5771730",
   "metadata": {},
   "outputs": [
    {
     "data": {
      "text/html": [
       "<style>/* Styles used for the Hoogle display in the pager */\n",
       ".hoogle-doc {\n",
       "display: block;\n",
       "padding-bottom: 1.3em;\n",
       "padding-left: 0.4em;\n",
       "}\n",
       ".hoogle-code {\n",
       "display: block;\n",
       "font-family: monospace;\n",
       "white-space: pre;\n",
       "}\n",
       ".hoogle-text {\n",
       "display: block;\n",
       "}\n",
       ".hoogle-name {\n",
       "color: green;\n",
       "font-weight: bold;\n",
       "}\n",
       ".hoogle-head {\n",
       "font-weight: bold;\n",
       "}\n",
       ".hoogle-sub {\n",
       "display: block;\n",
       "margin-left: 0.4em;\n",
       "}\n",
       ".hoogle-package {\n",
       "font-weight: bold;\n",
       "font-style: italic;\n",
       "}\n",
       ".hoogle-module {\n",
       "font-weight: bold;\n",
       "}\n",
       ".hoogle-class {\n",
       "font-weight: bold;\n",
       "}\n",
       ".get-type {\n",
       "color: green;\n",
       "font-weight: bold;\n",
       "font-family: monospace;\n",
       "display: block;\n",
       "white-space: pre-wrap;\n",
       "}\n",
       ".show-type {\n",
       "color: green;\n",
       "font-weight: bold;\n",
       "font-family: monospace;\n",
       "margin-left: 1em;\n",
       "}\n",
       ".mono {\n",
       "font-family: monospace;\n",
       "display: block;\n",
       "}\n",
       ".err-msg {\n",
       "color: red;\n",
       "font-style: italic;\n",
       "font-family: monospace;\n",
       "white-space: pre;\n",
       "display: block;\n",
       "}\n",
       "#unshowable {\n",
       "color: red;\n",
       "font-weight: bold;\n",
       "}\n",
       ".err-msg.in.collapse {\n",
       "padding-top: 0.7em;\n",
       "}\n",
       ".highlight-code {\n",
       "white-space: pre;\n",
       "font-family: monospace;\n",
       "}\n",
       ".suggestion-warning { \n",
       "font-weight: bold;\n",
       "color: rgb(200, 130, 0);\n",
       "}\n",
       ".suggestion-error { \n",
       "font-weight: bold;\n",
       "color: red;\n",
       "}\n",
       ".suggestion-name {\n",
       "font-weight: bold;\n",
       "}\n",
       "</style><div class=\"suggestion-name\" style=\"clear:both;\">Use mapM</div><div class=\"suggestion-row\" style=\"float: left;\"><div class=\"suggestion-warning\">Found:</div><div class=\"highlight-code\" id=\"haskell\">sequence $ map print [1, 2, 3, 4]</div></div><div class=\"suggestion-row\" style=\"float: left;\"><div class=\"suggestion-warning\">Why Not:</div><div class=\"highlight-code\" id=\"haskell\">mapM print [1, 2, 3, 4]</div></div>"
      ],
      "text/plain": [
       "Line 1: Use mapM\n",
       "Found:\n",
       "sequence $ map print [1, 2, 3, 4]\n",
       "Why not:\n",
       "mapM print [1, 2, 3, 4]"
      ]
     },
     "metadata": {},
     "output_type": "display_data"
    },
    {
     "data": {
      "text/plain": [
       "1\n",
       "2\n",
       "3\n",
       "4\n",
       "[(),(),(),()]"
      ]
     },
     "metadata": {},
     "output_type": "display_data"
    }
   ],
   "source": [
    "sequence $ map print [1,2,3,4]"
   ]
  },
  {
   "cell_type": "code",
   "execution_count": 38,
   "id": "f051057b-44d2-426b-a12d-b1de9558ecaa",
   "metadata": {},
   "outputs": [
    {
     "data": {
      "text/plain": [
       "1\n",
       "2\n",
       "3\n",
       "[(),(),()]"
      ]
     },
     "metadata": {},
     "output_type": "display_data"
    },
    {
     "data": {
      "text/plain": [
       "1\n",
       "2\n",
       "3"
      ]
     },
     "metadata": {},
     "output_type": "display_data"
    }
   ],
   "source": [
    "mapM print [1,2,3]  \n",
    "-- 1) IO 작업을 반환하는 함수를 리스트에 매핑한 후\n",
    "-- 2) 시퀀싱(sequence) 하는 것\n",
    "-- 이 일반적이므로 mapM이 그것을 한다. (유틸리티 함수)\n",
    "mapM_ print [1,2,3]  -- 뒤에 값을 버림"
   ]
  },
  {
   "cell_type": "code",
   "execution_count": null,
   "id": "37eab3dc-3cec-4d98-ae94-e8efdc502473",
   "metadata": {},
   "outputs": [
    {
     "data": {
      "text/plain": [
       "Give me some input: 1\n",
       "Give me some input: 1\n",
       "Give me some input: 1\n",
       "Give me some input: 1\n",
       "Give me some input: 1\n",
       "Give me some input: 2\n",
       "Give me some input: Press Ctrl-C again to quit kernel."
      ]
     },
     "metadata": {},
     "output_type": "display_data"
    }
   ],
   "source": [
    "import qualified Control.Monad as Monad\n",
    "import qualified Data.Char as Char\n",
    "  \n",
    "main = Monad.forever $ do  \n",
    "    -- IO 작업을 받아서 영원히 해당 작업을 반복함\n",
    "    putStr \"Give me some input: \"  \n",
    "    l <- getLine  \n",
    "    putStrLn $ map Char.toUpper l  \n",
    "    \n",
    "main"
   ]
  },
  {
   "cell_type": "code",
   "execution_count": 1,
   "id": "374382da-c7b4-480c-a2a2-4c71ba3f27c2",
   "metadata": {},
   "outputs": [
    {
     "data": {
      "text/html": [
       "<style>/* Styles used for the Hoogle display in the pager */\n",
       ".hoogle-doc {\n",
       "display: block;\n",
       "padding-bottom: 1.3em;\n",
       "padding-left: 0.4em;\n",
       "}\n",
       ".hoogle-code {\n",
       "display: block;\n",
       "font-family: monospace;\n",
       "white-space: pre;\n",
       "}\n",
       ".hoogle-text {\n",
       "display: block;\n",
       "}\n",
       ".hoogle-name {\n",
       "color: green;\n",
       "font-weight: bold;\n",
       "}\n",
       ".hoogle-head {\n",
       "font-weight: bold;\n",
       "}\n",
       ".hoogle-sub {\n",
       "display: block;\n",
       "margin-left: 0.4em;\n",
       "}\n",
       ".hoogle-package {\n",
       "font-weight: bold;\n",
       "font-style: italic;\n",
       "}\n",
       ".hoogle-module {\n",
       "font-weight: bold;\n",
       "}\n",
       ".hoogle-class {\n",
       "font-weight: bold;\n",
       "}\n",
       ".get-type {\n",
       "color: green;\n",
       "font-weight: bold;\n",
       "font-family: monospace;\n",
       "display: block;\n",
       "white-space: pre-wrap;\n",
       "}\n",
       ".show-type {\n",
       "color: green;\n",
       "font-weight: bold;\n",
       "font-family: monospace;\n",
       "margin-left: 1em;\n",
       "}\n",
       ".mono {\n",
       "font-family: monospace;\n",
       "display: block;\n",
       "}\n",
       ".err-msg {\n",
       "color: red;\n",
       "font-style: italic;\n",
       "font-family: monospace;\n",
       "white-space: pre;\n",
       "display: block;\n",
       "}\n",
       "#unshowable {\n",
       "color: red;\n",
       "font-weight: bold;\n",
       "}\n",
       ".err-msg.in.collapse {\n",
       "padding-top: 0.7em;\n",
       "}\n",
       ".highlight-code {\n",
       "white-space: pre;\n",
       "font-family: monospace;\n",
       "}\n",
       ".suggestion-warning { \n",
       "font-weight: bold;\n",
       "color: rgb(200, 130, 0);\n",
       "}\n",
       ".suggestion-error { \n",
       "font-weight: bold;\n",
       "color: red;\n",
       "}\n",
       ".suggestion-name {\n",
       "font-weight: bold;\n",
       "}\n",
       "</style><div class=\"suggestion-name\" style=\"clear:both;\">Redundant return</div><div class=\"suggestion-row\" style=\"float: left;\"><div class=\"suggestion-warning\">Found:</div><div class=\"highlight-code\" id=\"haskell\">do putStrLn\n",
       "     $ \"Which color do you associate with the number \" ++ show a ++ \"?\"\n",
       "   color <- getLine\n",
       "   return color</div></div><div class=\"suggestion-row\" style=\"float: left;\"><div class=\"suggestion-warning\">Why Not:</div><div class=\"highlight-code\" id=\"haskell\">do putStrLn\n",
       "     $ \"Which color do you associate with the number \" ++ show a ++ \"?\"\n",
       "   getLine</div></div>"
      ],
      "text/plain": [
       "Line 4: Redundant return\n",
       "Found:\n",
       "do putStrLn\n",
       "     $ \"Which color do you associate with the number \" ++ show a ++ \"?\"\n",
       "   color <- getLine\n",
       "   return color\n",
       "Why not:\n",
       "do putStrLn\n",
       "     $ \"Which color do you associate with the number \" ++ show a ++ \"?\"\n",
       "   getLine"
      ]
     },
     "metadata": {},
     "output_type": "display_data"
    },
    {
     "data": {
      "text/plain": [
       "Which color do you associate with the number 1?\n",
       "Which color do you associate with the number 2?\n",
       "Which color do you associate with the number 3?\n",
       "Which color do you associate with the number 4?\n",
       "The colors that you associate with 1, 2, 3 and 4 are: \n",
       "red\n",
       "blue\n",
       "white\n",
       "black\n",
       "[(),(),(),()]"
      ]
     },
     "metadata": {},
     "output_type": "display_data"
    }
   ],
   "source": [
    "import qualified Control.Monad as Monad\n",
    "  \n",
    "main = do   \n",
    "    colors <- Monad.forM [1,2,3,4] (\\a -> do  \n",
    "    -- mapM과 매개변수 순서가 반대인 함수\n",
    "    -- 함수가 2번째로 오기 때문에, 람다 표기법을 더 이쁘게 쓸 수 있음\n",
    "        putStrLn $ \"Which color do you associate with the number \" ++ show a ++ \"?\"  \n",
    "        color <- getLine  \n",
    "        return color)  \n",
    "    putStrLn \"The colors that you associate with 1, 2, 3 and 4 are: \"  \n",
    "    Monad.mapM putStrLn colors  \n",
    "    \n",
    "main"
   ]
  },
  {
   "cell_type": "markdown",
   "id": "3ae05aff-ed38-42a9-a3b5-01a075f2a9f4",
   "metadata": {},
   "source": [
    "## Review\n",
    "\n",
    "IO 작업은 값이며, 하스켈의 다른 값과 유사하다.\n",
    "\n",
    "IO 작업을 매개변수처럼 함수에 전달할 수 있으며, 함수는 처리 결과로 I/O 작업을 반환할 수 있다.\n",
    "\n",
    "예외로 main 함수이거나 GHCi에서는 동작한다."
   ]
  }
 ],
 "metadata": {
  "kernelspec": {
   "display_name": "Haskell",
   "language": "haskell",
   "name": "haskell"
  },
  "language_info": {
   "codemirror_mode": "Haskell",
   "file_extension": ".hs",
   "mimetype": "text/x-haskell",
   "name": "haskell",
   "pygments_lexer": "Haskell",
   "version": "8.10.4"
  }
 },
 "nbformat": 4,
 "nbformat_minor": 5
}
