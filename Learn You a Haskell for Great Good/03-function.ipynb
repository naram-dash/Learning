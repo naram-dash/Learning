{
 "cells": [
  {
   "cell_type": "markdown",
   "id": "615ff4fc-7c13-45cd-9d1e-1420afbd835b",
   "metadata": {},
   "source": [
    "# 03 함수의 구문"
   ]
  },
  {
   "cell_type": "markdown",
   "id": "fee4bf7c-2ea4-47a7-96dc-88837726503a",
   "metadata": {},
   "source": [
    "## 패턴 매칭"
   ]
  },
  {
   "cell_type": "code",
   "execution_count": 2,
   "id": "6dd3d348-8ee1-4f9a-a2a0-1e2a74ee9f06",
   "metadata": {},
   "outputs": [],
   "source": [
    "lucky :: Int -> String\n",
    "lucky 7 = \"Lucky NUMBER SEVEN!\"\n",
    "lucky x = \"Sorry, youre out of luck pal!\""
   ]
  },
  {
   "cell_type": "code",
   "execution_count": 4,
   "id": "c08ef5d9-91a8-4008-80c1-f4afca7d75d4",
   "metadata": {},
   "outputs": [
    {
     "data": {
      "text/plain": [
       "\"Lucky NUMBER SEVEN!\""
      ]
     },
     "metadata": {},
     "output_type": "display_data"
    },
    {
     "ename": "",
     "evalue": "",
     "header": "MessageHeader {mhIdentifiers = [\"7041b851-ada6-4c82-b597-67d51b4b4545\"], mhParentHeader = Just (MessageHeader {mhIdentifiers = [\"7041b851-ada6-4c82-b597-67d51b4b4545\"], mhParentHeader = Nothing, mhMetadata = Metadata (fromList [(\"recordTiming\",Bool False),(\"deletedCells\",Array []),(\"cellId\",String \"c08ef5d9-91a8-4008-80c1-f4afca7d75d4\")]), mhMessageId = UUID {uuidToString = \"1f01ab29-2c60-48ff-b794-0d81b112aa8e\"}, mhSessionId = UUID {uuidToString = \"7041b851-ada6-4c82-b597-67d51b4b4545\"}, mhUsername = \"\", mhMsgType = ExecuteRequestMessage, mhBuffers = []}), mhMetadata = Metadata (fromList []), mhMessageId = UUID {uuidToString = \"217bc3ea-97a5-4450-80a5-4b34c27775a0\"}, mhSessionId = UUID {uuidToString = \"7041b851-ada6-4c82-b597-67d51b4b4545\"}, mhUsername = \"\", mhMsgType = ExecuteErrorMessage, mhBuffers = []}",
     "output_type": "error",
     "traceback": [
      "<interactive>:1:7: error: Variable not in scope: x :: Int"
     ]
    }
   ],
   "source": [
    "lucky 7\n",
    "lucky x"
   ]
  },
  {
   "cell_type": "code",
   "execution_count": 5,
   "id": "e19d0305-8b89-4e8e-989c-906ef50c35cc",
   "metadata": {},
   "outputs": [],
   "source": [
    "sayMe :: Int -> String\n",
    "sayMe 1 = \"One!\"\n",
    "sayMe 2 = \"Two!\"\n",
    "sayMe 3 = \"Three!\"\n",
    "sayMe 4 = \"Four!\"\n",
    "sayMe 5 = \"Five!\"\n",
    "sayMe x = \"Not between 1 and 5\""
   ]
  },
  {
   "cell_type": "code",
   "execution_count": 6,
   "id": "dcc013a0-405a-43a4-8e5d-472f772724eb",
   "metadata": {},
   "outputs": [],
   "source": [
    "factorial :: Int -> Int\n",
    "factorial 0 = 1\n",
    "factorial n = n * factorial (n - 1)"
   ]
  },
  {
   "cell_type": "code",
   "execution_count": 8,
   "id": "1b658091-4b65-4327-bdf1-130f1f2cbfac",
   "metadata": {},
   "outputs": [],
   "source": [
    "charName :: Char -> String\n",
    "charName 'a' = \"Albert\"\n",
    "charName 'b' = \"Broseph\"\n",
    "charName 'c' = \"Cecil\""
   ]
  },
  {
   "cell_type": "code",
   "execution_count": 9,
   "id": "027503eb-66f9-4ccc-b859-dfe70ed79824",
   "metadata": {},
   "outputs": [
    {
     "ename": "",
     "evalue": "",
     "header": "MessageHeader {mhIdentifiers = [\"7041b851-ada6-4c82-b597-67d51b4b4545\"], mhParentHeader = Just (MessageHeader {mhIdentifiers = [\"7041b851-ada6-4c82-b597-67d51b4b4545\"], mhParentHeader = Nothing, mhMetadata = Metadata (fromList [(\"recordTiming\",Bool False),(\"deletedCells\",Array []),(\"cellId\",String \"027503eb-66f9-4ccc-b859-dfe70ed79824\")]), mhMessageId = UUID {uuidToString = \"0d61e167-22bf-406c-8978-2c45114c6c6b\"}, mhSessionId = UUID {uuidToString = \"7041b851-ada6-4c82-b597-67d51b4b4545\"}, mhUsername = \"\", mhMsgType = ExecuteRequestMessage, mhBuffers = []}), mhMetadata = Metadata (fromList []), mhMessageId = UUID {uuidToString = \"627ee520-e476-4557-ac25-fff4d573b2b4\"}, mhSessionId = UUID {uuidToString = \"7041b851-ada6-4c82-b597-67d51b4b4545\"}, mhUsername = \"\", mhMsgType = ExecuteErrorMessage, mhBuffers = []}",
     "output_type": "error",
     "traceback": [
      "<interactive>:(2,1)-(4,22): Non-exhaustive patterns in function charName"
     ]
    }
   ],
   "source": [
    "charName 'h'"
   ]
  },
  {
   "cell_type": "code",
   "execution_count": 10,
   "id": "77b97511-b41e-449a-bd58-eac6a5bb7544",
   "metadata": {},
   "outputs": [],
   "source": [
    "addVectors :: (Double, Double) -> (Double, Double) -> (Double, Double)\n",
    "addVectors (x1, y1) (x2, y2) = (x1 + x2, y1 + y2)"
   ]
  },
  {
   "cell_type": "code",
   "execution_count": 11,
   "id": "9824de50-bfbe-4c44-83fe-ac38f766ccc8",
   "metadata": {},
   "outputs": [
    {
     "data": {
      "text/html": [
       "<style>/* Styles used for the Hoogle display in the pager */\n",
       ".hoogle-doc {\n",
       "display: block;\n",
       "padding-bottom: 1.3em;\n",
       "padding-left: 0.4em;\n",
       "}\n",
       ".hoogle-code {\n",
       "display: block;\n",
       "font-family: monospace;\n",
       "white-space: pre;\n",
       "}\n",
       ".hoogle-text {\n",
       "display: block;\n",
       "}\n",
       ".hoogle-name {\n",
       "color: green;\n",
       "font-weight: bold;\n",
       "}\n",
       ".hoogle-head {\n",
       "font-weight: bold;\n",
       "}\n",
       ".hoogle-sub {\n",
       "display: block;\n",
       "margin-left: 0.4em;\n",
       "}\n",
       ".hoogle-package {\n",
       "font-weight: bold;\n",
       "font-style: italic;\n",
       "}\n",
       ".hoogle-module {\n",
       "font-weight: bold;\n",
       "}\n",
       ".hoogle-class {\n",
       "font-weight: bold;\n",
       "}\n",
       ".get-type {\n",
       "color: green;\n",
       "font-weight: bold;\n",
       "font-family: monospace;\n",
       "display: block;\n",
       "white-space: pre-wrap;\n",
       "}\n",
       ".show-type {\n",
       "color: green;\n",
       "font-weight: bold;\n",
       "font-family: monospace;\n",
       "margin-left: 1em;\n",
       "}\n",
       ".mono {\n",
       "font-family: monospace;\n",
       "display: block;\n",
       "}\n",
       ".err-msg {\n",
       "color: red;\n",
       "font-style: italic;\n",
       "font-family: monospace;\n",
       "white-space: pre;\n",
       "display: block;\n",
       "}\n",
       "#unshowable {\n",
       "color: red;\n",
       "font-weight: bold;\n",
       "}\n",
       ".err-msg.in.collapse {\n",
       "padding-top: 0.7em;\n",
       "}\n",
       ".highlight-code {\n",
       "white-space: pre;\n",
       "font-family: monospace;\n",
       "}\n",
       ".suggestion-warning { \n",
       "font-weight: bold;\n",
       "color: rgb(200, 130, 0);\n",
       "}\n",
       ".suggestion-error { \n",
       "font-weight: bold;\n",
       "color: red;\n",
       "}\n",
       ".suggestion-name {\n",
       "font-weight: bold;\n",
       "}\n",
       "</style><span class='get-type'>addVectors :: (Double, Double) -> (Double, Double) -> (Double, Double)</span>"
      ],
      "text/plain": [
       "addVectors :: (Double, Double) -> (Double, Double) -> (Double, Double)"
      ]
     },
     "metadata": {},
     "output_type": "display_data"
    }
   ],
   "source": [
    ":t addVectors"
   ]
  },
  {
   "cell_type": "code",
   "execution_count": 13,
   "id": "fb47d47c-1ec1-4a19-b23f-568ae5157181",
   "metadata": {},
   "outputs": [],
   "source": [
    "first :: (a,b,c) -> a\n",
    "first (x, _, _) = x\n",
    "\n",
    "second :: (a,b,c) -> b\n",
    "second (_, y, _) = y\n",
    "\n",
    "third :: (a,b,c) -> c\n",
    "third (_, _, z) = z"
   ]
  },
  {
   "cell_type": "code",
   "execution_count": 14,
   "id": "991fd31c-aa51-4253-bf59-b54a2a9c6568",
   "metadata": {},
   "outputs": [
    {
     "data": {
      "text/plain": [
       "[4,7,6,8,11,4]"
      ]
     },
     "metadata": {},
     "output_type": "display_data"
    }
   ],
   "source": [
    "xs = [(1,3), (4,3), (2,4), (5,3), (5,6), (3,1)]\n",
    "[a + b | (a,b) <- xs]"
   ]
  },
  {
   "cell_type": "code",
   "execution_count": 16,
   "id": "9e6028e0-58b4-4544-b0b1-6ee63719e4f5",
   "metadata": {},
   "outputs": [],
   "source": [
    "head' :: [a] -> a\n",
    "head' [] = error \"Cant call head on an empty list, dummy!\"\n",
    "head' (x:_) = x"
   ]
  },
  {
   "cell_type": "code",
   "execution_count": 17,
   "id": "a8097989-76d3-4e04-8ab7-28a90a4c9b78",
   "metadata": {},
   "outputs": [
    {
     "data": {
      "text/plain": [
       "4"
      ]
     },
     "metadata": {},
     "output_type": "display_data"
    },
    {
     "data": {
      "text/plain": [
       "'H'"
      ]
     },
     "metadata": {},
     "output_type": "display_data"
    }
   ],
   "source": [
    "head' [4,5,6]\n",
    "head' \"Hello\""
   ]
  },
  {
   "cell_type": "code",
   "execution_count": 21,
   "id": "c3da50ab-ce79-467c-bd6c-99832611986d",
   "metadata": {},
   "outputs": [
    {
     "data": {
      "text/html": [
       "<style>/* Styles used for the Hoogle display in the pager */\n",
       ".hoogle-doc {\n",
       "display: block;\n",
       "padding-bottom: 1.3em;\n",
       "padding-left: 0.4em;\n",
       "}\n",
       ".hoogle-code {\n",
       "display: block;\n",
       "font-family: monospace;\n",
       "white-space: pre;\n",
       "}\n",
       ".hoogle-text {\n",
       "display: block;\n",
       "}\n",
       ".hoogle-name {\n",
       "color: green;\n",
       "font-weight: bold;\n",
       "}\n",
       ".hoogle-head {\n",
       "font-weight: bold;\n",
       "}\n",
       ".hoogle-sub {\n",
       "display: block;\n",
       "margin-left: 0.4em;\n",
       "}\n",
       ".hoogle-package {\n",
       "font-weight: bold;\n",
       "font-style: italic;\n",
       "}\n",
       ".hoogle-module {\n",
       "font-weight: bold;\n",
       "}\n",
       ".hoogle-class {\n",
       "font-weight: bold;\n",
       "}\n",
       ".get-type {\n",
       "color: green;\n",
       "font-weight: bold;\n",
       "font-family: monospace;\n",
       "display: block;\n",
       "white-space: pre-wrap;\n",
       "}\n",
       ".show-type {\n",
       "color: green;\n",
       "font-weight: bold;\n",
       "font-family: monospace;\n",
       "margin-left: 1em;\n",
       "}\n",
       ".mono {\n",
       "font-family: monospace;\n",
       "display: block;\n",
       "}\n",
       ".err-msg {\n",
       "color: red;\n",
       "font-style: italic;\n",
       "font-family: monospace;\n",
       "white-space: pre;\n",
       "display: block;\n",
       "}\n",
       "#unshowable {\n",
       "color: red;\n",
       "font-weight: bold;\n",
       "}\n",
       ".err-msg.in.collapse {\n",
       "padding-top: 0.7em;\n",
       "}\n",
       ".highlight-code {\n",
       "white-space: pre;\n",
       "font-family: monospace;\n",
       "}\n",
       ".suggestion-warning { \n",
       "font-weight: bold;\n",
       "color: rgb(200, 130, 0);\n",
       "}\n",
       ".suggestion-error { \n",
       "font-weight: bold;\n",
       "color: red;\n",
       "}\n",
       ".suggestion-name {\n",
       "font-weight: bold;\n",
       "}\n",
       "</style><div class=\"suggestion-name\" style=\"clear:both;\">Use list literal pattern</div><div class=\"suggestion-row\" style=\"float: left;\"><div class=\"suggestion-warning\">Found:</div><div class=\"highlight-code\" id=\"haskell\">(x : [])</div></div><div class=\"suggestion-row\" style=\"float: left;\"><div class=\"suggestion-warning\">Why Not:</div><div class=\"highlight-code\" id=\"haskell\">[x]</div></div><div class=\"suggestion-name\" style=\"clear:both;\">Use list literal pattern</div><div class=\"suggestion-row\" style=\"float: left;\"><div class=\"suggestion-warning\">Found:</div><div class=\"highlight-code\" id=\"haskell\">(x : y : [])</div></div><div class=\"suggestion-row\" style=\"float: left;\"><div class=\"suggestion-warning\">Why Not:</div><div class=\"highlight-code\" id=\"haskell\">[x, y]</div></div>"
      ],
      "text/plain": [
       "Line 3: Use list literal pattern\n",
       "Found:\n",
       "(x : [])\n",
       "Why not:\n",
       "[x]Line 4: Use list literal pattern\n",
       "Found:\n",
       "(x : y : [])\n",
       "Why not:\n",
       "[x, y]"
      ]
     },
     "metadata": {},
     "output_type": "display_data"
    }
   ],
   "source": [
    "tell :: (Show a) => [a] -> String\n",
    "tell [] = \"The list is empty\"\n",
    "tell (x:[]) = \"The list has one element \" ++ show x\n",
    "tell (x:y:[]) = \"the list has two element \" ++ show x ++ \" and \" ++ show y\n",
    "tell (x:y:_) = \"this list is long. the first two elements are\" ++ show x ++ \" and \" ++ show y"
   ]
  },
  {
   "cell_type": "code",
   "execution_count": 22,
   "id": "f6bfc782-4021-4431-a3da-ebac1b38a723",
   "metadata": {},
   "outputs": [
    {
     "data": {
      "text/plain": [
       "\"The list has one element 1\""
      ]
     },
     "metadata": {},
     "output_type": "display_data"
    },
    {
     "data": {
      "text/plain": [
       "\"the list has two element True and False\""
      ]
     },
     "metadata": {},
     "output_type": "display_data"
    },
    {
     "data": {
      "text/plain": [
       "\"this list is long. the first two elements are1 and 2\""
      ]
     },
     "metadata": {},
     "output_type": "display_data"
    },
    {
     "data": {
      "text/plain": [
       "\"The list is empty\""
      ]
     },
     "metadata": {},
     "output_type": "display_data"
    }
   ],
   "source": [
    "tell [1]\n",
    "tell [True, False]\n",
    "tell [1,2,3,4]\n",
    "tell []"
   ]
  },
  {
   "cell_type": "code",
   "execution_count": 23,
   "id": "7d846cda-56e1-4e7f-9baa-f3642c720e8a",
   "metadata": {},
   "outputs": [
    {
     "data": {
      "text/html": [
       "<style>/* Styles used for the Hoogle display in the pager */\n",
       ".hoogle-doc {\n",
       "display: block;\n",
       "padding-bottom: 1.3em;\n",
       "padding-left: 0.4em;\n",
       "}\n",
       ".hoogle-code {\n",
       "display: block;\n",
       "font-family: monospace;\n",
       "white-space: pre;\n",
       "}\n",
       ".hoogle-text {\n",
       "display: block;\n",
       "}\n",
       ".hoogle-name {\n",
       "color: green;\n",
       "font-weight: bold;\n",
       "}\n",
       ".hoogle-head {\n",
       "font-weight: bold;\n",
       "}\n",
       ".hoogle-sub {\n",
       "display: block;\n",
       "margin-left: 0.4em;\n",
       "}\n",
       ".hoogle-package {\n",
       "font-weight: bold;\n",
       "font-style: italic;\n",
       "}\n",
       ".hoogle-module {\n",
       "font-weight: bold;\n",
       "}\n",
       ".hoogle-class {\n",
       "font-weight: bold;\n",
       "}\n",
       ".get-type {\n",
       "color: green;\n",
       "font-weight: bold;\n",
       "font-family: monospace;\n",
       "display: block;\n",
       "white-space: pre-wrap;\n",
       "}\n",
       ".show-type {\n",
       "color: green;\n",
       "font-weight: bold;\n",
       "font-family: monospace;\n",
       "margin-left: 1em;\n",
       "}\n",
       ".mono {\n",
       "font-family: monospace;\n",
       "display: block;\n",
       "}\n",
       ".err-msg {\n",
       "color: red;\n",
       "font-style: italic;\n",
       "font-family: monospace;\n",
       "white-space: pre;\n",
       "display: block;\n",
       "}\n",
       "#unshowable {\n",
       "color: red;\n",
       "font-weight: bold;\n",
       "}\n",
       ".err-msg.in.collapse {\n",
       "padding-top: 0.7em;\n",
       "}\n",
       ".highlight-code {\n",
       "white-space: pre;\n",
       "font-family: monospace;\n",
       "}\n",
       ".suggestion-warning { \n",
       "font-weight: bold;\n",
       "color: rgb(200, 130, 0);\n",
       "}\n",
       ".suggestion-error { \n",
       "font-weight: bold;\n",
       "color: red;\n",
       "}\n",
       ".suggestion-name {\n",
       "font-weight: bold;\n",
       "}\n",
       "</style><div class=\"suggestion-name\" style=\"clear:both;\">Use list literal pattern</div><div class=\"suggestion-row\" style=\"float: left;\"><div class=\"suggestion-warning\">Found:</div><div class=\"highlight-code\" id=\"haskell\">(x : y : z : [])</div></div><div class=\"suggestion-row\" style=\"float: left;\"><div class=\"suggestion-warning\">Why Not:</div><div class=\"highlight-code\" id=\"haskell\">[x, y, z]</div></div>"
      ],
      "text/plain": [
       "Line 2: Use list literal pattern\n",
       "Found:\n",
       "(x : y : z : [])\n",
       "Why not:\n",
       "[x, y, z]"
      ]
     },
     "metadata": {},
     "output_type": "display_data"
    }
   ],
   "source": [
    "badAdd :: (Num a) => [a] -> a\n",
    "badAdd (x:y:z:[]) = x + y + z"
   ]
  },
  {
   "cell_type": "code",
   "execution_count": 24,
   "id": "f234535f-8c5f-41ea-9c48-a8229bc95fd0",
   "metadata": {},
   "outputs": [
    {
     "ename": "",
     "evalue": "",
     "header": "MessageHeader {mhIdentifiers = [\"7041b851-ada6-4c82-b597-67d51b4b4545\"], mhParentHeader = Just (MessageHeader {mhIdentifiers = [\"7041b851-ada6-4c82-b597-67d51b4b4545\"], mhParentHeader = Nothing, mhMetadata = Metadata (fromList [(\"recordTiming\",Bool False),(\"deletedCells\",Array []),(\"cellId\",String \"f234535f-8c5f-41ea-9c48-a8229bc95fd0\")]), mhMessageId = UUID {uuidToString = \"761ed621-2a8f-4b75-b227-f909dc44b98e\"}, mhSessionId = UUID {uuidToString = \"7041b851-ada6-4c82-b597-67d51b4b4545\"}, mhUsername = \"\", mhMsgType = ExecuteRequestMessage, mhBuffers = []}), mhMetadata = Metadata (fromList []), mhMessageId = UUID {uuidToString = \"caeb0e94-1371-4416-9ca9-9e004e576eef\"}, mhSessionId = UUID {uuidToString = \"7041b851-ada6-4c82-b597-67d51b4b4545\"}, mhUsername = \"\", mhMsgType = ExecuteErrorMessage, mhBuffers = []}",
     "output_type": "error",
     "traceback": [
      "<interactive>:2:1-29: Non-exhaustive patterns in function badAdd"
     ]
    }
   ],
   "source": [
    "badAdd [100,20]"
   ]
  },
  {
   "cell_type": "markdown",
   "id": "8d5ba989-d6d9-42ab-9737-8b216f8ff889",
   "metadata": {},
   "source": [
    "### as-pattern"
   ]
  },
  {
   "cell_type": "code",
   "execution_count": 25,
   "id": "a39864dc-fb95-4140-91c8-14c928613ad4",
   "metadata": {},
   "outputs": [],
   "source": [
    "firstLetter :: String -> String\n",
    "firstLetter \"\" = \"Empty string, whoops\"\n",
    "firstLetter all@(x:xs) = \"the first letter of \" ++ all ++ \" is \" ++ [x]"
   ]
  },
  {
   "cell_type": "code",
   "execution_count": 26,
   "id": "77be5701-8a2e-4e6c-bd6e-b483acc47dcd",
   "metadata": {},
   "outputs": [
    {
     "data": {
      "text/plain": [
       "\"the first letter of Dracula is D\""
      ]
     },
     "metadata": {},
     "output_type": "display_data"
    }
   ],
   "source": [
    "firstLetter \"Dracula\""
   ]
  },
  {
   "cell_type": "markdown",
   "id": "53294e7d-b1d4-4dac-b465-c04e9790233a",
   "metadata": {},
   "source": [
    "## 가드"
   ]
  },
  {
   "cell_type": "code",
   "execution_count": 30,
   "id": "651f12b9-cdfe-4ced-8eff-644dabd6c400",
   "metadata": {},
   "outputs": [],
   "source": [
    "bmiTell :: Double -> Double -> String\n",
    "bmiTell weight height\n",
    "    | weight / height ^ 2 <= 18.5 = \"Youre underweight, you emo you!\"\n",
    "    | weight / height ^ 2 <= 25.0 = \"Youre supposedly normal. Pffff, I bet youre ugly!\"\n",
    "    | weight / height ^ 2 <= 30.0 = \"Youre fat! lose some weight, fatty!\"\n",
    "    | otherwise = \"Youre a whale, congratulations\""
   ]
  },
  {
   "cell_type": "code",
   "execution_count": 31,
   "id": "d2dd14eb-4935-46b7-bc01-335afaaa9e3a",
   "metadata": {},
   "outputs": [
    {
     "data": {
      "text/plain": [
       "\"Youre supposedly normal. Pffff, I bet youre ugly!\""
      ]
     },
     "metadata": {},
     "output_type": "display_data"
    }
   ],
   "source": [
    "bmiTell 85 1.90"
   ]
  },
  {
   "cell_type": "code",
   "execution_count": 32,
   "id": "fa28cf78-b68d-4c3e-9f17-25ec7c111f8d",
   "metadata": {},
   "outputs": [],
   "source": [
    "max' :: (Ord a) => a -> a -> a\n",
    "max' a b\n",
    "    | a <= b = b\n",
    "    | otherwise = a"
   ]
  },
  {
   "cell_type": "code",
   "execution_count": 33,
   "id": "90c39338-1a17-490b-a121-186911d77484",
   "metadata": {},
   "outputs": [
    {
     "data": {
      "text/plain": [
       "4"
      ]
     },
     "metadata": {},
     "output_type": "display_data"
    }
   ],
   "source": [
    "max' 1 4"
   ]
  },
  {
   "cell_type": "code",
   "execution_count": 35,
   "id": "9ac57d33-3c49-478b-bb5e-e99b2d8c656c",
   "metadata": {},
   "outputs": [],
   "source": [
    "myCompare :: (Ord a) => a -> a -> Ordering\n",
    "a `myCompare` b\n",
    "    | a == b = EQ\n",
    "    | a <= b = LT\n",
    "    | otherwise = GT"
   ]
  },
  {
   "cell_type": "code",
   "execution_count": 36,
   "id": "9fc4c620-999c-417e-869b-58e11ffad268",
   "metadata": {},
   "outputs": [
    {
     "data": {
      "text/plain": [
       "GT"
      ]
     },
     "metadata": {},
     "output_type": "display_data"
    }
   ],
   "source": [
    "3 `myCompare` 2"
   ]
  },
  {
   "cell_type": "markdown",
   "id": "89504e61-cac6-4cb3-981e-17fbf4cae025",
   "metadata": {},
   "source": [
    "## Where 바인딩"
   ]
  },
  {
   "cell_type": "code",
   "execution_count": 39,
   "id": "22d824d9-7088-45f1-84e2-661abc00840a",
   "metadata": {},
   "outputs": [],
   "source": [
    "bmiTell :: Double -> Double -> String\n",
    "bmiTell weight height\n",
    "    | bmi <= skinny = \"Youre underweight, you emo you!\"\n",
    "    | bmi <= normal = \"Youre supposedly normal. Pffff, I bet youre ugly!\"\n",
    "    | bmi <= fat = \"Youre fat! lose some weight, fatty!\"\n",
    "    | otherwise = \"Youre a whale, congratulations\"\n",
    "    where bmi = weight / height ^ 2 \n",
    "          (skinny, normal, fat) = (18.5, 25.0, 30.0)"
   ]
  },
  {
   "cell_type": "code",
   "execution_count": 40,
   "id": "88324dc3-ac3a-45ac-bf89-e12ea1963607",
   "metadata": {},
   "outputs": [],
   "source": [
    "initials :: String -> String -> String\n",
    "initials firstname lastname = [f] ++ \". \" ++ [l] ++ \".\"\n",
    "    where  (f: _) = firstname\n",
    "           (l: _) = lastname"
   ]
  },
  {
   "cell_type": "code",
   "execution_count": 42,
   "id": "45163f46-ae86-4c73-8a0a-100dea52c62a",
   "metadata": {},
   "outputs": [
    {
     "data": {
      "text/plain": [
       "\"j. k.\""
      ]
     },
     "metadata": {},
     "output_type": "display_data"
    }
   ],
   "source": [
    "initials \"juho\" \"kim\""
   ]
  },
  {
   "cell_type": "code",
   "execution_count": 43,
   "id": "6ad8f2bc-7862-4f8f-8037-a648dda7980c",
   "metadata": {},
   "outputs": [],
   "source": [
    "calcBmis :: [(Double, Double)] -> [Double]\n",
    "calcBmis xs = [bmi w h | (w, h) <- xs]\n",
    "    where bmi weight height = weight / height ^ 2"
   ]
  },
  {
   "cell_type": "code",
   "execution_count": 46,
   "id": "0b045bba-0f19-4203-97ed-32dd65c18b64",
   "metadata": {},
   "outputs": [
    {
     "data": {
      "text/plain": [
       "[1.9,0.525]"
      ]
     },
     "metadata": {},
     "output_type": "display_data"
    }
   ],
   "source": [
    "calcBmis [(1.9,1.0),(2.1,2.0)]"
   ]
  },
  {
   "cell_type": "markdown",
   "id": "ee2059cf-b65e-47a6-8f89-f4ce9ea3e0d9",
   "metadata": {},
   "source": [
    "## let 표현식"
   ]
  },
  {
   "cell_type": "code",
   "execution_count": 48,
   "id": "c2c0eef6-3948-49a3-ad0f-f5d35dd7b87d",
   "metadata": {},
   "outputs": [],
   "source": [
    "cylinder :: Double -> Double -> Double\n",
    "cylinder r h =\n",
    "    let sideArea = 2 * pi * r * h\n",
    "        topArea =  pi * r ^ 2\n",
    "    in sideArea + 2 * topArea"
   ]
  },
  {
   "cell_type": "code",
   "execution_count": 51,
   "id": "4f6e5394-5b8b-4abe-a2dc-dae0f9a6dda3",
   "metadata": {},
   "outputs": [],
   "source": [
    "calcBmis :: [(Double, Double)] -> [Double]\n",
    "calcBmis xs = [bmi | (w,h) <- xs, let bmi = w / h  ^ 2, bmi > 25.0]"
   ]
  },
  {
   "cell_type": "markdown",
   "id": "576611a9-1d2c-4658-a056-15f2c7470e22",
   "metadata": {},
   "source": [
    "## case 표현식"
   ]
  },
  {
   "cell_type": "code",
   "execution_count": 52,
   "id": "2fc8a39f-6d9d-4dd7-a0e1-e8a820c8f824",
   "metadata": {},
   "outputs": [],
   "source": [
    "head' :: [a] -> a\n",
    "head' xs = case xs of [] -> error \"no head for empty lists\"\n",
    "                      (x:_) -> x"
   ]
  },
  {
   "cell_type": "code",
   "execution_count": 54,
   "id": "23ae717f-caba-40c7-9c1a-036c3bbb606e",
   "metadata": {},
   "outputs": [],
   "source": [
    "describeList :: [a] -> String\n",
    "describeList [x] = \"whatthe\"\n",
    "describeList ls = \"The list is \" ++ case ls of [] -> \"empty.\"\n",
    "                                               [x] -> \"a singleton list.\"\n",
    "                                               xs -> \"a longer list.\""
   ]
  },
  {
   "cell_type": "code",
   "execution_count": 56,
   "id": "4b336418-f5db-4975-953c-18f6bd27f91e",
   "metadata": {},
   "outputs": [
    {
     "data": {
      "text/plain": [
       "\"whatthe\""
      ]
     },
     "metadata": {},
     "output_type": "display_data"
    },
    {
     "data": {
      "text/plain": [
       "\"The list is a longer list.\""
      ]
     },
     "metadata": {},
     "output_type": "display_data"
    }
   ],
   "source": [
    "describeList \"a\"\n",
    "describeList \"whos\""
   ]
  },
  {
   "cell_type": "code",
   "execution_count": 57,
   "id": "f8e31c99-9c61-47ed-8057-b50ee3fb86b4",
   "metadata": {},
   "outputs": [],
   "source": [
    "describeList :: [a] -> String\n",
    "describeList ls = \"The list is \" ++ what ls\n",
    "    where what [] = \"empty.\"\n",
    "          what [x] = \"a singleton list.\"\n",
    "          what xs = \"a longer list.\""
   ]
  }
 ],
 "metadata": {
  "kernelspec": {
   "display_name": "Haskell",
   "language": "haskell",
   "name": "haskell"
  },
  "language_info": {
   "codemirror_mode": "Haskell",
   "file_extension": ".hs",
   "mimetype": "text/x-haskell",
   "name": "haskell",
   "pygments_lexer": "Haskell",
   "version": "8.10.4"
  }
 },
 "nbformat": 4,
 "nbformat_minor": 5
}
