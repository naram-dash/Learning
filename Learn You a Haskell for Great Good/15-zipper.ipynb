{
 "cells": [
  {
   "cell_type": "markdown",
   "id": "d755123d-713f-484e-8ff3-41b9efc894b5",
   "metadata": {},
   "source": [
    "# Zipper"
   ]
  },
  {
   "cell_type": "code",
   "execution_count": 20,
   "id": "50096338-28c4-43b9-89e6-3f0dd36a4ac1",
   "metadata": {},
   "outputs": [],
   "source": [
    "data Tree a = Empty | Node a (Tree a) (Tree a) deriving (Show)  "
   ]
  },
  {
   "cell_type": "code",
   "execution_count": 21,
   "id": "541bc7dd-3536-46f1-9fc7-bb9d6fe63759",
   "metadata": {},
   "outputs": [],
   "source": [
    "freeTree :: Tree Char  \n",
    "freeTree =   \n",
    "    Node 'P'  \n",
    "    -- 중앙\n",
    "        -- 좌측 트리\n",
    "        (Node 'O'  \n",
    "            (Node 'L'  \n",
    "                (Node 'N' Empty Empty)  \n",
    "                (Node 'T' Empty Empty)  \n",
    "            )  \n",
    "            (Node 'Y'  \n",
    "                (Node 'S' Empty Empty)  \n",
    "                (Node 'A' Empty Empty)  \n",
    "            )  \n",
    "        )  \n",
    "        -- 우측 트리\n",
    "        (Node 'L'  \n",
    "            (Node 'W'  \n",
    "                (Node 'C' Empty Empty)  \n",
    "                (Node 'R' Empty Empty)  \n",
    "            )  \n",
    "            (Node 'A'  \n",
    "                (Node 'A' Empty Empty)  \n",
    "                (Node 'C' Empty Empty)  \n",
    "            )  \n",
    "        )  "
   ]
  },
  {
   "cell_type": "code",
   "execution_count": 4,
   "id": "ec5333b6-f090-4d43-9a63-51d52ce78a40",
   "metadata": {},
   "outputs": [],
   "source": [
    "changeToP :: Tree Char -> Tree Char\n",
    "changeToP (Node x l (Node y (Node _ m n) r)) = Node x l (Node y (Node 'P' m n) r)\n",
    "-- x: 상위 노드 값\n",
    "-- l: 좌측 트리\n",
    "-- y: 우측 트리 노드 값\n",
    "-- r: 우측 노드의 우측 노드 값\n",
    "-- m: ...\n",
    "-- ...\n",
    "\n",
    "-- 사실상 특정 트리를 바꾸기 위해 작성한 코드"
   ]
  },
  {
   "cell_type": "code",
   "execution_count": 5,
   "id": "8f783ccf-31d8-4048-904f-eab6ac2996ad",
   "metadata": {},
   "outputs": [],
   "source": [
    "data Direction = L | R deriving (Show)\n",
    "type Directions = [Direction]\n",
    "\n",
    "changeToP :: Directions -> Tree Char -> Tree Char  \n",
    "changeToP (L:ds) (Node x l r) = Node x (changeToP ds l) r  \n",
    "changeToP (R:ds) (Node x l r) = Node x l (changeToP ds r)  \n",
    "-- 도착할 때까지 재귀\n",
    "changeToP [] (Node _ l r) = Node 'P' l r\n",
    "-- 미리 좌우 지령을 내려서 도착한 다음 수정"
   ]
  },
  {
   "cell_type": "markdown",
   "id": "cb081c6c-013d-420a-8ea3-e340e22e525f",
   "metadata": {},
   "source": [
    "## 빵가루 흔적 남기기"
   ]
  },
  {
   "cell_type": "code",
   "execution_count": 6,
   "id": "70237015-edc4-4a38-8256-c177ad664181",
   "metadata": {},
   "outputs": [],
   "source": [
    "data Tree a = Empty | Node a (Tree a) (Tree a) deriving (Show)  \n",
    "data Direction = L | R deriving (Show)\n",
    "type BreadScrumbs = [Direction]"
   ]
  },
  {
   "cell_type": "code",
   "execution_count": 7,
   "id": "41bbd094-8f8a-464d-8635-31d82bac2056",
   "metadata": {},
   "outputs": [],
   "source": [
    "goLeft :: (Tree a, BreadScrumbs) -> (Tree a, BreadScrumbs)\n",
    "goLeft (Node _ l _, bs) = (l, L:bs)\n",
    "\n",
    "goRight :: (Tree a, BreadScrumbs) -> (Tree a, BreadScrumbs)\n",
    "goRight (Node _ _ r, bs) = (r, R:bs)\n",
    "\n",
    "-- 함수를 실행할수롟 breadscrums가 많아진다."
   ]
  },
  {
   "cell_type": "code",
   "execution_count": null,
   "id": "23161259-1d5a-4fd4-b000-2198fa09d1cc",
   "metadata": {},
   "outputs": [],
   "source": [
    "goLeft (goRight (freeTree, []))\n",
    "-- 트리의 오른쪽 이동 후 왼쪽 이동"
   ]
  },
  {
   "cell_type": "code",
   "execution_count": 9,
   "id": "7442461b-5e6a-4cdb-b724-88b359651e97",
   "metadata": {},
   "outputs": [],
   "source": [
    "x |> f = f x\n",
    "-- fsharp |>"
   ]
  },
  {
   "cell_type": "code",
   "execution_count": null,
   "id": "e2b6ead3-fb8e-4131-91e4-827b6c0dbe97",
   "metadata": {},
   "outputs": [],
   "source": [
    "(freeTree, []) |> goRight |> goLeft"
   ]
  },
  {
   "cell_type": "markdown",
   "id": "bb0e8c18-0c84-4dbe-b10b-7832de5aacba",
   "metadata": {},
   "source": [
    "## 돌아가기"
   ]
  },
  {
   "cell_type": "code",
   "execution_count": 26,
   "id": "29c7b589-e40e-44f6-a3f3-e56a277f1a3c",
   "metadata": {},
   "outputs": [],
   "source": [
    "data Crumb a = LeftCrumb a (Tree a) | RightCrumb a (Tree a) deriving (Show)\n",
    "-- a == 이전 노드 값\n",
    "-- 트리 == 가지 못한 방향의 트리\n",
    "\n",
    "type Breadcrumbs a = [Crumb a]"
   ]
  },
  {
   "cell_type": "code",
   "execution_count": 27,
   "id": "098cadd7-314c-49a7-b47d-0506c9bea396",
   "metadata": {},
   "outputs": [],
   "source": [
    "goLeft :: (Tree a, Breadcrumbs a) -> (Tree a, Breadcrumbs a)\n",
    "goLeft (Node x l r, bs) = (l, LeftCrumb x r:bs)\n",
    "\n",
    "goRight :: (Tree a, Breadcrumbs a) -> (Tree a, Breadcrumbs a)\n",
    "goRight (Node x l r, bs) = (r, RightCrumb x l:bs)"
   ]
  },
  {
   "cell_type": "code",
   "execution_count": 28,
   "id": "b0dfb2a4-a5e2-453a-bbd6-081be2fb7106",
   "metadata": {},
   "outputs": [],
   "source": [
    "goUp :: (Tree a, Breadcrumbs a) -> (Tree a, Breadcrumbs a)\n",
    "goUp (t, LeftCrumb x r:bs) = (Node x t r, bs)\n",
    "goUp (t, RightCrumb x l:bs) = (Node x l t, bs)"
   ]
  },
  {
   "cell_type": "code",
   "execution_count": 29,
   "id": "7cb9cedd-319a-4f54-9157-3e53a79af9d9",
   "metadata": {},
   "outputs": [],
   "source": [
    "type Zipper a = (Tree a, Breadcrumbs a)"
   ]
  },
  {
   "cell_type": "markdown",
   "id": "fa3cccaa-51e5-482f-827d-e8448fef2bd1",
   "metadata": {},
   "source": [
    "### 초점을 둔 트리 조작하기"
   ]
  },
  {
   "cell_type": "code",
   "execution_count": 30,
   "id": "20dbe9d6-2779-4f48-86cc-7f6d87572ae1",
   "metadata": {},
   "outputs": [],
   "source": [
    "modify :: (a -> a) -> Zipper a -> Zipper a\n",
    "modify f (Node x l r, bs) = (Node (f x) l r, bs)\n",
    "modify f (Empty, bs) = (Empty, bs)\n",
    "-- 현재 초점을 두고 있는 노드의 값을 수정하기"
   ]
  },
  {
   "cell_type": "code",
   "execution_count": 32,
   "id": "2e1e4556-184e-4abe-a490-bfed72b37085",
   "metadata": {},
   "outputs": [
    {
     "data": {
      "text/html": [
       "<style>/* Styles used for the Hoogle display in the pager */\n",
       ".hoogle-doc {\n",
       "display: block;\n",
       "padding-bottom: 1.3em;\n",
       "padding-left: 0.4em;\n",
       "}\n",
       ".hoogle-code {\n",
       "display: block;\n",
       "font-family: monospace;\n",
       "white-space: pre;\n",
       "}\n",
       ".hoogle-text {\n",
       "display: block;\n",
       "}\n",
       ".hoogle-name {\n",
       "color: green;\n",
       "font-weight: bold;\n",
       "}\n",
       ".hoogle-head {\n",
       "font-weight: bold;\n",
       "}\n",
       ".hoogle-sub {\n",
       "display: block;\n",
       "margin-left: 0.4em;\n",
       "}\n",
       ".hoogle-package {\n",
       "font-weight: bold;\n",
       "font-style: italic;\n",
       "}\n",
       ".hoogle-module {\n",
       "font-weight: bold;\n",
       "}\n",
       ".hoogle-class {\n",
       "font-weight: bold;\n",
       "}\n",
       ".get-type {\n",
       "color: green;\n",
       "font-weight: bold;\n",
       "font-family: monospace;\n",
       "display: block;\n",
       "white-space: pre-wrap;\n",
       "}\n",
       ".show-type {\n",
       "color: green;\n",
       "font-weight: bold;\n",
       "font-family: monospace;\n",
       "margin-left: 1em;\n",
       "}\n",
       ".mono {\n",
       "font-family: monospace;\n",
       "display: block;\n",
       "}\n",
       ".err-msg {\n",
       "color: red;\n",
       "font-style: italic;\n",
       "font-family: monospace;\n",
       "white-space: pre;\n",
       "display: block;\n",
       "}\n",
       "#unshowable {\n",
       "color: red;\n",
       "font-weight: bold;\n",
       "}\n",
       ".err-msg.in.collapse {\n",
       "padding-top: 0.7em;\n",
       "}\n",
       ".highlight-code {\n",
       "white-space: pre;\n",
       "font-family: monospace;\n",
       "}\n",
       ".suggestion-warning { \n",
       "font-weight: bold;\n",
       "color: rgb(200, 130, 0);\n",
       "}\n",
       ".suggestion-error { \n",
       "font-weight: bold;\n",
       "color: red;\n",
       "}\n",
       ".suggestion-name {\n",
       "font-weight: bold;\n",
       "}\n",
       "</style><div class=\"suggestion-name\" style=\"clear:both;\">Use const</div><div class=\"suggestion-row\" style=\"float: left;\"><div class=\"suggestion-warning\">Found:</div><div class=\"highlight-code\" id=\"haskell\">\\ _ -> 'P'</div></div><div class=\"suggestion-row\" style=\"float: left;\"><div class=\"suggestion-warning\">Why Not:</div><div class=\"highlight-code\" id=\"haskell\">const 'P'</div></div>"
      ],
      "text/plain": [
       "Line 1: Use const\n",
       "Found:\n",
       "\\ _ -> 'P'\n",
       "Why not:\n",
       "const 'P'"
      ]
     },
     "metadata": {},
     "output_type": "display_data"
    },
    {
     "data": {
      "text/plain": [
       "(Node 'P' (Node 'S' Empty Empty) (Node 'A' Empty Empty),[RightCrumb 'O' (Node 'L' (Node 'N' Empty Empty) (Node 'T' Empty Empty)),LeftCrumb 'P' (Node 'L' (Node 'W' (Node 'C' Empty Empty) (Node 'R' Empty Empty)) (Node 'A' (Node 'A' Empty Empty) (Node 'C' Empty Empty)))])"
      ]
     },
     "metadata": {},
     "output_type": "display_data"
    }
   ],
   "source": [
    "modify (\\_ -> 'P') (goRight (goLeft (freeTree,[])))  "
   ]
  },
  {
   "cell_type": "code",
   "execution_count": 36,
   "id": "6368d441-ba39-489f-ae0b-6dac67fc6cd7",
   "metadata": {},
   "outputs": [
    {
     "data": {
      "text/html": [
       "<style>/* Styles used for the Hoogle display in the pager */\n",
       ".hoogle-doc {\n",
       "display: block;\n",
       "padding-bottom: 1.3em;\n",
       "padding-left: 0.4em;\n",
       "}\n",
       ".hoogle-code {\n",
       "display: block;\n",
       "font-family: monospace;\n",
       "white-space: pre;\n",
       "}\n",
       ".hoogle-text {\n",
       "display: block;\n",
       "}\n",
       ".hoogle-name {\n",
       "color: green;\n",
       "font-weight: bold;\n",
       "}\n",
       ".hoogle-head {\n",
       "font-weight: bold;\n",
       "}\n",
       ".hoogle-sub {\n",
       "display: block;\n",
       "margin-left: 0.4em;\n",
       "}\n",
       ".hoogle-package {\n",
       "font-weight: bold;\n",
       "font-style: italic;\n",
       "}\n",
       ".hoogle-module {\n",
       "font-weight: bold;\n",
       "}\n",
       ".hoogle-class {\n",
       "font-weight: bold;\n",
       "}\n",
       ".get-type {\n",
       "color: green;\n",
       "font-weight: bold;\n",
       "font-family: monospace;\n",
       "display: block;\n",
       "white-space: pre-wrap;\n",
       "}\n",
       ".show-type {\n",
       "color: green;\n",
       "font-weight: bold;\n",
       "font-family: monospace;\n",
       "margin-left: 1em;\n",
       "}\n",
       ".mono {\n",
       "font-family: monospace;\n",
       "display: block;\n",
       "}\n",
       ".err-msg {\n",
       "color: red;\n",
       "font-style: italic;\n",
       "font-family: monospace;\n",
       "white-space: pre;\n",
       "display: block;\n",
       "}\n",
       "#unshowable {\n",
       "color: red;\n",
       "font-weight: bold;\n",
       "}\n",
       ".err-msg.in.collapse {\n",
       "padding-top: 0.7em;\n",
       "}\n",
       ".highlight-code {\n",
       "white-space: pre;\n",
       "font-family: monospace;\n",
       "}\n",
       ".suggestion-warning { \n",
       "font-weight: bold;\n",
       "color: rgb(200, 130, 0);\n",
       "}\n",
       ".suggestion-error { \n",
       "font-weight: bold;\n",
       "color: red;\n",
       "}\n",
       ".suggestion-name {\n",
       "font-weight: bold;\n",
       "}\n",
       "</style><div class=\"suggestion-name\" style=\"clear:both;\">Use const</div><div class=\"suggestion-row\" style=\"float: left;\"><div class=\"suggestion-warning\">Found:</div><div class=\"highlight-code\" id=\"haskell\">\\ _ -> 'P'</div></div><div class=\"suggestion-row\" style=\"float: left;\"><div class=\"suggestion-warning\">Why Not:</div><div class=\"highlight-code\" id=\"haskell\">const 'P'</div></div>"
      ],
      "text/plain": [
       "Line 1: Use const\n",
       "Found:\n",
       "\\ _ -> 'P'\n",
       "Why not:\n",
       "const 'P'"
      ]
     },
     "metadata": {},
     "output_type": "display_data"
    },
    {
     "data": {
      "text/plain": [
       "(Node 'P' (Node 'S' Empty Empty) (Node 'A' Empty Empty),[RightCrumb 'O' (Node 'L' (Node 'N' Empty Empty) (Node 'T' Empty Empty)),LeftCrumb 'P' (Node 'L' (Node 'W' (Node 'C' Empty Empty) (Node 'R' Empty Empty)) (Node 'A' (Node 'A' Empty Empty) (Node 'C' Empty Empty)))])"
      ]
     },
     "metadata": {},
     "output_type": "display_data"
    }
   ],
   "source": [
    "(freeTree,[]) |> goLeft |> goRight |> modify (\\_ -> 'P')  \n",
    "-- readablity 향상"
   ]
  },
  {
   "cell_type": "code",
   "execution_count": 38,
   "id": "f1bbcb79-7a1c-4e04-beac-3c6d5bd41644",
   "metadata": {},
   "outputs": [
    {
     "data": {
      "text/html": [
       "<style>/* Styles used for the Hoogle display in the pager */\n",
       ".hoogle-doc {\n",
       "display: block;\n",
       "padding-bottom: 1.3em;\n",
       "padding-left: 0.4em;\n",
       "}\n",
       ".hoogle-code {\n",
       "display: block;\n",
       "font-family: monospace;\n",
       "white-space: pre;\n",
       "}\n",
       ".hoogle-text {\n",
       "display: block;\n",
       "}\n",
       ".hoogle-name {\n",
       "color: green;\n",
       "font-weight: bold;\n",
       "}\n",
       ".hoogle-head {\n",
       "font-weight: bold;\n",
       "}\n",
       ".hoogle-sub {\n",
       "display: block;\n",
       "margin-left: 0.4em;\n",
       "}\n",
       ".hoogle-package {\n",
       "font-weight: bold;\n",
       "font-style: italic;\n",
       "}\n",
       ".hoogle-module {\n",
       "font-weight: bold;\n",
       "}\n",
       ".hoogle-class {\n",
       "font-weight: bold;\n",
       "}\n",
       ".get-type {\n",
       "color: green;\n",
       "font-weight: bold;\n",
       "font-family: monospace;\n",
       "display: block;\n",
       "white-space: pre-wrap;\n",
       "}\n",
       ".show-type {\n",
       "color: green;\n",
       "font-weight: bold;\n",
       "font-family: monospace;\n",
       "margin-left: 1em;\n",
       "}\n",
       ".mono {\n",
       "font-family: monospace;\n",
       "display: block;\n",
       "}\n",
       ".err-msg {\n",
       "color: red;\n",
       "font-style: italic;\n",
       "font-family: monospace;\n",
       "white-space: pre;\n",
       "display: block;\n",
       "}\n",
       "#unshowable {\n",
       "color: red;\n",
       "font-weight: bold;\n",
       "}\n",
       ".err-msg.in.collapse {\n",
       "padding-top: 0.7em;\n",
       "}\n",
       ".highlight-code {\n",
       "white-space: pre;\n",
       "font-family: monospace;\n",
       "}\n",
       ".suggestion-warning { \n",
       "font-weight: bold;\n",
       "color: rgb(200, 130, 0);\n",
       "}\n",
       ".suggestion-error { \n",
       "font-weight: bold;\n",
       "color: red;\n",
       "}\n",
       ".suggestion-name {\n",
       "font-weight: bold;\n",
       "}\n",
       "</style><div class=\"suggestion-name\" style=\"clear:both;\">Use const</div><div class=\"suggestion-row\" style=\"float: left;\"><div class=\"suggestion-warning\">Found:</div><div class=\"highlight-code\" id=\"haskell\">\\ _ -> 'X'</div></div><div class=\"suggestion-row\" style=\"float: left;\"><div class=\"suggestion-warning\">Why Not:</div><div class=\"highlight-code\" id=\"haskell\">const 'X'</div></div>"
      ],
      "text/plain": [
       "Line 1: Use const\n",
       "Found:\n",
       "\\ _ -> 'X'\n",
       "Why not:\n",
       "const 'X'"
      ]
     },
     "metadata": {},
     "output_type": "display_data"
    },
    {
     "data": {
      "text/plain": [
       "(Node 'X' (Node 'L' (Node 'N' Empty Empty) (Node 'T' Empty Empty)) (Node 'P' (Node 'S' Empty Empty) (Node 'A' Empty Empty)),[LeftCrumb 'P' (Node 'L' (Node 'W' (Node 'C' Empty Empty) (Node 'R' Empty Empty)) (Node 'A' (Node 'A' Empty Empty) (Node 'C' Empty Empty)))])"
      ]
     },
     "metadata": {},
     "output_type": "display_data"
    }
   ],
   "source": [
    "modify (\\_ -> 'X') (goUp newFocus)  \n",
    "-- newFocus |> goUp |> modify (\\_ -> 'X')   동일"
   ]
  },
  {
   "cell_type": "code",
   "execution_count": 40,
   "id": "4b3912ca-f2fb-4c36-b84a-9920ca34bca5",
   "metadata": {},
   "outputs": [],
   "source": [
    "attach :: Tree a -> Zipper a -> Zipper a  \n",
    "attach t (_, bs) = (t, bs)  "
   ]
  },
  {
   "cell_type": "code",
   "execution_count": 41,
   "id": "ebec0ea4-bc73-4ebe-ac7a-2cb7dfc886fb",
   "metadata": {},
   "outputs": [
    {
     "data": {
      "text/plain": [
       "(Empty,[LeftCrumb 'N' Empty,LeftCrumb 'L' (Node 'T' Empty Empty),LeftCrumb 'O' (Node 'Y' (Node 'S' Empty Empty) (Node 'A' Empty Empty)),LeftCrumb 'P' (Node 'L' (Node 'W' (Node 'C' Empty Empty) (Node 'R' Empty Empty)) (Node 'A' (Node 'A' Empty Empty) (Node 'C' Empty Empty)))])"
      ]
     },
     "metadata": {},
     "output_type": "display_data"
    }
   ],
   "source": [
    "farLeft = (freeTree,[]) |> goLeft |> goLeft |> goLeft |> goLeft  \n",
    "farLeft"
   ]
  },
  {
   "cell_type": "code",
   "execution_count": 43,
   "id": "6fda68af-db0a-42a6-86a0-3db5a891fc1d",
   "metadata": {},
   "outputs": [
    {
     "data": {
      "text/plain": [
       "(Node 'Z' Empty Empty,[LeftCrumb 'N' Empty,LeftCrumb 'L' (Node 'T' Empty Empty),LeftCrumb 'O' (Node 'Y' (Node 'S' Empty Empty) (Node 'A' Empty Empty)),LeftCrumb 'P' (Node 'L' (Node 'W' (Node 'C' Empty Empty) (Node 'R' Empty Empty)) (Node 'A' (Node 'A' Empty Empty) (Node 'C' Empty Empty)))])"
      ]
     },
     "metadata": {},
     "output_type": "display_data"
    }
   ],
   "source": [
    "newFocus = farLeft |> attach (Node 'Z' Empty Empty)  \n",
    "newFocus"
   ]
  },
  {
   "cell_type": "code",
   "execution_count": 44,
   "id": "0c1c008e-5437-4d9d-b48d-55cc6037460a",
   "metadata": {},
   "outputs": [],
   "source": [
    "topMost :: Zipper a -> Zipper a  \n",
    "topMost (t,[]) = (t,[])  \n",
    "-- 이동내용이 없다면 그대로\n",
    "topMost z = topMost (goUp z)  \n",
    "-- 이동내용이 있다면 하나 올리고 재귀"
   ]
  },
  {
   "cell_type": "markdown",
   "id": "f076dbf3-6e96-460b-b8f8-5f63efcc2681",
   "metadata": {},
   "source": [
    "## 리스트 지퍼"
   ]
  },
  {
   "cell_type": "code",
   "execution_count": 46,
   "id": "42693b35-40d9-4098-a036-88c3dba390a9",
   "metadata": {},
   "outputs": [],
   "source": [
    "type ListZipper a = ([a], [a])\n",
    "-- 이전 요소, 포커스 요소"
   ]
  },
  {
   "cell_type": "code",
   "execution_count": 47,
   "id": "87ca972d-5c19-4e12-9189-4da4a495b7ef",
   "metadata": {},
   "outputs": [],
   "source": [
    "goForward :: ListZipper a -> ListZipper a\n",
    "goForward (x:xs, bs) = (xs, x:bs)\n",
    "\n",
    "goBack :: ListZipper a -> ListZipper a\n",
    "goBack (xs, b:bs) = (b:xs, bs)"
   ]
  },
  {
   "cell_type": "code",
   "execution_count": 50,
   "id": "455cee9b-a43b-4afb-ab53-bcfd77c3903b",
   "metadata": {},
   "outputs": [
    {
     "data": {
      "text/plain": [
       "([2,3,4],[1])"
      ]
     },
     "metadata": {},
     "output_type": "display_data"
    },
    {
     "data": {
      "text/plain": [
       "([3,4],[2,1])"
      ]
     },
     "metadata": {},
     "output_type": "display_data"
    },
    {
     "data": {
      "text/plain": [
       "([4],[3,2,1])"
      ]
     },
     "metadata": {},
     "output_type": "display_data"
    },
    {
     "data": {
      "text/plain": [
       "([3,4],[2,1])"
      ]
     },
     "metadata": {},
     "output_type": "display_data"
    }
   ],
   "source": [
    "xs = [1,2,3,4]\n",
    "goForward (xs, [])\n",
    "goForward ([2,3,4], [1])\n",
    "goForward ([3,4], [2,1])\n",
    "goBack ([4], [3,2,1])"
   ]
  },
  {
   "cell_type": "markdown",
   "id": "59a9c471-8559-457e-8181-c3ca6bc16a4c",
   "metadata": {},
   "source": [
    "## 매우 간단한 파일시스템"
   ]
  },
  {
   "cell_type": "code",
   "execution_count": 51,
   "id": "58ce1269-4593-4b3a-959f-12b76ab7a41a",
   "metadata": {},
   "outputs": [],
   "source": [
    "type Name = String\n",
    "type Data = String\n",
    "data FSItem = File Name Data | Folder Name [FSItem] deriving (Show)"
   ]
  },
  {
   "cell_type": "code",
   "execution_count": 52,
   "id": "618173fe-9955-452d-a2b4-0ac3034ca9a2",
   "metadata": {},
   "outputs": [],
   "source": [
    "myDisk :: FSItem  \n",
    "myDisk = \n",
    "    Folder \"root\"   \n",
    "        [ File \"goat_yelling_like_man.wmv\" \"baaaaaa\"  \n",
    "        , File \"pope_time.avi\" \"god bless\"  \n",
    "        , Folder \"pics\"  \n",
    "            [ File \"ape_throwing_up.jpg\" \"bleargh\"  \n",
    "            , File \"watermelon_smash.gif\" \"smash!!\"  \n",
    "            , File \"skull_man(scary).bmp\" \"Yikes!\"  \n",
    "            ]  \n",
    "        , File \"dijon_poupon.doc\" \"best mustard\"  \n",
    "        , Folder \"programs\"  \n",
    "            [ File \"fartwizard.exe\" \"10gotofart\"  \n",
    "            , File \"owl_bandit.dmg\" \"mov eax, h00t\"  \n",
    "            , File \"not_a_virus.exe\" \"really not a virus\"  \n",
    "            , Folder \"source code\"  \n",
    "                [ File \"best_hs_prog.hs\" \"main = print (fix error)\"  \n",
    "                , File \"random.hs\" \"main = print 4\"  \n",
    "                ]  \n",
    "            ]  \n",
    "        ]  "
   ]
  },
  {
   "cell_type": "code",
   "execution_count": 53,
   "id": "0e64fd1d-8366-445e-9066-abc7894e3509",
   "metadata": {},
   "outputs": [],
   "source": [
    "data FSCrumb = FSCrumb Name [FSItem] [FSItem] deriving (Show)\n",
    "-- 항목 이전에 오는 리스트와, 항목 이후에 오는 리스트\n",
    "-- 초점을 맞춘 디렉토리에 있는 파일들이 있다."
   ]
  },
  {
   "cell_type": "code",
   "execution_count": 61,
   "id": "7b0fd8e2-3998-47e1-8d0f-356b191a16d9",
   "metadata": {},
   "outputs": [],
   "source": [
    "type FSZipper = (FSItem, [FSCrumb])"
   ]
  },
  {
   "cell_type": "code",
   "execution_count": 62,
   "id": "15ffa1c5-57c3-4fee-a514-d1f6375f53df",
   "metadata": {},
   "outputs": [],
   "source": [
    "fsUp :: FSZipper -> FSZipper\n",
    "fsUp (item, (FSCrumb name ls rs):bs) = (Folder name (ls ++ [item] ++ rs), bs)"
   ]
  },
  {
   "cell_type": "code",
   "execution_count": 63,
   "id": "9a82b7ec-6944-46ed-a6fd-943077872c6b",
   "metadata": {},
   "outputs": [],
   "source": [
    "import Data.List (break)  \n",
    "-- break: 해당하는 순간에 앞과 뒤 리스트를 분리하는 함수\n",
    "  \n",
    "fsTo :: Name -> FSZipper -> FSZipper  \n",
    "fsTo name (Folder folderName items, bs) =   \n",
    "    let (ls, item:rs) = break (nameIs name) items  \n",
    "\n",
    "    in  (item, FSCrumb folderName ls rs:bs)  \n",
    "-- 현재 초점을 두고 있는 폴더에 위치한 파일이나 폴더에 초점을 둫는 함수\n",
    "  \n",
    "nameIs :: Name -> FSItem -> Bool  \n",
    "nameIs name (Folder folderName _) = name == folderName  \n",
    "nameIs name (File fileName _) = name == fileName  "
   ]
  },
  {
   "cell_type": "code",
   "execution_count": 71,
   "id": "d3120342-3a26-4071-88b8-dc05418133d3",
   "metadata": {},
   "outputs": [
    {
     "data": {
      "text/plain": [
       "File \"skull_man(scary).bmp\" \"Yikes!\""
      ]
     },
     "metadata": {},
     "output_type": "display_data"
    },
    {
     "data": {
      "text/plain": [
       "[FSCrumb \"pics\" [File \"ape_throwing_up.jpg\" \"bleargh\",File \"watermelon_smash.gif\" \"smash!!\"] [],FSCrumb \"root\" [File \"goat_yelling_like_man.wmv\" \"baaaaaa\",File \"pope_time.avi\" \"god bless\"] [File \"dijon_poupon.doc\" \"best mustard\",Folder \"programs\" [File \"fartwizard.exe\" \"10gotofart\",File \"owl_bandit.dmg\" \"mov eax, h00t\",File \"not_a_virus.exe\" \"really not a virus\",Folder \"source code\" [File \"best_hs_prog.hs\" \"main = print (fix error)\",File \"random.hs\" \"main = print 4\"]]]]"
      ]
     },
     "metadata": {},
     "output_type": "display_data"
    }
   ],
   "source": [
    "newFocus = (myDisk,[]) |> fsTo \"pics\" |> fsTo \"skull_man(scary).bmp\"  \n",
    "-- 폴더로 이동 후, 파일로 이동\n",
    "fst newFocus\n",
    "snd newFocus\n",
    "\n"
   ]
  },
  {
   "cell_type": "code",
   "execution_count": 72,
   "id": "bb2047f5-ef99-448f-b639-b52f796bde00",
   "metadata": {},
   "outputs": [
    {
     "data": {
      "text/plain": [
       "File \"watermelon_smash.gif\" \"smash!!\""
      ]
     },
     "metadata": {},
     "output_type": "display_data"
    },
    {
     "data": {
      "text/plain": [
       "[FSCrumb \"pics\" [File \"ape_throwing_up.jpg\" \"bleargh\"] [File \"skull_man(scary).bmp\" \"Yikes!\"],FSCrumb \"root\" [File \"goat_yelling_like_man.wmv\" \"baaaaaa\",File \"pope_time.avi\" \"god bless\"] [File \"dijon_poupon.doc\" \"best mustard\",Folder \"programs\" [File \"fartwizard.exe\" \"10gotofart\",File \"owl_bandit.dmg\" \"mov eax, h00t\",File \"not_a_virus.exe\" \"really not a virus\",Folder \"source code\" [File \"best_hs_prog.hs\" \"main = print (fix error)\",File \"random.hs\" \"main = print 4\"]]]]"
      ]
     },
     "metadata": {},
     "output_type": "display_data"
    }
   ],
   "source": [
    "newFocus2 = newFocus |> fsUp |> fsTo \"watermelon_smash.gif\"  \n",
    "\n",
    "fst newFocus2  \n",
    "snd newFocus2  "
   ]
  },
  {
   "cell_type": "markdown",
   "id": "57e9e99d-741d-4179-a289-d042a121d509",
   "metadata": {},
   "source": [
    "### 조작하기"
   ]
  },
  {
   "cell_type": "code",
   "execution_count": 74,
   "id": "32284909-5f34-46c0-bf8e-e973d35e8093",
   "metadata": {},
   "outputs": [],
   "source": [
    "fsRename :: Name -> FSZipper -> FSZipper  \n",
    "fsRename newName (Folder name items, bs) = (Folder newName items, bs)  \n",
    "fsRename newName (File name dat, bs) = (File newName dat, bs)  "
   ]
  },
  {
   "cell_type": "code",
   "execution_count": 79,
   "id": "d91d2162-b164-47f7-8a34-fbe03e243560",
   "metadata": {},
   "outputs": [
    {
     "data": {
      "text/plain": [
       "Folder \"root\" [File \"goat_yelling_like_man.wmv\" \"baaaaaa\",File \"pope_time.avi\" \"god bless\",Folder \"cspi\" [File \"ape_throwing_up.jpg\" \"bleargh\",File \"watermelon_smash.gif\" \"smash!!\",File \"skull_man(scary).bmp\" \"Yikes!\"],File \"dijon_poupon.doc\" \"best mustard\",Folder \"programs\" [File \"fartwizard.exe\" \"10gotofart\",File \"owl_bandit.dmg\" \"mov eax, h00t\",File \"not_a_virus.exe\" \"really not a virus\",Folder \"source code\" [File \"best_hs_prog.hs\" \"main = print (fix error)\",File \"random.hs\" \"main = print 4\"]]]"
      ]
     },
     "metadata": {},
     "output_type": "display_data"
    },
    {
     "data": {
      "text/plain": [
       "[]"
      ]
     },
     "metadata": {},
     "output_type": "display_data"
    }
   ],
   "source": [
    "newFocus = (myDisk,[]) |> fsTo \"pics\" |> fsRename \"cspi\" |> fsUp  \n",
    "\n",
    "fst newFocus\n",
    "snd newFocus\n",
    "-- root로 올라와서 crumbs가 비었음"
   ]
  },
  {
   "cell_type": "code",
   "execution_count": 80,
   "id": "06a1fdd4-c4e5-4cbc-a4df-9c6b45f18298",
   "metadata": {},
   "outputs": [],
   "source": [
    "fsNewFile :: FSItem -> FSZipper -> FSZipper  \n",
    "fsNewFile item (Folder folderName items, bs) =   \n",
    "    (Folder folderName (item:items), bs)  \n",
    "-- 새로운 항목을 만듬"
   ]
  },
  {
   "cell_type": "code",
   "execution_count": 82,
   "id": "3188942d-2790-4903-8baf-bd5db2a1f511",
   "metadata": {},
   "outputs": [
    {
     "data": {
      "text/plain": [
       "Folder \"root\" [File \"goat_yelling_like_man.wmv\" \"baaaaaa\",File \"pope_time.avi\" \"god bless\",Folder \"pics\" [File \"heh.jpg\" \"lol\",File \"ape_throwing_up.jpg\" \"bleargh\",File \"watermelon_smash.gif\" \"smash!!\",File \"skull_man(scary).bmp\" \"Yikes!\"],File \"dijon_poupon.doc\" \"best mustard\",Folder \"programs\" [File \"fartwizard.exe\" \"10gotofart\",File \"owl_bandit.dmg\" \"mov eax, h00t\",File \"not_a_virus.exe\" \"really not a virus\",Folder \"source code\" [File \"best_hs_prog.hs\" \"main = print (fix error)\",File \"random.hs\" \"main = print 4\"]]]"
      ]
     },
     "metadata": {},
     "output_type": "display_data"
    },
    {
     "data": {
      "text/plain": [
       "[]"
      ]
     },
     "metadata": {},
     "output_type": "display_data"
    }
   ],
   "source": [
    "newFocus = \n",
    "    (myDisk,[]) |> \n",
    "    fsTo \"pics\" |> \n",
    "    fsNewFile (File \"heh.jpg\" \"lol\") |> fsUp  \n",
    "    \n",
    "fst newFocus\n",
    "snd newFocus"
   ]
  },
  {
   "cell_type": "markdown",
   "id": "f7fb61fa-f0f4-461e-91d2-8dc6f9ab5bc8",
   "metadata": {},
   "source": [
    "## Zipper에 실패 컨텍스트 추가하기"
   ]
  },
  {
   "cell_type": "code",
   "execution_count": 83,
   "id": "0555c788-f2a0-4b1e-b221-82af19134d37",
   "metadata": {},
   "outputs": [],
   "source": [
    "goLeft :: Zipper a -> Maybe (Zipper a)  \n",
    "goLeft (Node x l r, bs) = Just (l, LeftCrumb x r:bs)  \n",
    "goLeft (Empty, _) = Nothing  \n",
    "-- 컨텍스트 별 차이를 위해 분리\n",
    "  \n",
    "goRight :: Zipper a -> Maybe (Zipper a)  \n",
    "goRight (Node x l r, bs) = Just (r, RightCrumb x l:bs)  \n",
    "goRight (Empty, _) = Nothing  \n",
    "-- 컨텍스트 별 차이를 위해 분리"
   ]
  },
  {
   "cell_type": "code",
   "execution_count": 85,
   "id": "5f424bdb-e0b7-4e96-9fbe-160fcad26a33",
   "metadata": {},
   "outputs": [
    {
     "data": {
      "text/plain": [
       "Nothing"
      ]
     },
     "metadata": {},
     "output_type": "display_data"
    },
    {
     "data": {
      "text/plain": [
       "Just (Empty,[LeftCrumb 'A' Empty])"
      ]
     },
     "metadata": {},
     "output_type": "display_data"
    }
   ],
   "source": [
    "goLeft (Empty, [])\n",
    "goLeft (Node 'A' Empty Empty, [])"
   ]
  },
  {
   "cell_type": "code",
   "execution_count": 87,
   "id": "5c23e247-53f1-4a3e-b432-d085c6acc34b",
   "metadata": {},
   "outputs": [],
   "source": [
    "goUp :: Zipper a -> Maybe (Zipper a)  \n",
    "goUp (t, LeftCrumb x r:bs) = Just (Node x t r, bs)  \n",
    "goUp (t, RightCrumb x l:bs) = Just (Node x l t, bs)  \n",
    "goUp (_, []) = Nothing  \n",
    "-- empty crumbs 위로 올라갈 때 실패 컨텍스트 부여"
   ]
  },
  {
   "cell_type": "code",
   "execution_count": 88,
   "id": "215d0f34-0e07-4371-beaf-aa9b7deffc5c",
   "metadata": {},
   "outputs": [
    {
     "ename": "",
     "evalue": "",
     "header": "MessageHeader {mhIdentifiers = [\"5b07f1ec-7be6-40f9-8394-cbf545b6c3c7\"], mhParentHeader = Just (MessageHeader {mhIdentifiers = [\"5b07f1ec-7be6-40f9-8394-cbf545b6c3c7\"], mhParentHeader = Nothing, mhMetadata = Metadata (fromList [(\"recordTiming\",Bool False),(\"deletedCells\",Array []),(\"cellId\",String \"215d0f34-0e07-4371-beaf-aa9b7deffc5c\")]), mhMessageId = UUID {uuidToString = \"1a3e1388-540a-471a-97a4-9629908c4598\"}, mhSessionId = UUID {uuidToString = \"5b07f1ec-7be6-40f9-8394-cbf545b6c3c7\"}, mhUsername = \"\", mhMsgType = ExecuteRequestMessage, mhBuffers = []}), mhMetadata = Metadata (fromList []), mhMessageId = UUID {uuidToString = \"dbfaba12-3e99-4885-bd29-25d25358f8d9\"}, mhSessionId = UUID {uuidToString = \"5b07f1ec-7be6-40f9-8394-cbf545b6c3c7\"}, mhUsername = \"\", mhMsgType = ExecuteErrorMessage, mhBuffers = []}",
     "output_type": "error",
     "traceback": [
      "<interactive>:1:39: error:\n    • Couldn't match type ‘Maybe (Zipper Char)’ with ‘(Tree a, Breadcrumbs a)’\n      Expected type: Maybe (Zipper Char) -> Maybe (Zipper a)\n        Actual type: Zipper a -> Maybe (Zipper a)\n    • In the second argument of ‘(|>)’, namely ‘goRight’\n      In the expression: (freeTree, []) |> goLeft |> goRight\n      In an equation for ‘newFocus’: newFocus = (freeTree, []) |> goLeft |> goRight\n    • Relevant bindings include newFocus :: Maybe (Zipper a) (bound at <interactive>:1:1)"
     ]
    }
   ],
   "source": [
    "newFocus = (freeTree,[]) |> goLeft |> goRight  \n",
    "-- 함수가 모나드를 반환하고, 함수가 모나드를 받지 않으므로 동작하지 않는다."
   ]
  },
  {
   "cell_type": "code",
   "execution_count": 94,
   "id": "bdae18d2-cceb-44da-8321-b7de06dc8a2d",
   "metadata": {},
   "outputs": [
    {
     "data": {
      "text/html": [
       "<style>/* Styles used for the Hoogle display in the pager */\n",
       ".hoogle-doc {\n",
       "display: block;\n",
       "padding-bottom: 1.3em;\n",
       "padding-left: 0.4em;\n",
       "}\n",
       ".hoogle-code {\n",
       "display: block;\n",
       "font-family: monospace;\n",
       "white-space: pre;\n",
       "}\n",
       ".hoogle-text {\n",
       "display: block;\n",
       "}\n",
       ".hoogle-name {\n",
       "color: green;\n",
       "font-weight: bold;\n",
       "}\n",
       ".hoogle-head {\n",
       "font-weight: bold;\n",
       "}\n",
       ".hoogle-sub {\n",
       "display: block;\n",
       "margin-left: 0.4em;\n",
       "}\n",
       ".hoogle-package {\n",
       "font-weight: bold;\n",
       "font-style: italic;\n",
       "}\n",
       ".hoogle-module {\n",
       "font-weight: bold;\n",
       "}\n",
       ".hoogle-class {\n",
       "font-weight: bold;\n",
       "}\n",
       ".get-type {\n",
       "color: green;\n",
       "font-weight: bold;\n",
       "font-family: monospace;\n",
       "display: block;\n",
       "white-space: pre-wrap;\n",
       "}\n",
       ".show-type {\n",
       "color: green;\n",
       "font-weight: bold;\n",
       "font-family: monospace;\n",
       "margin-left: 1em;\n",
       "}\n",
       ".mono {\n",
       "font-family: monospace;\n",
       "display: block;\n",
       "}\n",
       ".err-msg {\n",
       "color: red;\n",
       "font-style: italic;\n",
       "font-family: monospace;\n",
       "white-space: pre;\n",
       "display: block;\n",
       "}\n",
       "#unshowable {\n",
       "color: red;\n",
       "font-weight: bold;\n",
       "}\n",
       ".err-msg.in.collapse {\n",
       "padding-top: 0.7em;\n",
       "}\n",
       ".highlight-code {\n",
       "white-space: pre;\n",
       "font-family: monospace;\n",
       "}\n",
       ".suggestion-warning { \n",
       "font-weight: bold;\n",
       "color: rgb(200, 130, 0);\n",
       "}\n",
       ".suggestion-error { \n",
       "font-weight: bold;\n",
       "color: red;\n",
       "}\n",
       ".suggestion-name {\n",
       "font-weight: bold;\n",
       "}\n",
       "</style><div class=\"suggestion-name\" style=\"clear:both;\">Monad law, left identity</div><div class=\"suggestion-row\" style=\"float: left;\"><div class=\"suggestion-warning\">Found:</div><div class=\"highlight-code\" id=\"haskell\">return (coolTree, []) >>= goRight</div></div><div class=\"suggestion-row\" style=\"float: left;\"><div class=\"suggestion-warning\">Why Not:</div><div class=\"highlight-code\" id=\"haskell\">goRight (coolTree, [])</div></div><div class=\"suggestion-name\" style=\"clear:both;\">Monad law, left identity</div><div class=\"suggestion-row\" style=\"float: left;\"><div class=\"suggestion-warning\">Found:</div><div class=\"highlight-code\" id=\"haskell\">return (coolTree, []) >>= goRight</div></div><div class=\"suggestion-row\" style=\"float: left;\"><div class=\"suggestion-warning\">Why Not:</div><div class=\"highlight-code\" id=\"haskell\">goRight (coolTree, [])</div></div><div class=\"suggestion-name\" style=\"clear:both;\">Monad law, left identity</div><div class=\"suggestion-row\" style=\"float: left;\"><div class=\"suggestion-warning\">Found:</div><div class=\"highlight-code\" id=\"haskell\">return (coolTree, []) >>= goRight</div></div><div class=\"suggestion-row\" style=\"float: left;\"><div class=\"suggestion-warning\">Why Not:</div><div class=\"highlight-code\" id=\"haskell\">goRight (coolTree, [])</div></div>"
      ],
      "text/plain": [
       "Line 3: Monad law, left identity\n",
       "Found:\n",
       "return (coolTree, []) >>= goRight\n",
       "Why not:\n",
       "goRight (coolTree, [])Line 4: Monad law, left identity\n",
       "Found:\n",
       "return (coolTree, []) >>= goRight\n",
       "Why not:\n",
       "goRight (coolTree, [])Line 5: Monad law, left identity\n",
       "Found:\n",
       "return (coolTree, []) >>= goRight\n",
       "Why not:\n",
       "goRight (coolTree, [])"
      ]
     },
     "metadata": {},
     "output_type": "display_data"
    },
    {
     "data": {
      "text/plain": [
       "Just (Node 3 Empty Empty,[RightCrumb 1 Empty])"
      ]
     },
     "metadata": {},
     "output_type": "display_data"
    },
    {
     "data": {
      "text/plain": [
       "Just (Empty,[RightCrumb 3 Empty,RightCrumb 1 Empty])"
      ]
     },
     "metadata": {},
     "output_type": "display_data"
    },
    {
     "data": {
      "text/plain": [
       "Nothing"
      ]
     },
     "metadata": {},
     "output_type": "display_data"
    }
   ],
   "source": [
    "coolTree = Node 1 Empty (Node 3 Empty Empty)\n",
    "-- 바인딩하기 위해 return으로 최소 디폴트 콘텍스트를 부여\n",
    "return (coolTree, []) >>= goRight\n",
    "return (coolTree, []) >>= goRight >>= goRight\n",
    "return (coolTree, []) >>= goRight >>= goRight >>= goRight"
   ]
  }
 ],
 "metadata": {
  "kernelspec": {
   "display_name": "Haskell",
   "language": "haskell",
   "name": "haskell"
  },
  "language_info": {
   "codemirror_mode": "Haskell",
   "file_extension": ".hs",
   "mimetype": "text/x-haskell",
   "name": "haskell",
   "pygments_lexer": "Haskell",
   "version": "8.10.4"
  }
 },
 "nbformat": 4,
 "nbformat_minor": 5
}
