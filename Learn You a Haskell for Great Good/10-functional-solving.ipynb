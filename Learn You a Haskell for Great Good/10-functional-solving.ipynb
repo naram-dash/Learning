{
 "cells": [
  {
   "cell_type": "markdown",
   "id": "cf5d26d0-937b-4e08-8210-6a9fbd81e42f",
   "metadata": {},
   "source": [
    "# 함수적으로 문제 해결하기"
   ]
  },
  {
   "cell_type": "markdown",
   "id": "2b330d1f-fc42-464a-9307-e2bfd0d3794f",
   "metadata": {},
   "source": [
    "## 역 폴란드 기법 계산기"
   ]
  },
  {
   "cell_type": "code",
   "execution_count": 1,
   "id": "c804bce1-c2b2-42b2-bc7e-35991f55dc98",
   "metadata": {},
   "outputs": [],
   "source": [
    "solveRPN :: String -> Double\n",
    "solveRPN = head . foldl foldingFunction [] . words \n",
    "    where foldingFunction (x:y:ys) \"*\" = (y * x):ys\n",
    "          foldingFunction (x:y:ys) \"+\" = (y + x):ys\n",
    "          foldingFunction (x:y:ys) \"-\" = (y - x):ys\n",
    "          foldingFunction xs numberString = read numberString:xs"
   ]
  },
  {
   "cell_type": "code",
   "execution_count": 5,
   "id": "986a3341-b0d0-423f-aa49-58ef25adbf51",
   "metadata": {},
   "outputs": [
    {
     "data": {
      "text/plain": [
       "-4.0"
      ]
     },
     "metadata": {},
     "output_type": "display_data"
    },
    {
     "data": {
      "text/plain": [
       "5.5"
      ]
     },
     "metadata": {},
     "output_type": "display_data"
    },
    {
     "data": {
      "text/plain": [
       "-3947.0"
      ]
     },
     "metadata": {},
     "output_type": "display_data"
    },
    {
     "data": {
      "text/plain": [
       "4037.0"
      ]
     },
     "metadata": {},
     "output_type": "display_data"
    },
    {
     "data": {
      "text/plain": [
       "86.2"
      ]
     },
     "metadata": {},
     "output_type": "display_data"
    }
   ],
   "source": [
    "solveRPN \"10 4 3 + 2 * -\"\n",
    "solveRPN \"2 3.5 +\"\n",
    "solveRPN \"90 34 12 33 55 66 + * - +\"\n",
    "solveRPN \"90 34 12 33 55 66 + * - + -\"\n",
    "solveRPN \"90 3.8 -\""
   ]
  },
  {
   "cell_type": "code",
   "execution_count": 6,
   "id": "81ab885c-b2d1-4afa-bd22-0219e74fa503",
   "metadata": {},
   "outputs": [],
   "source": [
    "solveRPN :: String -> Float  \n",
    "solveRPN = head . foldl foldingFunction [] . words  \n",
    "    where   foldingFunction (x:y:ys) \"*\" = (x * y):ys  \n",
    "            foldingFunction (x:y:ys) \"+\" = (x + y):ys  \n",
    "            foldingFunction (x:y:ys) \"-\" = (y - x):ys  \n",
    "            foldingFunction (x:y:ys) \"/\" = (y / x):ys  \n",
    "            foldingFunction (x:y:ys) \"^\" = (y ** x):ys  \n",
    "            foldingFunction (x:xs) \"ln\" = log x:xs  \n",
    "            foldingFunction xs \"sum\" = [sum xs]  \n",
    "            foldingFunction xs numberString = read numberString:xs  "
   ]
  },
  {
   "cell_type": "code",
   "execution_count": 8,
   "id": "164abed8-96ee-46cd-a6ee-b22c37264601",
   "metadata": {},
   "outputs": [
    {
     "data": {
      "text/plain": [
       "0.9932518"
      ]
     },
     "metadata": {},
     "output_type": "display_data"
    },
    {
     "data": {
      "text/plain": [
       "10.0"
      ]
     },
     "metadata": {},
     "output_type": "display_data"
    },
    {
     "data": {
      "text/plain": [
       "12.5"
      ]
     },
     "metadata": {},
     "output_type": "display_data"
    },
    {
     "data": {
      "text/plain": [
       "100.0"
      ]
     },
     "metadata": {},
     "output_type": "display_data"
    }
   ],
   "source": [
    "solveRPN \"2.7 ln\" \n",
    "solveRPN \"10 10 10 10 sum 4 /\"  \n",
    "solveRPN \"10 10 10 10 10 sum 4 /\"  \n",
    "solveRPN \"10 2 ^\" "
   ]
  },
  {
   "cell_type": "markdown",
   "id": "c1b2a0a8-7a6d-4a38-9c23-62576ebd086b",
   "metadata": {},
   "source": [
    "## 히드로 공항에서 런던까지"
   ]
  },
  {
   "cell_type": "code",
   "execution_count": 18,
   "id": "47c9c857-be77-4fad-b24c-b0a1435ea89d",
   "metadata": {},
   "outputs": [],
   "source": [
    "data Section = Section {getA :: Int, getB :: Int, getC :: Int}\n",
    "    deriving (Show)\n",
    "    \n",
    "type RoadSystem = [Section]\n",
    "\n",
    "heathrowToLondon :: RoadSystem\n",
    "heathrowToLondon = [ Section 50 10 30\n",
    "                   , Section 5 90 20\n",
    "                   , Section 40 2 25\n",
    "                   , Section 10 8 0\n",
    "                   ]"
   ]
  },
  {
   "cell_type": "code",
   "execution_count": 20,
   "id": "2d2b8a35-9392-49ba-ab6a-476f59359821",
   "metadata": {},
   "outputs": [],
   "source": [
    "data Label = A | B | C deriving (Show)\n",
    "type Path = [(Label, Int)]\n",
    "\n",
    "roadStep :: (Path, Path) -> Section -> (Path, Path)\n",
    "roadStep (pathA, pathB) (Section a b c) =\n",
    "    let timeA = sum (map snd pathA)\n",
    "        timeB = sum (map snd pathB)\n",
    "        forwardTimeToA = timeA + a\n",
    "        crossTimeToA = timeB + b + c\n",
    "        forwardTimeToB = timeB + b\n",
    "        crossTimeToB = timeA + a + c\n",
    "        newPathToA = if forwardTimeToA <= crossTimeToA\n",
    "                     then (A, a):pathA\n",
    "                     else (C, c):(B, b):pathB\n",
    "        newPathToB = if forwardTimeToB <= crossTimeToB\n",
    "                     then (B, b): pathB\n",
    "                     else (C, c): (A, a):pathA\n",
    "    in (newPathToA, newPathToB)"
   ]
  },
  {
   "cell_type": "code",
   "execution_count": 21,
   "id": "f83294ae-8884-4de6-83db-bc5362024bae",
   "metadata": {},
   "outputs": [
    {
     "data": {
      "text/plain": [
       "([(C,30),(B,10)],[(B,10)])"
      ]
     },
     "metadata": {},
     "output_type": "display_data"
    }
   ],
   "source": [
    "roadStep ([], []) (head heathrowToLondon)"
   ]
  },
  {
   "cell_type": "code",
   "execution_count": 24,
   "id": "40f15d24-6bc2-4193-b037-6d26b066fe01",
   "metadata": {},
   "outputs": [],
   "source": [
    "optimalPath :: RoadSystem -> Path\n",
    "optimalPath roadSystem = \n",
    "    let (bestAPath, bestBPath) = foldl roadStep ([], []) roadSystem\n",
    "    in if sum (map snd bestAPath) <= sum (map snd bestBPath)\n",
    "        then reverse bestAPath\n",
    "        else reverse bestBPath"
   ]
  },
  {
   "cell_type": "code",
   "execution_count": 25,
   "id": "23201eda-b0af-480a-85c5-af5e25615dee",
   "metadata": {},
   "outputs": [
    {
     "data": {
      "text/plain": [
       "[(B,10),(C,30),(A,5),(C,20),(B,2),(B,8),(C,0)]"
      ]
     },
     "metadata": {},
     "output_type": "display_data"
    }
   ],
   "source": [
    "optimalPath heathrowToLondon"
   ]
  }
 ],
 "metadata": {
  "kernelspec": {
   "display_name": "Haskell",
   "language": "haskell",
   "name": "haskell"
  },
  "language_info": {
   "codemirror_mode": "Haskell",
   "file_extension": ".hs",
   "mimetype": "text/x-haskell",
   "name": "haskell",
   "pygments_lexer": "Haskell",
   "version": "8.10.4"
  }
 },
 "nbformat": 4,
 "nbformat_minor": 5
}
