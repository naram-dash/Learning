{
 "metadata": {
  "kernelspec": {
   "display_name": ".NET (F#)",
   "language": "F#",
   "name": ".net-fsharp"
  },
  "language_info": {
   "name": "F#"
  }
 },
 "cells": [
  {
   "cell_type": "code",
   "execution_count": null,
   "source": [
    "\r\n",
    "let tupledAdd(a,b) = a + b      \r\n",
    "let answer = tupledAdd (5,10)\r\n",
    "// (int * int) -> int\r\n",
    "\r\n",
    "let curriedAdd a b = a + b      \r\n",
    "let answer = curriedAdd 5 10\r\n",
    "// int -> int -> int"
   ],
   "outputs": [
    {
     "output_type": "error",
     "ename": "Error",
     "evalue": "input.fsx (6,5)-(6,11) typecheck error value 'answer'의 정의가 중복되었습니다.",
     "traceback": [
      "input.fsx (6,5)-(6,11) typecheck error value 'answer'의 정의가 중복되었습니다."
     ]
    }
   ],
   "metadata": {
    "dotnet_interactive": {
     "language": "fsharp"
    }
   }
  },
  {
   "cell_type": "code",
   "execution_count": null,
   "source": [
    "let add first second = first + second       \r\n",
    "let addFive = add 5                        \r\n",
    "// currying \r\n",
    "let fifteen = addFive 10                    "
   ],
   "outputs": [],
   "metadata": {
    "dotnet_interactive": {
     "language": "fsharp"
    }
   }
  },
  {
   "cell_type": "code",
   "execution_count": null,
   "source": [
    "open System\r\n",
    "let buildDt year month day = DateTime(year, month, day)\r\n",
    "let buildDtThisYear month day = buildDt DateTime.UtcNow.Year month day\r\n",
    "let buildDtThisMonth day = buildDtThisYear DateTime.UtcNow.Month day\r\n",
    "//  Explicitly (arguments) creating wrapper functions in F#"
   ],
   "outputs": [],
   "metadata": {
    "dotnet_interactive": {
     "language": "fsharp"
    }
   }
  },
  {
   "cell_type": "code",
   "execution_count": null,
   "source": [
    "let buildDtThisYear = buildDt DateTime.UtcNow.Year\r\n",
    "let buildDtThisMonth = buildDtThisYear DateTime.UtcNow.Month\r\n",
    "// Creating wrapper functions by currying"
   ],
   "outputs": [],
   "metadata": {
    "dotnet_interactive": {
     "language": "fsharp"
    }
   }
  },
  {
   "cell_type": "code",
   "execution_count": null,
   "source": [
    "open System\r\n",
    "open System.IO\r\n",
    "let writeToFile (date:DateTime) filename text =\r\n",
    "    let path = sprintf \"%s-%s.txt\" (date.ToString \"yyMMdd\") filename\r\n",
    "    File.WriteAllText(path, text)"
   ],
   "outputs": [],
   "metadata": {
    "dotnet_interactive": {
     "language": "fsharp"
    }
   }
  },
  {
   "cell_type": "code",
   "execution_count": null,
   "source": [
    "let writeToToday = writeToFile DateTime.UtcNow.Date \r\n",
    "let writeToTomorrow = writeToFile (DateTime.UtcNow.Date.AddDays 1.)\r\n",
    "let writeToTodayHelloWorld = writeToToday \"hello-world\" \r\n",
    "// 다 curried function\r\n",
    "\r\n",
    "writeToToday \"first-file\" \"The quick brown fox jumped over the lazy dog\" \r\n",
    "writeToTomorrow \"second-file\" \"The quick brown fox jumped over the lazy dog\"\r\n",
    "writeToTodayHelloWorld \"The quick brown fox jumped over the lazy dog\""
   ],
   "outputs": [],
   "metadata": {
    "dotnet_interactive": {
     "language": "fsharp"
    }
   }
  },
  {
   "cell_type": "code",
   "execution_count": null,
   "source": [
    "let time =\r\n",
    "    let directory = Directory.GetCurrentDirectory()      \r\n",
    "    Directory.GetCreationTime directory                  \r\n",
    "checkCreation time"
   ],
   "outputs": [],
   "metadata": {
    "dotnet_interactive": {
     "language": "fsharp"
    }
   }
  },
  {
   "cell_type": "code",
   "execution_count": null,
   "source": [
    "checkCreation(\r\n",
    "    Directory.GetCreationTime(\r\n",
    "        Directory.GetCurrentDirectory()))         "
   ],
   "outputs": [],
   "metadata": {
    "dotnet_interactive": {
     "language": "fsharp"
    }
   }
  },
  {
   "cell_type": "code",
   "execution_count": null,
   "source": [
    "Directory.GetCurrentDirectory()      \r\n",
    "|> Directory.GetCreationTime         \r\n",
    "|> checkCreation                     "
   ],
   "outputs": [],
   "metadata": {
    "dotnet_interactive": {
     "language": "fsharp"
    }
   }
  },
  {
   "cell_type": "code",
   "execution_count": null,
   "source": [
    "let answer = 10 |> add 5 |> timesBy 2 |> add 20 |> add 7 |> timesBy 3   \r\n",
    "\r\n",
    "loadCustomer 17 |> buildReport |> convertTo Format.PDF |> postToQueue   \r\n",
    "\r\n",
    "let customersWithOverdueOrders =\r\n",
    "    getSqlConnection \"DevelopmentDb\"\r\n",
    "    |> createDbConnection\r\n",
    "    |> findCustomersWithOrders Status.Outstanding (TimeSpan.FromDays 7.0)"
   ],
   "outputs": [
    {
     "output_type": "error",
     "ename": "Error",
     "evalue": "input.fsx (1,20)-(1,23) typecheck error 'add' 값 또는 생성자가 정의되지 않았습니다.\ninput.fsx (1,29)-(1,36) typecheck error 'timesBy' 값 또는 생성자가 정의되지 않았습니다. 다음 중 하나가 필요할 수 있습니다:\r\n   Timers\r\n   TimeSpan\ninput.fsx (1,42)-(1,45) typecheck error 'add' 값 또는 생성자가 정의되지 않았습니다.\ninput.fsx (1,52)-(1,55) typecheck error 'add' 값 또는 생성자가 정의되지 않았습니다.\ninput.fsx (1,61)-(1,68) typecheck error 'timesBy' 값 또는 생성자가 정의되지 않았습니다. 다음 중 하나가 필요할 수 있습니다:\r\n   Timers\r\n   TimeSpan\ninput.fsx (3,1)-(3,13) typecheck error 'loadCustomer' 값 또는 생성자가 정의되지 않았습니다.\ninput.fsx (3,20)-(3,31) typecheck error 'buildReport' 값 또는 생성자가 정의되지 않았습니다. 다음 중 하나가 필요할 수 있습니다:\r\n   buildDt\ninput.fsx (3,35)-(3,44) typecheck error 'convertTo' 값 또는 생성자가 정의되지 않았습니다. 다음 중 하나가 필요할 수 있습니다:\r\n   Converter\r\n   Convert\r\n   Control\ninput.fsx (3,59)-(3,70) typecheck error 'postToQueue' 값 또는 생성자가 정의되지 않았습니다.\ninput.fsx (6,5)-(6,21) typecheck error 'getSqlConnection' 값 또는 생성자가 정의되지 않았습니다.\ninput.fsx (7,8)-(7,26) typecheck error 'createDbConnection' 값 또는 생성자가 정의되지 않았습니다.\ninput.fsx (8,8)-(8,31) typecheck error 'findCustomersWithOrders' 값 또는 생성자가 정의되지 않았습니다.",
     "traceback": [
      "input.fsx (1,20)-(1,23) typecheck error 'add' 값 또는 생성자가 정의되지 않았습니다.\n",
      "input.fsx (1,29)-(1,36) typecheck error 'timesBy' 값 또는 생성자가 정의되지 않았습니다. 다음 중 하나가 필요할 수 있습니다:\r\n",
      "   Timers\r\n",
      "   TimeSpan\n",
      "input.fsx (1,42)-(1,45) typecheck error 'add' 값 또는 생성자가 정의되지 않았습니다.\n",
      "input.fsx (1,52)-(1,55) typecheck error 'add' 값 또는 생성자가 정의되지 않았습니다.\n",
      "input.fsx (1,61)-(1,68) typecheck error 'timesBy' 값 또는 생성자가 정의되지 않았습니다. 다음 중 하나가 필요할 수 있습니다:\r\n",
      "   Timers\r\n",
      "   TimeSpan\n",
      "input.fsx (3,1)-(3,13) typecheck error 'loadCustomer' 값 또는 생성자가 정의되지 않았습니다.\n",
      "input.fsx (3,20)-(3,31) typecheck error 'buildReport' 값 또는 생성자가 정의되지 않았습니다. 다음 중 하나가 필요할 수 있습니다:\r\n",
      "   buildDt\n",
      "input.fsx (3,35)-(3,44) typecheck error 'convertTo' 값 또는 생성자가 정의되지 않았습니다. 다음 중 하나가 필요할 수 있습니다:\r\n",
      "   Converter\r\n",
      "   Convert\r\n",
      "   Control\n",
      "input.fsx (3,59)-(3,70) typecheck error 'postToQueue' 값 또는 생성자가 정의되지 않았습니다.\n",
      "input.fsx (6,5)-(6,21) typecheck error 'getSqlConnection' 값 또는 생성자가 정의되지 않았습니다.\n",
      "input.fsx (7,8)-(7,26) typecheck error 'createDbConnection' 값 또는 생성자가 정의되지 않았습니다.\n",
      "input.fsx (8,8)-(8,31) typecheck error 'findCustomersWithOrders' 값 또는 생성자가 정의되지 않았습니다."
     ]
    }
   ],
   "metadata": {
    "dotnet_interactive": {
     "language": "fsharp"
    }
   }
  },
  {
   "cell_type": "code",
   "execution_count": null,
   "source": [
    "let startingPetrol = 100.0\r\n",
    "let petrol1 = drive(petrol, \"far\")         1\r\n",
    "let petrol2 = drive(petrol1, \"medium\")     2\r\n",
    "let petrol3 = drive(petrol2, \"short\")"
   ],
   "outputs": [],
   "metadata": {
    "dotnet_interactive": {
     "language": "fsharp"
    }
   }
  },
  {
   "cell_type": "code",
   "execution_count": null,
   "source": [
    "let drive distance petrol = // code elided...   \r\n",
    "let startPetrol = 100.0                         \r\n",
    "\r\n",
    "startPetrol\r\n",
    "|> drive \"far\"                                  \r\n",
    "|> drive \"medium\"\r\n",
    "|> drive \"short\""
   ],
   "outputs": [],
   "metadata": {
    "dotnet_interactive": {
     "language": "fsharp"
    }
   }
  },
  {
   "cell_type": "code",
   "execution_count": null,
   "source": [
    "// composing functions\r\n",
    "let checkCurrentDirectoryAge =\r\n",
    "    Directory.GetCurrentDirectory\r\n",
    "    >> Directory.GetCreationTime\r\n",
    "    >> checkCreation                               \r\n",
    "let description = checkCurrentDirectoryAge()       "
   ],
   "outputs": [],
   "metadata": {
    "dotnet_interactive": {
     "language": "fsharp"
    }
   }
  }
 ],
 "nbformat": 4,
 "nbformat_minor": 2
}