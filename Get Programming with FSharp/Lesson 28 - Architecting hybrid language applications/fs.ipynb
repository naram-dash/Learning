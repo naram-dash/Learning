{
 "metadata": {
  "kernelspec": {
   "display_name": ".NET (F#)",
   "language": "F#",
   "name": ".net-fsharp"
  },
  "language_info": {
   "name": "F#"
  }
 },
 "cells": [
  {
   "cell_type": "code",
   "execution_count": null,
   "source": [
    "// A simple domain model for use within C#\r\n",
    "\r\n",
    "type OrderItemRequest = { ItemId : int; Count : int }\r\n",
    "type OrderRequest =\r\n",
    "    { OrderId : int\r\n",
    "      CustomerName : string // mandatory                     \r\n",
    "      Comment : string // optional                           \r\n",
    "      /// One of (email or telephone), or none\r\n",
    "      EmailUpdates : string                                  \r\n",
    "      TelephoneUpdates : string\r\n",
    "      Items : IEnumerable<OrderItemRequest> } // mandatory"
   ],
   "outputs": [],
   "metadata": {
    "dotnet_interactive": {
     "language": "fsharp"
    }
   }
  },
  {
   "cell_type": "code",
   "execution_count": null,
   "source": [
    "// Modeling the same domain in F#\r\n",
    "\r\n",
    "type OrderId = OrderId of int\r\n",
    "type ItemId = ItemId of int\r\n",
    "type OrderItem = { ItemId : ItemId; Count : int }\r\n",
    "type UpdatePreference =\r\n",
    "    | EmailUpdates of string\r\n",
    "    | TelephoneUpdates of string\r\n",
    "type Order =\r\n",
    "    { OrderId : OrderId\r\n",
    "      CustomerName : string                                \r\n",
    "      ContactPreference : UpdatePreference option          \r\n",
    "      Comment : string option                              \r\n",
    "      Items : OrderItem list }"
   ],
   "outputs": [],
   "metadata": {
    "dotnet_interactive": {
     "language": "fsharp"
    }
   }
  },
  {
   "cell_type": "code",
   "execution_count": null,
   "source": [
    "{ CustomerName =\r\n",
    "     match orderRequest.CustomerName with                            \r\n",
    "     | null -> failwith \"Customer name must be populated\"\r\n",
    "     | name -> name\r\n",
    "  Comment = orderRequest.Comment |> Option.ofObj                     \r\n",
    "  ContactPreference =                                                \r\n",
    "    match Option.ofObj orderRequest.EmailUpdates, Option.ofObj\r\n",
    "    orderRequest.TelephoneUpdates with\r\n",
    "    | None, None -> None\r\n",
    "    | Some email, None -> Some(EmailUpdates email)\r\n",
    "    | None, Some phone -> Some(TelephoneUpdates phone)\r\n",
    "    | Some _, Some _ -> failwith \"Unable to proceed - only one of telephone\r\n",
    "     and email should be supplied\" }"
   ],
   "outputs": [],
   "metadata": {
    "dotnet_interactive": {
     "language": "fsharp"
    }
   }
  }
 ],
 "nbformat": 4,
 "nbformat_minor": 2
}