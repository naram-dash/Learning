{
 "metadata": {
  "kernelspec": {
   "display_name": ".NET (F#)",
   "language": "F#",
   "name": ".net-fsharp"
  },
  "language_info": {
   "name": "F#"
  }
 },
 "cells": [
  {
   "cell_type": "code",
   "execution_count": null,
   "source": [
    "// Active pattern = lightweight discriminated unions \r\n",
    "// a way of categorize the same value in different ways\r\n",
    "let (|Long|Medium|Short|) (value: string) = \r\n",
    "    if value.Length < 5 then Short\r\n",
    "    elif value.Length <10 then Medium\r\n",
    "    else Long"
   ],
   "outputs": [],
   "metadata": {
    "dotnet_interactive": {
     "language": "fsharp"
    }
   }
  },
  {
   "cell_type": "code",
   "execution_count": null,
   "source": [
    "match \"Hello\" with \r\n",
    "| Short -> \"this is short\"\r\n",
    "| Medium -> \"this is medium\"\r\n",
    "| Long -> \"this is long\""
   ],
   "outputs": [
    {
     "data": {
      "text/plain": [
       "this is medium"
      ]
     },
     "metadata": {},
     "output_type": "display_data"
    }
   ],
   "metadata": {
    "dotnet_interactive": {
     "language": "fsharp"
    }
   }
  },
  {
   "cell_type": "code",
   "execution_count": null,
   "source": [
    "// computation expression\r\n",
    "type Maybe() =                                                     \r\n",
    "    member this.Bind(opt, func) = opt |> Option.bind func          \r\n",
    "    member this.Return v = Some v                                  \r\n",
    "let maybe = Maybe()\r\n",
    "let rateCustomer name =\r\n",
    "    match name with | \"isaac\" -> Some 3 | \"mike\" -> Some 2 | _ -> None\r\n",
    "let answer =\r\n",
    "    maybe {                                                       \r\n",
    "        let! first = rateCustomer \"isaac\"                         \r\n",
    "        let! second = rateCustomer \"mike\"\r\n",
    "        return first + second }\r\n",
    "\r\n",
    "answer"
   ],
   "outputs": [
    {
     "data": {
      "text/html": [
       "<table><thead><tr><th>Value</th></tr></thead><tbody><tr><td><div class=\"dni-plaintext\">5</div></td></tr></tbody></table>"
      ]
     },
     "metadata": {},
     "output_type": "display_data"
    }
   ],
   "metadata": {
    "dotnet_interactive": {
     "language": "fsharp"
    }
   }
  },
  {
   "cell_type": "code",
   "execution_count": null,
   "source": [
    "let lazyText =\r\n",
    "    lazy                              \r\n",
    "        let x = 5 + 5\r\n",
    "        printfn \"%O: Hello! Answer is %d\" System.DateTime.UtcNow x\r\n",
    "        x\r\n",
    "let text = lazyText.IsValueCreated            \r\n",
    "let text2 = lazyText.Value        \r\n",
    "text, text2   "
   ],
   "outputs": [
    {
     "output_type": "stream",
     "name": "stdout",
     "text": [
      "2021-08-23 오후 5:36:49: Hello! Answer is 10\r\n"
     ]
    },
    {
     "data": {
      "text/html": [
       "<table><thead><tr><th>Item1</th><th>Item2</th></tr></thead><tbody><tr><td><div class=\"dni-plaintext\">False</div></td><td><div class=\"dni-plaintext\">10</div></td></tr></tbody></table>"
      ]
     },
     "metadata": {},
     "output_type": "display_data"
    }
   ],
   "metadata": {
    "dotnet_interactive": {
     "language": "fsharp"
    }
   }
  },
  {
   "cell_type": "code",
   "execution_count": null,
   "source": [
    "let rec factorial number total =                  \r\n",
    "    if number = 1 then total\r\n",
    "    else\r\n",
    "        printfn \"Number %d\" number\r\n",
    "        factorial (number - 1) (total * number)   \r\n",
    "let total = factorial 5 1                         "
   ],
   "outputs": [
    {
     "output_type": "stream",
     "name": "stdout",
     "text": [
      "Number 5\r\n",
      "Number 4\r\n",
      "Number 3\r\n",
      "Number 2\r\n"
     ]
    }
   ],
   "metadata": {
    "dotnet_interactive": {
     "language": "fsharp"
    }
   }
  }
 ],
 "nbformat": 4,
 "nbformat_minor": 2
}