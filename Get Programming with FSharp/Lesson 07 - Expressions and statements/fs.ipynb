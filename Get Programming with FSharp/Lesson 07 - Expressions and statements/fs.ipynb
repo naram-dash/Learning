{
 "metadata": {
  "kernelspec": {
   "display_name": ".NET (F#)",
   "language": "F#",
   "name": ".net-fsharp"
  },
  "language_info": {
   "name": "F#"
  }
 },
 "cells": [
  {
   "cell_type": "code",
   "execution_count": null,
   "source": [
    "public void DescribeAge(int age)\r\n",
    "{\r\n",
    "    string ageDescription = null; \r\n",
    "    var greeting = \"Hello\";       \r\n",
    "    if (age < 18)  \r\n",
    "        ageDescription = \"Child!\";\r\n",
    "    else if (age < 65)\r\n",
    "        greeting = \"Adult!\";      \r\n",
    "    Console.WriteLine($\"{greeting}! You are a '{ageDescription}'.\");\r\n",
    "}\r\n",
    "DescribeAge(42);"
   ],
   "outputs": [
    {
     "output_type": "stream",
     "name": "stdout",
     "text": [
      "Adult!! You are a ''.\r\n"
     ]
    }
   ],
   "metadata": {
    "dotnet_interactive": {
     "language": "csharp"
    }
   }
  },
  {
   "cell_type": "code",
   "execution_count": null,
   "source": [
    "// single responsiblity\r\n",
    "private static string GetText(int age) {           \r\n",
    "    if (age < 18) return \"Child!\";\r\n",
    "    else if (age < 65) return \"Adult!\";\r\n",
    "    else return \"OAP!\";\r\n",
    "}\r\n",
    "\r\n",
    "public void DescribeAge(int age) {\r\n",
    "    var ageDescription = GetText(age);             \r\n",
    "    var greeting = \"Hello\";\r\n",
    "    Console.WriteLine($\"{greeting}! You are a '{ageDescription}'.\");\r\n",
    "}"
   ],
   "outputs": [],
   "metadata": {
    "dotnet_interactive": {
     "language": "csharp"
    }
   }
  },
  {
   "cell_type": "code",
   "execution_count": null,
   "source": [
    "open System\r\n",
    "let describeAge age =\r\n",
    "    let ageDescription =                \r\n",
    "        if age < 18 then \"Child!\"       \r\n",
    "        elif age < 65 then \"Adult!\"\r\n",
    "        else \"OAP!\"\r\n",
    "\r\n",
    "    let greeting = \"Hello\"\r\n",
    "    Console.WriteLine(\"{0}! You are a '{1}'.\", greeting, ageDescription)\r\n",
    "\r\n",
    "describeAge 50"
   ],
   "outputs": [
    {
     "output_type": "stream",
     "name": "stdout",
     "text": [
      "Hello! You are a 'Adult!'.\r\n"
     ]
    }
   ],
   "metadata": {
    "dotnet_interactive": {
     "language": "fsharp"
    }
   }
  },
  {
   "cell_type": "code",
   "execution_count": null,
   "source": [
    "// Composablity of Expression methods\r\n",
    "public string DescribeAge(int age) {          \r\n",
    "    var ageDescription = default(string);\r\n",
    "    // logic elided\r\n",
    "    return ageDescription;  \r\n",
    "}\r\n",
    "public void DescribeAndPrint(int age) {\r\n",
    "    var ageDescription = DescribeAge(age);       \r\n",
    "    Console.WriteLine($\"You are a '{ageDescription}'.\");\r\n",
    "}"
   ],
   "outputs": [],
   "metadata": {
    "dotnet_interactive": {
     "language": "csharp"
    }
   }
  },
  {
   "cell_type": "code",
   "execution_count": null,
   "source": [
    "// describeAge : age:int -> unit\r\n",
    "// System.Console.WriteLine : unit -> unit\r\n",
    "// \"Test\".GetHashCode : unit -> int\r\n",
    "// let x = describeAge 20 // val x : unit = ()"
   ],
   "outputs": [],
   "metadata": {
    "dotnet_interactive": {
     "language": "fsharp"
    }
   }
  },
  {
   "cell_type": "code",
   "execution_count": null,
   "source": [
    "let uuuunit = () // unit"
   ],
   "outputs": [],
   "metadata": {
    "dotnet_interactive": {
     "language": "fsharp"
    }
   }
  },
  {
   "cell_type": "code",
   "execution_count": null,
   "source": [
    "let writeTextToDisk text =                                          \r\n",
    "    let path = System.IO.Path.GetTempFileName()\r\n",
    "    System.IO.File.WriteAllText(path, text)\r\n",
    "    path\r\n",
    "\r\n",
    "let createManyFiles() =                                           \r\n",
    "// This expression should have type 'unit', but has type 'string'.\r\n",
    "// Use 'ignore' to discard the result of the expression, or 'let'\r\n",
    "// to bind the result to a name.  \r\n",
    "    writeTextToDisk \"The quick brown fox jumped over the lazy dog\" |> ignore\r\n",
    "    writeTextToDisk \"The quick brown fox jumped over the lazy dog\" |> ignore // explitly ignore the result\r\n",
    "    writeTextToDisk \"The quick brown fox jumped over the lazy dog\"\r\n",
    "\r\n",
    "createManyFiles()                                                   "
   ],
   "outputs": [
    {
     "data": {
      "text/plain": [
       "C:\\Users\\juho_\\AppData\\Local\\Temp\\tmpEF59.tmp"
      ]
     },
     "metadata": {},
     "output_type": "display_data"
    }
   ],
   "metadata": {
    "dotnet_interactive": {
     "language": "fsharp"
    }
   }
  },
  {
   "cell_type": "code",
   "execution_count": null,
   "source": [
    "// Statement based  code with unit\r\n",
    "\r\n",
    "let now = System.DateTime.UtcNow.TimeOfDay.TotalHours\r\n",
    "\r\n",
    "if now < 12.0 then Console.WriteLine \"It's morning\"           \r\n",
    "elif now < 18.0 then Console.WriteLine \"It's afternoon\"\r\n",
    "elif now < 20.0 then ignore(5 + 5)                            \r\n",
    "else ()                                                       "
   ],
   "outputs": [
    {
     "output_type": "stream",
     "name": "stdout",
     "text": [
      "It's morning\r\n"
     ]
    }
   ],
   "metadata": {
    "dotnet_interactive": {
     "language": "fsharp"
    }
   }
  }
 ],
 "nbformat": 4,
 "nbformat_minor": 2
}