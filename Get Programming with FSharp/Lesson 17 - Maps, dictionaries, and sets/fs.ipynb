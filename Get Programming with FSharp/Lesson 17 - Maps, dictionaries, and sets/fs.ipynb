{
 "metadata": {
  "kernelspec": {
   "name": ".net-csharp",
   "display_name": ".NET (C#)",
   "language": "C#"
  },
  "language_info": {
   "file_extension": ".cs",
   "mimetype": "text/x-csharp",
   "name": "C#",
   "pygments_lexer": "csharp",
   "version": "9.0"
  },
  "interpreter": {
   "hash": "8c214e84b9d04dda2e0d7193f98695304935b088018c7ea546549a20d596d491"
  }
 },
 "cells": [
  {
   "cell_type": "code",
   "execution_count": null,
   "source": [
    "open System.Collections.Generic\r\n",
    "\r\n",
    "let inventory = Dictionary<string, float>()\r\n",
    "\r\n",
    "inventory.Add(\"Apples\", 0.33)\r\n",
    "inventory.Add(\"Oranges\", 0.23)\r\n",
    "inventory.Add(\"Bananas\", 0.45)\r\n",
    "\r\n",
    "inventory.Remove \"Oranges\"\r\n",
    "\r\n",
    "let bananas = inventory.[\"Bananas\"]\r\n",
    "let oranges = inventory.[\"Oranges\"]"
   ],
   "outputs": [
    {
     "output_type": "error",
     "ename": "Error",
     "evalue": "System.Collections.Generic.KeyNotFoundException: The given key 'Oranges' was not present in the dictionary.\r\n   at System.Collections.Generic.Dictionary`2.get_Item(TKey key)\r\n   at <StartupCode$FSI_0100>.$FSI_0100.main@()",
     "traceback": [
      "System.Collections.Generic.KeyNotFoundException: The given key 'Oranges' was not present in the dictionary.\r\n",
      "   at System.Collections.Generic.Dictionary`2.get_Item(TKey key)\r\n",
      "   at <StartupCode$FSI_0100>.$FSI_0100.main@()"
     ]
    }
   ],
   "metadata": {
    "dotnet_interactive": {
     "language": "fsharp"
    }
   }
  },
  {
   "cell_type": "code",
   "execution_count": null,
   "source": [
    "open System.Collections.Generic\r\n",
    "\r\n",
    "// let inventory = Dictionary<_,_>()\r\n",
    "// inventory.Add(\"Apples\", 0.33)\r\n",
    "let inventory = Dictionary()     \r\n",
    "inventory.Add(\"Apples\", 0.33)"
   ],
   "outputs": [],
   "metadata": {
    "dotnet_interactive": {
     "language": "fsharp"
    }
   }
  },
  {
   "cell_type": "code",
   "execution_count": null,
   "source": [
    "open System.Collections.Generic\r\n",
    "\r\n",
    "let inventory : IDictionary<string, float> =              \r\n",
    "    [ \"Apples\", 0.33; \"Oranges\", 0.23; \"Bananas\", 0.45 ]  \r\n",
    "    |> dict\r\n",
    "\r\n",
    "let bananas = inventory.[\"Bananas\"]\r\n",
    "\r\n",
    "// Error: System.NotSupportedException: 이 값을 변경할 수 없습니다.\r\n",
    "inventory.Add(\"Pineapples\", 0.85)  \r\n",
    "inventory.Remove(\"Bananas\")"
   ],
   "outputs": [
    {
     "output_type": "error",
     "ename": "Error",
     "evalue": "System.NotSupportedException: 이 값을 변경할 수 없습니다.\r\n   at Microsoft.FSharp.Core.ExtraTopLevelOperators.DictImpl`3.System.Collections.Generic.IDictionary<'Key, 'T>.Add(TKey _arg3, T _arg4) in D:\\workspace\\_work\\1\\s\\src\\fsharp\\FSharp.Core\\fslib-extra-pervasives.fs:line 76\r\n   at <StartupCode$FSI_0007>.$FSI_0007.main@()",
     "traceback": [
      "System.NotSupportedException: 이 값을 변경할 수 없습니다.\r\n",
      "   at Microsoft.FSharp.Core.ExtraTopLevelOperators.DictImpl`3.System.Collections.Generic.IDictionary<'Key, 'T>.Add(TKey _arg3, T _arg4) in D:\\workspace\\_work\\1\\s\\src\\fsharp\\FSharp.Core\\fslib-extra-pervasives.fs:line 76\r\n",
      "   at <StartupCode$FSI_0007>.$FSI_0007.main@()"
     ]
    }
   ],
   "metadata": {
    "dotnet_interactive": {
     "language": "fsharp"
    }
   }
  },
  {
   "cell_type": "code",
   "execution_count": null,
   "source": [
    "let inventory =                                             \r\n",
    "    [ \"Apples\", 0.33; \"Oranges\", 0.23; \"Bananas\", 0.45 ]\r\n",
    "    |> Map.ofList                                           \r\n",
    "\r\n",
    "let apples = inventory.[\"Apples\"]                           \r\n",
    "let pineapples = inventory.[\"Pineapples\"]                   \r\n",
    "\r\n",
    "let newInventory =\r\n",
    "    inventory\r\n",
    "    |> Map.add \"Pineapples\" 0.87                            \r\n",
    "    |> Map.remove \"Apples\"                                  "
   ],
   "outputs": [
    {
     "output_type": "error",
     "ename": "Error",
     "evalue": "System.Collections.Generic.KeyNotFoundException: The given key was not present in the dictionary.\r\n   at Microsoft.FSharp.Collections.MapTreeModule.throwKeyNotFound[a]() in D:\\workspace\\_work\\1\\s\\src\\fsharp\\FSharp.Core\\map.fs:line 155\r\n   at Microsoft.FSharp.Collections.MapTreeModule.find[TKey,TValue](IComparer`1 comparer, TKey k, MapTree`2 m) in D:\\workspace\\_work\\1\\s\\src\\fsharp\\FSharp.Core\\map.fs:line 163\r\n   at Microsoft.FSharp.Collections.FSharpMap`2.get_Item(TKey key) in D:\\workspace\\_work\\1\\s\\src\\fsharp\\FSharp.Core\\map.fs:line 626\r\n   at <StartupCode$FSI_0005>.$FSI_0005.main@()",
     "traceback": [
      "System.Collections.Generic.KeyNotFoundException: The given key was not present in the dictionary.\r\n",
      "   at Microsoft.FSharp.Collections.MapTreeModule.throwKeyNotFound[a]() in D:\\workspace\\_work\\1\\s\\src\\fsharp\\FSharp.Core\\map.fs:line 155\r\n",
      "   at Microsoft.FSharp.Collections.MapTreeModule.find[TKey,TValue](IComparer`1 comparer, TKey k, MapTree`2 m) in D:\\workspace\\_work\\1\\s\\src\\fsharp\\FSharp.Core\\map.fs:line 163\r\n",
      "   at Microsoft.FSharp.Collections.FSharpMap`2.get_Item(TKey key) in D:\\workspace\\_work\\1\\s\\src\\fsharp\\FSharp.Core\\map.fs:line 626\r\n",
      "   at <StartupCode$FSI_0005>.$FSI_0005.main@()"
     ]
    }
   ],
   "metadata": {
    "dotnet_interactive": {
     "language": "fsharp"
    }
   }
  },
  {
   "cell_type": "code",
   "execution_count": null,
   "source": [
    "let myBasket = [ \"Apples\"; \"Apples\"; \"Apples\"; \"Bananas\"; \"Pineapples\" ]  \r\n",
    "myBasket |> Set.ofList                                  \r\n",
    "\r\n",
    "// val fruitsILike : Set<string> = set [\"Apples\"; \"Bananas\"; \"Pineapples\"]"
   ],
   "outputs": [
    {
     "data": {
      "text/html": [
       "<table><thead><tr><th><i>index</i></th><th>value</th></tr></thead><tbody><tr><td>0</td><td>Apples</td></tr><tr><td>1</td><td>Bananas</td></tr><tr><td>2</td><td>Pineapples</td></tr></tbody></table>"
      ]
     },
     "metadata": {},
     "output_type": "display_data"
    }
   ],
   "metadata": {
    "dotnet_interactive": {
     "language": "fsharp"
    }
   }
  },
  {
   "cell_type": "code",
   "execution_count": null,
   "source": [
    "let yourBasket = [ \"Kiwi\"; \"Bananas\"; \"Grapes\" ]                     \r\n",
    "\r\n",
    "let allFruitsList = (fruits @ otherFruits) |> List.distinct          \r\n",
    "\r\n",
    "let fruitsYouLike = yourBasket |> Set.ofList                         \r\n",
    "let allFruits = fruitsILike + fruitsYouLike                          "
   ],
   "outputs": [
    {
     "output_type": "error",
     "ename": "Error",
     "evalue": "input.fsx (3,22)-(3,28) typecheck error 'fruits' 값 또는 생성자가 정의되지 않았습니다. 다음 중 하나가 필요할 수 있습니다:\r\n   fruitsILike\ninput.fsx (3,31)-(3,42) typecheck error 'otherFruits' 값 또는 생성자가 정의되지 않았습니다.",
     "traceback": [
      "input.fsx (3,22)-(3,28) typecheck error 'fruits' 값 또는 생성자가 정의되지 않았습니다. 다음 중 하나가 필요할 수 있습니다:\r\n",
      "   fruitsILike\n",
      "input.fsx (3,31)-(3,42) typecheck error 'otherFruits' 값 또는 생성자가 정의되지 않았습니다."
     ]
    }
   ],
   "metadata": {
    "dotnet_interactive": {
     "language": "fsharp"
    }
   }
  },
  {
   "cell_type": "code",
   "execution_count": null,
   "source": [
    "let fruitsJustForMe = allFruits – fruitsYouLike                         \r\n",
    "let fruitsWeCanShare = fruitsILike |> Set.intersect fruitsYouLike       \r\n",
    "let doILikeAllYourFruits = fruitsILike |> Set.isSubset fruitsYouLike    "
   ],
   "outputs": [],
   "metadata": {
    "dotnet_interactive": {
     "language": "fsharp"
    }
   }
  }
 ],
 "nbformat": 4,
 "nbformat_minor": 2
}