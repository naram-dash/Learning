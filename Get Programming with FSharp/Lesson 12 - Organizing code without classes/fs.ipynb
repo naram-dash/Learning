{
 "metadata": {
  "kernelspec": {
   "display_name": ".NET (F#)",
   "language": "F#",
   "name": ".net-fsharp"
  },
  "language_info": {
   "name": "F#"
  }
 },
 "cells": [
  {
   "cell_type": "code",
   "execution_count": null,
   "source": [
    "open CustomerFunctions                                        \r\n",
    "\r\n",
    "let isaac = newCustomer \"isaac\"\r\n",
    "isaac |> activate |> setCity \"London\" |> generateReport       "
   ],
   "outputs": [],
   "metadata": {
    "dotnet_interactive": {
     "language": "fsharp"
    }
   }
  }
 ],
 "nbformat": 4,
 "nbformat_minor": 2
}