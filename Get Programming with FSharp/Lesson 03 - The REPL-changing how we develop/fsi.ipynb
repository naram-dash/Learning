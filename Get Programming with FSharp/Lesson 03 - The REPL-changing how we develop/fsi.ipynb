{
 "metadata": {
  "kernelspec": {
   "display_name": ".NET (F#)",
   "language": "F#",
   "name": ".net-fsharp"
  },
  "language_info": {
   "name": "F#"
  }
 },
 "cells": [
  {
   "cell_type": "code",
   "execution_count": null,
   "source": [
    "printfn \"Hello World!\""
   ],
   "outputs": [
    {
     "data": {
      "text/plain": [
       "Hello World!"
      ]
     },
     "metadata": {},
     "output_type": "display_data"
    },
    {
     "data": {
      "text/plain": [
       "\r\n"
      ]
     },
     "metadata": {},
     "output_type": "display_data"
    }
   ],
   "metadata": {
    "dotnet_interactive": {
     "language": "fsharp"
    }
   }
  },
  {
   "cell_type": "code",
   "execution_count": null,
   "source": [
    "System.DateTime.UtcNow.ToString()"
   ],
   "outputs": [
    {
     "data": {
      "text/plain": [
       "2021-08-05 오후 2:33:01"
      ]
     },
     "metadata": {},
     "output_type": "display_data"
    }
   ],
   "metadata": {
    "dotnet_interactive": {
     "language": "fsharp"
    }
   }
  },
  {
   "cell_type": "code",
   "execution_count": null,
   "source": [
    "let currentTime = System.DateTime.UtcNow\r\n",
    "currentTime.TimeOfDay.ToString()\r\n",
    "// fsi 에서는 뒤에 ;;를 넣어야 한다."
   ],
   "outputs": [
    {
     "data": {
      "text/plain": [
       "14:34:41.4053904"
      ]
     },
     "metadata": {},
     "output_type": "display_data"
    }
   ],
   "metadata": {
    "dotnet_interactive": {
     "language": "fsharp"
    }
   }
  }
 ],
 "nbformat": 4,
 "nbformat_minor": 2
}