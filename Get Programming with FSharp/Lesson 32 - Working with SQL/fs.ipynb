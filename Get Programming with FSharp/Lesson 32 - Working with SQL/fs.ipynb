{
 "metadata": {
  "kernelspec": {
   "display_name": ".NET (F#)",
   "language": "F#",
   "name": ".net-fsharp"
  },
  "language_info": {
   "name": "F#"
  }
 },
 "cells": [
  {
   "cell_type": "code",
   "execution_count": null,
   "source": [
    "#r \"nuget: FSharp.Data.SqlClient\"\r\n",
    "\r\n",
    "open FSharp.Data\r\n",
    "\r\n",
    "let [<Literal>] Conn = \"Server=(localdb)\\MSSQLLocalDb;Database=AdventureWorksLT;Integrated Security=SSPI\"                     \r\n",
    "type GetCustomers =\r\n",
    "    SqlCommandProvider<\"SELECT * FROM SalesLT.Customer\", Conn>       \r\n",
    "let customers =\r\n",
    "    GetCustomers.Create(Conn).Execute() |> Seq.toArray               \r\n",
    "let customer = customers.[0]\r\n",
    "\r\n",
    "customer.MiddleName"
   ],
   "outputs": [
    {
     "data": {
      "text/html": [
       "<div><div></div><div></div><div><strong>Installed Packages</strong><ul><li><span>FSharp.Data.SqlClient, 2.0.7</span></li></ul></div></div>"
      ]
     },
     "metadata": {},
     "output_type": "display_data"
    },
    {
     "data": {
      "text/html": [
       "<table><thead><tr><th>Value</th></tr></thead><tbody><tr><td><div class=\"dni-plaintext\">N.</div></td></tr></tbody></table>"
      ]
     },
     "metadata": {},
     "output_type": "display_data"
    }
   ],
   "metadata": {
    "dotnet_interactive": {
     "language": "fsharp"
    }
   }
  },
  {
   "cell_type": "code",
   "execution_count": null,
   "source": [
    "type AdventureWorks = SqlProgrammabilityProvider<Conn>\r\n",
    "let productCategory = new AdventureWorks.SalesLT.Tables.ProductCategory()\r\n",
    "\r\n",
    "productCategory.AddRow(\"Mittens\", Some 3)\r\n",
    "productCategory.AddRow(\"Long Shorts\", Some 3)\r\n",
    "productCategory.AddRow(\"Wooly Hats\", Some 4)\r\n",
    "// 추가 안되는데..."
   ],
   "outputs": [],
   "metadata": {
    "dotnet_interactive": {
     "language": "fsharp"
    }
   }
  },
  {
   "cell_type": "code",
   "execution_count": null,
   "source": [
    "type Categories = SqlEnumProvider<\"SELECT Name, ProductCategoryId FROM SalesLT.ProductCategory\", Conn>                             \r\n",
    "let woolyHats = Categories.``Wooly Hats``                        \r\n",
    "printfn \"Wooly Hats has ID %d\" woolyHats"
   ],
   "outputs": [
    {
     "output_type": "error",
     "ename": "Error",
     "evalue": "input.fsx (1,19)-(1,103) typecheck error FSharp.Data.SqlEnumProvider' 형식 공급자가 오류를 보고했습니다. DbProviderFactories not available\ninput.fsx (1,19)-(1,103) typecheck error FSharp.Data.SqlEnumProvider' 형식 공급자가 오류를 보고했습니다. DbProviderFactories not available\ninput.fsx (2,28)-(2,42) typecheck error 'Categories' 형식은 'Wooly Hats' 필드, 생성자 또는 멤버를 정의하지 않습니다.",
     "traceback": [
      "input.fsx (1,19)-(1,103) typecheck error FSharp.Data.SqlEnumProvider' 형식 공급자가 오류를 보고했습니다. DbProviderFactories not available\n",
      "input.fsx (1,19)-(1,103) typecheck error FSharp.Data.SqlEnumProvider' 형식 공급자가 오류를 보고했습니다. DbProviderFactories not available\n",
      "input.fsx (2,28)-(2,42) typecheck error 'Categories' 형식은 'Wooly Hats' 필드, 생성자 또는 멤버를 정의하지 않습니다."
     ]
    }
   ],
   "metadata": {
    "dotnet_interactive": {
     "language": "fsharp"
    }
   }
  },
  {
   "cell_type": "code",
   "execution_count": null,
   "source": [
    "// Listing 32.3\r\n",
    "#r \"nuget: FSharp.Data.SqlClient\"\r\n",
    "#r \"nuget: FSharp.Data.SqlProvider\"\r\n",
    "open FSharp.Data.SqlClient\r\n",
    "open FSharp.Data.Sql\r\n",
    "\r\n",
    "type AdventureWorks = SqlDataProvider<ConnectionString = \"Server=(localdb)\\MSSQLLocalDb;Database=AdventureWorksLT;Integrated Security=SSPI\", UseOptionTypes = true>\r\n",
    "\r\n",
    "let context = AdventureWorks.GetDataContext()\r\n",
    "\r\n",
    "type Customer = { Name : string }\r\n",
    "\r\n",
    "let customers = \r\n",
    "    query {\r\n",
    "        for customer in context.SalesLt.Customer do\r\n",
    "        take 10\r\n",
    "    } |> Seq.toArray\r\n",
    "let customer = customers.[0]\r\n"
   ],
   "outputs": [
    {
     "data": {
      "text/html": [
       "<div><div></div><div></div><div><strong>Installed Packages</strong><ul><li><span>FSharp.Data.SqlClient, 2.0.7</span></li></ul></div></div>"
      ]
     },
     "metadata": {},
     "output_type": "display_data"
    },
    {
     "output_type": "error",
     "ename": "Error",
     "evalue": "C:\\Users\\juho_\\AppData\\Local\\Temp\\nuget\\26412--d9610e4b-0ae7-4f3c-9fe6-ae91303617af\\Project.fsproj : error NU1101: FSharp.Data.SqlProvider ��Ű���� ã�� �� �����ϴ�. ������ ID�� Microsoft Visual Studio Offline Packages, nuget.org�� ��Ű���� �����ϴ�.",
     "traceback": [
      "C:\\Users\\juho_\\AppData\\Local\\Temp\\nuget\\26412--d9610e4b-0ae7-4f3c-9fe6-ae91303617af\\Project.fsproj : error NU1101: FSharp.Data.SqlProvider ��Ű���� ã�� �� �����ϴ�. ������ ID�� Microsoft Visual Studio Offline Packages, nuget.org�� ��Ű���� �����ϴ�."
     ]
    }
   ],
   "metadata": {
    "dotnet_interactive": {
     "language": "fsharp"
    }
   }
  },
  {
   "cell_type": "code",
   "execution_count": null,
   "source": [
    "let names = \r\n",
    "    query {\r\n",
    "        for customer in context.SalesLt.Customer do\r\n",
    "        where (customer.CompanyName = Some \"Sharp Bikes\")\r\n",
    "        select { Name = (customer.FirstName + \" \" + customer.LastName) }\r\n",
    "        distinct\r\n",
    "    } |> Seq.toArray"
   ],
   "outputs": [
    {
     "output_type": "error",
     "ename": "Error",
     "evalue": "input.fsx (3,25)-(3,32) typecheck error 'context' 값, 네임스페이스, 형식 또는 모듈이 정의되지 않았습니다. 다음 중 하나가 필요할 수 있습니다:\r\n   AppContext\r\n   ContextBoundObject\r\n   Conn\r\n   Control\r\n   ContextMarshalException\ninput.fsx (4,16)-(4,36) typecheck error 이 프로그램 지점 전의 정보를 기반으로 하는 확인할 수 없는 형식의 개체를 대상으로 조회를 수행합니다. 개체의 형식을 제한하기 위해 이 프로그램 지점 전에 형식 주석이 필요할 수 있습니다. 이를 통해 조회가 확인될 수도 있습니다.\ninput.fsx (5,26)-(5,44) typecheck error 이 프로그램 지점 전의 정보를 기반으로 하는 확인할 수 없는 형식의 개체를 대상으로 조회를 수행합니다. 개체의 형식을 제한하기 위해 이 프로그램 지점 전에 형식 주석이 필요할 수 있습니다. 이를 통해 조회가 확인될 수도 있습니다.\ninput.fsx (5,53)-(5,70) typecheck error 이 프로그램 지점 전의 정보를 기반으로 하는 확인할 수 없는 형식의 개체를 대상으로 조회를 수행합니다. 개체의 형식을 제한하기 위해 이 프로그램 지점 전에 형식 주석이 필요할 수 있습니다. 이를 통해 조회가 확인될 수도 있습니다.\ninput.fsx (5,16)-(5,73) typecheck error FSharp.Data.Parameter' 형식의 'TypeInfo' 필드에 대해 지정된 할당이 없습니다.",
     "traceback": [
      "input.fsx (3,25)-(3,32) typecheck error 'context' 값, 네임스페이스, 형식 또는 모듈이 정의되지 않았습니다. 다음 중 하나가 필요할 수 있습니다:\r\n",
      "   AppContext\r\n",
      "   ContextBoundObject\r\n",
      "   Conn\r\n",
      "   Control\r\n",
      "   ContextMarshalException\n",
      "input.fsx (4,16)-(4,36) typecheck error 이 프로그램 지점 전의 정보를 기반으로 하는 확인할 수 없는 형식의 개체를 대상으로 조회를 수행합니다. 개체의 형식을 제한하기 위해 이 프로그램 지점 전에 형식 주석이 필요할 수 있습니다. 이를 통해 조회가 확인될 수도 있습니다.\n",
      "input.fsx (5,26)-(5,44) typecheck error 이 프로그램 지점 전의 정보를 기반으로 하는 확인할 수 없는 형식의 개체를 대상으로 조회를 수행합니다. 개체의 형식을 제한하기 위해 이 프로그램 지점 전에 형식 주석이 필요할 수 있습니다. 이를 통해 조회가 확인될 수도 있습니다.\n",
      "input.fsx (5,53)-(5,70) typecheck error 이 프로그램 지점 전의 정보를 기반으로 하는 확인할 수 없는 형식의 개체를 대상으로 조회를 수행합니다. 개체의 형식을 제한하기 위해 이 프로그램 지점 전에 형식 주석이 필요할 수 있습니다. 이를 통해 조회가 확인될 수도 있습니다.\n",
      "input.fsx (5,16)-(5,73) typecheck error FSharp.Data.Parameter' 형식의 'TypeInfo' 필드에 대해 지정된 할당이 없습니다."
     ]
    }
   ],
   "metadata": {
    "dotnet_interactive": {
     "language": "fsharp"
    }
   }
  },
  {
   "cell_type": "code",
   "execution_count": null,
   "source": [
    "let category = context.SalesLt.ProductCategory.Create()\r\n",
    "category.ParentProductCategoryId <- Some 3\r\n",
    "category.Name <- \"Scarf\"\r\n",
    "context.SubmitUpdates()\r\n"
   ],
   "outputs": [
    {
     "output_type": "error",
     "ename": "Error",
     "evalue": "input.fsx (1,16)-(1,23) typecheck error 'context' 값, 네임스페이스, 형식 또는 모듈이 정의되지 않았습니다. 다음 중 하나가 필요할 수 있습니다:\r\n   AppContext\r\n   ContextBoundObject\r\n   Conn\r\n   Control\r\n   ContextMarshalException\ninput.fsx (2,1)-(2,33) typecheck error 이 프로그램 지점 전의 정보를 기반으로 하는 확인할 수 없는 형식의 개체를 대상으로 조회를 수행합니다. 개체의 형식을 제한하기 위해 이 프로그램 지점 전에 형식 주석이 필요할 수 있습니다. 이를 통해 조회가 확인될 수도 있습니다.\ninput.fsx (3,1)-(3,14) typecheck error 이 필드는 변경할 수 없습니다.\ninput.fsx (4,1)-(4,8) typecheck error 'context' 값, 네임스페이스, 형식 또는 모듈이 정의되지 않았습니다. 다음 중 하나가 필요할 수 있습니다:\r\n   AppContext\r\n   ContextBoundObject\r\n   Conn\r\n   Control\r\n   ContextMarshalException",
     "traceback": [
      "input.fsx (1,16)-(1,23) typecheck error 'context' 값, 네임스페이스, 형식 또는 모듈이 정의되지 않았습니다. 다음 중 하나가 필요할 수 있습니다:\r\n",
      "   AppContext\r\n",
      "   ContextBoundObject\r\n",
      "   Conn\r\n",
      "   Control\r\n",
      "   ContextMarshalException\n",
      "input.fsx (2,1)-(2,33) typecheck error 이 프로그램 지점 전의 정보를 기반으로 하는 확인할 수 없는 형식의 개체를 대상으로 조회를 수행합니다. 개체의 형식을 제한하기 위해 이 프로그램 지점 전에 형식 주석이 필요할 수 있습니다. 이를 통해 조회가 확인될 수도 있습니다.\n",
      "input.fsx (3,1)-(3,14) typecheck error 이 필드는 변경할 수 없습니다.\n",
      "input.fsx (4,1)-(4,8) typecheck error 'context' 값, 네임스페이스, 형식 또는 모듈이 정의되지 않았습니다. 다음 중 하나가 필요할 수 있습니다:\r\n",
      "   AppContext\r\n",
      "   ContextBoundObject\r\n",
      "   Conn\r\n",
      "   Control\r\n",
      "   ContextMarshalException"
     ]
    }
   ],
   "metadata": {
    "dotnet_interactive": {
     "language": "fsharp"
    }
   }
  },
  {
   "cell_type": "code",
   "execution_count": null,
   "source": [
    "// Listing 32.6\r\n",
    "let mittens =\r\n",
    "    context.SalesLt.ProductCategory\r\n",
    "                   .Individuals\r\n",
    "                   .``As Name``\r\n",
    "                   ."
   ],
   "outputs": [],
   "metadata": {
    "dotnet_interactive": {
     "language": "fsharp"
    }
   }
  }
 ],
 "nbformat": 4,
 "nbformat_minor": 2
}