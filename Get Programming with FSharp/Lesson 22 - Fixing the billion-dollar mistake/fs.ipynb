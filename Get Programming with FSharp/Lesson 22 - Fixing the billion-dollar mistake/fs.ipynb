{
 "metadata": {
  "kernelspec": {
   "display_name": ".NET (F#)",
   "language": "F#",
   "name": ".net-fsharp"
  },
  "language_info": {
   "name": "F#"
  }
 },
 "cells": [
  {
   "cell_type": "code",
   "execution_count": null,
   "source": [
    "// JSON\r\n",
    "{ \"Drivers\" :\r\n",
    "    [ { \"Name\" : \"Fred Smith\", \"SafetyScore\": 550, \"YearPassed\" : 1980 }, \r\n",
    "      { \"Name\" : \"Jane Dunn\", \"YearPassed\" : 1980 } ] }                   "
   ],
   "outputs": [
    {
     "output_type": "error",
     "ename": "Error",
     "evalue": "input.fsx (1,13)-(1,14) parse error 예기치 않은 ':' 기호입니다. 식'}' 기호 또는 기타 토큰이 필요합니다.\ninput.fsx (1,1)-(1,2) parse error '{'의 짝이 맞지 않습니다.\ninput.fsx (1,1)-(1,12) typecheck error 레코드, 시퀀스 또는 계산 식이 잘못되었습니다. 시퀀스 식의 형식은 'seq { ... }'여야 합니다.",
     "traceback": [
      "input.fsx (1,13)-(1,14) parse error 예기치 않은 ':' 기호입니다. 식'}' 기호 또는 기타 토큰이 필요합니다.\n",
      "input.fsx (1,1)-(1,2) parse error '{'의 짝이 맞지 않습니다.\n",
      "input.fsx (1,1)-(1,12) typecheck error 레코드, 시퀀스 또는 계산 식이 잘못되었습니다. 시퀀스 식의 형식은 'seq { ... }'여야 합니다."
     ]
    }
   ],
   "metadata": {
    "dotnet_interactive": {
     "language": "fsharp"
    }
   }
  },
  {
   "cell_type": "code",
   "execution_count": null,
   "source": [
    "string x = null;          \r\n",
    "var length = x.Length;    "
   ],
   "outputs": [
    {
     "output_type": "error",
     "ename": "Error",
     "evalue": "System.NullReferenceException: Object reference not set to an instance of an object.\r\n   at Submission#4.<<Initialize>>d__0.MoveNext()\r\n--- End of stack trace from previous location ---\r\n   at Microsoft.CodeAnalysis.Scripting.ScriptExecutionState.RunSubmissionsAsync[TResult](ImmutableArray`1 precedingExecutors, Func`2 currentExecutor, StrongBox`1 exceptionHolderOpt, Func`2 catchExceptionOpt, CancellationToken cancellationToken)",
     "traceback": [
      "System.NullReferenceException: Object reference not set to an instance of an object.\r\n",
      "   at Submission#4.<<Initialize>>d__0.MoveNext()\r\n",
      "--- End of stack trace from previous location ---\r\n",
      "   at Microsoft.CodeAnalysis.Scripting.ScriptExecutionState.RunSubmissionsAsync[TResult](ImmutableArray`1 precedingExecutors, Func`2 currentExecutor, StrongBox`1 exceptionHolderOpt, Func`2 catchExceptionOpt, CancellationToken cancellationToken)"
     ]
    }
   ],
   "metadata": {
    "dotnet_interactive": {
     "language": "csharp"
    }
   }
  },
  {
   "cell_type": "code",
   "execution_count": null,
   "source": [
    "public void Foo(string test)      \r\n",
    "{\r\n",
    "    if (test == null)             \r\n",
    "        return\r\n",
    "    // Main logic here..."
   ],
   "outputs": [
    {
     "output_type": "error",
     "ename": "Error",
     "evalue": "(4,15): error CS1733: 식이 필요합니다.\r\n(4,15): error CS1002: ;이 필요합니다.\r\n(4,15): error CS1513: }가 필요합니다.",
     "traceback": [
      "(4,15): error CS1733: 식이 필요합니다.\r\n",
      "(4,15): error CS1002: ;이 필요합니다.\r\n",
      "(4,15): error CS1513: }가 필요합니다."
     ]
    }
   ],
   "metadata": {
    "dotnet_interactive": {
     "language": "csharp"
    }
   }
  },
  {
   "cell_type": "code",
   "execution_count": null,
   "source": [
    "let myMainDisk =\r\n",
    "    { Manufacturer = \"HardDisks Inc.\"\r\n",
    "      SizeGb = 500\r\n",
    "      DiskData = null }                "
   ],
   "outputs": [
    {
     "output_type": "error",
     "ename": "Error",
     "evalue": "input.fsx (2,7)-(2,19) typecheck error 레코드 레이블 'Manufacturer'이(가) 정의되지 않았습니다.",
     "traceback": [
      "input.fsx (2,7)-(2,19) typecheck error 레코드 레이블 'Manufacturer'이(가) 정의되지 않았습니다."
     ]
    }
   ],
   "metadata": {
    "dotnet_interactive": {
     "language": "fsharp"
    }
   }
  },
  {
   "cell_type": "code",
   "execution_count": null,
   "source": [
    "let aNumber : int = 10\r\n",
    "let maybeANumber : int option = Some 10                         \r\n",
    "\r\n",
    "let calculateAnnualPremiumUsd score =\r\n",
    "    match score with\r\n",
    "    | Some 0 -> 250                                             \r\n",
    "    | Some score when score < 0 -> 400\r\n",
    "    | Some score when score > 0 -> 150\r\n",
    "    | None ->                                                   \r\n",
    "        printfn \"No score supplied! Using temporary premium.\"\r\n",
    "        300\r\n",
    "\r\n",
    "calculateAnnualPremiumUsd (Some 250)                            \r\n",
    "calculateAnnualPremiumUsd None"
   ],
   "outputs": [
    {
     "output_type": "stream",
     "name": "stdout",
     "text": [
      "No score supplied! Using temporary premium.\r\n"
     ]
    },
    {
     "output_type": "display_data",
     "data": {
      "text/html": [
       "<div class=\"dni-plaintext\">300</div>"
      ]
     },
     "metadata": {}
    }
   ],
   "metadata": {
    "dotnet_interactive": {
     "language": "fsharp"
    }
   }
  },
  {
   "cell_type": "code",
   "execution_count": null,
   "source": [
    "let description =\r\n",
    "    match customer.SafetyScore with\r\n",
    "    | Some score -> Some(describe score)                      \r\n",
    "    | None -> None\r\n",
    "\r\n",
    "let descriptionTwo =\r\n",
    "    customer.SafetyScore\r\n",
    "    |> Option.map(fun score -> describe score)                \r\n",
    "\r\n",
    "let shorthand = customer.SafetyScore |> Option.map describe   \r\n",
    "let optionalDescribe = Option.map describe                    "
   ],
   "outputs": [
    {
     "output_type": "error",
     "ename": "Error",
     "evalue": "input.fsx (2,11)-(2,19) typecheck error 'customer' 값, 네임스페이스, 형식 또는 모듈이 정의되지 않았습니다. 다음 중 하나가 필요할 수 있습니다:\r\n   CustomEqualityAttribute\ninput.fsx (3,26)-(3,34) typecheck error 'describe' 값 또는 생성자가 정의되지 않았습니다. 다음 중 하나가 필요할 수 있습니다:\r\n   decr\ninput.fsx (7,5)-(7,13) typecheck error 'customer' 값, 네임스페이스, 형식 또는 모듈이 정의되지 않았습니다. 다음 중 하나가 필요할 수 있습니다:\r\n   CustomEqualityAttribute\ninput.fsx (8,32)-(8,40) typecheck error 'describe' 값 또는 생성자가 정의되지 않았습니다. 다음 중 하나가 필요할 수 있습니다:\r\n   description\r\n   decr\ninput.fsx (10,17)-(10,25) typecheck error 'customer' 값, 네임스페이스, 형식 또는 모듈이 정의되지 않았습니다. 다음 중 하나가 필요할 수 있습니다:\r\n   CustomEqualityAttribute\ninput.fsx (10,52)-(10,60) typecheck error 'describe' 값 또는 생성자가 정의되지 않았습니다. 다음 중 하나가 필요할 수 있습니다:\r\n   description\r\n   decr\r\n   descriptionTwo\ninput.fsx (11,35)-(11,43) typecheck error 'describe' 값 또는 생성자가 정의되지 않았습니다. 다음 중 하나가 필요할 수 있습니다:\r\n   description\r\n   decr\r\n   descriptionTwo",
     "traceback": [
      "input.fsx (2,11)-(2,19) typecheck error 'customer' 값, 네임스페이스, 형식 또는 모듈이 정의되지 않았습니다. 다음 중 하나가 필요할 수 있습니다:\r\n",
      "   CustomEqualityAttribute\n",
      "input.fsx (3,26)-(3,34) typecheck error 'describe' 값 또는 생성자가 정의되지 않았습니다. 다음 중 하나가 필요할 수 있습니다:\r\n",
      "   decr\n",
      "input.fsx (7,5)-(7,13) typecheck error 'customer' 값, 네임스페이스, 형식 또는 모듈이 정의되지 않았습니다. 다음 중 하나가 필요할 수 있습니다:\r\n",
      "   CustomEqualityAttribute\n",
      "input.fsx (8,32)-(8,40) typecheck error 'describe' 값 또는 생성자가 정의되지 않았습니다. 다음 중 하나가 필요할 수 있습니다:\r\n",
      "   description\r\n",
      "   decr\n",
      "input.fsx (10,17)-(10,25) typecheck error 'customer' 값, 네임스페이스, 형식 또는 모듈이 정의되지 않았습니다. 다음 중 하나가 필요할 수 있습니다:\r\n",
      "   CustomEqualityAttribute\n",
      "input.fsx (10,52)-(10,60) typecheck error 'describe' 값 또는 생성자가 정의되지 않았습니다. 다음 중 하나가 필요할 수 있습니다:\r\n",
      "   description\r\n",
      "   decr\r\n",
      "   descriptionTwo\n",
      "input.fsx (11,35)-(11,43) typecheck error 'describe' 값 또는 생성자가 정의되지 않았습니다. 다음 중 하나가 필요할 수 있습니다:\r\n",
      "   description\r\n",
      "   decr\r\n",
      "   descriptionTwo"
     ]
    }
   ],
   "metadata": {
    "dotnet_interactive": {
     "language": "fsharp"
    }
   }
  },
  {
   "cell_type": "code",
   "execution_count": null,
   "source": [
    "let tryFindCustomer cId = if cId = 10 then Some drivers.[0] else None\r\n",
    "let getSafetyScore customer = customer.SafetyScore\r\n",
    "let score = tryFindCustomer 10 |> Option.bind getSafetyScore"
   ],
   "outputs": [
    {
     "output_type": "error",
     "ename": "Error",
     "evalue": "input.fsx (1,49)-(1,56) typecheck error 'drivers' 값 또는 생성자가 정의되지 않았습니다. 다음 중 하나가 필요할 수 있습니다:\r\n   DriveInfo\r\n   DriveType\ninput.fsx (1,49)-(1,60) typecheck error 'expr.[idx]' 연산자가 이 프로그램 지점 전의 정보를 기반으로 하는 확인할 수 없는 형식의 개체에 사용되었습니다. 형식 제약 조건을 더 추가해 보세요.\ninput.fsx (2,31)-(2,51) typecheck error 이 프로그램 지점 전의 정보를 기반으로 하는 확인할 수 없는 형식의 개체를 대상으로 조회를 수행합니다. 개체의 형식을 제한하기 위해 이 프로그램 지점 전에 형식 주석이 필요할 수 있습니다. 이를 통해 조회가 확인될 수도 있습니다.",
     "traceback": [
      "input.fsx (1,49)-(1,56) typecheck error 'drivers' 값 또는 생성자가 정의되지 않았습니다. 다음 중 하나가 필요할 수 있습니다:\r\n",
      "   DriveInfo\r\n",
      "   DriveType\n",
      "input.fsx (1,49)-(1,60) typecheck error 'expr.[idx]' 연산자가 이 프로그램 지점 전의 정보를 기반으로 하는 확인할 수 없는 형식의 개체에 사용되었습니다. 형식 제약 조건을 더 추가해 보세요.\n",
      "input.fsx (2,31)-(2,51) typecheck error 이 프로그램 지점 전의 정보를 기반으로 하는 확인할 수 없는 형식의 개체를 대상으로 조회를 수행합니다. 개체의 형식을 제한하기 위해 이 프로그램 지점 전에 형식 주석이 필요할 수 있습니다. 이를 통해 조회가 확인될 수도 있습니다."
     ]
    }
   ],
   "metadata": {
    "dotnet_interactive": {
     "language": "fsharp"
    }
   }
  },
  {
   "cell_type": "code",
   "execution_count": null,
   "source": [
    "let funcccc s = if s = 1 then (Some 1) else None\r\n",
    "Some 1 |> Option.bind funcccc"
   ],
   "outputs": [
    {
     "output_type": "display_data",
     "data": {
      "text/html": [
       "<table><thead><tr><th>Value</th></tr></thead><tbody><tr><td><div class=\"dni-plaintext\">1</div></td></tr></tbody></table>"
      ]
     },
     "metadata": {}
    }
   ],
   "metadata": {
    "dotnet_interactive": {
     "language": "fsharp"
    }
   }
  },
  {
   "cell_type": "code",
   "execution_count": null,
   "source": [
    "let test1 = Some 5 |> Option.filter(fun x -> x > 5)   \r\n",
    "let test2 = Some 5 |> Option.filter(fun x -> x = 5)   \r\n",
    "test1, test2"
   ],
   "outputs": [
    {
     "output_type": "display_data",
     "data": {
      "text/html": [
       "<table><thead><tr><th>Item1</th><th>Item2</th></tr></thead><tbody><tr><td><div class=\"dni-plaintext\">&lt;null&gt;</div></td><td><div class=\"dni-plaintext\">{ Some(5): Value: 5 }</div></td></tr></tbody></table>"
      ]
     },
     "metadata": {}
    }
   ],
   "metadata": {
    "dotnet_interactive": {
     "language": "fsharp"
    }
   }
  },
  {
   "cell_type": "code",
   "execution_count": null,
   "source": [
    "[1;2;3;4;5] |> List.choose (fun n -> if n > 3 then (Some n) else None)"
   ],
   "outputs": [
    {
     "output_type": "display_data",
     "data": {
      "text/html": [
       "<table><thead><tr><th><i>index</i></th><th>value</th></tr></thead><tbody><tr><td>0</td><td><div class=\"dni-plaintext\">4</div></td></tr><tr><td>1</td><td><div class=\"dni-plaintext\">5</div></td></tr></tbody></table>"
      ]
     },
     "metadata": {}
    }
   ],
   "metadata": {
    "dotnet_interactive": {
     "language": "fsharp"
    }
   }
  }
 ],
 "nbformat": 4,
 "nbformat_minor": 2
}