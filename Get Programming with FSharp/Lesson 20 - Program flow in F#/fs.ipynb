{
 "metadata": {
  "kernelspec": {
   "display_name": ".NET (F#)",
   "language": "F#",
   "name": ".net-fsharp"
  },
  "language_info": {
   "name": "F#"
  }
 },
 "cells": [
  {
   "cell_type": "code",
   "execution_count": null,
   "source": [
    "for number in 1 .. 10 do                         \r\n",
    "    printfn \"%d Hello!\" number\r\n",
    "\r\n",
    "for number in 10 .. -1 .. 1 do                   \r\n",
    "    printfn \"%d Hello!\" number\r\n",
    "\r\n",
    "let customerIds = [ 45 .. 99 ]\r\n",
    "for customerId in customerIds do                 \r\n",
    "    printfn \"%d bought something!\" customerId\r\n",
    "\r\n",
    "for even in 2 .. 2 .. 10 do                      \r\n",
    "    printfn \"%d is an even number!\" even"
   ],
   "outputs": [],
   "metadata": {
    "dotnet_interactive": {
     "language": "fsharp"
    }
   }
  },
  {
   "cell_type": "code",
   "execution_count": null,
   "source": [
    "open System.IO\r\n",
    "let reader = new StreamReader(File.OpenRead @\"File.txt\")   \r\n",
    "while (not reader.EndOfStream) do                          \r\n",
    "    printfn \"%s\" (reader.ReadLine())"
   ],
   "outputs": [
    {
     "output_type": "error",
     "ename": "Error",
     "evalue": "System.IO.FileNotFoundException: Could not find file 'e:\\Projects\\learning\\Get Programming with FSharp\\Lesson 20 - Program flow in F#\\File.txt'.\r\nFile name: 'e:\\Projects\\learning\\Get Programming with FSharp\\Lesson 20 - Program flow in F#\\File.txt'\r\n   at System.IO.FileStream.ValidateFileHandle(SafeFileHandle fileHandle)\r\n   at System.IO.FileStream.CreateFileOpenHandle(FileMode mode, FileShare share, FileOptions options)\r\n   at System.IO.FileStream..ctor(String path, FileMode mode, FileAccess access, FileShare share, Int32 bufferSize, FileOptions options)\r\n   at <StartupCode$FSI_0005>.$FSI_0005.main@()",
     "traceback": [
      "System.IO.FileNotFoundException: Could not find file 'e:\\Projects\\learning\\Get Programming with FSharp\\Lesson 20 - Program flow in F#\\File.txt'.\r\n",
      "File name: 'e:\\Projects\\learning\\Get Programming with FSharp\\Lesson 20 - Program flow in F#\\File.txt'\r\n",
      "   at System.IO.FileStream.ValidateFileHandle(SafeFileHandle fileHandle)\r\n",
      "   at System.IO.FileStream.CreateFileOpenHandle(FileMode mode, FileShare share, FileOptions options)\r\n",
      "   at System.IO.FileStream..ctor(String path, FileMode mode, FileAccess access, FileShare share, Int32 bufferSize, FileOptions options)\r\n",
      "   at <StartupCode$FSI_0005>.$FSI_0005.main@()"
     ]
    }
   ],
   "metadata": {
    "dotnet_interactive": {
     "language": "fsharp"
    }
   }
  },
  {
   "cell_type": "code",
   "execution_count": null,
   "source": [
    "open System\r\n",
    "\r\n",
    "let arrayOfChars = [| for c in 'a' .. 'z' -> Char.ToUpper c |]            \r\n",
    "let listOfSquares = [ for i in 1 .. 10 -> i * i ]                         \r\n",
    "let seqOfStrings = seq { for i in 2 .. 4 .. 20 -> sprintf \"Number %d\" i } "
   ],
   "outputs": [],
   "metadata": {
    "dotnet_interactive": {
     "language": "fsharp"
    }
   }
  },
  {
   "cell_type": "code",
   "execution_count": null,
   "source": [
    "let limit =\r\n",
    "    if score = \"medium\" && years = 1 then 500                    \r\n",
    "    elif score = \"good\" && (years = 0 || years = 1) then 750     \r\n",
    "    elif score = \"good\" && years = 2 then 1000\r\n",
    "    elif score = \"good\" then 2000                                \r\n",
    "    else 250                                                     "
   ],
   "outputs": [
    {
     "output_type": "error",
     "ename": "Error",
     "evalue": "input.fsx (2,8)-(2,13) typecheck error 'score' 값 또는 생성자가 정의되지 않았습니다. 다음 중 하나가 필요할 수 있습니다:\r\n   Core\r\n   Some\ninput.fsx (2,28)-(2,33) typecheck error 'years' 값 또는 생성자가 정의되지 않았습니다.\ninput.fsx (3,10)-(3,15) typecheck error 'score' 값 또는 생성자가 정의되지 않았습니다. 다음 중 하나가 필요할 수 있습니다:\r\n   Core\r\n   Some\ninput.fsx (3,29)-(3,34) typecheck error 'years' 값 또는 생성자가 정의되지 않았습니다.\ninput.fsx (3,42)-(3,47) typecheck error 'years' 값 또는 생성자가 정의되지 않았습니다.\ninput.fsx (4,10)-(4,15) typecheck error 'score' 값 또는 생성자가 정의되지 않았습니다. 다음 중 하나가 필요할 수 있습니다:\r\n   Core\r\n   Some\ninput.fsx (4,28)-(4,33) typecheck error 'years' 값 또는 생성자가 정의되지 않았습니다.\ninput.fsx (5,10)-(5,15) typecheck error 'score' 값 또는 생성자가 정의되지 않았습니다. 다음 중 하나가 필요할 수 있습니다:\r\n   Core\r\n   Some",
     "traceback": [
      "input.fsx (2,8)-(2,13) typecheck error 'score' 값 또는 생성자가 정의되지 않았습니다. 다음 중 하나가 필요할 수 있습니다:\r\n",
      "   Core\r\n",
      "   Some\n",
      "input.fsx (2,28)-(2,33) typecheck error 'years' 값 또는 생성자가 정의되지 않았습니다.\n",
      "input.fsx (3,10)-(3,15) typecheck error 'score' 값 또는 생성자가 정의되지 않았습니다. 다음 중 하나가 필요할 수 있습니다:\r\n",
      "   Core\r\n",
      "   Some\n",
      "input.fsx (3,29)-(3,34) typecheck error 'years' 값 또는 생성자가 정의되지 않았습니다.\n",
      "input.fsx (3,42)-(3,47) typecheck error 'years' 값 또는 생성자가 정의되지 않았습니다.\n",
      "input.fsx (4,10)-(4,15) typecheck error 'score' 값 또는 생성자가 정의되지 않았습니다. 다음 중 하나가 필요할 수 있습니다:\r\n",
      "   Core\r\n",
      "   Some\n",
      "input.fsx (4,28)-(4,33) typecheck error 'years' 값 또는 생성자가 정의되지 않았습니다.\n",
      "input.fsx (5,10)-(5,15) typecheck error 'score' 값 또는 생성자가 정의되지 않았습니다. 다음 중 하나가 필요할 수 있습니다:\r\n",
      "   Core\r\n",
      "   Some"
     ]
    }
   ],
   "metadata": {
    "dotnet_interactive": {
     "language": "fsharp"
    }
   }
  },
  {
   "cell_type": "code",
   "execution_count": null,
   "source": [
    "let limit =\r\n",
    "    match customer with                \r\n",
    "    | \"medium\", 1 -> 500               \r\n",
    "    | \"good\", 0 | \"good\", 1 -> 750     \r\n",
    "    | \"good\", 2 -> 1000\r\n",
    "    | \"good\", _ -> 2000                \r\n",
    "    | _ -> 250                         "
   ],
   "outputs": [
    {
     "output_type": "error",
     "ename": "Error",
     "evalue": "input.fsx (2,11)-(2,19) typecheck error 'customer' 값 또는 생성자가 정의되지 않았습니다. 다음 중 하나가 필요할 수 있습니다:\r\n   CustomEqualityAttribute",
     "traceback": [
      "input.fsx (2,11)-(2,19) typecheck error 'customer' 값 또는 생성자가 정의되지 않았습니다. 다음 중 하나가 필요할 수 있습니다:\r\n",
      "   CustomEqualityAttribute"
     ]
    }
   ],
   "metadata": {
    "dotnet_interactive": {
     "language": "fsharp"
    }
   }
  },
  {
   "cell_type": "code",
   "execution_count": null,
   "source": [
    "let getCreditLimit customer =\r\n",
    "    match customer with\r\n",
    "    | \"medium\", 1 -> 500\r\n",
    "    | \"good\", years when years < 2 -> 750        \r\n",
    "    | ... // etc."
   ],
   "outputs": [
    {
     "output_type": "error",
     "ename": "Error",
     "evalue": "input.fsx (5,7)-(5,9) parse error 예기치 않은 '..' 기호입니다. 패턴 일치\ninput.fsx (2,11)-(2,19) typecheck warning 이 식의 패턴 일치가 완전하지 않습니다. 예를 들어, 값 '(_,0)'은(는) 패턴에 포함되지 않은 케이스를 나타낼 수 있습니다.",
     "traceback": [
      "input.fsx (5,7)-(5,9) parse error 예기치 않은 '..' 기호입니다. 패턴 일치\n",
      "input.fsx (2,11)-(2,19) typecheck warning 이 식의 패턴 일치가 완전하지 않습니다. 예를 들어, 값 '(_,0)'은(는) 패턴에 포함되지 않은 케이스를 나타낼 수 있습니다."
     ]
    }
   ],
   "metadata": {
    "dotnet_interactive": {
     "language": "fsharp"
    }
   }
  },
  {
   "cell_type": "code",
   "execution_count": null,
   "source": [
    "let getCreditLimit customer =\r\n",
    "    match customer with\r\n",
    "    | \"medium\", 1 -> 500\r\n",
    "    | \"good\", years ->              1\r\n",
    "        match years with            2\r\n",
    "        | 0 | 1 -> 750              3\r\n",
    "        | 2 -> 1000\r\n",
    "        | _ -> 2000\r\n",
    "    | _ -> 250                      4"
   ],
   "outputs": [
    {
     "output_type": "error",
     "ename": "Error",
     "evalue": "input.fsx (5,9)-(5,14) parse error 예기치 않은 'match' 키워드입니다. 식이 지점 또는 이 지점 전의 불완전한 구조적 구문 또는 기타 토큰이 필요합니다.\ninput.fsx (2,11)-(2,19) typecheck warning 이 식의 패턴 일치가 완전하지 않습니다. 예를 들어, 값 '(_,0)'은(는) 패턴에 포함되지 않은 케이스를 나타낼 수 있습니다.",
     "traceback": [
      "input.fsx (5,9)-(5,14) parse error 예기치 않은 'match' 키워드입니다. 식이 지점 또는 이 지점 전의 불완전한 구조적 구문 또는 기타 토큰이 필요합니다.\n",
      "input.fsx (2,11)-(2,19) typecheck warning 이 식의 패턴 일치가 완전하지 않습니다. 예를 들어, 값 '(_,0)'은(는) 패턴에 포함되지 않은 케이스를 나타낼 수 있습니다."
     ]
    }
   ],
   "metadata": {
    "dotnet_interactive": {
     "language": "fsharp"
    }
   }
  },
  {
   "cell_type": "code",
   "execution_count": null,
   "source": [
    "let handleCustomer customers =\r\n",
    "    match customers with\r\n",
    "    | [] -> failwith \"No customers supplied!\"                            \r\n",
    "    | [ customer ] -> printfn \"Single customer, name is %s\" customer.Name\r\n",
    "    | [ first; second ] ->\r\n",
    "         printfn \"Two customers, balance = %d\"\r\n",
    "            (first.Balance + second.Balance)                             \r\n",
    "    | customers -> printfn \"Customers supplied: %d\" customers.Length  d   \r\n",
    "handleCustomer [] // throws exception\r\n",
    "handleCustomer [ { Balance = 10; Name = \"Joe\" } ] // prints name"
   ],
   "outputs": [
    {
     "output_type": "error",
     "ename": "Error",
     "evalue": "input.fsx (4,61)-(4,74) typecheck error 이 프로그램 지점 전의 정보를 기반으로 하는 확인할 수 없는 형식의 개체를 대상으로 조회를 수행합니다. 개체의 형식을 제한하기 위해 이 프로그램 지점 전에 형식 주석이 필요할 수 있습니다. 이를 통해 조회가 확인될 수도 있습니다.\ninput.fsx (7,14)-(7,27) typecheck error 이 프로그램 지점 전의 정보를 기반으로 하는 확인할 수 없는 형식의 개체를 대상으로 조회를 수행합니다. 개체의 형식을 제한하기 위해 이 프로그램 지점 전에 형식 주석이 필요할 수 있습니다. 이를 통해 조회가 확인될 수도 있습니다.\ninput.fsx (7,30)-(7,44) typecheck error 이 프로그램 지점 전의 정보를 기반으로 하는 확인할 수 없는 형식의 개체를 대상으로 조회를 수행합니다. 개체의 형식을 제한하기 위해 이 프로그램 지점 전에 형식 주석이 필요할 수 있습니다. 이를 통해 조회가 확인될 수도 있습니다.\ninput.fsx (10,20)-(10,27) typecheck error 레코드 레이블 'Balance'이(가) 정의되지 않았습니다.",
     "traceback": [
      "input.fsx (4,61)-(4,74) typecheck error 이 프로그램 지점 전의 정보를 기반으로 하는 확인할 수 없는 형식의 개체를 대상으로 조회를 수행합니다. 개체의 형식을 제한하기 위해 이 프로그램 지점 전에 형식 주석이 필요할 수 있습니다. 이를 통해 조회가 확인될 수도 있습니다.\n",
      "input.fsx (7,14)-(7,27) typecheck error 이 프로그램 지점 전의 정보를 기반으로 하는 확인할 수 없는 형식의 개체를 대상으로 조회를 수행합니다. 개체의 형식을 제한하기 위해 이 프로그램 지점 전에 형식 주석이 필요할 수 있습니다. 이를 통해 조회가 확인될 수도 있습니다.\n",
      "input.fsx (7,30)-(7,44) typecheck error 이 프로그램 지점 전의 정보를 기반으로 하는 확인할 수 없는 형식의 개체를 대상으로 조회를 수행합니다. 개체의 형식을 제한하기 위해 이 프로그램 지점 전에 형식 주석이 필요할 수 있습니다. 이를 통해 조회가 확인될 수도 있습니다.\n",
      "input.fsx (10,20)-(10,27) typecheck error 레코드 레이블 'Balance'이(가) 정의되지 않았습니다."
     ]
    }
   ],
   "metadata": {
    "dotnet_interactive": {
     "language": "fsharp"
    }
   }
  },
  {
   "cell_type": "code",
   "execution_count": null,
   "source": [
    "let getStatus customer =\r\n",
    "    match customer with\r\n",
    "    | { Balance = 0 } -> \"Customer has empty balance!\"                   \r\n",
    "    | { Name = \"Isaac\" } -> \"This is a great customer!\"                  \r\n",
    "    | { Name = name; Balance = 50 } -> sprintf \"%s has a large balance!\" name\r\n",
    "    | { Name = name } -> sprintf \"%s is a normal customer\" name           \r\n",
    "{ Balance = 50; Name = \"Joe\" } |> getStatus"
   ],
   "outputs": [
    {
     "output_type": "error",
     "ename": "Error",
     "evalue": "input.fsx (3,9)-(3,16) typecheck error 레코드 레이블 'Balance'이(가) 정의되지 않았습니다.\ninput.fsx (7,3)-(7,10) typecheck error 레코드 레이블 'Balance'이(가) 정의되지 않았습니다.",
     "traceback": [
      "input.fsx (3,9)-(3,16) typecheck error 레코드 레이블 'Balance'이(가) 정의되지 않았습니다.\n",
      "input.fsx (7,3)-(7,10) typecheck error 레코드 레이블 'Balance'이(가) 정의되지 않았습니다."
     ]
    }
   ],
   "metadata": {
    "dotnet_interactive": {
     "language": "fsharp"
    }
   }
  },
  {
   "cell_type": "code",
   "execution_count": null,
   "source": [
    "match customers with\r\n",
    "| [ { Name = \"Tanya\" }; { Balance = 25 }; _ ] -> \"It's a match!\"      \r\n",
    "| _ -> \"No match!\""
   ],
   "outputs": [
    {
     "output_type": "error",
     "ename": "Error",
     "evalue": "input.fsx (1,7)-(1,16) typecheck error 'customers' 값 또는 생성자가 정의되지 않았습니다.\ninput.fsx (2,7)-(2,11) typecheck error 레코드 레이블 'Name'이(가) 정의되지 않았습니다.",
     "traceback": [
      "input.fsx (1,7)-(1,16) typecheck error 'customers' 값 또는 생성자가 정의되지 않았습니다.\n",
      "input.fsx (2,7)-(2,11) typecheck error 레코드 레이블 'Name'이(가) 정의되지 않았습니다."
     ]
    }
   ],
   "metadata": {
    "dotnet_interactive": {
     "language": "fsharp"
    }
   }
  },
  {
   "cell_type": "code",
   "execution_count": null,
   "source": [
    "if customer.Name = \"Isaac\" then printfn \"Hello!\"\r\n",
    "match customer.Name with                        \r\n",
    "| \"Isaac\" -> printfn \"Hello!\"\r\n",
    "| _ -> ()"
   ],
   "outputs": [
    {
     "output_type": "error",
     "ename": "Error",
     "evalue": "input.fsx (1,4)-(1,12) typecheck error 'customer' 값, 네임스페이스, 형식 또는 모듈이 정의되지 않았습니다. 다음 중 하나가 필요할 수 있습니다:\r\n   CustomEqualityAttribute\ninput.fsx (2,7)-(2,15) typecheck error 'customer' 값, 네임스페이스, 형식 또는 모듈이 정의되지 않았습니다. 다음 중 하나가 필요할 수 있습니다:\r\n   CustomEqualityAttribute",
     "traceback": [
      "input.fsx (1,4)-(1,12) typecheck error 'customer' 값, 네임스페이스, 형식 또는 모듈이 정의되지 않았습니다. 다음 중 하나가 필요할 수 있습니다:\r\n",
      "   CustomEqualityAttribute\n",
      "input.fsx (2,7)-(2,15) typecheck error 'customer' 값, 네임스페이스, 형식 또는 모듈이 정의되지 않았습니다. 다음 중 하나가 필요할 수 있습니다:\r\n",
      "   CustomEqualityAttribute"
     ]
    }
   ],
   "metadata": {
    "dotnet_interactive": {
     "language": "fsharp"
    }
   }
  },
  {
   "cell_type": "code",
   "execution_count": null,
   "source": [
    "let say s = \r\n",
    "    if s = \"juho\" then printf \"kill\"\r\n",
    "\r\n",
    "    match s with \r\n",
    "    | s -> printf \"juho here\"\r\n",
    "    | _ -> printf \"whjy\""
   ],
   "outputs": [],
   "metadata": {
    "dotnet_interactive": {
     "language": "fsharp"
    }
   }
  },
  {
   "cell_type": "code",
   "execution_count": null,
   "source": [
    "say \"juho\""
   ],
   "outputs": [
    {
     "output_type": "stream",
     "name": "stdout",
     "text": [
      "killjuho here"
     ]
    }
   ],
   "metadata": {
    "dotnet_interactive": {
     "language": "fsharp"
    }
   }
  }
 ],
 "nbformat": 4,
 "nbformat_minor": 2
}