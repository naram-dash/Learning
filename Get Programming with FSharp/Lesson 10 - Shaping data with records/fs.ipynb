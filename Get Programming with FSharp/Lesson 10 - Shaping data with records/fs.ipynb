{
 "metadata": {
  "kernelspec": {
   "display_name": ".NET (F#)",
   "language": "F#",
   "name": ".net-fsharp"
  },
  "language_info": {
   "name": "F#"
  }
 },
 "cells": [
  {
   "cell_type": "code",
   "execution_count": null,
   "source": [
    "public class Customer {                      \r\n",
    "    public string Forename { get; set; }     \r\n",
    "    public string Surname { get; set; }\r\n",
    "    public int Age { get; set; }\r\n",
    "    public Address Address { get; set; }\r\n",
    "    public string EmailAddress { get; set; }\r\n",
    "}"
   ],
   "outputs": [
    {
     "output_type": "error",
     "ename": "Error",
     "evalue": "(5,12): error CS0246: 'Address' 형식 또는 네임스페이스 이름을 찾을 수 없습니다. using 지시문 또는 어셈블리 참조가 있는지 확인하세요.",
     "traceback": [
      "(5,12): error CS0246: 'Address' 형식 또는 네임스페이스 이름을 찾을 수 없습니다. using 지시문 또는 어셈블리 참조가 있는지 확인하세요."
     ]
    }
   ],
   "metadata": {
    "dotnet_interactive": {
     "language": "csharp"
    }
   }
  },
  {
   "cell_type": "code",
   "execution_count": null,
   "source": [
    "public class Customer {\r\n",
    "    public string Forename { get; private set; }                         \r\n",
    "    public string Surname { get; private set; }\r\n",
    "    public int Age { get; private set; }\r\n",
    "    public Address Address { get; private set; }\r\n",
    "    public string EmailAddress { get; private set; }\r\n",
    "\r\n",
    "    public Customer(string forename, string surname, int age, Address address, string emailAddress) {                                    \r\n",
    "        Forename = forename;\r\n",
    "        Surname = surname;\r\n",
    "        Age = age;\r\n",
    "        Address = address;\r\n",
    "        EmailAddress = emailAddress;\r\n",
    "    }\r\n",
    "}"
   ],
   "outputs": [
    {
     "output_type": "error",
     "ename": "Error",
     "evalue": "(5,12): error CS0246: 'Address' 형식 또는 네임스페이스 이름을 찾을 수 없습니다. using 지시문 또는 어셈블리 참조가 있는지 확인하세요.\r\n(8,63): error CS0246: 'Address' 형식 또는 네임스페이스 이름을 찾을 수 없습니다. using 지시문 또는 어셈블리 참조가 있는지 확인하세요.",
     "traceback": [
      "(5,12): error CS0246: 'Address' 형식 또는 네임스페이스 이름을 찾을 수 없습니다. using 지시문 또는 어셈블리 참조가 있는지 확인하세요.\r\n",
      "(8,63): error CS0246: 'Address' 형식 또는 네임스페이스 이름을 찾을 수 없습니다. using 지시문 또는 어셈블리 참조가 있는지 확인하세요."
     ]
    }
   ],
   "metadata": {
    "dotnet_interactive": {
     "language": "csharp"
    }
   }
  },
  {
   "cell_type": "code",
   "execution_count": null,
   "source": [
    "public class Address {                                           \r\n",
    "    public string Street { get; set; }\r\n",
    "    public string Town { get; set; }\r\n",
    "    public string City { get; set; }\r\n",
    "}\r\n",
    "var sameAddress = (customerA.Address == customer.Address);       "
   ],
   "outputs": [],
   "metadata": {
    "dotnet_interactive": {
     "language": "csharp"
    }
   }
  },
  {
   "cell_type": "code",
   "execution_count": null,
   "source": [
    "type Address =\r\n",
    "    { Street : string\r\n",
    "      Town : string\r\n",
    "      City : string }"
   ],
   "outputs": [],
   "metadata": {
    "dotnet_interactive": {
     "language": "fsharp"
    }
   }
  },
  {
   "cell_type": "code",
   "execution_count": null,
   "source": [
    "type Customer =                     \r\n",
    "    { Forename : string\r\n",
    "      Surname : string\r\n",
    "      Age : int\r\n",
    "      Address : Address\r\n",
    "      EmailAddress : string }\r\n",
    "let customer =                      \r\n",
    "    { Forename = \"Joe\"\r\n",
    "      Surname = \"Bloggs\"\r\n",
    "      Age = 30\r\n",
    "      Address =\r\n",
    "        { Street = \"The Street\"\r\n",
    "          Town = \"The Town\"\r\n",
    "          City = \"The City\" }\r\n",
    "      EmailAddress = \"joe@bloggs.com\" }"
   ],
   "outputs": [],
   "metadata": {
    "dotnet_interactive": {
     "language": "fsharp"
    }
   }
  },
  {
   "cell_type": "code",
   "execution_count": null,
   "source": [
    "let address : Address =               \r\n",
    "    { Street = \"The Street\"\r\n",
    "      Town = \"The Town\"\r\n",
    "      City = \"The City\" }\r\n",
    "\r\n",
    "let addressExplicit =\r\n",
    "    { Address.Street = \"The Street\"     \r\n",
    "      Town = \"The Town\"\r\n",
    "      City = \"The City\" }"
   ],
   "outputs": [],
   "metadata": {
    "dotnet_interactive": {
     "language": "fsharp"
    }
   }
  },
  {
   "cell_type": "code",
   "execution_count": null,
   "source": [
    "let updatedCustomer = \r\n",
    "    { customer with // copy-and-update\r\n",
    "        Age = 31\r\n",
    "        EmailAddress = \"joe@bloggs.co.uk\" }"
   ],
   "outputs": [],
   "metadata": {
    "dotnet_interactive": {
     "language": "fsharp"
    }
   }
  },
  {
   "cell_type": "code",
   "execution_count": null,
   "source": [
    "// comparing two records\r\n",
    "let isSameAddress = (address = addressExplicit)         "
   ],
   "outputs": [],
   "metadata": {
    "dotnet_interactive": {
     "language": "fsharp"
    }
   }
  },
  {
   "cell_type": "code",
   "execution_count": null,
   "source": [
    "let home = \r\n",
    "    let myHome = { Street = \"The Street\"; Town = \"The Town\"; City = \"The City\" }\r\n",
    "    let myHome = { myHome with City = \"The Other City\" }\r\n",
    "    let myHome = { myHome with City = \"The Third City\" }\r\n",
    "    // shadowing \r\n",
    "    myHome"
   ],
   "outputs": [],
   "metadata": {
    "dotnet_interactive": {
     "language": "fsharp"
    }
   }
  }
 ],
 "nbformat": 4,
 "nbformat_minor": 2
}