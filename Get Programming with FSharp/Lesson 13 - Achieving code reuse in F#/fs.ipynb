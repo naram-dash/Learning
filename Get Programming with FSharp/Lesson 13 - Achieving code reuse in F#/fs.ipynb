{
 "metadata": {
  "kernelspec": {
   "display_name": ".NET (F#)",
   "language": "F#",
   "name": ".net-fsharp"
  },
  "language_info": {
   "name": "F#"
  }
 },
 "cells": [
  {
   "cell_type": "code",
   "execution_count": null,
   "source": [
    "type Customer = { Age : int }\r\n",
    "let where filter (customers: 'T list) =\r\n",
    "    seq { for customer in customers do if filter customer then customer }\r\n",
    "let customers = [ { Age = 21 }; { Age = 35 }; { Age = 36 } ]\r\n",
    "let isOver35 customer = customer.Age > 35                          \r\n",
    "customers |> where isOver35                                        \r\n",
    "customers |> where (fun customer -> customer.Age > 35)             "
   ],
   "outputs": [
    {
     "data": {
      "text/html": [
       "<table><thead><tr><th><i>index</i></th><th>Age</th></tr></thead><tbody><tr><td>0</td><td><div class=\"dni-plaintext\">36</div></td></tr></tbody></table>"
      ]
     },
     "metadata": {},
     "output_type": "display_data"
    }
   ],
   "metadata": {
    "dotnet_interactive": {
     "language": "fsharp"
    }
   }
  },
  {
   "cell_type": "code",
   "execution_count": null,
   "source": [
    "let printCustomerAge writer customer = \r\n",
    "    // inject writer\r\n",
    "    if customer.Age < 13 then writer \"Child!\" \r\n",
    "    elif customer.Age < 20 then writer \"Teenager!\"\r\n",
    "    else writer \"Adult!\""
   ],
   "outputs": [],
   "metadata": {
    "dotnet_interactive": {
     "language": "fsharp"
    }
   }
  },
  {
   "cell_type": "code",
   "execution_count": null,
   "source": [
    "printCustomerAge Console.WriteLine { Age = 21 } \r\n",
    "// make curried function\r\n",
    "let printToConsole = printCustomerAge Console.WriteLine \r\n",
    "printToConsole { Age = 21 }\r\n",
    "printToConsole { Age = 12 }\r\n",
    "printToConsole { Age = 18 }"
   ],
   "outputs": [
    {
     "output_type": "stream",
     "name": "stdout",
     "text": [
      "Adult!\r\n",
      "Adult!\r\n",
      "Child!\r\n",
      "Teenager!\r\n"
     ]
    }
   ],
   "metadata": {
    "dotnet_interactive": {
     "language": "fsharp"
    }
   }
  },
  {
   "cell_type": "code",
   "execution_count": null,
   "source": [
    "open System.IO\r\n",
    "\r\n",
    "let writeToFile text = File.WriteAllText(@\"C:\\temp\\output.txt\", text) \r\n",
    "let printToFile = printCustomerAge writeToFile\r\n",
    "// Console.WriteLine 대신 writeToFile로 출력대상을 바꿀수 있었다.\r\n",
    "printToFile { Age = 21 }"
   ],
   "outputs": [
    {
     "output_type": "error",
     "ename": "Error",
     "evalue": "System.IO.DirectoryNotFoundException: Could not find a part of the path 'C:\\temp\\output.txt'.\r\n   at System.IO.FileStream.ValidateFileHandle(SafeFileHandle fileHandle)\r\n   at System.IO.FileStream.CreateFileOpenHandle(FileMode mode, FileShare share, FileOptions options)\r\n   at System.IO.FileStream..ctor(String path, FileMode mode, FileAccess access, FileShare share, Int32 bufferSize, FileOptions options)\r\n   at System.IO.StreamWriter.ValidateArgsAndOpenPath(String path, Boolean append, Encoding encoding, Int32 bufferSize)\r\n   at System.IO.StreamWriter..ctor(String path)\r\n   at System.IO.File.WriteAllText(String path, String contents)\r\n   at FSI_0031.printToFile@3.Invoke(String text)\r\n   at <StartupCode$FSI_0031>.$FSI_0031.main@()",
     "traceback": [
      "System.IO.DirectoryNotFoundException: Could not find a part of the path 'C:\\temp\\output.txt'.\r\n",
      "   at System.IO.FileStream.ValidateFileHandle(SafeFileHandle fileHandle)\r\n",
      "   at System.IO.FileStream.CreateFileOpenHandle(FileMode mode, FileShare share, FileOptions options)\r\n",
      "   at System.IO.FileStream..ctor(String path, FileMode mode, FileAccess access, FileShare share, Int32 bufferSize, FileOptions options)\r\n",
      "   at System.IO.StreamWriter.ValidateArgsAndOpenPath(String path, Boolean append, Encoding encoding, Int32 bufferSize)\r\n",
      "   at System.IO.StreamWriter..ctor(String path)\r\n",
      "   at System.IO.File.WriteAllText(String path, String contents)\r\n",
      "   at FSI_0031.printToFile@3.Invoke(String text)\r\n",
      "   at <StartupCode$FSI_0031>.$FSI_0031.main@()"
     ]
    }
   ],
   "metadata": {
    "dotnet_interactive": {
     "language": "fsharp"
    }
   }
  }
 ],
 "nbformat": 4,
 "nbformat_minor": 2
}