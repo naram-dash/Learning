{
 "metadata": {
  "kernelspec": {
   "display_name": ".NET (F#)",
   "language": "F#",
   "name": ".net-fsharp"
  },
  "language_info": {
   "name": "F#"
  }
 },
 "cells": [
  {
   "cell_type": "code",
   "execution_count": null,
   "source": [
    "printfn \"Loading data!\"                       \r\n",
    "System.Threading.Thread.Sleep(5000)           \r\n",
    "printfn \"Loaded Data!\"                        \r\n",
    "printfn \"My name is Simon.\"                   "
   ],
   "outputs": [
    {
     "output_type": "stream",
     "name": "stdout",
     "text": [
      "Loading data!\r\n",
      "Loaded Data!\r\n",
      "My name is Simon.\r\n"
     ]
    }
   ],
   "metadata": {
    "dotnet_interactive": {
     "language": "fsharp"
    }
   }
  },
  {
   "cell_type": "code",
   "execution_count": null,
   "source": [
    "async {                                       \r\n",
    "    printfn \"Loading data!\"                   \r\n",
    "    System.Threading.Thread.Sleep(5000)       \r\n",
    "    printfn \"Loaded Data!\" }                  \r\n",
    "|> Async.Start                                \r\n",
    "printfn \"My name is Simon.\""
   ],
   "outputs": [
    {
     "output_type": "stream",
     "name": "stdout",
     "text": [
      "My name is Simon.\r\n",
      "Loading data!\r\n"
     ]
    }
   ],
   "metadata": {
    "dotnet_interactive": {
     "language": "fsharp"
    }
   }
  },
  {
   "cell_type": "code",
   "execution_count": null,
   "source": [
    "let asyncHello : Async<string> = async { return \"Hello\" }    \r\n",
    "// let length = asyncHello.Length                               \r\n",
    "let text = asyncHello |> Async.RunSynchronously              \r\n",
    "let lengthTwo = text.Length"
   ],
   "outputs": [],
   "metadata": {
    "dotnet_interactive": {
     "language": "fsharp"
    }
   }
  },
  {
   "cell_type": "code",
   "execution_count": null,
   "source": [
    "open System.Threading\r\n",
    "\r\n",
    "let printThread text = \r\n",
    "    printfn  \"THREAD %d: %s\" \r\n",
    "    <|| (Thread.CurrentThread.ManagedThreadId, text)\r\n",
    "\r\n",
    "let doWork () = \r\n",
    "    printThread \"Start long running work!\"\r\n",
    "    Thread.Sleep 5000\r\n",
    "    \"HELLO\"\r\n",
    "\r\n",
    "let asyncLength : Async<int> = \r\n",
    "    printThread \"Creating Async Block\"\r\n",
    "    let asyncBlock = \r\n",
    "        async {\r\n",
    "            printThread \"In Block!\"\r\n",
    "            let text = doWork()\r\n",
    "            return (text + \"WORLD\").Length\r\n",
    "        }\r\n",
    "    printThread \"Created Async Block\"\r\n",
    "    asyncBlock\r\n",
    "\r\n",
    "\r\n",
    "let length = asyncLength |> Async.RunSynchronously\r\n",
    "printfn \"%d\" length"
   ],
   "outputs": [
    {
     "output_type": "stream",
     "name": "stdout",
     "text": [
      "THREAD 231: Creating Async Block\r\n",
      "THREAD 231: Created Async Block\r\n",
      "THREAD 231: In Block!\r\n",
      "THREAD 231: Start long running work!\r\n",
      "10\r\n"
     ]
    }
   ],
   "metadata": {
    "dotnet_interactive": {
     "language": "fsharp"
    }
   }
  },
  {
   "cell_type": "code",
   "execution_count": null,
   "source": [
    "let getTextAsync = async { return \"Hello\" }\r\n",
    "\r\n",
    "let printHelloWorld =  async { \r\n",
    "        let! text = getTextAsync\r\n",
    "        return printf \"%s World\" text}\r\n",
    "\r\n",
    "printHelloWorld |> Async.Start"
   ],
   "outputs": [],
   "metadata": {
    "dotnet_interactive": {
     "language": "fsharp"
    }
   }
  },
  {
   "cell_type": "code",
   "execution_count": null,
   "source": [
    "let random = System.Random()\r\n",
    "let pickANumberAsync = async {return random.Next(10)}\r\n",
    "let createFiftyNumbers = \r\n",
    "    let workflows = [for i in 1..50 -> pickANumberAsync]\r\n",
    "    async {\r\n",
    "        let! numbers = workflows |> Async.Parallel\r\n",
    "        printfn \"Total is %d\" (numbers |> Array.sum)\r\n",
    "    }\r\n",
    "\r\n",
    "createFiftyNumbers |> Async.RunSynchronously\r\n"
   ],
   "outputs": [
    {
     "output_type": "stream",
     "name": "stdout",
     "text": [
      "Total is 231\r\n"
     ]
    }
   ],
   "metadata": {
    "dotnet_interactive": {
     "language": "fsharp"
    }
   }
  },
  {
   "cell_type": "code",
   "execution_count": null,
   "source": [
    "let urls = \r\n",
    "    [|\r\n",
    "        \"https://www.naver.com\"\r\n",
    "        \"https://www.naver.com\"\r\n",
    "        \"https://www.naver.com\"\r\n",
    "    |]\r\n",
    "\r\n",
    "let downloadData url = async {\r\n",
    "    use wc = new System.Net.WebClient()\r\n",
    "    printfn \"Downloading data on thread %d\" System.Threading.Thread.CurrentThread.ManagedThreadId\r\n",
    "    let! data = wc.AsyncDownloadData(System.Uri url)\r\n",
    "    return data.Length }\r\n",
    "\r\n",
    "let downloadedBytes = \r\n",
    "    urls\r\n",
    "    |> Array.map downloadData\r\n",
    "    |> Async.Parallel\r\n",
    "    |> Async.RunSynchronously"
   ],
   "outputs": [
    {
     "output_type": "stream",
     "name": "stdout",
     "text": [
      "Downloading data on thread 104\r\n",
      "Downloading data on thread Downloading data on thread 217\r\n",
      "231\r\n"
     ]
    }
   ],
   "metadata": {
    "dotnet_interactive": {
     "language": "fsharp"
    }
   }
  },
  {
   "cell_type": "code",
   "execution_count": null,
   "source": [
    "let downloadData url = async {\r\n",
    "    use wc = new System.Net.WebClient()\r\n",
    "    let! data = wc.DownloadDataTaskAsync(System.Uri url) |> Async.AwaitTask \r\n",
    "    return data.Length\r\n",
    "    }\r\n",
    "\r\n",
    "let downloadedBytes = \r\n",
    "    urls \r\n",
    "    |> Array.map downloadData\r\n",
    "    |> Async.Parallel\r\n",
    "    |> Async.StartAsTask\r\n",
    "\r\n",
    "printfn \"You downloaded %d characters\" (Array.sum downloadedBytes.Result)"
   ],
   "outputs": [
    {
     "output_type": "stream",
     "name": "stdout",
     "text": [
      "You downloaded 602535 characters\r\n"
     ]
    }
   ],
   "metadata": {
    "dotnet_interactive": {
     "language": "fsharp"
    }
   }
  },
  {
   "cell_type": "code",
   "execution_count": null,
   "source": [
    "async Task WorkThenWait() {\r\n",
    "    #region\r\n",
    "    System.Threading.Thread.Sleep(1000);\r\n",
    "    Console.WriteLine(\"work1\");\r\n",
    "    #endregion\r\n",
    "    await Task.Delay(1000);\r\n",
    "    Console.WriteLine(\"work2\");\r\n",
    "    Console.WriteLine(\"work3\");\r\n",
    "\r\n",
    "}\r\n",
    "void Demo() {\r\n",
    "    var child = WorkThenWait();\r\n",
    "    Console.WriteLine(\"started\");\r\n",
    "    child.Wait();\r\n",
    "    Console.WriteLine(\"completed\");\r\n",
    "}\r\n",
    "\r\n",
    "Demo()"
   ],
   "outputs": [
    {
     "output_type": "stream",
     "name": "stdout",
     "text": [
      "work1\r\n",
      "started\r\n",
      "work2\r\n",
      "work3\r\n",
      "completed\r\n"
     ]
    }
   ],
   "metadata": {
    "dotnet_interactive": {
     "language": "csharp"
    }
   }
  }
 ],
 "nbformat": 4,
 "nbformat_minor": 2
}