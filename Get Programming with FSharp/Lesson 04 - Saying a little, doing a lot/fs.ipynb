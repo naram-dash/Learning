{
 "metadata": {
  "kernelspec": {
   "display_name": ".NET (F#)",
   "language": "F#",
   "name": ".net-fsharp"
  },
  "language_info": {
   "name": "F#"
  }
 },
 "cells": [
  {
   "cell_type": "code",
   "execution_count": null,
   "source": [
    "let foo() =\r\n",
    "    let x = 10\r\n",
    "    printfn $\"{x + 20}\"\r\n",
    "    let x = \"test\"\r\n",
    "    let x = 50.0\r\n",
    "    x + 200.0\r\n",
    "\r\n",
    "foo()"
   ],
   "outputs": [
    {
     "output_type": "stream",
     "name": "stdout",
     "text": [
      "30\r\n"
     ]
    },
    {
     "output_type": "display_data",
     "data": {
      "text/html": [
       "<div class=\"dni-plaintext\">250</div>"
      ]
     },
     "metadata": {}
    }
   ],
   "metadata": {
    "dotnet_interactive": {
     "language": "fsharp"
    }
   }
  },
  {
   "cell_type": "code",
   "execution_count": null,
   "source": [
    "open System\r\n",
    "\r\n",
    "let doStuffWithTwoNumbers (first,second) =\r\n",
    "    let added = first + second\r\n",
    "    Console.WriteLine($\"{first} + {second} = {added}\")\r\n",
    "    let doubled = added * 2\r\n",
    "    doubled"
   ],
   "outputs": [],
   "metadata": {
    "dotnet_interactive": {
     "language": "fsharp"
    }
   }
  },
  {
   "cell_type": "code",
   "execution_count": null,
   "source": [
    "let year = DateTime.Now.Year\r\n",
    "let age = year - 1979\r\n",
    "let estimatedAge = sprintf \"You are about %d years old!\" age\r\n",
    "// rest of application..."
   ],
   "outputs": [],
   "metadata": {
    "dotnet_interactive": {
     "language": "fsharp"
    }
   }
  },
  {
   "cell_type": "code",
   "execution_count": null,
   "source": [
    "// tightly bounded\r\n",
    "let estimatedAge =                                \r\n",
    "    let age =                                     \r\n",
    "        let year = DateTime.Now.Year              \r\n",
    "        year - 1979\r\n",
    "    sprintf \"You are about %d years old!\" age     "
   ],
   "outputs": [],
   "metadata": {
    "dotnet_interactive": {
     "language": "fsharp"
    }
   }
  },
  {
   "cell_type": "code",
   "execution_count": null,
   "source": [
    "let estimateAges(familyName, year1, year2, year3) =            \r\n",
    "    // nested function\r\n",
    "    let calculateAge yearOfBirth =                             \r\n",
    "        let year = System.DateTime.Now.Year\r\n",
    "        year - yearOfBirth\r\n",
    "\r\n",
    "    let estimatedAge1 = calculateAge year1                     \r\n",
    "    let estimatedAge2 = calculateAge year2\r\n",
    "    let estimatedAge3 = calculateAge year3\r\n",
    "\r\n",
    "    let averageAge = (estimatedAge1 + estimatedAge2 + estimatedAge3) / 3\r\n",
    "    sprintf \"Average age for family %s is %d\" familyName averageAge"
   ],
   "outputs": [],
   "metadata": {
    "dotnet_interactive": {
     "language": "fsharp"
    }
   }
  },
  {
   "cell_type": "code",
   "execution_count": null,
   "source": [
    "open System\r\n",
    "open System.Net\r\n",
    "open System.Windows.Forms\r\n",
    "\r\n",
    "let webClient = new WebClient()\r\n",
    "\r\n",
    "let fsharpOrg =\r\n",
    "    webClient.DownloadString(Uri \"http://fsharp.org\")\r\n",
    "\r\n",
    "let browser =\r\n",
    "    new WebBrowser(ScriptErrorsSuppressed = true, Dock = DockStyle.Fill, DocumentText = fsharpOrg)\r\n",
    "\r\n",
    "let form = new Form(Text = \"Hello from F#!\")\r\n",
    "form.Controls.Add browser\r\n",
    "form.Show()"
   ],
   "outputs": [
    {
     "output_type": "error",
     "ename": "Error",
     "evalue": "input.fsx (3,57)-(3,58) parse error 예기치 않은 정수 리터럴입니다. 상호 작용';' 기호, ';;' 기호, 이 지점 또는 이 지점 전의 불완전한 구조적 구문 또는 기타 토큰이 필요합니다.\ninput.fsx (3,57)-(3,58) interactive error 내부 오류: parse error",
     "traceback": [
      "input.fsx (3,57)-(3,58) parse error 예기치 않은 정수 리터럴입니다. 상호 작용';' 기호, ';;' 기호, 이 지점 또는 이 지점 전의 불완전한 구조적 구문 또는 기타 토큰이 필요합니다.\n",
      "input.fsx (3,57)-(3,58) interactive error 내부 오류: parse error"
     ]
    }
   ],
   "metadata": {
    "dotnet_interactive": {
     "language": "fsharp"
    }
   }
  },
  {
   "cell_type": "code",
   "execution_count": null,
   "source": [
    "let r = System.Random()\r\n",
    "let nextValue = r.Next(1, 6)\r\n",
    "let answer = nextValue + 10"
   ],
   "outputs": [],
   "metadata": {
    "dotnet_interactive": {
     "language": "fsharp"
    }
   }
  },
  {
   "cell_type": "code",
   "execution_count": null,
   "source": [
    "let generateRandomNumber max =         \r\n",
    "    let r = System.Random()            \r\n",
    "    let nextValue = r.Next(1, max)     \r\n",
    "    nextValue + 10                     "
   ],
   "outputs": [],
   "metadata": {
    "dotnet_interactive": {
     "language": "fsharp"
    }
   }
  }
 ],
 "nbformat": 4,
 "nbformat_minor": 2
}