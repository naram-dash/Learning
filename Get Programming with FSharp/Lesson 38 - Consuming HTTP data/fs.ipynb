{
 "metadata": {
  "kernelspec": {
   "display_name": ".NET (F#)",
   "language": "F#",
   "name": ".net-fsharp"
  },
  "language_info": {
   "name": "F#"
  }
 },
 "cells": [
  {
   "cell_type": "code",
   "execution_count": null,
   "source": [
    "#r \"nuget: FSharp.Data\"\r\n",
    "open FSharp.Data"
   ],
   "outputs": [
    {
     "output_type": "display_data",
     "data": {
      "text/html": [
       "<div><div></div><div></div><div><strong>Installed Packages</strong><ul><li><span>FSharp.Data, 4.2.2</span></li></ul></div></div>"
      ]
     },
     "metadata": {}
    }
   ],
   "metadata": {
    "dotnet_interactive": {
     "language": "fsharp"
    }
   }
  },
  {
   "cell_type": "code",
   "execution_count": null,
   "source": [
    "type AllAnimalsResponse = \r\n",
    "    JsonProvider<\"https://jsonplaceholder.typicode.com/users\">\r\n",
    "\r\n",
    "AllAnimalsResponse.GetSamples()\r\n",
    "|> Seq.map(fun e -> e.Name)\r\n",
    "|> Seq.toArray"
   ],
   "outputs": [
    {
     "output_type": "display_data",
     "data": {
      "text/html": [
       "<table><thead><tr><th><i>index</i></th><th>value</th></tr></thead><tbody><tr><td>0</td><td>Leanne Graham</td></tr><tr><td>1</td><td>Ervin Howell</td></tr><tr><td>2</td><td>Clementine Bauch</td></tr><tr><td>3</td><td>Patricia Lebsack</td></tr><tr><td>4</td><td>Chelsey Dietrich</td></tr><tr><td>5</td><td>Mrs. Dennis Schulist</td></tr><tr><td>6</td><td>Kurtis Weissnat</td></tr><tr><td>7</td><td>Nicholas Runolfsdottir V</td></tr><tr><td>8</td><td>Glenna Reichert</td></tr><tr><td>9</td><td>Clementina DuBuque</td></tr></tbody></table>"
      ]
     },
     "metadata": {}
    }
   ],
   "metadata": {
    "dotnet_interactive": {
     "language": "fsharp"
    }
   }
  },
  {
   "cell_type": "code",
   "execution_count": null,
   "source": [
    "type GetAnimalResponse = \r\n",
    "    JsonProvider<\"https://jsonplaceholder.typicode.com/posts/1\">\r\n",
    "\r\n",
    "let getAnimal =\r\n",
    "    sprintf \"https://jsonplaceholder.typicode.com/posts/%s\"\r\n",
    "    >> GetAnimalResponse.Load\r\n",
    "\r\n",
    "getAnimal \"1\"\r\n"
   ],
   "outputs": [
    {
     "output_type": "display_data",
     "data": {
      "text/html": [
       "<table><thead><tr><th>JsonValue</th></tr></thead><tbody><tr><td><div class=\"dni-plaintext\">{ {\r\n",
       "  &quot;userId&quot;: 1,\r\n",
       "  &quot;id&quot;: 1,\r\n",
       "  &quot;title&quot;: &quot;sunt aut facere repellat provident occaecati excepturi optio reprehenderit&quot;,\r\n",
       "  &quot;body&quot;: &quot;quia et suscipit\\nsuscipit recusandae consequuntur expedita et cum\\nreprehenderit molestiae ut ut quas totam\\nnostrum rerum est autem sunt rem eveniet architecto&quot;\r\n",
       "}: properties: [ ( userId, { 1: Item: 1, _Print: 1 } ), ( id, { 1: Item: 1, _Print: 1 } ), ( title, { &quot;sunt aut facere repellat provident occaecati excepturi optio reprehenderit&quot;: Item: sunt aut facere repellat provident occaecati excepturi optio reprehenderit, _Print: &quot;sunt aut facere repellat provident occaecati excepturi optio reprehenderit&quot; } ), ( body, { &quot;quia et suscipit\\nsuscipit recusandae consequuntur expedita et cum\\nreprehenderit molestiae ut ut quas totam\\nnostrum rerum est autem sunt rem eveniet architecto&quot;: Item: quia et suscipit\n",
       "suscipit recusandae consequuntur expedita et cum\n",
       "reprehenderit molestiae ut ut quas totam\n",
       "nostrum rerum est autem sunt rem eveniet architecto, _Print: &quot;quia et suscipit\\nsuscipit recusandae consequuntur expedita et cum\\nreprehenderit molestiae ut ut quas totam\\nnostrum rerum est autem sunt rem eveniet architecto&quot; } ) ], _Print: {\r\n",
       "  &quot;userId&quot;: 1,\r\n",
       "  &quot;id&quot;: 1,\r\n",
       "  &quot;title&quot;: &quot;sunt aut facere repellat provident occaecati excepturi optio reprehenderit&quot;,\r\n",
       "  &quot;body&quot;: &quot;quia et suscipit\\nsuscipit recusandae consequuntur expedita et cum\\nreprehenderit molestiae ut ut quas totam\\nnostrum rerum est autem sunt rem eveniet architecto&quot;\r\n",
       "} }</div></td></tr></tbody></table>"
      ]
     },
     "metadata": {}
    }
   ],
   "metadata": {
    "dotnet_interactive": {
     "language": "fsharp"
    }
   }
  },
  {
   "cell_type": "code",
   "execution_count": null,
   "source": [
    "let ofFunc code =\r\n",
    "    try code() |> Ok\r\n",
    "    with | ex -> Error ex\r\n",
    "\r\n",
    "let getAnimalSafe animal = \r\n",
    "    (fun () -> \r\n",
    "        sprintf \"https://jsonplaceholder.typicode.com/posts/%s\" animal\r\n",
    "        |> GetAnimalResponse.Load)\r\n",
    "    |> ofFunc\r\n",
    "\r\n",
    "let frodo = getAnimalSafe \"450000\"\r\n",
    "frodo"
   ],
   "outputs": [
    {
     "output_type": "display_data",
     "data": {
      "text/html": [
       "<table><thead><tr><th>ResultValue</th><th>ErrorValue</th></tr></thead><tbody><tr><td><div class=\"dni-plaintext\">&lt;null&gt;</div></td><td><div class=\"dni-plaintext\">{ System.Net.WebException: The remote server returned an error: (404) Not Found.\n",
       "Response from https://jsonplaceholder.typicode.com/posts/450000:\n",
       "{}\r\n",
       " ---&gt; System.Net.WebException: The remote server returned an error: (404) Not Found.\r\n",
       "   at System.Net.HttpWebRequest.EndGetResponse(IAsyncResult asyncResult)\r\n",
       "   at &lt;StartupCode$FSharp-Core&gt;.$Async.callback@1766.Invoke(IAsyncResult iar) in D:\\workspace\\_work\\1\\s\\src\\fsharp\\FSharp.Core\\async.fs:line 1781\r\n",
       "--- End of stack trace from previous location ---\r\n",
       "   at Microsoft.FSharp.Control.AsyncResult`1.Commit() in D:\\workspace\\_work\\1\\s\\src\\fsharp\\FSharp.Core\\async.fs:line 393\r\n",
       "   at &lt;StartupCode$FSharp-Core&gt;.$Async.AwaitAndBindChildResult@1726-6.Invoke(Boolean ok) in D:\\workspace\\_work\\1\\s\\src\\fsharp\\FSharp.Core\\async.fs:line 1731\r\n",
       "   at Microsoft.FSharp.Control.AsyncPrimitives.CallThenInvokeNoHijackCheck[a,b](AsyncActivation`1 ctxt, b result1, FSharpFunc`2 userCode) in D:\\workspace\\_work\\1\\s\\src\\fsharp\\FSharp.Core\\async.fs:line 464\r\n",
       "   at Microsoft.FSharp.Control.Trampoline.Execute(FSharpFunc`2 firstAction) in D:\\workspace\\_work\\1\\s\\src\\fsharp\\FSharp.Core\\async.fs:line 104\r\n",
       "--- End of stack trace from previous location ---\r\n",
       "   at FSharp.Data.HttpHelpers.catchHandler@1-2(HttpWebRequest req, Exception _arg2)\r\n",
       "   at FSharp.Data.HttpHelpers.getResponseAsync@1508-5.Invoke(Exception edi)\r\n",
       "   at Microsoft.FSharp.Control.AsyncPrimitives.CallFilterThenInvoke[T](AsyncActivation`1 ctxt, FSharpFunc`2 filterFunction, ExceptionDispatchInfo edi) in D:\\workspace\\_work\\1\\s\\src\\fsharp\\FSharp.Core\\async.fs:line 486\r\n",
       "   at Microsoft.FSharp.Control.Trampoline.Execute(FSharpFunc`2 firstAction) in D:\\workspace\\_work\\1\\s\\src\\fsharp\\FSharp.Core\\async.fs:line 104\r\n",
       "   --- End of inner exception stack trace ---\r\n",
       "   at FSharp.Data.HttpHelpers.augmentWebExceptionsWithDetails@1416-4.Invoke(Unit unitVar)\r\n",
       "   at Microsoft.FSharp.Control.AsyncPrimitives.CallThenInvoke[T,TResult](AsyncActivation`1 ctxt, TResult result1, FSharpFunc`2 part2) in D:\\workspace\\_work\\1\\s\\src\\fsharp\\FSharp.Core\\async.fs:line 446\r\n",
       "   at Microsoft.FSharp.Control.Trampoline.Execute(FSharpFunc`2 firstAction) in D:\\workspace\\_work\\1\\s\\src\\fsharp\\FSharp.Core\\async.fs:line 104\r\n",
       "--- End of stack trace from previous location ---\r\n",
       "   at Microsoft.FSharp.Control.AsyncResult`1.Commit() in D:\\workspace\\_work\\1\\s\\src\\fsharp\\FSharp.Core\\async.fs:line 393\r\n",
       "   at Microsoft.FSharp.Control.AsyncPrimitives.RunImmediate[a](CancellationToken cancellationToken, FSharpAsync`1 computation) in D:\\workspace\\_work\\1\\s\\src\\fsharp\\FSharp.Core\\async.fs:line 1063\r\n",
       "   at Microsoft.FSharp.Control.AsyncPrimitives.RunSynchronously[T](CancellationToken cancellationToken, FSharpAsync`1 computation, FSharpOption`1 timeout) in D:\\workspace\\_work\\1\\s\\src\\fsharp\\FSharp.Core\\async.fs:line 1070\r\n",
       "   at Microsoft.FSharp.Control.FSharpAsync.RunSynchronously[T](FSharpAsync`1 computation, FSharpOption`1 timeout, FSharpOption`1 cancellationToken) in D:\\workspace\\_work\\1\\s\\src\\fsharp\\FSharp.Core\\async.fs:line 1365\r\n",
       "   at FSI_0034.getAnimalSafe@6-1.Invoke(Unit unitVar0)\r\n",
       "   at FSI_0034.ofFunc[a](FSharpFunc`2 code): Status: ProtocolError, Response: { FSharp.Data.HttpHelpers+WebResponse: Headers: [ Date, Connection, X-Powered-By, x-ratelimit-limit, x-ratelimit-remaining, x-ratelimit-reset, Vary, Access-Control-Allow-Credentials, Cache-Control, Pragma, X-Content-Type-Options, ETag, Via, CF-Cache-Status, Age, Expect-CT, Report-To, NEL, Server, CF-RAY ... (4 more) ], ResponseUri: { https://jsonplaceholder.typicode.com/posts/450000: AbsolutePath: /posts/450000, AbsoluteUri: https://jsonplaceholder.typicode.com/posts/450000, LocalPath: /posts/450000, Authority: jsonplaceholder.typicode.com, HostNameType: Dns, IsDefaultPort: True, IsFile: False, IsLoopback: False, PathAndQuery: /posts/450000, Segments: [ /, posts/, 450000 ], IsUnc: False, Host: jsonplaceholder.typicode.com, Port: 443, Query: , Fragment: , Scheme: https, OriginalString: https://jsonplaceholder.typicode.com/posts/450000, DnsSafeHost: jsonplaceholder.typicode.com, IdnHost: jsonplaceholder.typicode.com, IsAbsoluteUri: True, .. }, ContentType: application/json; charset=utf-8, ContentLength: 2, SupportsHeaders: True, IsFromCache: False, IsMutuallyAuthenticated: False }, TargetSite: { Microsoft.FSharp.Control.FSharpAsync`1[a] Invoke(Microsoft.FSharp.Core.Unit): Name: Invoke, DeclaringType: FSharp.Data.HttpHelpers+augmentWebExceptionsWithDetails@1416-4, ReflectedType: FSharp.Data.HttpHelpers+augmentWebExceptionsWithDetails@1416-4, MemberType: Method, MetadataToken: 100667048, Module: { FSharp.Data.dll: MDStreamVersion: 131072, FullyQualifiedName: C:\\Users\\juho_\\.nuget\\packages\\fsharp.data\\4.2.2\\lib\\netstandard2.0\\FSharp.Data.dll, ModuleVersionId: b96d5e7b-524c-f604-b2c5-fe31715fa718, MetadataToken: 1, ScopeName: FSharp.Data.dll, Name: FSharp.Data.dll, Assembly: { FSharp.Data, Version=4.2.2.0, Culture=neutral, PublicKeyToken=49286adf818aa259: CodeBase: file:///C:/Users/juho_/.nuget/packages/fsharp.data/4.2.2/lib/netstandard2.0/FSharp.Data.dll, FullName: FSharp.Data, Version=4.2.2.0, Culture=neutral, PublicKeyToken=49286adf818aa259, EntryPoint: &lt;null&gt;, DefinedTypes: [ FSharp.Data.MultipartItem, FSharp.Data.HttpRequestBody, FSharp.Data.HttpRequestBody+Tags, FSharp.Data.HttpRequestBody+TextRequest, FSharp.Data.HttpRequestBody+BinaryUpload, FSharp.Data.HttpRequestBody+FormValues, FSharp.Data.HttpRequestBody+Multipart, FSharp.Data.HttpRequestBody+TextRequest@DebugTypeProxy, FSharp.Data.HttpRequestBody+BinaryUpload@DebugTypeProxy, FSharp.Data.HttpRequestBody+FormValues@DebugTypeProxy, FSharp.Data.HttpRequestBody+Multipart@DebugTypeProxy, FSharp.Data.HttpResponseBody, FSharp.Data.HttpResponseBody+Tags, FSharp.Data.HttpResponseBody+Text, FSharp.Data.HttpResponseBody+Binary, FSharp.Data.HttpResponseBody+Text@DebugTypeProxy, FSharp.Data.HttpResponseBody+Binary@DebugTypeProxy, FSharp.Data.HttpResponse, FSharp.Data.HttpResponseWithStream, FSharp.Data.Http ... (1086 more) ], IsCollectible: False, ManifestModule: { FSharp.Data.dll: MDStreamVersion: 131072, FullyQualifiedName: C:\\Users\\juho_\\.nuget\\packages\\fsharp.data\\4.2.2\\lib\\netstandard2.0\\FSharp.Data.dll, ModuleVersionId: b96d5e7b-524c-f604-b2c5-fe31715fa718, MetadataToken: 1, ScopeName: FSharp.Data.dll, Name: FSharp.Data.dll, Assembly: { FSharp.Data, Version=4.2.2.0, Culture=neutral, PublicKeyToken=49286adf818aa259: CodeBase: file:///C:/Users/juho_/.nuget/packages/fsharp.data/4.2.2/lib/netstandard2.0/FSharp.Data.dll, FullName: FSharp.Data, Version=4.2.2.0, Culture=neutral, PublicKeyToken=49286adf818aa259, EntryPoint: &lt;null&gt;, DefinedTypes: [ FSharp.Data.MultipartItem, FSharp.Data.HttpRequestBody, FSharp.Data.HttpRequestBody+Tags, FSharp.Data.HttpRequestBody+TextRequest, FSharp.Data.HttpRequestBody+BinaryUpload, FSharp.Data.HttpRequestBody+FormValues, FSharp.Data.HttpRequestBody+Multipart, FSharp.Data.HttpRequestBody+TextRequest@DebugTypeProxy, FSharp.Data.HttpRequestBody+BinaryUpload@DebugTypeProxy, FSharp.Data.HttpRequestBody+FormValues@DebugTypeProxy, FSharp.Data.HttpRequestBody+Multipart@DebugTypeProxy, FSharp.Data.HttpResponseBody, FSharp.Data.HttpResponseBody+Tags, FSharp.Data.HttpResponseBody+Text, FSharp.Data.HttpResponseBody+Binary, FSharp.Data.HttpResponseBody+Text@DebugTypeProxy, FSharp.Data.HttpResponseBody+Binary@DebugTypeProxy, FSharp.Data.HttpResponse, FSharp.Data.HttpResponseWithStream, FSharp.Data.Http ... (1086 more) ], IsCollectible: False, ManifestModule: FSharp.Data.dll, ReflectionOnly: False, Location: C:\\Users\\juho_\\.nuget\\packages\\fsharp.data\\4.2.2\\lib\\netstandard2.0\\FSharp.Data.dll, ImageRuntimeVersion: v4.0.30319, GlobalAssemblyCache: False, HostContext: 0, IsDynamic: False, ExportedTypes: [ FSharp.Data.MultipartItem, FSharp.Data.HttpRequestBody, FSharp.Data.HttpRequestBody+Tags, FSharp.Data.HttpRequestBody+TextRequest, FSharp.Data.HttpRequestBody+BinaryUpload, FSharp.Data.HttpRequestBody+FormValues, FSharp.Data.HttpRequestBody+Multipart, FSharp.Data.HttpResponseBody, FSharp.Data.HttpResponseBody+Tags, FSharp.Data.HttpResponseBody+Text, FSharp.Data.HttpResponseBody+Binary, FSharp.Data.HttpResponse, FSharp.Data.HttpResponseWithStream, FSharp.Data.Http, FSharp.Data.TextConversions, FSharp.Data.Runtime.TextRuntime, FSharp.Data.Runtime.StructuralTypes.InferedProperty, FSharp.Data.Runtime.StructuralTypes.InferedMultiplicity, FSharp.Data.Runtime.StructuralTypes.InferedMultiplicity+Tags, FSharp.Data.Runtime.StructuralTypes.InferedTypeTag ... (107 more) ], IsFullyTrusted: True, CustomAttributes: [ [Microsoft.FSharp.Core.FSharpInterfaceDataVersionAttribute((Int32)2, (Int32)0, (Int32)0)], [System.Runtime.Versioning.TargetFrameworkAttribute(&quot;.NETStandard,Version=v2.0&quot;, FrameworkDisplayName = &quot;&quot;)], [System.Reflection.AssemblyTitleAttribute(&quot;FSharp.Data&quot;)], [System.Reflection.AssemblyProductAttribute(&quot;FSharp.Data&quot;)], [System.Reflection.AssemblyDescriptionAttribute(&quot;Library of F# type providers and data access tools&quot;)], [System.Reflection.AssemblyVersionAttribute(&quot;4.2.2.0&quot;)], [System.Reflection.AssemblyFileVersionAttribute(&quot;4.2.2.0&quot;)], [Microsoft.FSharp.Core.CompilerServices.TypeProviderAssemblyAttribute(&quot;FSharp.Data.DesignTime&quot;)], [System.Runtime.CompilerServices.InternalsVisibleToAttribute(&quot;FSharp.Data.Tests&quot;)], [System.Diagnostics.DebuggableAttribute((System.Diagnostics.DebuggableAttribute+DebuggingModes)3)] ], EscapedCodeBase: file:///C:/Users/juho_/.nuget/packages/fsharp.data/4.2.2/lib/netstandard2.0/FSharp.Data.dll, Modules: [ FSharp.Data.dll ], SecurityRuleSet: None }, ModuleHandle: { System.ModuleHandle: MDStreamVersion: 131072 }, CustomAttributes: [  ] }, ReflectionOnly: False, Location: C:\\Users\\juho_\\.nuget\\packages\\fsharp.data\\4.2.2\\lib\\netstandard2.0\\FSharp.Data.dll, ImageRuntimeVersion: v4.0.30319, GlobalAssemblyCache: False, HostContext: 0, IsDynamic: False, ExportedTypes: [ FSharp.Data.MultipartItem, FSharp.Data.HttpRequestBody, FSharp.Data.HttpRequestBody+Tags, FSharp.Data.HttpRequestBody+TextRequest, FSharp.Data.HttpRequestBody+BinaryUpload, FSharp.Data.HttpRequestBody+FormValues, FSharp.Data.HttpRequestBody+Multipart, FSharp.Data.HttpResponseBody, FSharp.Data.HttpResponseBody+Tags, FSharp.Data.HttpResponseBody+Text, FSharp.Data.HttpResponseBody+Binary, FSharp.Data.HttpResponse, FSharp.Data.HttpResponseWithStream, FSharp.Data.Http, FSharp.Data.TextConversions, FSharp.Data.Runtime.TextRuntime, FSharp.Data.Runtime.StructuralTypes.InferedProperty, FSharp.Data.Runtime.StructuralTypes.InferedMultiplicity, FSharp.Data.Runtime.StructuralTypes.InferedMultiplicity+Tags, FSharp.Data.Runtime.StructuralTypes.InferedTypeTag ... (107 more) ], IsFullyTrusted: True, CustomAttributes: [ { [Microsoft.FSharp.Core.FSharpInterfaceDataVersionAttribute((Int32)2, (Int32)0, (Int32)0)]: AttributeType: Microsoft.FSharp.Core.FSharpInterfaceDataVersionAttribute, Constructor: Void .ctor(Int32, Int32, Int32), ConstructorArguments: [ (Int32)2, (Int32)0, (Int32)0 ], NamedArguments: [  ] }, { [System.Runtime.Versioning.TargetFrameworkAttribute(&quot;.NETStandard,Version=v2.0&quot;, FrameworkDisplayName = &quot;&quot;)]: AttributeType: System.Runtime.Versioning.TargetFrameworkAttribute, Constructor: Void .ctor(System.String), ConstructorArguments: [ &quot;.NETStandard,Version=v2.0&quot; ], NamedArguments: [ FrameworkDisplayName = &quot;&quot; ] }, { [System.Reflection.AssemblyTitleAttribute(&quot;FSharp.Data&quot;)]: AttributeType: System.Reflection.AssemblyTitleAttribute, Constructor: Void .ctor(System.String), ConstructorArguments: [ &quot;FSharp.Data&quot; ], NamedArguments: [  ] }, { [System.Reflection.AssemblyProductAttribute(&quot;FSharp.Data&quot;)]: AttributeType: System.Reflection.AssemblyProductAttribute, Constructor: Void .ctor(System.String), ConstructorArguments: [ &quot;FSharp.Data&quot; ], NamedArguments: [  ] }, { [System.Reflection.AssemblyDescriptionAttribute(&quot;Library of F# type providers and data access tools&quot;)]: AttributeType: System.Reflection.AssemblyDescriptionAttribute, Constructor: Void .ctor(System.String), ConstructorArguments: [ &quot;Library of F# type providers and data access tools&quot; ], NamedArguments: [  ] }, { [System.Reflection.AssemblyVersionAttribute(&quot;4.2.2.0&quot;)]: AttributeType: System.Reflection.AssemblyVersionAttribute, Constructor: Void .ctor(System.String), ConstructorArguments: [ &quot;4.2.2.0&quot; ], NamedArguments: [  ] }, { [System.Reflection.AssemblyFileVersionAttribute(&quot;4.2.2.0&quot;)]: AttributeType: System.Reflection.AssemblyFileVersionAttribute, Constructor: Void .ctor(System.String), ConstructorArguments: [ &quot;4.2.2.0&quot; ], NamedArguments: [  ] }, { [Microsoft.FSharp.Core.CompilerServices.TypeProviderAssemblyAttribute(&quot;FSharp.Data.DesignTime&quot;)]: AttributeType: Microsoft.FSharp.Core.CompilerServices.TypeProviderAssemblyAttribute, Constructor: Void .ctor(System.String), ConstructorArguments: [ &quot;FSharp.Data.DesignTime&quot; ], NamedArguments: [  ] }, { [System.Runtime.CompilerServices.InternalsVisibleToAttribute(&quot;FSharp.Data.Tests&quot;)]: AttributeType: System.Runtime.CompilerServices.InternalsVisibleToAttribute, Constructor: Void .ctor(System.String), ConstructorArguments: [ &quot;FSharp.Data.Tests&quot; ], NamedArguments: [  ] }, { [System.Diagnostics.DebuggableAttribute((System.Diagnostics.DebuggableAttribute+DebuggingModes)3)]: AttributeType: System.Diagnostics.DebuggableAttribute, Constructor: Void .ctor(DebuggingModes), ConstructorArguments: [ (System.Diagnostics.DebuggableAttribute+DebuggingModes)3 ], NamedArguments: [  ] } ], EscapedCodeBase: file:///C:/Users/juho_/.nuget/packages/fsharp.data/4.2.2/lib/netstandard2.0/FSharp.Data.dll, Modules: [ { FSharp.Data.dll: MDStreamVersion: 131072, FullyQualifiedName: C:\\Users\\juho_\\.nuget\\packages\\fsharp.data\\4.2.2\\lib\\netstandard2.0\\FSharp.Data.dll, ModuleVersionId: b96d5e7b-524c-f604-b2c5-fe31715fa718, MetadataToken: 1, ScopeName: FSharp.Data.dll, Name: FSharp.Data.dll, Assembly: FSharp.Data, Version=4.2.2.0, Culture=neutral, PublicKeyToken=49286adf818aa259, ModuleHandle: System.ModuleHandle, CustomAttributes: [  ] } ], SecurityRuleSet: None }, ModuleHandle: { System.ModuleHandle: MDStreamVersion: 131072 }, CustomAttributes: [  ] }, IsSecurityCritical: True, IsSecuritySafeCritical: False, IsSecurityTransparent: False, MethodHandle: { System.RuntimeMethodHandle: Value: 140704533028224 }, Attributes: PrivateScope, Public, Virtual, CheckAccessOnOverride, CallingConvention: Standard, HasThis, ReturnType: FSharpAsync&lt;a&gt;, ReturnTypeCustomAttributes: { Microsoft.FSharp.Control.FSharpAsync`1[a] : ParameterType: FSharpAsync&lt;a&gt;, Name: &lt;null&gt;, HasDefaultValue: True, DefaultValue: &lt;null&gt;, RawDefaultValue: &lt;null&gt;, MetadataToken: 134217728, Attributes: None, Member: { Microsoft.FSharp.Control.FSharpAsync`1[a] Invoke(Microsoft.FSharp.Core.Unit): Name: Invoke, DeclaringType: FSharp.Data.HttpHelpers+augmentWebExceptionsWithDetails@1416-4, ReflectedType: FSharp.Data.HttpHelpers+augmentWebExceptionsWithDetails@1416-4, MemberType: Method, MetadataToken: 100667048, Module: { FSharp.Data.dll: MDStreamVersion: 131072, FullyQualifiedName: C:\\Users\\juho_\\.nuget\\packages\\fsharp.data\\4.2.2\\lib\\netstandard2.0\\FSharp.Data.dll, ModuleVersionId: b96d5e7b-524c-f604-b2c5-fe31715fa718, MetadataToken: 1, ScopeName: FSharp.Data.dll, Name: FSharp.Data.dll, Assembly: { FSharp.Data, Version=4.2.2.0, Culture=neutral, PublicKeyToken=49286adf818aa259: CodeBase: file:///C:/Users/juho_/.nuget/packages/fsharp.data/4.2.2/lib/netstandard2.0/FSharp.Data.dll, FullName: FSharp.Data, Version=4.2.2.0, Culture=neutral, PublicKeyToken=49286adf818aa259, EntryPoint: &lt;null&gt;, DefinedTypes: [ FSharp.Data.MultipartItem, FSharp.Data.HttpRequestBody, FSharp.Data.HttpRequestBody+Tags, FSharp.Data.HttpRequestBody+TextRequest, FSharp.Data.HttpRequestBody+BinaryUpload, FSharp.Data.HttpRequestBody+FormValues, FSharp.Data.HttpRequestBody+Multipart, FSharp.Data.HttpRequestBody+TextRequest@DebugTypeProxy, FSharp.Data.HttpRequestBody+BinaryUpload@DebugTypeProxy, FSharp.Data.HttpRequestBody+FormValues@DebugTypeProxy, FSharp.Data.HttpRequestBody+Multipart@DebugTypeProxy, FSharp.Data.HttpResponseBody, FSharp.Data.HttpResponseBody+Tags, FSharp.Data.HttpResponseBody+Text, FSharp.Data.HttpResponseBody+Binary, FSharp.Data.HttpResponseBody+Text@DebugTypeProxy, FSharp.Data.HttpResponseBody+Binary@DebugTypeProxy, FSharp.Data.HttpResponse, FSharp.Data.HttpResponseWithStream, FSharp.Data.Http ... (1086 more) ], IsCollectible: False, ManifestModule: FSharp.Data.dll, ReflectionOnly: False, Location: C:\\Users\\juho_\\.nuget\\packages\\fsharp.data\\4.2.2\\lib\\netstandard2.0\\FSharp.Data.dll, ImageRuntimeVersion: v4.0.30319, GlobalAssemblyCache: False, HostContext: 0, IsDynamic: False, ExportedTypes: [ FSharp.Data.MultipartItem, FSharp.Data.HttpRequestBody, FSharp.Data.HttpRequestBody+Tags, FSharp.Data.HttpRequestBody+TextRequest, FSharp.Data.HttpRequestBody+BinaryUpload, FSharp.Data.HttpRequestBody+FormValues, FSharp.Data.HttpRequestBody+Multipart, FSharp.Data.HttpResponseBody, FSharp.Data.HttpResponseBody+Tags, FSharp.Data.HttpResponseBody+Text, FSharp.Data.HttpResponseBody+Binary, FSharp.Data.HttpResponse, FSharp.Data.HttpResponseWithStream, FSharp.Data.Http, FSharp.Data.TextConversions, FSharp.Data.Runtime.TextRuntime, FSharp.Data.Runtime.StructuralTypes.InferedProperty, FSharp.Data.Runtime.StructuralTypes.InferedMultiplicity, FSharp.Data.Runtime.StructuralTypes.InferedMultiplicity+Tags, FSharp.Data.Runtime.StructuralTypes.InferedTypeTag ... (107 more) ], IsFullyTrusted: True, CustomAttributes: [ [Microsoft.FSharp.Core.FSharpInterfaceDataVersionAttribute((Int32)2, (Int32)0, (Int32)0)], [System.Runtime.Versioning.TargetFrameworkAttribute(&quot;.NETStandard,Version=v2.0&quot;, FrameworkDisplayName = &quot;&quot;)], [System.Reflection.AssemblyTitleAttribute(&quot;FSharp.Data&quot;)], [System.Reflection.AssemblyProductAttribute(&quot;FSharp.Data&quot;)], [System.Reflection.AssemblyDescriptionAttribute(&quot;Library of F# type providers and data access tools&quot;)], [System.Reflection.AssemblyVersionAttribute(&quot;4.2.2.0&quot;)], [System.Reflection.AssemblyFileVersionAttribute(&quot;4.2.2.0&quot;)], [Microsoft.FSharp.Core.CompilerServices.TypeProviderAssemblyAttribute(&quot;FSharp.Data.DesignTime&quot;)], [System.Runtime.CompilerServices.InternalsVisibleToAttribute(&quot;FSharp.Data.Tests&quot;)], [System.Diagnostics.DebuggableAttribute((System.Diagnostics.DebuggableAttribute+DebuggingModes)3)] ], EscapedCodeBase: file:///C:/Users/juho_/.nuget/packages/fsharp.data/4.2.2/lib/netstandard2.0/FSharp.Data.dll, Modules: [ FSharp.Data.dll ], SecurityRuleSet: None }, ModuleHandle: { System.ModuleHandle: MDStreamVersion: 131072 }, CustomAttributes: [  ] }, IsSecurityCritical: True, IsSecuritySafeCritical: False, IsSecurityTransparent: False, MethodHandle: { System.RuntimeMethodHandle: Value: 140704533028224 }, Attributes: PrivateScope, Public, Virtual, CheckAccessOnOverride, CallingConvention: Standard, HasThis, ReturnType: FSharpAsync&lt;a&gt;, ReturnTypeCustomAttributes: { Microsoft.FSharp.Control.FSharpAsync`1[a] : ParameterType: FSharpAsync&lt;a&gt;, Name: &lt;null&gt;, HasDefaultValue: True, DefaultValue: &lt;null&gt;, RawDefaultValue: &lt;null&gt;, MetadataToken: 134217728, Attributes: None, Member: { Microsoft.FSharp.Control.FSharpAsync`1[a] Invoke(Microsoft.FSharp.Core.Unit): Name: Invoke, DeclaringType: FSharp.Data.HttpHelpers+augmentWebExceptionsWithDetails@1416-4[a], ReflectedType: FSharp.Data.HttpHelpers+augmentWebExceptionsWithDetails@1416-4[a], MemberType: Method, MetadataToken: 100667048, Module: FSharp.Data.dll, IsSecurityCritical: True, IsSecuritySafeCritical: False, IsSecurityTransparent: False, MethodHandle: System.RuntimeMethodHandle, Attributes: PrivateScope, Public, Virtual, CheckAccessOnOverride, CallingConvention: Standard, HasThis, ReturnType: Microsoft.FSharp.Control.FSharpAsync`1[a], ReturnTypeCustomAttributes: Microsoft.FSharp.Control.FSharpAsync`1[a] , ReturnParameter: Microsoft.FSharp.Control.FSharpAsync`1[a] , IsCollectible: False, IsGenericMethod: False, IsGenericMethodDefinition: False, ContainsGenericParameters: True, MethodImplementationFlags: Managed, .. }, Position: -1, IsIn: False, IsLcid: False, IsOptional: False, IsOut: False, IsRetval: False, CustomAttributes: [  ] }, ReturnParameter: { Microsoft.FSharp.Control.FSharpAsync`1[a] : ParameterType: FSharpAsync&lt;a&gt;, Name: &lt;null&gt;, HasDefaultValue: True, DefaultValue: &lt;null&gt;, RawDefaultValue: &lt;null&gt;, MetadataToken: 134217728, Attributes: None, Member: { Microsoft.FSharp.Control.FSharpAsync`1[a] Invoke(Microsoft.FSharp.Core.Unit): Name: Invoke, DeclaringType: FSharp.Data.HttpHelpers+augmentWebExceptionsWithDetails@1416-4[a], ReflectedType: FSharp.Data.HttpHelpers+augmentWebExceptionsWithDetails@1416-4[a], MemberType: Method, MetadataToken: 100667048, Module: FSharp.Data.dll, IsSecurityCritical: True, IsSecuritySafeCritical: False, IsSecurityTransparent: False, MethodHandle: System.RuntimeMethodHandle, Attributes: PrivateScope, Public, Virtual, CheckAccessOnOverride, CallingConvention: Standard, HasThis, ReturnType: Microsoft.FSharp.Control.FSharpAsync`1[a], ReturnTypeCustomAttributes: Microsoft.FSharp.Control.FSharpAsync`1[a] , ReturnParameter: Microsoft.FSharp.Control.FSharpAsync`1[a] , IsCollectible: False, IsGenericMethod: False, IsGenericMethodDefinition: False, ContainsGenericParameters: True, MethodImplementationFlags: Managed, .. }, Position: -1, IsIn: False, IsLcid: False, IsOptional: False, IsOut: False, IsRetval: False, CustomAttributes: [  ] }, IsCollectible: False, IsGenericMethod: False, IsGenericMethodDefinition: False, ContainsGenericParameters: True, MethodImplementationFlags: Managed, .. }, Position: -1, IsIn: False, IsLcid: False, IsOptional: False, IsOut: False, IsRetval: False, CustomAttributes: [  ] }, ReturnParameter: { Microsoft.FSharp.Control.FSharpAsync`1[a] : ParameterType: FSharpAsync&lt;a&gt;, Name: &lt;null&gt;, HasDefaultValue: True, DefaultValue: &lt;null&gt;, RawDefaultValue: &lt;null&gt;, MetadataToken: 134217728, Attributes: None, Member: { Microsoft.FSharp.Control.FSharpAsync`1[a] Invoke(Microsoft.FSharp.Core.Unit): Name: Invoke, DeclaringType: FSharp.Data.HttpHelpers+augmentWebExceptionsWithDetails@1416-4, ReflectedType: FSharp.Data.HttpHelpers+augmentWebExceptionsWithDetails@1416-4, MemberType: Method, MetadataToken: 100667048, Module: { FSharp.Data.dll: MDStreamVersion: 131072, FullyQualifiedName: C:\\Users\\juho_\\.nuget\\packages\\fsharp.data\\4.2.2\\lib\\netstandard2.0\\FSharp.Data.dll, ModuleVersionId: b96d5e7b-524c-f604-b2c5-fe31715fa718, MetadataToken: 1, ScopeName: FSharp.Data.dll, Name: FSharp.Data.dll, Assembly: { FSharp.Data, Version=4.2.2.0, Culture=neutral, PublicKeyToken=49286adf818aa259: CodeBase: file:///C:/Users/juho_/.nuget/packages/fsharp.data/4.2.2/lib/netstandard2.0/FSharp.Data.dll, FullName: FSharp.Data, Version=4.2.2.0, Culture=neutral, PublicKeyToken=49286adf818aa259, EntryPoint: &lt;null&gt;, DefinedTypes: [ FSharp.Data.MultipartItem, FSharp.Data.HttpRequestBody, FSharp.Data.HttpRequestBody+Tags, FSharp.Data.HttpRequestBody+TextRequest, FSharp.Data.HttpRequestBody+BinaryUpload, FSharp.Data.HttpRequestBody+FormValues, FSharp.Data.HttpRequestBody+Multipart, FSharp.Data.HttpRequestBody+TextRequest@DebugTypeProxy, FSharp.Data.HttpRequestBody+BinaryUpload@DebugTypeProxy, FSharp.Data.HttpRequestBody+FormValues@DebugTypeProxy, FSharp.Data.HttpRequestBody+Multipart@DebugTypeProxy, FSharp.Data.HttpResponseBody, FSharp.Data.HttpResponseBody+Tags, FSharp.Data.HttpResponseBody+Text, FSharp.Data.HttpResponseBody+Binary, FSharp.Data.HttpResponseBody+Text@DebugTypeProxy, FSharp.Data.HttpResponseBody+Binary@DebugTypeProxy, FSharp.Data.HttpResponse, FSharp.Data.HttpResponseWithStream, FSharp.Data.Http ... (1086 more) ], IsCollectible: False, ManifestModule: FSharp.Data.dll, ReflectionOnly: False, Location: C:\\Users\\juho_\\.nuget\\packages\\fsharp.data\\4.2.2\\lib\\netstandard2.0\\FSharp.Data.dll, ImageRuntimeVersion: v4.0.30319, GlobalAssemblyCache: False, HostContext: 0, IsDynamic: False, ExportedTypes: [ FSharp.Data.MultipartItem, FSharp.Data.HttpRequestBody, FSharp.Data.HttpRequestBody+Tags, FSharp.Data.HttpRequestBody+TextRequest, FSharp.Data.HttpRequestBody+BinaryUpload, FSharp.Data.HttpRequestBody+FormValues, FSharp.Data.HttpRequestBody+Multipart, FSharp.Data.HttpResponseBody, FSharp.Data.HttpResponseBody+Tags, FSharp.Data.HttpResponseBody+Text, FSharp.Data.HttpResponseBody+Binary, FSharp.Data.HttpResponse, FSharp.Data.HttpResponseWithStream, FSharp.Data.Http, FSharp.Data.TextConversions, FSharp.Data.Runtime.TextRuntime, FSharp.Data.Runtime.StructuralTypes.InferedProperty, FSharp.Data.Runtime.StructuralTypes.InferedMultiplicity, FSharp.Data.Runtime.StructuralTypes.InferedMultiplicity+Tags, FSharp.Data.Runtime.StructuralTypes.InferedTypeTag ... (107 more) ], IsFullyTrusted: True, CustomAttributes: [ [Microsoft.FSharp.Core.FSharpInterfaceDataVersionAttribute((Int32)2, (Int32)0, (Int32)0)], [System.Runtime.Versioning.TargetFrameworkAttribute(&quot;.NETStandard,Version=v2.0&quot;, FrameworkDisplayName = &quot;&quot;)], [System.Reflection.AssemblyTitleAttribute(&quot;FSharp.Data&quot;)], [System.Reflection.AssemblyProductAttribute(&quot;FSharp.Data&quot;)], [System.Reflection.AssemblyDescriptionAttribute(&quot;Library of F# type providers and data access tools&quot;)], [System.Reflection.AssemblyVersionAttribute(&quot;4.2.2.0&quot;)], [System.Reflection.AssemblyFileVersionAttribute(&quot;4.2.2.0&quot;)], [Microsoft.FSharp.Core.CompilerServices.TypeProviderAssemblyAttribute(&quot;FSharp.Data.DesignTime&quot;)], [System.Runtime.CompilerServices.InternalsVisibleToAttribute(&quot;FSharp.Data.Tests&quot;)], [System.Diagnostics.DebuggableAttribute((System.Diagnostics.DebuggableAttribute+DebuggingModes)3)] ], EscapedCodeBase: file:///C:/Users/juho_/.nuget/packages/fsharp.data/4.2.2/lib/netstandard2.0/FSharp.Data.dll, Modules: [ FSharp.Data.dll ], SecurityRuleSet: None }, ModuleHandle: { System.ModuleHandle: MDStreamVersion: 131072 }, CustomAttributes: [  ] }, IsSecurityCritical: True, IsSecuritySafeCritical: False, IsSecurityTransparent: False, MethodHandle: { System.RuntimeMethodHandle: Value: 140704533028224 }, Attributes: PrivateScope, Public, Virtual, CheckAccessOnOverride, CallingConvention: Standard, HasThis, ReturnType: FSharpAsync&lt;a&gt;, ReturnTypeCustomAttributes: { Microsoft.FSharp.Control.FSharpAsync`1[a] : ParameterType: FSharpAsync&lt;a&gt;, Name: &lt;null&gt;, HasDefaultValue: True, DefaultValue: &lt;null&gt;, RawDefaultValue: &lt;null&gt;, MetadataToken: 134217728, Attributes: None, Member: { Microsoft.FSharp.Control.FSharpAsync`1[a] Invoke(Microsoft.FSharp.Core.Unit): Name: Invoke, DeclaringType: FSharp.Data.HttpHelpers+augmentWebExceptionsWithDetails@1416-4[a], ReflectedType: FSharp.Data.HttpHelpers+augmentWebExceptionsWithDetails@1416-4[a], MemberType: Method, MetadataToken: 100667048, Module: FSharp.Data.dll, IsSecurityCritical: True, IsSecuritySafeCritical: False, IsSecurityTransparent: False, MethodHandle: System.RuntimeMethodHandle, Attributes: PrivateScope, Public, Virtual, CheckAccessOnOverride, CallingConvention: Standard, HasThis, ReturnType: Microsoft.FSharp.Control.FSharpAsync`1[a], ReturnTypeCustomAttributes: Microsoft.FSharp.Control.FSharpAsync`1[a] , ReturnParameter: Microsoft.FSharp.Control.FSharpAsync`1[a] , IsCollectible: False, IsGenericMethod: False, IsGenericMethodDefinition: False, ContainsGenericParameters: True, MethodImplementationFlags: Managed, .. }, Position: -1, IsIn: False, IsLcid: False, IsOptional: False, IsOut: False, IsRetval: False, CustomAttributes: [  ] }, ReturnParameter: { Microsoft.FSharp.Control.FSharpAsync`1[a] : ParameterType: FSharpAsync&lt;a&gt;, Name: &lt;null&gt;, HasDefaultValue: True, DefaultValue: &lt;null&gt;, RawDefaultValue: &lt;null&gt;, MetadataToken: 134217728, Attributes: None, Member: { Microsoft.FSharp.Control.FSharpAsync`1[a] Invoke(Microsoft.FSharp.Core.Unit): Name: Invoke, DeclaringType: FSharp.Data.HttpHelpers+augmentWebExceptionsWithDetails@1416-4[a], ReflectedType: FSharp.Data.HttpHelpers+augmentWebExceptionsWithDetails@1416-4[a], MemberType: Method, MetadataToken: 100667048, Module: FSharp.Data.dll, IsSecurityCritical: True, IsSecuritySafeCritical: False, IsSecurityTransparent: False, MethodHandle: System.RuntimeMethodHandle, Attributes: PrivateScope, Public, Virtual, CheckAccessOnOverride, CallingConvention: Standard, HasThis, ReturnType: Microsoft.FSharp.Control.FSharpAsync`1[a], ReturnTypeCustomAttributes: Microsoft.FSharp.Control.FSharpAsync`1[a] , ReturnParameter: Microsoft.FSharp.Control.FSharpAsync`1[a] , IsCollectible: False, IsGenericMethod: False, IsGenericMethodDefinition: False, ContainsGenericParameters: True, MethodImplementationFlags: Managed, .. }, Position: -1, IsIn: False, IsLcid: False, IsOptional: False, IsOut: False, IsRetval: False, CustomAttributes: [  ] }, IsCollectible: False, IsGenericMethod: False, IsGenericMethodDefinition: False, ContainsGenericParameters: True, MethodImplementationFlags: Managed, .. }, Position: -1, IsIn: False, IsLcid: False, IsOptional: False, IsOut: False, IsRetval: False, CustomAttributes: [  ] }, IsCollectible: False, IsGenericMethod: False, IsGenericMethodDefinition: False, ContainsGenericParameters: True, MethodImplementationFlags: Managed, .. }, StackTrace:    at FSharp.Data.HttpHelpers.augmentWebExceptionsWithDetails@1416-4.Invoke(Unit unitVar)\r\n",
       "   at Microsoft.FSharp.Control.AsyncPrimitives.CallThenInvoke[T,TResult](AsyncActivation`1 ctxt, TResult result1, FSharpFunc`2 part2) in D:\\workspace\\_work\\1\\s\\src\\fsharp\\FSharp.Core\\async.fs:line 446\r\n",
       "   at Microsoft.FSharp.Control.Trampoline.Execute(FSharpFunc`2 firstAction) in D:\\workspace\\_work\\1\\s\\src\\fsharp\\FSharp.Core\\async.fs:line 104\r\n",
       "--- End of stack trace from previous location ---\r\n",
       "   at Microsoft.FSharp.Control.AsyncResult`1.Commit() in D:\\workspace\\_work\\1\\s\\src\\fsharp\\FSharp.Core\\async.fs:line 393\r\n",
       "   at Microsoft.FSharp.Control.AsyncPrimitives.RunImmediate[a](CancellationToken cancellationToken, FSharpAsync`1 computation) in D:\\workspace\\_work\\1\\s\\src\\fsharp\\FSharp.Core\\async.fs:line 1063\r\n",
       "   at Microsoft.FSharp.Control.AsyncPrimitives.RunSynchronously[T](CancellationToken cancellationToken, FSharpAsync`1 computation, FSharpOption`1 timeout) in D:\\workspace\\_work\\1\\s\\src\\fsharp\\FSharp.Core\\async.fs:line 1070\r\n",
       "   at Microsoft.FSharp.Control.FSharpAsync.RunSynchronously[T](FSharpAsync`1 computation, FSharpOption`1 timeout, FSharpOption`1 cancellationToken) in D:\\workspace\\_work\\1\\s\\src\\fsharp\\FSharp.Core\\async.fs:line 1365\r\n",
       "   at FSI_0034.getAnimalSafe@6-1.Invoke(Unit unitVar0)\r\n",
       "   at FSI_0034.ofFunc[a](FSharpFunc`2 code), Message: The remote server returned an error: (404) Not Found.\n",
       "Response from https://jsonplaceholder.typicode.com/posts/450000:\n",
       "{}, Data: [  ], InnerException: { System.Net.WebException: The remote server returned an error: (404) Not Found.\r\n",
       "   at System.Net.HttpWebRequest.EndGetResponse(IAsyncResult asyncResult)\r\n",
       "   at &lt;StartupCode$FSharp-Core&gt;.$Async.callback@1766.Invoke(IAsyncResult iar) in D:\\workspace\\_work\\1\\s\\src\\fsharp\\FSharp.Core\\async.fs:line 1781\r\n",
       "--- End of stack trace from previous location ---\r\n",
       "   at Microsoft.FSharp.Control.AsyncResult`1.Commit() in D:\\workspace\\_work\\1\\s\\src\\fsharp\\FSharp.Core\\async.fs:line 393\r\n",
       "   at &lt;StartupCode$FSharp-Core&gt;.$Async.AwaitAndBindChildResult@1726-6.Invoke(Boolean ok) in D:\\workspace\\_work\\1\\s\\src\\fsharp\\FSharp.Core\\async.fs:line 1731\r\n",
       "   at Microsoft.FSharp.Control.AsyncPrimitives.CallThenInvokeNoHijackCheck[a,b](AsyncActivation`1 ctxt, b result1, FSharpFunc`2 userCode) in D:\\workspace\\_work\\1\\s\\src\\fsharp\\FSharp.Core\\async.fs:line 464\r\n",
       "   at Microsoft.FSharp.Control.Trampoline.Execute(FSharpFunc`2 firstAction) in D:\\workspace\\_work\\1\\s\\src\\fsharp\\FSharp.Core\\async.fs:line 104\r\n",
       "--- End of stack trace from previous location ---\r\n",
       "   at FSharp.Data.HttpHelpers.catchHandler@1-2(HttpWebRequest req, Exception _arg2)\r\n",
       "   at FSharp.Data.HttpHelpers.getResponseAsync@1508-5.Invoke(Exception edi)\r\n",
       "   at Microsoft.FSharp.Control.AsyncPrimitives.CallFilterThenInvoke[T](AsyncActivation`1 ctxt, FSharpFunc`2 filterFunction, ExceptionDispatchInfo edi) in D:\\workspace\\_work\\1\\s\\src\\fsharp\\FSharp.Core\\async.fs:line 486\r\n",
       "   at Microsoft.FSharp.Control.Trampoline.Execute(FSharpFunc`2 firstAction) in D:\\workspace\\_work\\1\\s\\src\\fsharp\\FSharp.Core\\async.fs:line 104: Status: ProtocolError, Response: { System.Net.HttpWebResponse: IsMutuallyAuthenticated: False, ContentLength: 2, ContentType: application/json; charset=utf-8, ContentEncoding: &lt;null&gt;, Cookies: [  ], LastModified: 2021-08-22 22:41:07Z, Server: cloudflare, ProtocolVersion: { 1.1: Major: 1, Minor: 1, Build: -1, Revision: -1, MajorRevision: -1, MinorRevision: -1 }, Headers: [ Date, Connection, X-Powered-By, x-ratelimit-limit, x-ratelimit-remaining, x-ratelimit-reset, Vary, Access-Control-Allow-Credentials, Cache-Control, Pragma, X-Content-Type-Options, ETag, Via, CF-Cache-Status, Age, Expect-CT, Report-To, NEL, Server, CF-RAY ... (4 more) ], Method: GET, ResponseUri: { https://jsonplaceholder.typicode.com/posts/450000: AbsolutePath: /posts/450000, AbsoluteUri: https://jsonplaceholder.typicode.com/posts/450000, LocalPath: /posts/450000, Authority: jsonplaceholder.typicode.com, HostNameType: Dns, IsDefaultPort: True, IsFile: False, IsLoopback: False, PathAndQuery: /posts/450000, Segments: [ /, posts/, 450000 ], IsUnc: False, Host: jsonplaceholder.typicode.com, Port: 443, Query: , Fragment: , Scheme: https, OriginalString: https://jsonplaceholder.typicode.com/posts/450000, DnsSafeHost: jsonplaceholder.typicode.com, IdnHost: jsonplaceholder.typicode.com, IsAbsoluteUri: True, .. }, StatusCode: NotFound, StatusDescription: Not Found, CharacterSet: utf-8, SupportsHeaders: True, IsFromCache: False }, TargetSite: { System.Net.WebResponse EndGetResponse(System.IAsyncResult): Name: EndGetResponse, DeclaringType: System.Net.HttpWebRequest, ReflectedType: System.Net.HttpWebRequest, MemberType: Method, MetadataToken: 100663596, Module: { System.Net.Requests.dll: MDStreamVersion: 131072, FullyQualifiedName: C:\\Program Files\\dotnet\\shared\\Microsoft.NETCore.App\\5.0.9\\System.Net.Requests.dll, ModuleVersionId: 234d2bf4-6464-4550-a041-695234c68535, MetadataToken: 1, ScopeName: System.Net.Requests.dll, Name: System.Net.Requests.dll, Assembly: { System.Net.Requests, Version=5.0.0.0, Culture=neutral, PublicKeyToken=b03f5f7f11d50a3a: CodeBase: file:///C:/Program Files/dotnet/shared/Microsoft.NETCore.App/5.0.9/System.Net.Requests.dll, FullName: System.Net.Requests, Version=5.0.0.0, Culture=neutral, PublicKeyToken=b03f5f7f11d50a3a, EntryPoint: &lt;null&gt;, DefinedTypes: [ Microsoft.CodeAnalysis.EmbeddedAttribute, System.Runtime.CompilerServices.NullableAttribute, System.Runtime.CompilerServices.NullableContextAttribute, System.Runtime.CompilerServices.NullablePublicOnlyAttribute, FxResources.System.Net.Requests.SR, System.NotImplemented, System.SR, System.Threading.Tasks.TaskToApm, System.Threading.Tasks.TaskToApm+TaskAsyncResult, System.Net.AuthenticationManager, System.Net.Authorization, System.Net.FileWebRequest, System.Net.FileWebRequest+&lt;&gt;c, System.Net.FileWebRequestCreator, System.Net.WebFileStream, System.Net.FileWebResponse, System.Net.GlobalProxySelection, System.Net.GlobalProxySelection+EmptyWebProxy, System.Net.HttpContinueDelegate, System.Net.HttpWebRequest ... (79 more) ], IsCollectible: False, ManifestModule: { System.Net.Requests.dll: MDStreamVersion: 131072, FullyQualifiedName: C:\\Program Files\\dotnet\\shared\\Microsoft.NETCore.App\\5.0.9\\System.Net.Requests.dll, ModuleVersionId: 234d2bf4-6464-4550-a041-695234c68535, MetadataToken: 1, ScopeName: System.Net.Requests.dll, Name: System.Net.Requests.dll, Assembly: System.Net.Requests, Version=5.0.0.0, Culture=neutral, PublicKeyToken=b03f5f7f11d50a3a, ModuleHandle: System.ModuleHandle, CustomAttributes: [ [System.Runtime.CompilerServices.NullablePublicOnlyAttribute((Boolean)False)], [System.Runtime.CompilerServices.SkipLocalsInitAttribute()] ] }, ReflectionOnly: False, Location: C:\\Program Files\\dotnet\\shared\\Microsoft.NETCore.App\\5.0.9\\System.Net.Requests.dll, ImageRuntimeVersion: v4.0.30319, GlobalAssemblyCache: False, HostContext: 0, IsDynamic: False, ExportedTypes: [ System.Net.AuthenticationManager, System.Net.Authorization, System.Net.FileWebRequest, System.Net.FileWebResponse, System.Net.GlobalProxySelection, System.Net.HttpContinueDelegate, System.Net.HttpWebRequest, System.Net.HttpWebResponse, System.Net.IAuthenticationModule, System.Net.ICredentialPolicy, System.Net.IWebRequestCreate, System.Net.ProtocolViolationException, System.Net.WebException, System.Net.WebExceptionStatus, System.Net.WebRequest, System.Net.WebRequestMethods, System.Net.WebRequestMethods+Ftp, System.Net.WebRequestMethods+Http, System.Net.WebRequestMethods+File, System.Net.WebResponse ... (6 more) ], IsFullyTrusted: True, CustomAttributes: [ [System.Reflection.AssemblyProductAttribute(&quot;Microsoft&#174; .NET&quot;)], [System.Runtime.CompilerServices.CompilationRelaxationsAttribute((Int32)8)], [System.Runtime.CompilerServices.RuntimeCompatibilityAttribute(WrapNonExceptionThrows = True)], [System.Diagnostics.DebuggableAttribute((System.Diagnostics.DebuggableAttribute+DebuggingModes)2)], [System.Runtime.Versioning.TargetFrameworkAttribute(&quot;.NETCoreApp,Version=v5.0&quot;, FrameworkDisplayName = &quot;&quot;)], [System.CLSCompliantAttribute((Boolean)True)], [System.Runtime.Versioning.UnsupportedOSPlatformAttribute(&quot;browser&quot;)], [System.Reflection.AssemblyDefaultAliasAttribute(&quot;System.Net.Requests&quot;)], [System.Resources.NeutralResourcesLanguageAttribute(&quot;en-US&quot;)], [System.Reflection.AssemblyMetadataAttribute(&quot;.NETFrameworkAssembly&quot;, &quot;&quot;)], [System.Reflection.AssemblyMetadataAttribute(&quot;Serviceable&quot;, &quot;True&quot;)], [System.Reflection.AssemblyMetadataAttribute(&quot;PreferInbox&quot;, &quot;True&quot;)], [System.Reflection.AssemblyCompanyAttribute(&quot;Microsoft Corporation&quot;)], [System.Reflection.AssemblyCopyrightAttribute(&quot;&#169; Microsoft Corporation. All rights reserved.&quot;)], [System.Reflection.AssemblyDescriptionAttribute(&quot;System.Net.Requests&quot;)], [System.Reflection.AssemblyFileVersionAttribute(&quot;5.0.921.35908&quot;)], [System.Reflection.AssemblyInformationalVersionAttribute(&quot;5.0.9+208e377a5329ad6eb1db5e5fb9d4590fa50beadd&quot;)], [System.Runtime.CompilerServices.ExtensionAttribute()], [System.Reflection.AssemblyTitleAttribute(&quot;System.Net.Requests&quot;)], [System.Reflection.AssemblyMetadataAttribute(&quot;RepositoryUrl&quot;, &quot;git://github.com/dotnet/runtime&quot;)] ], EscapedCodeBase: file:///C:/Program%20Files/dotnet/shared/Microsoft.NETCore.App/5.0.9/System.Net.Requests.dll, Modules: [ System.Net.Requests.dll ], SecurityRuleSet: None }, ModuleHandle: { System.ModuleHandle: MDStreamVersion: 131072 }, CustomAttributes: [ { [System.Runtime.CompilerServices.NullablePublicOnlyAttribute((Boolean)False)]: AttributeType: System.Runtime.CompilerServices.NullablePublicOnlyAttribute, Constructor: Void .ctor(Boolean), ConstructorArguments: [ (Boolean)False ], NamedArguments: [  ] }, { [System.Runtime.CompilerServices.SkipLocalsInitAttribute()]: AttributeType: System.Runtime.CompilerServices.SkipLocalsInitAttribute, Constructor: Void .ctor(), ConstructorArguments: [  ], NamedArguments: [  ] } ] }, IsSecurityCritical: True, IsSecuritySafeCritical: False, IsSecurityTransparent: False, MethodHandle: { System.RuntimeMethodHandle: Value: 140704520272936 }, Attributes: PrivateScope, Public, Virtual, HideBySig, CallingConvention: Standard, HasThis, ReturnType: System.Net.WebResponse, ReturnTypeCustomAttributes: { System.Net.WebResponse : ParameterType: System.Net.WebResponse, Name: &lt;null&gt;, HasDefaultValue: True, DefaultValue: &lt;null&gt;, RawDefaultValue: &lt;null&gt;, MetadataToken: 134217728, Attributes: None, Member: { System.Net.WebResponse EndGetResponse(System.IAsyncResult): Name: EndGetResponse, DeclaringType: System.Net.HttpWebRequest, ReflectedType: System.Net.HttpWebRequest, MemberType: Method, MetadataToken: 100663596, Module: { System.Net.Requests.dll: MDStreamVersion: 131072, FullyQualifiedName: C:\\Program Files\\dotnet\\shared\\Microsoft.NETCore.App\\5.0.9\\System.Net.Requests.dll, ModuleVersionId: 234d2bf4-6464-4550-a041-695234c68535, MetadataToken: 1, ScopeName: System.Net.Requests.dll, Name: System.Net.Requests.dll, Assembly: System.Net.Requests, Version=5.0.0.0, Culture=neutral, PublicKeyToken=b03f5f7f11d50a3a, ModuleHandle: System.ModuleHandle, CustomAttributes: [ [System.Runtime.CompilerServices.NullablePublicOnlyAttribute((Boolean)False)], [System.Runtime.CompilerServices.SkipLocalsInitAttribute()] ] }, IsSecurityCritical: True, IsSecuritySafeCritical: False, IsSecurityTransparent: False, MethodHandle: { System.RuntimeMethodHandle: Value: 140704520272936 }, Attributes: PrivateScope, Public, Virtual, HideBySig, CallingConvention: Standard, HasThis, ReturnType: System.Net.WebResponse, ReturnTypeCustomAttributes: { System.Net.WebResponse : ParameterType: System.Net.WebResponse, Name: &lt;null&gt;, HasDefaultValue: True, DefaultValue: &lt;null&gt;, RawDefaultValue: &lt;null&gt;, MetadataToken: 134217728, Attributes: None, Member: System.Net.WebResponse EndGetResponse(System.IAsyncResult), Position: -1, IsIn: False, IsLcid: False, IsOptional: False, IsOut: False, IsRetval: False, CustomAttributes: [  ] }, ReturnParameter: { System.Net.WebResponse : ParameterType: System.Net.WebResponse, Name: &lt;null&gt;, HasDefaultValue: True, DefaultValue: &lt;null&gt;, RawDefaultValue: &lt;null&gt;, MetadataToken: 134217728, Attributes: None, Member: System.Net.WebResponse EndGetResponse(System.IAsyncResult), Position: -1, IsIn: False, IsLcid: False, IsOptional: False, IsOut: False, IsRetval: False, CustomAttributes: [  ] }, IsCollectible: False, IsGenericMethod: False, IsGenericMethodDefinition: False, ContainsGenericParameters: False, MethodImplementationFlags: Managed, .. }, Position: -1, IsIn: False, IsLcid: False, IsOptional: False, IsOut: False, IsRetval: False, CustomAttributes: [  ] }, ReturnParameter: { System.Net.WebResponse : ParameterType: System.Net.WebResponse, Name: &lt;null&gt;, HasDefaultValue: True, DefaultValue: &lt;null&gt;, RawDefaultValue: &lt;null&gt;, MetadataToken: 134217728, Attributes: None, Member: { System.Net.WebResponse EndGetResponse(System.IAsyncResult): Name: EndGetResponse, DeclaringType: System.Net.HttpWebRequest, ReflectedType: System.Net.HttpWebRequest, MemberType: Method, MetadataToken: 100663596, Module: { System.Net.Requests.dll: MDStreamVersion: 131072, FullyQualifiedName: C:\\Program Files\\dotnet\\shared\\Microsoft.NETCore.App\\5.0.9\\System.Net.Requests.dll, ModuleVersionId: 234d2bf4-6464-4550-a041-695234c68535, MetadataToken: 1, ScopeName: System.Net.Requests.dll, Name: System.Net.Requests.dll, Assembly: System.Net.Requests, Version=5.0.0.0, Culture=neutral, PublicKeyToken=b03f5f7f11d50a3a, ModuleHandle: System.ModuleHandle, CustomAttributes: [ [System.Runtime.CompilerServices.NullablePublicOnlyAttribute((Boolean)False)], [System.Runtime.CompilerServices.SkipLocalsInitAttribute()] ] }, IsSecurityCritical: True, IsSecuritySafeCritical: False, IsSecurityTransparent: False, MethodHandle: { System.RuntimeMethodHandle: Value: 140704520272936 }, Attributes: PrivateScope, Public, Virtual, HideBySig, CallingConvention: Standard, HasThis, ReturnType: System.Net.WebResponse, ReturnTypeCustomAttributes: { System.Net.WebResponse : ParameterType: System.Net.WebResponse, Name: &lt;null&gt;, HasDefaultValue: True, DefaultValue: &lt;null&gt;, RawDefaultValue: &lt;null&gt;, MetadataToken: 134217728, Attributes: None, Member: System.Net.WebResponse EndGetResponse(System.IAsyncResult), Position: -1, IsIn: False, IsLcid: False, IsOptional: False, IsOut: False, IsRetval: False, CustomAttributes: [  ] }, ReturnParameter: { System.Net.WebResponse : ParameterType: System.Net.WebResponse, Name: &lt;null&gt;, HasDefaultValue: True, DefaultValue: &lt;null&gt;, RawDefaultValue: &lt;null&gt;, MetadataToken: 134217728, Attributes: None, Member: System.Net.WebResponse EndGetResponse(System.IAsyncResult), Position: -1, IsIn: False, IsLcid: False, IsOptional: False, IsOut: False, IsRetval: False, CustomAttributes: [  ] }, IsCollectible: False, IsGenericMethod: False, IsGenericMethodDefinition: False, ContainsGenericParameters: False, MethodImplementationFlags: Managed, .. }, Position: -1, IsIn: False, IsLcid: False, IsOptional: False, IsOut: False, IsRetval: False, CustomAttributes: [  ] }, IsCollectible: False, IsGenericMethod: False, IsGenericMethodDefinition: False, ContainsGenericParameters: False, MethodImplementationFlags: Managed, .. }, StackTrace:    at System.Net.HttpWebRequest.EndGetResponse(IAsyncResult asyncResult)\r\n",
       "   at &lt;StartupCode$FSharp-Core&gt;.$Async.callback@1766.Invoke(IAsyncResult iar) in D:\\workspace\\_work\\1\\s\\src\\fsharp\\FSharp.Core\\async.fs:line 1781\r\n",
       "--- End of stack trace from previous location ---\r\n",
       "   at Microsoft.FSharp.Control.AsyncResult`1.Commit() in D:\\workspace\\_work\\1\\s\\src\\fsharp\\FSharp.Core\\async.fs:line 393\r\n",
       "   at &lt;StartupCode$FSharp-Core&gt;.$Async.AwaitAndBindChildResult@1726-6.Invoke(Boolean ok) in D:\\workspace\\_work\\1\\s\\src\\fsharp\\FSharp.Core\\async.fs:line 1731\r\n",
       "   at Microsoft.FSharp.Control.AsyncPrimitives.CallThenInvokeNoHijackCheck[a,b](AsyncActivation`1 ctxt, b result1, FSharpFunc`2 userCode) in D:\\workspace\\_work\\1\\s\\src\\fsharp\\FSharp.Core\\async.fs:line 464\r\n",
       "   at Microsoft.FSharp.Control.Trampoline.Execute(FSharpFunc`2 firstAction) in D:\\workspace\\_work\\1\\s\\src\\fsharp\\FSharp.Core\\async.fs:line 104\r\n",
       "--- End of stack trace from previous location ---\r\n",
       "   at FSharp.Data.HttpHelpers.catchHandler@1-2(HttpWebRequest req, Exception _arg2)\r\n",
       "   at FSharp.Data.HttpHelpers.getResponseAsync@1508-5.Invoke(Exception edi)\r\n",
       "   at Microsoft.FSharp.Control.AsyncPrimitives.CallFilterThenInvoke[T](AsyncActivation`1 ctxt, FSharpFunc`2 filterFunction, ExceptionDispatchInfo edi) in D:\\workspace\\_work\\1\\s\\src\\fsharp\\FSharp.Core\\async.fs:line 486\r\n",
       "   at Microsoft.FSharp.Control.Trampoline.Execute(FSharpFunc`2 firstAction) in D:\\workspace\\_work\\1\\s\\src\\fsharp\\FSharp.Core\\async.fs:line 104, Message: The remote server returned an error: (404) Not Found., Data: [  ], InnerException: &lt;null&gt;, HelpLink: &lt;null&gt;, Source: System.Net.Requests, HResult: -2146233079 }, HelpLink: &lt;null&gt;, Source: FSharp.Data, HResult: -2146233079 }</div></td></tr></tbody></table>"
      ]
     },
     "metadata": {}
    }
   ],
   "metadata": {
    "dotnet_interactive": {
     "language": "fsharp"
    }
   }
  },
  {
   "cell_type": "code",
   "execution_count": null,
   "source": [
    "#r \"nuget: Http.fs\"\r\n",
    "open HttpFs.Client"
   ],
   "outputs": [
    {
     "output_type": "display_data",
     "data": {
      "text/html": [
       "<div><div></div><div></div><div><strong>Installed Packages</strong><ul><li><span>Http.fs, 5.4.0</span></li></ul></div></div>"
      ]
     },
     "metadata": {}
    }
   ],
   "metadata": {
    "dotnet_interactive": {
     "language": "fsharp"
    }
   }
  },
  {
   "cell_type": "code",
   "execution_count": null,
   "source": [
    "Request.createUrl Get \"https://jsonplaceholder.typicode.com/users\"\r\n",
    "|> Request.cookie (Cookie.create (\"Foo\", \"Bar\"))\r\n",
    "|> Request.setHeader (Connection \"Keep-Alive\")\r\n",
    "|> getResponse"
   ],
   "outputs": [
    {
     "output_type": "display_data",
     "data": {
      "text/html": [
       "<div class=\"dni-plaintext\">HttpFs.Client+getResponse@993</div>"
      ]
     },
     "metadata": {}
    }
   ],
   "metadata": {
    "dotnet_interactive": {
     "language": "fsharp"
    }
   }
  },
  {
   "cell_type": "code",
   "execution_count": null,
   "source": [
    "open HttpFs\r\n",
    "open HttpFs.Client\r\n",
    "\r\n",
    "\r\n",
    "let request = \r\n",
    "    Request.createUrl Get \"https://jsonplaceholder.typicode.com/users\"\r\n",
    "let response = \r\n",
    "    request |> getResponse\r\n",
    "\r\n",
    "job {\r\n",
    "    let! bodstr = response |> Response.readBodyAsString\r\n",
    "    return bodystr\r\n",
    "}"
   ],
   "outputs": [
    {
     "output_type": "error",
     "ename": "Error",
     "evalue": "input.fsx (10,1)-(10,4) typecheck error 'job' 값 또는 생성자가 정의되지 않았습니다. 다음 중 하나가 필요할 수 있습니다:\r\n   Json",
     "traceback": [
      "input.fsx (10,1)-(10,4) typecheck error 'job' 값 또는 생성자가 정의되지 않았습니다. 다음 중 하나가 필요할 수 있습니다:\r\n",
      "   Json"
     ]
    }
   ],
   "metadata": {
    "dotnet_interactive": {
     "language": "fsharp"
    }
   }
  },
  {
   "cell_type": "code",
   "execution_count": null,
   "source": [
    "{\r\n",
    "    StatusCode = 200;              \r\n",
    "    EntityBody =                    \r\n",
    "    Some \"[{\"Name\":\"Fido\",\"Species\":\"Dog\"},{\"Name\":\"Felix\",\"Species\":\"Cat\"}]\";\r\n",
    "    ContentLength = 66L;\r\n",
    "    Cookies = map [];\r\n",
    "    Headers = Map                               \r\n",
    "        [(ContentTypeResponse, \"application/json; charset=utf-8\");\r\n",
    "        (DateResponse, \"Mon, 16 Jan 2017 15:34:02 GMT\");\r\n",
    "        (Server, \"Microsoft-IIS/10.0\"); (NonStandard \"X-Powered-By\", \"ASP.NET\");\r\n",
    "        (NonStandard \"X-SourceFiles\", <elided>)];\r\n",
    "}"
   ],
   "outputs": [
    {
     "output_type": "error",
     "ename": "Error",
     "evalue": "input.fsx (11,34)-(11,35) parse error 예기치 않은 기호 '<'입니다. 식\ninput.fsx (11,42)-(11,43) parse error 예기치 않은 ')' 기호입니다. 식",
     "traceback": [
      "input.fsx (11,34)-(11,35) parse error 예기치 않은 기호 '<'입니다. 식\n",
      "input.fsx (11,42)-(11,43) parse error 예기치 않은 ')' 기호입니다. 식"
     ]
    }
   ],
   "metadata": {
    "dotnet_interactive": {
     "language": "fsharp"
    }
   }
  },
  {
   "cell_type": "code",
   "execution_count": null,
   "source": [
    "#r \"nuget: SwaggerProvider\"\r\n",
    "open SwaggerProvider"
   ],
   "outputs": [
    {
     "data": {
      "text/html": [
       "<div><div></div><div></div><div><strong>Installed Packages</strong><ul><li><span>SwaggerProvider, 0.12.0</span></li></ul></div></div>"
      ]
     },
     "metadata": {},
     "output_type": "display_data"
    }
   ],
   "metadata": {
    "dotnet_interactive": {
     "language": "fsharp"
    }
   }
  },
  {
   "cell_type": "code",
   "execution_count": null,
   "source": [
    "let [<Literal>] Schema = \"http://localhost:5000/swagger/v1/swagger.json\"\r\n",
    "type Weather = OpenApiClientProvider<Schema>"
   ],
   "outputs": [],
   "metadata": {
    "dotnet_interactive": {
     "language": "fsharp"
    }
   }
  },
  {
   "cell_type": "code",
   "execution_count": null,
   "source": [
    "let client = Weather.Client()\r\n",
    "client.HttpClient.BaseAddress <- System.Uri \"http://localhost:5000\"\r\n",
    "\r\n",
    "client.GetWeatherForecast()\r\n",
    "|> Async.AwaitTask\r\n",
    "|> Async.RunSynchronously\r\n",
    "|> Array.iter Console.WriteLine"
   ],
   "outputs": [
    {
     "output_type": "stream",
     "name": "stdout",
     "text": [
      "{Date=Some(08/22/2021 23:48:00 +09:00); TemperatureC=Some(3); Summary=\"Bracing\"; TemperatureF=Some(37.399568034557234)}\r\n",
      "{Date=Some(08/23/2021 23:48:00 +09:00); TemperatureC=Some(20); Summary=\"Bracing\"; TemperatureF=Some(67.99712023038157)}\r\n",
      "{Date=Some(08/24/2021 23:48:00 +09:00); TemperatureC=Some(-4); Summary=\"Hot\"; TemperatureF=Some(24.800575953923687)}\r\n",
      "{Date=Some(08/25/2021 23:48:00 +09:00); TemperatureC=Some(5); Summary=\"Sweltering\"; TemperatureF=Some(40.99928005759539)}\r\n",
      "{Date=Some(08/26/2021 23:48:00 +09:00); TemperatureC=Some(36); Summary=\"Scorching\"; TemperatureF=Some(96.79481641468682)}\r\n"
     ]
    }
   ],
   "metadata": {
    "dotnet_interactive": {
     "language": "fsharp"
    }
   }
  }
 ],
 "nbformat": 4,
 "nbformat_minor": 2
}