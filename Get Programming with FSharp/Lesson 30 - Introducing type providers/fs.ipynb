{
 "metadata": {
  "kernelspec": {
   "display_name": ".NET (F#)",
   "language": "F#",
   "name": ".net-fsharp"
  },
  "language_info": {
   "name": "F#"
  }
 },
 "cells": [
  {
   "cell_type": "code",
   "execution_count": null,
   "source": [
    "#r \"nuget: FSharp.Data\"\r\n",
    "\r\n",
    "open FSharp.Data\r\n",
    "\r\n",
    "// type Football = CsvProvider< @\".\\FootballResults.csv\" >\r\n",
    "type Football = CsvProvider< @\".\\FootballResultsBad.csv\" >\r\n",
    "let data = Football.GetSample().Rows |> Seq.toArray\r\n",
    "data.[0].Date"
   ],
   "outputs": [
    {
     "data": {
      "text/html": [
       "<div><div></div><div></div><div><strong>Installed Packages</strong><ul><li><span>FSharp.Data, 4.2.2</span></li></ul></div></div>"
      ]
     },
     "metadata": {},
     "output_type": "display_data"
    },
    {
     "data": {
      "text/html": [
       "<span>2012-08-18 00:00:00Z</span>"
      ]
     },
     "metadata": {},
     "output_type": "display_data"
    }
   ],
   "metadata": {
    "dotnet_interactive": {
     "language": "fsharp"
    }
   }
  },
  {
   "cell_type": "code",
   "execution_count": null,
   "source": [
    "#r \"nuget: XPlot.Plotly\"\r\n",
    "\r\n",
    "open XPlot.Plotly\r\n",
    "\r\n",
    "data\r\n",
    "|> Seq.filter(fun row ->\r\n",
    "    row.``Full Time Home Goals`` > row.``Full Time Away Goals``)\r\n",
    "|> Seq.countBy(fun row -> row.``Home Team``)                     \r\n",
    "|> Seq.sortByDescending snd\r\n",
    "|> Seq.take 10\r\n",
    "|> Chart.Column                                                  \r\n",
    "|> Chart.Show   "
   ],
   "outputs": [
    {
     "data": {
      "text/html": [
       "<div><div></div><div></div><div><strong>Installed Packages</strong><ul><li><span>XPlot.Plotly, 4.0.3</span></li></ul></div></div>"
      ]
     },
     "metadata": {},
     "output_type": "display_data"
    },
    {
     "output_type": "error",
     "ename": "Error",
     "evalue": "input.fsx (7,36)-(7,64) typecheck error 이 식에는\n    'int' 형식이 필요하지만    \n여기에서는\n    'string' 형식이 지정되었습니다.    ",
     "traceback": [
      "input.fsx (7,36)-(7,64) typecheck error 이 식에는\n",
      "    'int' 형식이 필요하지만    \n",
      "여기에서는\n",
      "    'string' 형식이 지정되었습니다.    "
     ]
    }
   ],
   "metadata": {
    "dotnet_interactive": {
     "language": "fsharp"
    }
   }
  }
 ],
 "nbformat": 4,
 "nbformat_minor": 2
}