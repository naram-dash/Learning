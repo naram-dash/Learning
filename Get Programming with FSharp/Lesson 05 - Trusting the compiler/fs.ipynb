{
 "metadata": {
  "kernelspec": {
   "display_name": ".NET (F#)",
   "language": "F#",
   "name": ".net-fsharp"
  },
  "language_info": {
   "name": "F#"
  }
 },
 "cells": [
  {
   "cell_type": "code",
   "execution_count": null,
   "source": [
    "var i1 = 10; // implicitly typed int\r\n",
    "int i2 = 10;"
   ],
   "outputs": [],
   "metadata": {
    "dotnet_interactive": {
     "language": "csharp"
    }
   }
  },
  {
   "cell_type": "code",
   "execution_count": null,
   "source": [
    "var customer = new {\r\n",
    "    Withdraw = new Func<int, int>((int i) =>  i),\r\n",
    "}; // implicitly typed object\r\n",
    "var i = customer.Withdraw(50);\r\n",
    "var newBalance = customer.Withdraw(50);\r\n"
   ],
   "outputs": [],
   "metadata": {
    "dotnet_interactive": {
     "language": "csharp"
    }
   }
  },
  {
   "cell_type": "code",
   "execution_count": null,
   "source": [
    "let add (a:int, b:int) : int =\r\n",
    "    let answer:int = a + b\r\n",
    "    answer"
   ],
   "outputs": [],
   "metadata": {
    "dotnet_interactive": {
     "language": "fsharp"
    }
   }
  },
  {
   "cell_type": "code",
   "execution_count": null,
   "source": [
    "let getLength name = sprintf \"Name is %d letters.\" name.Length           \r\n",
    "let getLength (name:string) = sprintf \"Name is %d letters.\" name.Length  \r\n",
    "let foo(name) = \"Hello! \" + getLength(name)      \r\n",
    "// type inferencing not working well here                        "
   ],
   "outputs": [],
   "metadata": {
    "dotnet_interactive": {
     "language": "fsharp"
    }
   }
  },
  {
   "cell_type": "code",
   "execution_count": null,
   "source": [
    "open System.Collections.Generic\r\n",
    "\r\n",
    "// Inferred type arguments in F#\r\n",
    "let numbers = List<_>()           \r\n",
    "numbers.Add(10)\r\n",
    "numbers.Add(20)\r\n",
    "\r\n",
    "let otherNumbers = List()         \r\n",
    "otherNumbers.Add(10)\r\n",
    "otherNumbers.Add(20)"
   ],
   "outputs": [],
   "metadata": {
    "dotnet_interactive": {
     "language": "fsharp"
    }
   }
  },
  {
   "cell_type": "code",
   "execution_count": null,
   "source": [
    "// automatic generalization of a function\r\n",
    "let createList(first, second) =\r\n",
    "    let output = List()\r\n",
    "    output.Add(first)\r\n",
    "    output.Add(second)\r\n",
    "    output\r\n",
    "// val createList : first:'a * second:'a -> List<'a>"
   ],
   "outputs": [],
   "metadata": {
    "dotnet_interactive": {
     "language": "fsharp"
    }
   }
  },
  {
   "cell_type": "code",
   "execution_count": null,
   "source": [
    "let sayHello(someValue) =                          \r\n",
    "    // someValue: float\r\n",
    "    let innerFunction(number) =                    \r\n",
    "        // number: int\r\n",
    "        if number > 10 then \"Isaac\"\r\n",
    "        elif number > 20 then \"Fred\"\r\n",
    "        else \"Sara\"\r\n",
    "\r\n",
    "    // string\r\n",
    "    let resultOfInner =                            \r\n",
    "        if someValue < 10.0 then innerFunction(5)\r\n",
    "        else innerFunction(15)\r\n",
    "\r\n",
    "    \"Hello \" + resultOfInner                       \r\n",
    "\r\n",
    "let result = sayHello(10.5)                        "
   ],
   "outputs": [],
   "metadata": {
    "dotnet_interactive": {
     "language": "fsharp"
    }
   }
  }
 ],
 "nbformat": 4,
 "nbformat_minor": 2
}