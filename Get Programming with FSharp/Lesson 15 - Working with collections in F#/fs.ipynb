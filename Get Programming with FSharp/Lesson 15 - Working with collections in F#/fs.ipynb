{
 "metadata": {
  "kernelspec": {
   "display_name": ".NET (F#)",
   "language": "F#",
   "name": ".net-fsharp"
  },
  "language_info": {
   "name": "F#"
  }
 },
 "cells": [
  {
   "cell_type": "code",
   "execution_count": null,
   "source": [
    "type FootballResult =\r\n",
    "    { HomeTeam : string\r\n",
    "      AwayTeam : string\r\n",
    "      HomeGoals : int\r\n",
    "      AwayGoals : int }                                                \r\n",
    "let create (ht, hg) (at, ag) =\r\n",
    "    { HomeTeam = ht; AwayTeam = at; HomeGoals = hg; AwayGoals = ag }   \r\n",
    "let results =                                                          \r\n",
    "    [ create (\"Messiville\", 1) (\"Ronaldo City\", 2)\r\n",
    "      create (\"Messiville\", 1) (\"Bale Town\", 3)\r\n",
    "      create (\"Bale Town\", 3) (\"Ronaldo City\", 1)\r\n",
    "      create (\"Bale Town\", 2) (\"Messiville\", 1)\r\n",
    "      create (\"Ronaldo City\", 4) (\"Messiville\", 2)\r\n",
    "      create (\"Ronaldo City\", 1) (\"Bale Town\", 2) ]"
   ],
   "outputs": [],
   "metadata": {
    "dotnet_interactive": {
     "language": "fsharp"
    }
   }
  },
  {
   "cell_type": "code",
   "execution_count": null,
   "source": [
    "// An imperative solution to a calculation over data\r\n",
    "open System.Collections.Generic                                        \r\n",
    "\r\n",
    "type TeamSummary = { Name : string; mutable AwayWins : int }\r\n",
    "let summary = ResizeArray()                                            \r\n",
    "// ResizeArray = System.Collections.Generic.List\r\n",
    "\r\n",
    "for result in results do                                               \r\n",
    "    if result.AwayGoals > result.HomeGoals then\r\n",
    "        let mutable found = false                                      \r\n",
    "        for entry in summary do\r\n",
    "            if entry.Name = result.AwayTeam then\r\n",
    "                found <- true\r\n",
    "                entry.AwayWins <- entry.AwayWins + 1\r\n",
    "            if not found then\r\n",
    "                summary.Add { Name = result.AwayTeam; AwayWins = 1 }\r\n",
    "\r\n",
    "let comparer =                                                         \r\n",
    "    { new IComparer<TeamSummary> with\r\n",
    "        member this.Compare(x,y) =\r\n",
    "            if x.AwayWins > y.AwayWins then -1\r\n",
    "            elif x.AwayWins < y.AwayWins then 1\r\n",
    "            else 0 }\r\n",
    "\r\n",
    "summary.Sort(comparer)"
   ],
   "outputs": [],
   "metadata": {
    "dotnet_interactive": {
     "language": "fsharp"
    }
   }
  },
  {
   "cell_type": "code",
   "execution_count": null,
   "source": [
    "// Standard pattern for F# collection module functions\r\n",
    "let usaCustomers = Seq.filter areFromUSA sequenceOfCustomers             \r\n",
    "let numbersDoubled = Array.map (fun number -> number * 2) arrayOfNumbers \r\n",
    "let customersByCity = List.groupBy (fun c -> c.City) customerList\r\n",
    "let ukCustomers = sequenceOfCustomers |> Seq.filter areFromUK             \r\n",
    "let tripledNumbers = arrayOfNumbers |> Array.map (fun number -> number * 3)\r\n",
    "let customersByCountry = customerList |> List.groupBy (fun c -> c.Country)"
   ],
   "outputs": [
    {
     "output_type": "error",
     "ename": "Error",
     "evalue": "input.fsx (2,31)-(2,41) typecheck error 'areFromUSA' 값 또는 생성자가 정의되지 않았습니다.\ninput.fsx (2,42)-(2,61) typecheck error 'sequenceOfCustomers' 값 또는 생성자가 정의되지 않았습니다. 다음 중 하나가 필요할 수 있습니다:\r\n   SequencePosition\ninput.fsx (3,59)-(3,73) typecheck error 'arrayOfNumbers' 값 또는 생성자가 정의되지 않았습니다. 다음 중 하나가 필요할 수 있습니다:\r\n   Array\r\n   array\r\n   Array\r\n   ArrayModule\r\n   ArraySegment\ninput.fsx (4,46)-(4,52) typecheck error 이 프로그램 지점 전의 정보를 기반으로 하는 확인할 수 없는 형식의 개체를 대상으로 조회를 수행합니다. 개체의 형식을 제한하기 위해 이 프로그램 지점 전에 형식 주석이 필요할 수 있습니다. 이를 통해 조회가 확인될 수도 있습니다.\ninput.fsx (4,54)-(4,66) typecheck error 'customerList' 값 또는 생성자가 정의되지 않았습니다. 다음 중 하나가 필요할 수 있습니다:\r\n   CustomEqualityAttribute\ninput.fsx (5,19)-(5,38) typecheck error 'sequenceOfCustomers' 값 또는 생성자가 정의되지 않았습니다. 다음 중 하나가 필요할 수 있습니다:\r\n   SequencePosition\ninput.fsx (5,53)-(5,62) typecheck error 'areFromUK' 값 또는 생성자가 정의되지 않았습니다.\ninput.fsx (6,22)-(6,36) typecheck error 'arrayOfNumbers' 값 또는 생성자가 정의되지 않았습니다. 다음 중 하나가 필요할 수 있습니다:\r\n   Array\r\n   array\r\n   Array\r\n   ArrayModule\r\n   ArraySegment\ninput.fsx (7,26)-(7,38) typecheck error 'customerList' 값 또는 생성자가 정의되지 않았습니다. 다음 중 하나가 필요할 수 있습니다:\r\n   customersByCity\r\n   CustomEqualityAttribute\ninput.fsx (7,65)-(7,74) typecheck error 이 프로그램 지점 전의 정보를 기반으로 하는 확인할 수 없는 형식의 개체를 대상으로 조회를 수행합니다. 개체의 형식을 제한하기 위해 이 프로그램 지점 전에 형식 주석이 필요할 수 있습니다. 이를 통해 조회가 확인될 수도 있습니다.",
     "traceback": [
      "input.fsx (2,31)-(2,41) typecheck error 'areFromUSA' 값 또는 생성자가 정의되지 않았습니다.\n",
      "input.fsx (2,42)-(2,61) typecheck error 'sequenceOfCustomers' 값 또는 생성자가 정의되지 않았습니다. 다음 중 하나가 필요할 수 있습니다:\r\n",
      "   SequencePosition\n",
      "input.fsx (3,59)-(3,73) typecheck error 'arrayOfNumbers' 값 또는 생성자가 정의되지 않았습니다. 다음 중 하나가 필요할 수 있습니다:\r\n",
      "   Array\r\n",
      "   array\r\n",
      "   Array\r\n",
      "   ArrayModule\r\n",
      "   ArraySegment\n",
      "input.fsx (4,46)-(4,52) typecheck error 이 프로그램 지점 전의 정보를 기반으로 하는 확인할 수 없는 형식의 개체를 대상으로 조회를 수행합니다. 개체의 형식을 제한하기 위해 이 프로그램 지점 전에 형식 주석이 필요할 수 있습니다. 이를 통해 조회가 확인될 수도 있습니다.\n",
      "input.fsx (4,54)-(4,66) typecheck error 'customerList' 값 또는 생성자가 정의되지 않았습니다. 다음 중 하나가 필요할 수 있습니다:\r\n",
      "   CustomEqualityAttribute\n",
      "input.fsx (5,19)-(5,38) typecheck error 'sequenceOfCustomers' 값 또는 생성자가 정의되지 않았습니다. 다음 중 하나가 필요할 수 있습니다:\r\n",
      "   SequencePosition\n",
      "input.fsx (5,53)-(5,62) typecheck error 'areFromUK' 값 또는 생성자가 정의되지 않았습니다.\n",
      "input.fsx (6,22)-(6,36) typecheck error 'arrayOfNumbers' 값 또는 생성자가 정의되지 않았습니다. 다음 중 하나가 필요할 수 있습니다:\r\n",
      "   Array\r\n",
      "   array\r\n",
      "   Array\r\n",
      "   ArrayModule\r\n",
      "   ArraySegment\n",
      "input.fsx (7,26)-(7,38) typecheck error 'customerList' 값 또는 생성자가 정의되지 않았습니다. 다음 중 하나가 필요할 수 있습니다:\r\n",
      "   customersByCity\r\n",
      "   CustomEqualityAttribute\n",
      "input.fsx (7,65)-(7,74) typecheck error 이 프로그램 지점 전의 정보를 기반으로 하는 확인할 수 없는 형식의 개체를 대상으로 조회를 수행합니다. 개체의 형식을 제한하기 위해 이 프로그램 지점 전에 형식 주석이 필요할 수 있습니다. 이를 통해 조회가 확인될 수도 있습니다."
     ]
    }
   ],
   "metadata": {
    "dotnet_interactive": {
     "language": "fsharp"
    }
   }
  },
  {
   "cell_type": "code",
   "execution_count": null,
   "source": [
    "let isAwayWin result = result.AwayGoals > result.HomeGoals         \r\n",
    "\r\n",
    "results\r\n",
    "|> List.filter isAwayWin                                           \r\n",
    "|> List.countBy(fun result -> result.AwayTeam)                     \r\n",
    "|> List.sortByDescending(fun (_, awayWins) -> awayWins)"
   ],
   "outputs": [
    {
     "data": {
      "text/html": [
       "<table><thead><tr><th><i>index</i></th><th>Item1</th><th>Item2</th></tr></thead><tbody><tr><td>0</td><td>Bale Town</td><td><div class=\"dni-plaintext\">2</div></td></tr><tr><td>1</td><td>Ronaldo City</td><td><div class=\"dni-plaintext\">1</div></td></tr></tbody></table>"
      ]
     },
     "metadata": {},
     "output_type": "display_data"
    }
   ],
   "metadata": {
    "dotnet_interactive": {
     "language": "fsharp"
    }
   }
  },
  {
   "cell_type": "code",
   "execution_count": null,
   "source": [
    "let numbersArray = [| 1; 2; 3; 4; 6 |]              \r\n",
    "let firstNumber = numbersArray.[0]                  \r\n",
    "let firstThreeNumbers = numbersArray.[0 .. 2]       \r\n",
    "numbersArray.[0] <- 99                              // mutate element"
   ],
   "outputs": [],
   "metadata": {
    "dotnet_interactive": {
     "language": "fsharp"
    }
   }
  },
  {
   "cell_type": "code",
   "execution_count": null,
   "source": [
    "let numbers = [ 1; 2; 3; 4; 5; 6 ]                      \r\n",
    "let numbersQuick = [ 1 .. 6 ]                           \r\n",
    "let head :: tail = numbers                               // decomposing\r\n",
    "let moreNumbers = 0 :: numbers                          \r\n",
    "let evenMoreNumbers = moreNumbers @ [ 7 .. 9 ]           // concat\r\n",
    "\r\n",
    "evenMoreNumbers"
   ],
   "outputs": [
    {
     "data": {
      "text/html": [
       "<table><thead><tr><th><i>index</i></th><th>value</th></tr></thead><tbody><tr><td>0</td><td><div class=\"dni-plaintext\">0</div></td></tr><tr><td>1</td><td><div class=\"dni-plaintext\">1</div></td></tr><tr><td>2</td><td><div class=\"dni-plaintext\">2</div></td></tr><tr><td>3</td><td><div class=\"dni-plaintext\">3</div></td></tr><tr><td>4</td><td><div class=\"dni-plaintext\">4</div></td></tr><tr><td>5</td><td><div class=\"dni-plaintext\">5</div></td></tr><tr><td>6</td><td><div class=\"dni-plaintext\">6</div></td></tr><tr><td>7</td><td><div class=\"dni-plaintext\">7</div></td></tr><tr><td>8</td><td><div class=\"dni-plaintext\">8</div></td></tr><tr><td>9</td><td><div class=\"dni-plaintext\">9</div></td></tr></tbody></table>"
      ]
     },
     "metadata": {},
     "output_type": "display_data"
    }
   ],
   "metadata": {
    "dotnet_interactive": {
     "language": "fsharp"
    }
   }
  }
 ],
 "nbformat": 4,
 "nbformat_minor": 2
}