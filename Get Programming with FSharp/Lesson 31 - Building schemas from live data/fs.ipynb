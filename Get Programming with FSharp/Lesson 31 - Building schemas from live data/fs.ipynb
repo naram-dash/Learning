{
 "metadata": {
  "kernelspec": {
   "display_name": ".NET (F#)",
   "language": "F#",
   "name": ".net-fsharp"
  },
  "language_info": {
   "name": "F#"
  }
 },
 "cells": [
  {
   "cell_type": "code",
   "execution_count": null,
   "source": [
    "#r \"nuget: FSharp.Data\"\r\n",
    "\r\n",
    "open FSharp.Data\r\n",
    "\r\n",
    "type Todo = JsonProvider<\"https://jsonplaceholder.typicode.com/todos/1\">\r\n",
    "let todo = Todo.GetSample()\r\n",
    "let title = todo.Title\r\n",
    "\r\n",
    "title"
   ],
   "outputs": [
    {
     "data": {
      "text/html": [
       "<div><div></div><div></div><div><strong>Installed Packages</strong><ul><li><span>FSharp.Data, 4.2.2</span></li></ul></div></div>"
      ]
     },
     "metadata": {},
     "output_type": "display_data"
    },
    {
     "data": {
      "text/plain": [
       "delectus aut autem"
      ]
     },
     "metadata": {},
     "output_type": "display_data"
    }
   ],
   "metadata": {
    "dotnet_interactive": {
     "language": "fsharp"
    }
   }
  },
  {
   "cell_type": "code",
   "execution_count": null,
   "source": [
    "#r \"nuget: XPlot.Plotly\"\r\n",
    "\r\n",
    "open XPlot.Plotly\r\n",
    "\r\n",
    "type Films = HtmlProvider<\"https://en.wikipedia.org/wiki/Robert_De_Niro_filmography\">\r\n",
    "\r\n",
    "let deNiro = Films.GetSample()\r\n",
    "deNiro.Tables.FilmsEdit.Rows \r\n",
    "|> Array.countBy(fun row -> string row.Director)"
   ],
   "outputs": [
    {
     "data": {
      "text/html": [
       "<div><div></div><div></div><div><strong>Installed Packages</strong><ul><li><span>XPlot.Plotly, 4.0.3</span></li></ul></div></div>"
      ]
     },
     "metadata": {},
     "output_type": "display_data"
    },
    {
     "data": {
      "text/html": [
       "<table><thead><tr><th><i>index</i></th><th>Item1</th><th>Item2</th></tr></thead><tbody><tr><td>0</td><td>Marcel Carn&#233;</td><td><div class=\"dni-plaintext\">2</div></td></tr><tr><td>1</td><td>Brian De Palma</td><td><div class=\"dni-plaintext\">4</div></td></tr><tr><td>2</td><td>Jordan Leondopoulos</td><td><div class=\"dni-plaintext\">1</div></td></tr><tr><td>3</td><td>Roger Corman</td><td><div class=\"dni-plaintext\">1</div></td></tr><tr><td>4</td><td>Noel Black</td><td><div class=\"dni-plaintext\">1</div></td></tr><tr><td>5</td><td>Ivan Passer</td><td><div class=\"dni-plaintext\">1</div></td></tr><tr><td>6</td><td>James Goldstone</td><td><div class=\"dni-plaintext\">1</div></td></tr><tr><td>7</td><td>John Hancock</td><td><div class=\"dni-plaintext\">1</div></td></tr><tr><td>8</td><td>Martin Scorsese</td><td><div class=\"dni-plaintext\">10</div></td></tr><tr><td>9</td><td>Francis Ford Coppola</td><td><div class=\"dni-plaintext\">1</div></td></tr><tr><td>10</td><td>Bernardo Bertolucci</td><td><div class=\"dni-plaintext\">1</div></td></tr><tr><td>11</td><td>Elia Kazan</td><td><div class=\"dni-plaintext\">1</div></td></tr><tr><td>12</td><td>Michael Cimino</td><td><div class=\"dni-plaintext\">1</div></td></tr><tr><td>13</td><td>John C. Broderick &amp;Jordan Leondopoulos</td><td><div class=\"dni-plaintext\">1</div></td></tr><tr><td>14</td><td>Ulu Grosbard</td><td><div class=\"dni-plaintext\">2</div></td></tr><tr><td>15</td><td>Sergio Leone</td><td><div class=\"dni-plaintext\">1</div></td></tr><tr><td>16</td><td>Terry Gilliam</td><td><div class=\"dni-plaintext\">1</div></td></tr><tr><td>17</td><td>Roland Joff&#233;</td><td><div class=\"dni-plaintext\">1</div></td></tr><tr><td>18</td><td>Alan Parker</td><td><div class=\"dni-plaintext\">1</div></td></tr><tr><td>19</td><td>Martin Brest</td><td><div class=\"dni-plaintext\">1</div></td></tr><tr><td colspan=\"3\">(60 more)</td></tr></tbody></table>"
      ]
     },
     "metadata": {},
     "output_type": "display_data"
    }
   ],
   "metadata": {
    "dotnet_interactive": {
     "language": "fsharp"
    }
   }
  },
  {
   "cell_type": "code",
   "execution_count": null,
   "source": [
    "open FSharp.Data\r\n",
    "type Package = HtmlProvider<\"NuGet.html\">\r\n",
    "\r\n",
    "let rowsFromLocal = Package.GetSample().Tables.``Version History``.Rows\r\n",
    "\r\n",
    "let nunit = Package.Load \"https://www.nuget.org/packages/NUnit/\"\r\n",
    "let ef = Package.Load \"https://www.nuget.org/packages/EntityFramework/\"\r\n",
    "let newtonsoft = Package.Load \"https://www.nuget.org/packages/Newtonsoft.Json/\"\r\n",
    "\r\n",
    "[ef; nunit; newtonsoft]\r\n",
    "|> Seq.collect (fun package -> package.Tables.``Version History``.Rows)"
   ],
   "outputs": [
    {
     "data": {
      "text/html": [
       "<table><thead><tr><th><i>index</i></th><th>Item1</th><th>Item2</th><th>Item3</th><th>Item4</th></tr></thead><tbody><tr><td>0</td><td>6.4.4</td><td><div class=\"dni-plaintext\">7545665</div></td><td>5/12/2020</td><td></td></tr><tr><td>1</td><td>6.4.0</td><td><div class=\"dni-plaintext\">6136936</div></td><td>12/3/2019</td><td></td></tr><tr><td>2</td><td>6.4.0-preview3-19553-01</td><td><div class=\"dni-plaintext\">39203</div></td><td>11/13/2019</td><td></td></tr><tr><td>3</td><td>6.4.0-preview2-19525-03</td><td><div class=\"dni-plaintext\">8996</div></td><td>11/1/2019</td><td></td></tr><tr><td>4</td><td>6.4.0-preview1-19506-01</td><td><div class=\"dni-plaintext\">22378</div></td><td>10/15/2019</td><td></td></tr><tr><td>5</td><td>6.3.0</td><td><div class=\"dni-plaintext\">5631188</div></td><td>9/23/2019</td><td></td></tr><tr><td>6</td><td>6.3.0-rc1-19458-04</td><td><div class=\"dni-plaintext\">5702</div></td><td>9/16/2019</td><td></td></tr><tr><td>7</td><td>6.3.0-preview9-19423-04</td><td><div class=\"dni-plaintext\">10887</div></td><td>9/4/2019</td><td></td></tr><tr><td>8</td><td>6.3.0-preview8-19405-04</td><td><div class=\"dni-plaintext\">20141</div></td><td>8/13/2019</td><td></td></tr><tr><td>9</td><td>6.3.0-preview7-19363-02</td><td><div class=\"dni-plaintext\">37712</div></td><td>7/23/2019</td><td></td></tr><tr><td>10</td><td>6.3.0-preview6-19304-03</td><td><div class=\"dni-plaintext\">38224</div></td><td>6/12/2019</td><td></td></tr><tr><td>11</td><td>6.3.0-preview5-19254-05</td><td><div class=\"dni-plaintext\">27119</div></td><td>5/7/2019</td><td></td></tr><tr><td>12</td><td>6.2.0</td><td><div class=\"dni-plaintext\">31011349</div></td><td>10/26/2017</td><td></td></tr><tr><td>13</td><td>6.2.0-beta1</td><td><div class=\"dni-plaintext\">217089</div></td><td>5/19/2017</td><td></td></tr><tr><td>14</td><td>6.1.3</td><td><div class=\"dni-plaintext\">40280480</div></td><td>3/10/2015</td><td></td></tr><tr><td>15</td><td>6.1.3-beta1</td><td><div class=\"dni-plaintext\">234783</div></td><td>2/11/2015</td><td></td></tr><tr><td>16</td><td>6.1.2</td><td><div class=\"dni-plaintext\">2857643</div></td><td>12/22/2014</td><td></td></tr><tr><td>17</td><td>6.1.2-beta2</td><td><div class=\"dni-plaintext\">76690</div></td><td>11/14/2014</td><td></td></tr><tr><td>18</td><td>6.1.2-beta1</td><td><div class=\"dni-plaintext\">154760</div></td><td>9/18/2014</td><td></td></tr><tr><td>19</td><td>6.1.1</td><td><div class=\"dni-plaintext\">5656169</div></td><td>6/20/2014</td><td></td></tr><tr><td colspan=\"5\">(120 more)</td></tr></tbody></table>"
      ]
     },
     "metadata": {},
     "output_type": "display_data"
    }
   ],
   "metadata": {
    "dotnet_interactive": {
     "language": "fsharp"
    }
   }
  },
  {
   "cell_type": "code",
   "execution_count": null,
   "source": [],
   "outputs": [],
   "metadata": {
    "dotnet_interactive": {
     "language": "fsharp"
    }
   }
  }
 ],
 "nbformat": 4,
 "nbformat_minor": 2
}