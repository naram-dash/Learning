{
 "metadata": {
  "kernelspec": {
   "display_name": ".NET (F#)",
   "language": "F#",
   "name": ".net-fsharp"
  },
  "language_info": {
   "name": "F#"
  }
 },
 "cells": [
  {
   "cell_type": "code",
   "execution_count": null,
   "source": [
    "type Disk = { SizeGb : int }\r\n",
    "type Computer =\r\n",
    "    { Manufacturer : string\r\n",
    "      Disks: Disk list }                      \r\n",
    "\r\n",
    "let myPc =\r\n",
    "    { Manufacturer = \"Computers Inc.\"\r\n",
    "      Disks =                                 \r\n",
    "        [ { SizeGb = 100 }\r\n",
    "          { SizeGb = 250 }\r\n",
    "          { SizeGb = 500 } ] }"
   ],
   "outputs": [],
   "metadata": {
    "dotnet_interactive": {
     "language": "fsharp"
    }
   }
  },
  {
   "cell_type": "code",
   "execution_count": null,
   "source": [
    "type Disk = \r\n",
    "| HardDisk of RPM: int * Platters: int\r\n",
    "| SolidState\r\n",
    "| MMC of NumberOfPins: int"
   ],
   "outputs": [],
   "metadata": {
    "dotnet_interactive": {
     "language": "fsharp"
    }
   }
  },
  {
   "cell_type": "code",
   "execution_count": null,
   "source": [
    "let myHardDisk = HardDisk(RPM = 250, Platters = 7)\r\n",
    "let myHardDiskShort = HardDisk(250, 7)\r\n",
    "let args = 250, 7\r\n",
    "let myHardDiskTupled = HardDisk args\r\n",
    "let myMMC = MMC 5\r\n",
    "let mySsd = SolidState"
   ],
   "outputs": [],
   "metadata": {
    "dotnet_interactive": {
     "language": "fsharp"
    }
   }
  },
  {
   "cell_type": "code",
   "execution_count": null,
   "source": [
    "let seek disk =\r\n",
    "    match disk with\r\n",
    "    | HardDisk _ -> \"Seeking loudly at a reasonable speed!\"        \r\n",
    "    | MMC _ -> \"Seeking quietly but slowly\"                        \r\n",
    "    | SolidState -> \"Already found it!\"\r\n",
    "\r\n",
    "seek mySsd                                                         "
   ],
   "outputs": [
    {
     "data": {
      "text/plain": [
       "Already found it!"
      ]
     },
     "metadata": {},
     "output_type": "display_data"
    }
   ],
   "metadata": {
    "dotnet_interactive": {
     "language": "fsharp"
    }
   }
  },
  {
   "cell_type": "code",
   "execution_count": null,
   "source": [
    "| HardDisk(5400, 5) -> \"Seeking very slowly!\"                           \r\n",
    "| HardDisk(rpm, 7) -> sprintf \"I have 7 spindles and RPM %d!\" rpm       \r\n",
    "| MMC 3 -> \"Seeking. I have 3 pins!\"                                    "
   ],
   "outputs": [],
   "metadata": {
    "dotnet_interactive": {
     "language": "fsharp"
    }
   }
  },
  {
   "cell_type": "code",
   "execution_count": null,
   "source": [
    "type MMCDisk =                                           \r\n",
    "| RsMmc\r\n",
    "| MmcPlus\r\n",
    "| SecureMMC\r\n",
    "\r\n",
    "type Disk =\r\n",
    "| MMC of MMCDisk * NumberOfPins:int                      \r\n",
    "\r\n",
    "match disk with\r\n",
    "| MMC(MmcPlus, 3) -> \"Seeking quietly but slowly\"        \r\n",
    "| MMC(SecureMMC, 6) -> \"Seeking quietly with 6 pins.\""
   ],
   "outputs": [
    {
     "output_type": "error",
     "ename": "Error",
     "evalue": "input.fsx (9,7)-(9,11) typecheck error 'disk' 값 또는 생성자가 정의되지 않았습니다. 다음 중 하나가 필요할 수 있습니다:\r\n   Disk\r\n   display\ninput.fsx (9,7)-(9,11) typecheck warning 이 식의 패턴 일치가 완전하지 않습니다. 예를 들어, 값 'MMC (_, 0)'은(는) 패턴에 포함되지 않은 케이스를 나타낼 수 있습니다.",
     "traceback": [
      "input.fsx (9,7)-(9,11) typecheck error 'disk' 값 또는 생성자가 정의되지 않았습니다. 다음 중 하나가 필요할 수 있습니다:\r\n",
      "   Disk\r\n",
      "   display\n",
      "input.fsx (9,7)-(9,11) typecheck warning 이 식의 패턴 일치가 완전하지 않습니다. 예를 들어, 값 'MMC (_, 0)'은(는) 패턴에 포함되지 않은 케이스를 나타낼 수 있습니다."
     ]
    }
   ],
   "metadata": {
    "dotnet_interactive": {
     "language": "fsharp"
    }
   }
  },
  {
   "cell_type": "code",
   "execution_count": null,
   "source": [
    "type DiskInfo =\r\n",
    "    { Manufacturer : string                                             \r\n",
    "      SizeGb : int\r\n",
    "      DiskData : Disk }                                                 \r\n",
    "type Computer = { Manufacturer : string;  Disks : DiskInfo list }       \r\n",
    "let myPc =\r\n",
    "    { Manufacturer = \"Computers Inc.\"\r\n",
    "      Disks =\r\n",
    "        [ { Manufacturer = \"HardDisks Inc.\"                             \r\n",
    "            SizeGb = 100\r\n",
    "            DiskData = HardDisk(5400, 7) }                              \r\n",
    "          { Manufacturer = \"SuperDisks Corp.\"\r\n",
    "            SizeGb = 250\r\n",
    "            DiskData = SolidState } ] }"
   ],
   "outputs": [],
   "metadata": {
    "dotnet_interactive": {
     "language": "fsharp"
    }
   }
  },
  {
   "cell_type": "code",
   "execution_count": null,
   "source": [
    "type Printer = \r\n",
    "| Inkjet = 'c'\r\n",
    "| Laserjet = 'b'\r\n",
    "| DotMatrix = 'd'"
   ],
   "outputs": [],
   "metadata": {
    "dotnet_interactive": {
     "language": "fsharp"
    }
   }
  }
 ],
 "nbformat": 4,
 "nbformat_minor": 2
}