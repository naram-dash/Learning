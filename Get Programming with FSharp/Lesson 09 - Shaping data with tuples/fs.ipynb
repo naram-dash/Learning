{
 "metadata": {
  "kernelspec": {
   "display_name": ".NET (F#)",
   "language": "F#",
   "name": ".net-fsharp"
  },
  "language_info": {
   "name": "F#"
  }
 },
 "cells": [
  {
   "cell_type": "code",
   "execution_count": null,
   "source": [
    "public ??? ParseName(string name) {\r\n",
    "    var parts = name.Split(' ');\r\n",
    "    var forename = parts[0];\r\n",
    "    var surname = parts[1];\r\n",
    "    return ???; }"
   ],
   "outputs": [],
   "metadata": {
    "dotnet_interactive": {
     "language": "csharp"
    }
   }
  },
  {
   "cell_type": "code",
   "execution_count": null,
   "source": [
    "public Tuple<string, string> ParseName(string name) {\r\n",
    "    string[] parts = name.Split(' ');\r\n",
    "    string forename = parts[0];\r\n",
    "    string surname = parts[1];\r\n",
    "    return Tuple.Create(forename, surname); }\r\n",
    "\r\n",
    "Tuple<string, string> name = ParseName(\"Isaac Abraham\");   \r\n",
    "string forename = name.Item1;                              \r\n",
    "string surname = name.Item2;"
   ],
   "outputs": [],
   "metadata": {
    "dotnet_interactive": {
     "language": "csharp"
    }
   }
  },
  {
   "cell_type": "code",
   "execution_count": null,
   "source": [
    "let parseName(name:string) =\r\n",
    "    let parts = name.Split(' ')\r\n",
    "    let forename = parts.[0]\r\n",
    "    let surname = parts.[1]\r\n",
    "    forename, surname                            \r\n",
    "let name = parseName(\"Isaac Abraham\")            \r\n",
    "let forename, surname = name                     \r\n",
    "let fname, sname = parseName(\"Isaac Abraham\")    "
   ],
   "outputs": [],
   "metadata": {
    "dotnet_interactive": {
     "language": "fsharp"
    }
   }
  },
  {
   "cell_type": "code",
   "execution_count": null,
   "source": [
    "// nested tuple\r\n",
    "let nameAndAge = (\"Joe\", \"Bloggs\"), 28         \r\n",
    "let name, age = nameAndAge                     \r\n",
    "let (forename, surname), theAge = nameAndAge   "
   ],
   "outputs": [],
   "metadata": {
    "dotnet_interactive": {
     "language": "fsharp"
    }
   }
  },
  {
   "cell_type": "code",
   "execution_count": null,
   "source": [
    "let nameAndAge = \"Jane\", \"Smith\", 25\r\n",
    "let forename, surname, _ = nameAndAge  // Discarding the third element of the tuple"
   ],
   "outputs": [],
   "metadata": {
    "dotnet_interactive": {
     "language": "fsharp"
    }
   }
  },
  {
   "cell_type": "code",
   "execution_count": null,
   "source": [
    "let explicit : int * int = 10, 5     \r\n",
    "let implicit = 10,5                  \r\n",
    "\r\n",
    "let addNumbers arguments =           \r\n",
    "    let a, b = arguments\r\n",
    "    a + b"
   ],
   "outputs": [],
   "metadata": {
    "dotnet_interactive": {
     "language": "fsharp"
    }
   }
  },
  {
   "cell_type": "code",
   "execution_count": null,
   "source": [
    "let addNumbers arguments =\r\n",
    "    let a, b, c, _ = arguments      \r\n",
    "    a + b"
   ],
   "outputs": [],
   "metadata": {
    "dotnet_interactive": {
     "language": "fsharp"
    }
   }
  },
  {
   "cell_type": "code",
   "execution_count": null,
   "source": [
    "var number = \"123\";\r\n",
    "var result = 0;                                      \r\n",
    "var parsed = Int32.TryParse(number, out result);     "
   ],
   "outputs": [],
   "metadata": {
    "dotnet_interactive": {
     "language": "csharp"
    }
   }
  },
  {
   "cell_type": "code",
   "execution_count": null,
   "source": [
    "let number = \"123\"\r\n",
    "let result, parsed = Int32.TryParse(number);          \r\n",
    "// out variable을 return 값 옆에 붙여서 tuple로 만듬"
   ],
   "outputs": [],
   "metadata": {
    "dotnet_interactive": {
     "language": "fsharp"
    }
   }
  },
  {
   "cell_type": "code",
   "execution_count": null,
   "source": [
    "let a, b = getData()                         // poor naming\r\n",
    "let a, b = getBankDetails()                  // improved naming\r\n",
    "let a, b = getSortCodeAndAccountNumber()     // better naming"
   ],
   "outputs": [],
   "metadata": {
    "dotnet_interactive": {
     "language": "fsharp"
    }
   }
  }
 ],
 "nbformat": 4,
 "nbformat_minor": 2
}