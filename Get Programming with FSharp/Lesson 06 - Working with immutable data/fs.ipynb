{
 "metadata": {
  "kernelspec": {
   "display_name": ".NET (F#)",
   "language": "F#",
   "name": ".net-fsharp"
  },
  "language_info": {
   "name": "F#"
  }
 },
 "cells": [
  {
   "cell_type": "code",
   "execution_count": null,
   "source": [
    "let name = \"isaac\"        \r\n",
    "name = \"kate\"       \r\n",
    "// 이때 = 는 bool 연산이다      "
   ],
   "outputs": [
    {
     "output_type": "display_data",
     "data": {
      "text/html": [
       "<div class=\"dni-plaintext\">False</div>"
      ]
     },
     "metadata": {}
    }
   ],
   "metadata": {
    "dotnet_interactive": {
     "language": "fsharp"
    }
   }
  },
  {
   "cell_type": "code",
   "execution_count": null,
   "source": [
    "name <- \"kate\""
   ],
   "outputs": [
    {
     "output_type": "error",
     "ename": "Error",
     "evalue": "input.fsx (1,1)-(1,15) typecheck error 이 값은 변경할 수 없습니다. 변경 가능한 키워드(예: 'let mutable name = expression')를 사용하세요.",
     "traceback": [
      "input.fsx (1,1)-(1,15) typecheck error 이 값은 변경할 수 없습니다. 변경 가능한 키워드(예: 'let mutable name = expression')를 사용하세요."
     ]
    }
   ],
   "metadata": {
    "dotnet_interactive": {
     "language": "fsharp"
    }
   }
  },
  {
   "cell_type": "code",
   "execution_count": null,
   "source": [
    "let mutable name = \"isaac\"      \r\n",
    "name <- \"kate\"                  "
   ],
   "outputs": [],
   "metadata": {
    "dotnet_interactive": {
     "language": "fsharp"
    }
   }
  },
  {
   "cell_type": "code",
   "execution_count": null,
   "source": [
    "open System.Windows.Forms\r\n",
    "let form = new Form()           \r\n",
    "form.Show()\r\n",
    "form.Width <- 400               \r\n",
    "form.Height <- 400\r\n",
    "form.Text <- \"Hello from F#!\""
   ],
   "outputs": [],
   "metadata": {
    "dotnet_interactive": {
     "language": "fsharp"
    }
   }
  },
  {
   "cell_type": "code",
   "execution_count": null,
   "source": [
    "open System.Windows.Forms\r\n",
    "let form = new Form(Text = \"Hello from F#!\", Width = 300, Height = 300) \r\n",
    "form.Show()"
   ],
   "outputs": [],
   "metadata": {
    "dotnet_interactive": {
     "language": "fsharp"
    }
   }
  },
  {
   "cell_type": "code",
   "execution_count": null,
   "source": [
    "let mutable petrol = 100.0                                 \r\n",
    "\r\n",
    "let drive(distance) =                                      \r\n",
    "    if distance = \"far\" then petrol <- petrol / 2.0\r\n",
    "    elif distance = \"medium\" then petrol <- petrol - 10.0\r\n",
    "    else petrol <- petrol - 1.0\r\n",
    "\r\n",
    "drive(\"far\")                                               \r\n",
    "drive(\"medium\")\r\n",
    "drive(\"short\")\r\n",
    "\r\n",
    "petrol                                                     "
   ],
   "outputs": [
    {
     "output_type": "display_data",
     "data": {
      "text/html": [
       "<div class=\"dni-plaintext\">39</div>"
      ]
     },
     "metadata": {}
    }
   ],
   "metadata": {
    "dotnet_interactive": {
     "language": "fsharp"
    }
   }
  },
  {
   "cell_type": "code",
   "execution_count": null,
   "source": [
    "let drive(petrol, distance) =                   \r\n",
    "    if distance = \"far\" then petrol / 2.0\r\n",
    "    elif distance = \"medium\" then petrol - 10.0\r\n",
    "    else petrol - 1.0\r\n",
    "\r\n",
    "let petrol = 100.0                              \r\n",
    "let firstState = drive(petrol, \"far\")           \r\n",
    "let secondState = drive(firstState, \"medium\")\r\n",
    "let finalState = drive(secondState, \"short\")    "
   ],
   "outputs": [],
   "metadata": {
    "dotnet_interactive": {
     "language": "fsharp"
    }
   }
  }
 ],
 "nbformat": 4,
 "nbformat_minor": 2
}