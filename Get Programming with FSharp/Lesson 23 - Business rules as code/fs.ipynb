{
 "metadata": {
  "kernelspec": {
   "display_name": ".NET (F#)",
   "language": "F#",
   "name": ".net-fsharp"
  },
  "language_info": {
   "name": "F#"
  }
 },
 "cells": [
  {
   "cell_type": "code",
   "execution_count": null,
   "source": [
    "type Customer =\r\n",
    "    { CustomerId : string\r\n",
    "      Email : string            \r\n",
    "      Telephone : string\r\n",
    "      Address : string }"
   ],
   "outputs": [],
   "metadata": {
    "dotnet_interactive": {
     "language": "fsharp"
    }
   }
  },
  {
   "cell_type": "code",
   "execution_count": null,
   "source": [
    "let createCustomer customerId email telephone address =\r\n",
    "    { CustomerId = telephone\r\n",
    "      Email = customerId\r\n",
    "      Telephone = address\r\n",
    "      Address = email }\r\n",
    "let customer =\r\n",
    "    createCustomer \"C-123\" \"nicki@myemail.com\" \"029-293-23\" \"1 The Street\""
   ],
   "outputs": [],
   "metadata": {
    "dotnet_interactive": {
     "language": "fsharp"
    }
   }
  },
  {
   "cell_type": "code",
   "execution_count": null,
   "source": [
    "type Address = Address of string\r\n",
    "let myAddress = Address \"1 The Street\"               \r\n",
    "// let isTheSameAddress = (myAddress = \"1 The Street\")  \r\n",
    "let (Address addressData) = myAddress                "
   ],
   "outputs": [],
   "metadata": {
    "dotnet_interactive": {
     "language": "fsharp"
    }
   }
  },
  {
   "cell_type": "code",
   "execution_count": null,
   "source": [
    "type CustomerId = CustomerId of string    \r\n",
    "type Email = Email of string\r\n",
    "type Telephone = Telephone of string\r\n",
    "type Address = Address of string\r\n",
    "type Customer =\r\n",
    "    { CustomerId : CustomerId\r\n",
    "      Email : Email                       \r\n",
    "      Telephone : Telephone\r\n",
    "      Address : Address }"
   ],
   "outputs": [],
   "metadata": {
    "dotnet_interactive": {
     "language": "fsharp"
    }
   }
  },
  {
   "cell_type": "code",
   "execution_count": null,
   "source": [
    "type ContactDetails =\r\n",
    "| Address of string\r\n",
    "| Telephone of string\r\n",
    "| Email of string"
   ],
   "outputs": [],
   "metadata": {
    "dotnet_interactive": {
     "language": "fsharp"
    }
   }
  },
  {
   "cell_type": "code",
   "execution_count": null,
   "source": [
    "type Customer = { \r\n",
    "    CustomerId : CustomerId\r\n",
    "    PrimaryContactDetails : ContactDetails\r\n",
    "    SecondaryContactDetails : ContactDetails option }"
   ],
   "outputs": [],
   "metadata": {
    "dotnet_interactive": {
     "language": "fsharp"
    }
   }
  },
  {
   "cell_type": "code",
   "execution_count": null,
   "source": [
    "type GenuineCustomer = GenuineCustomer of Customer     "
   ],
   "outputs": [],
   "metadata": {
    "dotnet_interactive": {
     "language": "fsharp"
    }
   }
  },
  {
   "cell_type": "code",
   "execution_count": null,
   "source": [
    "let validateCustomer customer =\r\n",
    "    match customer.PrimaryContactDetails with\r\n",
    "    | Email e when e.EndsWith \"SuperCorp.com\" -> Some(GenuineCustomer customer)\r\n",
    "    | Address _ | Telephone _ -> Some(GenuineCustomer customer)        \r\n",
    "    | Email _ -> None\r\n",
    "let sendWelcomeEmail (GenuineCustomer customer) =                      \r\n",
    "    printfn \"Hello, %A, and welcome to our site!\" customer.CustomerId"
   ],
   "outputs": [],
   "metadata": {
    "dotnet_interactive": {
     "language": "fsharp"
    }
   }
  },
  {
   "cell_type": "code",
   "execution_count": null,
   "source": [],
   "outputs": [
    {
     "output_type": "error",
     "ename": "Error",
     "evalue": "input.fsx (4,6)-(4,12) typecheck error 형식, 예외 또는 모듈입니다. 'Person'의 정의가 중복되었습니다.\ninput.fsx (5,6)-(5,12) typecheck error 형식, 예외 또는 모듈입니다. 'Person'의 정의가 중복되었습니다.",
     "traceback": [
      "input.fsx (4,6)-(4,12) typecheck error 형식, 예외 또는 모듈입니다. 'Person'의 정의가 중복되었습니다.\n",
      "input.fsx (5,6)-(5,12) typecheck error 형식, 예외 또는 모듈입니다. 'Person'의 정의가 중복되었습니다."
     ]
    }
   ],
   "metadata": {
    "dotnet_interactive": {
     "language": "fsharp"
    }
   }
  },
  {
   "cell_type": "code",
   "execution_count": null,
   "source": [
    "module Number = \r\n",
    "    type Number3Or4 = private Number3Or4 of int\r\n",
    "\r\n",
    "    let createNumber1Or2 n =\r\n",
    "        if n = 3 || n = 4 then\r\n",
    "            Some (Number3Or4 n)\r\n",
    "        else\r\n",
    "            None\r\n",
    "\r\n",
    "\r\n",
    "let passing = Number3Or4 4"
   ],
   "outputs": [
    {
     "output_type": "error",
     "ename": "Error",
     "evalue": "input.fsx (11,15)-(11,25) typecheck error 'Number3Or4' 값 또는 생성자가 정의되지 않았습니다. 다음 중 하나가 필요할 수 있습니다:\r\n   Number1Or2\r\n   Number",
     "traceback": [
      "input.fsx (11,15)-(11,25) typecheck error 'Number3Or4' 값 또는 생성자가 정의되지 않았습니다. 다음 중 하나가 필요할 수 있습니다:\r\n",
      "   Number1Or2\r\n",
      "   Number"
     ]
    }
   ],
   "metadata": {
    "dotnet_interactive": {
     "language": "fsharp"
    }
   }
  },
  {
   "cell_type": "code",
   "execution_count": null,
   "source": [
    "type Result<'a> =                                                     \r\n",
    "| Success of 'a\r\n",
    "| Failure of string"
   ],
   "outputs": [],
   "metadata": {
    "dotnet_interactive": {
     "language": "fsharp"
    }
   }
  },
  {
   "cell_type": "code",
   "execution_count": null,
   "source": [
    "// insertCustomer : contactDetails:ContactDetails -> Result<CustomerId>  \r\n",
    "\r\n",
    "// match insertContact (Email \"nicki@myemail.com\") with                  \r\n",
    "// | Success customerId -> printfn \"Saved with %A\" customerId\r\n",
    "// | Failure error -> printfn \"Unable to save: %s\" error"
   ],
   "outputs": [],
   "metadata": {
    "dotnet_interactive": {
     "language": "fsharp"
    }
   }
  }
 ],
 "nbformat": 4,
 "nbformat_minor": 2
}