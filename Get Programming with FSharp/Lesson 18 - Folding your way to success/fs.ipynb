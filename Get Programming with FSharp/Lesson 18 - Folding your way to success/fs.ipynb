{
 "metadata": {
  "kernelspec": {
   "display_name": ".NET (F#)",
   "language": "F#",
   "name": ".net-fsharp"
  },
  "language_info": {
   "name": "F#"
  }
 },
 "cells": [
  {
   "cell_type": "code",
   "execution_count": null,
   "source": [
    "type Sum       = int   seq -> int        \r\n",
    "type Average   = float seq -> float\r\n",
    "type Count<'T> = 'T    seq -> int\r\n",
    "\r\n",
    "// 함수 타입 선언"
   ],
   "outputs": [],
   "metadata": {
    "dotnet_interactive": {
     "language": "fsharp"
    }
   }
  },
  {
   "cell_type": "code",
   "execution_count": null,
   "source": [
    "// Imperative implementation of sum\r\n",
    "let sum inputs =\r\n",
    "    let mutable accumulator = 0           \r\n",
    "    for input in inputs do                \r\n",
    "        accumulator <- accumulator + input\r\n",
    "    accumulator                           "
   ],
   "outputs": [],
   "metadata": {
    "dotnet_interactive": {
     "language": "fsharp"
    }
   }
  },
  {
   "cell_type": "code",
   "execution_count": null,
   "source": [
    "let sum inputs =\r\n",
    "    Seq.fold\r\n",
    "        (fun state input -> state + input)\r\n",
    "        0                                 \r\n",
    "        inputs                            "
   ],
   "outputs": [],
   "metadata": {
    "dotnet_interactive": {
     "language": "fsharp"
    }
   }
  },
  {
   "cell_type": "code",
   "execution_count": null,
   "source": [
    "let sum inputs =\r\n",
    "    Seq.fold\r\n",
    "        (fun state input ->\r\n",
    "            let newState = state + input           \r\n",
    "            printfn\r\n",
    "                \"Current state is %d, input is %d, new state value is %d\"\r\n",
    "                state\r\n",
    "                input\r\n",
    "                newState                         \r\n",
    "            newState)                            \r\n",
    "        0\r\n",
    "        Inputs\r\n",
    "sum [ 1 .. 5 ]"
   ],
   "outputs": [
    {
     "output_type": "error",
     "ename": "Error",
     "evalue": "input.fsx (12,9)-(12,15) typecheck error 'Inputs' 값 또는 생성자가 정의되지 않았습니다. 다음 중 하나가 필요할 수 있습니다:\r\n   inputs\r\n   int8\r\n   int",
     "traceback": [
      "input.fsx (12,9)-(12,15) typecheck error 'Inputs' 값 또는 생성자가 정의되지 않았습니다. 다음 중 하나가 필요할 수 있습니다:\r\n",
      "   inputs\r\n",
      "   int8\r\n",
      "   int"
     ]
    }
   ],
   "metadata": {
    "dotnet_interactive": {
     "language": "fsharp"
    }
   }
  },
  {
   "cell_type": "code",
   "execution_count": null,
   "source": [
    "Seq.fold (fun state input -> state + input) 0 inputs\r\n",
    "inputs |> Seq.fold (fun state input -> state + input) 0       \r\n",
    "(0, inputs) ||> Seq.fold (fun state input -> state + input)   "
   ],
   "outputs": [
    {
     "output_type": "error",
     "ename": "Error",
     "evalue": "input.fsx (1,47)-(1,53) typecheck error 'inputs' 값 또는 생성자가 정의되지 않았습니다. 다음 중 하나가 필요할 수 있습니다:\r\n   int8\r\n   int\ninput.fsx (2,1)-(2,7) typecheck error 'inputs' 값 또는 생성자가 정의되지 않았습니다. 다음 중 하나가 필요할 수 있습니다:\r\n   int8\r\n   int\ninput.fsx (3,5)-(3,11) typecheck error 'inputs' 값 또는 생성자가 정의되지 않았습니다. 다음 중 하나가 필요할 수 있습니다:\r\n   int8\r\n   int",
     "traceback": [
      "input.fsx (1,47)-(1,53) typecheck error 'inputs' 값 또는 생성자가 정의되지 않았습니다. 다음 중 하나가 필요할 수 있습니다:\r\n",
      "   int8\r\n",
      "   int\n",
      "input.fsx (2,1)-(2,7) typecheck error 'inputs' 값 또는 생성자가 정의되지 않았습니다. 다음 중 하나가 필요할 수 있습니다:\r\n",
      "   int8\r\n",
      "   int\n",
      "input.fsx (3,5)-(3,11) typecheck error 'inputs' 값 또는 생성자가 정의되지 않았습니다. 다음 중 하나가 필요할 수 있습니다:\r\n",
      "   int8\r\n",
      "   int"
     ]
    }
   ],
   "metadata": {
    "dotnet_interactive": {
     "language": "fsharp"
    }
   }
  },
  {
   "cell_type": "code",
   "execution_count": null,
   "source": [
    "(0, [1;2;3]) ||> List.fold (fun state input -> state + input)   "
   ],
   "outputs": [
    {
     "data": {
      "text/html": [
       "<div class=\"dni-plaintext\">6</div>"
      ]
     },
     "metadata": {},
     "output_type": "display_data"
    }
   ],
   "metadata": {
    "dotnet_interactive": {
     "language": "fsharp"
    }
   }
  },
  {
   "cell_type": "code",
   "execution_count": null,
   "source": [
    "open System.IO\r\n",
    "let mutable totalChars = 0                              \r\n",
    "let sr = new StreamReader(File.OpenRead \"book.txt\")     \r\n",
    "\r\n",
    "while (not sr.EndOfStream) do                           \r\n",
    "    let line = sr.ReadLine()\r\n",
    "    totalChars <- totalChars + line.ToCharArray().Length"
   ],
   "outputs": [
    {
     "output_type": "error",
     "ename": "Error",
     "evalue": "System.IO.FileNotFoundException: Could not find file 'e:\\Projects\\learning\\Get Programming with FSharp\\Lesson 18 - Folding your way to success\\book.txt'.\r\nFile name: 'e:\\Projects\\learning\\Get Programming with FSharp\\Lesson 18 - Folding your way to success\\book.txt'\r\n   at System.IO.FileStream.ValidateFileHandle(SafeFileHandle fileHandle)\r\n   at System.IO.FileStream.CreateFileOpenHandle(FileMode mode, FileShare share, FileOptions options)\r\n   at System.IO.FileStream..ctor(String path, FileMode mode, FileAccess access, FileShare share, Int32 bufferSize, FileOptions options)\r\n   at <StartupCode$FSI_0014>.$FSI_0014.main@()",
     "traceback": [
      "System.IO.FileNotFoundException: Could not find file 'e:\\Projects\\learning\\Get Programming with FSharp\\Lesson 18 - Folding your way to success\\book.txt'.\r\n",
      "File name: 'e:\\Projects\\learning\\Get Programming with FSharp\\Lesson 18 - Folding your way to success\\book.txt'\r\n",
      "   at System.IO.FileStream.ValidateFileHandle(SafeFileHandle fileHandle)\r\n",
      "   at System.IO.FileStream.CreateFileOpenHandle(FileMode mode, FileShare share, FileOptions options)\r\n",
      "   at System.IO.FileStream..ctor(String path, FileMode mode, FileAccess access, FileShare share, Int32 bufferSize, FileOptions options)\r\n",
      "   at <StartupCode$FSI_0014>.$FSI_0014.main@()"
     ]
    }
   ],
   "metadata": {
    "dotnet_interactive": {
     "language": "fsharp"
    }
   }
  },
  {
   "cell_type": "code",
   "execution_count": null,
   "source": [
    "open System.IO\r\n",
    "let lines : string seq =\r\n",
    "    seq {                                                        \r\n",
    "        use sr = new StreamReader(File.OpenRead @\"book.txt\")\r\n",
    "        while (not sr.EndOfStream) do\r\n",
    "            yield sr.ReadLine() }                                \r\n",
    "(0, lines) ||> Seq.fold(fun total line -> total + line.Length)   "
   ],
   "outputs": [
    {
     "output_type": "error",
     "ename": "Error",
     "evalue": "System.IO.FileNotFoundException: Could not find file 'e:\\Projects\\learning\\Get Programming with FSharp\\Lesson 18 - Folding your way to success\\book.txt'.\r\nFile name: 'e:\\Projects\\learning\\Get Programming with FSharp\\Lesson 18 - Folding your way to success\\book.txt'\r\n   at System.IO.FileStream.ValidateFileHandle(SafeFileHandle fileHandle)\r\n   at System.IO.FileStream.CreateFileOpenHandle(FileMode mode, FileShare share, FileOptions options)\r\n   at System.IO.FileStream..ctor(String path, FileMode mode, FileAccess access, FileShare share, Int32 bufferSize, FileOptions options)\r\n   at FSI_0015.lines@4.GenerateNext(IEnumerable`1& next)\r\n   at Microsoft.FSharp.Core.CompilerServices.GeneratedSequenceBase`1.MoveNextImpl() in D:\\workspace\\_work\\1\\s\\src\\fsharp\\FSharp.Core\\seqcore.fs:line 372\r\n   at Microsoft.FSharp.Collections.SeqModule.Fold[T,TState](FSharpFunc`2 folder, TState state, IEnumerable`1 source) in D:\\workspace\\_work\\1\\s\\src\\fsharp\\FSharp.Core\\seq.fs:line 729\r\n   at <StartupCode$FSI_0015>.$FSI_0015.main@()",
     "traceback": [
      "System.IO.FileNotFoundException: Could not find file 'e:\\Projects\\learning\\Get Programming with FSharp\\Lesson 18 - Folding your way to success\\book.txt'.\r\n",
      "File name: 'e:\\Projects\\learning\\Get Programming with FSharp\\Lesson 18 - Folding your way to success\\book.txt'\r\n",
      "   at System.IO.FileStream.ValidateFileHandle(SafeFileHandle fileHandle)\r\n",
      "   at System.IO.FileStream.CreateFileOpenHandle(FileMode mode, FileShare share, FileOptions options)\r\n",
      "   at System.IO.FileStream..ctor(String path, FileMode mode, FileAccess access, FileShare share, Int32 bufferSize, FileOptions options)\r\n",
      "   at FSI_0015.lines@4.GenerateNext(IEnumerable`1& next)\r\n",
      "   at Microsoft.FSharp.Core.CompilerServices.GeneratedSequenceBase`1.MoveNextImpl() in D:\\workspace\\_work\\1\\s\\src\\fsharp\\FSharp.Core\\seqcore.fs:line 372\r\n",
      "   at Microsoft.FSharp.Collections.SeqModule.Fold[T,TState](FSharpFunc`2 folder, TState state, IEnumerable`1 source) in D:\\workspace\\_work\\1\\s\\src\\fsharp\\FSharp.Core\\seq.fs:line 729\r\n",
      "   at <StartupCode$FSI_0015>.$FSI_0015.main@()"
     ]
    }
   ],
   "metadata": {
    "dotnet_interactive": {
     "language": "fsharp"
    }
   }
  },
  {
   "cell_type": "code",
   "execution_count": null,
   "source": [
    "open System\r\n",
    "type Rule = string -> bool * string\r\n",
    "\r\n",
    "let rules : Rule list =                                                \r\n",
    "    [ fun text -> (text.Split ' ').Length = 3, \"Must be three words\"   \r\n",
    "      fun text -> text.Length <= 30, \"Max length is 30 characters\"\r\n",
    "      fun text -> text\r\n",
    "                  |> Seq.filter Char.IsLetter\r\n",
    "                  |> Seq.forall Char.IsUpper, \"All letters must be caps\" ]"
   ],
   "outputs": [],
   "metadata": {
    "dotnet_interactive": {
     "language": "fsharp"
    }
   }
  },
  {
   "cell_type": "code",
   "execution_count": null,
   "source": [
    "let validateManual (rules: Rule list) word =\r\n",
    "    let passed, error = rules.[0] word             \r\n",
    "    if not passed then false, error                \r\n",
    "    else\r\n",
    "        let passed, error = rules.[1] word         \r\n",
    "        if not passed then false, error\r\n",
    "        else\r\n",
    "            let passed, error = rules.[2] word\r\n",
    "            if not passed then false, error\r\n",
    "            else true, \"\""
   ],
   "outputs": [],
   "metadata": {
    "dotnet_interactive": {
     "language": "fsharp"
    }
   }
  },
  {
   "cell_type": "code",
   "execution_count": null,
   "source": [
    "let buildValidator (rules : Rule list) =\r\n",
    "    rules\r\n",
    "    |> List.reduce(fun firstRule secondRule ->\r\n",
    "        fun word ->                                    \r\n",
    "            let passed, error = firstRule word         \r\n",
    "            if passed then                             \r\n",
    "                let passed, error = secondRule word\r\n",
    "                if passed then true, \"\" else false, error\r\n",
    "            else false, error)                         \r\n",
    "\r\n",
    "let validate = buildValidator rules\r\n",
    "let word = \"HELLO FrOM F#\"\r\n",
    "\r\n",
    "validate word\r\n",
    "\r\n",
    "// val it : bool * string = (false, \"All letters must be caps\")"
   ],
   "outputs": [
    {
     "data": {
      "text/html": [
       "<table><thead><tr><th>Item1</th><th>Item2</th></tr></thead><tbody><tr><td><div class=\"dni-plaintext\">False</div></td><td><div class=\"dni-plaintext\">All letters must be caps</div></td></tr></tbody></table>"
      ]
     },
     "metadata": {},
     "output_type": "display_data"
    }
   ],
   "metadata": {
    "dotnet_interactive": {
     "language": "fsharp"
    }
   }
  }
 ],
 "nbformat": 4,
 "nbformat_minor": 2
}