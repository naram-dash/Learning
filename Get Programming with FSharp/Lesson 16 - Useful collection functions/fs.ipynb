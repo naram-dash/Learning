{
 "metadata": {
  "kernelspec": {
   "display_name": ".NET (F#)",
   "language": "F#",
   "name": ".net-fsharp"
  },
  "language_info": {
   "name": "F#"
  }
 },
 "cells": [
  {
   "cell_type": "code",
   "execution_count": null,
   "source": [
    "let numbers = [ 1 .. 10 ]                             \r\n",
    "let timesTwo n = n * 2                                \r\n",
    "\r\n",
    "let outputImperative = ResizeArray()                  \r\n",
    "for number in numbers do\r\n",
    "    outputImperative.Add (number |> timesTwo)\r\n",
    "\r\n",
    "let outputFunctional = numbers |> List.map timesTwo   "
   ],
   "outputs": [],
   "metadata": {
    "dotnet_interactive": {
     "language": "fsharp"
    }
   }
  },
  {
   "cell_type": "code",
   "execution_count": null,
   "source": [
    "type Order = { OrderId : int }\r\n",
    "type Customer = { CustomerId : int; Orders : Order list; Town: string }\r\n",
    "let customers : Customer list = []\r\n",
    "let orders : Order list = customers |> List.collect(fun c -> c.Orders)   "
   ],
   "outputs": [],
   "metadata": {
    "dotnet_interactive": {
     "language": "fsharp"
    }
   }
  },
  {
   "cell_type": "code",
   "execution_count": null,
   "source": [
    "open System\r\n",
    "[ DateTime(2010,5,1)\r\n",
    "  DateTime(2010,6,1)\r\n",
    "  DateTime(2010,6,12)\r\n",
    "  DateTime(2010,7,3) ]                     \r\n",
    "|> List.pairwise                           \r\n",
    "|> List.map(fun (a, b) -> b - a)           \r\n",
    "|> List.map(fun time -> time.TotalDays)    "
   ],
   "outputs": [
    {
     "output_type": "display_data",
     "data": {
      "text/html": [
       "<table><thead><tr><th><i>index</i></th><th>value</th></tr></thead><tbody><tr><td>0</td><td><div class=\"dni-plaintext\">31</div></td></tr><tr><td>1</td><td><div class=\"dni-plaintext\">11</div></td></tr><tr><td>2</td><td><div class=\"dni-plaintext\">21</div></td></tr></tbody></table>"
      ]
     },
     "metadata": {}
    }
   ],
   "metadata": {
    "dotnet_interactive": {
     "language": "fsharp"
    }
   }
  },
  {
   "cell_type": "code",
   "execution_count": null,
   "source": [
    "let londonCustomers, otherCustomers =                               \r\n",
    "    customers |> List.partition(fun c -> c.Town = \"London\")         "
   ],
   "outputs": [],
   "metadata": {
    "dotnet_interactive": {
     "language": "fsharp"
    }
   }
  },
  {
   "cell_type": "code",
   "execution_count": null,
   "source": [
    "let numbers = [ 1.0 .. 10.0 ]               \r\n",
    "let total = numbers |> List.sum             \r\n",
    "let average = numbers |> List.average\r\n",
    "let max = numbers |> List.max\r\n",
    "let min = numbers |> List.min"
   ],
   "outputs": [],
   "metadata": {
    "dotnet_interactive": {
     "language": "fsharp"
    }
   }
  },
  {
   "cell_type": "code",
   "execution_count": null,
   "source": [
    "let numberOne =\r\n",
    "    [ 1 .. 5 ]             \r\n",
    "    |> List.toArray        \r\n",
    "    |> Seq.ofArray         \r\n",
    "    |> Seq.head"
   ],
   "outputs": [],
   "metadata": {
    "dotnet_interactive": {
     "language": "fsharp"
    }
   }
  }
 ],
 "nbformat": 4,
 "nbformat_minor": 2
}